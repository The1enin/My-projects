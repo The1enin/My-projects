{
  "metadata": {
    "kernelspec": {
      "name": "python",
      "display_name": "Python (Pyodide)",
      "language": "python"
    },
    "language_info": {
      "codemirror_mode": {
        "name": "python",
        "version": 3
      },
      "file_extension": ".py",
      "mimetype": "text/x-python",
      "name": "python",
      "nbconvert_exporter": "python",
      "pygments_lexer": "ipython3",
      "version": "3.8"
    },
    "ExecuteTimeLog": [
      {
        "duration": 336,
        "start_time": "2023-12-11T08:09:08.967Z"
      },
      {
        "duration": 110,
        "start_time": "2023-12-11T08:10:48.515Z"
      },
      {
        "duration": 42,
        "start_time": "2023-12-11T08:11:32.613Z"
      },
      {
        "duration": 124,
        "start_time": "2023-12-11T08:16:33.219Z"
      },
      {
        "duration": 22,
        "start_time": "2023-12-11T08:16:42.782Z"
      },
      {
        "duration": 11,
        "start_time": "2023-12-11T08:16:49.729Z"
      },
      {
        "duration": 14,
        "start_time": "2023-12-11T08:16:54.067Z"
      },
      {
        "duration": 24,
        "start_time": "2023-12-11T08:16:58.003Z"
      },
      {
        "duration": 10,
        "start_time": "2023-12-11T08:17:01.827Z"
      },
      {
        "duration": 7,
        "start_time": "2023-12-11T08:53:03.706Z"
      },
      {
        "duration": 125,
        "start_time": "2023-12-11T08:53:05.510Z"
      },
      {
        "duration": 15,
        "start_time": "2023-12-11T08:53:05.982Z"
      },
      {
        "duration": 3,
        "start_time": "2023-12-11T08:53:09.382Z"
      },
      {
        "duration": 28,
        "start_time": "2023-12-11T08:53:17.214Z"
      },
      {
        "duration": 22,
        "start_time": "2023-12-11T08:53:29.461Z"
      },
      {
        "duration": 18,
        "start_time": "2023-12-11T08:53:38.077Z"
      },
      {
        "duration": 5,
        "start_time": "2023-12-11T08:56:27.933Z"
      },
      {
        "duration": 4,
        "start_time": "2023-12-11T08:56:40.092Z"
      },
      {
        "duration": 5,
        "start_time": "2023-12-11T08:56:51.589Z"
      },
      {
        "duration": 4,
        "start_time": "2023-12-11T08:57:00.140Z"
      },
      {
        "duration": 5,
        "start_time": "2023-12-11T08:57:06.973Z"
      },
      {
        "duration": 3,
        "start_time": "2023-12-11T08:57:14.885Z"
      },
      {
        "duration": 5,
        "start_time": "2023-12-11T08:57:18.698Z"
      },
      {
        "duration": 5,
        "start_time": "2023-12-11T08:57:33.093Z"
      },
      {
        "duration": 4,
        "start_time": "2023-12-11T08:57:39.845Z"
      },
      {
        "duration": 73,
        "start_time": "2023-12-11T08:59:17.103Z"
      },
      {
        "duration": 70,
        "start_time": "2023-12-11T08:59:17.324Z"
      },
      {
        "duration": 8,
        "start_time": "2023-12-11T09:00:05.235Z"
      },
      {
        "duration": 10,
        "start_time": "2023-12-11T09:01:09.644Z"
      },
      {
        "duration": 10,
        "start_time": "2023-12-11T09:01:13.907Z"
      },
      {
        "duration": 12333,
        "start_time": "2023-12-11T09:01:41.924Z"
      },
      {
        "duration": 561,
        "start_time": "2023-12-11T09:01:58.028Z"
      },
      {
        "duration": 463,
        "start_time": "2023-12-11T09:05:06.441Z"
      },
      {
        "duration": 1,
        "start_time": "2023-12-11T09:08:33.856Z"
      },
      {
        "duration": 445,
        "start_time": "2023-12-11T09:08:54.568Z"
      },
      {
        "duration": 13,
        "start_time": "2023-12-11T09:10:27.407Z"
      },
      {
        "duration": 109,
        "start_time": "2023-12-11T09:10:44.383Z"
      },
      {
        "duration": 112,
        "start_time": "2023-12-11T09:10:56.029Z"
      },
      {
        "duration": 108,
        "start_time": "2023-12-11T09:11:06.847Z"
      },
      {
        "duration": 163,
        "start_time": "2023-12-11T09:14:59.957Z"
      },
      {
        "duration": 454,
        "start_time": "2023-12-11T09:15:08.971Z"
      },
      {
        "duration": 400,
        "start_time": "2023-12-11T09:15:46.861Z"
      },
      {
        "duration": 107,
        "start_time": "2023-12-11T09:16:07.014Z"
      },
      {
        "duration": 451,
        "start_time": "2023-12-11T09:16:09.245Z"
      },
      {
        "duration": 423,
        "start_time": "2023-12-11T09:16:34.845Z"
      },
      {
        "duration": 426,
        "start_time": "2023-12-11T09:20:36.780Z"
      },
      {
        "duration": 430,
        "start_time": "2023-12-11T09:22:22.699Z"
      },
      {
        "duration": 465,
        "start_time": "2023-12-11T09:22:46.147Z"
      },
      {
        "duration": 99,
        "start_time": "2023-12-11T09:23:40.690Z"
      },
      {
        "duration": 345,
        "start_time": "2023-12-11T09:23:50.627Z"
      },
      {
        "duration": 377,
        "start_time": "2023-12-11T09:23:59.346Z"
      },
      {
        "duration": 377,
        "start_time": "2023-12-11T09:24:07.617Z"
      },
      {
        "duration": 9,
        "start_time": "2023-12-11T09:28:18.485Z"
      },
      {
        "duration": 9,
        "start_time": "2023-12-11T09:28:27.835Z"
      },
      {
        "duration": 18,
        "start_time": "2023-12-11T09:28:37.009Z"
      },
      {
        "duration": 83,
        "start_time": "2023-12-11T09:28:51.736Z"
      },
      {
        "duration": 6,
        "start_time": "2023-12-11T09:28:56.688Z"
      },
      {
        "duration": 85,
        "start_time": "2023-12-11T09:33:01.360Z"
      },
      {
        "duration": 428,
        "start_time": "2023-12-11T09:33:22.205Z"
      },
      {
        "duration": 425,
        "start_time": "2023-12-11T09:33:58.719Z"
      },
      {
        "duration": 414,
        "start_time": "2023-12-11T09:35:46.462Z"
      },
      {
        "duration": 399,
        "start_time": "2023-12-11T09:39:30.581Z"
      },
      {
        "duration": 342,
        "start_time": "2023-12-11T09:39:39.426Z"
      },
      {
        "duration": 366,
        "start_time": "2023-12-11T09:39:48.766Z"
      },
      {
        "duration": 398,
        "start_time": "2023-12-11T09:39:57.380Z"
      },
      {
        "duration": 115,
        "start_time": "2023-12-11T09:41:54.355Z"
      },
      {
        "duration": 133,
        "start_time": "2023-12-11T09:42:33.979Z"
      },
      {
        "duration": 419,
        "start_time": "2023-12-11T09:42:47.452Z"
      },
      {
        "duration": 88,
        "start_time": "2023-12-11T09:43:44.483Z"
      },
      {
        "duration": 111,
        "start_time": "2023-12-11T09:43:52.042Z"
      },
      {
        "duration": 79,
        "start_time": "2023-12-11T09:43:57.995Z"
      },
      {
        "duration": 104,
        "start_time": "2023-12-11T09:44:04.119Z"
      },
      {
        "duration": 431,
        "start_time": "2023-12-11T09:44:09.395Z"
      },
      {
        "duration": 327,
        "start_time": "2023-12-11T09:49:02.040Z"
      },
      {
        "duration": 21,
        "start_time": "2023-12-11T09:54:22.917Z"
      },
      {
        "duration": 19,
        "start_time": "2023-12-11T09:54:32.492Z"
      },
      {
        "duration": 6,
        "start_time": "2023-12-11T09:55:07.670Z"
      },
      {
        "duration": 7,
        "start_time": "2023-12-11T09:55:25.942Z"
      },
      {
        "duration": 21,
        "start_time": "2023-12-11T09:56:22.535Z"
      },
      {
        "duration": 6,
        "start_time": "2023-12-11T09:57:11.702Z"
      },
      {
        "duration": 6,
        "start_time": "2023-12-11T09:57:16.805Z"
      },
      {
        "duration": 6,
        "start_time": "2023-12-11T09:57:20.182Z"
      },
      {
        "duration": 14,
        "start_time": "2023-12-11T09:57:36.350Z"
      },
      {
        "duration": 6,
        "start_time": "2023-12-11T09:57:39.990Z"
      },
      {
        "duration": 13,
        "start_time": "2023-12-11T09:57:54.743Z"
      },
      {
        "duration": 7,
        "start_time": "2023-12-11T09:57:57.564Z"
      },
      {
        "duration": 7,
        "start_time": "2023-12-11T09:58:16.573Z"
      },
      {
        "duration": 251,
        "start_time": "2023-12-11T10:00:11.619Z"
      },
      {
        "duration": 221,
        "start_time": "2023-12-11T10:00:47.636Z"
      },
      {
        "duration": 300,
        "start_time": "2023-12-11T10:01:16.260Z"
      },
      {
        "duration": 16,
        "start_time": "2023-12-11T10:01:53.180Z"
      },
      {
        "duration": 1250,
        "start_time": "2023-12-11T10:02:54.235Z"
      },
      {
        "duration": 333,
        "start_time": "2023-12-11T10:03:30.963Z"
      },
      {
        "duration": 1240,
        "start_time": "2023-12-11T10:03:36.116Z"
      },
      {
        "duration": 407,
        "start_time": "2023-12-11T10:03:49.251Z"
      },
      {
        "duration": 401,
        "start_time": "2023-12-11T10:03:53.850Z"
      },
      {
        "duration": 25,
        "start_time": "2023-12-11T12:18:15.050Z"
      },
      {
        "duration": 12,
        "start_time": "2023-12-11T12:18:24.329Z"
      },
      {
        "duration": 428,
        "start_time": "2023-12-11T12:18:31.529Z"
      },
      {
        "duration": 12,
        "start_time": "2023-12-11T12:19:39.257Z"
      },
      {
        "duration": 341,
        "start_time": "2023-12-11T12:19:59.321Z"
      },
      {
        "duration": 261,
        "start_time": "2023-12-11T12:21:11.246Z"
      },
      {
        "duration": 255,
        "start_time": "2023-12-11T12:22:06.784Z"
      },
      {
        "duration": 371,
        "start_time": "2023-12-11T12:24:40.599Z"
      },
      {
        "duration": 438,
        "start_time": "2023-12-11T12:25:39.351Z"
      },
      {
        "duration": 296,
        "start_time": "2023-12-11T12:26:46.495Z"
      },
      {
        "duration": 248,
        "start_time": "2023-12-11T12:26:57.678Z"
      },
      {
        "duration": 11,
        "start_time": "2023-12-11T12:28:13.343Z"
      },
      {
        "duration": 84,
        "start_time": "2023-12-11T12:28:21.111Z"
      },
      {
        "duration": 232,
        "start_time": "2023-12-11T12:30:07.981Z"
      },
      {
        "duration": 304,
        "start_time": "2023-12-11T12:31:21.324Z"
      },
      {
        "duration": 364,
        "start_time": "2023-12-11T12:31:40.356Z"
      },
      {
        "duration": 283,
        "start_time": "2023-12-11T12:32:10.573Z"
      },
      {
        "duration": 244,
        "start_time": "2023-12-11T12:32:23.020Z"
      },
      {
        "duration": 258,
        "start_time": "2023-12-11T12:32:34.747Z"
      },
      {
        "duration": 6,
        "start_time": "2023-12-11T12:35:34.011Z"
      },
      {
        "duration": 4,
        "start_time": "2023-12-11T12:35:39.020Z"
      },
      {
        "duration": 13,
        "start_time": "2023-12-11T12:36:12.018Z"
      },
      {
        "duration": 9,
        "start_time": "2023-12-11T12:36:40.082Z"
      },
      {
        "duration": 2,
        "start_time": "2023-12-11T12:37:15.066Z"
      },
      {
        "duration": 352,
        "start_time": "2023-12-11T12:40:20.106Z"
      },
      {
        "duration": 340,
        "start_time": "2023-12-11T12:40:35.064Z"
      },
      {
        "duration": 311,
        "start_time": "2023-12-11T12:40:40.945Z"
      },
      {
        "duration": 157,
        "start_time": "2023-12-11T12:44:49.727Z"
      },
      {
        "duration": 151,
        "start_time": "2023-12-11T12:47:13.983Z"
      },
      {
        "duration": 143,
        "start_time": "2023-12-11T12:47:22.943Z"
      },
      {
        "duration": 4,
        "start_time": "2023-12-11T12:55:33.492Z"
      },
      {
        "duration": 4,
        "start_time": "2023-12-11T12:55:50.653Z"
      },
      {
        "duration": 4,
        "start_time": "2023-12-11T12:56:08.820Z"
      },
      {
        "duration": 3,
        "start_time": "2023-12-11T12:56:20.900Z"
      },
      {
        "duration": 5,
        "start_time": "2023-12-11T12:56:31.604Z"
      },
      {
        "duration": 30,
        "start_time": "2023-12-11T12:57:50.683Z"
      },
      {
        "duration": 53,
        "start_time": "2023-12-11T13:02:01.787Z"
      },
      {
        "duration": 55,
        "start_time": "2023-12-11T13:04:18.291Z"
      },
      {
        "duration": 54,
        "start_time": "2023-12-11T13:11:29.410Z"
      },
      {
        "duration": 53,
        "start_time": "2023-12-11T13:11:33.010Z"
      },
      {
        "duration": 59,
        "start_time": "2023-12-11T13:21:53.456Z"
      },
      {
        "duration": 63,
        "start_time": "2023-12-11T14:08:38.283Z"
      },
      {
        "duration": 60,
        "start_time": "2023-12-11T14:15:08.633Z"
      },
      {
        "duration": 6,
        "start_time": "2023-12-11T14:17:38.222Z"
      },
      {
        "duration": 58,
        "start_time": "2023-12-11T14:32:32.445Z"
      },
      {
        "duration": 144,
        "start_time": "2023-12-11T14:40:11.938Z"
      },
      {
        "duration": 92,
        "start_time": "2023-12-11T14:40:19.179Z"
      },
      {
        "duration": 387,
        "start_time": "2023-12-11T14:41:14.256Z"
      },
      {
        "duration": 92,
        "start_time": "2023-12-11T14:41:16.072Z"
      },
      {
        "duration": 344,
        "start_time": "2023-12-11T14:41:25.944Z"
      },
      {
        "duration": 103,
        "start_time": "2023-12-11T14:41:57.616Z"
      },
      {
        "duration": 376,
        "start_time": "2023-12-11T14:42:00.688Z"
      },
      {
        "duration": 365,
        "start_time": "2023-12-11T14:42:06.503Z"
      },
      {
        "duration": 17,
        "start_time": "2023-12-11T14:45:18.863Z"
      },
      {
        "duration": 309,
        "start_time": "2023-12-11T14:45:27.094Z"
      },
      {
        "duration": 4813,
        "start_time": "2023-12-12T06:28:03.128Z"
      },
      {
        "duration": 221,
        "start_time": "2023-12-12T06:28:07.944Z"
      },
      {
        "duration": 21,
        "start_time": "2023-12-12T06:28:08.167Z"
      },
      {
        "duration": 17,
        "start_time": "2023-12-12T06:28:08.190Z"
      },
      {
        "duration": 19,
        "start_time": "2023-12-12T06:28:08.209Z"
      },
      {
        "duration": 5,
        "start_time": "2023-12-12T06:28:08.230Z"
      },
      {
        "duration": 29,
        "start_time": "2023-12-12T06:28:08.236Z"
      },
      {
        "duration": 23,
        "start_time": "2023-12-12T06:28:08.266Z"
      },
      {
        "duration": 27,
        "start_time": "2023-12-12T06:28:08.290Z"
      },
      {
        "duration": 9,
        "start_time": "2023-12-12T06:28:08.319Z"
      },
      {
        "duration": 452,
        "start_time": "2023-12-12T06:28:08.330Z"
      },
      {
        "duration": 110,
        "start_time": "2023-12-12T06:28:08.784Z"
      },
      {
        "duration": 5,
        "start_time": "2023-12-12T06:28:08.896Z"
      },
      {
        "duration": 322,
        "start_time": "2023-12-12T06:28:08.912Z"
      },
      {
        "duration": 19,
        "start_time": "2023-12-12T06:28:09.235Z"
      },
      {
        "duration": 397,
        "start_time": "2023-12-12T06:28:09.255Z"
      },
      {
        "duration": 19,
        "start_time": "2023-12-12T06:28:09.654Z"
      },
      {
        "duration": 22,
        "start_time": "2023-12-12T06:28:09.674Z"
      },
      {
        "duration": 397,
        "start_time": "2023-12-12T06:28:09.697Z"
      },
      {
        "duration": 152,
        "start_time": "2023-12-12T06:28:10.095Z"
      },
      {
        "duration": 377,
        "start_time": "2023-12-12T06:28:47.472Z"
      },
      {
        "duration": 5,
        "start_time": "2023-12-12T09:02:07.271Z"
      },
      {
        "duration": 4,
        "start_time": "2023-12-12T09:02:37.140Z"
      },
      {
        "duration": 5,
        "start_time": "2023-12-12T09:02:44.999Z"
      },
      {
        "duration": 5,
        "start_time": "2023-12-12T10:26:31.879Z"
      },
      {
        "duration": 5,
        "start_time": "2023-12-12T10:26:57.734Z"
      },
      {
        "duration": 7,
        "start_time": "2023-12-12T10:27:30.303Z"
      },
      {
        "duration": 6,
        "start_time": "2023-12-12T10:27:32.758Z"
      },
      {
        "duration": 69,
        "start_time": "2023-12-12T11:13:41.174Z"
      },
      {
        "duration": 38,
        "start_time": "2023-12-12T11:19:25.619Z"
      },
      {
        "duration": 14,
        "start_time": "2023-12-12T11:19:44.881Z"
      },
      {
        "duration": 28,
        "start_time": "2023-12-12T11:23:33.841Z"
      },
      {
        "duration": 28,
        "start_time": "2023-12-12T11:24:48.057Z"
      },
      {
        "duration": 38,
        "start_time": "2023-12-12T11:24:57.161Z"
      },
      {
        "duration": 14,
        "start_time": "2023-12-12T11:25:04.104Z"
      },
      {
        "duration": 14,
        "start_time": "2023-12-12T11:25:17.968Z"
      },
      {
        "duration": 53,
        "start_time": "2023-12-12T11:25:18.439Z"
      },
      {
        "duration": 18,
        "start_time": "2023-12-12T11:26:10.936Z"
      },
      {
        "duration": 65,
        "start_time": "2023-12-12T11:26:11.585Z"
      },
      {
        "duration": 4948,
        "start_time": "2023-12-12T12:07:14.143Z"
      },
      {
        "duration": 10,
        "start_time": "2023-12-12T12:13:06.262Z"
      },
      {
        "duration": 49,
        "start_time": "2023-12-12T12:13:19.847Z"
      },
      {
        "duration": 15,
        "start_time": "2023-12-12T12:13:32.381Z"
      },
      {
        "duration": 46,
        "start_time": "2023-12-12T12:13:37.487Z"
      },
      {
        "duration": 15,
        "start_time": "2023-12-12T12:13:52.957Z"
      },
      {
        "duration": 14,
        "start_time": "2023-12-12T12:13:56.957Z"
      },
      {
        "duration": 45,
        "start_time": "2023-12-12T12:13:58.951Z"
      },
      {
        "duration": 6945,
        "start_time": "2023-12-12T12:15:16.088Z"
      },
      {
        "duration": 256,
        "start_time": "2023-12-12T12:15:23.035Z"
      },
      {
        "duration": 19,
        "start_time": "2023-12-12T12:15:23.292Z"
      },
      {
        "duration": 13,
        "start_time": "2023-12-12T12:15:23.313Z"
      },
      {
        "duration": 9,
        "start_time": "2023-12-12T12:15:23.327Z"
      },
      {
        "duration": 4,
        "start_time": "2023-12-12T12:15:23.337Z"
      },
      {
        "duration": 28,
        "start_time": "2023-12-12T12:15:23.342Z"
      },
      {
        "duration": 40,
        "start_time": "2023-12-12T12:15:23.372Z"
      },
      {
        "duration": 17,
        "start_time": "2023-12-12T12:15:23.414Z"
      },
      {
        "duration": 11,
        "start_time": "2023-12-12T12:15:23.433Z"
      },
      {
        "duration": 432,
        "start_time": "2023-12-12T12:15:23.445Z"
      },
      {
        "duration": 100,
        "start_time": "2023-12-12T12:15:23.879Z"
      },
      {
        "duration": 5,
        "start_time": "2023-12-12T12:15:23.980Z"
      },
      {
        "duration": 325,
        "start_time": "2023-12-12T12:15:23.986Z"
      },
      {
        "duration": 21,
        "start_time": "2023-12-12T12:15:24.313Z"
      },
      {
        "duration": 369,
        "start_time": "2023-12-12T12:15:24.336Z"
      },
      {
        "duration": 19,
        "start_time": "2023-12-12T12:15:24.706Z"
      },
      {
        "duration": 363,
        "start_time": "2023-12-12T12:15:24.727Z"
      },
      {
        "duration": 4,
        "start_time": "2023-12-12T12:15:25.092Z"
      },
      {
        "duration": 14,
        "start_time": "2023-12-12T12:15:25.097Z"
      },
      {
        "duration": 460,
        "start_time": "2023-12-12T12:15:25.112Z"
      },
      {
        "duration": 152,
        "start_time": "2023-12-12T12:15:25.573Z"
      },
      {
        "duration": 171,
        "start_time": "2023-12-12T12:15:25.727Z"
      },
      {
        "duration": 0,
        "start_time": "2023-12-12T12:15:25.899Z"
      },
      {
        "duration": 15,
        "start_time": "2023-12-12T12:15:57.045Z"
      },
      {
        "duration": 48,
        "start_time": "2023-12-12T12:16:01.036Z"
      },
      {
        "duration": 4676,
        "start_time": "2023-12-12T13:17:55.423Z"
      },
      {
        "duration": 19,
        "start_time": "2023-12-12T13:21:51.729Z"
      },
      {
        "duration": 57,
        "start_time": "2023-12-12T13:21:56.745Z"
      },
      {
        "duration": 13,
        "start_time": "2023-12-12T13:24:22.706Z"
      },
      {
        "duration": 45,
        "start_time": "2023-12-12T13:24:24.880Z"
      },
      {
        "duration": 4787,
        "start_time": "2023-12-12T13:37:23.450Z"
      },
      {
        "duration": 19,
        "start_time": "2023-12-12T13:41:46.848Z"
      },
      {
        "duration": 63,
        "start_time": "2023-12-12T13:41:48.827Z"
      },
      {
        "duration": 14,
        "start_time": "2023-12-12T13:50:41.219Z"
      },
      {
        "duration": 48,
        "start_time": "2023-12-12T13:50:43.204Z"
      },
      {
        "duration": 14,
        "start_time": "2023-12-12T14:03:11.953Z"
      },
      {
        "duration": 14,
        "start_time": "2023-12-12T14:03:15.571Z"
      },
      {
        "duration": 49,
        "start_time": "2023-12-12T14:03:15.897Z"
      },
      {
        "duration": 13,
        "start_time": "2023-12-12T14:03:43.955Z"
      },
      {
        "duration": 153,
        "start_time": "2023-12-12T14:03:43.970Z"
      },
      {
        "duration": 15,
        "start_time": "2023-12-12T14:08:58.881Z"
      },
      {
        "duration": 47,
        "start_time": "2023-12-12T14:08:59.282Z"
      },
      {
        "duration": 17,
        "start_time": "2023-12-12T14:09:22.561Z"
      },
      {
        "duration": 43,
        "start_time": "2023-12-12T14:09:22.952Z"
      },
      {
        "duration": 14,
        "start_time": "2023-12-12T14:09:48.785Z"
      },
      {
        "duration": 6,
        "start_time": "2023-12-12T14:09:53.176Z"
      },
      {
        "duration": 7229,
        "start_time": "2023-12-12T14:16:21.484Z"
      },
      {
        "duration": 266,
        "start_time": "2023-12-12T14:16:28.715Z"
      },
      {
        "duration": 23,
        "start_time": "2023-12-12T14:16:28.983Z"
      },
      {
        "duration": 21,
        "start_time": "2023-12-12T14:16:29.008Z"
      },
      {
        "duration": 12,
        "start_time": "2023-12-12T14:16:29.032Z"
      },
      {
        "duration": 2,
        "start_time": "2023-12-12T14:16:29.045Z"
      },
      {
        "duration": 26,
        "start_time": "2023-12-12T14:16:29.048Z"
      },
      {
        "duration": 49,
        "start_time": "2023-12-12T14:16:29.075Z"
      },
      {
        "duration": 17,
        "start_time": "2023-12-12T14:16:29.126Z"
      },
      {
        "duration": 20,
        "start_time": "2023-12-12T14:16:29.146Z"
      },
      {
        "duration": 432,
        "start_time": "2023-12-12T14:16:29.167Z"
      },
      {
        "duration": 105,
        "start_time": "2023-12-12T14:16:29.610Z"
      },
      {
        "duration": 8,
        "start_time": "2023-12-12T14:16:29.717Z"
      },
      {
        "duration": 343,
        "start_time": "2023-12-12T14:16:29.727Z"
      },
      {
        "duration": 17,
        "start_time": "2023-12-12T14:16:30.071Z"
      },
      {
        "duration": 382,
        "start_time": "2023-12-12T14:16:30.089Z"
      },
      {
        "duration": 19,
        "start_time": "2023-12-12T14:16:30.472Z"
      },
      {
        "duration": 432,
        "start_time": "2023-12-12T14:16:30.492Z"
      },
      {
        "duration": 5,
        "start_time": "2023-12-12T14:16:30.925Z"
      },
      {
        "duration": 37,
        "start_time": "2023-12-12T14:16:30.931Z"
      },
      {
        "duration": 487,
        "start_time": "2023-12-12T14:16:30.969Z"
      },
      {
        "duration": 193,
        "start_time": "2023-12-12T14:16:31.457Z"
      },
      {
        "duration": 17,
        "start_time": "2023-12-12T14:16:31.652Z"
      },
      {
        "duration": 276,
        "start_time": "2023-12-12T14:16:31.670Z"
      },
      {
        "duration": 17,
        "start_time": "2023-12-12T14:34:03.840Z"
      },
      {
        "duration": 15,
        "start_time": "2023-12-12T14:34:07.707Z"
      },
      {
        "duration": 17,
        "start_time": "2023-12-12T14:34:08.449Z"
      },
      {
        "duration": 14,
        "start_time": "2023-12-12T14:34:57.854Z"
      },
      {
        "duration": 15,
        "start_time": "2023-12-12T14:34:58.879Z"
      },
      {
        "duration": 71,
        "start_time": "2023-12-12T14:35:00.381Z"
      },
      {
        "duration": 17,
        "start_time": "2023-12-12T14:35:12.027Z"
      },
      {
        "duration": 13,
        "start_time": "2023-12-12T14:35:13.969Z"
      },
      {
        "duration": 25,
        "start_time": "2023-12-12T14:37:52.145Z"
      },
      {
        "duration": 16,
        "start_time": "2023-12-12T14:39:51.657Z"
      },
      {
        "duration": 14,
        "start_time": "2023-12-12T14:39:57.206Z"
      },
      {
        "duration": 15,
        "start_time": "2023-12-12T14:39:59.375Z"
      },
      {
        "duration": 13,
        "start_time": "2023-12-12T14:40:19.676Z"
      },
      {
        "duration": 1846,
        "start_time": "2023-12-12T14:40:20.584Z"
      },
      {
        "duration": 4658,
        "start_time": "2023-12-12T14:50:12.802Z"
      },
      {
        "duration": 20,
        "start_time": "2023-12-12T14:50:28.188Z"
      },
      {
        "duration": 22,
        "start_time": "2023-12-12T14:50:29.964Z"
      },
      {
        "duration": 15,
        "start_time": "2023-12-12T14:51:33.163Z"
      },
      {
        "duration": 66,
        "start_time": "2023-12-12T14:51:34.284Z"
      },
      {
        "duration": 15,
        "start_time": "2023-12-12T14:51:44.274Z"
      },
      {
        "duration": 1822,
        "start_time": "2023-12-12T14:51:45.744Z"
      },
      {
        "duration": 53,
        "start_time": "2023-12-13T10:55:09.872Z"
      },
      {
        "duration": 7,
        "start_time": "2023-12-13T10:55:12.415Z"
      },
      {
        "duration": 12426,
        "start_time": "2023-12-13T10:55:16.408Z"
      },
      {
        "duration": 447,
        "start_time": "2023-12-13T10:55:28.836Z"
      },
      {
        "duration": 19,
        "start_time": "2023-12-13T10:55:29.285Z"
      },
      {
        "duration": 12,
        "start_time": "2023-12-13T10:55:29.306Z"
      },
      {
        "duration": 8,
        "start_time": "2023-12-13T10:55:29.320Z"
      },
      {
        "duration": 9,
        "start_time": "2023-12-13T10:55:29.329Z"
      },
      {
        "duration": 28,
        "start_time": "2023-12-13T10:55:29.340Z"
      },
      {
        "duration": 20,
        "start_time": "2023-12-13T10:55:29.369Z"
      },
      {
        "duration": 35,
        "start_time": "2023-12-13T10:55:29.391Z"
      },
      {
        "duration": 9,
        "start_time": "2023-12-13T10:55:29.427Z"
      },
      {
        "duration": 424,
        "start_time": "2023-12-13T10:55:29.438Z"
      },
      {
        "duration": 106,
        "start_time": "2023-12-13T10:55:29.863Z"
      },
      {
        "duration": 6,
        "start_time": "2023-12-13T10:55:29.970Z"
      },
      {
        "duration": 323,
        "start_time": "2023-12-13T10:55:29.978Z"
      },
      {
        "duration": 21,
        "start_time": "2023-12-13T10:55:30.302Z"
      },
      {
        "duration": 361,
        "start_time": "2023-12-13T10:55:30.325Z"
      },
      {
        "duration": 25,
        "start_time": "2023-12-13T10:55:30.688Z"
      },
      {
        "duration": 544,
        "start_time": "2023-12-13T10:55:30.714Z"
      },
      {
        "duration": 5,
        "start_time": "2023-12-13T10:55:31.260Z"
      },
      {
        "duration": 46,
        "start_time": "2023-12-13T10:55:31.267Z"
      },
      {
        "duration": 485,
        "start_time": "2023-12-13T10:55:31.315Z"
      },
      {
        "duration": 148,
        "start_time": "2023-12-13T10:55:31.802Z"
      },
      {
        "duration": 144,
        "start_time": "2023-12-13T10:55:31.952Z"
      },
      {
        "duration": 0,
        "start_time": "2023-12-13T10:55:32.098Z"
      },
      {
        "duration": 4636,
        "start_time": "2023-12-13T10:57:41.012Z"
      },
      {
        "duration": 17,
        "start_time": "2023-12-13T10:57:51.905Z"
      },
      {
        "duration": 4622,
        "start_time": "2023-12-13T10:58:26.936Z"
      },
      {
        "duration": 19,
        "start_time": "2023-12-13T10:58:37.434Z"
      },
      {
        "duration": 2925,
        "start_time": "2023-12-13T10:58:42.459Z"
      },
      {
        "duration": 15,
        "start_time": "2023-12-13T10:59:29.298Z"
      },
      {
        "duration": 2121,
        "start_time": "2023-12-13T10:59:30.081Z"
      },
      {
        "duration": 1871,
        "start_time": "2023-12-13T10:59:58.675Z"
      },
      {
        "duration": 233,
        "start_time": "2023-12-13T11:04:06.906Z"
      },
      {
        "duration": 158,
        "start_time": "2023-12-13T11:04:33.239Z"
      },
      {
        "duration": 10,
        "start_time": "2023-12-13T11:04:57.244Z"
      },
      {
        "duration": 3967,
        "start_time": "2023-12-13T11:04:57.303Z"
      },
      {
        "duration": 12,
        "start_time": "2023-12-13T11:11:20.902Z"
      },
      {
        "duration": 1693,
        "start_time": "2023-12-13T11:11:22.418Z"
      },
      {
        "duration": 17,
        "start_time": "2023-12-13T11:12:03.345Z"
      },
      {
        "duration": 11,
        "start_time": "2023-12-13T11:12:04.834Z"
      },
      {
        "duration": 0,
        "start_time": "2023-12-13T11:17:31.302Z"
      },
      {
        "duration": 0,
        "start_time": "2023-12-13T11:17:31.311Z"
      },
      {
        "duration": 0,
        "start_time": "2023-12-13T11:17:31.312Z"
      },
      {
        "duration": 9287,
        "start_time": "2023-12-13T11:17:33.231Z"
      },
      {
        "duration": 0,
        "start_time": "2023-12-13T11:17:42.520Z"
      },
      {
        "duration": 1875,
        "start_time": "2023-12-13T11:17:44.889Z"
      },
      {
        "duration": 18,
        "start_time": "2023-12-13T11:18:12.784Z"
      },
      {
        "duration": 1778,
        "start_time": "2023-12-13T11:18:13.234Z"
      },
      {
        "duration": 10,
        "start_time": "2023-12-13T11:18:27.706Z"
      },
      {
        "duration": 1900,
        "start_time": "2023-12-13T11:18:28.121Z"
      },
      {
        "duration": 10,
        "start_time": "2023-12-13T11:18:46.987Z"
      },
      {
        "duration": 1959,
        "start_time": "2023-12-13T11:18:47.602Z"
      },
      {
        "duration": 10,
        "start_time": "2023-12-13T11:18:58.020Z"
      },
      {
        "duration": 1863,
        "start_time": "2023-12-13T11:18:58.522Z"
      },
      {
        "duration": 3,
        "start_time": "2023-12-13T11:19:11.691Z"
      },
      {
        "duration": 23,
        "start_time": "2023-12-13T11:22:41.339Z"
      },
      {
        "duration": 23,
        "start_time": "2023-12-13T11:24:02.530Z"
      },
      {
        "duration": 10,
        "start_time": "2023-12-13T11:25:38.580Z"
      },
      {
        "duration": 1968,
        "start_time": "2023-12-13T11:25:40.169Z"
      },
      {
        "duration": 22,
        "start_time": "2023-12-13T11:25:45.896Z"
      },
      {
        "duration": 22,
        "start_time": "2023-12-13T11:27:34.688Z"
      },
      {
        "duration": 29,
        "start_time": "2023-12-13T11:28:02.999Z"
      },
      {
        "duration": 25,
        "start_time": "2023-12-13T11:28:14.263Z"
      },
      {
        "duration": 25,
        "start_time": "2023-12-13T11:35:01.418Z"
      },
      {
        "duration": 226,
        "start_time": "2023-12-13T11:41:27.668Z"
      },
      {
        "duration": 98,
        "start_time": "2023-12-13T11:41:58.685Z"
      },
      {
        "duration": 24,
        "start_time": "2023-12-13T11:42:04.403Z"
      },
      {
        "duration": 11,
        "start_time": "2023-12-13T11:42:13.115Z"
      },
      {
        "duration": 23,
        "start_time": "2023-12-13T11:43:34.468Z"
      },
      {
        "duration": 16,
        "start_time": "2023-12-13T11:43:57.558Z"
      },
      {
        "duration": 25,
        "start_time": "2023-12-13T11:44:11.883Z"
      },
      {
        "duration": 25,
        "start_time": "2023-12-13T11:44:13.531Z"
      },
      {
        "duration": 8,
        "start_time": "2023-12-13T11:47:18.538Z"
      },
      {
        "duration": 12,
        "start_time": "2023-12-13T11:47:20.786Z"
      },
      {
        "duration": 1218,
        "start_time": "2023-12-13T11:47:22.346Z"
      },
      {
        "duration": 7,
        "start_time": "2023-12-13T11:52:43.490Z"
      },
      {
        "duration": 12,
        "start_time": "2023-12-13T11:52:43.970Z"
      },
      {
        "duration": 1948,
        "start_time": "2023-12-13T11:52:51.922Z"
      },
      {
        "duration": 24,
        "start_time": "2023-12-13T11:52:59.044Z"
      },
      {
        "duration": 4,
        "start_time": "2023-12-13T11:55:54.281Z"
      },
      {
        "duration": 10,
        "start_time": "2023-12-13T11:55:55.993Z"
      },
      {
        "duration": 366,
        "start_time": "2023-12-13T11:55:58.198Z"
      },
      {
        "duration": 3,
        "start_time": "2023-12-13T11:56:19.121Z"
      },
      {
        "duration": 10,
        "start_time": "2023-12-13T11:56:20.873Z"
      },
      {
        "duration": 1796,
        "start_time": "2023-12-13T11:56:22.731Z"
      },
      {
        "duration": 19,
        "start_time": "2023-12-13T11:57:25.001Z"
      },
      {
        "duration": 10,
        "start_time": "2023-12-13T11:57:44.827Z"
      },
      {
        "duration": 1867,
        "start_time": "2023-12-13T11:57:46.176Z"
      },
      {
        "duration": 18,
        "start_time": "2023-12-13T11:57:50.777Z"
      },
      {
        "duration": 6852,
        "start_time": "2023-12-13T11:58:29.847Z"
      },
      {
        "duration": 230,
        "start_time": "2023-12-13T11:58:36.701Z"
      },
      {
        "duration": 19,
        "start_time": "2023-12-13T11:58:36.932Z"
      },
      {
        "duration": 13,
        "start_time": "2023-12-13T11:58:36.952Z"
      },
      {
        "duration": 9,
        "start_time": "2023-12-13T11:58:36.967Z"
      },
      {
        "duration": 4,
        "start_time": "2023-12-13T11:58:36.977Z"
      },
      {
        "duration": 34,
        "start_time": "2023-12-13T11:58:36.982Z"
      },
      {
        "duration": 151,
        "start_time": "2023-12-13T11:58:37.018Z"
      },
      {
        "duration": 0,
        "start_time": "2023-12-13T11:58:37.171Z"
      },
      {
        "duration": 0,
        "start_time": "2023-12-13T11:58:37.172Z"
      },
      {
        "duration": 0,
        "start_time": "2023-12-13T11:58:37.173Z"
      },
      {
        "duration": 0,
        "start_time": "2023-12-13T11:58:37.174Z"
      },
      {
        "duration": 0,
        "start_time": "2023-12-13T11:58:37.175Z"
      },
      {
        "duration": 0,
        "start_time": "2023-12-13T11:58:37.176Z"
      },
      {
        "duration": 0,
        "start_time": "2023-12-13T11:58:37.177Z"
      },
      {
        "duration": 0,
        "start_time": "2023-12-13T11:58:37.178Z"
      },
      {
        "duration": 0,
        "start_time": "2023-12-13T11:58:37.178Z"
      },
      {
        "duration": 0,
        "start_time": "2023-12-13T11:58:37.179Z"
      },
      {
        "duration": 0,
        "start_time": "2023-12-13T11:58:37.180Z"
      },
      {
        "duration": 0,
        "start_time": "2023-12-13T11:58:37.181Z"
      },
      {
        "duration": 0,
        "start_time": "2023-12-13T11:58:37.182Z"
      },
      {
        "duration": 0,
        "start_time": "2023-12-13T11:58:37.210Z"
      },
      {
        "duration": 0,
        "start_time": "2023-12-13T11:58:37.211Z"
      },
      {
        "duration": 0,
        "start_time": "2023-12-13T11:58:37.212Z"
      },
      {
        "duration": 0,
        "start_time": "2023-12-13T11:58:37.214Z"
      },
      {
        "duration": 0,
        "start_time": "2023-12-13T11:58:37.215Z"
      },
      {
        "duration": 0,
        "start_time": "2023-12-13T11:58:37.216Z"
      },
      {
        "duration": 26,
        "start_time": "2023-12-13T11:58:54.100Z"
      },
      {
        "duration": 21,
        "start_time": "2023-12-13T11:58:54.128Z"
      },
      {
        "duration": 16,
        "start_time": "2023-12-13T11:58:54.151Z"
      },
      {
        "duration": 9,
        "start_time": "2023-12-13T11:58:54.168Z"
      },
      {
        "duration": 443,
        "start_time": "2023-12-13T11:58:54.179Z"
      },
      {
        "duration": 105,
        "start_time": "2023-12-13T11:58:54.625Z"
      },
      {
        "duration": 6,
        "start_time": "2023-12-13T11:58:54.731Z"
      },
      {
        "duration": 310,
        "start_time": "2023-12-13T11:58:54.739Z"
      },
      {
        "duration": 17,
        "start_time": "2023-12-13T11:58:55.050Z"
      },
      {
        "duration": 357,
        "start_time": "2023-12-13T11:58:55.068Z"
      },
      {
        "duration": 17,
        "start_time": "2023-12-13T11:58:55.426Z"
      },
      {
        "duration": 361,
        "start_time": "2023-12-13T11:58:55.444Z"
      },
      {
        "duration": 6,
        "start_time": "2023-12-13T11:58:55.807Z"
      },
      {
        "duration": 13,
        "start_time": "2023-12-13T11:58:55.815Z"
      },
      {
        "duration": 452,
        "start_time": "2023-12-13T11:58:55.829Z"
      },
      {
        "duration": 144,
        "start_time": "2023-12-13T11:58:56.282Z"
      },
      {
        "duration": 3,
        "start_time": "2023-12-13T11:58:56.428Z"
      },
      {
        "duration": 9,
        "start_time": "2023-12-13T11:58:56.433Z"
      },
      {
        "duration": 1968,
        "start_time": "2023-12-13T11:58:56.444Z"
      },
      {
        "duration": 17,
        "start_time": "2023-12-13T11:58:58.413Z"
      },
      {
        "duration": 10,
        "start_time": "2023-12-13T12:17:42.125Z"
      },
      {
        "duration": 1989,
        "start_time": "2023-12-13T12:17:42.559Z"
      },
      {
        "duration": 18,
        "start_time": "2023-12-13T12:17:47.217Z"
      },
      {
        "duration": 16,
        "start_time": "2023-12-13T12:17:55.243Z"
      },
      {
        "duration": 10,
        "start_time": "2023-12-13T12:18:15.866Z"
      },
      {
        "duration": 1894,
        "start_time": "2023-12-13T12:18:16.621Z"
      },
      {
        "duration": 17,
        "start_time": "2023-12-13T12:18:21.442Z"
      },
      {
        "duration": 1893,
        "start_time": "2023-12-13T12:21:35.228Z"
      },
      {
        "duration": 1944,
        "start_time": "2023-12-13T12:22:03.371Z"
      },
      {
        "duration": 25,
        "start_time": "2023-12-13T12:24:03.379Z"
      },
      {
        "duration": 14,
        "start_time": "2023-12-13T12:26:04.233Z"
      },
      {
        "duration": 21,
        "start_time": "2023-12-13T12:26:13.600Z"
      },
      {
        "duration": 4,
        "start_time": "2023-12-13T12:29:37.437Z"
      },
      {
        "duration": 4,
        "start_time": "2023-12-13T12:29:42.857Z"
      },
      {
        "duration": 5,
        "start_time": "2023-12-13T12:29:46.935Z"
      },
      {
        "duration": 5,
        "start_time": "2023-12-13T12:29:51.687Z"
      },
      {
        "duration": 4,
        "start_time": "2023-12-13T12:30:06.281Z"
      },
      {
        "duration": 5,
        "start_time": "2023-12-13T12:30:11.327Z"
      },
      {
        "duration": 4,
        "start_time": "2023-12-13T12:30:16.888Z"
      },
      {
        "duration": 4,
        "start_time": "2023-12-13T12:30:21.226Z"
      },
      {
        "duration": 1779,
        "start_time": "2023-12-13T12:30:25.445Z"
      },
      {
        "duration": 5,
        "start_time": "2023-12-13T12:30:28.979Z"
      },
      {
        "duration": 12,
        "start_time": "2023-12-13T12:30:55.847Z"
      },
      {
        "duration": 4,
        "start_time": "2023-12-13T12:31:01.791Z"
      },
      {
        "duration": 5,
        "start_time": "2023-12-13T12:31:17.664Z"
      },
      {
        "duration": 11,
        "start_time": "2023-12-13T12:37:14.908Z"
      },
      {
        "duration": 1755,
        "start_time": "2023-12-13T12:37:15.478Z"
      },
      {
        "duration": 15,
        "start_time": "2023-12-13T12:37:22.429Z"
      },
      {
        "duration": 10,
        "start_time": "2023-12-13T12:41:12.130Z"
      },
      {
        "duration": 1755,
        "start_time": "2023-12-13T12:41:12.709Z"
      },
      {
        "duration": 16,
        "start_time": "2023-12-13T12:41:17.541Z"
      },
      {
        "duration": 10,
        "start_time": "2023-12-13T12:43:27.644Z"
      },
      {
        "duration": 1921,
        "start_time": "2023-12-13T12:43:29.212Z"
      },
      {
        "duration": 15,
        "start_time": "2023-12-13T12:43:32.868Z"
      },
      {
        "duration": 6746,
        "start_time": "2023-12-13T12:43:50.787Z"
      },
      {
        "duration": 92,
        "start_time": "2023-12-13T12:43:57.535Z"
      },
      {
        "duration": 18,
        "start_time": "2023-12-13T12:43:57.629Z"
      },
      {
        "duration": 13,
        "start_time": "2023-12-13T12:43:57.648Z"
      },
      {
        "duration": 8,
        "start_time": "2023-12-13T12:43:57.662Z"
      },
      {
        "duration": 3,
        "start_time": "2023-12-13T12:43:57.672Z"
      },
      {
        "duration": 35,
        "start_time": "2023-12-13T12:43:57.676Z"
      },
      {
        "duration": 22,
        "start_time": "2023-12-13T12:43:57.712Z"
      },
      {
        "duration": 16,
        "start_time": "2023-12-13T12:43:57.735Z"
      },
      {
        "duration": 9,
        "start_time": "2023-12-13T12:43:57.752Z"
      },
      {
        "duration": 428,
        "start_time": "2023-12-13T12:43:57.762Z"
      },
      {
        "duration": 99,
        "start_time": "2023-12-13T12:43:58.192Z"
      },
      {
        "duration": 5,
        "start_time": "2023-12-13T12:43:58.293Z"
      },
      {
        "duration": 338,
        "start_time": "2023-12-13T12:43:58.300Z"
      },
      {
        "duration": 18,
        "start_time": "2023-12-13T12:43:58.641Z"
      },
      {
        "duration": 374,
        "start_time": "2023-12-13T12:43:58.661Z"
      },
      {
        "duration": 16,
        "start_time": "2023-12-13T12:43:59.036Z"
      },
      {
        "duration": 371,
        "start_time": "2023-12-13T12:43:59.053Z"
      },
      {
        "duration": 4,
        "start_time": "2023-12-13T12:43:59.425Z"
      },
      {
        "duration": 12,
        "start_time": "2023-12-13T12:43:59.430Z"
      },
      {
        "duration": 516,
        "start_time": "2023-12-13T12:43:59.443Z"
      },
      {
        "duration": 146,
        "start_time": "2023-12-13T12:43:59.960Z"
      },
      {
        "duration": 3,
        "start_time": "2023-12-13T12:44:00.111Z"
      },
      {
        "duration": 11,
        "start_time": "2023-12-13T12:44:00.116Z"
      },
      {
        "duration": 1878,
        "start_time": "2023-12-13T12:44:00.128Z"
      },
      {
        "duration": 18,
        "start_time": "2023-12-13T12:44:02.011Z"
      },
      {
        "duration": 1835,
        "start_time": "2023-12-13T14:08:55.432Z"
      },
      {
        "duration": 16,
        "start_time": "2023-12-13T14:09:00.753Z"
      },
      {
        "duration": 1862,
        "start_time": "2023-12-13T14:09:10.641Z"
      },
      {
        "duration": 19,
        "start_time": "2023-12-13T14:09:12.505Z"
      },
      {
        "duration": 92,
        "start_time": "2023-12-13T14:34:42.370Z"
      },
      {
        "duration": 150,
        "start_time": "2023-12-13T14:36:04.679Z"
      },
      {
        "duration": 366,
        "start_time": "2023-12-13T14:36:15.025Z"
      },
      {
        "duration": 4,
        "start_time": "2023-12-13T14:36:40.942Z"
      },
      {
        "duration": 6,
        "start_time": "2023-12-13T14:38:09.518Z"
      },
      {
        "duration": 6,
        "start_time": "2023-12-13T14:38:55.514Z"
      },
      {
        "duration": 240,
        "start_time": "2023-12-13T14:40:15.248Z"
      },
      {
        "duration": 334,
        "start_time": "2023-12-13T14:41:12.333Z"
      },
      {
        "duration": 10,
        "start_time": "2023-12-13T14:41:50.996Z"
      },
      {
        "duration": 1829,
        "start_time": "2023-12-13T14:41:52.636Z"
      },
      {
        "duration": 15,
        "start_time": "2023-12-13T14:41:57.435Z"
      },
      {
        "duration": 6812,
        "start_time": "2023-12-13T14:42:21.997Z"
      },
      {
        "duration": 233,
        "start_time": "2023-12-13T14:42:28.810Z"
      },
      {
        "duration": 19,
        "start_time": "2023-12-13T14:42:29.045Z"
      },
      {
        "duration": 13,
        "start_time": "2023-12-13T14:42:29.065Z"
      },
      {
        "duration": 8,
        "start_time": "2023-12-13T14:42:29.080Z"
      },
      {
        "duration": 6,
        "start_time": "2023-12-13T14:42:29.089Z"
      },
      {
        "duration": 25,
        "start_time": "2023-12-13T14:42:29.096Z"
      },
      {
        "duration": 23,
        "start_time": "2023-12-13T14:42:29.122Z"
      },
      {
        "duration": 17,
        "start_time": "2023-12-13T14:42:29.146Z"
      },
      {
        "duration": 9,
        "start_time": "2023-12-13T14:42:29.164Z"
      },
      {
        "duration": 422,
        "start_time": "2023-12-13T14:42:29.174Z"
      },
      {
        "duration": 102,
        "start_time": "2023-12-13T14:42:29.598Z"
      },
      {
        "duration": 13,
        "start_time": "2023-12-13T14:42:29.701Z"
      },
      {
        "duration": 309,
        "start_time": "2023-12-13T14:42:29.716Z"
      },
      {
        "duration": 25,
        "start_time": "2023-12-13T14:42:30.027Z"
      },
      {
        "duration": 387,
        "start_time": "2023-12-13T14:42:30.053Z"
      },
      {
        "duration": 17,
        "start_time": "2023-12-13T14:42:30.442Z"
      },
      {
        "duration": 409,
        "start_time": "2023-12-13T14:42:30.461Z"
      },
      {
        "duration": 510,
        "start_time": "2023-12-13T14:42:30.872Z"
      },
      {
        "duration": 4,
        "start_time": "2023-12-13T14:42:31.384Z"
      },
      {
        "duration": 344,
        "start_time": "2023-12-13T14:42:31.389Z"
      },
      {
        "duration": 357,
        "start_time": "2023-12-13T14:42:31.735Z"
      },
      {
        "duration": 151,
        "start_time": "2023-12-13T14:42:32.094Z"
      },
      {
        "duration": 3,
        "start_time": "2023-12-13T14:42:32.247Z"
      },
      {
        "duration": 11,
        "start_time": "2023-12-13T14:42:32.251Z"
      },
      {
        "duration": 1873,
        "start_time": "2023-12-13T14:42:32.263Z"
      },
      {
        "duration": 15,
        "start_time": "2023-12-13T14:42:34.138Z"
      },
      {
        "duration": 13273,
        "start_time": "2023-12-14T08:20:02.580Z"
      },
      {
        "duration": 258,
        "start_time": "2023-12-14T08:20:15.855Z"
      },
      {
        "duration": 18,
        "start_time": "2023-12-14T08:20:16.115Z"
      },
      {
        "duration": 14,
        "start_time": "2023-12-14T08:20:16.134Z"
      },
      {
        "duration": 29,
        "start_time": "2023-12-14T08:20:16.150Z"
      },
      {
        "duration": 26,
        "start_time": "2023-12-14T08:20:16.180Z"
      },
      {
        "duration": 51,
        "start_time": "2023-12-14T08:20:16.208Z"
      },
      {
        "duration": 22,
        "start_time": "2023-12-14T08:20:16.261Z"
      },
      {
        "duration": 39,
        "start_time": "2023-12-14T08:20:16.285Z"
      },
      {
        "duration": 27,
        "start_time": "2023-12-14T08:20:16.326Z"
      },
      {
        "duration": 411,
        "start_time": "2023-12-14T08:20:16.355Z"
      },
      {
        "duration": 101,
        "start_time": "2023-12-14T08:20:16.768Z"
      },
      {
        "duration": 5,
        "start_time": "2023-12-14T08:20:16.871Z"
      },
      {
        "duration": 325,
        "start_time": "2023-12-14T08:20:16.878Z"
      },
      {
        "duration": 17,
        "start_time": "2023-12-14T08:20:17.204Z"
      },
      {
        "duration": 425,
        "start_time": "2023-12-14T08:20:17.222Z"
      },
      {
        "duration": 19,
        "start_time": "2023-12-14T08:20:17.648Z"
      },
      {
        "duration": 381,
        "start_time": "2023-12-14T08:20:17.668Z"
      },
      {
        "duration": 515,
        "start_time": "2023-12-14T08:20:18.051Z"
      },
      {
        "duration": 6,
        "start_time": "2023-12-14T08:20:18.568Z"
      },
      {
        "duration": 280,
        "start_time": "2023-12-14T08:20:18.575Z"
      },
      {
        "duration": 445,
        "start_time": "2023-12-14T08:20:18.857Z"
      },
      {
        "duration": 162,
        "start_time": "2023-12-14T08:20:19.304Z"
      },
      {
        "duration": 5,
        "start_time": "2023-12-14T08:20:19.468Z"
      },
      {
        "duration": 44,
        "start_time": "2023-12-14T08:20:19.475Z"
      },
      {
        "duration": 1836,
        "start_time": "2023-12-14T08:20:19.521Z"
      },
      {
        "duration": 17,
        "start_time": "2023-12-14T08:20:21.358Z"
      },
      {
        "duration": 15,
        "start_time": "2023-12-14T08:58:59.125Z"
      },
      {
        "duration": 14,
        "start_time": "2023-12-14T08:59:10.986Z"
      },
      {
        "duration": 4,
        "start_time": "2023-12-14T08:59:30.931Z"
      },
      {
        "duration": 93,
        "start_time": "2023-12-14T09:00:36.954Z"
      },
      {
        "duration": 5,
        "start_time": "2023-12-14T09:04:43.407Z"
      },
      {
        "duration": 9,
        "start_time": "2023-12-14T09:05:08.640Z"
      },
      {
        "duration": 170,
        "start_time": "2023-12-14T09:09:43.541Z"
      },
      {
        "duration": 16,
        "start_time": "2023-12-14T09:14:10.118Z"
      },
      {
        "duration": 15,
        "start_time": "2023-12-14T09:14:15.703Z"
      },
      {
        "duration": 10,
        "start_time": "2023-12-14T09:14:50.603Z"
      },
      {
        "duration": 18,
        "start_time": "2023-12-14T09:17:21.768Z"
      },
      {
        "duration": 10,
        "start_time": "2023-12-14T09:17:35.867Z"
      },
      {
        "duration": 1897,
        "start_time": "2023-12-14T09:17:40.867Z"
      },
      {
        "duration": 16,
        "start_time": "2023-12-14T09:17:44.551Z"
      },
      {
        "duration": 7360,
        "start_time": "2023-12-16T09:01:02.699Z"
      },
      {
        "duration": 244,
        "start_time": "2023-12-16T09:01:10.061Z"
      },
      {
        "duration": 25,
        "start_time": "2023-12-16T09:01:10.307Z"
      },
      {
        "duration": 17,
        "start_time": "2023-12-16T09:01:10.333Z"
      },
      {
        "duration": 13,
        "start_time": "2023-12-16T09:01:10.353Z"
      },
      {
        "duration": 18,
        "start_time": "2023-12-16T09:01:10.367Z"
      },
      {
        "duration": 9,
        "start_time": "2023-12-16T09:01:10.387Z"
      },
      {
        "duration": 5,
        "start_time": "2023-12-16T09:01:10.415Z"
      },
      {
        "duration": 43,
        "start_time": "2023-12-16T09:01:10.421Z"
      },
      {
        "duration": 18,
        "start_time": "2023-12-16T09:01:10.466Z"
      },
      {
        "duration": 22,
        "start_time": "2023-12-16T09:01:10.485Z"
      },
      {
        "duration": 21,
        "start_time": "2023-12-16T09:01:10.509Z"
      },
      {
        "duration": 364,
        "start_time": "2023-12-16T09:01:10.531Z"
      },
      {
        "duration": 92,
        "start_time": "2023-12-16T09:01:10.897Z"
      },
      {
        "duration": 5,
        "start_time": "2023-12-16T09:01:10.990Z"
      },
      {
        "duration": 311,
        "start_time": "2023-12-16T09:01:10.996Z"
      },
      {
        "duration": 27,
        "start_time": "2023-12-16T09:01:11.308Z"
      },
      {
        "duration": 336,
        "start_time": "2023-12-16T09:01:11.337Z"
      },
      {
        "duration": 15,
        "start_time": "2023-12-16T09:01:11.674Z"
      },
      {
        "duration": 343,
        "start_time": "2023-12-16T09:01:11.690Z"
      },
      {
        "duration": 436,
        "start_time": "2023-12-16T09:01:12.034Z"
      },
      {
        "duration": 4,
        "start_time": "2023-12-16T09:01:12.472Z"
      },
      {
        "duration": 258,
        "start_time": "2023-12-16T09:01:12.477Z"
      },
      {
        "duration": 319,
        "start_time": "2023-12-16T09:01:12.737Z"
      },
      {
        "duration": 145,
        "start_time": "2023-12-16T09:01:13.057Z"
      },
      {
        "duration": 3,
        "start_time": "2023-12-16T09:01:13.204Z"
      },
      {
        "duration": 16,
        "start_time": "2023-12-16T09:01:13.214Z"
      },
      {
        "duration": 1777,
        "start_time": "2023-12-16T09:01:13.232Z"
      },
      {
        "duration": 20,
        "start_time": "2023-12-16T09:01:15.010Z"
      },
      {
        "duration": 250,
        "start_time": "2023-12-16T09:27:06.965Z"
      },
      {
        "duration": 61,
        "start_time": "2023-12-16T09:30:03.020Z"
      },
      {
        "duration": 137,
        "start_time": "2023-12-16T09:31:08.802Z"
      },
      {
        "duration": 87,
        "start_time": "2023-12-16T09:31:18.697Z"
      },
      {
        "duration": 18,
        "start_time": "2023-12-16T09:31:54.789Z"
      },
      {
        "duration": 19,
        "start_time": "2023-12-16T09:32:05.883Z"
      },
      {
        "duration": 14,
        "start_time": "2023-12-16T09:32:13.313Z"
      },
      {
        "duration": 323,
        "start_time": "2023-12-16T09:37:45.306Z"
      },
      {
        "duration": 406,
        "start_time": "2023-12-16T09:38:06.518Z"
      },
      {
        "duration": 485,
        "start_time": "2023-12-16T09:38:37.556Z"
      },
      {
        "duration": 205,
        "start_time": "2023-12-16T09:41:11.067Z"
      },
      {
        "duration": 96,
        "start_time": "2023-12-16T09:42:32.651Z"
      },
      {
        "duration": 16,
        "start_time": "2023-12-16T09:45:16.510Z"
      },
      {
        "duration": 22,
        "start_time": "2023-12-16T09:45:27.512Z"
      },
      {
        "duration": 9,
        "start_time": "2023-12-16T09:45:34.050Z"
      },
      {
        "duration": 9,
        "start_time": "2023-12-16T09:45:59.600Z"
      },
      {
        "duration": 8,
        "start_time": "2023-12-16T09:46:19.668Z"
      },
      {
        "duration": 11,
        "start_time": "2023-12-16T09:46:36.294Z"
      },
      {
        "duration": 84,
        "start_time": "2023-12-16T09:51:35.008Z"
      },
      {
        "duration": 6,
        "start_time": "2023-12-16T09:51:42.345Z"
      },
      {
        "duration": 212,
        "start_time": "2023-12-16T09:52:44.941Z"
      },
      {
        "duration": 73,
        "start_time": "2023-12-16T09:56:19.246Z"
      },
      {
        "duration": 12,
        "start_time": "2023-12-16T09:56:31.100Z"
      },
      {
        "duration": 5,
        "start_time": "2023-12-16T09:57:05.640Z"
      },
      {
        "duration": 4,
        "start_time": "2023-12-16T09:59:12.654Z"
      },
      {
        "duration": 9,
        "start_time": "2023-12-16T09:59:40.554Z"
      },
      {
        "duration": 3,
        "start_time": "2023-12-16T10:00:13.921Z"
      },
      {
        "duration": 15,
        "start_time": "2023-12-16T10:03:22.561Z"
      },
      {
        "duration": 14,
        "start_time": "2023-12-16T10:03:32.194Z"
      },
      {
        "duration": 397,
        "start_time": "2023-12-16T10:03:56.522Z"
      },
      {
        "duration": 230,
        "start_time": "2023-12-16T10:05:09.227Z"
      },
      {
        "duration": 82,
        "start_time": "2023-12-16T10:25:08.740Z"
      },
      {
        "duration": 18,
        "start_time": "2023-12-16T10:25:21.599Z"
      },
      {
        "duration": 219,
        "start_time": "2023-12-16T10:26:30.892Z"
      },
      {
        "duration": 10,
        "start_time": "2023-12-16T10:29:11.339Z"
      },
      {
        "duration": 11,
        "start_time": "2023-12-16T10:29:38.561Z"
      },
      {
        "duration": 13,
        "start_time": "2023-12-16T10:29:53.016Z"
      },
      {
        "duration": 311,
        "start_time": "2023-12-16T10:33:59.090Z"
      },
      {
        "duration": 75,
        "start_time": "2023-12-16T10:34:41.199Z"
      },
      {
        "duration": 78,
        "start_time": "2023-12-16T10:34:50.697Z"
      },
      {
        "duration": 73,
        "start_time": "2023-12-16T10:47:02.578Z"
      },
      {
        "duration": 5,
        "start_time": "2023-12-16T10:47:17.556Z"
      },
      {
        "duration": 74,
        "start_time": "2023-12-16T10:48:11.008Z"
      },
      {
        "duration": 142,
        "start_time": "2023-12-16T10:48:34.545Z"
      },
      {
        "duration": 76,
        "start_time": "2023-12-16T10:48:54.419Z"
      },
      {
        "duration": 77,
        "start_time": "2023-12-16T10:49:14.113Z"
      },
      {
        "duration": 97,
        "start_time": "2023-12-16T10:49:40.314Z"
      },
      {
        "duration": 65,
        "start_time": "2023-12-16T10:49:50.853Z"
      },
      {
        "duration": 12613,
        "start_time": "2023-12-16T14:08:24.735Z"
      },
      {
        "duration": 274,
        "start_time": "2023-12-16T14:08:37.350Z"
      },
      {
        "duration": 20,
        "start_time": "2023-12-16T14:08:37.625Z"
      },
      {
        "duration": 15,
        "start_time": "2023-12-16T14:08:37.647Z"
      },
      {
        "duration": 21,
        "start_time": "2023-12-16T14:08:37.664Z"
      },
      {
        "duration": 16,
        "start_time": "2023-12-16T14:08:37.687Z"
      },
      {
        "duration": 14,
        "start_time": "2023-12-16T14:08:37.704Z"
      },
      {
        "duration": 2,
        "start_time": "2023-12-16T14:08:37.719Z"
      },
      {
        "duration": 28,
        "start_time": "2023-12-16T14:08:37.723Z"
      },
      {
        "duration": 24,
        "start_time": "2023-12-16T14:08:37.753Z"
      },
      {
        "duration": 46,
        "start_time": "2023-12-16T14:08:37.778Z"
      },
      {
        "duration": 17,
        "start_time": "2023-12-16T14:08:37.826Z"
      },
      {
        "duration": 449,
        "start_time": "2023-12-16T14:08:37.845Z"
      },
      {
        "duration": 114,
        "start_time": "2023-12-16T14:08:38.296Z"
      },
      {
        "duration": 6,
        "start_time": "2023-12-16T14:08:38.414Z"
      },
      {
        "duration": 331,
        "start_time": "2023-12-16T14:08:38.422Z"
      },
      {
        "duration": 17,
        "start_time": "2023-12-16T14:08:38.755Z"
      },
      {
        "duration": 387,
        "start_time": "2023-12-16T14:08:38.774Z"
      },
      {
        "duration": 17,
        "start_time": "2023-12-16T14:08:39.163Z"
      },
      {
        "duration": 390,
        "start_time": "2023-12-16T14:08:39.181Z"
      },
      {
        "duration": 498,
        "start_time": "2023-12-16T14:08:39.572Z"
      },
      {
        "duration": 2,
        "start_time": "2023-12-16T14:08:40.072Z"
      },
      {
        "duration": 264,
        "start_time": "2023-12-16T14:08:40.075Z"
      },
      {
        "duration": 374,
        "start_time": "2023-12-16T14:08:40.341Z"
      },
      {
        "duration": 151,
        "start_time": "2023-12-16T14:08:40.716Z"
      },
      {
        "duration": 3,
        "start_time": "2023-12-16T14:08:40.869Z"
      },
      {
        "duration": 12,
        "start_time": "2023-12-16T14:08:40.874Z"
      },
      {
        "duration": 212,
        "start_time": "2023-12-16T14:08:40.889Z"
      },
      {
        "duration": 6903,
        "start_time": "2023-12-16T14:09:28.562Z"
      },
      {
        "duration": 102,
        "start_time": "2023-12-16T14:09:35.467Z"
      },
      {
        "duration": 20,
        "start_time": "2023-12-16T14:09:35.570Z"
      },
      {
        "duration": 13,
        "start_time": "2023-12-16T14:09:35.591Z"
      },
      {
        "duration": 19,
        "start_time": "2023-12-16T14:09:35.606Z"
      },
      {
        "duration": 15,
        "start_time": "2023-12-16T14:09:35.627Z"
      },
      {
        "duration": 8,
        "start_time": "2023-12-16T14:09:35.644Z"
      },
      {
        "duration": 2,
        "start_time": "2023-12-16T14:09:35.654Z"
      },
      {
        "duration": 37,
        "start_time": "2023-12-16T14:09:35.658Z"
      },
      {
        "duration": 35,
        "start_time": "2023-12-16T14:09:35.698Z"
      },
      {
        "duration": 18,
        "start_time": "2023-12-16T14:09:35.734Z"
      },
      {
        "duration": 16,
        "start_time": "2023-12-16T14:09:35.754Z"
      },
      {
        "duration": 447,
        "start_time": "2023-12-16T14:09:35.771Z"
      },
      {
        "duration": 111,
        "start_time": "2023-12-16T14:09:36.219Z"
      },
      {
        "duration": 6,
        "start_time": "2023-12-16T14:09:36.331Z"
      },
      {
        "duration": 334,
        "start_time": "2023-12-16T14:09:36.338Z"
      },
      {
        "duration": 18,
        "start_time": "2023-12-16T14:09:36.673Z"
      },
      {
        "duration": 384,
        "start_time": "2023-12-16T14:09:36.692Z"
      },
      {
        "duration": 18,
        "start_time": "2023-12-16T14:09:37.078Z"
      },
      {
        "duration": 387,
        "start_time": "2023-12-16T14:09:37.097Z"
      },
      {
        "duration": 498,
        "start_time": "2023-12-16T14:09:37.486Z"
      },
      {
        "duration": 5,
        "start_time": "2023-12-16T14:09:37.985Z"
      },
      {
        "duration": 274,
        "start_time": "2023-12-16T14:09:37.991Z"
      },
      {
        "duration": 358,
        "start_time": "2023-12-16T14:09:38.266Z"
      },
      {
        "duration": 167,
        "start_time": "2023-12-16T14:09:38.626Z"
      },
      {
        "duration": 3,
        "start_time": "2023-12-16T14:09:38.795Z"
      },
      {
        "duration": 19,
        "start_time": "2023-12-16T14:09:38.799Z"
      },
      {
        "duration": 1871,
        "start_time": "2023-12-16T14:09:38.822Z"
      },
      {
        "duration": 21,
        "start_time": "2023-12-16T14:09:40.694Z"
      },
      {
        "duration": 280,
        "start_time": "2023-12-16T14:09:40.717Z"
      },
      {
        "duration": 25,
        "start_time": "2023-12-16T14:09:40.998Z"
      },
      {
        "duration": 21,
        "start_time": "2023-12-16T14:09:41.024Z"
      },
      {
        "duration": 9,
        "start_time": "2023-12-16T14:09:41.046Z"
      },
      {
        "duration": 8,
        "start_time": "2023-12-16T14:09:41.056Z"
      },
      {
        "duration": 7,
        "start_time": "2023-12-16T14:09:41.065Z"
      },
      {
        "duration": 6,
        "start_time": "2023-12-16T14:09:41.073Z"
      },
      {
        "duration": 37,
        "start_time": "2023-12-16T14:09:41.080Z"
      },
      {
        "duration": 6,
        "start_time": "2023-12-16T14:09:41.118Z"
      },
      {
        "duration": 5,
        "start_time": "2023-12-16T14:09:41.125Z"
      },
      {
        "duration": 475,
        "start_time": "2023-12-16T14:09:41.131Z"
      },
      {
        "duration": 274,
        "start_time": "2023-12-16T14:09:41.607Z"
      },
      {
        "duration": 13,
        "start_time": "2023-12-16T14:09:41.883Z"
      },
      {
        "duration": 97,
        "start_time": "2023-12-16T14:09:41.898Z"
      },
      {
        "duration": 119,
        "start_time": "2023-12-16T14:09:41.997Z"
      },
      {
        "duration": 231,
        "start_time": "2023-12-16T14:10:18.656Z"
      },
      {
        "duration": 5,
        "start_time": "2023-12-16T14:11:03.975Z"
      },
      {
        "duration": 4,
        "start_time": "2023-12-16T14:11:31.980Z"
      },
      {
        "duration": 5,
        "start_time": "2023-12-16T14:11:39.659Z"
      },
      {
        "duration": 6,
        "start_time": "2023-12-16T14:11:57.748Z"
      },
      {
        "duration": 166,
        "start_time": "2023-12-16T14:18:58.114Z"
      },
      {
        "duration": 13,
        "start_time": "2023-12-16T14:19:13.973Z"
      },
      {
        "duration": 6,
        "start_time": "2023-12-16T14:20:57.534Z"
      },
      {
        "duration": 7,
        "start_time": "2023-12-16T14:22:44.166Z"
      },
      {
        "duration": 8,
        "start_time": "2023-12-16T14:23:26.095Z"
      },
      {
        "duration": 14,
        "start_time": "2023-12-16T14:38:59.160Z"
      },
      {
        "duration": 8,
        "start_time": "2023-12-16T14:39:09.583Z"
      },
      {
        "duration": 14,
        "start_time": "2023-12-16T14:39:16.997Z"
      },
      {
        "duration": 4,
        "start_time": "2023-12-16T14:45:29.844Z"
      },
      {
        "duration": 16,
        "start_time": "2023-12-16T14:54:38.150Z"
      },
      {
        "duration": 9,
        "start_time": "2023-12-16T16:00:06.217Z"
      },
      {
        "duration": 9,
        "start_time": "2023-12-16T16:00:11.118Z"
      },
      {
        "duration": 12,
        "start_time": "2023-12-16T16:01:22.606Z"
      },
      {
        "duration": 14,
        "start_time": "2023-12-16T16:01:30.298Z"
      },
      {
        "duration": 13,
        "start_time": "2023-12-16T16:01:41.516Z"
      },
      {
        "duration": 546,
        "start_time": "2023-12-16T16:05:42.771Z"
      },
      {
        "duration": 77,
        "start_time": "2023-12-16T16:09:26.790Z"
      },
      {
        "duration": 92,
        "start_time": "2023-12-16T16:10:03.558Z"
      },
      {
        "duration": 12,
        "start_time": "2023-12-16T16:22:37.036Z"
      },
      {
        "duration": 4748,
        "start_time": "2023-12-16T16:23:08.092Z"
      },
      {
        "duration": 146,
        "start_time": "2023-12-16T16:23:18.021Z"
      },
      {
        "duration": 22,
        "start_time": "2023-12-16T16:24:06.799Z"
      },
      {
        "duration": 123,
        "start_time": "2023-12-16T16:24:19.788Z"
      },
      {
        "duration": 142,
        "start_time": "2023-12-16T16:24:35.102Z"
      },
      {
        "duration": 153,
        "start_time": "2023-12-16T16:24:44.546Z"
      },
      {
        "duration": 129,
        "start_time": "2023-12-16T16:24:51.987Z"
      },
      {
        "duration": 129,
        "start_time": "2023-12-16T16:25:02.405Z"
      },
      {
        "duration": 130,
        "start_time": "2023-12-16T16:25:14.518Z"
      },
      {
        "duration": 128,
        "start_time": "2023-12-16T16:25:21.236Z"
      },
      {
        "duration": 135,
        "start_time": "2023-12-16T16:25:28.164Z"
      },
      {
        "duration": 134,
        "start_time": "2023-12-16T16:28:13.441Z"
      },
      {
        "duration": 131,
        "start_time": "2023-12-16T16:28:20.553Z"
      },
      {
        "duration": 142,
        "start_time": "2023-12-16T16:29:44.655Z"
      },
      {
        "duration": 153,
        "start_time": "2023-12-16T16:34:18.041Z"
      },
      {
        "duration": 15,
        "start_time": "2023-12-16T16:40:03.851Z"
      },
      {
        "duration": 114,
        "start_time": "2023-12-16T16:40:44.964Z"
      },
      {
        "duration": 14,
        "start_time": "2023-12-16T16:46:36.874Z"
      },
      {
        "duration": 7,
        "start_time": "2023-12-16T16:47:59.680Z"
      },
      {
        "duration": 16,
        "start_time": "2023-12-16T16:52:25.604Z"
      },
      {
        "duration": 5,
        "start_time": "2023-12-16T16:52:33.516Z"
      },
      {
        "duration": 13,
        "start_time": "2023-12-16T16:52:44.434Z"
      },
      {
        "duration": 14,
        "start_time": "2023-12-16T16:53:35.139Z"
      },
      {
        "duration": 6,
        "start_time": "2023-12-16T16:56:25.180Z"
      },
      {
        "duration": 13,
        "start_time": "2023-12-16T16:58:07.383Z"
      },
      {
        "duration": 3,
        "start_time": "2023-12-16T16:59:49.382Z"
      },
      {
        "duration": 3,
        "start_time": "2023-12-16T16:59:53.662Z"
      },
      {
        "duration": 3,
        "start_time": "2023-12-16T16:59:57.502Z"
      },
      {
        "duration": 15,
        "start_time": "2023-12-16T17:00:03.174Z"
      },
      {
        "duration": 15,
        "start_time": "2023-12-16T17:01:31.879Z"
      },
      {
        "duration": 9,
        "start_time": "2023-12-16T17:14:36.262Z"
      },
      {
        "duration": 15,
        "start_time": "2023-12-16T17:15:34.239Z"
      },
      {
        "duration": 17,
        "start_time": "2023-12-16T17:19:23.346Z"
      },
      {
        "duration": 3,
        "start_time": "2023-12-16T17:19:32.151Z"
      },
      {
        "duration": 16,
        "start_time": "2023-12-16T17:19:38.886Z"
      },
      {
        "duration": 16,
        "start_time": "2023-12-16T17:19:53.022Z"
      },
      {
        "duration": 5,
        "start_time": "2023-12-16T17:20:42.042Z"
      },
      {
        "duration": 16,
        "start_time": "2023-12-16T17:36:50.096Z"
      },
      {
        "duration": 16,
        "start_time": "2023-12-16T17:37:58.065Z"
      },
      {
        "duration": 7,
        "start_time": "2023-12-16T17:38:22.924Z"
      },
      {
        "duration": 16,
        "start_time": "2023-12-16T17:50:43.598Z"
      },
      {
        "duration": 4617,
        "start_time": "2023-12-16T17:51:38.249Z"
      },
      {
        "duration": 10,
        "start_time": "2023-12-16T17:51:48.885Z"
      },
      {
        "duration": 9,
        "start_time": "2023-12-16T17:52:16.920Z"
      },
      {
        "duration": 2102,
        "start_time": "2023-12-16T17:52:41.012Z"
      },
      {
        "duration": 427,
        "start_time": "2023-12-16T17:53:25.545Z"
      },
      {
        "duration": 21,
        "start_time": "2023-12-16T18:06:11.929Z"
      },
      {
        "duration": 23,
        "start_time": "2023-12-16T18:06:36.843Z"
      },
      {
        "duration": 4705,
        "start_time": "2023-12-16T18:07:41.464Z"
      },
      {
        "duration": 35,
        "start_time": "2023-12-16T18:07:51.464Z"
      },
      {
        "duration": 5,
        "start_time": "2023-12-16T18:11:01.336Z"
      },
      {
        "duration": 5,
        "start_time": "2023-12-16T18:11:24.860Z"
      },
      {
        "duration": 7,
        "start_time": "2023-12-16T18:11:32.690Z"
      },
      {
        "duration": 8,
        "start_time": "2023-12-16T18:11:59.348Z"
      },
      {
        "duration": 10,
        "start_time": "2023-12-16T18:12:03.785Z"
      },
      {
        "duration": 2222,
        "start_time": "2023-12-16T18:12:06.115Z"
      },
      {
        "duration": 18,
        "start_time": "2023-12-16T18:12:11.507Z"
      },
      {
        "duration": 13549,
        "start_time": "2023-12-17T09:11:49.979Z"
      },
      {
        "duration": 182,
        "start_time": "2023-12-17T09:12:03.530Z"
      },
      {
        "duration": 21,
        "start_time": "2023-12-17T09:12:03.714Z"
      },
      {
        "duration": 23,
        "start_time": "2023-12-17T09:12:03.737Z"
      },
      {
        "duration": 36,
        "start_time": "2023-12-17T09:12:03.761Z"
      },
      {
        "duration": 57,
        "start_time": "2023-12-17T09:12:03.798Z"
      },
      {
        "duration": 38,
        "start_time": "2023-12-17T09:12:03.857Z"
      },
      {
        "duration": 4,
        "start_time": "2023-12-17T09:12:03.897Z"
      },
      {
        "duration": 33,
        "start_time": "2023-12-17T09:12:03.903Z"
      },
      {
        "duration": 24,
        "start_time": "2023-12-17T09:12:03.940Z"
      },
      {
        "duration": 37,
        "start_time": "2023-12-17T09:12:03.965Z"
      },
      {
        "duration": 13,
        "start_time": "2023-12-17T09:12:04.004Z"
      },
      {
        "duration": 451,
        "start_time": "2023-12-17T09:12:04.019Z"
      },
      {
        "duration": 116,
        "start_time": "2023-12-17T09:12:04.472Z"
      },
      {
        "duration": 13,
        "start_time": "2023-12-17T09:12:04.590Z"
      },
      {
        "duration": 350,
        "start_time": "2023-12-17T09:12:04.604Z"
      },
      {
        "duration": 19,
        "start_time": "2023-12-17T09:12:04.955Z"
      },
      {
        "duration": 403,
        "start_time": "2023-12-17T09:12:04.976Z"
      },
      {
        "duration": 28,
        "start_time": "2023-12-17T09:12:05.381Z"
      },
      {
        "duration": 413,
        "start_time": "2023-12-17T09:12:05.411Z"
      },
      {
        "duration": 562,
        "start_time": "2023-12-17T09:12:05.826Z"
      },
      {
        "duration": 5,
        "start_time": "2023-12-17T09:12:06.390Z"
      },
      {
        "duration": 344,
        "start_time": "2023-12-17T09:12:06.400Z"
      },
      {
        "duration": 455,
        "start_time": "2023-12-17T09:12:06.747Z"
      },
      {
        "duration": 162,
        "start_time": "2023-12-17T09:12:07.204Z"
      },
      {
        "duration": 4,
        "start_time": "2023-12-17T09:12:07.367Z"
      },
      {
        "duration": 27,
        "start_time": "2023-12-17T09:12:07.372Z"
      },
      {
        "duration": 2099,
        "start_time": "2023-12-17T09:12:07.403Z"
      },
      {
        "duration": 16,
        "start_time": "2023-12-17T09:12:09.504Z"
      },
      {
        "duration": 182,
        "start_time": "2023-12-17T09:12:09.521Z"
      },
      {
        "duration": 21,
        "start_time": "2023-12-17T09:12:09.704Z"
      },
      {
        "duration": 36,
        "start_time": "2023-12-17T09:12:09.727Z"
      },
      {
        "duration": 44,
        "start_time": "2023-12-17T09:12:09.765Z"
      },
      {
        "duration": 10,
        "start_time": "2023-12-17T09:12:09.811Z"
      },
      {
        "duration": 10,
        "start_time": "2023-12-17T09:12:09.822Z"
      },
      {
        "duration": 61,
        "start_time": "2023-12-17T09:12:09.834Z"
      },
      {
        "duration": 72,
        "start_time": "2023-12-17T09:12:09.896Z"
      },
      {
        "duration": 27,
        "start_time": "2023-12-17T09:12:09.970Z"
      },
      {
        "duration": 28,
        "start_time": "2023-12-17T09:12:09.999Z"
      },
      {
        "duration": 61,
        "start_time": "2023-12-17T09:12:10.029Z"
      },
      {
        "duration": 47,
        "start_time": "2023-12-17T09:12:10.092Z"
      },
      {
        "duration": 17,
        "start_time": "2023-12-17T09:12:10.141Z"
      },
      {
        "duration": 512,
        "start_time": "2023-12-17T09:12:10.159Z"
      },
      {
        "duration": 312,
        "start_time": "2023-12-17T09:12:10.673Z"
      },
      {
        "duration": 23,
        "start_time": "2023-12-17T09:12:10.987Z"
      },
      {
        "duration": 141,
        "start_time": "2023-12-17T09:12:11.011Z"
      },
      {
        "duration": 8,
        "start_time": "2023-12-17T09:12:11.153Z"
      },
      {
        "duration": 20,
        "start_time": "2023-12-17T09:12:11.163Z"
      },
      {
        "duration": 23,
        "start_time": "2023-12-17T09:12:11.185Z"
      },
      {
        "duration": 292,
        "start_time": "2023-12-17T09:12:11.210Z"
      },
      {
        "duration": 15,
        "start_time": "2023-12-17T09:12:11.503Z"
      },
      {
        "duration": 10,
        "start_time": "2023-12-17T09:12:11.520Z"
      },
      {
        "duration": 18,
        "start_time": "2023-12-17T09:12:11.532Z"
      },
      {
        "duration": 18,
        "start_time": "2023-12-17T09:12:11.552Z"
      },
      {
        "duration": 29,
        "start_time": "2023-12-17T09:12:11.571Z"
      },
      {
        "duration": 24,
        "start_time": "2023-12-17T09:12:11.602Z"
      },
      {
        "duration": 9,
        "start_time": "2023-12-17T09:12:11.628Z"
      },
      {
        "duration": 10,
        "start_time": "2023-12-17T09:12:11.638Z"
      },
      {
        "duration": 2201,
        "start_time": "2023-12-17T09:12:11.650Z"
      },
      {
        "duration": 18,
        "start_time": "2023-12-17T09:12:13.853Z"
      },
      {
        "duration": 183,
        "start_time": "2023-12-17T09:12:37.816Z"
      },
      {
        "duration": 5,
        "start_time": "2023-12-17T09:15:00.730Z"
      },
      {
        "duration": 23,
        "start_time": "2023-12-17T09:15:21.634Z"
      },
      {
        "duration": 19,
        "start_time": "2023-12-17T09:16:44.587Z"
      },
      {
        "duration": 10,
        "start_time": "2023-12-17T09:18:20.512Z"
      },
      {
        "duration": 2110,
        "start_time": "2023-12-17T09:18:36.095Z"
      },
      {
        "duration": 18,
        "start_time": "2023-12-17T09:18:44.759Z"
      },
      {
        "duration": 7,
        "start_time": "2023-12-17T09:20:34.768Z"
      },
      {
        "duration": 2264,
        "start_time": "2023-12-17T09:20:40.725Z"
      },
      {
        "duration": 22,
        "start_time": "2023-12-17T09:20:47.013Z"
      },
      {
        "duration": 10,
        "start_time": "2023-12-17T10:00:18.764Z"
      },
      {
        "duration": 2297,
        "start_time": "2023-12-17T10:00:22.796Z"
      },
      {
        "duration": 22,
        "start_time": "2023-12-17T10:00:28.917Z"
      },
      {
        "duration": 9,
        "start_time": "2023-12-17T10:01:07.398Z"
      },
      {
        "duration": 2285,
        "start_time": "2023-12-17T10:01:09.975Z"
      },
      {
        "duration": 22,
        "start_time": "2023-12-17T10:01:26.019Z"
      },
      {
        "duration": 9,
        "start_time": "2023-12-17T10:01:38.330Z"
      },
      {
        "duration": 2372,
        "start_time": "2023-12-17T10:01:40.723Z"
      },
      {
        "duration": 20,
        "start_time": "2023-12-17T10:01:48.195Z"
      },
      {
        "duration": 25,
        "start_time": "2023-12-17T10:05:18.539Z"
      },
      {
        "duration": 9,
        "start_time": "2023-12-17T10:05:31.574Z"
      },
      {
        "duration": 10497,
        "start_time": "2023-12-17T10:05:34.420Z"
      },
      {
        "duration": 7927,
        "start_time": "2023-12-17T10:26:00.924Z"
      },
      {
        "duration": 211,
        "start_time": "2023-12-17T10:26:08.853Z"
      },
      {
        "duration": 21,
        "start_time": "2023-12-17T10:26:09.065Z"
      },
      {
        "duration": 16,
        "start_time": "2023-12-17T10:26:09.088Z"
      },
      {
        "duration": 30,
        "start_time": "2023-12-17T10:26:09.105Z"
      },
      {
        "duration": 15,
        "start_time": "2023-12-17T10:26:09.137Z"
      },
      {
        "duration": 11,
        "start_time": "2023-12-17T10:26:09.153Z"
      },
      {
        "duration": 3,
        "start_time": "2023-12-17T10:26:09.165Z"
      },
      {
        "duration": 40,
        "start_time": "2023-12-17T10:26:09.169Z"
      },
      {
        "duration": 24,
        "start_time": "2023-12-17T10:26:09.212Z"
      },
      {
        "duration": 20,
        "start_time": "2023-12-17T10:26:09.237Z"
      },
      {
        "duration": 11,
        "start_time": "2023-12-17T10:26:09.258Z"
      },
      {
        "duration": 477,
        "start_time": "2023-12-17T10:26:09.300Z"
      },
      {
        "duration": 125,
        "start_time": "2023-12-17T10:26:09.779Z"
      },
      {
        "duration": 6,
        "start_time": "2023-12-17T10:26:09.905Z"
      },
      {
        "duration": 372,
        "start_time": "2023-12-17T10:26:09.912Z"
      },
      {
        "duration": 28,
        "start_time": "2023-12-17T10:26:10.286Z"
      },
      {
        "duration": 422,
        "start_time": "2023-12-17T10:26:10.316Z"
      },
      {
        "duration": 19,
        "start_time": "2023-12-17T10:26:10.739Z"
      },
      {
        "duration": 418,
        "start_time": "2023-12-17T10:26:10.760Z"
      },
      {
        "duration": 564,
        "start_time": "2023-12-17T10:26:11.180Z"
      },
      {
        "duration": 5,
        "start_time": "2023-12-17T10:26:11.746Z"
      },
      {
        "duration": 288,
        "start_time": "2023-12-17T10:26:11.753Z"
      },
      {
        "duration": 359,
        "start_time": "2023-12-17T10:26:12.043Z"
      },
      {
        "duration": 169,
        "start_time": "2023-12-17T10:26:12.404Z"
      },
      {
        "duration": 4,
        "start_time": "2023-12-17T10:26:12.574Z"
      },
      {
        "duration": 22,
        "start_time": "2023-12-17T10:26:12.579Z"
      },
      {
        "duration": 2039,
        "start_time": "2023-12-17T10:26:12.605Z"
      },
      {
        "duration": 18,
        "start_time": "2023-12-17T10:26:14.646Z"
      },
      {
        "duration": 154,
        "start_time": "2023-12-17T10:26:14.665Z"
      },
      {
        "duration": 16,
        "start_time": "2023-12-17T10:26:14.821Z"
      },
      {
        "duration": 28,
        "start_time": "2023-12-17T10:26:14.839Z"
      },
      {
        "duration": 24,
        "start_time": "2023-12-17T10:26:14.868Z"
      },
      {
        "duration": 21,
        "start_time": "2023-12-17T10:26:14.894Z"
      },
      {
        "duration": 19,
        "start_time": "2023-12-17T10:26:14.916Z"
      },
      {
        "duration": 9,
        "start_time": "2023-12-17T10:26:14.936Z"
      },
      {
        "duration": 8,
        "start_time": "2023-12-17T10:26:14.946Z"
      },
      {
        "duration": 7,
        "start_time": "2023-12-17T10:26:14.956Z"
      },
      {
        "duration": 40,
        "start_time": "2023-12-17T10:26:14.964Z"
      },
      {
        "duration": 62,
        "start_time": "2023-12-17T10:26:15.006Z"
      },
      {
        "duration": 35,
        "start_time": "2023-12-17T10:26:15.069Z"
      },
      {
        "duration": 28,
        "start_time": "2023-12-17T10:26:15.106Z"
      },
      {
        "duration": 8,
        "start_time": "2023-12-17T10:26:15.136Z"
      },
      {
        "duration": 636,
        "start_time": "2023-12-17T10:26:15.146Z"
      },
      {
        "duration": 0,
        "start_time": "2023-12-17T10:26:15.784Z"
      },
      {
        "duration": 0,
        "start_time": "2023-12-17T10:26:15.785Z"
      },
      {
        "duration": 0,
        "start_time": "2023-12-17T10:26:15.786Z"
      },
      {
        "duration": 0,
        "start_time": "2023-12-17T10:26:15.787Z"
      },
      {
        "duration": 0,
        "start_time": "2023-12-17T10:26:15.788Z"
      },
      {
        "duration": 0,
        "start_time": "2023-12-17T10:26:15.800Z"
      },
      {
        "duration": 0,
        "start_time": "2023-12-17T10:26:15.801Z"
      },
      {
        "duration": 0,
        "start_time": "2023-12-17T10:26:15.802Z"
      },
      {
        "duration": 0,
        "start_time": "2023-12-17T10:26:15.803Z"
      },
      {
        "duration": 0,
        "start_time": "2023-12-17T10:26:15.804Z"
      },
      {
        "duration": 0,
        "start_time": "2023-12-17T10:26:15.806Z"
      },
      {
        "duration": 0,
        "start_time": "2023-12-17T10:26:15.807Z"
      },
      {
        "duration": 0,
        "start_time": "2023-12-17T10:26:15.808Z"
      },
      {
        "duration": 0,
        "start_time": "2023-12-17T10:26:15.809Z"
      },
      {
        "duration": 0,
        "start_time": "2023-12-17T10:26:15.811Z"
      },
      {
        "duration": 0,
        "start_time": "2023-12-17T10:26:15.812Z"
      },
      {
        "duration": 0,
        "start_time": "2023-12-17T10:26:15.813Z"
      },
      {
        "duration": 465,
        "start_time": "2023-12-17T10:47:29.119Z"
      },
      {
        "duration": 608,
        "start_time": "2023-12-17T10:47:44.406Z"
      },
      {
        "duration": 5041,
        "start_time": "2023-12-17T10:51:40.814Z"
      },
      {
        "duration": 129,
        "start_time": "2023-12-17T10:51:45.857Z"
      },
      {
        "duration": 23,
        "start_time": "2023-12-17T10:51:45.988Z"
      },
      {
        "duration": 18,
        "start_time": "2023-12-17T10:51:46.013Z"
      },
      {
        "duration": 23,
        "start_time": "2023-12-17T10:51:46.033Z"
      },
      {
        "duration": 25,
        "start_time": "2023-12-17T10:51:46.058Z"
      },
      {
        "duration": 24,
        "start_time": "2023-12-17T10:51:46.084Z"
      },
      {
        "duration": 8,
        "start_time": "2023-12-17T10:51:46.110Z"
      },
      {
        "duration": 41,
        "start_time": "2023-12-17T10:51:46.119Z"
      },
      {
        "duration": 25,
        "start_time": "2023-12-17T10:51:46.162Z"
      },
      {
        "duration": 21,
        "start_time": "2023-12-17T10:51:46.199Z"
      },
      {
        "duration": 37,
        "start_time": "2023-12-17T10:51:46.222Z"
      },
      {
        "duration": 434,
        "start_time": "2023-12-17T10:51:46.261Z"
      },
      {
        "duration": 119,
        "start_time": "2023-12-17T10:51:46.701Z"
      },
      {
        "duration": 7,
        "start_time": "2023-12-17T10:51:46.822Z"
      },
      {
        "duration": 348,
        "start_time": "2023-12-17T10:51:46.831Z"
      },
      {
        "duration": 28,
        "start_time": "2023-12-17T10:51:47.181Z"
      },
      {
        "duration": 423,
        "start_time": "2023-12-17T10:51:47.210Z"
      },
      {
        "duration": 19,
        "start_time": "2023-12-17T10:51:47.635Z"
      },
      {
        "duration": 397,
        "start_time": "2023-12-17T10:51:47.655Z"
      },
      {
        "duration": 424,
        "start_time": "2023-12-17T10:51:48.054Z"
      },
      {
        "duration": 5,
        "start_time": "2023-12-17T10:51:48.480Z"
      },
      {
        "duration": 463,
        "start_time": "2023-12-17T10:51:48.487Z"
      },
      {
        "duration": 462,
        "start_time": "2023-12-17T10:51:48.952Z"
      },
      {
        "duration": 162,
        "start_time": "2023-12-17T10:51:49.416Z"
      },
      {
        "duration": 4,
        "start_time": "2023-12-17T10:51:49.580Z"
      },
      {
        "duration": 20,
        "start_time": "2023-12-17T10:51:49.586Z"
      },
      {
        "duration": 2300,
        "start_time": "2023-12-17T10:51:49.609Z"
      },
      {
        "duration": 17,
        "start_time": "2023-12-17T10:51:51.911Z"
      },
      {
        "duration": 131,
        "start_time": "2023-12-17T10:51:51.930Z"
      },
      {
        "duration": 17,
        "start_time": "2023-12-17T10:51:52.063Z"
      },
      {
        "duration": 35,
        "start_time": "2023-12-17T10:51:52.082Z"
      },
      {
        "duration": 25,
        "start_time": "2023-12-17T10:51:52.119Z"
      },
      {
        "duration": 23,
        "start_time": "2023-12-17T10:52:41.868Z"
      },
      {
        "duration": 22,
        "start_time": "2023-12-17T10:52:56.562Z"
      },
      {
        "duration": 484,
        "start_time": "2023-12-17T10:53:54.047Z"
      },
      {
        "duration": 500,
        "start_time": "2023-12-17T10:54:04.248Z"
      },
      {
        "duration": 20,
        "start_time": "2023-12-17T10:55:03.619Z"
      },
      {
        "duration": 15,
        "start_time": "2023-12-17T10:55:23.349Z"
      },
      {
        "duration": 20,
        "start_time": "2023-12-17T10:55:44.092Z"
      },
      {
        "duration": 12,
        "start_time": "2023-12-17T10:57:55.368Z"
      },
      {
        "duration": 288,
        "start_time": "2023-12-17T10:58:11.587Z"
      },
      {
        "duration": 14,
        "start_time": "2023-12-17T10:58:12.960Z"
      },
      {
        "duration": 99,
        "start_time": "2023-12-17T10:58:17.278Z"
      },
      {
        "duration": 6,
        "start_time": "2023-12-17T10:58:18.515Z"
      },
      {
        "duration": 7,
        "start_time": "2023-12-17T10:58:19.155Z"
      },
      {
        "duration": 14,
        "start_time": "2023-12-17T10:58:22.134Z"
      },
      {
        "duration": 148,
        "start_time": "2023-12-17T10:58:24.978Z"
      },
      {
        "duration": 4,
        "start_time": "2023-12-17T10:58:31.653Z"
      },
      {
        "duration": 15,
        "start_time": "2023-12-17T10:58:34.411Z"
      },
      {
        "duration": 17,
        "start_time": "2023-12-17T10:58:35.258Z"
      },
      {
        "duration": 4,
        "start_time": "2023-12-17T10:58:36.026Z"
      },
      {
        "duration": 22,
        "start_time": "2023-12-17T10:59:16.507Z"
      },
      {
        "duration": 19,
        "start_time": "2023-12-17T11:00:18.974Z"
      },
      {
        "duration": 6,
        "start_time": "2023-12-17T11:01:26.652Z"
      },
      {
        "duration": 18,
        "start_time": "2023-12-17T11:01:44.846Z"
      },
      {
        "duration": 18,
        "start_time": "2023-12-17T11:01:51.584Z"
      },
      {
        "duration": 9,
        "start_time": "2023-12-17T11:02:14.421Z"
      },
      {
        "duration": 805,
        "start_time": "2023-12-17T11:02:24.697Z"
      },
      {
        "duration": 6,
        "start_time": "2023-12-17T11:03:28.109Z"
      },
      {
        "duration": 19,
        "start_time": "2023-12-17T11:03:52.884Z"
      },
      {
        "duration": 4,
        "start_time": "2023-12-17T11:04:00.482Z"
      },
      {
        "duration": 4,
        "start_time": "2023-12-17T11:04:11.054Z"
      },
      {
        "duration": 7,
        "start_time": "2023-12-17T11:04:57.310Z"
      },
      {
        "duration": 8,
        "start_time": "2023-12-17T11:05:03.289Z"
      },
      {
        "duration": 896,
        "start_time": "2023-12-17T11:05:05.317Z"
      },
      {
        "duration": 6,
        "start_time": "2023-12-17T11:09:01.199Z"
      },
      {
        "duration": 12,
        "start_time": "2023-12-17T11:09:07.298Z"
      },
      {
        "duration": 17,
        "start_time": "2023-12-17T11:13:56.054Z"
      },
      {
        "duration": 6,
        "start_time": "2023-12-17T11:14:19.238Z"
      },
      {
        "duration": 16,
        "start_time": "2023-12-17T11:14:19.831Z"
      },
      {
        "duration": 19,
        "start_time": "2023-12-17T11:14:20.387Z"
      },
      {
        "duration": 4,
        "start_time": "2023-12-17T11:14:20.895Z"
      },
      {
        "duration": 20,
        "start_time": "2023-12-17T11:14:24.286Z"
      },
      {
        "duration": 7,
        "start_time": "2023-12-17T11:14:27.952Z"
      },
      {
        "duration": 4,
        "start_time": "2023-12-17T11:14:37.788Z"
      },
      {
        "duration": 4,
        "start_time": "2023-12-17T11:14:38.457Z"
      },
      {
        "duration": 9,
        "start_time": "2023-12-17T11:14:57.465Z"
      },
      {
        "duration": 2093,
        "start_time": "2023-12-17T11:14:59.512Z"
      },
      {
        "duration": 20,
        "start_time": "2023-12-17T11:15:04.722Z"
      },
      {
        "duration": 10,
        "start_time": "2023-12-17T11:15:52.427Z"
      },
      {
        "duration": 1869,
        "start_time": "2023-12-17T11:15:54.021Z"
      },
      {
        "duration": 21,
        "start_time": "2023-12-17T11:15:58.830Z"
      },
      {
        "duration": 4,
        "start_time": "2023-12-17T11:17:03.050Z"
      },
      {
        "duration": 4,
        "start_time": "2023-12-17T11:17:12.848Z"
      },
      {
        "duration": 6,
        "start_time": "2023-12-17T11:18:16.626Z"
      },
      {
        "duration": 4,
        "start_time": "2023-12-17T11:18:17.843Z"
      },
      {
        "duration": 3,
        "start_time": "2023-12-17T11:18:18.591Z"
      },
      {
        "duration": 9,
        "start_time": "2023-12-17T11:18:20.296Z"
      },
      {
        "duration": 51,
        "start_time": "2023-12-17T11:18:21.297Z"
      },
      {
        "duration": 9,
        "start_time": "2023-12-17T11:18:44.616Z"
      },
      {
        "duration": 4,
        "start_time": "2023-12-17T11:18:45.158Z"
      },
      {
        "duration": 4,
        "start_time": "2023-12-17T11:18:45.696Z"
      },
      {
        "duration": 9,
        "start_time": "2023-12-17T11:18:46.236Z"
      },
      {
        "duration": 49,
        "start_time": "2023-12-17T11:18:47.030Z"
      },
      {
        "duration": 10,
        "start_time": "2023-12-17T11:20:10.188Z"
      },
      {
        "duration": 4,
        "start_time": "2023-12-17T11:20:11.694Z"
      },
      {
        "duration": 4,
        "start_time": "2023-12-17T11:20:12.317Z"
      },
      {
        "duration": 9,
        "start_time": "2023-12-17T11:20:13.155Z"
      },
      {
        "duration": 1842,
        "start_time": "2023-12-17T11:20:13.979Z"
      },
      {
        "duration": 19,
        "start_time": "2023-12-17T11:20:18.632Z"
      },
      {
        "duration": 9,
        "start_time": "2023-12-17T11:20:26.249Z"
      },
      {
        "duration": 4,
        "start_time": "2023-12-17T11:20:26.808Z"
      },
      {
        "duration": 4,
        "start_time": "2023-12-17T11:20:27.264Z"
      },
      {
        "duration": 9,
        "start_time": "2023-12-17T11:20:27.693Z"
      },
      {
        "duration": 1809,
        "start_time": "2023-12-17T11:20:29.178Z"
      },
      {
        "duration": 20,
        "start_time": "2023-12-17T11:20:33.495Z"
      },
      {
        "duration": 6,
        "start_time": "2023-12-17T11:20:51.283Z"
      },
      {
        "duration": 4,
        "start_time": "2023-12-17T11:20:52.621Z"
      },
      {
        "duration": 4,
        "start_time": "2023-12-17T11:20:53.062Z"
      },
      {
        "duration": 10,
        "start_time": "2023-12-17T11:20:53.560Z"
      },
      {
        "duration": 1859,
        "start_time": "2023-12-17T11:20:54.483Z"
      },
      {
        "duration": 22,
        "start_time": "2023-12-17T11:21:00.197Z"
      },
      {
        "duration": 7507,
        "start_time": "2023-12-17T11:22:03.090Z"
      },
      {
        "duration": 58,
        "start_time": "2023-12-17T11:22:10.601Z"
      },
      {
        "duration": 20,
        "start_time": "2023-12-17T11:22:10.661Z"
      },
      {
        "duration": 16,
        "start_time": "2023-12-17T11:22:10.684Z"
      },
      {
        "duration": 12,
        "start_time": "2023-12-17T11:22:10.702Z"
      },
      {
        "duration": 17,
        "start_time": "2023-12-17T11:22:10.715Z"
      },
      {
        "duration": 10,
        "start_time": "2023-12-17T11:22:10.733Z"
      },
      {
        "duration": 4,
        "start_time": "2023-12-17T11:22:10.744Z"
      },
      {
        "duration": 53,
        "start_time": "2023-12-17T11:22:10.749Z"
      },
      {
        "duration": 24,
        "start_time": "2023-12-17T11:22:10.804Z"
      },
      {
        "duration": 20,
        "start_time": "2023-12-17T11:22:10.829Z"
      },
      {
        "duration": 12,
        "start_time": "2023-12-17T11:22:10.850Z"
      },
      {
        "duration": 481,
        "start_time": "2023-12-17T11:22:10.863Z"
      },
      {
        "duration": 122,
        "start_time": "2023-12-17T11:22:11.346Z"
      },
      {
        "duration": 6,
        "start_time": "2023-12-17T11:22:11.469Z"
      },
      {
        "duration": 438,
        "start_time": "2023-12-17T11:22:11.476Z"
      },
      {
        "duration": 19,
        "start_time": "2023-12-17T11:22:11.916Z"
      },
      {
        "duration": 421,
        "start_time": "2023-12-17T11:22:11.936Z"
      },
      {
        "duration": 18,
        "start_time": "2023-12-17T11:22:12.358Z"
      },
      {
        "duration": 399,
        "start_time": "2023-12-17T11:22:12.378Z"
      },
      {
        "duration": 541,
        "start_time": "2023-12-17T11:22:12.779Z"
      },
      {
        "duration": 5,
        "start_time": "2023-12-17T11:22:13.321Z"
      },
      {
        "duration": 273,
        "start_time": "2023-12-17T11:22:13.328Z"
      },
      {
        "duration": 355,
        "start_time": "2023-12-17T11:22:13.603Z"
      },
      {
        "duration": 175,
        "start_time": "2023-12-17T11:22:13.960Z"
      },
      {
        "duration": 5,
        "start_time": "2023-12-17T11:22:14.137Z"
      },
      {
        "duration": 32,
        "start_time": "2023-12-17T11:22:14.144Z"
      },
      {
        "duration": 2029,
        "start_time": "2023-12-17T11:22:14.181Z"
      },
      {
        "duration": 23,
        "start_time": "2023-12-17T11:22:16.212Z"
      },
      {
        "duration": 82,
        "start_time": "2023-12-17T11:22:16.237Z"
      },
      {
        "duration": 15,
        "start_time": "2023-12-17T11:22:16.321Z"
      },
      {
        "duration": 27,
        "start_time": "2023-12-17T11:22:16.338Z"
      },
      {
        "duration": 66,
        "start_time": "2023-12-17T11:22:16.367Z"
      },
      {
        "duration": 45,
        "start_time": "2023-12-17T11:22:16.435Z"
      },
      {
        "duration": 24,
        "start_time": "2023-12-17T11:22:16.482Z"
      },
      {
        "duration": 41,
        "start_time": "2023-12-17T11:22:16.508Z"
      },
      {
        "duration": 25,
        "start_time": "2023-12-17T11:22:16.551Z"
      },
      {
        "duration": 19,
        "start_time": "2023-12-17T11:22:16.578Z"
      },
      {
        "duration": 8,
        "start_time": "2023-12-17T11:22:16.599Z"
      },
      {
        "duration": 16,
        "start_time": "2023-12-17T11:22:16.608Z"
      },
      {
        "duration": 18,
        "start_time": "2023-12-17T11:22:16.626Z"
      },
      {
        "duration": 34,
        "start_time": "2023-12-17T11:22:16.646Z"
      },
      {
        "duration": 8,
        "start_time": "2023-12-17T11:22:16.681Z"
      },
      {
        "duration": 501,
        "start_time": "2023-12-17T11:22:16.690Z"
      },
      {
        "duration": 297,
        "start_time": "2023-12-17T11:22:17.193Z"
      },
      {
        "duration": 20,
        "start_time": "2023-12-17T11:22:17.491Z"
      },
      {
        "duration": 110,
        "start_time": "2023-12-17T11:22:17.512Z"
      },
      {
        "duration": 7,
        "start_time": "2023-12-17T11:22:17.623Z"
      },
      {
        "duration": 8,
        "start_time": "2023-12-17T11:22:17.631Z"
      },
      {
        "duration": 15,
        "start_time": "2023-12-17T11:22:17.641Z"
      },
      {
        "duration": 296,
        "start_time": "2023-12-17T11:22:17.657Z"
      },
      {
        "duration": 4,
        "start_time": "2023-12-17T11:22:17.955Z"
      },
      {
        "duration": 15,
        "start_time": "2023-12-17T11:22:17.961Z"
      },
      {
        "duration": 9,
        "start_time": "2023-12-17T11:22:17.978Z"
      },
      {
        "duration": 25,
        "start_time": "2023-12-17T11:22:17.988Z"
      },
      {
        "duration": 20,
        "start_time": "2023-12-17T11:22:18.015Z"
      },
      {
        "duration": 3,
        "start_time": "2023-12-17T11:22:18.037Z"
      },
      {
        "duration": 22,
        "start_time": "2023-12-17T11:22:18.041Z"
      },
      {
        "duration": 8,
        "start_time": "2023-12-17T11:22:18.064Z"
      },
      {
        "duration": 27,
        "start_time": "2023-12-17T11:22:18.073Z"
      },
      {
        "duration": 4,
        "start_time": "2023-12-17T11:22:18.101Z"
      },
      {
        "duration": 9,
        "start_time": "2023-12-17T11:22:18.107Z"
      },
      {
        "duration": 1851,
        "start_time": "2023-12-17T11:22:18.117Z"
      },
      {
        "duration": 19,
        "start_time": "2023-12-17T11:22:19.969Z"
      },
      {
        "duration": 23,
        "start_time": "2023-12-17T11:23:20.157Z"
      },
      {
        "duration": 9,
        "start_time": "2023-12-17T11:23:29.551Z"
      },
      {
        "duration": 9,
        "start_time": "2023-12-17T11:23:33.476Z"
      },
      {
        "duration": 1877,
        "start_time": "2023-12-17T11:23:34.410Z"
      },
      {
        "duration": 20,
        "start_time": "2023-12-17T11:23:39.380Z"
      },
      {
        "duration": 12311,
        "start_time": "2023-12-18T08:08:57.054Z"
      },
      {
        "duration": 348,
        "start_time": "2023-12-18T08:09:09.367Z"
      },
      {
        "duration": 19,
        "start_time": "2023-12-18T08:09:09.716Z"
      },
      {
        "duration": 14,
        "start_time": "2023-12-18T08:09:09.737Z"
      },
      {
        "duration": 26,
        "start_time": "2023-12-18T08:09:09.752Z"
      },
      {
        "duration": 17,
        "start_time": "2023-12-18T08:09:09.779Z"
      },
      {
        "duration": 20,
        "start_time": "2023-12-18T08:09:09.797Z"
      },
      {
        "duration": 3,
        "start_time": "2023-12-18T08:09:09.818Z"
      },
      {
        "duration": 46,
        "start_time": "2023-12-18T08:09:09.822Z"
      },
      {
        "duration": 22,
        "start_time": "2023-12-18T08:09:09.870Z"
      },
      {
        "duration": 24,
        "start_time": "2023-12-18T08:09:09.894Z"
      },
      {
        "duration": 22,
        "start_time": "2023-12-18T08:09:09.919Z"
      },
      {
        "duration": 419,
        "start_time": "2023-12-18T08:09:09.942Z"
      },
      {
        "duration": 104,
        "start_time": "2023-12-18T08:09:10.365Z"
      },
      {
        "duration": 5,
        "start_time": "2023-12-18T08:09:10.470Z"
      },
      {
        "duration": 338,
        "start_time": "2023-12-18T08:09:10.477Z"
      },
      {
        "duration": 18,
        "start_time": "2023-12-18T08:09:10.817Z"
      },
      {
        "duration": 374,
        "start_time": "2023-12-18T08:09:10.836Z"
      },
      {
        "duration": 17,
        "start_time": "2023-12-18T08:09:11.212Z"
      },
      {
        "duration": 389,
        "start_time": "2023-12-18T08:09:11.231Z"
      },
      {
        "duration": 492,
        "start_time": "2023-12-18T08:09:11.622Z"
      },
      {
        "duration": 5,
        "start_time": "2023-12-18T08:09:12.116Z"
      },
      {
        "duration": 267,
        "start_time": "2023-12-18T08:09:12.123Z"
      },
      {
        "duration": 381,
        "start_time": "2023-12-18T08:09:12.392Z"
      },
      {
        "duration": 159,
        "start_time": "2023-12-18T08:09:12.775Z"
      },
      {
        "duration": 4,
        "start_time": "2023-12-18T08:09:12.936Z"
      },
      {
        "duration": 24,
        "start_time": "2023-12-18T08:09:12.941Z"
      },
      {
        "duration": 1787,
        "start_time": "2023-12-18T08:09:12.970Z"
      },
      {
        "duration": 16,
        "start_time": "2023-12-18T08:09:14.765Z"
      },
      {
        "duration": 183,
        "start_time": "2023-12-18T08:09:14.782Z"
      },
      {
        "duration": 17,
        "start_time": "2023-12-18T08:09:14.966Z"
      },
      {
        "duration": 24,
        "start_time": "2023-12-18T08:09:14.984Z"
      },
      {
        "duration": 38,
        "start_time": "2023-12-18T08:09:15.009Z"
      },
      {
        "duration": 40,
        "start_time": "2023-12-18T08:09:15.049Z"
      },
      {
        "duration": 43,
        "start_time": "2023-12-18T08:09:15.090Z"
      },
      {
        "duration": 8,
        "start_time": "2023-12-18T08:09:15.134Z"
      },
      {
        "duration": 9,
        "start_time": "2023-12-18T08:09:15.143Z"
      },
      {
        "duration": 9,
        "start_time": "2023-12-18T08:09:15.153Z"
      },
      {
        "duration": 16,
        "start_time": "2023-12-18T08:09:15.163Z"
      },
      {
        "duration": 23,
        "start_time": "2023-12-18T08:09:15.180Z"
      },
      {
        "duration": 6,
        "start_time": "2023-12-18T08:09:15.204Z"
      },
      {
        "duration": 8,
        "start_time": "2023-12-18T08:09:15.212Z"
      },
      {
        "duration": 10,
        "start_time": "2023-12-18T08:09:15.222Z"
      },
      {
        "duration": 454,
        "start_time": "2023-12-18T08:09:15.233Z"
      },
      {
        "duration": 296,
        "start_time": "2023-12-18T08:09:15.689Z"
      },
      {
        "duration": 14,
        "start_time": "2023-12-18T08:09:15.987Z"
      },
      {
        "duration": 137,
        "start_time": "2023-12-18T08:09:16.003Z"
      },
      {
        "duration": 6,
        "start_time": "2023-12-18T08:09:16.141Z"
      },
      {
        "duration": 35,
        "start_time": "2023-12-18T08:09:16.149Z"
      },
      {
        "duration": 14,
        "start_time": "2023-12-18T08:09:16.186Z"
      },
      {
        "duration": 250,
        "start_time": "2023-12-18T08:09:16.201Z"
      },
      {
        "duration": 12,
        "start_time": "2023-12-18T08:09:16.453Z"
      },
      {
        "duration": 4,
        "start_time": "2023-12-18T08:09:16.467Z"
      },
      {
        "duration": 5,
        "start_time": "2023-12-18T08:09:16.472Z"
      },
      {
        "duration": 20,
        "start_time": "2023-12-18T08:09:16.478Z"
      },
      {
        "duration": 17,
        "start_time": "2023-12-18T08:09:16.499Z"
      },
      {
        "duration": 4,
        "start_time": "2023-12-18T08:09:16.517Z"
      },
      {
        "duration": 23,
        "start_time": "2023-12-18T08:09:16.522Z"
      },
      {
        "duration": 6,
        "start_time": "2023-12-18T08:09:16.566Z"
      },
      {
        "duration": 17,
        "start_time": "2023-12-18T08:09:16.573Z"
      },
      {
        "duration": 11,
        "start_time": "2023-12-18T08:09:16.591Z"
      },
      {
        "duration": 9,
        "start_time": "2023-12-18T08:09:16.604Z"
      },
      {
        "duration": 1763,
        "start_time": "2023-12-18T08:09:16.615Z"
      },
      {
        "duration": 19,
        "start_time": "2023-12-18T08:09:18.380Z"
      },
      {
        "duration": 10,
        "start_time": "2023-12-18T08:14:09.587Z"
      },
      {
        "duration": 10,
        "start_time": "2023-12-18T08:14:12.950Z"
      },
      {
        "duration": 159,
        "start_time": "2023-12-18T08:14:15.964Z"
      },
      {
        "duration": 6,
        "start_time": "2023-12-18T08:14:18.676Z"
      },
      {
        "duration": 2,
        "start_time": "2023-12-18T08:14:52.619Z"
      },
      {
        "duration": 2,
        "start_time": "2023-12-18T08:14:53.071Z"
      },
      {
        "duration": 20,
        "start_time": "2023-12-18T08:15:48.264Z"
      },
      {
        "duration": 14,
        "start_time": "2023-12-18T08:16:00.132Z"
      },
      {
        "duration": 70,
        "start_time": "2023-12-18T08:18:23.666Z"
      },
      {
        "duration": 27,
        "start_time": "2023-12-18T08:18:29.248Z"
      },
      {
        "duration": 18,
        "start_time": "2023-12-18T08:19:18.107Z"
      },
      {
        "duration": 13,
        "start_time": "2023-12-18T08:21:17.696Z"
      },
      {
        "duration": 7,
        "start_time": "2023-12-18T08:21:26.078Z"
      },
      {
        "duration": 12,
        "start_time": "2023-12-18T08:23:03.374Z"
      },
      {
        "duration": 1532,
        "start_time": "2023-12-18T08:23:07.756Z"
      },
      {
        "duration": 14,
        "start_time": "2023-12-18T08:23:18.209Z"
      },
      {
        "duration": 13,
        "start_time": "2023-12-18T08:25:53.785Z"
      },
      {
        "duration": 15,
        "start_time": "2023-12-18T08:26:01.073Z"
      },
      {
        "duration": 6,
        "start_time": "2023-12-18T08:26:20.649Z"
      },
      {
        "duration": 6,
        "start_time": "2023-12-18T08:26:24.902Z"
      },
      {
        "duration": 5,
        "start_time": "2023-12-18T08:26:35.941Z"
      },
      {
        "duration": 7,
        "start_time": "2023-12-18T08:26:44.231Z"
      },
      {
        "duration": 18,
        "start_time": "2023-12-18T08:26:55.864Z"
      },
      {
        "duration": 5,
        "start_time": "2023-12-18T08:27:07.257Z"
      },
      {
        "duration": 5,
        "start_time": "2023-12-18T08:27:17.049Z"
      },
      {
        "duration": 10,
        "start_time": "2023-12-18T08:28:15.473Z"
      },
      {
        "duration": 1643,
        "start_time": "2023-12-18T08:28:20.443Z"
      },
      {
        "duration": 15,
        "start_time": "2023-12-18T08:28:24.071Z"
      },
      {
        "duration": 11,
        "start_time": "2023-12-18T08:38:00.550Z"
      },
      {
        "duration": 213,
        "start_time": "2023-12-18T08:38:09.089Z"
      },
      {
        "duration": 11,
        "start_time": "2023-12-18T08:38:23.863Z"
      },
      {
        "duration": 1545,
        "start_time": "2023-12-18T08:38:26.252Z"
      },
      {
        "duration": 15,
        "start_time": "2023-12-18T08:38:33.709Z"
      },
      {
        "duration": 11,
        "start_time": "2023-12-18T08:39:39.301Z"
      },
      {
        "duration": 1581,
        "start_time": "2023-12-18T08:39:41.930Z"
      },
      {
        "duration": 14,
        "start_time": "2023-12-18T08:39:45.197Z"
      },
      {
        "duration": 10,
        "start_time": "2023-12-18T08:41:36.373Z"
      },
      {
        "duration": 10,
        "start_time": "2023-12-18T08:41:47.299Z"
      },
      {
        "duration": 12,
        "start_time": "2023-12-18T08:41:56.611Z"
      },
      {
        "duration": 7,
        "start_time": "2023-12-18T08:42:03.178Z"
      },
      {
        "duration": 4,
        "start_time": "2023-12-18T08:42:15.075Z"
      },
      {
        "duration": 4,
        "start_time": "2023-12-18T08:42:18.027Z"
      },
      {
        "duration": 22,
        "start_time": "2023-12-18T08:43:41.696Z"
      },
      {
        "duration": 23,
        "start_time": "2023-12-18T08:44:19.296Z"
      },
      {
        "duration": 19,
        "start_time": "2023-12-18T08:45:11.274Z"
      },
      {
        "duration": 8,
        "start_time": "2023-12-18T08:46:31.881Z"
      },
      {
        "duration": 11,
        "start_time": "2023-12-18T08:46:34.578Z"
      },
      {
        "duration": 1553,
        "start_time": "2023-12-18T08:46:37.012Z"
      },
      {
        "duration": 13,
        "start_time": "2023-12-18T08:46:41.003Z"
      },
      {
        "duration": 14,
        "start_time": "2023-12-18T08:47:13.497Z"
      },
      {
        "duration": 22,
        "start_time": "2023-12-18T08:47:29.840Z"
      },
      {
        "duration": 8,
        "start_time": "2023-12-18T08:48:16.486Z"
      },
      {
        "duration": 9,
        "start_time": "2023-12-18T08:48:37.257Z"
      },
      {
        "duration": 9,
        "start_time": "2023-12-18T08:49:48.877Z"
      },
      {
        "duration": 8,
        "start_time": "2023-12-18T08:49:53.343Z"
      },
      {
        "duration": 11,
        "start_time": "2023-12-18T08:50:59.348Z"
      },
      {
        "duration": 7,
        "start_time": "2023-12-18T08:52:43.183Z"
      },
      {
        "duration": 17,
        "start_time": "2023-12-18T08:53:27.618Z"
      },
      {
        "duration": 9,
        "start_time": "2023-12-18T08:53:45.112Z"
      },
      {
        "duration": 19,
        "start_time": "2023-12-18T08:54:15.639Z"
      },
      {
        "duration": 8,
        "start_time": "2023-12-18T08:55:10.944Z"
      },
      {
        "duration": 7,
        "start_time": "2023-12-18T08:55:15.865Z"
      },
      {
        "duration": 7,
        "start_time": "2023-12-18T08:55:54.491Z"
      },
      {
        "duration": 7,
        "start_time": "2023-12-18T08:55:54.903Z"
      },
      {
        "duration": 6,
        "start_time": "2023-12-18T08:55:55.290Z"
      },
      {
        "duration": 3,
        "start_time": "2023-12-18T08:55:59.831Z"
      },
      {
        "duration": 4,
        "start_time": "2023-12-18T08:56:00.142Z"
      },
      {
        "duration": 14,
        "start_time": "2023-12-18T08:56:04.031Z"
      },
      {
        "duration": 15,
        "start_time": "2023-12-18T08:56:04.474Z"
      },
      {
        "duration": 16,
        "start_time": "2023-12-18T08:56:04.903Z"
      },
      {
        "duration": 11,
        "start_time": "2023-12-18T08:56:38.347Z"
      },
      {
        "duration": 16,
        "start_time": "2023-12-18T08:57:22.516Z"
      },
      {
        "duration": 16,
        "start_time": "2023-12-18T08:57:30.278Z"
      },
      {
        "duration": 17,
        "start_time": "2023-12-18T08:57:51.791Z"
      },
      {
        "duration": 7,
        "start_time": "2023-12-18T08:59:22.555Z"
      },
      {
        "duration": 16,
        "start_time": "2023-12-18T09:00:15.651Z"
      },
      {
        "duration": 18,
        "start_time": "2023-12-18T09:04:35.870Z"
      },
      {
        "duration": 19,
        "start_time": "2023-12-18T09:04:52.813Z"
      },
      {
        "duration": 6,
        "start_time": "2023-12-18T09:05:56.870Z"
      },
      {
        "duration": 4,
        "start_time": "2023-12-18T09:06:07.303Z"
      },
      {
        "duration": 3,
        "start_time": "2023-12-18T09:06:07.811Z"
      },
      {
        "duration": 13,
        "start_time": "2023-12-18T09:06:11.566Z"
      },
      {
        "duration": 15,
        "start_time": "2023-12-18T09:06:12.008Z"
      },
      {
        "duration": 14,
        "start_time": "2023-12-18T09:06:12.358Z"
      },
      {
        "duration": 12,
        "start_time": "2023-12-18T09:08:04.443Z"
      },
      {
        "duration": 6,
        "start_time": "2023-12-18T09:08:06.534Z"
      },
      {
        "duration": 4,
        "start_time": "2023-12-18T09:08:07.592Z"
      },
      {
        "duration": 4,
        "start_time": "2023-12-18T09:08:07.944Z"
      },
      {
        "duration": 14,
        "start_time": "2023-12-18T09:08:08.426Z"
      },
      {
        "duration": 14,
        "start_time": "2023-12-18T09:08:10.399Z"
      },
      {
        "duration": 3,
        "start_time": "2023-12-18T09:08:20.789Z"
      },
      {
        "duration": 6,
        "start_time": "2023-12-18T09:10:18.371Z"
      },
      {
        "duration": 4,
        "start_time": "2023-12-18T09:10:21.840Z"
      },
      {
        "duration": 4,
        "start_time": "2023-12-18T09:10:22.126Z"
      },
      {
        "duration": 9,
        "start_time": "2023-12-18T09:10:23.035Z"
      },
      {
        "duration": 55,
        "start_time": "2023-12-18T09:10:28.447Z"
      },
      {
        "duration": 8,
        "start_time": "2023-12-18T09:10:49.832Z"
      },
      {
        "duration": 9,
        "start_time": "2023-12-18T09:10:51.846Z"
      },
      {
        "duration": 47,
        "start_time": "2023-12-18T09:10:54.685Z"
      },
      {
        "duration": 16,
        "start_time": "2023-12-18T09:12:04.214Z"
      },
      {
        "duration": 6,
        "start_time": "2023-12-18T09:12:59.125Z"
      },
      {
        "duration": 8,
        "start_time": "2023-12-18T09:13:01.613Z"
      },
      {
        "duration": 1790,
        "start_time": "2023-12-18T09:13:04.303Z"
      },
      {
        "duration": 19,
        "start_time": "2023-12-18T09:13:08.946Z"
      },
      {
        "duration": 7,
        "start_time": "2023-12-18T09:13:20.361Z"
      },
      {
        "duration": 7659,
        "start_time": "2023-12-18T11:27:23.818Z"
      },
      {
        "duration": 327,
        "start_time": "2023-12-18T11:27:31.480Z"
      },
      {
        "duration": 15,
        "start_time": "2023-12-18T11:27:31.808Z"
      },
      {
        "duration": 33,
        "start_time": "2023-12-18T11:27:31.825Z"
      },
      {
        "duration": 44,
        "start_time": "2023-12-18T11:27:31.859Z"
      },
      {
        "duration": 32,
        "start_time": "2023-12-18T11:27:31.904Z"
      },
      {
        "duration": 31,
        "start_time": "2023-12-18T11:27:31.938Z"
      },
      {
        "duration": 25,
        "start_time": "2023-12-18T11:27:31.970Z"
      },
      {
        "duration": 26,
        "start_time": "2023-12-18T11:27:31.996Z"
      },
      {
        "duration": 49,
        "start_time": "2023-12-18T11:27:32.025Z"
      },
      {
        "duration": 24,
        "start_time": "2023-12-18T11:27:32.075Z"
      },
      {
        "duration": 50,
        "start_time": "2023-12-18T11:27:32.101Z"
      },
      {
        "duration": 40,
        "start_time": "2023-12-18T11:27:32.152Z"
      },
      {
        "duration": 459,
        "start_time": "2023-12-18T11:27:32.194Z"
      },
      {
        "duration": 122,
        "start_time": "2023-12-18T11:27:32.655Z"
      },
      {
        "duration": 6,
        "start_time": "2023-12-18T11:27:32.778Z"
      },
      {
        "duration": 358,
        "start_time": "2023-12-18T11:27:32.786Z"
      },
      {
        "duration": 26,
        "start_time": "2023-12-18T11:27:33.146Z"
      },
      {
        "duration": 398,
        "start_time": "2023-12-18T11:27:33.174Z"
      },
      {
        "duration": 17,
        "start_time": "2023-12-18T11:27:33.574Z"
      },
      {
        "duration": 390,
        "start_time": "2023-12-18T11:27:33.593Z"
      },
      {
        "duration": 522,
        "start_time": "2023-12-18T11:27:33.985Z"
      },
      {
        "duration": 7,
        "start_time": "2023-12-18T11:27:34.509Z"
      },
      {
        "duration": 292,
        "start_time": "2023-12-18T11:27:34.518Z"
      },
      {
        "duration": 384,
        "start_time": "2023-12-18T11:27:34.812Z"
      },
      {
        "duration": 162,
        "start_time": "2023-12-18T11:27:35.198Z"
      },
      {
        "duration": 19,
        "start_time": "2023-12-18T11:27:35.365Z"
      },
      {
        "duration": 25,
        "start_time": "2023-12-18T11:27:35.388Z"
      },
      {
        "duration": 212,
        "start_time": "2023-12-18T11:27:35.414Z"
      },
      {
        "duration": 0,
        "start_time": "2023-12-18T11:27:35.628Z"
      },
      {
        "duration": 0,
        "start_time": "2023-12-18T11:27:35.630Z"
      },
      {
        "duration": 0,
        "start_time": "2023-12-18T11:27:35.632Z"
      },
      {
        "duration": 0,
        "start_time": "2023-12-18T11:27:35.633Z"
      },
      {
        "duration": 0,
        "start_time": "2023-12-18T11:27:35.634Z"
      },
      {
        "duration": 0,
        "start_time": "2023-12-18T11:27:35.635Z"
      },
      {
        "duration": 0,
        "start_time": "2023-12-18T11:27:35.636Z"
      },
      {
        "duration": 0,
        "start_time": "2023-12-18T11:27:35.638Z"
      },
      {
        "duration": 0,
        "start_time": "2023-12-18T11:27:35.639Z"
      },
      {
        "duration": 0,
        "start_time": "2023-12-18T11:27:35.640Z"
      },
      {
        "duration": 0,
        "start_time": "2023-12-18T11:27:35.641Z"
      },
      {
        "duration": 0,
        "start_time": "2023-12-18T11:27:35.642Z"
      },
      {
        "duration": 0,
        "start_time": "2023-12-18T11:27:35.643Z"
      },
      {
        "duration": 0,
        "start_time": "2023-12-18T11:27:35.666Z"
      },
      {
        "duration": 0,
        "start_time": "2023-12-18T11:27:35.668Z"
      },
      {
        "duration": 0,
        "start_time": "2023-12-18T11:27:35.669Z"
      },
      {
        "duration": 0,
        "start_time": "2023-12-18T11:27:35.670Z"
      },
      {
        "duration": 0,
        "start_time": "2023-12-18T11:27:35.671Z"
      },
      {
        "duration": 0,
        "start_time": "2023-12-18T11:27:35.673Z"
      },
      {
        "duration": 0,
        "start_time": "2023-12-18T11:27:35.674Z"
      },
      {
        "duration": 0,
        "start_time": "2023-12-18T11:27:35.676Z"
      },
      {
        "duration": 0,
        "start_time": "2023-12-18T11:27:35.677Z"
      },
      {
        "duration": 0,
        "start_time": "2023-12-18T11:27:35.679Z"
      },
      {
        "duration": 0,
        "start_time": "2023-12-18T11:27:35.680Z"
      },
      {
        "duration": 0,
        "start_time": "2023-12-18T11:27:35.681Z"
      },
      {
        "duration": 0,
        "start_time": "2023-12-18T11:27:35.683Z"
      },
      {
        "duration": 0,
        "start_time": "2023-12-18T11:27:35.684Z"
      },
      {
        "duration": 0,
        "start_time": "2023-12-18T11:27:35.685Z"
      },
      {
        "duration": 0,
        "start_time": "2023-12-18T11:27:35.687Z"
      },
      {
        "duration": 0,
        "start_time": "2023-12-18T11:27:35.688Z"
      },
      {
        "duration": 0,
        "start_time": "2023-12-18T11:27:35.689Z"
      },
      {
        "duration": 0,
        "start_time": "2023-12-18T11:27:35.691Z"
      },
      {
        "duration": 0,
        "start_time": "2023-12-18T11:27:35.692Z"
      },
      {
        "duration": 0,
        "start_time": "2023-12-18T11:27:35.694Z"
      },
      {
        "duration": 0,
        "start_time": "2023-12-18T11:27:35.695Z"
      },
      {
        "duration": 0,
        "start_time": "2023-12-18T11:27:35.697Z"
      },
      {
        "duration": 0,
        "start_time": "2023-12-18T11:27:35.698Z"
      },
      {
        "duration": 0,
        "start_time": "2023-12-18T11:27:35.700Z"
      },
      {
        "duration": 0,
        "start_time": "2023-12-18T11:27:35.701Z"
      },
      {
        "duration": 0,
        "start_time": "2023-12-18T11:27:35.703Z"
      },
      {
        "duration": 0,
        "start_time": "2023-12-18T11:27:35.765Z"
      },
      {
        "duration": 9,
        "start_time": "2023-12-18T11:40:07.325Z"
      },
      {
        "duration": 13,
        "start_time": "2023-12-18T11:40:26.272Z"
      },
      {
        "duration": 11,
        "start_time": "2023-12-18T11:40:30.752Z"
      },
      {
        "duration": 7,
        "start_time": "2023-12-18T11:40:35.152Z"
      },
      {
        "duration": 12,
        "start_time": "2023-12-18T11:40:49.344Z"
      },
      {
        "duration": 11,
        "start_time": "2023-12-18T11:42:25.560Z"
      },
      {
        "duration": 9,
        "start_time": "2023-12-18T11:42:34.972Z"
      },
      {
        "duration": 17,
        "start_time": "2023-12-18T11:42:35.760Z"
      },
      {
        "duration": 4540,
        "start_time": "2023-12-18T11:44:43.229Z"
      },
      {
        "duration": 26,
        "start_time": "2023-12-18T11:44:56.005Z"
      },
      {
        "duration": 3,
        "start_time": "2023-12-18T11:45:20.082Z"
      },
      {
        "duration": 8,
        "start_time": "2023-12-18T11:45:23.714Z"
      },
      {
        "duration": 1498,
        "start_time": "2023-12-18T11:45:27.192Z"
      },
      {
        "duration": 11,
        "start_time": "2023-12-18T11:45:33.836Z"
      },
      {
        "duration": 337,
        "start_time": "2023-12-18T11:46:21.891Z"
      },
      {
        "duration": 11,
        "start_time": "2023-12-18T11:46:22.302Z"
      },
      {
        "duration": 25,
        "start_time": "2023-12-18T11:46:23.056Z"
      },
      {
        "duration": 23,
        "start_time": "2023-12-18T11:46:23.536Z"
      },
      {
        "duration": 10,
        "start_time": "2023-12-18T11:46:25.739Z"
      },
      {
        "duration": 19,
        "start_time": "2023-12-18T11:46:26.144Z"
      },
      {
        "duration": 23,
        "start_time": "2023-12-18T11:46:28.655Z"
      },
      {
        "duration": 7,
        "start_time": "2023-12-18T11:46:31.199Z"
      },
      {
        "duration": 6,
        "start_time": "2023-12-18T11:46:31.735Z"
      },
      {
        "duration": 6,
        "start_time": "2023-12-18T11:46:33.879Z"
      },
      {
        "duration": 4,
        "start_time": "2023-12-18T11:46:34.284Z"
      },
      {
        "duration": 9,
        "start_time": "2023-12-18T11:46:39.539Z"
      },
      {
        "duration": 8,
        "start_time": "2023-12-18T11:46:41.393Z"
      },
      {
        "duration": 477,
        "start_time": "2023-12-18T11:46:42.099Z"
      },
      {
        "duration": 289,
        "start_time": "2023-12-18T11:46:42.578Z"
      },
      {
        "duration": 20,
        "start_time": "2023-12-18T11:46:46.094Z"
      },
      {
        "duration": 88,
        "start_time": "2023-12-18T11:46:48.957Z"
      },
      {
        "duration": 6,
        "start_time": "2023-12-18T11:46:49.535Z"
      },
      {
        "duration": 6,
        "start_time": "2023-12-18T11:46:49.971Z"
      },
      {
        "duration": 12,
        "start_time": "2023-12-18T11:46:55.204Z"
      },
      {
        "duration": 135,
        "start_time": "2023-12-18T11:46:57.576Z"
      },
      {
        "duration": 11,
        "start_time": "2023-12-18T11:47:01.386Z"
      },
      {
        "duration": 19,
        "start_time": "2023-12-18T11:47:01.896Z"
      },
      {
        "duration": 14,
        "start_time": "2023-12-18T11:47:35.121Z"
      },
      {
        "duration": 16,
        "start_time": "2023-12-18T11:48:29.605Z"
      },
      {
        "duration": 8,
        "start_time": "2023-12-18T11:48:35.254Z"
      },
      {
        "duration": 17,
        "start_time": "2023-12-18T11:48:44.629Z"
      },
      {
        "duration": 10,
        "start_time": "2023-12-18T11:49:54.639Z"
      },
      {
        "duration": 14,
        "start_time": "2023-12-18T11:51:04.904Z"
      },
      {
        "duration": 14,
        "start_time": "2023-12-18T11:52:15.420Z"
      },
      {
        "duration": 13,
        "start_time": "2023-12-18T11:52:39.316Z"
      },
      {
        "duration": 15,
        "start_time": "2023-12-18T12:08:12.031Z"
      },
      {
        "duration": 161,
        "start_time": "2023-12-18T12:08:18.761Z"
      },
      {
        "duration": 15,
        "start_time": "2023-12-18T12:08:31.029Z"
      },
      {
        "duration": 14,
        "start_time": "2023-12-18T12:08:53.415Z"
      },
      {
        "duration": 5,
        "start_time": "2023-12-18T12:09:11.159Z"
      },
      {
        "duration": 4,
        "start_time": "2023-12-18T12:11:28.180Z"
      },
      {
        "duration": 4,
        "start_time": "2023-12-18T12:11:28.959Z"
      },
      {
        "duration": 13,
        "start_time": "2023-12-18T12:11:29.557Z"
      },
      {
        "duration": 13,
        "start_time": "2023-12-18T12:11:30.072Z"
      },
      {
        "duration": 3,
        "start_time": "2023-12-18T12:11:30.811Z"
      },
      {
        "duration": 17,
        "start_time": "2023-12-18T12:11:38.648Z"
      },
      {
        "duration": 7,
        "start_time": "2023-12-18T12:11:41.020Z"
      },
      {
        "duration": 4,
        "start_time": "2023-12-18T12:11:44.345Z"
      },
      {
        "duration": 3,
        "start_time": "2023-12-18T12:11:44.790Z"
      },
      {
        "duration": 8,
        "start_time": "2023-12-18T12:11:46.354Z"
      },
      {
        "duration": 1606,
        "start_time": "2023-12-18T12:11:51.259Z"
      },
      {
        "duration": 17,
        "start_time": "2023-12-18T12:11:54.860Z"
      },
      {
        "duration": 6987,
        "start_time": "2023-12-18T12:12:08.080Z"
      },
      {
        "duration": 129,
        "start_time": "2023-12-18T12:12:15.069Z"
      },
      {
        "duration": 13,
        "start_time": "2023-12-18T12:12:15.200Z"
      },
      {
        "duration": 18,
        "start_time": "2023-12-18T12:12:15.215Z"
      },
      {
        "duration": 19,
        "start_time": "2023-12-18T12:12:15.235Z"
      },
      {
        "duration": 17,
        "start_time": "2023-12-18T12:12:15.256Z"
      },
      {
        "duration": 16,
        "start_time": "2023-12-18T12:12:15.275Z"
      },
      {
        "duration": 17,
        "start_time": "2023-12-18T12:12:15.292Z"
      },
      {
        "duration": 3,
        "start_time": "2023-12-18T12:12:15.310Z"
      },
      {
        "duration": 57,
        "start_time": "2023-12-18T12:12:15.315Z"
      },
      {
        "duration": 21,
        "start_time": "2023-12-18T12:12:15.373Z"
      },
      {
        "duration": 16,
        "start_time": "2023-12-18T12:12:15.395Z"
      },
      {
        "duration": 18,
        "start_time": "2023-12-18T12:12:15.412Z"
      },
      {
        "duration": 447,
        "start_time": "2023-12-18T12:12:15.431Z"
      },
      {
        "duration": 120,
        "start_time": "2023-12-18T12:12:15.880Z"
      },
      {
        "duration": 5,
        "start_time": "2023-12-18T12:12:16.002Z"
      },
      {
        "duration": 318,
        "start_time": "2023-12-18T12:12:16.008Z"
      },
      {
        "duration": 17,
        "start_time": "2023-12-18T12:12:16.328Z"
      },
      {
        "duration": 360,
        "start_time": "2023-12-18T12:12:16.346Z"
      },
      {
        "duration": 17,
        "start_time": "2023-12-18T12:12:16.707Z"
      },
      {
        "duration": 377,
        "start_time": "2023-12-18T12:12:16.725Z"
      },
      {
        "duration": 485,
        "start_time": "2023-12-18T12:12:17.104Z"
      },
      {
        "duration": 4,
        "start_time": "2023-12-18T12:12:17.591Z"
      },
      {
        "duration": 260,
        "start_time": "2023-12-18T12:12:17.596Z"
      },
      {
        "duration": 358,
        "start_time": "2023-12-18T12:12:17.857Z"
      },
      {
        "duration": 152,
        "start_time": "2023-12-18T12:12:18.217Z"
      },
      {
        "duration": 18,
        "start_time": "2023-12-18T12:12:18.371Z"
      },
      {
        "duration": 10,
        "start_time": "2023-12-18T12:12:18.393Z"
      },
      {
        "duration": 14,
        "start_time": "2023-12-18T12:12:18.405Z"
      },
      {
        "duration": 9,
        "start_time": "2023-12-18T12:12:18.420Z"
      },
      {
        "duration": 10,
        "start_time": "2023-12-18T12:12:18.431Z"
      },
      {
        "duration": 5,
        "start_time": "2023-12-18T12:12:18.443Z"
      },
      {
        "duration": 8,
        "start_time": "2023-12-18T12:12:18.465Z"
      },
      {
        "duration": 1490,
        "start_time": "2023-12-18T12:12:18.475Z"
      },
      {
        "duration": 11,
        "start_time": "2023-12-18T12:12:19.967Z"
      },
      {
        "duration": 163,
        "start_time": "2023-12-18T12:12:19.979Z"
      },
      {
        "duration": 10,
        "start_time": "2023-12-18T12:12:20.144Z"
      },
      {
        "duration": 44,
        "start_time": "2023-12-18T12:12:20.155Z"
      },
      {
        "duration": 28,
        "start_time": "2023-12-18T12:12:20.201Z"
      },
      {
        "duration": 9,
        "start_time": "2023-12-18T12:12:20.231Z"
      },
      {
        "duration": 24,
        "start_time": "2023-12-18T12:12:20.242Z"
      },
      {
        "duration": 19,
        "start_time": "2023-12-18T12:12:20.267Z"
      },
      {
        "duration": 20,
        "start_time": "2023-12-18T12:12:20.288Z"
      },
      {
        "duration": 15,
        "start_time": "2023-12-18T12:12:20.309Z"
      },
      {
        "duration": 13,
        "start_time": "2023-12-18T12:12:20.325Z"
      },
      {
        "duration": 5,
        "start_time": "2023-12-18T12:12:20.339Z"
      },
      {
        "duration": 12,
        "start_time": "2023-12-18T12:12:20.346Z"
      },
      {
        "duration": 35,
        "start_time": "2023-12-18T12:12:20.359Z"
      },
      {
        "duration": 445,
        "start_time": "2023-12-18T12:12:20.395Z"
      },
      {
        "duration": 262,
        "start_time": "2023-12-18T12:12:20.841Z"
      },
      {
        "duration": 13,
        "start_time": "2023-12-18T12:12:21.105Z"
      },
      {
        "duration": 105,
        "start_time": "2023-12-18T12:12:21.120Z"
      },
      {
        "duration": 7,
        "start_time": "2023-12-18T12:12:21.226Z"
      },
      {
        "duration": 36,
        "start_time": "2023-12-18T12:12:21.234Z"
      },
      {
        "duration": 16,
        "start_time": "2023-12-18T12:12:21.272Z"
      },
      {
        "duration": 45,
        "start_time": "2023-12-18T12:12:21.289Z"
      },
      {
        "duration": 189,
        "start_time": "2023-12-18T12:12:21.335Z"
      },
      {
        "duration": 0,
        "start_time": "2023-12-18T12:12:21.525Z"
      },
      {
        "duration": 0,
        "start_time": "2023-12-18T12:12:21.526Z"
      },
      {
        "duration": 0,
        "start_time": "2023-12-18T12:12:21.527Z"
      },
      {
        "duration": 0,
        "start_time": "2023-12-18T12:12:21.528Z"
      },
      {
        "duration": 0,
        "start_time": "2023-12-18T12:12:21.529Z"
      },
      {
        "duration": 0,
        "start_time": "2023-12-18T12:12:21.530Z"
      },
      {
        "duration": 0,
        "start_time": "2023-12-18T12:12:21.531Z"
      },
      {
        "duration": 0,
        "start_time": "2023-12-18T12:12:21.532Z"
      },
      {
        "duration": 0,
        "start_time": "2023-12-18T12:12:21.533Z"
      },
      {
        "duration": 0,
        "start_time": "2023-12-18T12:12:21.534Z"
      },
      {
        "duration": 0,
        "start_time": "2023-12-18T12:12:21.536Z"
      },
      {
        "duration": 0,
        "start_time": "2023-12-18T12:12:21.537Z"
      },
      {
        "duration": 0,
        "start_time": "2023-12-18T12:12:21.538Z"
      },
      {
        "duration": 0,
        "start_time": "2023-12-18T12:12:21.539Z"
      },
      {
        "duration": 0,
        "start_time": "2023-12-18T12:12:21.566Z"
      },
      {
        "duration": 0,
        "start_time": "2023-12-18T12:12:21.567Z"
      },
      {
        "duration": 0,
        "start_time": "2023-12-18T12:12:21.568Z"
      },
      {
        "duration": 6756,
        "start_time": "2023-12-18T12:13:28.238Z"
      },
      {
        "duration": 124,
        "start_time": "2023-12-18T12:13:34.996Z"
      },
      {
        "duration": 13,
        "start_time": "2023-12-18T12:13:35.122Z"
      },
      {
        "duration": 11,
        "start_time": "2023-12-18T12:13:35.137Z"
      },
      {
        "duration": 27,
        "start_time": "2023-12-18T12:13:35.149Z"
      },
      {
        "duration": 16,
        "start_time": "2023-12-18T12:13:35.177Z"
      },
      {
        "duration": 18,
        "start_time": "2023-12-18T12:13:35.194Z"
      },
      {
        "duration": 36,
        "start_time": "2023-12-18T12:13:35.213Z"
      },
      {
        "duration": 5,
        "start_time": "2023-12-18T12:13:35.250Z"
      },
      {
        "duration": 51,
        "start_time": "2023-12-18T12:13:35.257Z"
      },
      {
        "duration": 21,
        "start_time": "2023-12-18T12:13:35.310Z"
      },
      {
        "duration": 19,
        "start_time": "2023-12-18T12:13:35.332Z"
      },
      {
        "duration": 13,
        "start_time": "2023-12-18T12:13:35.352Z"
      },
      {
        "duration": 400,
        "start_time": "2023-12-18T12:13:35.367Z"
      },
      {
        "duration": 120,
        "start_time": "2023-12-18T12:13:35.768Z"
      },
      {
        "duration": 7,
        "start_time": "2023-12-18T12:13:35.890Z"
      },
      {
        "duration": 347,
        "start_time": "2023-12-18T12:13:35.898Z"
      },
      {
        "duration": 34,
        "start_time": "2023-12-18T12:13:36.247Z"
      },
      {
        "duration": 375,
        "start_time": "2023-12-18T12:13:36.282Z"
      },
      {
        "duration": 18,
        "start_time": "2023-12-18T12:13:36.664Z"
      },
      {
        "duration": 371,
        "start_time": "2023-12-18T12:13:36.683Z"
      },
      {
        "duration": 483,
        "start_time": "2023-12-18T12:13:37.056Z"
      },
      {
        "duration": 5,
        "start_time": "2023-12-18T12:13:37.542Z"
      },
      {
        "duration": 256,
        "start_time": "2023-12-18T12:13:37.548Z"
      },
      {
        "duration": 326,
        "start_time": "2023-12-18T12:13:37.806Z"
      },
      {
        "duration": 147,
        "start_time": "2023-12-18T12:13:38.134Z"
      },
      {
        "duration": 22,
        "start_time": "2023-12-18T12:13:38.283Z"
      },
      {
        "duration": 7,
        "start_time": "2023-12-18T12:13:38.309Z"
      },
      {
        "duration": 12,
        "start_time": "2023-12-18T12:13:38.318Z"
      },
      {
        "duration": 22,
        "start_time": "2023-12-18T12:13:38.331Z"
      },
      {
        "duration": 12,
        "start_time": "2023-12-18T12:13:38.354Z"
      },
      {
        "duration": 6,
        "start_time": "2023-12-18T12:13:38.367Z"
      },
      {
        "duration": 10,
        "start_time": "2023-12-18T12:13:38.375Z"
      },
      {
        "duration": 1480,
        "start_time": "2023-12-18T12:13:38.386Z"
      },
      {
        "duration": 11,
        "start_time": "2023-12-18T12:13:39.868Z"
      },
      {
        "duration": 113,
        "start_time": "2023-12-18T12:13:39.881Z"
      },
      {
        "duration": 10,
        "start_time": "2023-12-18T12:13:39.995Z"
      },
      {
        "duration": 33,
        "start_time": "2023-12-18T12:13:40.007Z"
      },
      {
        "duration": 21,
        "start_time": "2023-12-18T12:13:40.042Z"
      },
      {
        "duration": 9,
        "start_time": "2023-12-18T12:13:40.064Z"
      },
      {
        "duration": 19,
        "start_time": "2023-12-18T12:13:40.075Z"
      },
      {
        "duration": 22,
        "start_time": "2023-12-18T12:13:40.096Z"
      },
      {
        "duration": 6,
        "start_time": "2023-12-18T12:13:40.119Z"
      },
      {
        "duration": 6,
        "start_time": "2023-12-18T12:13:40.126Z"
      },
      {
        "duration": 4,
        "start_time": "2023-12-18T12:13:40.134Z"
      },
      {
        "duration": 27,
        "start_time": "2023-12-18T12:13:40.139Z"
      },
      {
        "duration": 9,
        "start_time": "2023-12-18T12:13:40.168Z"
      },
      {
        "duration": 16,
        "start_time": "2023-12-18T12:13:40.178Z"
      },
      {
        "duration": 457,
        "start_time": "2023-12-18T12:13:40.196Z"
      },
      {
        "duration": 281,
        "start_time": "2023-12-18T12:13:40.655Z"
      },
      {
        "duration": 14,
        "start_time": "2023-12-18T12:13:40.937Z"
      },
      {
        "duration": 95,
        "start_time": "2023-12-18T12:13:40.952Z"
      },
      {
        "duration": 18,
        "start_time": "2023-12-18T12:13:41.049Z"
      },
      {
        "duration": 11,
        "start_time": "2023-12-18T12:13:41.068Z"
      },
      {
        "duration": 21,
        "start_time": "2023-12-18T12:13:41.080Z"
      },
      {
        "duration": 14,
        "start_time": "2023-12-18T12:13:41.103Z"
      },
      {
        "duration": 259,
        "start_time": "2023-12-18T12:13:41.119Z"
      },
      {
        "duration": 12,
        "start_time": "2023-12-18T12:13:41.380Z"
      },
      {
        "duration": 14,
        "start_time": "2023-12-18T12:13:41.394Z"
      },
      {
        "duration": 17,
        "start_time": "2023-12-18T12:13:41.409Z"
      },
      {
        "duration": 4,
        "start_time": "2023-12-18T12:13:41.428Z"
      },
      {
        "duration": 5,
        "start_time": "2023-12-18T12:13:41.433Z"
      },
      {
        "duration": 31,
        "start_time": "2023-12-18T12:13:41.439Z"
      },
      {
        "duration": 13,
        "start_time": "2023-12-18T12:13:41.471Z"
      },
      {
        "duration": 8,
        "start_time": "2023-12-18T12:13:41.485Z"
      },
      {
        "duration": 4,
        "start_time": "2023-12-18T12:13:41.494Z"
      },
      {
        "duration": 16,
        "start_time": "2023-12-18T12:13:41.499Z"
      },
      {
        "duration": 6,
        "start_time": "2023-12-18T12:13:41.516Z"
      },
      {
        "duration": 17,
        "start_time": "2023-12-18T12:13:41.523Z"
      },
      {
        "duration": 10,
        "start_time": "2023-12-18T12:13:41.542Z"
      },
      {
        "duration": 17,
        "start_time": "2023-12-18T12:13:41.554Z"
      },
      {
        "duration": 1621,
        "start_time": "2023-12-18T12:13:41.572Z"
      },
      {
        "duration": 18,
        "start_time": "2023-12-18T12:13:43.195Z"
      },
      {
        "duration": 127,
        "start_time": "2023-12-18T12:14:30.671Z"
      },
      {
        "duration": 8,
        "start_time": "2023-12-18T12:14:45.747Z"
      },
      {
        "duration": 1589,
        "start_time": "2023-12-18T12:14:46.946Z"
      },
      {
        "duration": 18,
        "start_time": "2023-12-18T12:14:51.074Z"
      },
      {
        "duration": 232,
        "start_time": "2023-12-18T12:18:54.378Z"
      },
      {
        "duration": 8,
        "start_time": "2023-12-18T12:19:10.437Z"
      },
      {
        "duration": 190,
        "start_time": "2023-12-18T12:20:03.921Z"
      },
      {
        "duration": 210,
        "start_time": "2023-12-18T12:20:17.410Z"
      },
      {
        "duration": 13,
        "start_time": "2023-12-18T13:06:35.163Z"
      },
      {
        "duration": 10,
        "start_time": "2023-12-18T13:06:43.161Z"
      },
      {
        "duration": 313,
        "start_time": "2023-12-18T13:07:48.880Z"
      },
      {
        "duration": 326,
        "start_time": "2023-12-18T13:07:49.686Z"
      },
      {
        "duration": 7,
        "start_time": "2023-12-18T13:10:02.554Z"
      },
      {
        "duration": 8,
        "start_time": "2023-12-18T13:10:09.938Z"
      },
      {
        "duration": 5,
        "start_time": "2023-12-18T13:26:52.256Z"
      },
      {
        "duration": 4,
        "start_time": "2023-12-18T13:27:54.922Z"
      },
      {
        "duration": 7,
        "start_time": "2023-12-18T13:45:36.974Z"
      },
      {
        "duration": 7011,
        "start_time": "2023-12-19T07:54:23.707Z"
      },
      {
        "duration": 466,
        "start_time": "2023-12-19T07:54:30.720Z"
      },
      {
        "duration": 14,
        "start_time": "2023-12-19T07:54:31.187Z"
      },
      {
        "duration": 44,
        "start_time": "2023-12-19T07:54:31.203Z"
      },
      {
        "duration": 64,
        "start_time": "2023-12-19T07:54:31.249Z"
      },
      {
        "duration": 65,
        "start_time": "2023-12-19T07:54:31.315Z"
      },
      {
        "duration": 65,
        "start_time": "2023-12-19T07:54:31.382Z"
      },
      {
        "duration": 52,
        "start_time": "2023-12-19T07:54:31.448Z"
      },
      {
        "duration": 70,
        "start_time": "2023-12-19T07:54:31.501Z"
      },
      {
        "duration": 76,
        "start_time": "2023-12-19T07:54:31.574Z"
      },
      {
        "duration": 26,
        "start_time": "2023-12-19T07:54:31.652Z"
      },
      {
        "duration": 52,
        "start_time": "2023-12-19T07:54:31.680Z"
      },
      {
        "duration": 62,
        "start_time": "2023-12-19T07:54:31.733Z"
      },
      {
        "duration": 433,
        "start_time": "2023-12-19T07:54:31.797Z"
      },
      {
        "duration": 105,
        "start_time": "2023-12-19T07:54:32.232Z"
      },
      {
        "duration": 6,
        "start_time": "2023-12-19T07:54:32.339Z"
      },
      {
        "duration": 322,
        "start_time": "2023-12-19T07:54:32.346Z"
      },
      {
        "duration": 17,
        "start_time": "2023-12-19T07:54:32.670Z"
      },
      {
        "duration": 402,
        "start_time": "2023-12-19T07:54:32.688Z"
      },
      {
        "duration": 17,
        "start_time": "2023-12-19T07:54:33.092Z"
      },
      {
        "duration": 407,
        "start_time": "2023-12-19T07:54:33.110Z"
      },
      {
        "duration": 493,
        "start_time": "2023-12-19T07:54:33.519Z"
      },
      {
        "duration": 4,
        "start_time": "2023-12-19T07:54:34.014Z"
      },
      {
        "duration": 300,
        "start_time": "2023-12-19T07:54:34.020Z"
      },
      {
        "duration": 383,
        "start_time": "2023-12-19T07:54:34.321Z"
      },
      {
        "duration": 154,
        "start_time": "2023-12-19T07:54:34.706Z"
      },
      {
        "duration": 19,
        "start_time": "2023-12-19T07:54:34.865Z"
      },
      {
        "duration": 7,
        "start_time": "2023-12-19T07:54:34.887Z"
      },
      {
        "duration": 11,
        "start_time": "2023-12-19T07:54:34.895Z"
      },
      {
        "duration": 8,
        "start_time": "2023-12-19T07:54:34.907Z"
      },
      {
        "duration": 15,
        "start_time": "2023-12-19T07:54:34.916Z"
      },
      {
        "duration": 13,
        "start_time": "2023-12-19T07:54:34.932Z"
      },
      {
        "duration": 24,
        "start_time": "2023-12-19T07:54:34.947Z"
      },
      {
        "duration": 1826,
        "start_time": "2023-12-19T07:54:34.972Z"
      },
      {
        "duration": 11,
        "start_time": "2023-12-19T07:54:36.800Z"
      },
      {
        "duration": 188,
        "start_time": "2023-12-19T07:54:36.812Z"
      },
      {
        "duration": 11,
        "start_time": "2023-12-19T07:54:37.002Z"
      },
      {
        "duration": 34,
        "start_time": "2023-12-19T07:54:37.014Z"
      },
      {
        "duration": 22,
        "start_time": "2023-12-19T07:54:37.050Z"
      },
      {
        "duration": 20,
        "start_time": "2023-12-19T07:54:37.074Z"
      },
      {
        "duration": 18,
        "start_time": "2023-12-19T07:54:37.095Z"
      },
      {
        "duration": 39,
        "start_time": "2023-12-19T07:54:37.115Z"
      },
      {
        "duration": 8,
        "start_time": "2023-12-19T07:54:37.156Z"
      },
      {
        "duration": 11,
        "start_time": "2023-12-19T07:54:37.166Z"
      },
      {
        "duration": 9,
        "start_time": "2023-12-19T07:54:37.179Z"
      },
      {
        "duration": 13,
        "start_time": "2023-12-19T07:54:37.190Z"
      },
      {
        "duration": 13,
        "start_time": "2023-12-19T07:54:37.204Z"
      },
      {
        "duration": 23,
        "start_time": "2023-12-19T07:54:37.219Z"
      },
      {
        "duration": 463,
        "start_time": "2023-12-19T07:54:37.244Z"
      },
      {
        "duration": 291,
        "start_time": "2023-12-19T07:54:37.708Z"
      },
      {
        "duration": 14,
        "start_time": "2023-12-19T07:54:38.000Z"
      },
      {
        "duration": 122,
        "start_time": "2023-12-19T07:54:38.015Z"
      },
      {
        "duration": 6,
        "start_time": "2023-12-19T07:54:38.139Z"
      },
      {
        "duration": 14,
        "start_time": "2023-12-19T07:54:38.147Z"
      },
      {
        "duration": 9,
        "start_time": "2023-12-19T07:54:38.165Z"
      },
      {
        "duration": 17,
        "start_time": "2023-12-19T07:54:38.176Z"
      },
      {
        "duration": 282,
        "start_time": "2023-12-19T07:54:38.195Z"
      },
      {
        "duration": 327,
        "start_time": "2023-12-19T07:54:38.479Z"
      },
      {
        "duration": 6,
        "start_time": "2023-12-19T07:54:38.807Z"
      },
      {
        "duration": 353,
        "start_time": "2023-12-19T07:54:38.815Z"
      },
      {
        "duration": 7,
        "start_time": "2023-12-19T07:54:39.170Z"
      },
      {
        "duration": 36,
        "start_time": "2023-12-19T07:54:39.178Z"
      },
      {
        "duration": 39,
        "start_time": "2023-12-19T07:54:39.215Z"
      },
      {
        "duration": 59,
        "start_time": "2023-12-19T07:54:39.256Z"
      },
      {
        "duration": 9,
        "start_time": "2023-12-19T07:54:39.316Z"
      },
      {
        "duration": 8,
        "start_time": "2023-12-19T07:54:39.326Z"
      },
      {
        "duration": 13,
        "start_time": "2023-12-19T07:54:39.336Z"
      },
      {
        "duration": 13,
        "start_time": "2023-12-19T07:54:39.351Z"
      },
      {
        "duration": 4,
        "start_time": "2023-12-19T07:54:39.365Z"
      },
      {
        "duration": 17,
        "start_time": "2023-12-19T07:54:39.370Z"
      },
      {
        "duration": 7,
        "start_time": "2023-12-19T07:54:39.389Z"
      },
      {
        "duration": 8,
        "start_time": "2023-12-19T07:54:39.397Z"
      },
      {
        "duration": 12,
        "start_time": "2023-12-19T07:54:39.406Z"
      },
      {
        "duration": 9,
        "start_time": "2023-12-19T07:54:39.419Z"
      },
      {
        "duration": 1647,
        "start_time": "2023-12-19T07:54:39.429Z"
      },
      {
        "duration": 16,
        "start_time": "2023-12-19T07:54:41.078Z"
      },
      {
        "duration": 7183,
        "start_time": "2023-12-20T13:21:01.790Z"
      },
      {
        "duration": 269,
        "start_time": "2023-12-20T13:21:08.975Z"
      },
      {
        "duration": 13,
        "start_time": "2023-12-20T13:21:09.246Z"
      },
      {
        "duration": 25,
        "start_time": "2023-12-20T13:21:09.261Z"
      },
      {
        "duration": 44,
        "start_time": "2023-12-20T13:21:09.288Z"
      },
      {
        "duration": 26,
        "start_time": "2023-12-20T13:21:09.333Z"
      },
      {
        "duration": 27,
        "start_time": "2023-12-20T13:21:09.361Z"
      },
      {
        "duration": 43,
        "start_time": "2023-12-20T13:21:09.389Z"
      },
      {
        "duration": 25,
        "start_time": "2023-12-20T13:21:09.434Z"
      },
      {
        "duration": 55,
        "start_time": "2023-12-20T13:21:09.462Z"
      },
      {
        "duration": 39,
        "start_time": "2023-12-20T13:21:09.518Z"
      },
      {
        "duration": 38,
        "start_time": "2023-12-20T13:21:09.559Z"
      },
      {
        "duration": 56,
        "start_time": "2023-12-20T13:21:09.599Z"
      },
      {
        "duration": 476,
        "start_time": "2023-12-20T13:21:09.656Z"
      },
      {
        "duration": 113,
        "start_time": "2023-12-20T13:21:10.134Z"
      },
      {
        "duration": 6,
        "start_time": "2023-12-20T13:21:10.248Z"
      },
      {
        "duration": 348,
        "start_time": "2023-12-20T13:21:10.255Z"
      },
      {
        "duration": 17,
        "start_time": "2023-12-20T13:21:10.605Z"
      },
      {
        "duration": 405,
        "start_time": "2023-12-20T13:21:10.623Z"
      },
      {
        "duration": 18,
        "start_time": "2023-12-20T13:21:11.029Z"
      },
      {
        "duration": 379,
        "start_time": "2023-12-20T13:21:11.048Z"
      },
      {
        "duration": 524,
        "start_time": "2023-12-20T13:21:11.429Z"
      },
      {
        "duration": 12,
        "start_time": "2023-12-20T13:21:11.954Z"
      },
      {
        "duration": 275,
        "start_time": "2023-12-20T13:21:11.967Z"
      },
      {
        "duration": 373,
        "start_time": "2023-12-20T13:21:12.243Z"
      },
      {
        "duration": 169,
        "start_time": "2023-12-20T13:21:12.617Z"
      },
      {
        "duration": 18,
        "start_time": "2023-12-20T13:21:12.788Z"
      },
      {
        "duration": 8,
        "start_time": "2023-12-20T13:21:12.809Z"
      },
      {
        "duration": 19,
        "start_time": "2023-12-20T13:21:12.818Z"
      },
      {
        "duration": 33,
        "start_time": "2023-12-20T13:21:12.838Z"
      },
      {
        "duration": 23,
        "start_time": "2023-12-20T13:21:12.873Z"
      },
      {
        "duration": 22,
        "start_time": "2023-12-20T13:21:12.898Z"
      },
      {
        "duration": 21,
        "start_time": "2023-12-20T13:21:12.922Z"
      },
      {
        "duration": 1724,
        "start_time": "2023-12-20T13:21:12.944Z"
      },
      {
        "duration": 14,
        "start_time": "2023-12-20T13:21:14.669Z"
      },
      {
        "duration": 192,
        "start_time": "2023-12-20T13:21:14.685Z"
      },
      {
        "duration": 11,
        "start_time": "2023-12-20T13:21:14.879Z"
      },
      {
        "duration": 35,
        "start_time": "2023-12-20T13:21:14.892Z"
      },
      {
        "duration": 22,
        "start_time": "2023-12-20T13:21:14.929Z"
      },
      {
        "duration": 9,
        "start_time": "2023-12-20T13:21:14.953Z"
      },
      {
        "duration": 17,
        "start_time": "2023-12-20T13:21:14.966Z"
      },
      {
        "duration": 19,
        "start_time": "2023-12-20T13:21:14.984Z"
      },
      {
        "duration": 7,
        "start_time": "2023-12-20T13:21:15.004Z"
      },
      {
        "duration": 36,
        "start_time": "2023-12-20T13:21:15.012Z"
      },
      {
        "duration": 59,
        "start_time": "2023-12-20T13:21:15.050Z"
      },
      {
        "duration": 26,
        "start_time": "2023-12-20T13:21:15.110Z"
      },
      {
        "duration": 35,
        "start_time": "2023-12-20T13:21:15.138Z"
      },
      {
        "duration": 18,
        "start_time": "2023-12-20T13:21:15.175Z"
      },
      {
        "duration": 488,
        "start_time": "2023-12-20T13:21:15.194Z"
      },
      {
        "duration": 329,
        "start_time": "2023-12-20T13:21:15.684Z"
      },
      {
        "duration": 14,
        "start_time": "2023-12-20T13:21:16.015Z"
      },
      {
        "duration": 102,
        "start_time": "2023-12-20T13:21:16.031Z"
      },
      {
        "duration": 7,
        "start_time": "2023-12-20T13:21:16.134Z"
      },
      {
        "duration": 22,
        "start_time": "2023-12-20T13:21:16.143Z"
      },
      {
        "duration": 17,
        "start_time": "2023-12-20T13:21:16.166Z"
      },
      {
        "duration": 12,
        "start_time": "2023-12-20T13:21:16.184Z"
      },
      {
        "duration": 269,
        "start_time": "2023-12-20T13:21:16.198Z"
      },
      {
        "duration": 324,
        "start_time": "2023-12-20T13:21:16.469Z"
      },
      {
        "duration": 7,
        "start_time": "2023-12-20T13:21:16.794Z"
      },
      {
        "duration": 382,
        "start_time": "2023-12-20T13:21:16.803Z"
      },
      {
        "duration": 8,
        "start_time": "2023-12-20T13:21:17.187Z"
      },
      {
        "duration": 16,
        "start_time": "2023-12-20T13:21:17.196Z"
      },
      {
        "duration": 14,
        "start_time": "2023-12-20T13:21:17.214Z"
      },
      {
        "duration": 15,
        "start_time": "2023-12-20T13:21:17.230Z"
      },
      {
        "duration": 20,
        "start_time": "2023-12-20T13:21:17.246Z"
      },
      {
        "duration": 8,
        "start_time": "2023-12-20T13:21:17.268Z"
      },
      {
        "duration": 16,
        "start_time": "2023-12-20T13:21:17.277Z"
      },
      {
        "duration": 12,
        "start_time": "2023-12-20T13:21:17.295Z"
      },
      {
        "duration": 3,
        "start_time": "2023-12-20T13:21:17.309Z"
      },
      {
        "duration": 13,
        "start_time": "2023-12-20T13:21:17.313Z"
      },
      {
        "duration": 26,
        "start_time": "2023-12-20T13:21:17.327Z"
      },
      {
        "duration": 20,
        "start_time": "2023-12-20T13:21:17.355Z"
      },
      {
        "duration": 31,
        "start_time": "2023-12-20T13:21:17.376Z"
      },
      {
        "duration": 9,
        "start_time": "2023-12-20T13:21:17.409Z"
      },
      {
        "duration": 1731,
        "start_time": "2023-12-20T13:21:17.420Z"
      },
      {
        "duration": 29,
        "start_time": "2023-12-20T13:21:19.152Z"
      },
      {
        "duration": 117,
        "start_time": "2023-12-20T13:21:19.183Z"
      },
      {
        "duration": 12,
        "start_time": "2023-12-20T13:22:56.882Z"
      },
      {
        "duration": 1939,
        "start_time": "2023-12-20T13:22:57.453Z"
      },
      {
        "duration": 17,
        "start_time": "2023-12-20T13:22:59.394Z"
      },
      {
        "duration": 161,
        "start_time": "2023-12-21T06:37:37.608Z"
      },
      {
        "duration": 4797,
        "start_time": "2023-12-21T06:38:06.025Z"
      },
      {
        "duration": 25,
        "start_time": "2023-12-21T06:38:15.738Z"
      },
      {
        "duration": 7016,
        "start_time": "2023-12-21T06:38:30.854Z"
      },
      {
        "duration": 254,
        "start_time": "2023-12-21T06:38:37.873Z"
      },
      {
        "duration": 16,
        "start_time": "2023-12-21T06:38:38.128Z"
      },
      {
        "duration": 23,
        "start_time": "2023-12-21T06:38:38.146Z"
      },
      {
        "duration": 25,
        "start_time": "2023-12-21T06:38:38.171Z"
      },
      {
        "duration": 24,
        "start_time": "2023-12-21T06:38:38.198Z"
      },
      {
        "duration": 29,
        "start_time": "2023-12-21T06:38:38.223Z"
      },
      {
        "duration": 25,
        "start_time": "2023-12-21T06:38:38.254Z"
      },
      {
        "duration": 30,
        "start_time": "2023-12-21T06:38:38.281Z"
      },
      {
        "duration": 61,
        "start_time": "2023-12-21T06:38:38.313Z"
      },
      {
        "duration": 21,
        "start_time": "2023-12-21T06:38:38.376Z"
      },
      {
        "duration": 23,
        "start_time": "2023-12-21T06:38:38.398Z"
      },
      {
        "duration": 11,
        "start_time": "2023-12-21T06:38:38.422Z"
      },
      {
        "duration": 425,
        "start_time": "2023-12-21T06:38:38.436Z"
      },
      {
        "duration": 127,
        "start_time": "2023-12-21T06:38:38.864Z"
      },
      {
        "duration": 5,
        "start_time": "2023-12-21T06:38:38.992Z"
      },
      {
        "duration": 313,
        "start_time": "2023-12-21T06:38:38.998Z"
      },
      {
        "duration": 18,
        "start_time": "2023-12-21T06:38:39.312Z"
      },
      {
        "duration": 376,
        "start_time": "2023-12-21T06:38:39.331Z"
      },
      {
        "duration": 17,
        "start_time": "2023-12-21T06:38:39.709Z"
      },
      {
        "duration": 389,
        "start_time": "2023-12-21T06:38:39.728Z"
      },
      {
        "duration": 481,
        "start_time": "2023-12-21T06:38:40.119Z"
      },
      {
        "duration": 5,
        "start_time": "2023-12-21T06:38:40.601Z"
      },
      {
        "duration": 251,
        "start_time": "2023-12-21T06:38:40.607Z"
      },
      {
        "duration": 350,
        "start_time": "2023-12-21T06:38:40.860Z"
      },
      {
        "duration": 156,
        "start_time": "2023-12-21T06:38:41.212Z"
      },
      {
        "duration": 18,
        "start_time": "2023-12-21T06:38:41.369Z"
      },
      {
        "duration": 6,
        "start_time": "2023-12-21T06:38:41.388Z"
      },
      {
        "duration": 18,
        "start_time": "2023-12-21T06:38:41.396Z"
      },
      {
        "duration": 6,
        "start_time": "2023-12-21T06:38:41.415Z"
      },
      {
        "duration": 21,
        "start_time": "2023-12-21T06:38:41.423Z"
      },
      {
        "duration": 6,
        "start_time": "2023-12-21T06:38:41.446Z"
      },
      {
        "duration": 8,
        "start_time": "2023-12-21T06:38:41.465Z"
      },
      {
        "duration": 1539,
        "start_time": "2023-12-21T06:38:41.474Z"
      },
      {
        "duration": 12,
        "start_time": "2023-12-21T06:38:43.015Z"
      },
      {
        "duration": 187,
        "start_time": "2023-12-21T06:38:43.029Z"
      },
      {
        "duration": 10,
        "start_time": "2023-12-21T06:38:43.218Z"
      },
      {
        "duration": 41,
        "start_time": "2023-12-21T06:38:43.229Z"
      },
      {
        "duration": 23,
        "start_time": "2023-12-21T06:38:43.271Z"
      },
      {
        "duration": 10,
        "start_time": "2023-12-21T06:38:43.296Z"
      },
      {
        "duration": 22,
        "start_time": "2023-12-21T06:38:43.309Z"
      },
      {
        "duration": 42,
        "start_time": "2023-12-21T06:38:43.332Z"
      },
      {
        "duration": 7,
        "start_time": "2023-12-21T06:38:43.376Z"
      },
      {
        "duration": 10,
        "start_time": "2023-12-21T06:38:43.385Z"
      },
      {
        "duration": 4,
        "start_time": "2023-12-21T06:38:43.397Z"
      },
      {
        "duration": 19,
        "start_time": "2023-12-21T06:38:43.402Z"
      },
      {
        "duration": 18,
        "start_time": "2023-12-21T06:38:43.422Z"
      },
      {
        "duration": 10,
        "start_time": "2023-12-21T06:38:43.442Z"
      },
      {
        "duration": 475,
        "start_time": "2023-12-21T06:38:43.454Z"
      },
      {
        "duration": 268,
        "start_time": "2023-12-21T06:38:43.930Z"
      },
      {
        "duration": 13,
        "start_time": "2023-12-21T06:38:44.200Z"
      },
      {
        "duration": 101,
        "start_time": "2023-12-21T06:38:44.214Z"
      },
      {
        "duration": 6,
        "start_time": "2023-12-21T06:38:44.317Z"
      },
      {
        "duration": 19,
        "start_time": "2023-12-21T06:38:44.324Z"
      },
      {
        "duration": 31,
        "start_time": "2023-12-21T06:38:44.344Z"
      },
      {
        "duration": 19,
        "start_time": "2023-12-21T06:38:44.376Z"
      },
      {
        "duration": 264,
        "start_time": "2023-12-21T06:38:44.396Z"
      },
      {
        "duration": 319,
        "start_time": "2023-12-21T06:38:44.661Z"
      },
      {
        "duration": 8,
        "start_time": "2023-12-21T06:38:44.982Z"
      },
      {
        "duration": 380,
        "start_time": "2023-12-21T06:38:44.991Z"
      },
      {
        "duration": 8,
        "start_time": "2023-12-21T06:38:45.373Z"
      },
      {
        "duration": 27,
        "start_time": "2023-12-21T06:38:45.382Z"
      },
      {
        "duration": 25,
        "start_time": "2023-12-21T06:38:45.410Z"
      },
      {
        "duration": 19,
        "start_time": "2023-12-21T06:38:45.437Z"
      },
      {
        "duration": 18,
        "start_time": "2023-12-21T06:38:45.458Z"
      },
      {
        "duration": 6,
        "start_time": "2023-12-21T06:38:45.478Z"
      },
      {
        "duration": 26,
        "start_time": "2023-12-21T06:38:45.486Z"
      },
      {
        "duration": 35,
        "start_time": "2023-12-21T06:38:45.514Z"
      },
      {
        "duration": 14,
        "start_time": "2023-12-21T06:38:45.550Z"
      },
      {
        "duration": 13,
        "start_time": "2023-12-21T06:38:45.566Z"
      },
      {
        "duration": 25,
        "start_time": "2023-12-21T06:38:45.580Z"
      },
      {
        "duration": 40,
        "start_time": "2023-12-21T06:38:45.607Z"
      },
      {
        "duration": 35,
        "start_time": "2023-12-21T06:38:45.648Z"
      },
      {
        "duration": 178,
        "start_time": "2023-12-21T06:38:45.685Z"
      },
      {
        "duration": 0,
        "start_time": "2023-12-21T06:38:45.865Z"
      },
      {
        "duration": 0,
        "start_time": "2023-12-21T06:38:45.867Z"
      },
      {
        "duration": 18,
        "start_time": "2023-12-21T06:47:58.292Z"
      },
      {
        "duration": 5224,
        "start_time": "2023-12-21T06:54:28.373Z"
      },
      {
        "duration": 12,
        "start_time": "2023-12-21T06:54:53.961Z"
      },
      {
        "duration": 64,
        "start_time": "2023-12-21T06:55:00.818Z"
      },
      {
        "duration": 10,
        "start_time": "2023-12-21T06:55:33.149Z"
      },
      {
        "duration": 1437,
        "start_time": "2023-12-21T06:55:33.852Z"
      },
      {
        "duration": 19,
        "start_time": "2023-12-21T06:55:44.226Z"
      },
      {
        "duration": 10,
        "start_time": "2023-12-21T07:18:26.526Z"
      },
      {
        "duration": 1502,
        "start_time": "2023-12-21T07:18:27.430Z"
      },
      {
        "duration": 17,
        "start_time": "2023-12-21T07:18:30.907Z"
      },
      {
        "duration": 9,
        "start_time": "2023-12-21T07:18:35.748Z"
      },
      {
        "duration": 1423,
        "start_time": "2023-12-21T07:18:36.574Z"
      },
      {
        "duration": 18,
        "start_time": "2023-12-21T07:18:41.281Z"
      },
      {
        "duration": 18,
        "start_time": "2023-12-21T07:19:30.857Z"
      },
      {
        "duration": 9,
        "start_time": "2023-12-21T07:19:38.365Z"
      },
      {
        "duration": 4551,
        "start_time": "2023-12-21T07:19:40.295Z"
      },
      {
        "duration": 33,
        "start_time": "2023-12-21T07:20:16.681Z"
      },
      {
        "duration": 1462,
        "start_time": "2023-12-21T07:20:17.149Z"
      },
      {
        "duration": 22,
        "start_time": "2023-12-21T07:20:20.774Z"
      },
      {
        "duration": 6932,
        "start_time": "2023-12-21T17:42:42.281Z"
      },
      {
        "duration": 221,
        "start_time": "2023-12-21T17:42:49.215Z"
      },
      {
        "duration": 13,
        "start_time": "2023-12-21T17:42:49.438Z"
      },
      {
        "duration": 32,
        "start_time": "2023-12-21T17:42:49.453Z"
      },
      {
        "duration": 42,
        "start_time": "2023-12-21T17:42:49.487Z"
      },
      {
        "duration": 27,
        "start_time": "2023-12-21T17:42:49.530Z"
      },
      {
        "duration": 28,
        "start_time": "2023-12-21T17:42:49.558Z"
      },
      {
        "duration": 41,
        "start_time": "2023-12-21T17:42:49.587Z"
      },
      {
        "duration": 18,
        "start_time": "2023-12-21T17:42:49.629Z"
      },
      {
        "duration": 59,
        "start_time": "2023-12-21T17:42:49.649Z"
      },
      {
        "duration": 42,
        "start_time": "2023-12-21T17:42:49.710Z"
      },
      {
        "duration": 27,
        "start_time": "2023-12-21T17:42:49.753Z"
      },
      {
        "duration": 29,
        "start_time": "2023-12-21T17:42:49.782Z"
      },
      {
        "duration": 409,
        "start_time": "2023-12-21T17:42:49.812Z"
      },
      {
        "duration": 113,
        "start_time": "2023-12-21T17:42:50.223Z"
      },
      {
        "duration": 7,
        "start_time": "2023-12-21T17:42:50.338Z"
      },
      {
        "duration": 328,
        "start_time": "2023-12-21T17:42:50.347Z"
      },
      {
        "duration": 24,
        "start_time": "2023-12-21T17:42:50.677Z"
      },
      {
        "duration": 377,
        "start_time": "2023-12-21T17:42:50.703Z"
      },
      {
        "duration": 17,
        "start_time": "2023-12-21T17:42:51.081Z"
      },
      {
        "duration": 388,
        "start_time": "2023-12-21T17:42:51.099Z"
      },
      {
        "duration": 490,
        "start_time": "2023-12-21T17:42:51.488Z"
      },
      {
        "duration": 4,
        "start_time": "2023-12-21T17:42:51.979Z"
      },
      {
        "duration": 274,
        "start_time": "2023-12-21T17:42:51.985Z"
      },
      {
        "duration": 372,
        "start_time": "2023-12-21T17:42:52.261Z"
      },
      {
        "duration": 165,
        "start_time": "2023-12-21T17:42:52.634Z"
      },
      {
        "duration": 18,
        "start_time": "2023-12-21T17:42:52.800Z"
      },
      {
        "duration": 37,
        "start_time": "2023-12-21T17:42:52.822Z"
      },
      {
        "duration": 26,
        "start_time": "2023-12-21T17:42:52.861Z"
      },
      {
        "duration": 24,
        "start_time": "2023-12-21T17:42:52.889Z"
      },
      {
        "duration": 30,
        "start_time": "2023-12-21T17:42:52.914Z"
      },
      {
        "duration": 14,
        "start_time": "2023-12-21T17:42:52.945Z"
      },
      {
        "duration": 12,
        "start_time": "2023-12-21T17:42:52.960Z"
      },
      {
        "duration": 1527,
        "start_time": "2023-12-21T17:42:52.974Z"
      },
      {
        "duration": 13,
        "start_time": "2023-12-21T17:42:54.503Z"
      },
      {
        "duration": 176,
        "start_time": "2023-12-21T17:42:54.517Z"
      },
      {
        "duration": 11,
        "start_time": "2023-12-21T17:42:54.695Z"
      },
      {
        "duration": 39,
        "start_time": "2023-12-21T17:42:54.708Z"
      },
      {
        "duration": 27,
        "start_time": "2023-12-21T17:42:54.748Z"
      },
      {
        "duration": 19,
        "start_time": "2023-12-21T17:42:54.777Z"
      },
      {
        "duration": 37,
        "start_time": "2023-12-21T17:42:54.798Z"
      },
      {
        "duration": 21,
        "start_time": "2023-12-21T17:42:54.836Z"
      },
      {
        "duration": 7,
        "start_time": "2023-12-21T17:42:54.858Z"
      },
      {
        "duration": 24,
        "start_time": "2023-12-21T17:42:54.867Z"
      },
      {
        "duration": 5,
        "start_time": "2023-12-21T17:42:54.893Z"
      },
      {
        "duration": 7,
        "start_time": "2023-12-21T17:42:54.900Z"
      },
      {
        "duration": 8,
        "start_time": "2023-12-21T17:42:54.908Z"
      },
      {
        "duration": 7,
        "start_time": "2023-12-21T17:42:54.918Z"
      },
      {
        "duration": 471,
        "start_time": "2023-12-21T17:42:54.926Z"
      },
      {
        "duration": 267,
        "start_time": "2023-12-21T17:42:55.399Z"
      },
      {
        "duration": 13,
        "start_time": "2023-12-21T17:42:55.668Z"
      },
      {
        "duration": 95,
        "start_time": "2023-12-21T17:42:55.683Z"
      },
      {
        "duration": 6,
        "start_time": "2023-12-21T17:42:55.780Z"
      },
      {
        "duration": 36,
        "start_time": "2023-12-21T17:42:55.788Z"
      },
      {
        "duration": 33,
        "start_time": "2023-12-21T17:42:55.825Z"
      },
      {
        "duration": 24,
        "start_time": "2023-12-21T17:42:55.860Z"
      },
      {
        "duration": 293,
        "start_time": "2023-12-21T17:42:55.886Z"
      },
      {
        "duration": 302,
        "start_time": "2023-12-21T17:42:56.181Z"
      },
      {
        "duration": 7,
        "start_time": "2023-12-21T17:42:56.484Z"
      },
      {
        "duration": 296,
        "start_time": "2023-12-21T17:42:56.493Z"
      },
      {
        "duration": 7,
        "start_time": "2023-12-21T17:42:56.791Z"
      },
      {
        "duration": 28,
        "start_time": "2023-12-21T17:42:56.800Z"
      },
      {
        "duration": 14,
        "start_time": "2023-12-21T17:42:56.829Z"
      },
      {
        "duration": 10,
        "start_time": "2023-12-21T17:42:56.845Z"
      },
      {
        "duration": 16,
        "start_time": "2023-12-21T17:42:56.857Z"
      },
      {
        "duration": 8,
        "start_time": "2023-12-21T17:42:56.874Z"
      },
      {
        "duration": 20,
        "start_time": "2023-12-21T17:42:56.883Z"
      },
      {
        "duration": 12,
        "start_time": "2023-12-21T17:42:56.905Z"
      },
      {
        "duration": 4,
        "start_time": "2023-12-21T17:42:56.918Z"
      },
      {
        "duration": 6,
        "start_time": "2023-12-21T17:42:56.923Z"
      },
      {
        "duration": 7,
        "start_time": "2023-12-21T17:42:56.931Z"
      },
      {
        "duration": 9,
        "start_time": "2023-12-21T17:42:56.940Z"
      },
      {
        "duration": 7,
        "start_time": "2023-12-21T17:42:56.951Z"
      },
      {
        "duration": 8,
        "start_time": "2023-12-21T17:42:56.965Z"
      },
      {
        "duration": 1460,
        "start_time": "2023-12-21T17:42:56.975Z"
      },
      {
        "duration": 30,
        "start_time": "2023-12-21T17:42:58.437Z"
      },
      {
        "duration": 9,
        "start_time": "2023-12-21T17:45:50.280Z"
      },
      {
        "duration": 1774,
        "start_time": "2023-12-21T17:45:51.681Z"
      },
      {
        "duration": 15,
        "start_time": "2023-12-21T17:47:51.985Z"
      },
      {
        "duration": 1699,
        "start_time": "2023-12-21T17:47:52.946Z"
      },
      {
        "duration": 23,
        "start_time": "2023-12-21T17:47:57.448Z"
      },
      {
        "duration": 9,
        "start_time": "2023-12-21T17:51:09.293Z"
      },
      {
        "duration": 168,
        "start_time": "2023-12-21T17:51:19.280Z"
      },
      {
        "duration": 8,
        "start_time": "2023-12-21T17:51:32.157Z"
      },
      {
        "duration": 654712,
        "start_time": "2023-12-21T17:51:33.271Z"
      },
      {
        "duration": 4808,
        "start_time": "2023-12-21T18:06:35.385Z"
      },
      {
        "duration": 85,
        "start_time": "2023-12-21T18:08:02.394Z"
      },
      {
        "duration": 10,
        "start_time": "2023-12-21T18:08:11.426Z"
      },
      {
        "duration": 66,
        "start_time": "2023-12-21T18:08:13.505Z"
      },
      {
        "duration": 9,
        "start_time": "2023-12-21T18:08:26.715Z"
      },
      {
        "duration": 54,
        "start_time": "2023-12-21T18:08:27.353Z"
      },
      {
        "duration": 9,
        "start_time": "2023-12-21T18:08:45.411Z"
      },
      {
        "duration": 63,
        "start_time": "2023-12-21T18:08:46.351Z"
      },
      {
        "duration": 12,
        "start_time": "2023-12-21T18:11:25.763Z"
      },
      {
        "duration": 1778,
        "start_time": "2023-12-21T18:11:26.592Z"
      },
      {
        "duration": 18,
        "start_time": "2023-12-21T18:11:32.556Z"
      },
      {
        "duration": 10,
        "start_time": "2023-12-21T18:15:15.432Z"
      },
      {
        "duration": 1728,
        "start_time": "2023-12-21T18:15:16.061Z"
      },
      {
        "duration": 19,
        "start_time": "2023-12-21T18:15:21.831Z"
      },
      {
        "duration": 9,
        "start_time": "2023-12-21T18:15:35.343Z"
      },
      {
        "duration": 1683,
        "start_time": "2023-12-21T18:15:37.240Z"
      },
      {
        "duration": 18,
        "start_time": "2023-12-21T18:15:42.709Z"
      },
      {
        "duration": 10,
        "start_time": "2023-12-21T18:16:37.803Z"
      },
      {
        "duration": 0,
        "start_time": "2023-12-21T18:22:04.770Z"
      },
      {
        "duration": 0,
        "start_time": "2023-12-21T18:22:04.771Z"
      },
      {
        "duration": 9,
        "start_time": "2023-12-21T18:22:19.136Z"
      },
      {
        "duration": 230,
        "start_time": "2023-12-21T18:22:25.219Z"
      },
      {
        "duration": 8,
        "start_time": "2023-12-21T18:22:49.716Z"
      },
      {
        "duration": 1890,
        "start_time": "2023-12-21T18:22:50.628Z"
      },
      {
        "duration": 104,
        "start_time": "2023-12-21T18:22:56.465Z"
      },
      {
        "duration": 9,
        "start_time": "2023-12-21T18:23:21.734Z"
      },
      {
        "duration": 0,
        "start_time": "2023-12-21T18:29:42.120Z"
      },
      {
        "duration": 0,
        "start_time": "2023-12-21T18:29:42.122Z"
      },
      {
        "duration": 7039,
        "start_time": "2023-12-21T18:30:21.316Z"
      },
      {
        "duration": 136,
        "start_time": "2023-12-21T18:30:28.356Z"
      },
      {
        "duration": 15,
        "start_time": "2023-12-21T18:30:28.493Z"
      },
      {
        "duration": 38,
        "start_time": "2023-12-21T18:30:28.509Z"
      },
      {
        "duration": 26,
        "start_time": "2023-12-21T18:30:28.548Z"
      },
      {
        "duration": 29,
        "start_time": "2023-12-21T18:30:28.575Z"
      },
      {
        "duration": 26,
        "start_time": "2023-12-21T18:30:28.605Z"
      },
      {
        "duration": 36,
        "start_time": "2023-12-21T18:30:28.633Z"
      },
      {
        "duration": 16,
        "start_time": "2023-12-21T18:30:28.671Z"
      },
      {
        "duration": 48,
        "start_time": "2023-12-21T18:30:28.690Z"
      },
      {
        "duration": 20,
        "start_time": "2023-12-21T18:30:28.740Z"
      },
      {
        "duration": 27,
        "start_time": "2023-12-21T18:30:28.762Z"
      },
      {
        "duration": 30,
        "start_time": "2023-12-21T18:30:28.791Z"
      },
      {
        "duration": 447,
        "start_time": "2023-12-21T18:30:28.823Z"
      },
      {
        "duration": 104,
        "start_time": "2023-12-21T18:30:29.271Z"
      },
      {
        "duration": 5,
        "start_time": "2023-12-21T18:30:29.377Z"
      },
      {
        "duration": 322,
        "start_time": "2023-12-21T18:30:29.384Z"
      },
      {
        "duration": 18,
        "start_time": "2023-12-21T18:30:29.707Z"
      },
      {
        "duration": 377,
        "start_time": "2023-12-21T18:30:29.726Z"
      },
      {
        "duration": 17,
        "start_time": "2023-12-21T18:30:30.105Z"
      },
      {
        "duration": 425,
        "start_time": "2023-12-21T18:30:30.123Z"
      },
      {
        "duration": 484,
        "start_time": "2023-12-21T18:30:30.550Z"
      },
      {
        "duration": 5,
        "start_time": "2023-12-21T18:30:31.036Z"
      },
      {
        "duration": 285,
        "start_time": "2023-12-21T18:30:31.042Z"
      },
      {
        "duration": 382,
        "start_time": "2023-12-21T18:30:31.328Z"
      },
      {
        "duration": 160,
        "start_time": "2023-12-21T18:30:31.711Z"
      },
      {
        "duration": 18,
        "start_time": "2023-12-21T18:30:31.872Z"
      },
      {
        "duration": 31,
        "start_time": "2023-12-21T18:30:31.893Z"
      },
      {
        "duration": 29,
        "start_time": "2023-12-21T18:30:31.926Z"
      },
      {
        "duration": 39,
        "start_time": "2023-12-21T18:30:31.956Z"
      },
      {
        "duration": 29,
        "start_time": "2023-12-21T18:30:31.996Z"
      },
      {
        "duration": 25,
        "start_time": "2023-12-21T18:30:32.027Z"
      },
      {
        "duration": 8,
        "start_time": "2023-12-21T18:30:32.054Z"
      },
      {
        "duration": 1604,
        "start_time": "2023-12-21T18:30:32.064Z"
      },
      {
        "duration": 12,
        "start_time": "2023-12-21T18:30:33.670Z"
      },
      {
        "duration": 161,
        "start_time": "2023-12-21T18:30:33.684Z"
      },
      {
        "duration": 11,
        "start_time": "2023-12-21T18:30:33.847Z"
      },
      {
        "duration": 30,
        "start_time": "2023-12-21T18:30:33.859Z"
      },
      {
        "duration": 23,
        "start_time": "2023-12-21T18:30:33.891Z"
      },
      {
        "duration": 10,
        "start_time": "2023-12-21T18:30:33.915Z"
      },
      {
        "duration": 40,
        "start_time": "2023-12-21T18:30:33.926Z"
      },
      {
        "duration": 23,
        "start_time": "2023-12-21T18:30:33.968Z"
      },
      {
        "duration": 6,
        "start_time": "2023-12-21T18:30:33.993Z"
      },
      {
        "duration": 5,
        "start_time": "2023-12-21T18:30:34.001Z"
      },
      {
        "duration": 6,
        "start_time": "2023-12-21T18:30:34.008Z"
      },
      {
        "duration": 14,
        "start_time": "2023-12-21T18:30:34.015Z"
      },
      {
        "duration": 13,
        "start_time": "2023-12-21T18:30:34.030Z"
      },
      {
        "duration": 24,
        "start_time": "2023-12-21T18:30:34.044Z"
      },
      {
        "duration": 481,
        "start_time": "2023-12-21T18:30:34.069Z"
      },
      {
        "duration": 287,
        "start_time": "2023-12-21T18:30:34.552Z"
      },
      {
        "duration": 14,
        "start_time": "2023-12-21T18:30:34.841Z"
      },
      {
        "duration": 93,
        "start_time": "2023-12-21T18:30:34.857Z"
      },
      {
        "duration": 18,
        "start_time": "2023-12-21T18:30:34.951Z"
      },
      {
        "duration": 8,
        "start_time": "2023-12-21T18:30:34.971Z"
      },
      {
        "duration": 16,
        "start_time": "2023-12-21T18:30:34.981Z"
      },
      {
        "duration": 76,
        "start_time": "2023-12-21T18:30:34.998Z"
      },
      {
        "duration": 278,
        "start_time": "2023-12-21T18:30:35.075Z"
      },
      {
        "duration": 327,
        "start_time": "2023-12-21T18:30:35.355Z"
      },
      {
        "duration": 6,
        "start_time": "2023-12-21T18:30:35.683Z"
      },
      {
        "duration": 362,
        "start_time": "2023-12-21T18:30:35.691Z"
      },
      {
        "duration": 13,
        "start_time": "2023-12-21T18:30:36.055Z"
      },
      {
        "duration": 52,
        "start_time": "2023-12-21T18:30:36.070Z"
      },
      {
        "duration": 38,
        "start_time": "2023-12-21T18:30:36.123Z"
      },
      {
        "duration": 21,
        "start_time": "2023-12-21T18:30:36.163Z"
      },
      {
        "duration": 34,
        "start_time": "2023-12-21T18:30:36.186Z"
      },
      {
        "duration": 19,
        "start_time": "2023-12-21T18:30:36.222Z"
      },
      {
        "duration": 46,
        "start_time": "2023-12-21T18:30:36.242Z"
      },
      {
        "duration": 15,
        "start_time": "2023-12-21T18:30:36.290Z"
      },
      {
        "duration": 8,
        "start_time": "2023-12-21T18:30:36.306Z"
      },
      {
        "duration": 27,
        "start_time": "2023-12-21T18:30:36.315Z"
      },
      {
        "duration": 13,
        "start_time": "2023-12-21T18:30:36.344Z"
      },
      {
        "duration": 20,
        "start_time": "2023-12-21T18:30:36.358Z"
      },
      {
        "duration": 29,
        "start_time": "2023-12-21T18:30:36.380Z"
      },
      {
        "duration": 13,
        "start_time": "2023-12-21T18:30:36.411Z"
      },
      {
        "duration": 3321,
        "start_time": "2023-12-21T18:30:36.425Z"
      },
      {
        "duration": 33,
        "start_time": "2023-12-21T18:30:39.748Z"
      },
      {
        "duration": 9,
        "start_time": "2023-12-21T18:31:09.195Z"
      },
      {
        "duration": 7040,
        "start_time": "2023-12-21T18:31:42.842Z"
      },
      {
        "duration": 184,
        "start_time": "2023-12-21T18:31:49.883Z"
      },
      {
        "duration": 13,
        "start_time": "2023-12-21T18:31:50.069Z"
      },
      {
        "duration": 40,
        "start_time": "2023-12-21T18:31:50.084Z"
      },
      {
        "duration": 43,
        "start_time": "2023-12-21T18:31:50.125Z"
      },
      {
        "duration": 33,
        "start_time": "2023-12-21T18:31:50.170Z"
      },
      {
        "duration": 28,
        "start_time": "2023-12-21T18:31:50.205Z"
      },
      {
        "duration": 56,
        "start_time": "2023-12-21T18:31:50.234Z"
      },
      {
        "duration": 28,
        "start_time": "2023-12-21T18:31:50.291Z"
      },
      {
        "duration": 55,
        "start_time": "2023-12-21T18:31:50.321Z"
      },
      {
        "duration": 45,
        "start_time": "2023-12-21T18:31:50.378Z"
      },
      {
        "duration": 58,
        "start_time": "2023-12-21T18:31:50.425Z"
      },
      {
        "duration": 21,
        "start_time": "2023-12-21T18:31:50.485Z"
      },
      {
        "duration": 437,
        "start_time": "2023-12-21T18:31:50.508Z"
      },
      {
        "duration": 104,
        "start_time": "2023-12-21T18:31:50.946Z"
      },
      {
        "duration": 14,
        "start_time": "2023-12-21T18:31:51.052Z"
      },
      {
        "duration": 339,
        "start_time": "2023-12-21T18:31:51.068Z"
      },
      {
        "duration": 18,
        "start_time": "2023-12-21T18:31:51.408Z"
      },
      {
        "duration": 394,
        "start_time": "2023-12-21T18:31:51.427Z"
      },
      {
        "duration": 18,
        "start_time": "2023-12-21T18:31:51.823Z"
      },
      {
        "duration": 398,
        "start_time": "2023-12-21T18:31:51.842Z"
      },
      {
        "duration": 505,
        "start_time": "2023-12-21T18:31:52.242Z"
      },
      {
        "duration": 5,
        "start_time": "2023-12-21T18:31:52.748Z"
      },
      {
        "duration": 282,
        "start_time": "2023-12-21T18:31:52.765Z"
      },
      {
        "duration": 365,
        "start_time": "2023-12-21T18:31:53.049Z"
      },
      {
        "duration": 153,
        "start_time": "2023-12-21T18:31:53.416Z"
      },
      {
        "duration": 18,
        "start_time": "2023-12-21T18:31:53.571Z"
      },
      {
        "duration": 14,
        "start_time": "2023-12-21T18:31:53.593Z"
      },
      {
        "duration": 23,
        "start_time": "2023-12-21T18:31:53.608Z"
      },
      {
        "duration": 44,
        "start_time": "2023-12-21T18:31:53.633Z"
      },
      {
        "duration": 42,
        "start_time": "2023-12-21T18:31:53.678Z"
      },
      {
        "duration": 32,
        "start_time": "2023-12-21T18:31:53.721Z"
      },
      {
        "duration": 26,
        "start_time": "2023-12-21T18:31:53.755Z"
      },
      {
        "duration": 1577,
        "start_time": "2023-12-21T18:31:53.783Z"
      },
      {
        "duration": 13,
        "start_time": "2023-12-21T18:31:55.365Z"
      },
      {
        "duration": 130,
        "start_time": "2023-12-21T18:31:55.379Z"
      },
      {
        "duration": 10,
        "start_time": "2023-12-21T18:31:55.511Z"
      },
      {
        "duration": 47,
        "start_time": "2023-12-21T18:31:55.523Z"
      },
      {
        "duration": 22,
        "start_time": "2023-12-21T18:31:55.572Z"
      },
      {
        "duration": 27,
        "start_time": "2023-12-21T18:31:55.596Z"
      },
      {
        "duration": 34,
        "start_time": "2023-12-21T18:31:55.624Z"
      },
      {
        "duration": 24,
        "start_time": "2023-12-21T18:31:55.659Z"
      },
      {
        "duration": 15,
        "start_time": "2023-12-21T18:31:55.684Z"
      },
      {
        "duration": 32,
        "start_time": "2023-12-21T18:31:55.700Z"
      },
      {
        "duration": 29,
        "start_time": "2023-12-21T18:31:55.733Z"
      },
      {
        "duration": 38,
        "start_time": "2023-12-21T18:31:55.763Z"
      },
      {
        "duration": 35,
        "start_time": "2023-12-21T18:31:55.802Z"
      },
      {
        "duration": 33,
        "start_time": "2023-12-21T18:31:55.839Z"
      },
      {
        "duration": 517,
        "start_time": "2023-12-21T18:31:55.873Z"
      },
      {
        "duration": 297,
        "start_time": "2023-12-21T18:31:56.392Z"
      },
      {
        "duration": 14,
        "start_time": "2023-12-21T18:31:56.690Z"
      },
      {
        "duration": 125,
        "start_time": "2023-12-21T18:31:56.706Z"
      },
      {
        "duration": 6,
        "start_time": "2023-12-21T18:31:56.833Z"
      },
      {
        "duration": 32,
        "start_time": "2023-12-21T18:31:56.840Z"
      },
      {
        "duration": 29,
        "start_time": "2023-12-21T18:31:56.873Z"
      },
      {
        "duration": 28,
        "start_time": "2023-12-21T18:31:56.904Z"
      },
      {
        "duration": 260,
        "start_time": "2023-12-21T18:31:56.933Z"
      },
      {
        "duration": 306,
        "start_time": "2023-12-21T18:31:57.194Z"
      },
      {
        "duration": 7,
        "start_time": "2023-12-21T18:31:57.501Z"
      },
      {
        "duration": 331,
        "start_time": "2023-12-21T18:31:57.509Z"
      },
      {
        "duration": 7,
        "start_time": "2023-12-21T18:31:57.842Z"
      },
      {
        "duration": 20,
        "start_time": "2023-12-21T18:31:57.850Z"
      },
      {
        "duration": 13,
        "start_time": "2023-12-21T18:31:57.872Z"
      },
      {
        "duration": 5,
        "start_time": "2023-12-21T18:31:57.886Z"
      },
      {
        "duration": 4,
        "start_time": "2023-12-21T18:31:57.893Z"
      },
      {
        "duration": 8,
        "start_time": "2023-12-21T18:31:57.898Z"
      },
      {
        "duration": 13,
        "start_time": "2023-12-21T18:31:57.908Z"
      },
      {
        "duration": 16,
        "start_time": "2023-12-21T18:31:57.922Z"
      },
      {
        "duration": 4,
        "start_time": "2023-12-21T18:31:57.965Z"
      },
      {
        "duration": 4,
        "start_time": "2023-12-21T18:31:57.970Z"
      },
      {
        "duration": 9,
        "start_time": "2023-12-21T18:31:57.975Z"
      },
      {
        "duration": 15,
        "start_time": "2023-12-21T18:31:57.985Z"
      },
      {
        "duration": 14,
        "start_time": "2023-12-21T18:31:58.001Z"
      },
      {
        "duration": 9,
        "start_time": "2023-12-21T18:31:58.016Z"
      },
      {
        "duration": 6931,
        "start_time": "2023-12-21T18:54:20.879Z"
      },
      {
        "duration": 206,
        "start_time": "2023-12-21T18:54:27.811Z"
      },
      {
        "duration": 15,
        "start_time": "2023-12-21T18:54:28.019Z"
      },
      {
        "duration": 9,
        "start_time": "2023-12-21T18:54:28.036Z"
      },
      {
        "duration": 27,
        "start_time": "2023-12-21T18:54:28.046Z"
      },
      {
        "duration": 17,
        "start_time": "2023-12-21T18:54:28.074Z"
      },
      {
        "duration": 16,
        "start_time": "2023-12-21T18:54:28.092Z"
      },
      {
        "duration": 16,
        "start_time": "2023-12-21T18:54:28.110Z"
      },
      {
        "duration": 2,
        "start_time": "2023-12-21T18:54:28.128Z"
      },
      {
        "duration": 28,
        "start_time": "2023-12-21T18:54:28.133Z"
      },
      {
        "duration": 24,
        "start_time": "2023-12-21T18:54:28.162Z"
      },
      {
        "duration": 18,
        "start_time": "2023-12-21T18:54:28.187Z"
      },
      {
        "duration": 10,
        "start_time": "2023-12-21T18:54:28.206Z"
      },
      {
        "duration": 433,
        "start_time": "2023-12-21T18:54:28.218Z"
      },
      {
        "duration": 116,
        "start_time": "2023-12-21T18:54:28.653Z"
      },
      {
        "duration": 5,
        "start_time": "2023-12-21T18:54:28.771Z"
      },
      {
        "duration": 318,
        "start_time": "2023-12-21T18:54:28.777Z"
      },
      {
        "duration": 17,
        "start_time": "2023-12-21T18:54:29.097Z"
      },
      {
        "duration": 388,
        "start_time": "2023-12-21T18:54:29.116Z"
      },
      {
        "duration": 18,
        "start_time": "2023-12-21T18:54:29.505Z"
      },
      {
        "duration": 382,
        "start_time": "2023-12-21T18:54:29.525Z"
      },
      {
        "duration": 482,
        "start_time": "2023-12-21T18:54:29.909Z"
      },
      {
        "duration": 5,
        "start_time": "2023-12-21T18:54:30.393Z"
      },
      {
        "duration": 295,
        "start_time": "2023-12-21T18:54:30.399Z"
      },
      {
        "duration": 322,
        "start_time": "2023-12-21T18:54:30.695Z"
      },
      {
        "duration": 148,
        "start_time": "2023-12-21T18:54:31.019Z"
      },
      {
        "duration": 19,
        "start_time": "2023-12-21T18:54:31.168Z"
      },
      {
        "duration": 31,
        "start_time": "2023-12-21T18:54:31.190Z"
      },
      {
        "duration": 32,
        "start_time": "2023-12-21T18:54:31.222Z"
      },
      {
        "duration": 47,
        "start_time": "2023-12-21T18:54:31.256Z"
      },
      {
        "duration": 72,
        "start_time": "2023-12-21T18:54:31.305Z"
      },
      {
        "duration": 25,
        "start_time": "2023-12-21T18:54:31.379Z"
      },
      {
        "duration": 32,
        "start_time": "2023-12-21T18:54:31.405Z"
      },
      {
        "duration": 1613,
        "start_time": "2023-12-21T18:54:31.439Z"
      },
      {
        "duration": 19,
        "start_time": "2023-12-21T18:54:33.054Z"
      },
      {
        "duration": 165,
        "start_time": "2023-12-21T18:54:33.074Z"
      },
      {
        "duration": 11,
        "start_time": "2023-12-21T18:54:33.241Z"
      },
      {
        "duration": 35,
        "start_time": "2023-12-21T18:54:33.253Z"
      },
      {
        "duration": 22,
        "start_time": "2023-12-21T18:54:33.290Z"
      },
      {
        "duration": 12,
        "start_time": "2023-12-21T18:54:33.313Z"
      },
      {
        "duration": 19,
        "start_time": "2023-12-21T18:54:33.326Z"
      },
      {
        "duration": 36,
        "start_time": "2023-12-21T18:54:33.347Z"
      },
      {
        "duration": 7,
        "start_time": "2023-12-21T18:54:33.384Z"
      },
      {
        "duration": 13,
        "start_time": "2023-12-21T18:54:33.392Z"
      },
      {
        "duration": 6,
        "start_time": "2023-12-21T18:54:33.406Z"
      },
      {
        "duration": 17,
        "start_time": "2023-12-21T18:54:33.413Z"
      },
      {
        "duration": 13,
        "start_time": "2023-12-21T18:54:33.431Z"
      },
      {
        "duration": 33,
        "start_time": "2023-12-21T18:54:33.446Z"
      },
      {
        "duration": 459,
        "start_time": "2023-12-21T18:54:33.481Z"
      },
      {
        "duration": 274,
        "start_time": "2023-12-21T18:54:33.942Z"
      },
      {
        "duration": 14,
        "start_time": "2023-12-21T18:54:34.217Z"
      },
      {
        "duration": 95,
        "start_time": "2023-12-21T18:54:34.232Z"
      },
      {
        "duration": 6,
        "start_time": "2023-12-21T18:54:34.328Z"
      },
      {
        "duration": 15,
        "start_time": "2023-12-21T18:54:34.335Z"
      },
      {
        "duration": 18,
        "start_time": "2023-12-21T18:54:34.352Z"
      },
      {
        "duration": 16,
        "start_time": "2023-12-21T18:54:34.371Z"
      },
      {
        "duration": 253,
        "start_time": "2023-12-21T18:54:34.388Z"
      },
      {
        "duration": 349,
        "start_time": "2023-12-21T18:54:34.643Z"
      },
      {
        "duration": 7,
        "start_time": "2023-12-21T18:54:34.993Z"
      },
      {
        "duration": 327,
        "start_time": "2023-12-21T18:54:35.001Z"
      },
      {
        "duration": 6,
        "start_time": "2023-12-21T18:54:35.330Z"
      },
      {
        "duration": 15,
        "start_time": "2023-12-21T18:54:35.338Z"
      },
      {
        "duration": 22,
        "start_time": "2023-12-21T18:54:35.354Z"
      },
      {
        "duration": 20,
        "start_time": "2023-12-21T18:54:35.377Z"
      },
      {
        "duration": 10,
        "start_time": "2023-12-21T18:54:35.399Z"
      },
      {
        "duration": 12,
        "start_time": "2023-12-21T18:54:35.410Z"
      },
      {
        "duration": 23,
        "start_time": "2023-12-21T18:54:35.423Z"
      },
      {
        "duration": 17,
        "start_time": "2023-12-21T18:54:35.447Z"
      },
      {
        "duration": 4,
        "start_time": "2023-12-21T18:54:35.465Z"
      },
      {
        "duration": 10,
        "start_time": "2023-12-21T18:54:35.470Z"
      },
      {
        "duration": 15,
        "start_time": "2023-12-21T18:54:35.482Z"
      },
      {
        "duration": 10,
        "start_time": "2023-12-21T18:54:35.498Z"
      },
      {
        "duration": 27,
        "start_time": "2023-12-21T18:54:35.510Z"
      },
      {
        "duration": 19,
        "start_time": "2023-12-21T18:54:35.538Z"
      },
      {
        "duration": 7109,
        "start_time": "2023-12-21T19:30:08.124Z"
      },
      {
        "duration": 119,
        "start_time": "2023-12-21T19:30:15.234Z"
      },
      {
        "duration": 14,
        "start_time": "2023-12-21T19:30:15.354Z"
      },
      {
        "duration": 20,
        "start_time": "2023-12-21T19:30:15.370Z"
      },
      {
        "duration": 23,
        "start_time": "2023-12-21T19:30:15.391Z"
      },
      {
        "duration": 5,
        "start_time": "2023-12-21T19:30:15.416Z"
      },
      {
        "duration": 9,
        "start_time": "2023-12-21T19:30:15.422Z"
      },
      {
        "duration": 18,
        "start_time": "2023-12-21T19:30:15.433Z"
      },
      {
        "duration": 3,
        "start_time": "2023-12-21T19:30:15.452Z"
      },
      {
        "duration": 36,
        "start_time": "2023-12-21T19:30:15.457Z"
      },
      {
        "duration": 23,
        "start_time": "2023-12-21T19:30:15.494Z"
      },
      {
        "duration": 18,
        "start_time": "2023-12-21T19:30:15.519Z"
      },
      {
        "duration": 34,
        "start_time": "2023-12-21T19:30:15.538Z"
      },
      {
        "duration": 465,
        "start_time": "2023-12-21T19:30:15.574Z"
      },
      {
        "duration": 118,
        "start_time": "2023-12-21T19:30:16.041Z"
      },
      {
        "duration": 8,
        "start_time": "2023-12-21T19:30:16.161Z"
      },
      {
        "duration": 333,
        "start_time": "2023-12-21T19:30:16.171Z"
      },
      {
        "duration": 19,
        "start_time": "2023-12-21T19:30:16.505Z"
      },
      {
        "duration": 388,
        "start_time": "2023-12-21T19:30:16.525Z"
      },
      {
        "duration": 17,
        "start_time": "2023-12-21T19:30:16.915Z"
      },
      {
        "duration": 379,
        "start_time": "2023-12-21T19:30:16.934Z"
      },
      {
        "duration": 486,
        "start_time": "2023-12-21T19:30:17.315Z"
      },
      {
        "duration": 5,
        "start_time": "2023-12-21T19:30:17.802Z"
      },
      {
        "duration": 298,
        "start_time": "2023-12-21T19:30:17.809Z"
      },
      {
        "duration": 351,
        "start_time": "2023-12-21T19:30:18.108Z"
      },
      {
        "duration": 157,
        "start_time": "2023-12-21T19:30:18.461Z"
      },
      {
        "duration": 18,
        "start_time": "2023-12-21T19:30:18.620Z"
      },
      {
        "duration": 22,
        "start_time": "2023-12-21T19:30:18.643Z"
      },
      {
        "duration": 12,
        "start_time": "2023-12-21T19:30:18.667Z"
      },
      {
        "duration": 34,
        "start_time": "2023-12-21T19:30:18.681Z"
      },
      {
        "duration": 17,
        "start_time": "2023-12-21T19:30:18.716Z"
      },
      {
        "duration": 7,
        "start_time": "2023-12-21T19:30:18.734Z"
      },
      {
        "duration": 12,
        "start_time": "2023-12-21T19:30:18.742Z"
      },
      {
        "duration": 1653,
        "start_time": "2023-12-21T19:30:18.756Z"
      },
      {
        "duration": 13,
        "start_time": "2023-12-21T19:30:20.410Z"
      },
      {
        "duration": 126,
        "start_time": "2023-12-21T19:30:20.424Z"
      },
      {
        "duration": 12,
        "start_time": "2023-12-21T19:30:20.551Z"
      },
      {
        "duration": 40,
        "start_time": "2023-12-21T19:30:20.564Z"
      },
      {
        "duration": 23,
        "start_time": "2023-12-21T19:30:20.605Z"
      },
      {
        "duration": 16,
        "start_time": "2023-12-21T19:30:20.629Z"
      },
      {
        "duration": 31,
        "start_time": "2023-12-21T19:30:20.647Z"
      },
      {
        "duration": 22,
        "start_time": "2023-12-21T19:30:20.679Z"
      },
      {
        "duration": 20,
        "start_time": "2023-12-21T19:30:20.702Z"
      },
      {
        "duration": 37,
        "start_time": "2023-12-21T19:30:20.724Z"
      },
      {
        "duration": 39,
        "start_time": "2023-12-21T19:30:20.763Z"
      },
      {
        "duration": 30,
        "start_time": "2023-12-21T19:30:20.804Z"
      },
      {
        "duration": 16,
        "start_time": "2023-12-21T19:30:20.836Z"
      },
      {
        "duration": 22,
        "start_time": "2023-12-21T19:30:20.854Z"
      },
      {
        "duration": 470,
        "start_time": "2023-12-21T19:30:20.877Z"
      },
      {
        "duration": 274,
        "start_time": "2023-12-21T19:30:21.348Z"
      },
      {
        "duration": 24,
        "start_time": "2023-12-21T19:30:21.623Z"
      },
      {
        "duration": 94,
        "start_time": "2023-12-21T19:30:21.649Z"
      },
      {
        "duration": 7,
        "start_time": "2023-12-21T19:30:21.744Z"
      },
      {
        "duration": 13,
        "start_time": "2023-12-21T19:30:21.753Z"
      },
      {
        "duration": 9,
        "start_time": "2023-12-21T19:30:21.767Z"
      },
      {
        "duration": 18,
        "start_time": "2023-12-21T19:30:21.778Z"
      },
      {
        "duration": 289,
        "start_time": "2023-12-21T19:30:21.798Z"
      },
      {
        "duration": 316,
        "start_time": "2023-12-21T19:30:22.089Z"
      },
      {
        "duration": 6,
        "start_time": "2023-12-21T19:30:22.407Z"
      },
      {
        "duration": 361,
        "start_time": "2023-12-21T19:30:22.414Z"
      },
      {
        "duration": 8,
        "start_time": "2023-12-21T19:30:22.776Z"
      },
      {
        "duration": 15,
        "start_time": "2023-12-21T19:30:22.786Z"
      },
      {
        "duration": 15,
        "start_time": "2023-12-21T19:30:22.802Z"
      },
      {
        "duration": 6,
        "start_time": "2023-12-21T19:30:22.820Z"
      },
      {
        "duration": 10,
        "start_time": "2023-12-21T19:30:22.828Z"
      },
      {
        "duration": 34,
        "start_time": "2023-12-21T19:30:22.840Z"
      },
      {
        "duration": 19,
        "start_time": "2023-12-21T19:30:22.875Z"
      },
      {
        "duration": 17,
        "start_time": "2023-12-21T19:30:22.896Z"
      },
      {
        "duration": 4,
        "start_time": "2023-12-21T19:30:22.915Z"
      },
      {
        "duration": 7,
        "start_time": "2023-12-21T19:30:22.920Z"
      },
      {
        "duration": 20,
        "start_time": "2023-12-21T19:30:22.929Z"
      },
      {
        "duration": 4,
        "start_time": "2023-12-21T19:30:22.951Z"
      },
      {
        "duration": 4,
        "start_time": "2023-12-21T19:30:22.965Z"
      },
      {
        "duration": 46,
        "start_time": "2023-12-21T19:30:22.971Z"
      },
      {
        "duration": 7738,
        "start_time": "2023-12-22T07:44:30.873Z"
      },
      {
        "duration": 212,
        "start_time": "2023-12-22T07:44:38.613Z"
      },
      {
        "duration": 14,
        "start_time": "2023-12-22T07:44:38.827Z"
      },
      {
        "duration": 10,
        "start_time": "2023-12-22T07:44:38.842Z"
      },
      {
        "duration": 21,
        "start_time": "2023-12-22T07:44:38.854Z"
      },
      {
        "duration": 5,
        "start_time": "2023-12-22T07:44:38.876Z"
      },
      {
        "duration": 5,
        "start_time": "2023-12-22T07:44:38.886Z"
      },
      {
        "duration": 17,
        "start_time": "2023-12-22T07:44:38.892Z"
      },
      {
        "duration": 2,
        "start_time": "2023-12-22T07:44:38.911Z"
      },
      {
        "duration": 35,
        "start_time": "2023-12-22T07:44:38.914Z"
      },
      {
        "duration": 30,
        "start_time": "2023-12-22T07:44:38.951Z"
      },
      {
        "duration": 27,
        "start_time": "2023-12-22T07:44:38.983Z"
      },
      {
        "duration": 9,
        "start_time": "2023-12-22T07:44:39.012Z"
      },
      {
        "duration": 495,
        "start_time": "2023-12-22T07:44:39.024Z"
      },
      {
        "duration": 124,
        "start_time": "2023-12-22T07:44:39.521Z"
      },
      {
        "duration": 6,
        "start_time": "2023-12-22T07:44:39.646Z"
      },
      {
        "duration": 368,
        "start_time": "2023-12-22T07:44:39.653Z"
      },
      {
        "duration": 18,
        "start_time": "2023-12-22T07:44:40.023Z"
      },
      {
        "duration": 433,
        "start_time": "2023-12-22T07:44:40.043Z"
      },
      {
        "duration": 24,
        "start_time": "2023-12-22T07:44:40.479Z"
      },
      {
        "duration": 405,
        "start_time": "2023-12-22T07:44:40.504Z"
      },
      {
        "duration": 551,
        "start_time": "2023-12-22T07:44:40.910Z"
      },
      {
        "duration": 10,
        "start_time": "2023-12-22T07:44:41.467Z"
      },
      {
        "duration": 300,
        "start_time": "2023-12-22T07:44:41.484Z"
      },
      {
        "duration": 342,
        "start_time": "2023-12-22T07:44:41.791Z"
      },
      {
        "duration": 167,
        "start_time": "2023-12-22T07:44:42.134Z"
      },
      {
        "duration": 18,
        "start_time": "2023-12-22T07:44:42.303Z"
      },
      {
        "duration": 8,
        "start_time": "2023-12-22T07:44:42.323Z"
      },
      {
        "duration": 8,
        "start_time": "2023-12-22T07:44:42.332Z"
      },
      {
        "duration": 42,
        "start_time": "2023-12-22T07:44:42.341Z"
      },
      {
        "duration": 11,
        "start_time": "2023-12-22T07:44:42.391Z"
      },
      {
        "duration": 6,
        "start_time": "2023-12-22T07:44:42.403Z"
      },
      {
        "duration": 7,
        "start_time": "2023-12-22T07:44:42.411Z"
      },
      {
        "duration": 1832,
        "start_time": "2023-12-22T07:44:42.420Z"
      },
      {
        "duration": 32,
        "start_time": "2023-12-22T07:44:44.253Z"
      },
      {
        "duration": 198,
        "start_time": "2023-12-22T07:44:44.287Z"
      },
      {
        "duration": 13,
        "start_time": "2023-12-22T07:44:44.488Z"
      },
      {
        "duration": 24,
        "start_time": "2023-12-22T07:44:44.503Z"
      },
      {
        "duration": 23,
        "start_time": "2023-12-22T07:44:44.529Z"
      },
      {
        "duration": 19,
        "start_time": "2023-12-22T07:44:44.553Z"
      },
      {
        "duration": 27,
        "start_time": "2023-12-22T07:44:44.577Z"
      },
      {
        "duration": 21,
        "start_time": "2023-12-22T07:44:44.605Z"
      },
      {
        "duration": 7,
        "start_time": "2023-12-22T07:44:44.628Z"
      },
      {
        "duration": 31,
        "start_time": "2023-12-22T07:44:44.637Z"
      },
      {
        "duration": 14,
        "start_time": "2023-12-22T07:44:44.675Z"
      },
      {
        "duration": 7,
        "start_time": "2023-12-22T07:44:44.691Z"
      },
      {
        "duration": 8,
        "start_time": "2023-12-22T07:44:44.700Z"
      },
      {
        "duration": 9,
        "start_time": "2023-12-22T07:44:44.709Z"
      },
      {
        "duration": 537,
        "start_time": "2023-12-22T07:44:44.719Z"
      },
      {
        "duration": 321,
        "start_time": "2023-12-22T07:44:45.258Z"
      },
      {
        "duration": 20,
        "start_time": "2023-12-22T07:44:45.582Z"
      },
      {
        "duration": 106,
        "start_time": "2023-12-22T07:44:45.603Z"
      },
      {
        "duration": 6,
        "start_time": "2023-12-22T07:44:45.710Z"
      },
      {
        "duration": 13,
        "start_time": "2023-12-22T07:44:45.718Z"
      },
      {
        "duration": 10,
        "start_time": "2023-12-22T07:44:45.732Z"
      },
      {
        "duration": 28,
        "start_time": "2023-12-22T07:44:45.743Z"
      },
      {
        "duration": 309,
        "start_time": "2023-12-22T07:44:45.777Z"
      },
      {
        "duration": 322,
        "start_time": "2023-12-22T07:44:46.091Z"
      },
      {
        "duration": 6,
        "start_time": "2023-12-22T07:44:46.415Z"
      },
      {
        "duration": 383,
        "start_time": "2023-12-22T07:44:46.422Z"
      },
      {
        "duration": 6,
        "start_time": "2023-12-22T07:44:46.806Z"
      },
      {
        "duration": 13,
        "start_time": "2023-12-22T07:44:46.814Z"
      },
      {
        "duration": 15,
        "start_time": "2023-12-22T07:44:46.829Z"
      },
      {
        "duration": 43,
        "start_time": "2023-12-22T07:44:46.846Z"
      },
      {
        "duration": 4,
        "start_time": "2023-12-22T07:44:46.892Z"
      },
      {
        "duration": 6,
        "start_time": "2023-12-22T07:44:46.898Z"
      },
      {
        "duration": 13,
        "start_time": "2023-12-22T07:44:46.905Z"
      },
      {
        "duration": 13,
        "start_time": "2023-12-22T07:44:46.919Z"
      },
      {
        "duration": 3,
        "start_time": "2023-12-22T07:44:46.934Z"
      },
      {
        "duration": 5,
        "start_time": "2023-12-22T07:44:46.938Z"
      },
      {
        "duration": 8,
        "start_time": "2023-12-22T07:44:46.944Z"
      },
      {
        "duration": 20,
        "start_time": "2023-12-22T07:44:46.972Z"
      },
      {
        "duration": 3,
        "start_time": "2023-12-22T07:44:46.994Z"
      },
      {
        "duration": 9,
        "start_time": "2023-12-22T07:44:46.999Z"
      },
      {
        "duration": 273427,
        "start_time": "2023-12-22T07:44:47.009Z"
      },
      {
        "duration": 135,
        "start_time": "2023-12-22T07:49:20.438Z"
      },
      {
        "duration": 5307,
        "start_time": "2023-12-22T07:52:06.189Z"
      },
      {
        "duration": 7,
        "start_time": "2023-12-22T07:53:21.078Z"
      },
      {
        "duration": 11,
        "start_time": "2023-12-22T07:53:45.421Z"
      },
      {
        "duration": 7249,
        "start_time": "2023-12-22T08:12:13.704Z"
      },
      {
        "duration": 131,
        "start_time": "2023-12-22T08:12:20.955Z"
      },
      {
        "duration": 13,
        "start_time": "2023-12-22T08:12:21.088Z"
      },
      {
        "duration": 16,
        "start_time": "2023-12-22T08:12:21.103Z"
      },
      {
        "duration": 19,
        "start_time": "2023-12-22T08:12:21.120Z"
      },
      {
        "duration": 9,
        "start_time": "2023-12-22T08:12:21.141Z"
      },
      {
        "duration": 6,
        "start_time": "2023-12-22T08:12:21.152Z"
      },
      {
        "duration": 36,
        "start_time": "2023-12-22T08:12:21.159Z"
      },
      {
        "duration": 7,
        "start_time": "2023-12-22T08:12:21.197Z"
      },
      {
        "duration": 69,
        "start_time": "2023-12-22T08:12:21.207Z"
      },
      {
        "duration": 22,
        "start_time": "2023-12-22T08:12:21.280Z"
      },
      {
        "duration": 24,
        "start_time": "2023-12-22T08:12:21.304Z"
      },
      {
        "duration": 14,
        "start_time": "2023-12-22T08:12:21.330Z"
      },
      {
        "duration": 475,
        "start_time": "2023-12-22T08:12:21.346Z"
      },
      {
        "duration": 119,
        "start_time": "2023-12-22T08:12:21.823Z"
      },
      {
        "duration": 5,
        "start_time": "2023-12-22T08:12:21.944Z"
      },
      {
        "duration": 371,
        "start_time": "2023-12-22T08:12:21.951Z"
      },
      {
        "duration": 19,
        "start_time": "2023-12-22T08:12:22.323Z"
      },
      {
        "duration": 440,
        "start_time": "2023-12-22T08:12:22.344Z"
      },
      {
        "duration": 18,
        "start_time": "2023-12-22T08:12:22.786Z"
      },
      {
        "duration": 401,
        "start_time": "2023-12-22T08:12:22.806Z"
      },
      {
        "duration": 536,
        "start_time": "2023-12-22T08:12:23.209Z"
      },
      {
        "duration": 5,
        "start_time": "2023-12-22T08:12:23.746Z"
      },
      {
        "duration": 284,
        "start_time": "2023-12-22T08:12:23.753Z"
      },
      {
        "duration": 390,
        "start_time": "2023-12-22T08:12:24.039Z"
      },
      {
        "duration": 162,
        "start_time": "2023-12-22T08:12:24.430Z"
      },
      {
        "duration": 18,
        "start_time": "2023-12-22T08:12:24.594Z"
      },
      {
        "duration": 17,
        "start_time": "2023-12-22T08:12:24.616Z"
      },
      {
        "duration": 23,
        "start_time": "2023-12-22T08:12:24.634Z"
      },
      {
        "duration": 47,
        "start_time": "2023-12-22T08:12:24.658Z"
      },
      {
        "duration": 29,
        "start_time": "2023-12-22T08:12:24.707Z"
      },
      {
        "duration": 45,
        "start_time": "2023-12-22T08:12:24.737Z"
      },
      {
        "duration": 42,
        "start_time": "2023-12-22T08:12:24.783Z"
      },
      {
        "duration": 1690,
        "start_time": "2023-12-22T08:12:24.827Z"
      },
      {
        "duration": 11,
        "start_time": "2023-12-22T08:12:26.519Z"
      },
      {
        "duration": 137,
        "start_time": "2023-12-22T08:12:26.532Z"
      },
      {
        "duration": 17,
        "start_time": "2023-12-22T08:12:26.671Z"
      },
      {
        "duration": 27,
        "start_time": "2023-12-22T08:12:26.690Z"
      },
      {
        "duration": 22,
        "start_time": "2023-12-22T08:12:26.719Z"
      },
      {
        "duration": 37,
        "start_time": "2023-12-22T08:12:26.743Z"
      },
      {
        "duration": 29,
        "start_time": "2023-12-22T08:12:26.781Z"
      },
      {
        "duration": 19,
        "start_time": "2023-12-22T08:12:26.812Z"
      },
      {
        "duration": 7,
        "start_time": "2023-12-22T08:12:26.833Z"
      },
      {
        "duration": 19,
        "start_time": "2023-12-22T08:12:26.841Z"
      },
      {
        "duration": 26,
        "start_time": "2023-12-22T08:12:26.862Z"
      },
      {
        "duration": 11,
        "start_time": "2023-12-22T08:12:26.890Z"
      },
      {
        "duration": 19,
        "start_time": "2023-12-22T08:12:26.902Z"
      },
      {
        "duration": 20,
        "start_time": "2023-12-22T08:12:26.922Z"
      },
      {
        "duration": 518,
        "start_time": "2023-12-22T08:12:26.944Z"
      },
      {
        "duration": 296,
        "start_time": "2023-12-22T08:12:27.465Z"
      },
      {
        "duration": 18,
        "start_time": "2023-12-22T08:12:27.769Z"
      },
      {
        "duration": 103,
        "start_time": "2023-12-22T08:12:27.788Z"
      },
      {
        "duration": 7,
        "start_time": "2023-12-22T08:12:27.892Z"
      },
      {
        "duration": 11,
        "start_time": "2023-12-22T08:12:27.901Z"
      },
      {
        "duration": 9,
        "start_time": "2023-12-22T08:12:27.913Z"
      },
      {
        "duration": 15,
        "start_time": "2023-12-22T08:12:27.924Z"
      },
      {
        "duration": 285,
        "start_time": "2023-12-22T08:12:27.940Z"
      },
      {
        "duration": 373,
        "start_time": "2023-12-22T08:12:28.227Z"
      },
      {
        "duration": 7,
        "start_time": "2023-12-22T08:12:28.601Z"
      },
      {
        "duration": 320,
        "start_time": "2023-12-22T08:12:28.610Z"
      },
      {
        "duration": 8,
        "start_time": "2023-12-22T08:12:28.931Z"
      },
      {
        "duration": 14,
        "start_time": "2023-12-22T08:12:28.940Z"
      },
      {
        "duration": 22,
        "start_time": "2023-12-22T08:12:28.965Z"
      },
      {
        "duration": 4,
        "start_time": "2023-12-22T08:12:28.988Z"
      },
      {
        "duration": 16,
        "start_time": "2023-12-22T08:12:28.994Z"
      },
      {
        "duration": 5,
        "start_time": "2023-12-22T08:12:29.012Z"
      },
      {
        "duration": 18,
        "start_time": "2023-12-22T08:12:29.018Z"
      },
      {
        "duration": 13,
        "start_time": "2023-12-22T08:12:29.037Z"
      },
      {
        "duration": 25,
        "start_time": "2023-12-22T08:12:29.052Z"
      },
      {
        "duration": 10,
        "start_time": "2023-12-22T08:12:29.079Z"
      },
      {
        "duration": 8,
        "start_time": "2023-12-22T08:12:29.091Z"
      },
      {
        "duration": 19,
        "start_time": "2023-12-22T08:12:29.100Z"
      },
      {
        "duration": 7,
        "start_time": "2023-12-22T08:12:29.120Z"
      },
      {
        "duration": 5,
        "start_time": "2023-12-22T08:12:29.128Z"
      },
      {
        "duration": 8,
        "start_time": "2023-12-22T08:12:29.135Z"
      },
      {
        "duration": 7471,
        "start_time": "2023-12-22T08:13:38.946Z"
      },
      {
        "duration": 138,
        "start_time": "2023-12-22T08:13:46.419Z"
      },
      {
        "duration": 16,
        "start_time": "2023-12-22T08:13:46.559Z"
      },
      {
        "duration": 9,
        "start_time": "2023-12-22T08:13:46.579Z"
      },
      {
        "duration": 23,
        "start_time": "2023-12-22T08:13:46.589Z"
      },
      {
        "duration": 5,
        "start_time": "2023-12-22T08:13:46.613Z"
      },
      {
        "duration": 4,
        "start_time": "2023-12-22T08:13:46.619Z"
      },
      {
        "duration": 15,
        "start_time": "2023-12-22T08:13:46.624Z"
      },
      {
        "duration": 2,
        "start_time": "2023-12-22T08:13:46.641Z"
      },
      {
        "duration": 42,
        "start_time": "2023-12-22T08:13:46.645Z"
      },
      {
        "duration": 23,
        "start_time": "2023-12-22T08:13:46.689Z"
      },
      {
        "duration": 17,
        "start_time": "2023-12-22T08:13:46.714Z"
      },
      {
        "duration": 40,
        "start_time": "2023-12-22T08:13:46.733Z"
      },
      {
        "duration": 425,
        "start_time": "2023-12-22T08:13:46.774Z"
      },
      {
        "duration": 115,
        "start_time": "2023-12-22T08:13:47.200Z"
      },
      {
        "duration": 6,
        "start_time": "2023-12-22T08:13:47.316Z"
      },
      {
        "duration": 390,
        "start_time": "2023-12-22T08:13:47.323Z"
      },
      {
        "duration": 18,
        "start_time": "2023-12-22T08:13:47.714Z"
      },
      {
        "duration": 400,
        "start_time": "2023-12-22T08:13:47.733Z"
      },
      {
        "duration": 18,
        "start_time": "2023-12-22T08:13:48.135Z"
      },
      {
        "duration": 414,
        "start_time": "2023-12-22T08:13:48.166Z"
      },
      {
        "duration": 531,
        "start_time": "2023-12-22T08:13:48.582Z"
      },
      {
        "duration": 5,
        "start_time": "2023-12-22T08:13:49.115Z"
      },
      {
        "duration": 272,
        "start_time": "2023-12-22T08:13:49.121Z"
      },
      {
        "duration": 356,
        "start_time": "2023-12-22T08:13:49.394Z"
      },
      {
        "duration": 171,
        "start_time": "2023-12-22T08:13:49.751Z"
      },
      {
        "duration": 20,
        "start_time": "2023-12-22T08:13:49.923Z"
      },
      {
        "duration": 34,
        "start_time": "2023-12-22T08:13:49.946Z"
      },
      {
        "duration": 8,
        "start_time": "2023-12-22T08:13:49.981Z"
      },
      {
        "duration": 30,
        "start_time": "2023-12-22T08:13:49.991Z"
      },
      {
        "duration": 23,
        "start_time": "2023-12-22T08:13:50.023Z"
      },
      {
        "duration": 14,
        "start_time": "2023-12-22T08:13:50.048Z"
      },
      {
        "duration": 17,
        "start_time": "2023-12-22T08:13:50.064Z"
      },
      {
        "duration": 1697,
        "start_time": "2023-12-22T08:13:50.083Z"
      },
      {
        "duration": 12,
        "start_time": "2023-12-22T08:13:51.782Z"
      },
      {
        "duration": 106,
        "start_time": "2023-12-22T08:13:51.796Z"
      },
      {
        "duration": 11,
        "start_time": "2023-12-22T08:13:51.904Z"
      },
      {
        "duration": 31,
        "start_time": "2023-12-22T08:13:51.916Z"
      },
      {
        "duration": 34,
        "start_time": "2023-12-22T08:13:51.948Z"
      },
      {
        "duration": 9,
        "start_time": "2023-12-22T08:13:51.984Z"
      },
      {
        "duration": 20,
        "start_time": "2023-12-22T08:13:51.995Z"
      },
      {
        "duration": 20,
        "start_time": "2023-12-22T08:13:52.016Z"
      },
      {
        "duration": 7,
        "start_time": "2023-12-22T08:13:52.037Z"
      },
      {
        "duration": 30,
        "start_time": "2023-12-22T08:13:52.045Z"
      },
      {
        "duration": 13,
        "start_time": "2023-12-22T08:13:52.076Z"
      },
      {
        "duration": 40,
        "start_time": "2023-12-22T08:13:52.090Z"
      },
      {
        "duration": 11,
        "start_time": "2023-12-22T08:13:52.131Z"
      },
      {
        "duration": 8,
        "start_time": "2023-12-22T08:13:52.143Z"
      },
      {
        "duration": 528,
        "start_time": "2023-12-22T08:13:52.153Z"
      },
      {
        "duration": 277,
        "start_time": "2023-12-22T08:13:52.682Z"
      },
      {
        "duration": 29,
        "start_time": "2023-12-22T08:13:52.960Z"
      },
      {
        "duration": 96,
        "start_time": "2023-12-22T08:13:52.991Z"
      },
      {
        "duration": 7,
        "start_time": "2023-12-22T08:13:53.088Z"
      },
      {
        "duration": 11,
        "start_time": "2023-12-22T08:13:53.096Z"
      },
      {
        "duration": 9,
        "start_time": "2023-12-22T08:13:53.108Z"
      },
      {
        "duration": 14,
        "start_time": "2023-12-22T08:13:53.118Z"
      },
      {
        "duration": 282,
        "start_time": "2023-12-22T08:13:53.133Z"
      },
      {
        "duration": 343,
        "start_time": "2023-12-22T08:13:53.417Z"
      },
      {
        "duration": 14,
        "start_time": "2023-12-22T08:13:53.767Z"
      },
      {
        "duration": 318,
        "start_time": "2023-12-22T08:13:53.783Z"
      },
      {
        "duration": 6,
        "start_time": "2023-12-22T08:13:54.103Z"
      },
      {
        "duration": 10,
        "start_time": "2023-12-22T08:13:54.110Z"
      },
      {
        "duration": 13,
        "start_time": "2023-12-22T08:13:54.121Z"
      },
      {
        "duration": 4,
        "start_time": "2023-12-22T08:13:54.135Z"
      },
      {
        "duration": 32,
        "start_time": "2023-12-22T08:13:54.140Z"
      },
      {
        "duration": 6,
        "start_time": "2023-12-22T08:13:54.174Z"
      },
      {
        "duration": 18,
        "start_time": "2023-12-22T08:13:54.181Z"
      },
      {
        "duration": 13,
        "start_time": "2023-12-22T08:13:54.200Z"
      },
      {
        "duration": 3,
        "start_time": "2023-12-22T08:13:54.215Z"
      },
      {
        "duration": 5,
        "start_time": "2023-12-22T08:13:54.219Z"
      },
      {
        "duration": 14,
        "start_time": "2023-12-22T08:13:54.225Z"
      },
      {
        "duration": 6,
        "start_time": "2023-12-22T08:13:54.240Z"
      },
      {
        "duration": 12,
        "start_time": "2023-12-22T08:13:54.247Z"
      },
      {
        "duration": 6,
        "start_time": "2023-12-22T08:13:54.266Z"
      },
      {
        "duration": 15,
        "start_time": "2023-12-22T08:13:54.274Z"
      },
      {
        "duration": 7321,
        "start_time": "2023-12-22T08:14:48.956Z"
      },
      {
        "duration": 126,
        "start_time": "2023-12-22T08:14:56.279Z"
      },
      {
        "duration": 13,
        "start_time": "2023-12-22T08:14:56.407Z"
      },
      {
        "duration": 16,
        "start_time": "2023-12-22T08:14:56.422Z"
      },
      {
        "duration": 15,
        "start_time": "2023-12-22T08:14:56.439Z"
      },
      {
        "duration": 34,
        "start_time": "2023-12-22T08:14:56.455Z"
      },
      {
        "duration": 22,
        "start_time": "2023-12-22T08:14:56.490Z"
      },
      {
        "duration": 20,
        "start_time": "2023-12-22T08:14:56.513Z"
      },
      {
        "duration": 3,
        "start_time": "2023-12-22T08:14:56.534Z"
      },
      {
        "duration": 40,
        "start_time": "2023-12-22T08:14:56.539Z"
      },
      {
        "duration": 22,
        "start_time": "2023-12-22T08:14:56.580Z"
      },
      {
        "duration": 17,
        "start_time": "2023-12-22T08:14:56.603Z"
      },
      {
        "duration": 11,
        "start_time": "2023-12-22T08:14:56.621Z"
      },
      {
        "duration": 459,
        "start_time": "2023-12-22T08:14:56.633Z"
      },
      {
        "duration": 110,
        "start_time": "2023-12-22T08:14:57.094Z"
      },
      {
        "duration": 5,
        "start_time": "2023-12-22T08:14:57.206Z"
      },
      {
        "duration": 336,
        "start_time": "2023-12-22T08:14:57.212Z"
      },
      {
        "duration": 30,
        "start_time": "2023-12-22T08:14:57.549Z"
      },
      {
        "duration": 399,
        "start_time": "2023-12-22T08:14:57.581Z"
      },
      {
        "duration": 18,
        "start_time": "2023-12-22T08:14:57.982Z"
      },
      {
        "duration": 390,
        "start_time": "2023-12-22T08:14:58.002Z"
      },
      {
        "duration": 537,
        "start_time": "2023-12-22T08:14:58.393Z"
      },
      {
        "duration": 5,
        "start_time": "2023-12-22T08:14:58.932Z"
      },
      {
        "duration": 292,
        "start_time": "2023-12-22T08:14:58.939Z"
      },
      {
        "duration": 397,
        "start_time": "2023-12-22T08:14:59.232Z"
      },
      {
        "duration": 172,
        "start_time": "2023-12-22T08:14:59.631Z"
      },
      {
        "duration": 18,
        "start_time": "2023-12-22T08:14:59.804Z"
      },
      {
        "duration": 26,
        "start_time": "2023-12-22T08:14:59.826Z"
      },
      {
        "duration": 23,
        "start_time": "2023-12-22T08:14:59.854Z"
      },
      {
        "duration": 3,
        "start_time": "2023-12-22T08:14:59.880Z"
      },
      {
        "duration": 24,
        "start_time": "2023-12-22T08:14:59.885Z"
      },
      {
        "duration": 8,
        "start_time": "2023-12-22T08:14:59.911Z"
      },
      {
        "duration": 11,
        "start_time": "2023-12-22T08:14:59.921Z"
      },
      {
        "duration": 1696,
        "start_time": "2023-12-22T08:14:59.934Z"
      },
      {
        "duration": 11,
        "start_time": "2023-12-22T08:15:01.631Z"
      },
      {
        "duration": 234,
        "start_time": "2023-12-22T08:15:01.644Z"
      },
      {
        "duration": 10,
        "start_time": "2023-12-22T08:15:01.880Z"
      },
      {
        "duration": 107,
        "start_time": "2023-12-22T08:15:01.892Z"
      },
      {
        "duration": 70,
        "start_time": "2023-12-22T08:15:02.001Z"
      },
      {
        "duration": 29,
        "start_time": "2023-12-22T08:15:02.073Z"
      },
      {
        "duration": 42,
        "start_time": "2023-12-22T08:15:02.103Z"
      },
      {
        "duration": 59,
        "start_time": "2023-12-22T08:15:02.146Z"
      },
      {
        "duration": 12,
        "start_time": "2023-12-22T08:15:02.207Z"
      },
      {
        "duration": 17,
        "start_time": "2023-12-22T08:15:02.220Z"
      },
      {
        "duration": 11,
        "start_time": "2023-12-22T08:15:02.238Z"
      },
      {
        "duration": 9,
        "start_time": "2023-12-22T08:15:02.251Z"
      },
      {
        "duration": 28,
        "start_time": "2023-12-22T08:15:02.261Z"
      },
      {
        "duration": 41,
        "start_time": "2023-12-22T08:15:02.291Z"
      },
      {
        "duration": 485,
        "start_time": "2023-12-22T08:15:02.334Z"
      },
      {
        "duration": 295,
        "start_time": "2023-12-22T08:15:02.820Z"
      },
      {
        "duration": 14,
        "start_time": "2023-12-22T08:15:03.117Z"
      },
      {
        "duration": 108,
        "start_time": "2023-12-22T08:15:03.132Z"
      },
      {
        "duration": 6,
        "start_time": "2023-12-22T08:15:03.241Z"
      },
      {
        "duration": 27,
        "start_time": "2023-12-22T08:15:03.249Z"
      },
      {
        "duration": 26,
        "start_time": "2023-12-22T08:15:03.278Z"
      },
      {
        "duration": 15,
        "start_time": "2023-12-22T08:15:03.306Z"
      },
      {
        "duration": 275,
        "start_time": "2023-12-22T08:15:03.323Z"
      },
      {
        "duration": 306,
        "start_time": "2023-12-22T08:15:03.599Z"
      },
      {
        "duration": 6,
        "start_time": "2023-12-22T08:15:03.907Z"
      },
      {
        "duration": 382,
        "start_time": "2023-12-22T08:15:03.915Z"
      },
      {
        "duration": 7,
        "start_time": "2023-12-22T08:15:04.298Z"
      },
      {
        "duration": 11,
        "start_time": "2023-12-22T08:15:04.306Z"
      },
      {
        "duration": 13,
        "start_time": "2023-12-22T08:15:04.318Z"
      },
      {
        "duration": 5,
        "start_time": "2023-12-22T08:15:04.332Z"
      },
      {
        "duration": 41,
        "start_time": "2023-12-22T08:15:04.339Z"
      },
      {
        "duration": 6,
        "start_time": "2023-12-22T08:15:04.382Z"
      },
      {
        "duration": 28,
        "start_time": "2023-12-22T08:15:04.390Z"
      },
      {
        "duration": 30,
        "start_time": "2023-12-22T08:15:04.419Z"
      },
      {
        "duration": 4,
        "start_time": "2023-12-22T08:15:04.450Z"
      },
      {
        "duration": 4,
        "start_time": "2023-12-22T08:15:04.456Z"
      },
      {
        "duration": 18,
        "start_time": "2023-12-22T08:15:04.461Z"
      },
      {
        "duration": 18,
        "start_time": "2023-12-22T08:15:04.481Z"
      },
      {
        "duration": 11,
        "start_time": "2023-12-22T08:15:04.500Z"
      },
      {
        "duration": 6,
        "start_time": "2023-12-22T08:15:04.513Z"
      },
      {
        "duration": 26,
        "start_time": "2023-12-22T08:15:04.520Z"
      },
      {
        "duration": 1588,
        "start_time": "2023-12-22T08:15:04.548Z"
      },
      {
        "duration": 15,
        "start_time": "2023-12-22T08:15:06.137Z"
      },
      {
        "duration": 9,
        "start_time": "2023-12-22T08:16:15.255Z"
      },
      {
        "duration": 1538,
        "start_time": "2023-12-22T08:16:16.654Z"
      },
      {
        "duration": 24,
        "start_time": "2023-12-22T08:16:20.674Z"
      },
      {
        "duration": 9,
        "start_time": "2023-12-22T08:16:47.887Z"
      },
      {
        "duration": 1665,
        "start_time": "2023-12-22T08:16:48.492Z"
      },
      {
        "duration": 15,
        "start_time": "2023-12-22T08:16:54.116Z"
      },
      {
        "duration": 10,
        "start_time": "2023-12-22T08:17:11.082Z"
      },
      {
        "duration": 1526,
        "start_time": "2023-12-22T08:17:11.575Z"
      },
      {
        "duration": 17,
        "start_time": "2023-12-22T08:17:15.244Z"
      },
      {
        "duration": 11,
        "start_time": "2023-12-22T09:45:44.707Z"
      },
      {
        "duration": 1788,
        "start_time": "2023-12-22T09:45:45.695Z"
      },
      {
        "duration": 18,
        "start_time": "2023-12-22T09:45:50.780Z"
      },
      {
        "duration": 11,
        "start_time": "2023-12-22T09:47:36.002Z"
      },
      {
        "duration": 206,
        "start_time": "2023-12-22T09:47:36.538Z"
      },
      {
        "duration": 10,
        "start_time": "2023-12-22T09:48:02.378Z"
      },
      {
        "duration": 54,
        "start_time": "2023-12-22T09:48:02.976Z"
      },
      {
        "duration": 10,
        "start_time": "2023-12-22T09:48:35.993Z"
      },
      {
        "duration": 1519,
        "start_time": "2023-12-22T09:48:36.616Z"
      },
      {
        "duration": 15,
        "start_time": "2023-12-22T09:48:39.571Z"
      },
      {
        "duration": 10,
        "start_time": "2023-12-22T09:56:12.815Z"
      },
      {
        "duration": 1552,
        "start_time": "2023-12-22T09:56:13.326Z"
      },
      {
        "duration": 18,
        "start_time": "2023-12-22T09:56:16.541Z"
      },
      {
        "duration": 7004,
        "start_time": "2023-12-22T09:57:03.691Z"
      },
      {
        "duration": 215,
        "start_time": "2023-12-22T09:57:10.697Z"
      },
      {
        "duration": 14,
        "start_time": "2023-12-22T09:57:10.913Z"
      },
      {
        "duration": 39,
        "start_time": "2023-12-22T09:57:10.928Z"
      },
      {
        "duration": 29,
        "start_time": "2023-12-22T09:57:10.968Z"
      },
      {
        "duration": 53,
        "start_time": "2023-12-22T09:57:10.998Z"
      },
      {
        "duration": 73,
        "start_time": "2023-12-22T09:57:11.053Z"
      },
      {
        "duration": 33,
        "start_time": "2023-12-22T09:57:11.128Z"
      },
      {
        "duration": 6,
        "start_time": "2023-12-22T09:57:11.162Z"
      },
      {
        "duration": 34,
        "start_time": "2023-12-22T09:57:11.170Z"
      },
      {
        "duration": 23,
        "start_time": "2023-12-22T09:57:11.206Z"
      },
      {
        "duration": 19,
        "start_time": "2023-12-22T09:57:11.230Z"
      },
      {
        "duration": 10,
        "start_time": "2023-12-22T09:57:11.266Z"
      },
      {
        "duration": 431,
        "start_time": "2023-12-22T09:57:11.277Z"
      },
      {
        "duration": 119,
        "start_time": "2023-12-22T09:57:11.710Z"
      },
      {
        "duration": 6,
        "start_time": "2023-12-22T09:57:11.831Z"
      },
      {
        "duration": 313,
        "start_time": "2023-12-22T09:57:11.839Z"
      },
      {
        "duration": 26,
        "start_time": "2023-12-22T09:57:12.153Z"
      },
      {
        "duration": 370,
        "start_time": "2023-12-22T09:57:12.180Z"
      },
      {
        "duration": 23,
        "start_time": "2023-12-22T09:57:12.552Z"
      },
      {
        "duration": 376,
        "start_time": "2023-12-22T09:57:12.576Z"
      },
      {
        "duration": 500,
        "start_time": "2023-12-22T09:57:12.954Z"
      },
      {
        "duration": 13,
        "start_time": "2023-12-22T09:57:13.456Z"
      },
      {
        "duration": 279,
        "start_time": "2023-12-22T09:57:13.471Z"
      },
      {
        "duration": 360,
        "start_time": "2023-12-22T09:57:13.752Z"
      },
      {
        "duration": 172,
        "start_time": "2023-12-22T09:57:14.113Z"
      },
      {
        "duration": 18,
        "start_time": "2023-12-22T09:57:14.287Z"
      },
      {
        "duration": 20,
        "start_time": "2023-12-22T09:57:14.309Z"
      },
      {
        "duration": 39,
        "start_time": "2023-12-22T09:57:14.331Z"
      },
      {
        "duration": 48,
        "start_time": "2023-12-22T09:57:14.372Z"
      },
      {
        "duration": 57,
        "start_time": "2023-12-22T09:57:14.422Z"
      },
      {
        "duration": 21,
        "start_time": "2023-12-22T09:57:14.480Z"
      },
      {
        "duration": 37,
        "start_time": "2023-12-22T09:57:14.502Z"
      },
      {
        "duration": 1720,
        "start_time": "2023-12-22T09:57:14.541Z"
      },
      {
        "duration": 12,
        "start_time": "2023-12-22T09:57:16.265Z"
      },
      {
        "duration": 179,
        "start_time": "2023-12-22T09:57:16.278Z"
      },
      {
        "duration": 10,
        "start_time": "2023-12-22T09:57:16.459Z"
      },
      {
        "duration": 27,
        "start_time": "2023-12-22T09:57:16.471Z"
      },
      {
        "duration": 22,
        "start_time": "2023-12-22T09:57:16.500Z"
      },
      {
        "duration": 9,
        "start_time": "2023-12-22T09:57:16.524Z"
      },
      {
        "duration": 44,
        "start_time": "2023-12-22T09:57:16.535Z"
      },
      {
        "duration": 21,
        "start_time": "2023-12-22T09:57:16.581Z"
      },
      {
        "duration": 9,
        "start_time": "2023-12-22T09:57:16.604Z"
      },
      {
        "duration": 9,
        "start_time": "2023-12-22T09:57:16.615Z"
      },
      {
        "duration": 6,
        "start_time": "2023-12-22T09:57:16.626Z"
      },
      {
        "duration": 32,
        "start_time": "2023-12-22T09:57:16.634Z"
      },
      {
        "duration": 44,
        "start_time": "2023-12-22T09:57:16.668Z"
      },
      {
        "duration": 30,
        "start_time": "2023-12-22T09:57:16.713Z"
      },
      {
        "duration": 476,
        "start_time": "2023-12-22T09:57:16.744Z"
      },
      {
        "duration": 281,
        "start_time": "2023-12-22T09:57:17.222Z"
      },
      {
        "duration": 15,
        "start_time": "2023-12-22T09:57:17.505Z"
      },
      {
        "duration": 101,
        "start_time": "2023-12-22T09:57:17.521Z"
      },
      {
        "duration": 8,
        "start_time": "2023-12-22T09:57:17.624Z"
      },
      {
        "duration": 18,
        "start_time": "2023-12-22T09:57:17.633Z"
      },
      {
        "duration": 17,
        "start_time": "2023-12-22T09:57:17.653Z"
      },
      {
        "duration": 19,
        "start_time": "2023-12-22T09:57:17.672Z"
      },
      {
        "duration": 284,
        "start_time": "2023-12-22T09:57:17.692Z"
      },
      {
        "duration": 309,
        "start_time": "2023-12-22T09:57:17.977Z"
      },
      {
        "duration": 6,
        "start_time": "2023-12-22T09:57:18.287Z"
      },
      {
        "duration": 316,
        "start_time": "2023-12-22T09:57:18.295Z"
      },
      {
        "duration": 7,
        "start_time": "2023-12-22T09:57:18.612Z"
      },
      {
        "duration": 18,
        "start_time": "2023-12-22T09:57:18.620Z"
      },
      {
        "duration": 14,
        "start_time": "2023-12-22T09:57:18.640Z"
      },
      {
        "duration": 10,
        "start_time": "2023-12-22T09:57:18.656Z"
      },
      {
        "duration": 8,
        "start_time": "2023-12-22T09:57:18.668Z"
      },
      {
        "duration": 9,
        "start_time": "2023-12-22T09:57:18.678Z"
      },
      {
        "duration": 16,
        "start_time": "2023-12-22T09:57:18.688Z"
      },
      {
        "duration": 12,
        "start_time": "2023-12-22T09:57:18.706Z"
      },
      {
        "duration": 4,
        "start_time": "2023-12-22T09:57:18.719Z"
      },
      {
        "duration": 22,
        "start_time": "2023-12-22T09:57:18.724Z"
      },
      {
        "duration": 19,
        "start_time": "2023-12-22T09:57:18.747Z"
      },
      {
        "duration": 4,
        "start_time": "2023-12-22T09:57:18.768Z"
      },
      {
        "duration": 6,
        "start_time": "2023-12-22T09:57:18.774Z"
      },
      {
        "duration": 7,
        "start_time": "2023-12-22T09:57:18.781Z"
      },
      {
        "duration": 10,
        "start_time": "2023-12-22T09:57:18.790Z"
      },
      {
        "duration": 1546,
        "start_time": "2023-12-22T09:57:18.801Z"
      },
      {
        "duration": 23,
        "start_time": "2023-12-22T09:57:20.348Z"
      },
      {
        "duration": 9,
        "start_time": "2023-12-22T09:59:02.118Z"
      },
      {
        "duration": 7048,
        "start_time": "2023-12-22T09:59:05.785Z"
      },
      {
        "duration": 147,
        "start_time": "2023-12-22T09:59:12.835Z"
      },
      {
        "duration": 15,
        "start_time": "2023-12-22T09:59:12.983Z"
      },
      {
        "duration": 20,
        "start_time": "2023-12-22T09:59:13.000Z"
      },
      {
        "duration": 14,
        "start_time": "2023-12-22T09:59:13.021Z"
      },
      {
        "duration": 14,
        "start_time": "2023-12-22T09:59:13.037Z"
      },
      {
        "duration": 6,
        "start_time": "2023-12-22T09:59:13.052Z"
      },
      {
        "duration": 17,
        "start_time": "2023-12-22T09:59:13.060Z"
      },
      {
        "duration": 5,
        "start_time": "2023-12-22T09:59:13.078Z"
      },
      {
        "duration": 29,
        "start_time": "2023-12-22T09:59:13.085Z"
      },
      {
        "duration": 21,
        "start_time": "2023-12-22T09:59:13.115Z"
      },
      {
        "duration": 35,
        "start_time": "2023-12-22T09:59:13.138Z"
      },
      {
        "duration": 11,
        "start_time": "2023-12-22T09:59:13.175Z"
      },
      {
        "duration": 444,
        "start_time": "2023-12-22T09:59:13.188Z"
      },
      {
        "duration": 104,
        "start_time": "2023-12-22T09:59:13.634Z"
      },
      {
        "duration": 5,
        "start_time": "2023-12-22T09:59:13.740Z"
      },
      {
        "duration": 311,
        "start_time": "2023-12-22T09:59:13.747Z"
      },
      {
        "duration": 21,
        "start_time": "2023-12-22T09:59:14.060Z"
      },
      {
        "duration": 370,
        "start_time": "2023-12-22T09:59:14.082Z"
      },
      {
        "duration": 26,
        "start_time": "2023-12-22T09:59:14.453Z"
      },
      {
        "duration": 395,
        "start_time": "2023-12-22T09:59:14.480Z"
      },
      {
        "duration": 502,
        "start_time": "2023-12-22T09:59:14.877Z"
      },
      {
        "duration": 4,
        "start_time": "2023-12-22T09:59:15.381Z"
      },
      {
        "duration": 268,
        "start_time": "2023-12-22T09:59:15.387Z"
      },
      {
        "duration": 376,
        "start_time": "2023-12-22T09:59:15.656Z"
      },
      {
        "duration": 158,
        "start_time": "2023-12-22T09:59:16.033Z"
      },
      {
        "duration": 19,
        "start_time": "2023-12-22T09:59:16.192Z"
      },
      {
        "duration": 7,
        "start_time": "2023-12-22T09:59:16.214Z"
      },
      {
        "duration": 11,
        "start_time": "2023-12-22T09:59:16.222Z"
      },
      {
        "duration": 12,
        "start_time": "2023-12-22T09:59:16.235Z"
      },
      {
        "duration": 42,
        "start_time": "2023-12-22T09:59:16.248Z"
      },
      {
        "duration": 20,
        "start_time": "2023-12-22T09:59:16.291Z"
      },
      {
        "duration": 14,
        "start_time": "2023-12-22T09:59:16.312Z"
      },
      {
        "duration": 1625,
        "start_time": "2023-12-22T09:59:16.328Z"
      },
      {
        "duration": 20,
        "start_time": "2023-12-22T09:59:17.955Z"
      },
      {
        "duration": 234,
        "start_time": "2023-12-22T09:59:17.977Z"
      },
      {
        "duration": 11,
        "start_time": "2023-12-22T09:59:18.212Z"
      },
      {
        "duration": 46,
        "start_time": "2023-12-22T09:59:18.224Z"
      },
      {
        "duration": 42,
        "start_time": "2023-12-22T09:59:18.272Z"
      },
      {
        "duration": 24,
        "start_time": "2023-12-22T09:59:18.316Z"
      },
      {
        "duration": 36,
        "start_time": "2023-12-22T09:59:18.342Z"
      },
      {
        "duration": 34,
        "start_time": "2023-12-22T09:59:18.379Z"
      },
      {
        "duration": 22,
        "start_time": "2023-12-22T09:59:18.414Z"
      },
      {
        "duration": 18,
        "start_time": "2023-12-22T09:59:18.437Z"
      },
      {
        "duration": 29,
        "start_time": "2023-12-22T09:59:18.456Z"
      },
      {
        "duration": 22,
        "start_time": "2023-12-22T09:59:18.486Z"
      },
      {
        "duration": 35,
        "start_time": "2023-12-22T09:59:18.510Z"
      },
      {
        "duration": 29,
        "start_time": "2023-12-22T09:59:18.546Z"
      },
      {
        "duration": 483,
        "start_time": "2023-12-22T09:59:18.577Z"
      },
      {
        "duration": 275,
        "start_time": "2023-12-22T09:59:19.065Z"
      },
      {
        "duration": 23,
        "start_time": "2023-12-22T09:59:19.342Z"
      },
      {
        "duration": 121,
        "start_time": "2023-12-22T09:59:19.367Z"
      },
      {
        "duration": 6,
        "start_time": "2023-12-22T09:59:19.490Z"
      },
      {
        "duration": 44,
        "start_time": "2023-12-22T09:59:19.497Z"
      },
      {
        "duration": 40,
        "start_time": "2023-12-22T09:59:19.543Z"
      },
      {
        "duration": 33,
        "start_time": "2023-12-22T09:59:19.585Z"
      },
      {
        "duration": 289,
        "start_time": "2023-12-22T09:59:19.620Z"
      },
      {
        "duration": 309,
        "start_time": "2023-12-22T09:59:19.911Z"
      },
      {
        "duration": 7,
        "start_time": "2023-12-22T09:59:20.222Z"
      },
      {
        "duration": 350,
        "start_time": "2023-12-22T09:59:20.231Z"
      },
      {
        "duration": 7,
        "start_time": "2023-12-22T09:59:20.583Z"
      },
      {
        "duration": 13,
        "start_time": "2023-12-22T09:59:20.592Z"
      },
      {
        "duration": 14,
        "start_time": "2023-12-22T09:59:20.607Z"
      },
      {
        "duration": 11,
        "start_time": "2023-12-22T09:59:20.622Z"
      },
      {
        "duration": 8,
        "start_time": "2023-12-22T09:59:20.635Z"
      },
      {
        "duration": 5,
        "start_time": "2023-12-22T09:59:20.665Z"
      },
      {
        "duration": 18,
        "start_time": "2023-12-22T09:59:20.671Z"
      },
      {
        "duration": 19,
        "start_time": "2023-12-22T09:59:20.691Z"
      },
      {
        "duration": 3,
        "start_time": "2023-12-22T09:59:20.712Z"
      },
      {
        "duration": 9,
        "start_time": "2023-12-22T09:59:20.716Z"
      },
      {
        "duration": 11,
        "start_time": "2023-12-22T09:59:20.727Z"
      },
      {
        "duration": 5,
        "start_time": "2023-12-22T09:59:20.739Z"
      },
      {
        "duration": 25,
        "start_time": "2023-12-22T09:59:20.745Z"
      },
      {
        "duration": 11,
        "start_time": "2023-12-22T09:59:20.771Z"
      },
      {
        "duration": 12,
        "start_time": "2023-12-22T09:59:20.784Z"
      },
      {
        "duration": 1559,
        "start_time": "2023-12-22T09:59:20.798Z"
      },
      {
        "duration": 21,
        "start_time": "2023-12-22T09:59:22.359Z"
      },
      {
        "duration": 10,
        "start_time": "2023-12-22T10:03:11.825Z"
      },
      {
        "duration": 7257,
        "start_time": "2023-12-22T10:03:20.483Z"
      },
      {
        "duration": 167,
        "start_time": "2023-12-22T10:03:27.742Z"
      },
      {
        "duration": 17,
        "start_time": "2023-12-22T10:03:27.910Z"
      },
      {
        "duration": 69,
        "start_time": "2023-12-22T10:03:27.929Z"
      },
      {
        "duration": 73,
        "start_time": "2023-12-22T10:03:28.001Z"
      },
      {
        "duration": 46,
        "start_time": "2023-12-22T10:03:28.076Z"
      },
      {
        "duration": 31,
        "start_time": "2023-12-22T10:03:28.124Z"
      },
      {
        "duration": 50,
        "start_time": "2023-12-22T10:03:28.156Z"
      },
      {
        "duration": 26,
        "start_time": "2023-12-22T10:03:28.208Z"
      },
      {
        "duration": 75,
        "start_time": "2023-12-22T10:03:28.236Z"
      },
      {
        "duration": 28,
        "start_time": "2023-12-22T10:03:28.312Z"
      },
      {
        "duration": 22,
        "start_time": "2023-12-22T10:03:28.341Z"
      },
      {
        "duration": 34,
        "start_time": "2023-12-22T10:03:28.365Z"
      },
      {
        "duration": 422,
        "start_time": "2023-12-22T10:03:28.401Z"
      },
      {
        "duration": 109,
        "start_time": "2023-12-22T10:03:28.825Z"
      },
      {
        "duration": 6,
        "start_time": "2023-12-22T10:03:28.936Z"
      },
      {
        "duration": 369,
        "start_time": "2023-12-22T10:03:28.943Z"
      },
      {
        "duration": 18,
        "start_time": "2023-12-22T10:03:29.314Z"
      },
      {
        "duration": 391,
        "start_time": "2023-12-22T10:03:29.333Z"
      },
      {
        "duration": 20,
        "start_time": "2023-12-22T10:03:29.725Z"
      },
      {
        "duration": 379,
        "start_time": "2023-12-22T10:03:29.746Z"
      },
      {
        "duration": 523,
        "start_time": "2023-12-22T10:03:30.127Z"
      },
      {
        "duration": 5,
        "start_time": "2023-12-22T10:03:30.652Z"
      },
      {
        "duration": 294,
        "start_time": "2023-12-22T10:03:30.658Z"
      },
      {
        "duration": 373,
        "start_time": "2023-12-22T10:03:30.953Z"
      },
      {
        "duration": 159,
        "start_time": "2023-12-22T10:03:31.327Z"
      },
      {
        "duration": 19,
        "start_time": "2023-12-22T10:03:31.487Z"
      },
      {
        "duration": 40,
        "start_time": "2023-12-22T10:03:31.508Z"
      },
      {
        "duration": 33,
        "start_time": "2023-12-22T10:03:31.549Z"
      },
      {
        "duration": 91,
        "start_time": "2023-12-22T10:03:31.584Z"
      },
      {
        "duration": 30,
        "start_time": "2023-12-22T10:03:31.676Z"
      },
      {
        "duration": 27,
        "start_time": "2023-12-22T10:03:31.708Z"
      },
      {
        "duration": 37,
        "start_time": "2023-12-22T10:03:31.736Z"
      },
      {
        "duration": 1659,
        "start_time": "2023-12-22T10:03:31.775Z"
      },
      {
        "duration": 12,
        "start_time": "2023-12-22T10:03:33.435Z"
      },
      {
        "duration": 119,
        "start_time": "2023-12-22T10:03:33.449Z"
      },
      {
        "duration": 10,
        "start_time": "2023-12-22T10:03:33.569Z"
      },
      {
        "duration": 30,
        "start_time": "2023-12-22T10:03:33.580Z"
      },
      {
        "duration": 21,
        "start_time": "2023-12-22T10:03:33.611Z"
      },
      {
        "duration": 34,
        "start_time": "2023-12-22T10:03:33.634Z"
      },
      {
        "duration": 37,
        "start_time": "2023-12-22T10:03:33.672Z"
      },
      {
        "duration": 21,
        "start_time": "2023-12-22T10:03:33.711Z"
      },
      {
        "duration": 7,
        "start_time": "2023-12-22T10:03:33.734Z"
      },
      {
        "duration": 27,
        "start_time": "2023-12-22T10:03:33.742Z"
      },
      {
        "duration": 12,
        "start_time": "2023-12-22T10:03:33.771Z"
      },
      {
        "duration": 9,
        "start_time": "2023-12-22T10:03:33.785Z"
      },
      {
        "duration": 13,
        "start_time": "2023-12-22T10:03:33.795Z"
      },
      {
        "duration": 14,
        "start_time": "2023-12-22T10:03:33.809Z"
      },
      {
        "duration": 497,
        "start_time": "2023-12-22T10:03:33.825Z"
      },
      {
        "duration": 277,
        "start_time": "2023-12-22T10:03:34.324Z"
      },
      {
        "duration": 14,
        "start_time": "2023-12-22T10:03:34.603Z"
      },
      {
        "duration": 125,
        "start_time": "2023-12-22T10:03:34.618Z"
      },
      {
        "duration": 6,
        "start_time": "2023-12-22T10:03:34.744Z"
      },
      {
        "duration": 45,
        "start_time": "2023-12-22T10:03:34.751Z"
      },
      {
        "duration": 16,
        "start_time": "2023-12-22T10:03:34.798Z"
      },
      {
        "duration": 36,
        "start_time": "2023-12-22T10:03:34.816Z"
      },
      {
        "duration": 271,
        "start_time": "2023-12-22T10:03:34.854Z"
      },
      {
        "duration": 362,
        "start_time": "2023-12-22T10:03:35.127Z"
      },
      {
        "duration": 7,
        "start_time": "2023-12-22T10:03:35.490Z"
      },
      {
        "duration": 348,
        "start_time": "2023-12-22T10:03:35.498Z"
      },
      {
        "duration": 6,
        "start_time": "2023-12-22T10:03:35.847Z"
      },
      {
        "duration": 31,
        "start_time": "2023-12-22T10:03:35.855Z"
      },
      {
        "duration": 43,
        "start_time": "2023-12-22T10:03:35.887Z"
      },
      {
        "duration": 34,
        "start_time": "2023-12-22T10:03:35.933Z"
      },
      {
        "duration": 35,
        "start_time": "2023-12-22T10:03:35.968Z"
      },
      {
        "duration": 86,
        "start_time": "2023-12-22T10:03:36.005Z"
      },
      {
        "duration": 32,
        "start_time": "2023-12-22T10:03:36.093Z"
      },
      {
        "duration": 26,
        "start_time": "2023-12-22T10:03:36.126Z"
      },
      {
        "duration": 5,
        "start_time": "2023-12-22T10:03:36.153Z"
      },
      {
        "duration": 21,
        "start_time": "2023-12-22T10:03:36.159Z"
      },
      {
        "duration": 22,
        "start_time": "2023-12-22T10:03:36.182Z"
      },
      {
        "duration": 20,
        "start_time": "2023-12-22T10:03:36.205Z"
      },
      {
        "duration": 24,
        "start_time": "2023-12-22T10:03:36.227Z"
      },
      {
        "duration": 19,
        "start_time": "2023-12-22T10:03:36.252Z"
      },
      {
        "duration": 13,
        "start_time": "2023-12-22T10:03:36.272Z"
      },
      {
        "duration": 1609,
        "start_time": "2023-12-22T10:03:36.287Z"
      },
      {
        "duration": 17,
        "start_time": "2023-12-22T10:03:37.897Z"
      },
      {
        "duration": 9,
        "start_time": "2023-12-22T10:06:30.973Z"
      },
      {
        "duration": 1485,
        "start_time": "2023-12-22T10:06:31.507Z"
      },
      {
        "duration": 26,
        "start_time": "2023-12-22T10:06:35.441Z"
      },
      {
        "duration": 9,
        "start_time": "2023-12-22T10:06:44.300Z"
      },
      {
        "duration": 1471,
        "start_time": "2023-12-22T10:06:44.695Z"
      },
      {
        "duration": 16,
        "start_time": "2023-12-22T10:06:48.102Z"
      },
      {
        "duration": 10,
        "start_time": "2023-12-22T10:07:01.642Z"
      },
      {
        "duration": 1769,
        "start_time": "2023-12-22T10:07:02.085Z"
      },
      {
        "duration": 17,
        "start_time": "2023-12-22T10:07:04.861Z"
      },
      {
        "duration": 10,
        "start_time": "2023-12-22T10:07:15.228Z"
      },
      {
        "duration": 1599,
        "start_time": "2023-12-22T10:07:15.679Z"
      },
      {
        "duration": 17,
        "start_time": "2023-12-22T10:07:18.407Z"
      },
      {
        "duration": 9,
        "start_time": "2023-12-22T10:07:26.614Z"
      },
      {
        "duration": 1578,
        "start_time": "2023-12-22T10:07:27.461Z"
      },
      {
        "duration": 17,
        "start_time": "2023-12-22T10:07:30.781Z"
      },
      {
        "duration": 10,
        "start_time": "2023-12-22T10:07:36.519Z"
      },
      {
        "duration": 1864,
        "start_time": "2023-12-22T10:07:38.462Z"
      },
      {
        "duration": 18,
        "start_time": "2023-12-22T10:07:41.962Z"
      },
      {
        "duration": 8,
        "start_time": "2023-12-22T10:07:49.590Z"
      },
      {
        "duration": 1721,
        "start_time": "2023-12-22T10:07:50.175Z"
      },
      {
        "duration": 17,
        "start_time": "2023-12-22T10:07:51.898Z"
      },
      {
        "duration": 10,
        "start_time": "2023-12-22T10:07:59.009Z"
      },
      {
        "duration": 1703,
        "start_time": "2023-12-22T10:07:59.482Z"
      },
      {
        "duration": 24,
        "start_time": "2023-12-22T10:08:03.371Z"
      },
      {
        "duration": 9,
        "start_time": "2023-12-22T10:08:09.889Z"
      },
      {
        "duration": 1622,
        "start_time": "2023-12-22T10:08:10.309Z"
      },
      {
        "duration": 15,
        "start_time": "2023-12-22T10:08:11.933Z"
      },
      {
        "duration": 9,
        "start_time": "2023-12-22T10:08:18.575Z"
      },
      {
        "duration": 1573,
        "start_time": "2023-12-22T10:08:19.041Z"
      },
      {
        "duration": 17,
        "start_time": "2023-12-22T10:08:20.616Z"
      },
      {
        "duration": 9,
        "start_time": "2023-12-22T10:08:27.749Z"
      },
      {
        "duration": 1666,
        "start_time": "2023-12-22T10:08:28.130Z"
      },
      {
        "duration": 17,
        "start_time": "2023-12-22T10:08:30.511Z"
      },
      {
        "duration": 10,
        "start_time": "2023-12-22T10:08:36.214Z"
      },
      {
        "duration": 1704,
        "start_time": "2023-12-22T10:08:36.666Z"
      },
      {
        "duration": 17,
        "start_time": "2023-12-22T10:08:38.456Z"
      },
      {
        "duration": 9,
        "start_time": "2023-12-22T10:08:48.139Z"
      },
      {
        "duration": 1579,
        "start_time": "2023-12-22T10:08:48.728Z"
      },
      {
        "duration": 17,
        "start_time": "2023-12-22T10:08:51.560Z"
      },
      {
        "duration": 9,
        "start_time": "2023-12-22T10:08:59.594Z"
      },
      {
        "duration": 1655,
        "start_time": "2023-12-22T10:09:00.019Z"
      },
      {
        "duration": 17,
        "start_time": "2023-12-22T10:09:01.676Z"
      },
      {
        "duration": 13,
        "start_time": "2023-12-22T10:09:09.553Z"
      },
      {
        "duration": 1657,
        "start_time": "2023-12-22T10:09:09.973Z"
      },
      {
        "duration": 17,
        "start_time": "2023-12-22T10:09:11.631Z"
      },
      {
        "duration": 13,
        "start_time": "2023-12-22T10:09:22.561Z"
      },
      {
        "duration": 1658,
        "start_time": "2023-12-22T10:09:22.967Z"
      },
      {
        "duration": 19,
        "start_time": "2023-12-22T10:09:24.627Z"
      },
      {
        "duration": 13,
        "start_time": "2023-12-22T10:09:33.612Z"
      },
      {
        "duration": 7374,
        "start_time": "2023-12-22T10:09:38.871Z"
      },
      {
        "duration": 127,
        "start_time": "2023-12-22T10:09:46.247Z"
      },
      {
        "duration": 15,
        "start_time": "2023-12-22T10:09:46.376Z"
      },
      {
        "duration": 28,
        "start_time": "2023-12-22T10:09:46.392Z"
      },
      {
        "duration": 32,
        "start_time": "2023-12-22T10:09:46.422Z"
      },
      {
        "duration": 25,
        "start_time": "2023-12-22T10:09:46.456Z"
      },
      {
        "duration": 10,
        "start_time": "2023-12-22T10:09:46.483Z"
      },
      {
        "duration": 34,
        "start_time": "2023-12-22T10:09:46.495Z"
      },
      {
        "duration": 7,
        "start_time": "2023-12-22T10:09:46.530Z"
      },
      {
        "duration": 42,
        "start_time": "2023-12-22T10:09:46.539Z"
      },
      {
        "duration": 22,
        "start_time": "2023-12-22T10:09:46.583Z"
      },
      {
        "duration": 20,
        "start_time": "2023-12-22T10:09:46.607Z"
      },
      {
        "duration": 39,
        "start_time": "2023-12-22T10:09:46.628Z"
      },
      {
        "duration": 442,
        "start_time": "2023-12-22T10:09:46.670Z"
      },
      {
        "duration": 112,
        "start_time": "2023-12-22T10:09:47.114Z"
      },
      {
        "duration": 5,
        "start_time": "2023-12-22T10:09:47.227Z"
      },
      {
        "duration": 344,
        "start_time": "2023-12-22T10:09:47.234Z"
      },
      {
        "duration": 18,
        "start_time": "2023-12-22T10:09:47.580Z"
      },
      {
        "duration": 387,
        "start_time": "2023-12-22T10:09:47.599Z"
      },
      {
        "duration": 19,
        "start_time": "2023-12-22T10:09:47.987Z"
      },
      {
        "duration": 425,
        "start_time": "2023-12-22T10:09:48.007Z"
      },
      {
        "duration": 538,
        "start_time": "2023-12-22T10:09:48.434Z"
      },
      {
        "duration": 5,
        "start_time": "2023-12-22T10:09:48.973Z"
      },
      {
        "duration": 286,
        "start_time": "2023-12-22T10:09:48.980Z"
      },
      {
        "duration": 383,
        "start_time": "2023-12-22T10:09:49.269Z"
      },
      {
        "duration": 168,
        "start_time": "2023-12-22T10:09:49.654Z"
      },
      {
        "duration": 19,
        "start_time": "2023-12-22T10:09:49.824Z"
      },
      {
        "duration": 24,
        "start_time": "2023-12-22T10:09:49.845Z"
      },
      {
        "duration": 19,
        "start_time": "2023-12-22T10:09:49.871Z"
      },
      {
        "duration": 15,
        "start_time": "2023-12-22T10:09:49.892Z"
      },
      {
        "duration": 29,
        "start_time": "2023-12-22T10:09:49.909Z"
      },
      {
        "duration": 15,
        "start_time": "2023-12-22T10:09:49.940Z"
      },
      {
        "duration": 11,
        "start_time": "2023-12-22T10:09:49.956Z"
      },
      {
        "duration": 1602,
        "start_time": "2023-12-22T10:09:49.969Z"
      },
      {
        "duration": 11,
        "start_time": "2023-12-22T10:09:51.573Z"
      },
      {
        "duration": 104,
        "start_time": "2023-12-22T10:09:51.586Z"
      },
      {
        "duration": 10,
        "start_time": "2023-12-22T10:09:51.691Z"
      },
      {
        "duration": 50,
        "start_time": "2023-12-22T10:09:51.703Z"
      },
      {
        "duration": 26,
        "start_time": "2023-12-22T10:09:51.755Z"
      },
      {
        "duration": 19,
        "start_time": "2023-12-22T10:09:51.783Z"
      },
      {
        "duration": 25,
        "start_time": "2023-12-22T10:09:51.808Z"
      },
      {
        "duration": 33,
        "start_time": "2023-12-22T10:09:51.835Z"
      },
      {
        "duration": 9,
        "start_time": "2023-12-22T10:09:51.870Z"
      },
      {
        "duration": 9,
        "start_time": "2023-12-22T10:09:51.881Z"
      },
      {
        "duration": 12,
        "start_time": "2023-12-22T10:09:51.891Z"
      },
      {
        "duration": 23,
        "start_time": "2023-12-22T10:09:51.905Z"
      },
      {
        "duration": 26,
        "start_time": "2023-12-22T10:09:51.930Z"
      },
      {
        "duration": 17,
        "start_time": "2023-12-22T10:09:51.957Z"
      },
      {
        "duration": 473,
        "start_time": "2023-12-22T10:09:51.976Z"
      },
      {
        "duration": 290,
        "start_time": "2023-12-22T10:09:52.451Z"
      },
      {
        "duration": 22,
        "start_time": "2023-12-22T10:09:52.743Z"
      },
      {
        "duration": 102,
        "start_time": "2023-12-22T10:09:52.767Z"
      },
      {
        "duration": 8,
        "start_time": "2023-12-22T10:09:52.871Z"
      },
      {
        "duration": 26,
        "start_time": "2023-12-22T10:09:52.881Z"
      },
      {
        "duration": 28,
        "start_time": "2023-12-22T10:09:52.909Z"
      },
      {
        "duration": 58,
        "start_time": "2023-12-22T10:09:52.939Z"
      },
      {
        "duration": 291,
        "start_time": "2023-12-22T10:09:52.999Z"
      },
      {
        "duration": 308,
        "start_time": "2023-12-22T10:09:53.292Z"
      },
      {
        "duration": 7,
        "start_time": "2023-12-22T10:09:53.602Z"
      },
      {
        "duration": 390,
        "start_time": "2023-12-22T10:09:53.611Z"
      },
      {
        "duration": 7,
        "start_time": "2023-12-22T10:09:54.002Z"
      },
      {
        "duration": 28,
        "start_time": "2023-12-22T10:09:54.010Z"
      },
      {
        "duration": 16,
        "start_time": "2023-12-22T10:09:54.040Z"
      },
      {
        "duration": 23,
        "start_time": "2023-12-22T10:09:54.058Z"
      },
      {
        "duration": 20,
        "start_time": "2023-12-22T10:09:54.082Z"
      },
      {
        "duration": 19,
        "start_time": "2023-12-22T10:09:54.105Z"
      },
      {
        "duration": 40,
        "start_time": "2023-12-22T10:09:54.125Z"
      },
      {
        "duration": 17,
        "start_time": "2023-12-22T10:09:54.167Z"
      },
      {
        "duration": 6,
        "start_time": "2023-12-22T10:09:54.186Z"
      },
      {
        "duration": 4,
        "start_time": "2023-12-22T10:09:54.194Z"
      },
      {
        "duration": 25,
        "start_time": "2023-12-22T10:09:54.200Z"
      },
      {
        "duration": 14,
        "start_time": "2023-12-22T10:09:54.227Z"
      },
      {
        "duration": 33,
        "start_time": "2023-12-22T10:09:54.243Z"
      },
      {
        "duration": 11,
        "start_time": "2023-12-22T10:09:54.277Z"
      },
      {
        "duration": 13,
        "start_time": "2023-12-22T10:09:54.290Z"
      },
      {
        "duration": 1672,
        "start_time": "2023-12-22T10:09:54.305Z"
      },
      {
        "duration": 16,
        "start_time": "2023-12-22T10:09:55.979Z"
      },
      {
        "duration": 10,
        "start_time": "2023-12-22T10:11:09.896Z"
      },
      {
        "duration": 1712,
        "start_time": "2023-12-22T10:11:10.315Z"
      },
      {
        "duration": 17,
        "start_time": "2023-12-22T10:11:13.154Z"
      },
      {
        "duration": 10,
        "start_time": "2023-12-22T10:11:28.333Z"
      },
      {
        "duration": 1650,
        "start_time": "2023-12-22T10:11:28.751Z"
      },
      {
        "duration": 25,
        "start_time": "2023-12-22T10:11:30.404Z"
      },
      {
        "duration": 15,
        "start_time": "2023-12-22T10:11:38.467Z"
      },
      {
        "duration": 2032,
        "start_time": "2023-12-22T10:11:38.823Z"
      },
      {
        "duration": 23,
        "start_time": "2023-12-22T10:11:40.857Z"
      },
      {
        "duration": 10,
        "start_time": "2023-12-22T10:11:47.057Z"
      },
      {
        "duration": 1733,
        "start_time": "2023-12-22T10:11:49.125Z"
      },
      {
        "duration": 20,
        "start_time": "2023-12-22T10:11:50.860Z"
      },
      {
        "duration": 9,
        "start_time": "2023-12-22T10:11:56.069Z"
      },
      {
        "duration": 1711,
        "start_time": "2023-12-22T10:11:56.358Z"
      },
      {
        "duration": 18,
        "start_time": "2023-12-22T10:11:58.071Z"
      },
      {
        "duration": 11,
        "start_time": "2023-12-22T10:12:03.289Z"
      },
      {
        "duration": 1760,
        "start_time": "2023-12-22T10:12:03.471Z"
      },
      {
        "duration": 17,
        "start_time": "2023-12-22T10:12:05.232Z"
      },
      {
        "duration": 11,
        "start_time": "2023-12-22T10:12:10.485Z"
      },
      {
        "duration": 1872,
        "start_time": "2023-12-22T10:12:10.716Z"
      },
      {
        "duration": 18,
        "start_time": "2023-12-22T10:12:12.590Z"
      },
      {
        "duration": 11,
        "start_time": "2023-12-22T10:12:19.333Z"
      },
      {
        "duration": 1761,
        "start_time": "2023-12-22T10:12:19.809Z"
      },
      {
        "duration": 17,
        "start_time": "2023-12-22T10:12:21.572Z"
      },
      {
        "duration": 10,
        "start_time": "2023-12-22T10:12:26.738Z"
      },
      {
        "duration": 1740,
        "start_time": "2023-12-22T10:12:29.412Z"
      },
      {
        "duration": 30,
        "start_time": "2023-12-22T10:12:31.154Z"
      },
      {
        "duration": 9,
        "start_time": "2023-12-22T10:12:36.441Z"
      },
      {
        "duration": 1625,
        "start_time": "2023-12-22T10:12:36.612Z"
      },
      {
        "duration": 17,
        "start_time": "2023-12-22T10:12:38.239Z"
      },
      {
        "duration": 10,
        "start_time": "2023-12-22T10:12:45.483Z"
      },
      {
        "duration": 1780,
        "start_time": "2023-12-22T10:12:45.717Z"
      },
      {
        "duration": 18,
        "start_time": "2023-12-22T10:12:47.498Z"
      },
      {
        "duration": 10,
        "start_time": "2023-12-22T10:13:00.521Z"
      },
      {
        "duration": 1724,
        "start_time": "2023-12-22T10:13:00.855Z"
      },
      {
        "duration": 17,
        "start_time": "2023-12-22T10:13:02.581Z"
      },
      {
        "duration": 10,
        "start_time": "2023-12-22T10:13:09.106Z"
      },
      {
        "duration": 1641,
        "start_time": "2023-12-22T10:13:09.604Z"
      },
      {
        "duration": 28,
        "start_time": "2023-12-22T10:13:11.247Z"
      },
      {
        "duration": 7483,
        "start_time": "2023-12-22T10:13:18.254Z"
      },
      {
        "duration": 97,
        "start_time": "2023-12-22T10:13:25.740Z"
      },
      {
        "duration": 16,
        "start_time": "2023-12-22T10:13:25.838Z"
      },
      {
        "duration": 27,
        "start_time": "2023-12-22T10:13:25.856Z"
      },
      {
        "duration": 37,
        "start_time": "2023-12-22T10:13:25.885Z"
      },
      {
        "duration": 5,
        "start_time": "2023-12-22T10:13:25.923Z"
      },
      {
        "duration": 17,
        "start_time": "2023-12-22T10:13:25.930Z"
      },
      {
        "duration": 29,
        "start_time": "2023-12-22T10:13:25.948Z"
      },
      {
        "duration": 3,
        "start_time": "2023-12-22T10:13:25.979Z"
      },
      {
        "duration": 37,
        "start_time": "2023-12-22T10:13:25.984Z"
      },
      {
        "duration": 42,
        "start_time": "2023-12-22T10:13:26.023Z"
      },
      {
        "duration": 26,
        "start_time": "2023-12-22T10:13:26.067Z"
      },
      {
        "duration": 13,
        "start_time": "2023-12-22T10:13:26.095Z"
      },
      {
        "duration": 465,
        "start_time": "2023-12-22T10:13:26.109Z"
      },
      {
        "duration": 111,
        "start_time": "2023-12-22T10:13:26.575Z"
      },
      {
        "duration": 6,
        "start_time": "2023-12-22T10:13:26.688Z"
      },
      {
        "duration": 354,
        "start_time": "2023-12-22T10:13:26.696Z"
      },
      {
        "duration": 24,
        "start_time": "2023-12-22T10:13:27.052Z"
      },
      {
        "duration": 399,
        "start_time": "2023-12-22T10:13:27.077Z"
      },
      {
        "duration": 21,
        "start_time": "2023-12-22T10:13:27.478Z"
      },
      {
        "duration": 407,
        "start_time": "2023-12-22T10:13:27.501Z"
      },
      {
        "duration": 547,
        "start_time": "2023-12-22T10:13:27.910Z"
      },
      {
        "duration": 9,
        "start_time": "2023-12-22T10:13:28.459Z"
      },
      {
        "duration": 293,
        "start_time": "2023-12-22T10:13:28.469Z"
      },
      {
        "duration": 368,
        "start_time": "2023-12-22T10:13:28.765Z"
      },
      {
        "duration": 182,
        "start_time": "2023-12-22T10:13:29.136Z"
      },
      {
        "duration": 19,
        "start_time": "2023-12-22T10:13:29.320Z"
      },
      {
        "duration": 22,
        "start_time": "2023-12-22T10:13:29.344Z"
      },
      {
        "duration": 8,
        "start_time": "2023-12-22T10:13:29.368Z"
      },
      {
        "duration": 25,
        "start_time": "2023-12-22T10:13:29.378Z"
      },
      {
        "duration": 32,
        "start_time": "2023-12-22T10:13:29.405Z"
      },
      {
        "duration": 21,
        "start_time": "2023-12-22T10:13:29.439Z"
      },
      {
        "duration": 20,
        "start_time": "2023-12-22T10:13:29.461Z"
      },
      {
        "duration": 1682,
        "start_time": "2023-12-22T10:13:29.483Z"
      },
      {
        "duration": 14,
        "start_time": "2023-12-22T10:13:31.167Z"
      },
      {
        "duration": 361,
        "start_time": "2023-12-22T10:13:31.182Z"
      },
      {
        "duration": 12,
        "start_time": "2023-12-22T10:13:31.545Z"
      },
      {
        "duration": 84,
        "start_time": "2023-12-22T10:13:31.558Z"
      },
      {
        "duration": 29,
        "start_time": "2023-12-22T10:13:31.644Z"
      },
      {
        "duration": 24,
        "start_time": "2023-12-22T10:13:31.675Z"
      },
      {
        "duration": 50,
        "start_time": "2023-12-22T10:13:31.701Z"
      },
      {
        "duration": 31,
        "start_time": "2023-12-22T10:13:31.752Z"
      },
      {
        "duration": 13,
        "start_time": "2023-12-22T10:13:31.786Z"
      },
      {
        "duration": 26,
        "start_time": "2023-12-22T10:13:31.801Z"
      },
      {
        "duration": 34,
        "start_time": "2023-12-22T10:13:31.829Z"
      },
      {
        "duration": 33,
        "start_time": "2023-12-22T10:13:31.865Z"
      },
      {
        "duration": 36,
        "start_time": "2023-12-22T10:13:31.900Z"
      },
      {
        "duration": 26,
        "start_time": "2023-12-22T10:13:31.939Z"
      },
      {
        "duration": 559,
        "start_time": "2023-12-22T10:13:31.967Z"
      },
      {
        "duration": 300,
        "start_time": "2023-12-22T10:13:32.528Z"
      },
      {
        "duration": 15,
        "start_time": "2023-12-22T10:13:32.830Z"
      },
      {
        "duration": 155,
        "start_time": "2023-12-22T10:13:32.847Z"
      },
      {
        "duration": 8,
        "start_time": "2023-12-22T10:13:33.006Z"
      },
      {
        "duration": 58,
        "start_time": "2023-12-22T10:13:33.015Z"
      },
      {
        "duration": 44,
        "start_time": "2023-12-22T10:13:33.075Z"
      },
      {
        "duration": 58,
        "start_time": "2023-12-22T10:13:33.121Z"
      },
      {
        "duration": 304,
        "start_time": "2023-12-22T10:13:33.181Z"
      },
      {
        "duration": 358,
        "start_time": "2023-12-22T10:13:33.487Z"
      },
      {
        "duration": 7,
        "start_time": "2023-12-22T10:13:33.847Z"
      },
      {
        "duration": 362,
        "start_time": "2023-12-22T10:13:33.856Z"
      },
      {
        "duration": 7,
        "start_time": "2023-12-22T10:13:34.220Z"
      },
      {
        "duration": 25,
        "start_time": "2023-12-22T10:13:34.228Z"
      },
      {
        "duration": 27,
        "start_time": "2023-12-22T10:13:34.255Z"
      },
      {
        "duration": 16,
        "start_time": "2023-12-22T10:13:34.283Z"
      },
      {
        "duration": 18,
        "start_time": "2023-12-22T10:13:34.301Z"
      },
      {
        "duration": 34,
        "start_time": "2023-12-22T10:13:34.320Z"
      },
      {
        "duration": 36,
        "start_time": "2023-12-22T10:13:34.356Z"
      },
      {
        "duration": 42,
        "start_time": "2023-12-22T10:13:34.394Z"
      },
      {
        "duration": 4,
        "start_time": "2023-12-22T10:13:34.438Z"
      },
      {
        "duration": 36,
        "start_time": "2023-12-22T10:13:34.444Z"
      },
      {
        "duration": 25,
        "start_time": "2023-12-22T10:13:34.482Z"
      },
      {
        "duration": 31,
        "start_time": "2023-12-22T10:13:34.509Z"
      },
      {
        "duration": 46,
        "start_time": "2023-12-22T10:13:34.542Z"
      },
      {
        "duration": 36,
        "start_time": "2023-12-22T10:13:34.590Z"
      },
      {
        "duration": 25,
        "start_time": "2023-12-22T10:13:34.628Z"
      },
      {
        "duration": 1740,
        "start_time": "2023-12-22T10:13:34.655Z"
      },
      {
        "duration": 18,
        "start_time": "2023-12-22T10:13:36.397Z"
      },
      {
        "duration": 9,
        "start_time": "2023-12-22T10:15:15.288Z"
      },
      {
        "duration": 7469,
        "start_time": "2023-12-22T10:15:19.315Z"
      },
      {
        "duration": 117,
        "start_time": "2023-12-22T10:15:26.786Z"
      },
      {
        "duration": 16,
        "start_time": "2023-12-22T10:15:26.905Z"
      },
      {
        "duration": 16,
        "start_time": "2023-12-22T10:15:26.922Z"
      },
      {
        "duration": 28,
        "start_time": "2023-12-22T10:15:26.941Z"
      },
      {
        "duration": 32,
        "start_time": "2023-12-22T10:15:26.971Z"
      },
      {
        "duration": 25,
        "start_time": "2023-12-22T10:15:27.004Z"
      },
      {
        "duration": 26,
        "start_time": "2023-12-22T10:15:27.031Z"
      },
      {
        "duration": 3,
        "start_time": "2023-12-22T10:15:27.059Z"
      },
      {
        "duration": 36,
        "start_time": "2023-12-22T10:15:27.064Z"
      },
      {
        "duration": 35,
        "start_time": "2023-12-22T10:15:27.102Z"
      },
      {
        "duration": 19,
        "start_time": "2023-12-22T10:15:27.139Z"
      },
      {
        "duration": 14,
        "start_time": "2023-12-22T10:15:27.160Z"
      },
      {
        "duration": 426,
        "start_time": "2023-12-22T10:15:27.177Z"
      },
      {
        "duration": 119,
        "start_time": "2023-12-22T10:15:27.605Z"
      },
      {
        "duration": 5,
        "start_time": "2023-12-22T10:15:27.726Z"
      },
      {
        "duration": 351,
        "start_time": "2023-12-22T10:15:27.733Z"
      },
      {
        "duration": 19,
        "start_time": "2023-12-22T10:15:28.086Z"
      },
      {
        "duration": 378,
        "start_time": "2023-12-22T10:15:28.107Z"
      },
      {
        "duration": 16,
        "start_time": "2023-12-22T10:15:28.487Z"
      },
      {
        "duration": 407,
        "start_time": "2023-12-22T10:15:28.505Z"
      },
      {
        "duration": 525,
        "start_time": "2023-12-22T10:15:28.913Z"
      },
      {
        "duration": 5,
        "start_time": "2023-12-22T10:15:29.440Z"
      },
      {
        "duration": 291,
        "start_time": "2023-12-22T10:15:29.446Z"
      },
      {
        "duration": 402,
        "start_time": "2023-12-22T10:15:29.738Z"
      },
      {
        "duration": 164,
        "start_time": "2023-12-22T10:15:30.142Z"
      },
      {
        "duration": 20,
        "start_time": "2023-12-22T10:15:30.308Z"
      },
      {
        "duration": 69,
        "start_time": "2023-12-22T10:15:30.329Z"
      },
      {
        "duration": 39,
        "start_time": "2023-12-22T10:15:30.400Z"
      },
      {
        "duration": 59,
        "start_time": "2023-12-22T10:15:30.441Z"
      },
      {
        "duration": 60,
        "start_time": "2023-12-22T10:15:30.502Z"
      },
      {
        "duration": 30,
        "start_time": "2023-12-22T10:15:30.563Z"
      },
      {
        "duration": 51,
        "start_time": "2023-12-22T10:15:30.594Z"
      },
      {
        "duration": 1763,
        "start_time": "2023-12-22T10:15:30.646Z"
      },
      {
        "duration": 13,
        "start_time": "2023-12-22T10:15:32.410Z"
      },
      {
        "duration": 127,
        "start_time": "2023-12-22T10:15:32.424Z"
      },
      {
        "duration": 14,
        "start_time": "2023-12-22T10:15:32.553Z"
      },
      {
        "duration": 40,
        "start_time": "2023-12-22T10:15:32.569Z"
      },
      {
        "duration": 25,
        "start_time": "2023-12-22T10:15:32.611Z"
      },
      {
        "duration": 33,
        "start_time": "2023-12-22T10:15:32.638Z"
      },
      {
        "duration": 33,
        "start_time": "2023-12-22T10:15:32.675Z"
      },
      {
        "duration": 26,
        "start_time": "2023-12-22T10:15:32.710Z"
      },
      {
        "duration": 10,
        "start_time": "2023-12-22T10:15:32.738Z"
      },
      {
        "duration": 6,
        "start_time": "2023-12-22T10:15:32.766Z"
      },
      {
        "duration": 8,
        "start_time": "2023-12-22T10:15:32.774Z"
      },
      {
        "duration": 5,
        "start_time": "2023-12-22T10:15:32.784Z"
      },
      {
        "duration": 18,
        "start_time": "2023-12-22T10:15:32.791Z"
      },
      {
        "duration": 22,
        "start_time": "2023-12-22T10:15:32.811Z"
      },
      {
        "duration": 524,
        "start_time": "2023-12-22T10:15:32.835Z"
      },
      {
        "duration": 302,
        "start_time": "2023-12-22T10:15:33.365Z"
      },
      {
        "duration": 15,
        "start_time": "2023-12-22T10:15:33.669Z"
      },
      {
        "duration": 111,
        "start_time": "2023-12-22T10:15:33.686Z"
      },
      {
        "duration": 7,
        "start_time": "2023-12-22T10:15:33.799Z"
      },
      {
        "duration": 31,
        "start_time": "2023-12-22T10:15:33.808Z"
      },
      {
        "duration": 12,
        "start_time": "2023-12-22T10:15:33.841Z"
      },
      {
        "duration": 17,
        "start_time": "2023-12-22T10:15:33.854Z"
      },
      {
        "duration": 292,
        "start_time": "2023-12-22T10:15:33.873Z"
      },
      {
        "duration": 322,
        "start_time": "2023-12-22T10:15:34.167Z"
      },
      {
        "duration": 7,
        "start_time": "2023-12-22T10:15:34.491Z"
      },
      {
        "duration": 341,
        "start_time": "2023-12-22T10:15:34.499Z"
      },
      {
        "duration": 7,
        "start_time": "2023-12-22T10:15:34.842Z"
      },
      {
        "duration": 27,
        "start_time": "2023-12-22T10:15:34.851Z"
      },
      {
        "duration": 19,
        "start_time": "2023-12-22T10:15:34.880Z"
      },
      {
        "duration": 13,
        "start_time": "2023-12-22T10:15:34.901Z"
      },
      {
        "duration": 26,
        "start_time": "2023-12-22T10:15:34.916Z"
      },
      {
        "duration": 8,
        "start_time": "2023-12-22T10:15:34.944Z"
      },
      {
        "duration": 18,
        "start_time": "2023-12-22T10:15:34.954Z"
      },
      {
        "duration": 23,
        "start_time": "2023-12-22T10:15:34.974Z"
      },
      {
        "duration": 3,
        "start_time": "2023-12-22T10:15:34.999Z"
      },
      {
        "duration": 23,
        "start_time": "2023-12-22T10:15:35.004Z"
      },
      {
        "duration": 43,
        "start_time": "2023-12-22T10:15:35.029Z"
      },
      {
        "duration": 56,
        "start_time": "2023-12-22T10:15:35.074Z"
      },
      {
        "duration": 42,
        "start_time": "2023-12-22T10:15:35.132Z"
      },
      {
        "duration": 34,
        "start_time": "2023-12-22T10:15:35.176Z"
      },
      {
        "duration": 33,
        "start_time": "2023-12-22T10:15:35.212Z"
      },
      {
        "duration": 1666,
        "start_time": "2023-12-22T10:15:35.247Z"
      },
      {
        "duration": 15,
        "start_time": "2023-12-22T10:15:36.915Z"
      },
      {
        "duration": 10,
        "start_time": "2023-12-22T10:53:13.385Z"
      },
      {
        "duration": 1537,
        "start_time": "2023-12-22T10:53:13.851Z"
      },
      {
        "duration": 15,
        "start_time": "2023-12-22T10:53:15.390Z"
      },
      {
        "duration": 9,
        "start_time": "2023-12-22T10:53:22.720Z"
      },
      {
        "duration": 1569,
        "start_time": "2023-12-22T10:53:23.556Z"
      },
      {
        "duration": 9,
        "start_time": "2023-12-22T10:53:35.478Z"
      },
      {
        "duration": 1697,
        "start_time": "2023-12-22T10:53:35.928Z"
      },
      {
        "duration": 17,
        "start_time": "2023-12-22T10:53:40.025Z"
      },
      {
        "duration": 72,
        "start_time": "2023-12-22T10:53:58.817Z"
      },
      {
        "duration": 17,
        "start_time": "2023-12-22T10:54:08.369Z"
      },
      {
        "duration": 17,
        "start_time": "2023-12-22T10:54:20.477Z"
      },
      {
        "duration": 9,
        "start_time": "2023-12-22T10:54:32.042Z"
      },
      {
        "duration": 1666,
        "start_time": "2023-12-22T10:54:32.454Z"
      },
      {
        "duration": 18,
        "start_time": "2023-12-22T10:54:34.559Z"
      },
      {
        "duration": 9,
        "start_time": "2023-12-22T10:54:52.854Z"
      },
      {
        "duration": 1658,
        "start_time": "2023-12-22T10:54:53.335Z"
      },
      {
        "duration": 18,
        "start_time": "2023-12-22T10:54:56.895Z"
      },
      {
        "duration": 8,
        "start_time": "2023-12-22T10:55:02.560Z"
      },
      {
        "duration": 1509,
        "start_time": "2023-12-22T10:55:02.831Z"
      },
      {
        "duration": 27,
        "start_time": "2023-12-22T10:55:04.342Z"
      },
      {
        "duration": 9,
        "start_time": "2023-12-22T10:55:13.771Z"
      },
      {
        "duration": 1603,
        "start_time": "2023-12-22T10:55:13.967Z"
      },
      {
        "duration": 18,
        "start_time": "2023-12-22T10:55:15.572Z"
      },
      {
        "duration": 10,
        "start_time": "2023-12-22T10:55:21.977Z"
      },
      {
        "duration": 1506,
        "start_time": "2023-12-22T10:55:22.359Z"
      },
      {
        "duration": 15,
        "start_time": "2023-12-22T10:55:23.867Z"
      },
      {
        "duration": 9,
        "start_time": "2023-12-22T10:55:29.811Z"
      },
      {
        "duration": 1565,
        "start_time": "2023-12-22T10:55:30.113Z"
      },
      {
        "duration": 9,
        "start_time": "2023-12-22T10:55:41.405Z"
      },
      {
        "duration": 1524,
        "start_time": "2023-12-22T10:55:41.795Z"
      },
      {
        "duration": 14,
        "start_time": "2023-12-22T10:55:43.321Z"
      },
      {
        "duration": 9,
        "start_time": "2023-12-22T10:55:51.339Z"
      },
      {
        "duration": 1495,
        "start_time": "2023-12-22T10:55:51.733Z"
      },
      {
        "duration": 14,
        "start_time": "2023-12-22T10:55:53.230Z"
      },
      {
        "duration": 8,
        "start_time": "2023-12-22T10:55:59.787Z"
      },
      {
        "duration": 1536,
        "start_time": "2023-12-22T10:56:00.207Z"
      },
      {
        "duration": 9,
        "start_time": "2023-12-22T10:56:09.100Z"
      },
      {
        "duration": 1540,
        "start_time": "2023-12-22T10:56:09.448Z"
      },
      {
        "duration": 16,
        "start_time": "2023-12-22T10:56:11.126Z"
      },
      {
        "duration": 9,
        "start_time": "2023-12-22T10:56:18.401Z"
      },
      {
        "duration": 1498,
        "start_time": "2023-12-22T10:56:18.780Z"
      },
      {
        "duration": 15,
        "start_time": "2023-12-22T10:56:20.280Z"
      },
      {
        "duration": 8,
        "start_time": "2023-12-22T10:56:28.309Z"
      },
      {
        "duration": 1544,
        "start_time": "2023-12-22T10:56:28.715Z"
      },
      {
        "duration": 25,
        "start_time": "2023-12-22T10:56:30.261Z"
      },
      {
        "duration": 9,
        "start_time": "2023-12-22T10:56:37.247Z"
      },
      {
        "duration": 1557,
        "start_time": "2023-12-22T10:56:37.682Z"
      },
      {
        "duration": 24,
        "start_time": "2023-12-22T10:56:39.241Z"
      },
      {
        "duration": 10,
        "start_time": "2023-12-22T10:57:36.846Z"
      },
      {
        "duration": 1454,
        "start_time": "2023-12-22T10:57:37.150Z"
      },
      {
        "duration": 17,
        "start_time": "2023-12-22T10:57:38.607Z"
      },
      {
        "duration": 9,
        "start_time": "2023-12-22T10:58:02.558Z"
      },
      {
        "duration": 1560,
        "start_time": "2023-12-22T10:58:02.948Z"
      },
      {
        "duration": 15,
        "start_time": "2023-12-22T10:58:05.054Z"
      },
      {
        "duration": 9,
        "start_time": "2023-12-22T10:58:58.234Z"
      },
      {
        "duration": 1479,
        "start_time": "2023-12-22T10:58:58.839Z"
      },
      {
        "duration": 16,
        "start_time": "2023-12-22T10:59:00.319Z"
      },
      {
        "duration": 9,
        "start_time": "2023-12-22T10:59:10.648Z"
      },
      {
        "duration": 1498,
        "start_time": "2023-12-22T10:59:11.073Z"
      },
      {
        "duration": 17,
        "start_time": "2023-12-22T10:59:12.573Z"
      },
      {
        "duration": 15,
        "start_time": "2023-12-22T10:59:20.088Z"
      },
      {
        "duration": 6915,
        "start_time": "2023-12-22T10:59:31.954Z"
      },
      {
        "duration": 214,
        "start_time": "2023-12-22T10:59:38.872Z"
      },
      {
        "duration": 13,
        "start_time": "2023-12-22T10:59:39.088Z"
      },
      {
        "duration": 17,
        "start_time": "2023-12-22T10:59:39.103Z"
      },
      {
        "duration": 13,
        "start_time": "2023-12-22T10:59:39.122Z"
      },
      {
        "duration": 27,
        "start_time": "2023-12-22T10:59:39.137Z"
      },
      {
        "duration": 10,
        "start_time": "2023-12-22T10:59:39.165Z"
      },
      {
        "duration": 22,
        "start_time": "2023-12-22T10:59:39.176Z"
      },
      {
        "duration": 6,
        "start_time": "2023-12-22T10:59:39.199Z"
      },
      {
        "duration": 34,
        "start_time": "2023-12-22T10:59:39.206Z"
      },
      {
        "duration": 33,
        "start_time": "2023-12-22T10:59:39.242Z"
      },
      {
        "duration": 30,
        "start_time": "2023-12-22T10:59:39.277Z"
      },
      {
        "duration": 14,
        "start_time": "2023-12-22T10:59:39.309Z"
      },
      {
        "duration": 639,
        "start_time": "2023-12-22T10:59:39.326Z"
      },
      {
        "duration": 106,
        "start_time": "2023-12-22T10:59:39.967Z"
      },
      {
        "duration": 5,
        "start_time": "2023-12-22T10:59:40.075Z"
      },
      {
        "duration": 322,
        "start_time": "2023-12-22T10:59:40.081Z"
      },
      {
        "duration": 17,
        "start_time": "2023-12-22T10:59:40.404Z"
      },
      {
        "duration": 361,
        "start_time": "2023-12-22T10:59:40.423Z"
      },
      {
        "duration": 18,
        "start_time": "2023-12-22T10:59:40.785Z"
      },
      {
        "duration": 393,
        "start_time": "2023-12-22T10:59:40.804Z"
      },
      {
        "duration": 474,
        "start_time": "2023-12-22T10:59:41.199Z"
      },
      {
        "duration": 4,
        "start_time": "2023-12-22T10:59:41.675Z"
      },
      {
        "duration": 257,
        "start_time": "2023-12-22T10:59:41.680Z"
      },
      {
        "duration": 364,
        "start_time": "2023-12-22T10:59:41.938Z"
      },
      {
        "duration": 149,
        "start_time": "2023-12-22T10:59:42.304Z"
      },
      {
        "duration": 24,
        "start_time": "2023-12-22T10:59:42.454Z"
      },
      {
        "duration": 24,
        "start_time": "2023-12-22T10:59:42.480Z"
      },
      {
        "duration": 38,
        "start_time": "2023-12-22T10:59:42.505Z"
      },
      {
        "duration": 41,
        "start_time": "2023-12-22T10:59:42.545Z"
      },
      {
        "duration": 38,
        "start_time": "2023-12-22T10:59:42.588Z"
      },
      {
        "duration": 44,
        "start_time": "2023-12-22T10:59:42.627Z"
      },
      {
        "duration": 27,
        "start_time": "2023-12-22T10:59:42.672Z"
      },
      {
        "duration": 1542,
        "start_time": "2023-12-22T10:59:42.700Z"
      },
      {
        "duration": 12,
        "start_time": "2023-12-22T10:59:44.243Z"
      },
      {
        "duration": 165,
        "start_time": "2023-12-22T10:59:44.265Z"
      },
      {
        "duration": 9,
        "start_time": "2023-12-22T10:59:44.432Z"
      },
      {
        "duration": 37,
        "start_time": "2023-12-22T10:59:44.443Z"
      },
      {
        "duration": 42,
        "start_time": "2023-12-22T10:59:44.481Z"
      },
      {
        "duration": 9,
        "start_time": "2023-12-22T10:59:44.524Z"
      },
      {
        "duration": 48,
        "start_time": "2023-12-22T10:59:44.537Z"
      },
      {
        "duration": 19,
        "start_time": "2023-12-22T10:59:44.587Z"
      },
      {
        "duration": 17,
        "start_time": "2023-12-22T10:59:44.607Z"
      },
      {
        "duration": 27,
        "start_time": "2023-12-22T10:59:44.625Z"
      },
      {
        "duration": 19,
        "start_time": "2023-12-22T10:59:44.653Z"
      },
      {
        "duration": 26,
        "start_time": "2023-12-22T10:59:44.673Z"
      },
      {
        "duration": 26,
        "start_time": "2023-12-22T10:59:44.700Z"
      },
      {
        "duration": 55,
        "start_time": "2023-12-22T10:59:44.727Z"
      },
      {
        "duration": 464,
        "start_time": "2023-12-22T10:59:44.784Z"
      },
      {
        "duration": 265,
        "start_time": "2023-12-22T10:59:45.249Z"
      },
      {
        "duration": 13,
        "start_time": "2023-12-22T10:59:45.516Z"
      },
      {
        "duration": 102,
        "start_time": "2023-12-22T10:59:45.531Z"
      },
      {
        "duration": 6,
        "start_time": "2023-12-22T10:59:45.635Z"
      },
      {
        "duration": 37,
        "start_time": "2023-12-22T10:59:45.643Z"
      },
      {
        "duration": 27,
        "start_time": "2023-12-22T10:59:45.682Z"
      },
      {
        "duration": 29,
        "start_time": "2023-12-22T10:59:45.710Z"
      },
      {
        "duration": 295,
        "start_time": "2023-12-22T10:59:45.741Z"
      },
      {
        "duration": 332,
        "start_time": "2023-12-22T10:59:46.037Z"
      },
      {
        "duration": 7,
        "start_time": "2023-12-22T10:59:46.370Z"
      },
      {
        "duration": 382,
        "start_time": "2023-12-22T10:59:46.379Z"
      },
      {
        "duration": 6,
        "start_time": "2023-12-22T10:59:46.766Z"
      },
      {
        "duration": 18,
        "start_time": "2023-12-22T10:59:46.774Z"
      },
      {
        "duration": 13,
        "start_time": "2023-12-22T10:59:46.794Z"
      },
      {
        "duration": 15,
        "start_time": "2023-12-22T10:59:46.809Z"
      },
      {
        "duration": 7,
        "start_time": "2023-12-22T10:59:46.825Z"
      },
      {
        "duration": 6,
        "start_time": "2023-12-22T10:59:46.833Z"
      },
      {
        "duration": 34,
        "start_time": "2023-12-22T10:59:46.840Z"
      },
      {
        "duration": 14,
        "start_time": "2023-12-22T10:59:46.876Z"
      },
      {
        "duration": 3,
        "start_time": "2023-12-22T10:59:46.892Z"
      },
      {
        "duration": 19,
        "start_time": "2023-12-22T10:59:46.897Z"
      },
      {
        "duration": 46,
        "start_time": "2023-12-22T10:59:46.917Z"
      },
      {
        "duration": 8,
        "start_time": "2023-12-22T10:59:46.964Z"
      },
      {
        "duration": 10,
        "start_time": "2023-12-22T10:59:46.973Z"
      },
      {
        "duration": 14,
        "start_time": "2023-12-22T10:59:46.984Z"
      },
      {
        "duration": 10,
        "start_time": "2023-12-22T10:59:47.000Z"
      },
      {
        "duration": 1458,
        "start_time": "2023-12-22T10:59:47.011Z"
      },
      {
        "duration": 14,
        "start_time": "2023-12-22T10:59:48.471Z"
      },
      {
        "duration": 8,
        "start_time": "2023-12-22T11:00:17.252Z"
      },
      {
        "duration": 1510,
        "start_time": "2023-12-22T11:00:17.524Z"
      },
      {
        "duration": 15,
        "start_time": "2023-12-22T11:00:19.036Z"
      },
      {
        "duration": 9,
        "start_time": "2023-12-22T11:00:31.675Z"
      },
      {
        "duration": 1484,
        "start_time": "2023-12-22T11:00:31.865Z"
      },
      {
        "duration": 19,
        "start_time": "2023-12-22T11:00:33.351Z"
      },
      {
        "duration": 9,
        "start_time": "2023-12-22T11:00:48.768Z"
      },
      {
        "duration": 1578,
        "start_time": "2023-12-22T11:00:49.203Z"
      },
      {
        "duration": 15,
        "start_time": "2023-12-22T11:00:50.782Z"
      },
      {
        "duration": 10,
        "start_time": "2023-12-22T11:01:11.840Z"
      },
      {
        "duration": 1631,
        "start_time": "2023-12-22T11:01:12.292Z"
      },
      {
        "duration": 17,
        "start_time": "2023-12-22T11:01:13.924Z"
      },
      {
        "duration": 9,
        "start_time": "2023-12-22T11:01:20.597Z"
      },
      {
        "duration": 1562,
        "start_time": "2023-12-22T11:01:20.879Z"
      },
      {
        "duration": 15,
        "start_time": "2023-12-22T11:01:22.442Z"
      },
      {
        "duration": 10,
        "start_time": "2023-12-22T11:01:32.039Z"
      },
      {
        "duration": 7210,
        "start_time": "2023-12-22T11:01:36.331Z"
      },
      {
        "duration": 143,
        "start_time": "2023-12-22T11:01:43.543Z"
      },
      {
        "duration": 14,
        "start_time": "2023-12-22T11:01:43.687Z"
      },
      {
        "duration": 24,
        "start_time": "2023-12-22T11:01:43.703Z"
      },
      {
        "duration": 38,
        "start_time": "2023-12-22T11:01:43.729Z"
      },
      {
        "duration": 9,
        "start_time": "2023-12-22T11:01:43.768Z"
      },
      {
        "duration": 23,
        "start_time": "2023-12-22T11:01:43.778Z"
      },
      {
        "duration": 44,
        "start_time": "2023-12-22T11:01:43.803Z"
      },
      {
        "duration": 19,
        "start_time": "2023-12-22T11:01:43.848Z"
      },
      {
        "duration": 62,
        "start_time": "2023-12-22T11:01:43.869Z"
      },
      {
        "duration": 24,
        "start_time": "2023-12-22T11:01:43.932Z"
      },
      {
        "duration": 35,
        "start_time": "2023-12-22T11:01:43.958Z"
      },
      {
        "duration": 25,
        "start_time": "2023-12-22T11:01:43.994Z"
      },
      {
        "duration": 406,
        "start_time": "2023-12-22T11:01:44.020Z"
      },
      {
        "duration": 105,
        "start_time": "2023-12-22T11:01:44.428Z"
      },
      {
        "duration": 6,
        "start_time": "2023-12-22T11:01:44.535Z"
      },
      {
        "duration": 337,
        "start_time": "2023-12-22T11:01:44.542Z"
      },
      {
        "duration": 18,
        "start_time": "2023-12-22T11:01:44.881Z"
      },
      {
        "duration": 376,
        "start_time": "2023-12-22T11:01:44.901Z"
      },
      {
        "duration": 17,
        "start_time": "2023-12-22T11:01:45.279Z"
      },
      {
        "duration": 383,
        "start_time": "2023-12-22T11:01:45.297Z"
      },
      {
        "duration": 525,
        "start_time": "2023-12-22T11:01:45.682Z"
      },
      {
        "duration": 4,
        "start_time": "2023-12-22T11:01:46.208Z"
      },
      {
        "duration": 272,
        "start_time": "2023-12-22T11:01:46.214Z"
      },
      {
        "duration": 363,
        "start_time": "2023-12-22T11:01:46.487Z"
      },
      {
        "duration": 151,
        "start_time": "2023-12-22T11:01:46.851Z"
      },
      {
        "duration": 18,
        "start_time": "2023-12-22T11:01:47.003Z"
      },
      {
        "duration": 15,
        "start_time": "2023-12-22T11:01:47.025Z"
      },
      {
        "duration": 15,
        "start_time": "2023-12-22T11:01:47.041Z"
      },
      {
        "duration": 26,
        "start_time": "2023-12-22T11:01:47.058Z"
      },
      {
        "duration": 35,
        "start_time": "2023-12-22T11:01:47.085Z"
      },
      {
        "duration": 18,
        "start_time": "2023-12-22T11:01:47.121Z"
      },
      {
        "duration": 20,
        "start_time": "2023-12-22T11:01:47.141Z"
      },
      {
        "duration": 1514,
        "start_time": "2023-12-22T11:01:47.162Z"
      },
      {
        "duration": 12,
        "start_time": "2023-12-22T11:01:48.678Z"
      },
      {
        "duration": 131,
        "start_time": "2023-12-22T11:01:48.691Z"
      },
      {
        "duration": 10,
        "start_time": "2023-12-22T11:01:48.824Z"
      },
      {
        "duration": 37,
        "start_time": "2023-12-22T11:01:48.836Z"
      },
      {
        "duration": 39,
        "start_time": "2023-12-22T11:01:48.875Z"
      },
      {
        "duration": 10,
        "start_time": "2023-12-22T11:01:48.916Z"
      },
      {
        "duration": 46,
        "start_time": "2023-12-22T11:01:48.928Z"
      },
      {
        "duration": 23,
        "start_time": "2023-12-22T11:01:48.975Z"
      },
      {
        "duration": 18,
        "start_time": "2023-12-22T11:01:49.000Z"
      },
      {
        "duration": 37,
        "start_time": "2023-12-22T11:01:49.020Z"
      },
      {
        "duration": 21,
        "start_time": "2023-12-22T11:01:49.059Z"
      },
      {
        "duration": 29,
        "start_time": "2023-12-22T11:01:49.082Z"
      },
      {
        "duration": 29,
        "start_time": "2023-12-22T11:01:49.113Z"
      },
      {
        "duration": 35,
        "start_time": "2023-12-22T11:01:49.143Z"
      },
      {
        "duration": 471,
        "start_time": "2023-12-22T11:01:49.180Z"
      },
      {
        "duration": 273,
        "start_time": "2023-12-22T11:01:49.652Z"
      },
      {
        "duration": 14,
        "start_time": "2023-12-22T11:01:49.927Z"
      },
      {
        "duration": 113,
        "start_time": "2023-12-22T11:01:49.943Z"
      },
      {
        "duration": 11,
        "start_time": "2023-12-22T11:01:50.057Z"
      },
      {
        "duration": 44,
        "start_time": "2023-12-22T11:01:50.069Z"
      },
      {
        "duration": 44,
        "start_time": "2023-12-22T11:01:50.115Z"
      },
      {
        "duration": 51,
        "start_time": "2023-12-22T11:01:50.161Z"
      },
      {
        "duration": 305,
        "start_time": "2023-12-22T11:01:50.213Z"
      },
      {
        "duration": 309,
        "start_time": "2023-12-22T11:01:50.519Z"
      },
      {
        "duration": 7,
        "start_time": "2023-12-22T11:01:50.829Z"
      },
      {
        "duration": 340,
        "start_time": "2023-12-22T11:01:50.837Z"
      },
      {
        "duration": 7,
        "start_time": "2023-12-22T11:01:51.179Z"
      },
      {
        "duration": 54,
        "start_time": "2023-12-22T11:01:51.187Z"
      },
      {
        "duration": 31,
        "start_time": "2023-12-22T11:01:51.243Z"
      },
      {
        "duration": 40,
        "start_time": "2023-12-22T11:01:51.276Z"
      },
      {
        "duration": 27,
        "start_time": "2023-12-22T11:01:51.317Z"
      },
      {
        "duration": 24,
        "start_time": "2023-12-22T11:01:51.345Z"
      },
      {
        "duration": 37,
        "start_time": "2023-12-22T11:01:51.370Z"
      },
      {
        "duration": 21,
        "start_time": "2023-12-22T11:01:51.409Z"
      },
      {
        "duration": 15,
        "start_time": "2023-12-22T11:01:51.431Z"
      },
      {
        "duration": 17,
        "start_time": "2023-12-22T11:01:51.447Z"
      },
      {
        "duration": 43,
        "start_time": "2023-12-22T11:01:51.465Z"
      },
      {
        "duration": 18,
        "start_time": "2023-12-22T11:01:51.510Z"
      },
      {
        "duration": 40,
        "start_time": "2023-12-22T11:01:51.530Z"
      },
      {
        "duration": 23,
        "start_time": "2023-12-22T11:01:51.572Z"
      },
      {
        "duration": 30,
        "start_time": "2023-12-22T11:01:51.597Z"
      },
      {
        "duration": 1555,
        "start_time": "2023-12-22T11:01:51.629Z"
      },
      {
        "duration": 16,
        "start_time": "2023-12-22T11:01:53.186Z"
      },
      {
        "duration": 8,
        "start_time": "2023-12-22T11:04:39.524Z"
      },
      {
        "duration": 1507,
        "start_time": "2023-12-22T11:04:43.068Z"
      },
      {
        "duration": 13,
        "start_time": "2023-12-22T11:04:46.823Z"
      },
      {
        "duration": 7004,
        "start_time": "2023-12-22T11:04:54.663Z"
      },
      {
        "duration": 234,
        "start_time": "2023-12-22T11:05:01.669Z"
      },
      {
        "duration": 19,
        "start_time": "2023-12-22T11:05:01.904Z"
      },
      {
        "duration": 102,
        "start_time": "2023-12-22T11:05:01.925Z"
      },
      {
        "duration": 61,
        "start_time": "2023-12-22T11:05:02.029Z"
      },
      {
        "duration": 34,
        "start_time": "2023-12-22T11:05:02.092Z"
      },
      {
        "duration": 25,
        "start_time": "2023-12-22T11:05:02.127Z"
      },
      {
        "duration": 40,
        "start_time": "2023-12-22T11:05:02.153Z"
      },
      {
        "duration": 17,
        "start_time": "2023-12-22T11:05:02.195Z"
      },
      {
        "duration": 39,
        "start_time": "2023-12-22T11:05:02.215Z"
      },
      {
        "duration": 22,
        "start_time": "2023-12-22T11:05:02.256Z"
      },
      {
        "duration": 27,
        "start_time": "2023-12-22T11:05:02.280Z"
      },
      {
        "duration": 14,
        "start_time": "2023-12-22T11:05:02.308Z"
      },
      {
        "duration": 414,
        "start_time": "2023-12-22T11:05:02.323Z"
      },
      {
        "duration": 104,
        "start_time": "2023-12-22T11:05:02.739Z"
      },
      {
        "duration": 6,
        "start_time": "2023-12-22T11:05:02.844Z"
      },
      {
        "duration": 346,
        "start_time": "2023-12-22T11:05:02.851Z"
      },
      {
        "duration": 17,
        "start_time": "2023-12-22T11:05:03.199Z"
      },
      {
        "duration": 379,
        "start_time": "2023-12-22T11:05:03.218Z"
      },
      {
        "duration": 17,
        "start_time": "2023-12-22T11:05:03.598Z"
      },
      {
        "duration": 407,
        "start_time": "2023-12-22T11:05:03.616Z"
      },
      {
        "duration": 508,
        "start_time": "2023-12-22T11:05:04.024Z"
      },
      {
        "duration": 4,
        "start_time": "2023-12-22T11:05:04.534Z"
      },
      {
        "duration": 277,
        "start_time": "2023-12-22T11:05:04.539Z"
      },
      {
        "duration": 353,
        "start_time": "2023-12-22T11:05:04.818Z"
      },
      {
        "duration": 150,
        "start_time": "2023-12-22T11:05:05.173Z"
      },
      {
        "duration": 18,
        "start_time": "2023-12-22T11:05:05.324Z"
      },
      {
        "duration": 20,
        "start_time": "2023-12-22T11:05:05.345Z"
      },
      {
        "duration": 13,
        "start_time": "2023-12-22T11:05:05.367Z"
      },
      {
        "duration": 23,
        "start_time": "2023-12-22T11:05:05.382Z"
      },
      {
        "duration": 37,
        "start_time": "2023-12-22T11:05:05.406Z"
      },
      {
        "duration": 18,
        "start_time": "2023-12-22T11:05:05.444Z"
      },
      {
        "duration": 23,
        "start_time": "2023-12-22T11:05:05.464Z"
      },
      {
        "duration": 1626,
        "start_time": "2023-12-22T11:05:05.489Z"
      },
      {
        "duration": 11,
        "start_time": "2023-12-22T11:05:07.116Z"
      },
      {
        "duration": 98,
        "start_time": "2023-12-22T11:05:07.129Z"
      },
      {
        "duration": 10,
        "start_time": "2023-12-22T11:05:07.229Z"
      },
      {
        "duration": 31,
        "start_time": "2023-12-22T11:05:07.241Z"
      },
      {
        "duration": 24,
        "start_time": "2023-12-22T11:05:07.273Z"
      },
      {
        "duration": 9,
        "start_time": "2023-12-22T11:05:07.298Z"
      },
      {
        "duration": 18,
        "start_time": "2023-12-22T11:05:07.309Z"
      },
      {
        "duration": 45,
        "start_time": "2023-12-22T11:05:07.328Z"
      },
      {
        "duration": 7,
        "start_time": "2023-12-22T11:05:07.375Z"
      },
      {
        "duration": 7,
        "start_time": "2023-12-22T11:05:07.383Z"
      },
      {
        "duration": 21,
        "start_time": "2023-12-22T11:05:07.391Z"
      },
      {
        "duration": 5,
        "start_time": "2023-12-22T11:05:07.413Z"
      },
      {
        "duration": 13,
        "start_time": "2023-12-22T11:05:07.419Z"
      },
      {
        "duration": 13,
        "start_time": "2023-12-22T11:05:07.434Z"
      },
      {
        "duration": 488,
        "start_time": "2023-12-22T11:05:07.448Z"
      },
      {
        "duration": 280,
        "start_time": "2023-12-22T11:05:07.938Z"
      },
      {
        "duration": 14,
        "start_time": "2023-12-22T11:05:08.220Z"
      },
      {
        "duration": 114,
        "start_time": "2023-12-22T11:05:08.235Z"
      },
      {
        "duration": 15,
        "start_time": "2023-12-22T11:05:08.351Z"
      },
      {
        "duration": 27,
        "start_time": "2023-12-22T11:05:08.368Z"
      },
      {
        "duration": 23,
        "start_time": "2023-12-22T11:05:08.396Z"
      },
      {
        "duration": 28,
        "start_time": "2023-12-22T11:05:08.421Z"
      },
      {
        "duration": 273,
        "start_time": "2023-12-22T11:05:08.450Z"
      },
      {
        "duration": 358,
        "start_time": "2023-12-22T11:05:08.725Z"
      },
      {
        "duration": 7,
        "start_time": "2023-12-22T11:05:09.085Z"
      },
      {
        "duration": 319,
        "start_time": "2023-12-22T11:05:09.093Z"
      },
      {
        "duration": 7,
        "start_time": "2023-12-22T11:05:09.413Z"
      },
      {
        "duration": 21,
        "start_time": "2023-12-22T11:05:09.421Z"
      },
      {
        "duration": 28,
        "start_time": "2023-12-22T11:05:09.444Z"
      },
      {
        "duration": 31,
        "start_time": "2023-12-22T11:05:09.474Z"
      },
      {
        "duration": 26,
        "start_time": "2023-12-22T11:05:09.506Z"
      },
      {
        "duration": 22,
        "start_time": "2023-12-22T11:05:09.533Z"
      },
      {
        "duration": 15,
        "start_time": "2023-12-22T11:05:09.556Z"
      },
      {
        "duration": 22,
        "start_time": "2023-12-22T11:05:09.572Z"
      },
      {
        "duration": 5,
        "start_time": "2023-12-22T11:05:09.595Z"
      },
      {
        "duration": 18,
        "start_time": "2023-12-22T11:05:09.601Z"
      },
      {
        "duration": 10,
        "start_time": "2023-12-22T11:05:09.620Z"
      },
      {
        "duration": 4,
        "start_time": "2023-12-22T11:05:09.631Z"
      },
      {
        "duration": 7,
        "start_time": "2023-12-22T11:05:09.636Z"
      },
      {
        "duration": 5,
        "start_time": "2023-12-22T11:05:09.644Z"
      },
      {
        "duration": 13,
        "start_time": "2023-12-22T11:05:09.650Z"
      },
      {
        "duration": 1612,
        "start_time": "2023-12-22T11:05:09.664Z"
      },
      {
        "duration": 16,
        "start_time": "2023-12-22T11:05:11.278Z"
      }
    ],
    "toc": {
      "base_numbering": 1,
      "nav_menu": {},
      "number_sections": true,
      "sideBar": true,
      "skip_h1_title": true,
      "title_cell": "Table of Contents",
      "title_sidebar": "Contents",
      "toc_cell": false,
      "toc_position": {
        "height": "calc(100% - 180px)",
        "left": "10px",
        "top": "150px",
        "width": "165px"
      },
      "toc_section_display": true,
      "toc_window_display": true
    }
  },
  "nbformat_minor": 5,
  "nbformat": 4,
  "cells": [
    {
      "id": "fe629a58",
      "cell_type": "markdown",
      "source": "<font color='green' size=+2><b>Самостоятельный проект: Сборный проект —2</b></font><br>",
      "metadata": {}
    },
    {
      "id": "b87ed560",
      "cell_type": "markdown",
      "source": "<font color='lightcoral'><b>Краткое описание исследования</b></font><br>\nНам предоставили данные компании «Работа с заботой», HR-аналитики которой помогают бизнесу оптимизировать управление персоналом: бизнес предоставляет данные, а аналитики предлагают, как избежать финансовых потерь и оттока сотрудников. В этом HR-аналитикам пригодится машинное обучение, с помощью которого получится быстрее и точнее отвечать на вопросы бизнеса.\nКомпания большая, и всех сотрудников надо сначала оповестить об опросе, а затем проследить, что все его прошли. Этот процесс занимает немало времени и других трудозатрат. \n\n<font color='lightcoral'><b>Цель исследования</b></font><br>\nНам предстоит решить следующие задачи:\n- построить модель, которая сможет предсказать уровень удовлетворённости сотрудника на основе данных заказчика.\n- построить модель, которая сможет на основе данных заказчика предсказать то, что сотрудник уволится из компании.\n\n<font color='lightcoral'><b>Задачи исследования</b></font><br>\n- загрузить и ознакомится с данными, просмотреть нет ли в них пропусков/дублей/опечаток и тд.\n- визуализировать количественные и качественные признаки, для поиска и определения выбросов\n- провести исследовательский анализ, постараться выделить группы сотрудников и изучить данные детальнее внутри групп\n- провести корреляционный анализ, посмотреть какие признаки зависят друг от друга, и при возможности - определить тип этой зависимости\n- с помощью pipeline определить лучшую модель, которая поможет нам предсказать уровень удовлетворенности работой и вероятность увольнения сотрудника\n\n<font color='lightcoral'><b>Исходные данные</b></font><br>\nВ обоих задачах, заказчик заранее разделил данные на 3 выборки - тренировочную, тестовые входные признаки и тестовый целевой признак.\n- id — уникальный идентификатор сотрудника;\n- dept — отдел, в котором работает сотрудник;\n- level — уровень занимаемой должности;\n- workload — уровень загруженности сотрудника;\n- employment_years — длительность работы в компании (в годах);\n- last_year_promo — показывает, было ли повышение за последний год;\n- last_year_violations — показывает, нарушал ли сотрудник трудовой договор за последний год;\n- supervisor_evaluation — оценка качества работы сотрудника, которую дал руководитель;\n- salary — ежемесячная зарплата сотрудника;\n- job_satisfaction_rate — уровень удовлетворённости сотрудника работой в компании, целевой признак.",
      "metadata": {}
    },
    {
      "id": "271854dc",
      "cell_type": "markdown",
      "source": "<font color='green' size=+2><b>Задача 1</b></font><br>",
      "metadata": {}
    },
    {
      "id": "4a01861f",
      "cell_type": "markdown",
      "source": "<font color='green' size=+2><b>1.1. Загрузка и предобработка данных</b></font><br>",
      "metadata": {}
    },
    {
      "id": "f8e5ae51",
      "cell_type": "code",
      "source": "!pip install shap -q\n!pip install scikit-learn==1.3.2 -q\nimport pandas as pd\nimport numpy as np\nfrom matplotlib import pyplot\nimport matplotlib.pyplot as plt\nimport seaborn as sns\n\nfrom sklearn.model_selection import train_test_split, GridSearchCV, RandomizedSearchCV\nfrom sklearn.pipeline import Pipeline\nfrom sklearn.preprocessing import OneHotEncoder, OrdinalEncoder, StandardScaler, MinMaxScaler, RobustScaler\nfrom sklearn.compose import ColumnTransformer\nfrom sklearn.impute import SimpleImputer\nfrom sklearn.metrics import recall_score, mean_absolute_error, make_scorer, roc_auc_score\nfrom sklearn.svm import SVC\nfrom sklearn.feature_selection import SelectKBest, f_classif, mutual_info_classif\nfrom sklearn.ensemble import RandomForestClassifier\nfrom sklearn.preprocessing import LabelEncoder\n\nfrom sklearn.datasets import make_classification\nimport shap\n\nfrom sklearn.linear_model import LinearRegression, LogisticRegression\nfrom sklearn.neighbors import KNeighborsClassifier\nfrom sklearn.tree import DecisionTreeRegressor, DecisionTreeClassifier\nfrom sklearn.ensemble import RandomForestRegressor\n\nimport warnings\nwarnings.filterwarnings('ignore')\n\nRANDOM_STATE = 42\nTEST_SIZE = 0.25",
      "metadata": {},
      "outputs": [],
      "execution_count": 1
    },
    {
      "id": "782c51b5",
      "cell_type": "code",
      "source": "df = pd.read_csv('train_job_satisfaction_rate.csv', delimiter=',', decimal='.')\nfeatures = pd.read_csv('test_features.csv', delimiter=',', decimal='.')\ntarget = pd.read_csv('test_target_job_satisfaction_rate.csv', delimiter=',', decimal='.')",
      "metadata": {},
      "outputs": [],
      "execution_count": 2
    },
    {
      "id": "1b656b73",
      "cell_type": "code",
      "source": "df.head()",
      "metadata": {},
      "outputs": [
        {
          "data": {
            "text/html": [
              "<div>\n",
              "<style scoped>\n",
              "    .dataframe tbody tr th:only-of-type {\n",
              "        vertical-align: middle;\n",
              "    }\n",
              "\n",
              "    .dataframe tbody tr th {\n",
              "        vertical-align: top;\n",
              "    }\n",
              "\n",
              "    .dataframe thead th {\n",
              "        text-align: right;\n",
              "    }\n",
              "</style>\n",
              "<table border=\"1\" class=\"dataframe\">\n",
              "  <thead>\n",
              "    <tr style=\"text-align: right;\">\n",
              "      <th></th>\n",
              "      <th>id</th>\n",
              "      <th>dept</th>\n",
              "      <th>level</th>\n",
              "      <th>workload</th>\n",
              "      <th>employment_years</th>\n",
              "      <th>last_year_promo</th>\n",
              "      <th>last_year_violations</th>\n",
              "      <th>supervisor_evaluation</th>\n",
              "      <th>salary</th>\n",
              "      <th>job_satisfaction_rate</th>\n",
              "    </tr>\n",
              "  </thead>\n",
              "  <tbody>\n",
              "    <tr>\n",
              "      <th>0</th>\n",
              "      <td>155278</td>\n",
              "      <td>sales</td>\n",
              "      <td>junior</td>\n",
              "      <td>medium</td>\n",
              "      <td>2</td>\n",
              "      <td>no</td>\n",
              "      <td>no</td>\n",
              "      <td>1</td>\n",
              "      <td>24000</td>\n",
              "      <td>0.58</td>\n",
              "    </tr>\n",
              "    <tr>\n",
              "      <th>1</th>\n",
              "      <td>653870</td>\n",
              "      <td>hr</td>\n",
              "      <td>junior</td>\n",
              "      <td>high</td>\n",
              "      <td>2</td>\n",
              "      <td>no</td>\n",
              "      <td>no</td>\n",
              "      <td>5</td>\n",
              "      <td>38400</td>\n",
              "      <td>0.76</td>\n",
              "    </tr>\n",
              "    <tr>\n",
              "      <th>2</th>\n",
              "      <td>184592</td>\n",
              "      <td>sales</td>\n",
              "      <td>junior</td>\n",
              "      <td>low</td>\n",
              "      <td>1</td>\n",
              "      <td>no</td>\n",
              "      <td>no</td>\n",
              "      <td>2</td>\n",
              "      <td>12000</td>\n",
              "      <td>0.11</td>\n",
              "    </tr>\n",
              "    <tr>\n",
              "      <th>3</th>\n",
              "      <td>171431</td>\n",
              "      <td>technology</td>\n",
              "      <td>junior</td>\n",
              "      <td>low</td>\n",
              "      <td>4</td>\n",
              "      <td>no</td>\n",
              "      <td>no</td>\n",
              "      <td>2</td>\n",
              "      <td>18000</td>\n",
              "      <td>0.37</td>\n",
              "    </tr>\n",
              "    <tr>\n",
              "      <th>4</th>\n",
              "      <td>693419</td>\n",
              "      <td>hr</td>\n",
              "      <td>junior</td>\n",
              "      <td>medium</td>\n",
              "      <td>1</td>\n",
              "      <td>no</td>\n",
              "      <td>no</td>\n",
              "      <td>3</td>\n",
              "      <td>22800</td>\n",
              "      <td>0.20</td>\n",
              "    </tr>\n",
              "  </tbody>\n",
              "</table>\n",
              "</div>"
            ],
            "text/plain": [
              "       id        dept   level workload  employment_years last_year_promo  \\\n",
              "0  155278       sales  junior   medium                 2              no   \n",
              "1  653870          hr  junior     high                 2              no   \n",
              "2  184592       sales  junior      low                 1              no   \n",
              "3  171431  technology  junior      low                 4              no   \n",
              "4  693419          hr  junior   medium                 1              no   \n",
              "\n",
              "  last_year_violations  supervisor_evaluation  salary  job_satisfaction_rate  \n",
              "0                   no                      1   24000                   0.58  \n",
              "1                   no                      5   38400                   0.76  \n",
              "2                   no                      2   12000                   0.11  \n",
              "3                   no                      2   18000                   0.37  \n",
              "4                   no                      3   22800                   0.20  "
            ]
          },
          "execution_count": 3,
          "metadata": {},
          "output_type": "execute_result"
        }
      ],
      "execution_count": 3
    },
    {
      "id": "0f8bc33d",
      "cell_type": "code",
      "source": "features.head()",
      "metadata": {},
      "outputs": [
        {
          "data": {
            "text/html": [
              "<div>\n",
              "<style scoped>\n",
              "    .dataframe tbody tr th:only-of-type {\n",
              "        vertical-align: middle;\n",
              "    }\n",
              "\n",
              "    .dataframe tbody tr th {\n",
              "        vertical-align: top;\n",
              "    }\n",
              "\n",
              "    .dataframe thead th {\n",
              "        text-align: right;\n",
              "    }\n",
              "</style>\n",
              "<table border=\"1\" class=\"dataframe\">\n",
              "  <thead>\n",
              "    <tr style=\"text-align: right;\">\n",
              "      <th></th>\n",
              "      <th>id</th>\n",
              "      <th>dept</th>\n",
              "      <th>level</th>\n",
              "      <th>workload</th>\n",
              "      <th>employment_years</th>\n",
              "      <th>last_year_promo</th>\n",
              "      <th>last_year_violations</th>\n",
              "      <th>supervisor_evaluation</th>\n",
              "      <th>salary</th>\n",
              "    </tr>\n",
              "  </thead>\n",
              "  <tbody>\n",
              "    <tr>\n",
              "      <th>0</th>\n",
              "      <td>485046</td>\n",
              "      <td>marketing</td>\n",
              "      <td>junior</td>\n",
              "      <td>medium</td>\n",
              "      <td>2</td>\n",
              "      <td>no</td>\n",
              "      <td>no</td>\n",
              "      <td>5</td>\n",
              "      <td>28800</td>\n",
              "    </tr>\n",
              "    <tr>\n",
              "      <th>1</th>\n",
              "      <td>686555</td>\n",
              "      <td>hr</td>\n",
              "      <td>junior</td>\n",
              "      <td>medium</td>\n",
              "      <td>1</td>\n",
              "      <td>no</td>\n",
              "      <td>no</td>\n",
              "      <td>4</td>\n",
              "      <td>30000</td>\n",
              "    </tr>\n",
              "    <tr>\n",
              "      <th>2</th>\n",
              "      <td>467458</td>\n",
              "      <td>sales</td>\n",
              "      <td>middle</td>\n",
              "      <td>low</td>\n",
              "      <td>5</td>\n",
              "      <td>no</td>\n",
              "      <td>no</td>\n",
              "      <td>4</td>\n",
              "      <td>19200</td>\n",
              "    </tr>\n",
              "    <tr>\n",
              "      <th>3</th>\n",
              "      <td>418655</td>\n",
              "      <td>sales</td>\n",
              "      <td>middle</td>\n",
              "      <td>low</td>\n",
              "      <td>6</td>\n",
              "      <td>no</td>\n",
              "      <td>no</td>\n",
              "      <td>4</td>\n",
              "      <td>19200</td>\n",
              "    </tr>\n",
              "    <tr>\n",
              "      <th>4</th>\n",
              "      <td>789145</td>\n",
              "      <td>hr</td>\n",
              "      <td>middle</td>\n",
              "      <td>medium</td>\n",
              "      <td>5</td>\n",
              "      <td>no</td>\n",
              "      <td>no</td>\n",
              "      <td>5</td>\n",
              "      <td>40800</td>\n",
              "    </tr>\n",
              "  </tbody>\n",
              "</table>\n",
              "</div>"
            ],
            "text/plain": [
              "       id       dept   level workload  employment_years last_year_promo  \\\n",
              "0  485046  marketing  junior   medium                 2              no   \n",
              "1  686555         hr  junior   medium                 1              no   \n",
              "2  467458      sales  middle      low                 5              no   \n",
              "3  418655      sales  middle      low                 6              no   \n",
              "4  789145         hr  middle   medium                 5              no   \n",
              "\n",
              "  last_year_violations  supervisor_evaluation  salary  \n",
              "0                   no                      5   28800  \n",
              "1                   no                      4   30000  \n",
              "2                   no                      4   19200  \n",
              "3                   no                      4   19200  \n",
              "4                   no                      5   40800  "
            ]
          },
          "execution_count": 4,
          "metadata": {},
          "output_type": "execute_result"
        }
      ],
      "execution_count": 4
    },
    {
      "id": "90409719",
      "cell_type": "code",
      "source": "target.head()",
      "metadata": {},
      "outputs": [
        {
          "data": {
            "text/html": [
              "<div>\n",
              "<style scoped>\n",
              "    .dataframe tbody tr th:only-of-type {\n",
              "        vertical-align: middle;\n",
              "    }\n",
              "\n",
              "    .dataframe tbody tr th {\n",
              "        vertical-align: top;\n",
              "    }\n",
              "\n",
              "    .dataframe thead th {\n",
              "        text-align: right;\n",
              "    }\n",
              "</style>\n",
              "<table border=\"1\" class=\"dataframe\">\n",
              "  <thead>\n",
              "    <tr style=\"text-align: right;\">\n",
              "      <th></th>\n",
              "      <th>id</th>\n",
              "      <th>job_satisfaction_rate</th>\n",
              "    </tr>\n",
              "  </thead>\n",
              "  <tbody>\n",
              "    <tr>\n",
              "      <th>0</th>\n",
              "      <td>130604</td>\n",
              "      <td>0.74</td>\n",
              "    </tr>\n",
              "    <tr>\n",
              "      <th>1</th>\n",
              "      <td>825977</td>\n",
              "      <td>0.75</td>\n",
              "    </tr>\n",
              "    <tr>\n",
              "      <th>2</th>\n",
              "      <td>418490</td>\n",
              "      <td>0.60</td>\n",
              "    </tr>\n",
              "    <tr>\n",
              "      <th>3</th>\n",
              "      <td>555320</td>\n",
              "      <td>0.72</td>\n",
              "    </tr>\n",
              "    <tr>\n",
              "      <th>4</th>\n",
              "      <td>826430</td>\n",
              "      <td>0.08</td>\n",
              "    </tr>\n",
              "  </tbody>\n",
              "</table>\n",
              "</div>"
            ],
            "text/plain": [
              "       id  job_satisfaction_rate\n",
              "0  130604                   0.74\n",
              "1  825977                   0.75\n",
              "2  418490                   0.60\n",
              "3  555320                   0.72\n",
              "4  826430                   0.08"
            ]
          },
          "execution_count": 5,
          "metadata": {},
          "output_type": "execute_result"
        }
      ],
      "execution_count": 5
    },
    {
      "id": "b8486dab",
      "cell_type": "code",
      "source": "features_and_target = features.merge(target, on='id', how='inner')\nfeatures_and_target.head()",
      "metadata": {},
      "outputs": [
        {
          "data": {
            "text/html": [
              "<div>\n",
              "<style scoped>\n",
              "    .dataframe tbody tr th:only-of-type {\n",
              "        vertical-align: middle;\n",
              "    }\n",
              "\n",
              "    .dataframe tbody tr th {\n",
              "        vertical-align: top;\n",
              "    }\n",
              "\n",
              "    .dataframe thead th {\n",
              "        text-align: right;\n",
              "    }\n",
              "</style>\n",
              "<table border=\"1\" class=\"dataframe\">\n",
              "  <thead>\n",
              "    <tr style=\"text-align: right;\">\n",
              "      <th></th>\n",
              "      <th>id</th>\n",
              "      <th>dept</th>\n",
              "      <th>level</th>\n",
              "      <th>workload</th>\n",
              "      <th>employment_years</th>\n",
              "      <th>last_year_promo</th>\n",
              "      <th>last_year_violations</th>\n",
              "      <th>supervisor_evaluation</th>\n",
              "      <th>salary</th>\n",
              "      <th>job_satisfaction_rate</th>\n",
              "    </tr>\n",
              "  </thead>\n",
              "  <tbody>\n",
              "    <tr>\n",
              "      <th>0</th>\n",
              "      <td>485046</td>\n",
              "      <td>marketing</td>\n",
              "      <td>junior</td>\n",
              "      <td>medium</td>\n",
              "      <td>2</td>\n",
              "      <td>no</td>\n",
              "      <td>no</td>\n",
              "      <td>5</td>\n",
              "      <td>28800</td>\n",
              "      <td>0.79</td>\n",
              "    </tr>\n",
              "    <tr>\n",
              "      <th>1</th>\n",
              "      <td>686555</td>\n",
              "      <td>hr</td>\n",
              "      <td>junior</td>\n",
              "      <td>medium</td>\n",
              "      <td>1</td>\n",
              "      <td>no</td>\n",
              "      <td>no</td>\n",
              "      <td>4</td>\n",
              "      <td>30000</td>\n",
              "      <td>0.72</td>\n",
              "    </tr>\n",
              "    <tr>\n",
              "      <th>2</th>\n",
              "      <td>467458</td>\n",
              "      <td>sales</td>\n",
              "      <td>middle</td>\n",
              "      <td>low</td>\n",
              "      <td>5</td>\n",
              "      <td>no</td>\n",
              "      <td>no</td>\n",
              "      <td>4</td>\n",
              "      <td>19200</td>\n",
              "      <td>0.64</td>\n",
              "    </tr>\n",
              "    <tr>\n",
              "      <th>3</th>\n",
              "      <td>418655</td>\n",
              "      <td>sales</td>\n",
              "      <td>middle</td>\n",
              "      <td>low</td>\n",
              "      <td>6</td>\n",
              "      <td>no</td>\n",
              "      <td>no</td>\n",
              "      <td>4</td>\n",
              "      <td>19200</td>\n",
              "      <td>0.60</td>\n",
              "    </tr>\n",
              "    <tr>\n",
              "      <th>4</th>\n",
              "      <td>789145</td>\n",
              "      <td>hr</td>\n",
              "      <td>middle</td>\n",
              "      <td>medium</td>\n",
              "      <td>5</td>\n",
              "      <td>no</td>\n",
              "      <td>no</td>\n",
              "      <td>5</td>\n",
              "      <td>40800</td>\n",
              "      <td>0.75</td>\n",
              "    </tr>\n",
              "  </tbody>\n",
              "</table>\n",
              "</div>"
            ],
            "text/plain": [
              "       id       dept   level workload  employment_years last_year_promo  \\\n",
              "0  485046  marketing  junior   medium                 2              no   \n",
              "1  686555         hr  junior   medium                 1              no   \n",
              "2  467458      sales  middle      low                 5              no   \n",
              "3  418655      sales  middle      low                 6              no   \n",
              "4  789145         hr  middle   medium                 5              no   \n",
              "\n",
              "  last_year_violations  supervisor_evaluation  salary  job_satisfaction_rate  \n",
              "0                   no                      5   28800                   0.79  \n",
              "1                   no                      4   30000                   0.72  \n",
              "2                   no                      4   19200                   0.64  \n",
              "3                   no                      4   19200                   0.60  \n",
              "4                   no                      5   40800                   0.75  "
            ]
          },
          "execution_count": 8,
          "metadata": {},
          "output_type": "execute_result"
        }
      ],
      "execution_count": 8
    },
    {
      "id": "95f9627a",
      "cell_type": "code",
      "source": "def df_info(data):\n    return (data.info(), data.describe())",
      "metadata": {},
      "outputs": [],
      "execution_count": 9
    },
    {
      "id": "ecdad4b0",
      "cell_type": "code",
      "source": "df_info(df)",
      "metadata": {},
      "outputs": [
        {
          "name": "stdout",
          "output_type": "stream",
          "text": [
            "<class 'pandas.core.frame.DataFrame'>\n",
            "RangeIndex: 4000 entries, 0 to 3999\n",
            "Data columns (total 10 columns):\n",
            " #   Column                 Non-Null Count  Dtype  \n",
            "---  ------                 --------------  -----  \n",
            " 0   id                     4000 non-null   int64  \n",
            " 1   dept                   3994 non-null   object \n",
            " 2   level                  3996 non-null   object \n",
            " 3   workload               4000 non-null   object \n",
            " 4   employment_years       4000 non-null   int64  \n",
            " 5   last_year_promo        4000 non-null   object \n",
            " 6   last_year_violations   4000 non-null   object \n",
            " 7   supervisor_evaluation  4000 non-null   int64  \n",
            " 8   salary                 4000 non-null   int64  \n",
            " 9   job_satisfaction_rate  4000 non-null   float64\n",
            "dtypes: float64(1), int64(4), object(5)\n",
            "memory usage: 312.6+ KB\n"
          ]
        },
        {
          "data": {
            "text/plain": [
              "(None,\n",
              "                   id  employment_years  supervisor_evaluation        salary  \\\n",
              " count    4000.000000       4000.000000            4000.000000   4000.000000   \n",
              " mean   544957.621000          3.718500               3.476500  33926.700000   \n",
              " std    257883.104622          2.542513               1.008812  14900.703838   \n",
              " min    100954.000000          1.000000               1.000000  12000.000000   \n",
              " 25%    322836.750000          2.000000               3.000000  22800.000000   \n",
              " 50%    534082.500000          3.000000               4.000000  30000.000000   \n",
              " 75%    771446.000000          6.000000               4.000000  43200.000000   \n",
              " max    999521.000000         10.000000               5.000000  98400.000000   \n",
              " \n",
              "        job_satisfaction_rate  \n",
              " count            4000.000000  \n",
              " mean                0.533995  \n",
              " std                 0.225327  \n",
              " min                 0.030000  \n",
              " 25%                 0.360000  \n",
              " 50%                 0.560000  \n",
              " 75%                 0.710000  \n",
              " max                 1.000000  )"
            ]
          },
          "execution_count": 10,
          "metadata": {},
          "output_type": "execute_result"
        }
      ],
      "execution_count": 10
    },
    {
      "id": "3d3bc765",
      "cell_type": "markdown",
      "source": "Имеем небольшое количество пропусков в столбцах dept и level, заполним их в pipeline. Значения mean и median во всех колонках не сильно отличаются, вероятно, слишком больших выбросов в данных нет.",
      "metadata": {}
    },
    {
      "id": "82e0874e",
      "cell_type": "code",
      "source": "df_info(features)",
      "metadata": {},
      "outputs": [
        {
          "name": "stdout",
          "output_type": "stream",
          "text": [
            "<class 'pandas.core.frame.DataFrame'>\n",
            "RangeIndex: 2000 entries, 0 to 1999\n",
            "Data columns (total 9 columns):\n",
            " #   Column                 Non-Null Count  Dtype \n",
            "---  ------                 --------------  ----- \n",
            " 0   id                     2000 non-null   int64 \n",
            " 1   dept                   1998 non-null   object\n",
            " 2   level                  1999 non-null   object\n",
            " 3   workload               2000 non-null   object\n",
            " 4   employment_years       2000 non-null   int64 \n",
            " 5   last_year_promo        2000 non-null   object\n",
            " 6   last_year_violations   2000 non-null   object\n",
            " 7   supervisor_evaluation  2000 non-null   int64 \n",
            " 8   salary                 2000 non-null   int64 \n",
            "dtypes: int64(4), object(5)\n",
            "memory usage: 140.8+ KB\n"
          ]
        },
        {
          "data": {
            "text/plain": [
              "(None,\n",
              "                   id  employment_years  supervisor_evaluation        salary\n",
              " count    2000.000000       2000.000000            2000.000000   2000.000000\n",
              " mean   552765.213500          3.666500               3.526500  34066.800000\n",
              " std    253851.326129          2.537222               0.996892  15398.436729\n",
              " min    100298.000000          1.000000               1.000000  12000.000000\n",
              " 25%    339052.000000          1.000000               3.000000  22800.000000\n",
              " 50%    550793.000000          3.000000               4.000000  30000.000000\n",
              " 75%    765763.750000          6.000000               4.000000  43200.000000\n",
              " max    999029.000000         10.000000               5.000000  96000.000000)"
            ]
          },
          "execution_count": 11,
          "metadata": {},
          "output_type": "execute_result"
        }
      ],
      "execution_count": 11
    },
    {
      "id": "102321d5",
      "cell_type": "markdown",
      "source": "Наблюдаем несколько пропусков в столбцах dept и workload, так же заполним их в pipeline.",
      "metadata": {}
    },
    {
      "id": "2d0e843e",
      "cell_type": "code",
      "source": "df_info(target)",
      "metadata": {},
      "outputs": [
        {
          "name": "stdout",
          "output_type": "stream",
          "text": [
            "<class 'pandas.core.frame.DataFrame'>\n",
            "RangeIndex: 2000 entries, 0 to 1999\n",
            "Data columns (total 2 columns):\n",
            " #   Column                 Non-Null Count  Dtype  \n",
            "---  ------                 --------------  -----  \n",
            " 0   id                     2000 non-null   int64  \n",
            " 1   job_satisfaction_rate  2000 non-null   float64\n",
            "dtypes: float64(1), int64(1)\n",
            "memory usage: 31.4 KB\n"
          ]
        },
        {
          "data": {
            "text/plain": [
              "(None,\n",
              "                   id  job_satisfaction_rate\n",
              " count    2000.000000             2000.00000\n",
              " mean   552765.213500                0.54878\n",
              " std    253851.326129                0.22011\n",
              " min    100298.000000                0.03000\n",
              " 25%    339052.000000                0.38000\n",
              " 50%    550793.000000                0.58000\n",
              " 75%    765763.750000                0.72000\n",
              " max    999029.000000                1.00000)"
            ]
          },
          "execution_count": 12,
          "metadata": {},
          "output_type": "execute_result"
        }
      ],
      "execution_count": 12
    },
    {
      "id": "8a4daa8c",
      "cell_type": "code",
      "source": "df[df.duplicated()]",
      "metadata": {},
      "outputs": [
        {
          "data": {
            "text/html": [
              "<div>\n",
              "<style scoped>\n",
              "    .dataframe tbody tr th:only-of-type {\n",
              "        vertical-align: middle;\n",
              "    }\n",
              "\n",
              "    .dataframe tbody tr th {\n",
              "        vertical-align: top;\n",
              "    }\n",
              "\n",
              "    .dataframe thead th {\n",
              "        text-align: right;\n",
              "    }\n",
              "</style>\n",
              "<table border=\"1\" class=\"dataframe\">\n",
              "  <thead>\n",
              "    <tr style=\"text-align: right;\">\n",
              "      <th></th>\n",
              "      <th>id</th>\n",
              "      <th>dept</th>\n",
              "      <th>level</th>\n",
              "      <th>workload</th>\n",
              "      <th>employment_years</th>\n",
              "      <th>last_year_promo</th>\n",
              "      <th>last_year_violations</th>\n",
              "      <th>supervisor_evaluation</th>\n",
              "      <th>salary</th>\n",
              "      <th>job_satisfaction_rate</th>\n",
              "    </tr>\n",
              "  </thead>\n",
              "  <tbody>\n",
              "  </tbody>\n",
              "</table>\n",
              "</div>"
            ],
            "text/plain": [
              "Empty DataFrame\n",
              "Columns: [id, dept, level, workload, employment_years, last_year_promo, last_year_violations, supervisor_evaluation, salary, job_satisfaction_rate]\n",
              "Index: []"
            ]
          },
          "execution_count": 13,
          "metadata": {},
          "output_type": "execute_result"
        }
      ],
      "execution_count": 13
    },
    {
      "id": "cf24c319",
      "cell_type": "markdown",
      "source": "Дубликатов не наблюдаем.",
      "metadata": {}
    },
    {
      "id": "66f794cb",
      "cell_type": "code",
      "source": "columns=['dept', 'level', 'workload', 'last_year_promo']\ndef plot_func(data, columns):\n    fig, axes = plt.subplots(nrows=2, ncols=2, figsize=(15, 10))\n    for i, column in enumerate(columns):\n        row_index = i // 2\n        col_index = i % 2\n        data.groupby(column)['id'].count().plot(kind='barh', ax=axes[row_index, col_index], color='lightcoral')\nplot_func(df, columns)",
      "metadata": {},
      "outputs": [
        {
          "data": {
            "image/png": "[encoded data removed]",
            "text/plain": [
              "<Figure size 1080x720 with 4 Axes>"
            ]
          },
          "metadata": {
            "needs_background": "light"
          },
          "output_type": "display_data"
        }
      ],
      "execution_count": 14
    },
    {
      "id": "b7eab9da",
      "cell_type": "code",
      "source": "df.groupby('last_year_violations')['id'].count().plot(kind='barh', color='lightcoral');",
      "metadata": {},
      "outputs": [
        {
          "data": {
            "image/png": "[encoded data removed]",
            "text/plain": [
              "<Figure size 432x288 with 1 Axes>"
            ]
          },
          "metadata": {
            "needs_background": "light"
          },
          "output_type": "display_data"
        }
      ],
      "execution_count": 15
    },
    {
      "id": "81150291",
      "cell_type": "code",
      "source": "df['dept'].value_counts(ascending=False)",
      "metadata": {},
      "outputs": [
        {
          "data": {
            "text/plain": [
              "sales         1512\n",
              "technology     866\n",
              "purchasing     610\n",
              "marketing      550\n",
              "hr             456\n",
              "Name: dept, dtype: int64"
            ]
          },
          "execution_count": 16,
          "metadata": {},
          "output_type": "execute_result"
        }
      ],
      "execution_count": 16
    },
    {
      "id": "381b986e",
      "cell_type": "markdown",
      "source": "Итак, у нас больше 30% сотрудников (1512чел) работают в отделе продаж, около 20%(866чел) - технические специалисты, 15%(610чел) - занимаются закупками, в отделе маркетинга 550 человек и 456 специалистов по найму сотрудников.",
      "metadata": {}
    },
    {
      "id": "283c494d",
      "cell_type": "code",
      "source": "columns_2 = ['employment_years', 'supervisor_evaluation', 'salary', 'job_satisfaction_rate']\ndef boxplot_func(data, columns_2):\n    fig, axes = plt.subplots(nrows=2, ncols=2, figsize=(15, 5))\n    for i, column in enumerate(columns_2):\n        row_index = i // 2\n        col_index = i % 2\n        data.boxplot(column=column, ax=axes[row_index, col_index])\nboxplot_func(df, columns_2)",
      "metadata": {},
      "outputs": [
        {
          "data": {
            "image/png": "[encoded data removed]",
            "text/plain": [
              "<Figure size 1080x360 with 4 Axes>"
            ]
          },
          "metadata": {
            "needs_background": "light"
          },
          "output_type": "display_data"
        }
      ],
      "execution_count": 17
    },
    {
      "id": "ebd04297",
      "cell_type": "markdown",
      "source": "В столбце employment_years можно заметить, что медиана приближена к нижнему значению, значит сотрудников которые работают в организации долго - меньше. \nВ столбце supervisor_evaluation есть несколько выбросов ниже значения min.\nНаблюдаем большое количество выбросов в столбце зарплата, в целом - можно было это ожидать, давайте рассмотрим по подробнее.",
      "metadata": {}
    },
    {
      "id": "73c60904",
      "cell_type": "code",
      "source": "df.query('salary > 70000')",
      "metadata": {},
      "outputs": [
        {
          "data": {
            "text/html": [
              "<div>\n",
              "<style scoped>\n",
              "    .dataframe tbody tr th:only-of-type {\n",
              "        vertical-align: middle;\n",
              "    }\n",
              "\n",
              "    .dataframe tbody tr th {\n",
              "        vertical-align: top;\n",
              "    }\n",
              "\n",
              "    .dataframe thead th {\n",
              "        text-align: right;\n",
              "    }\n",
              "</style>\n",
              "<table border=\"1\" class=\"dataframe\">\n",
              "  <thead>\n",
              "    <tr style=\"text-align: right;\">\n",
              "      <th></th>\n",
              "      <th>id</th>\n",
              "      <th>dept</th>\n",
              "      <th>level</th>\n",
              "      <th>workload</th>\n",
              "      <th>employment_years</th>\n",
              "      <th>last_year_promo</th>\n",
              "      <th>last_year_violations</th>\n",
              "      <th>supervisor_evaluation</th>\n",
              "      <th>salary</th>\n",
              "      <th>job_satisfaction_rate</th>\n",
              "    </tr>\n",
              "  </thead>\n",
              "  <tbody>\n",
              "    <tr>\n",
              "      <th>32</th>\n",
              "      <td>176144</td>\n",
              "      <td>hr</td>\n",
              "      <td>sinior</td>\n",
              "      <td>high</td>\n",
              "      <td>3</td>\n",
              "      <td>no</td>\n",
              "      <td>no</td>\n",
              "      <td>1</td>\n",
              "      <td>72000</td>\n",
              "      <td>0.22</td>\n",
              "    </tr>\n",
              "    <tr>\n",
              "      <th>45</th>\n",
              "      <td>538347</td>\n",
              "      <td>technology</td>\n",
              "      <td>sinior</td>\n",
              "      <td>high</td>\n",
              "      <td>3</td>\n",
              "      <td>no</td>\n",
              "      <td>no</td>\n",
              "      <td>1</td>\n",
              "      <td>84000</td>\n",
              "      <td>0.21</td>\n",
              "    </tr>\n",
              "    <tr>\n",
              "      <th>141</th>\n",
              "      <td>128304</td>\n",
              "      <td>marketing</td>\n",
              "      <td>sinior</td>\n",
              "      <td>high</td>\n",
              "      <td>7</td>\n",
              "      <td>no</td>\n",
              "      <td>no</td>\n",
              "      <td>3</td>\n",
              "      <td>80400</td>\n",
              "      <td>0.48</td>\n",
              "    </tr>\n",
              "    <tr>\n",
              "      <th>196</th>\n",
              "      <td>486576</td>\n",
              "      <td>marketing</td>\n",
              "      <td>sinior</td>\n",
              "      <td>high</td>\n",
              "      <td>9</td>\n",
              "      <td>no</td>\n",
              "      <td>no</td>\n",
              "      <td>4</td>\n",
              "      <td>76800</td>\n",
              "      <td>0.66</td>\n",
              "    </tr>\n",
              "    <tr>\n",
              "      <th>198</th>\n",
              "      <td>763200</td>\n",
              "      <td>sales</td>\n",
              "      <td>sinior</td>\n",
              "      <td>high</td>\n",
              "      <td>6</td>\n",
              "      <td>yes</td>\n",
              "      <td>no</td>\n",
              "      <td>4</td>\n",
              "      <td>72000</td>\n",
              "      <td>0.81</td>\n",
              "    </tr>\n",
              "    <tr>\n",
              "      <th>...</th>\n",
              "      <td>...</td>\n",
              "      <td>...</td>\n",
              "      <td>...</td>\n",
              "      <td>...</td>\n",
              "      <td>...</td>\n",
              "      <td>...</td>\n",
              "      <td>...</td>\n",
              "      <td>...</td>\n",
              "      <td>...</td>\n",
              "      <td>...</td>\n",
              "    </tr>\n",
              "    <tr>\n",
              "      <th>3839</th>\n",
              "      <td>868744</td>\n",
              "      <td>technology</td>\n",
              "      <td>sinior</td>\n",
              "      <td>high</td>\n",
              "      <td>5</td>\n",
              "      <td>yes</td>\n",
              "      <td>no</td>\n",
              "      <td>4</td>\n",
              "      <td>97200</td>\n",
              "      <td>0.84</td>\n",
              "    </tr>\n",
              "    <tr>\n",
              "      <th>3894</th>\n",
              "      <td>459612</td>\n",
              "      <td>technology</td>\n",
              "      <td>sinior</td>\n",
              "      <td>high</td>\n",
              "      <td>9</td>\n",
              "      <td>no</td>\n",
              "      <td>no</td>\n",
              "      <td>4</td>\n",
              "      <td>88800</td>\n",
              "      <td>0.79</td>\n",
              "    </tr>\n",
              "    <tr>\n",
              "      <th>3902</th>\n",
              "      <td>612590</td>\n",
              "      <td>technology</td>\n",
              "      <td>sinior</td>\n",
              "      <td>high</td>\n",
              "      <td>8</td>\n",
              "      <td>no</td>\n",
              "      <td>no</td>\n",
              "      <td>3</td>\n",
              "      <td>76800</td>\n",
              "      <td>0.39</td>\n",
              "    </tr>\n",
              "    <tr>\n",
              "      <th>3942</th>\n",
              "      <td>215496</td>\n",
              "      <td>technology</td>\n",
              "      <td>sinior</td>\n",
              "      <td>medium</td>\n",
              "      <td>10</td>\n",
              "      <td>no</td>\n",
              "      <td>yes</td>\n",
              "      <td>4</td>\n",
              "      <td>70800</td>\n",
              "      <td>0.63</td>\n",
              "    </tr>\n",
              "    <tr>\n",
              "      <th>3993</th>\n",
              "      <td>424345</td>\n",
              "      <td>hr</td>\n",
              "      <td>sinior</td>\n",
              "      <td>high</td>\n",
              "      <td>6</td>\n",
              "      <td>no</td>\n",
              "      <td>no</td>\n",
              "      <td>4</td>\n",
              "      <td>80400</td>\n",
              "      <td>0.88</td>\n",
              "    </tr>\n",
              "  </tbody>\n",
              "</table>\n",
              "<p>85 rows × 10 columns</p>\n",
              "</div>"
            ],
            "text/plain": [
              "          id        dept   level workload  employment_years last_year_promo  \\\n",
              "32    176144          hr  sinior     high                 3              no   \n",
              "45    538347  technology  sinior     high                 3              no   \n",
              "141   128304   marketing  sinior     high                 7              no   \n",
              "196   486576   marketing  sinior     high                 9              no   \n",
              "198   763200       sales  sinior     high                 6             yes   \n",
              "...      ...         ...     ...      ...               ...             ...   \n",
              "3839  868744  technology  sinior     high                 5             yes   \n",
              "3894  459612  technology  sinior     high                 9              no   \n",
              "3902  612590  technology  sinior     high                 8              no   \n",
              "3942  215496  technology  sinior   medium                10              no   \n",
              "3993  424345          hr  sinior     high                 6              no   \n",
              "\n",
              "     last_year_violations  supervisor_evaluation  salary  \\\n",
              "32                     no                      1   72000   \n",
              "45                     no                      1   84000   \n",
              "141                    no                      3   80400   \n",
              "196                    no                      4   76800   \n",
              "198                    no                      4   72000   \n",
              "...                   ...                    ...     ...   \n",
              "3839                   no                      4   97200   \n",
              "3894                   no                      4   88800   \n",
              "3902                   no                      3   76800   \n",
              "3942                  yes                      4   70800   \n",
              "3993                   no                      4   80400   \n",
              "\n",
              "      job_satisfaction_rate  \n",
              "32                     0.22  \n",
              "45                     0.21  \n",
              "141                    0.48  \n",
              "196                    0.66  \n",
              "198                    0.81  \n",
              "...                     ...  \n",
              "3839                   0.84  \n",
              "3894                   0.79  \n",
              "3902                   0.39  \n",
              "3942                   0.63  \n",
              "3993                   0.88  \n",
              "\n",
              "[85 rows x 10 columns]"
            ]
          },
          "execution_count": 18,
          "metadata": {},
          "output_type": "execute_result"
        }
      ],
      "execution_count": 18
    },
    {
      "id": "e5113e6e",
      "cell_type": "code",
      "source": "plot_func(df.query('salary > 70000'), columns)",
      "metadata": {},
      "outputs": [
        {
          "data": {
            "image/png": "[encoded data removed]",
            "text/plain": [
              "<Figure size 1080x720 with 4 Axes>"
            ]
          },
          "metadata": {
            "needs_background": "light"
          },
          "output_type": "display_data"
        }
      ],
      "execution_count": 19
    },
    {
      "id": "13dcc200",
      "cell_type": "markdown",
      "source": "Опять же, в целом ожидаемо и закономерно, высокие зарплаты имеют сотрудники с level sinior, в основном - это тех.специалисты и продажники, и они сильно загружены.",
      "metadata": {}
    },
    {
      "id": "3604dab7",
      "cell_type": "code",
      "source": "df.query('supervisor_evaluation < 2')",
      "metadata": {},
      "outputs": [
        {
          "data": {
            "text/html": [
              "<div>\n",
              "<style scoped>\n",
              "    .dataframe tbody tr th:only-of-type {\n",
              "        vertical-align: middle;\n",
              "    }\n",
              "\n",
              "    .dataframe tbody tr th {\n",
              "        vertical-align: top;\n",
              "    }\n",
              "\n",
              "    .dataframe thead th {\n",
              "        text-align: right;\n",
              "    }\n",
              "</style>\n",
              "<table border=\"1\" class=\"dataframe\">\n",
              "  <thead>\n",
              "    <tr style=\"text-align: right;\">\n",
              "      <th></th>\n",
              "      <th>id</th>\n",
              "      <th>dept</th>\n",
              "      <th>level</th>\n",
              "      <th>workload</th>\n",
              "      <th>employment_years</th>\n",
              "      <th>last_year_promo</th>\n",
              "      <th>last_year_violations</th>\n",
              "      <th>supervisor_evaluation</th>\n",
              "      <th>salary</th>\n",
              "      <th>job_satisfaction_rate</th>\n",
              "    </tr>\n",
              "  </thead>\n",
              "  <tbody>\n",
              "    <tr>\n",
              "      <th>0</th>\n",
              "      <td>155278</td>\n",
              "      <td>sales</td>\n",
              "      <td>junior</td>\n",
              "      <td>medium</td>\n",
              "      <td>2</td>\n",
              "      <td>no</td>\n",
              "      <td>no</td>\n",
              "      <td>1</td>\n",
              "      <td>24000</td>\n",
              "      <td>0.58</td>\n",
              "    </tr>\n",
              "    <tr>\n",
              "      <th>18</th>\n",
              "      <td>848242</td>\n",
              "      <td>sales</td>\n",
              "      <td>middle</td>\n",
              "      <td>high</td>\n",
              "      <td>2</td>\n",
              "      <td>yes</td>\n",
              "      <td>no</td>\n",
              "      <td>1</td>\n",
              "      <td>50400</td>\n",
              "      <td>0.39</td>\n",
              "    </tr>\n",
              "    <tr>\n",
              "      <th>32</th>\n",
              "      <td>176144</td>\n",
              "      <td>hr</td>\n",
              "      <td>sinior</td>\n",
              "      <td>high</td>\n",
              "      <td>3</td>\n",
              "      <td>no</td>\n",
              "      <td>no</td>\n",
              "      <td>1</td>\n",
              "      <td>72000</td>\n",
              "      <td>0.22</td>\n",
              "    </tr>\n",
              "    <tr>\n",
              "      <th>45</th>\n",
              "      <td>538347</td>\n",
              "      <td>technology</td>\n",
              "      <td>sinior</td>\n",
              "      <td>high</td>\n",
              "      <td>3</td>\n",
              "      <td>no</td>\n",
              "      <td>no</td>\n",
              "      <td>1</td>\n",
              "      <td>84000</td>\n",
              "      <td>0.21</td>\n",
              "    </tr>\n",
              "    <tr>\n",
              "      <th>53</th>\n",
              "      <td>460328</td>\n",
              "      <td>technology</td>\n",
              "      <td>junior</td>\n",
              "      <td>high</td>\n",
              "      <td>1</td>\n",
              "      <td>no</td>\n",
              "      <td>no</td>\n",
              "      <td>1</td>\n",
              "      <td>37200</td>\n",
              "      <td>0.10</td>\n",
              "    </tr>\n",
              "    <tr>\n",
              "      <th>...</th>\n",
              "      <td>...</td>\n",
              "      <td>...</td>\n",
              "      <td>...</td>\n",
              "      <td>...</td>\n",
              "      <td>...</td>\n",
              "      <td>...</td>\n",
              "      <td>...</td>\n",
              "      <td>...</td>\n",
              "      <td>...</td>\n",
              "      <td>...</td>\n",
              "    </tr>\n",
              "    <tr>\n",
              "      <th>3877</th>\n",
              "      <td>947224</td>\n",
              "      <td>technology</td>\n",
              "      <td>junior</td>\n",
              "      <td>medium</td>\n",
              "      <td>3</td>\n",
              "      <td>no</td>\n",
              "      <td>no</td>\n",
              "      <td>1</td>\n",
              "      <td>30000</td>\n",
              "      <td>0.38</td>\n",
              "    </tr>\n",
              "    <tr>\n",
              "      <th>3949</th>\n",
              "      <td>157562</td>\n",
              "      <td>technology</td>\n",
              "      <td>middle</td>\n",
              "      <td>medium</td>\n",
              "      <td>3</td>\n",
              "      <td>no</td>\n",
              "      <td>no</td>\n",
              "      <td>1</td>\n",
              "      <td>49200</td>\n",
              "      <td>0.39</td>\n",
              "    </tr>\n",
              "    <tr>\n",
              "      <th>3972</th>\n",
              "      <td>134106</td>\n",
              "      <td>hr</td>\n",
              "      <td>middle</td>\n",
              "      <td>high</td>\n",
              "      <td>10</td>\n",
              "      <td>no</td>\n",
              "      <td>yes</td>\n",
              "      <td>1</td>\n",
              "      <td>57600</td>\n",
              "      <td>0.39</td>\n",
              "    </tr>\n",
              "    <tr>\n",
              "      <th>3988</th>\n",
              "      <td>806663</td>\n",
              "      <td>sales</td>\n",
              "      <td>middle</td>\n",
              "      <td>low</td>\n",
              "      <td>8</td>\n",
              "      <td>no</td>\n",
              "      <td>no</td>\n",
              "      <td>1</td>\n",
              "      <td>22800</td>\n",
              "      <td>0.39</td>\n",
              "    </tr>\n",
              "    <tr>\n",
              "      <th>3999</th>\n",
              "      <td>338347</td>\n",
              "      <td>technology</td>\n",
              "      <td>middle</td>\n",
              "      <td>medium</td>\n",
              "      <td>5</td>\n",
              "      <td>no</td>\n",
              "      <td>yes</td>\n",
              "      <td>1</td>\n",
              "      <td>44400</td>\n",
              "      <td>0.18</td>\n",
              "    </tr>\n",
              "  </tbody>\n",
              "</table>\n",
              "<p>201 rows × 10 columns</p>\n",
              "</div>"
            ],
            "text/plain": [
              "          id        dept   level workload  employment_years last_year_promo  \\\n",
              "0     155278       sales  junior   medium                 2              no   \n",
              "18    848242       sales  middle     high                 2             yes   \n",
              "32    176144          hr  sinior     high                 3              no   \n",
              "45    538347  technology  sinior     high                 3              no   \n",
              "53    460328  technology  junior     high                 1              no   \n",
              "...      ...         ...     ...      ...               ...             ...   \n",
              "3877  947224  technology  junior   medium                 3              no   \n",
              "3949  157562  technology  middle   medium                 3              no   \n",
              "3972  134106          hr  middle     high                10              no   \n",
              "3988  806663       sales  middle      low                 8              no   \n",
              "3999  338347  technology  middle   medium                 5              no   \n",
              "\n",
              "     last_year_violations  supervisor_evaluation  salary  \\\n",
              "0                      no                      1   24000   \n",
              "18                     no                      1   50400   \n",
              "32                     no                      1   72000   \n",
              "45                     no                      1   84000   \n",
              "53                     no                      1   37200   \n",
              "...                   ...                    ...     ...   \n",
              "3877                   no                      1   30000   \n",
              "3949                   no                      1   49200   \n",
              "3972                  yes                      1   57600   \n",
              "3988                   no                      1   22800   \n",
              "3999                  yes                      1   44400   \n",
              "\n",
              "      job_satisfaction_rate  \n",
              "0                      0.58  \n",
              "18                     0.39  \n",
              "32                     0.22  \n",
              "45                     0.21  \n",
              "53                     0.10  \n",
              "...                     ...  \n",
              "3877                   0.38  \n",
              "3949                   0.39  \n",
              "3972                   0.39  \n",
              "3988                   0.39  \n",
              "3999                   0.18  \n",
              "\n",
              "[201 rows x 10 columns]"
            ]
          },
          "execution_count": 20,
          "metadata": {},
          "output_type": "execute_result"
        }
      ],
      "execution_count": 20
    },
    {
      "id": "5711db38",
      "cell_type": "code",
      "source": "plot_func(df.query('supervisor_evaluation < 2'), columns)",
      "metadata": {},
      "outputs": [
        {
          "data": {
            "image/png": "[encoded data removed]",
            "text/plain": [
              "<Figure size 1080x720 with 4 Axes>"
            ]
          },
          "metadata": {
            "needs_background": "light"
          },
          "output_type": "display_data"
        }
      ],
      "execution_count": 21
    },
    {
      "id": "c21f68cc",
      "cell_type": "markdown",
      "source": "Оценку от руководителя ниже 2 имеют в основном сотрудники с загрузкой medium и low, и в основном это сотрудники уровнял middle и junior.",
      "metadata": {}
    },
    {
      "id": "2a6924ac",
      "cell_type": "markdown",
      "source": "Теперь посмотрим на features:",
      "metadata": {}
    },
    {
      "id": "d70caed7",
      "cell_type": "code",
      "source": "plot_func(features, columns)",
      "metadata": {},
      "outputs": [
        {
          "data": {
            "image/png": "[encoded data removed]",
            "text/plain": [
              "<Figure size 1080x720 with 4 Axes>"
            ]
          },
          "metadata": {
            "needs_background": "light"
          },
          "output_type": "display_data"
        }
      ],
      "execution_count": 22
    },
    {
      "id": "5ac33455",
      "cell_type": "markdown",
      "source": "Заменим значения с пробелом на np.nan",
      "metadata": {}
    },
    {
      "id": "85ca3cfe",
      "cell_type": "code",
      "source": "features['workload'] = features['workload'].replace(' ', np.nan)\nfeatures['dept'] = features['dept'].replace(' ', np.nan)",
      "metadata": {},
      "outputs": [],
      "execution_count": 23
    },
    {
      "id": "8161506d",
      "cell_type": "code",
      "source": "columns_3 = ['employment_years', 'supervisor_evaluation', 'salary']\nfig, axes = plt.subplots(nrows=1, ncols=3, figsize=(15, 5))\nfor i, column in enumerate(columns_3):\n    col_index = i % 3\n    features.boxplot(column=column, ax=axes[col_index])",
      "metadata": {
        "scrolled": true
      },
      "outputs": [
        {
          "data": {
            "image/png": "[encoded data removed]",
            "text/plain": [
              "<Figure size 1080x360 with 3 Axes>"
            ]
          },
          "metadata": {
            "needs_background": "light"
          },
          "output_type": "display_data"
        }
      ],
      "execution_count": 24
    },
    {
      "id": "7c283c60",
      "cell_type": "markdown",
      "source": "Ситуация аналогична df.",
      "metadata": {}
    },
    {
      "id": "8612ab95",
      "cell_type": "markdown",
      "source": "<font color='green' size=+2><b>1.2. Исследовательский анализ данных</b></font><br>",
      "metadata": {}
    },
    {
      "id": "b352d206",
      "cell_type": "code",
      "source": "sns.heatmap(df.corr(method='spearman').round(2), linewidths=.5, annot=True);",
      "metadata": {},
      "outputs": [
        {
          "data": {
            "image/png": "[encoded data removed]",
            "text/plain": [
              "<Figure size 432x288 with 2 Axes>"
            ]
          },
          "metadata": {
            "needs_background": "light"
          },
          "output_type": "display_data"
        }
      ],
      "execution_count": 25
    },
    {
      "id": "941a7eee",
      "cell_type": "markdown",
      "source": "Наиболее коррелирующий с целевым признаком признак столбец, это supervisor_evaluation",
      "metadata": {}
    },
    {
      "id": "1cdb9f28",
      "cell_type": "code",
      "source": "df.plot(x='supervisor_evaluation', y='job_satisfaction_rate', kind='scatter', alpha=0.3, c=np.array(['crimson']))\nplt.title('Корреляция целевого признака с supervisor_evaluation')\nplt.xlabel('supervisor_evaluation')\nplt.ylabel('job_satisfaction_rate');",
      "metadata": {},
      "outputs": [
        {
          "data": {
            "image/png": "[encoded data removed]",
            "text/plain": [
              "<Figure size 432x288 with 1 Axes>"
            ]
          },
          "metadata": {
            "needs_background": "light"
          },
          "output_type": "display_data"
        }
      ],
      "execution_count": 26
    },
    {
      "id": "ad7b4d07",
      "cell_type": "markdown",
      "source": "Зависимость явно не линейная.",
      "metadata": {}
    },
    {
      "id": "49013238",
      "cell_type": "markdown",
      "source": "Все числовые признаки необходимо стандартизировать, поскольку значения лежат в диапазоне от сотых долей до 100 тысяч.\nКатегориальные признаки - кодировать:\n - ordinalEncoder для 'level' и 'workload', поскольку их значения можно оценить и сравнить между собой.\n - oneHotEncoder для 'dept', 'last_year_promo', 'last_year_violations'",
      "metadata": {}
    },
    {
      "id": "fbc9e0fe",
      "cell_type": "markdown",
      "source": "<font color='green' size=+2><b>1.3. Подготовка данных</b></font><br>",
      "metadata": {}
    },
    {
      "id": "eccd11f1",
      "cell_type": "code",
      "source": "df = df.set_index('id')\ndf[df.duplicated()]",
      "metadata": {},
      "outputs": [
        {
          "data": {
            "text/html": [
              "<div>\n",
              "<style scoped>\n",
              "    .dataframe tbody tr th:only-of-type {\n",
              "        vertical-align: middle;\n",
              "    }\n",
              "\n",
              "    .dataframe tbody tr th {\n",
              "        vertical-align: top;\n",
              "    }\n",
              "\n",
              "    .dataframe thead th {\n",
              "        text-align: right;\n",
              "    }\n",
              "</style>\n",
              "<table border=\"1\" class=\"dataframe\">\n",
              "  <thead>\n",
              "    <tr style=\"text-align: right;\">\n",
              "      <th></th>\n",
              "      <th>dept</th>\n",
              "      <th>level</th>\n",
              "      <th>workload</th>\n",
              "      <th>employment_years</th>\n",
              "      <th>last_year_promo</th>\n",
              "      <th>last_year_violations</th>\n",
              "      <th>supervisor_evaluation</th>\n",
              "      <th>salary</th>\n",
              "      <th>job_satisfaction_rate</th>\n",
              "    </tr>\n",
              "    <tr>\n",
              "      <th>id</th>\n",
              "      <th></th>\n",
              "      <th></th>\n",
              "      <th></th>\n",
              "      <th></th>\n",
              "      <th></th>\n",
              "      <th></th>\n",
              "      <th></th>\n",
              "      <th></th>\n",
              "      <th></th>\n",
              "    </tr>\n",
              "  </thead>\n",
              "  <tbody>\n",
              "    <tr>\n",
              "      <th>302957</th>\n",
              "      <td>purchasing</td>\n",
              "      <td>junior</td>\n",
              "      <td>low</td>\n",
              "      <td>1</td>\n",
              "      <td>no</td>\n",
              "      <td>no</td>\n",
              "      <td>4</td>\n",
              "      <td>15600</td>\n",
              "      <td>0.61</td>\n",
              "    </tr>\n",
              "    <tr>\n",
              "      <th>752399</th>\n",
              "      <td>sales</td>\n",
              "      <td>middle</td>\n",
              "      <td>low</td>\n",
              "      <td>7</td>\n",
              "      <td>no</td>\n",
              "      <td>no</td>\n",
              "      <td>4</td>\n",
              "      <td>28800</td>\n",
              "      <td>0.77</td>\n",
              "    </tr>\n",
              "    <tr>\n",
              "      <th>802286</th>\n",
              "      <td>sales</td>\n",
              "      <td>junior</td>\n",
              "      <td>medium</td>\n",
              "      <td>1</td>\n",
              "      <td>no</td>\n",
              "      <td>no</td>\n",
              "      <td>4</td>\n",
              "      <td>21600</td>\n",
              "      <td>0.43</td>\n",
              "    </tr>\n",
              "    <tr>\n",
              "      <th>167303</th>\n",
              "      <td>sales</td>\n",
              "      <td>junior</td>\n",
              "      <td>medium</td>\n",
              "      <td>1</td>\n",
              "      <td>no</td>\n",
              "      <td>no</td>\n",
              "      <td>3</td>\n",
              "      <td>24000</td>\n",
              "      <td>0.34</td>\n",
              "    </tr>\n",
              "    <tr>\n",
              "      <th>191841</th>\n",
              "      <td>sales</td>\n",
              "      <td>junior</td>\n",
              "      <td>medium</td>\n",
              "      <td>1</td>\n",
              "      <td>no</td>\n",
              "      <td>no</td>\n",
              "      <td>5</td>\n",
              "      <td>21600</td>\n",
              "      <td>0.44</td>\n",
              "    </tr>\n",
              "    <tr>\n",
              "      <th>...</th>\n",
              "      <td>...</td>\n",
              "      <td>...</td>\n",
              "      <td>...</td>\n",
              "      <td>...</td>\n",
              "      <td>...</td>\n",
              "      <td>...</td>\n",
              "      <td>...</td>\n",
              "      <td>...</td>\n",
              "      <td>...</td>\n",
              "    </tr>\n",
              "    <tr>\n",
              "      <th>737303</th>\n",
              "      <td>sales</td>\n",
              "      <td>middle</td>\n",
              "      <td>medium</td>\n",
              "      <td>3</td>\n",
              "      <td>no</td>\n",
              "      <td>no</td>\n",
              "      <td>4</td>\n",
              "      <td>33600</td>\n",
              "      <td>0.47</td>\n",
              "    </tr>\n",
              "    <tr>\n",
              "      <th>281204</th>\n",
              "      <td>technology</td>\n",
              "      <td>junior</td>\n",
              "      <td>low</td>\n",
              "      <td>2</td>\n",
              "      <td>no</td>\n",
              "      <td>no</td>\n",
              "      <td>4</td>\n",
              "      <td>15600</td>\n",
              "      <td>0.68</td>\n",
              "    </tr>\n",
              "    <tr>\n",
              "      <th>261436</th>\n",
              "      <td>sales</td>\n",
              "      <td>middle</td>\n",
              "      <td>low</td>\n",
              "      <td>3</td>\n",
              "      <td>no</td>\n",
              "      <td>no</td>\n",
              "      <td>3</td>\n",
              "      <td>22800</td>\n",
              "      <td>0.18</td>\n",
              "    </tr>\n",
              "    <tr>\n",
              "      <th>457950</th>\n",
              "      <td>technology</td>\n",
              "      <td>junior</td>\n",
              "      <td>high</td>\n",
              "      <td>2</td>\n",
              "      <td>no</td>\n",
              "      <td>no</td>\n",
              "      <td>3</td>\n",
              "      <td>46800</td>\n",
              "      <td>0.45</td>\n",
              "    </tr>\n",
              "    <tr>\n",
              "      <th>957499</th>\n",
              "      <td>sales</td>\n",
              "      <td>junior</td>\n",
              "      <td>medium</td>\n",
              "      <td>2</td>\n",
              "      <td>no</td>\n",
              "      <td>no</td>\n",
              "      <td>4</td>\n",
              "      <td>21600</td>\n",
              "      <td>0.68</td>\n",
              "    </tr>\n",
              "  </tbody>\n",
              "</table>\n",
              "<p>245 rows × 9 columns</p>\n",
              "</div>"
            ],
            "text/plain": [
              "              dept   level workload  employment_years last_year_promo  \\\n",
              "id                                                                      \n",
              "302957  purchasing  junior      low                 1              no   \n",
              "752399       sales  middle      low                 7              no   \n",
              "802286       sales  junior   medium                 1              no   \n",
              "167303       sales  junior   medium                 1              no   \n",
              "191841       sales  junior   medium                 1              no   \n",
              "...            ...     ...      ...               ...             ...   \n",
              "737303       sales  middle   medium                 3              no   \n",
              "281204  technology  junior      low                 2              no   \n",
              "261436       sales  middle      low                 3              no   \n",
              "457950  technology  junior     high                 2              no   \n",
              "957499       sales  junior   medium                 2              no   \n",
              "\n",
              "       last_year_violations  supervisor_evaluation  salary  \\\n",
              "id                                                           \n",
              "302957                   no                      4   15600   \n",
              "752399                   no                      4   28800   \n",
              "802286                   no                      4   21600   \n",
              "167303                   no                      3   24000   \n",
              "191841                   no                      5   21600   \n",
              "...                     ...                    ...     ...   \n",
              "737303                   no                      4   33600   \n",
              "281204                   no                      4   15600   \n",
              "261436                   no                      3   22800   \n",
              "457950                   no                      3   46800   \n",
              "957499                   no                      4   21600   \n",
              "\n",
              "        job_satisfaction_rate  \n",
              "id                             \n",
              "302957                   0.61  \n",
              "752399                   0.77  \n",
              "802286                   0.43  \n",
              "167303                   0.34  \n",
              "191841                   0.44  \n",
              "...                       ...  \n",
              "737303                   0.47  \n",
              "281204                   0.68  \n",
              "261436                   0.18  \n",
              "457950                   0.45  \n",
              "957499                   0.68  \n",
              "\n",
              "[245 rows x 9 columns]"
            ]
          },
          "execution_count": 27,
          "metadata": {},
          "output_type": "execute_result"
        }
      ],
      "execution_count": 27
    },
    {
      "id": "7240da87",
      "cell_type": "markdown",
      "source": "В датафрейме с обучающими данными имеется 245 дубликатов, однако им всем присвоины разные id. Избавимся от таких записей.",
      "metadata": {}
    },
    {
      "id": "77b83c06",
      "cell_type": "code",
      "source": "df_clear = df.drop_duplicates()\nlen(df_clear)",
      "metadata": {},
      "outputs": [
        {
          "data": {
            "text/plain": [
              "3755"
            ]
          },
          "execution_count": 28,
          "metadata": {},
          "output_type": "execute_result"
        }
      ],
      "execution_count": 28
    },
    {
      "id": "0f5ca367",
      "cell_type": "code",
      "source": "features_and_target = features_and_target.set_index('id')[features_and_target.set_index('id').duplicated()]",
      "metadata": {},
      "outputs": [],
      "execution_count": 29
    },
    {
      "id": "3f3afd53",
      "cell_type": "code",
      "source": "def smape(y_test, pred):\n    metric = 100/len(y_test)*np.sum(2*np.abs(pred-y_test)/(np.abs(y_test)+np.abs(pred)))\n    return metric\n\nscorer_smape = make_scorer(smape, greater_is_better=False)",
      "metadata": {},
      "outputs": [],
      "execution_count": 30
    },
    {
      "id": "aba993f2",
      "cell_type": "code",
      "source": "df_clear[df_clear.duplicated()]",
      "metadata": {},
      "outputs": [
        {
          "data": {
            "text/html": [
              "<div>\n",
              "<style scoped>\n",
              "    .dataframe tbody tr th:only-of-type {\n",
              "        vertical-align: middle;\n",
              "    }\n",
              "\n",
              "    .dataframe tbody tr th {\n",
              "        vertical-align: top;\n",
              "    }\n",
              "\n",
              "    .dataframe thead th {\n",
              "        text-align: right;\n",
              "    }\n",
              "</style>\n",
              "<table border=\"1\" class=\"dataframe\">\n",
              "  <thead>\n",
              "    <tr style=\"text-align: right;\">\n",
              "      <th></th>\n",
              "      <th>dept</th>\n",
              "      <th>level</th>\n",
              "      <th>workload</th>\n",
              "      <th>employment_years</th>\n",
              "      <th>last_year_promo</th>\n",
              "      <th>last_year_violations</th>\n",
              "      <th>supervisor_evaluation</th>\n",
              "      <th>salary</th>\n",
              "      <th>job_satisfaction_rate</th>\n",
              "    </tr>\n",
              "    <tr>\n",
              "      <th>id</th>\n",
              "      <th></th>\n",
              "      <th></th>\n",
              "      <th></th>\n",
              "      <th></th>\n",
              "      <th></th>\n",
              "      <th></th>\n",
              "      <th></th>\n",
              "      <th></th>\n",
              "      <th></th>\n",
              "    </tr>\n",
              "  </thead>\n",
              "  <tbody>\n",
              "  </tbody>\n",
              "</table>\n",
              "</div>"
            ],
            "text/plain": [
              "Empty DataFrame\n",
              "Columns: [dept, level, workload, employment_years, last_year_promo, last_year_violations, supervisor_evaluation, salary, job_satisfaction_rate]\n",
              "Index: []"
            ]
          },
          "execution_count": 31,
          "metadata": {},
          "output_type": "execute_result"
        }
      ],
      "execution_count": 31
    },
    {
      "id": "24252d93",
      "cell_type": "code",
      "source": "X_train = df_clear.drop(['job_satisfaction_rate'], axis=1)\n#X_test = features\nX_test = features_and_target.drop(['job_satisfaction_rate'], axis=1)\ny_train = df_clear['job_satisfaction_rate']\n#y_test = target['job_satisfaction_rate']\ny_test = features_and_target['job_satisfaction_rate']\n\nX_train.shape, X_test.shape, y_train.shape, y_test.shape",
      "metadata": {},
      "outputs": [
        {
          "data": {
            "text/plain": [
              "((3755, 8), (83, 8), (3755,), (83,))"
            ]
          },
          "execution_count": 32,
          "metadata": {},
          "output_type": "execute_result"
        }
      ],
      "execution_count": 32
    },
    {
      "id": "ba0af907",
      "cell_type": "code",
      "source": "# списки с названиями признаков\nohe_columns = ['dept',\n               'last_year_promo',\n               'last_year_violations']\n\nord_columns = ['level',\n               'workload']\n\nnum_columns = ['employment_years',\n               'supervisor_evaluation',\n               'salary']\n\n# пайплайн для подготовки признаков из списка ohe_columns\nohe_pipe = Pipeline(\n    [\n        ('simpleImputer_ohe', SimpleImputer(missing_values=np.nan, strategy='most_frequent')),\n        ('ohe', OneHotEncoder(drop='first', handle_unknown='ignore', sparse=False))\n    ]\n)\n\n# создаём пайплайн для подготовки признаков из списка ord_columns\nord_pipe = Pipeline(\n    [('simpleImputer_before_ord', SimpleImputer(missing_values=np.nan, strategy='most_frequent')),\n     ('ord', OrdinalEncoder(\n                categories=[\n                    ['junior', 'middle', 'sinior'],\n                    ['low', 'medium', 'high']], \n                handle_unknown='use_encoded_value',\n                unknown_value=np.nan)),\n     ('simpleImputer_after_ord', SimpleImputer(missing_values=np.nan, strategy='most_frequent'))\n    ]\n)\n\n# создаём общий пайплайн для подготовки данных\ndata_preprocessor = ColumnTransformer(\n    [\n        ('ohe', ohe_pipe, ohe_columns),\n        ('ord', ord_pipe, ord_columns),\n        ('num', MinMaxScaler(), num_columns)\n    ], \n    remainder='passthrough')\n\n# создаём итоговый пайплайн: подготовка данных и модель\npipe_final= Pipeline(\n    [\n        ('preprocessor', data_preprocessor),\n        ('models', DecisionTreeRegressor(random_state=RANDOM_STATE))\n    ]\n)\n\nparam_grid = [\n    \n    # словарь для модели LinearRegression\n    {'models': [LinearRegression()],\n     'models__fit_intercept': [True, False],\n     'preprocessor__num': [StandardScaler(), MinMaxScaler(), 'passthrough']},\n    \n    # словарь для модели DecisionTreeRegressor\n    {'models': [DecisionTreeRegressor(random_state=RANDOM_STATE)],\n     'models__max_depth': (None, *range(2,8)),\n     'models__max_features': range(2,50),\n     'models__min_samples_split': range(1,50),#[5, 10, 20, 40],\n     'models__min_samples_leaf': range(1,50),#[2, 4, 8, 16],\n     'preprocessor__num': [StandardScaler(), MinMaxScaler(), 'passthrough']},\n    \n    #словарь для модели RandomForestRegressor\n    {'models': [RandomForestRegressor(random_state=RANDOM_STATE)],\n     'models__n_estimators': range(2,7),\n     'models__max_depth': range(2,10),\n     'preprocessor__num': [StandardScaler(), MinMaxScaler(), 'passthrough']}\n]\n\nrs = RandomizedSearchCV(\n    pipe_final, \n    param_grid, \n    cv=5, \n    scoring=scorer_smape,\n    n_jobs=-1,\n    error_score='raise'\n)",
      "metadata": {},
      "outputs": [],
      "execution_count": 33
    },
    {
      "id": "073aeb4e",
      "cell_type": "code",
      "source": "rs.fit(X_train, y_train)\n\nprint('Лучшая модель и её параметры:\\n\\n', rs.best_estimator_)\nprint('Метрика лучшей модели на тренировочной выборке:', rs.best_score_*(-1))",
      "metadata": {},
      "outputs": [
        {
          "name": "stdout",
          "output_type": "stream",
          "text": [
            "Лучшая модель и её параметры:\n",
            "\n",
            " Pipeline(steps=[('preprocessor',\n",
            "                 ColumnTransformer(remainder='passthrough',\n",
            "                                   transformers=[('ohe',\n",
            "                                                  Pipeline(steps=[('simpleImputer_ohe',\n",
            "                                                                   SimpleImputer(strategy='most_frequent')),\n",
            "                                                                  ('ohe',\n",
            "                                                                   OneHotEncoder(drop='first',\n",
            "                                                                                 handle_unknown='ignore',\n",
            "                                                                                 sparse=False))]),\n",
            "                                                  ['dept', 'last_year_promo',\n",
            "                                                   'last_year_violations']),\n",
            "                                                 ('ord',\n",
            "                                                  Pipeline(steps=[('simpleImputer_before_ord',...\n",
            "                                                                                               'medium',\n",
            "                                                                                               'high']],\n",
            "                                                                                  handle_unknown='use_encoded_value',\n",
            "                                                                                  unknown_value=nan)),\n",
            "                                                                  ('simpleImputer_after_ord',\n",
            "                                                                   SimpleImputer(strategy='most_frequent'))]),\n",
            "                                                  ['level', 'workload']),\n",
            "                                                 ('num', 'passthrough',\n",
            "                                                  ['employment_years',\n",
            "                                                   'supervisor_evaluation',\n",
            "                                                   'salary'])])),\n",
            "                ('models',\n",
            "                 DecisionTreeRegressor(max_features=6, min_samples_leaf=26,\n",
            "                                       min_samples_split=35,\n",
            "                                       random_state=42))])\n",
            "Метрика лучшей модели на тренировочной выборке: 18.95582305871961\n"
          ]
        }
      ],
      "execution_count": 34
    },
    {
      "id": "caaa2429",
      "cell_type": "code",
      "source": "y_pred = rs.best_estimator_.predict(X_test)\nprint(f'Метрика sMAPE на тестовой выборке: {smape(y_test, y_pred)}')",
      "metadata": {
        "scrolled": true
      },
      "outputs": [
        {
          "name": "stdout",
          "output_type": "stream",
          "text": [
            "Метрика sMAPE на тестовой выборке: 12.768653413162735\n"
          ]
        }
      ],
      "execution_count": 35
    },
    {
      "id": "287e9334",
      "cell_type": "markdown",
      "source": "<font color='green' size=+2><b>1.4. Выводы к задаче 1</b></font><br>",
      "metadata": {}
    },
    {
      "id": "0f885be2",
      "cell_type": "markdown",
      "source": "В нашем случае, модель DecisionTreeRegressor с параметрами max_features=6, min_samples_leaf=26, min_samples_split=35 справилась лучше конкурентов. ",
      "metadata": {}
    },
    {
      "id": "2a217d97",
      "cell_type": "markdown",
      "source": "<font color='green' size=+2><b>Задача 2</b></font><br>",
      "metadata": {}
    },
    {
      "id": "837e71a9",
      "cell_type": "markdown",
      "source": "<font color='green' size=+2><b>2.1. Загрузка данных</b></font><br>",
      "metadata": {}
    },
    {
      "id": "400f5e44",
      "cell_type": "code",
      "source": "train_quit = pd.read_csv('train_quit.csv', delimiter=',', decimal='.')\ntest_features = pd.read_csv('test_features.csv', delimiter=',', decimal='.')\ntest_target = pd.read_csv('test_target_quit.csv', delimiter=',', decimal='.')",
      "metadata": {},
      "outputs": [],
      "execution_count": 36
    },
    {
      "id": "ada03b28",
      "cell_type": "code",
      "source": "train_quit.head()",
      "metadata": {},
      "outputs": [
        {
          "data": {
            "text/html": [
              "<div>\n",
              "<style scoped>\n",
              "    .dataframe tbody tr th:only-of-type {\n",
              "        vertical-align: middle;\n",
              "    }\n",
              "\n",
              "    .dataframe tbody tr th {\n",
              "        vertical-align: top;\n",
              "    }\n",
              "\n",
              "    .dataframe thead th {\n",
              "        text-align: right;\n",
              "    }\n",
              "</style>\n",
              "<table border=\"1\" class=\"dataframe\">\n",
              "  <thead>\n",
              "    <tr style=\"text-align: right;\">\n",
              "      <th></th>\n",
              "      <th>id</th>\n",
              "      <th>dept</th>\n",
              "      <th>level</th>\n",
              "      <th>workload</th>\n",
              "      <th>employment_years</th>\n",
              "      <th>last_year_promo</th>\n",
              "      <th>last_year_violations</th>\n",
              "      <th>supervisor_evaluation</th>\n",
              "      <th>salary</th>\n",
              "      <th>quit</th>\n",
              "    </tr>\n",
              "  </thead>\n",
              "  <tbody>\n",
              "    <tr>\n",
              "      <th>0</th>\n",
              "      <td>723290</td>\n",
              "      <td>sales</td>\n",
              "      <td>middle</td>\n",
              "      <td>high</td>\n",
              "      <td>2</td>\n",
              "      <td>no</td>\n",
              "      <td>no</td>\n",
              "      <td>4</td>\n",
              "      <td>54000</td>\n",
              "      <td>no</td>\n",
              "    </tr>\n",
              "    <tr>\n",
              "      <th>1</th>\n",
              "      <td>814010</td>\n",
              "      <td>sales</td>\n",
              "      <td>junior</td>\n",
              "      <td>medium</td>\n",
              "      <td>2</td>\n",
              "      <td>no</td>\n",
              "      <td>no</td>\n",
              "      <td>4</td>\n",
              "      <td>27600</td>\n",
              "      <td>no</td>\n",
              "    </tr>\n",
              "    <tr>\n",
              "      <th>2</th>\n",
              "      <td>155091</td>\n",
              "      <td>purchasing</td>\n",
              "      <td>middle</td>\n",
              "      <td>medium</td>\n",
              "      <td>5</td>\n",
              "      <td>no</td>\n",
              "      <td>no</td>\n",
              "      <td>1</td>\n",
              "      <td>37200</td>\n",
              "      <td>no</td>\n",
              "    </tr>\n",
              "    <tr>\n",
              "      <th>3</th>\n",
              "      <td>257132</td>\n",
              "      <td>sales</td>\n",
              "      <td>junior</td>\n",
              "      <td>medium</td>\n",
              "      <td>2</td>\n",
              "      <td>no</td>\n",
              "      <td>yes</td>\n",
              "      <td>3</td>\n",
              "      <td>24000</td>\n",
              "      <td>yes</td>\n",
              "    </tr>\n",
              "    <tr>\n",
              "      <th>4</th>\n",
              "      <td>910140</td>\n",
              "      <td>marketing</td>\n",
              "      <td>junior</td>\n",
              "      <td>medium</td>\n",
              "      <td>2</td>\n",
              "      <td>no</td>\n",
              "      <td>no</td>\n",
              "      <td>5</td>\n",
              "      <td>25200</td>\n",
              "      <td>no</td>\n",
              "    </tr>\n",
              "  </tbody>\n",
              "</table>\n",
              "</div>"
            ],
            "text/plain": [
              "       id        dept   level workload  employment_years last_year_promo  \\\n",
              "0  723290       sales  middle     high                 2              no   \n",
              "1  814010       sales  junior   medium                 2              no   \n",
              "2  155091  purchasing  middle   medium                 5              no   \n",
              "3  257132       sales  junior   medium                 2              no   \n",
              "4  910140   marketing  junior   medium                 2              no   \n",
              "\n",
              "  last_year_violations  supervisor_evaluation  salary quit  \n",
              "0                   no                      4   54000   no  \n",
              "1                   no                      4   27600   no  \n",
              "2                   no                      1   37200   no  \n",
              "3                  yes                      3   24000  yes  \n",
              "4                   no                      5   25200   no  "
            ]
          },
          "execution_count": 37,
          "metadata": {},
          "output_type": "execute_result"
        }
      ],
      "execution_count": 37
    },
    {
      "id": "26e516fe",
      "cell_type": "code",
      "source": "df_info(train_quit)",
      "metadata": {},
      "outputs": [
        {
          "name": "stdout",
          "output_type": "stream",
          "text": [
            "<class 'pandas.core.frame.DataFrame'>\n",
            "RangeIndex: 4000 entries, 0 to 3999\n",
            "Data columns (total 10 columns):\n",
            " #   Column                 Non-Null Count  Dtype \n",
            "---  ------                 --------------  ----- \n",
            " 0   id                     4000 non-null   int64 \n",
            " 1   dept                   4000 non-null   object\n",
            " 2   level                  4000 non-null   object\n",
            " 3   workload               4000 non-null   object\n",
            " 4   employment_years       4000 non-null   int64 \n",
            " 5   last_year_promo        4000 non-null   object\n",
            " 6   last_year_violations   4000 non-null   object\n",
            " 7   supervisor_evaluation  4000 non-null   int64 \n",
            " 8   salary                 4000 non-null   int64 \n",
            " 9   quit                   4000 non-null   object\n",
            "dtypes: int64(4), object(6)\n",
            "memory usage: 312.6+ KB\n"
          ]
        },
        {
          "data": {
            "text/plain": [
              "(None,\n",
              "                   id  employment_years  supervisor_evaluation        salary\n",
              " count    4000.000000       4000.000000            4000.000000   4000.000000\n",
              " mean   552099.283750          3.701500               3.474750  33805.800000\n",
              " std    260158.031387          2.541852               1.004049  15152.415163\n",
              " min    100222.000000          1.000000               1.000000  12000.000000\n",
              " 25%    327785.750000          2.000000               3.000000  22800.000000\n",
              " 50%    546673.000000          3.000000               4.000000  30000.000000\n",
              " 75%    781497.750000          6.000000               4.000000  43200.000000\n",
              " max    999915.000000         10.000000               5.000000  96000.000000)"
            ]
          },
          "execution_count": 38,
          "metadata": {},
          "output_type": "execute_result"
        }
      ],
      "execution_count": 38
    },
    {
      "id": "35124e4d",
      "cell_type": "code",
      "source": "df_info(test_features)",
      "metadata": {},
      "outputs": [
        {
          "name": "stdout",
          "output_type": "stream",
          "text": [
            "<class 'pandas.core.frame.DataFrame'>\n",
            "RangeIndex: 2000 entries, 0 to 1999\n",
            "Data columns (total 9 columns):\n",
            " #   Column                 Non-Null Count  Dtype \n",
            "---  ------                 --------------  ----- \n",
            " 0   id                     2000 non-null   int64 \n",
            " 1   dept                   1998 non-null   object\n",
            " 2   level                  1999 non-null   object\n",
            " 3   workload               2000 non-null   object\n",
            " 4   employment_years       2000 non-null   int64 \n",
            " 5   last_year_promo        2000 non-null   object\n",
            " 6   last_year_violations   2000 non-null   object\n",
            " 7   supervisor_evaluation  2000 non-null   int64 \n",
            " 8   salary                 2000 non-null   int64 \n",
            "dtypes: int64(4), object(5)\n",
            "memory usage: 140.8+ KB\n"
          ]
        },
        {
          "data": {
            "text/plain": [
              "(None,\n",
              "                   id  employment_years  supervisor_evaluation        salary\n",
              " count    2000.000000       2000.000000            2000.000000   2000.000000\n",
              " mean   552765.213500          3.666500               3.526500  34066.800000\n",
              " std    253851.326129          2.537222               0.996892  15398.436729\n",
              " min    100298.000000          1.000000               1.000000  12000.000000\n",
              " 25%    339052.000000          1.000000               3.000000  22800.000000\n",
              " 50%    550793.000000          3.000000               4.000000  30000.000000\n",
              " 75%    765763.750000          6.000000               4.000000  43200.000000\n",
              " max    999029.000000         10.000000               5.000000  96000.000000)"
            ]
          },
          "execution_count": 39,
          "metadata": {},
          "output_type": "execute_result"
        }
      ],
      "execution_count": 39
    },
    {
      "id": "dc81448f",
      "cell_type": "markdown",
      "source": "<font color='green' size=+2><b>2.2. Предобработка данных</b></font><br>",
      "metadata": {}
    },
    {
      "id": "81266b86",
      "cell_type": "code",
      "source": "train_quit.head()",
      "metadata": {},
      "outputs": [
        {
          "data": {
            "text/html": [
              "<div>\n",
              "<style scoped>\n",
              "    .dataframe tbody tr th:only-of-type {\n",
              "        vertical-align: middle;\n",
              "    }\n",
              "\n",
              "    .dataframe tbody tr th {\n",
              "        vertical-align: top;\n",
              "    }\n",
              "\n",
              "    .dataframe thead th {\n",
              "        text-align: right;\n",
              "    }\n",
              "</style>\n",
              "<table border=\"1\" class=\"dataframe\">\n",
              "  <thead>\n",
              "    <tr style=\"text-align: right;\">\n",
              "      <th></th>\n",
              "      <th>id</th>\n",
              "      <th>dept</th>\n",
              "      <th>level</th>\n",
              "      <th>workload</th>\n",
              "      <th>employment_years</th>\n",
              "      <th>last_year_promo</th>\n",
              "      <th>last_year_violations</th>\n",
              "      <th>supervisor_evaluation</th>\n",
              "      <th>salary</th>\n",
              "      <th>quit</th>\n",
              "    </tr>\n",
              "  </thead>\n",
              "  <tbody>\n",
              "    <tr>\n",
              "      <th>0</th>\n",
              "      <td>723290</td>\n",
              "      <td>sales</td>\n",
              "      <td>middle</td>\n",
              "      <td>high</td>\n",
              "      <td>2</td>\n",
              "      <td>no</td>\n",
              "      <td>no</td>\n",
              "      <td>4</td>\n",
              "      <td>54000</td>\n",
              "      <td>no</td>\n",
              "    </tr>\n",
              "    <tr>\n",
              "      <th>1</th>\n",
              "      <td>814010</td>\n",
              "      <td>sales</td>\n",
              "      <td>junior</td>\n",
              "      <td>medium</td>\n",
              "      <td>2</td>\n",
              "      <td>no</td>\n",
              "      <td>no</td>\n",
              "      <td>4</td>\n",
              "      <td>27600</td>\n",
              "      <td>no</td>\n",
              "    </tr>\n",
              "    <tr>\n",
              "      <th>2</th>\n",
              "      <td>155091</td>\n",
              "      <td>purchasing</td>\n",
              "      <td>middle</td>\n",
              "      <td>medium</td>\n",
              "      <td>5</td>\n",
              "      <td>no</td>\n",
              "      <td>no</td>\n",
              "      <td>1</td>\n",
              "      <td>37200</td>\n",
              "      <td>no</td>\n",
              "    </tr>\n",
              "    <tr>\n",
              "      <th>3</th>\n",
              "      <td>257132</td>\n",
              "      <td>sales</td>\n",
              "      <td>junior</td>\n",
              "      <td>medium</td>\n",
              "      <td>2</td>\n",
              "      <td>no</td>\n",
              "      <td>yes</td>\n",
              "      <td>3</td>\n",
              "      <td>24000</td>\n",
              "      <td>yes</td>\n",
              "    </tr>\n",
              "    <tr>\n",
              "      <th>4</th>\n",
              "      <td>910140</td>\n",
              "      <td>marketing</td>\n",
              "      <td>junior</td>\n",
              "      <td>medium</td>\n",
              "      <td>2</td>\n",
              "      <td>no</td>\n",
              "      <td>no</td>\n",
              "      <td>5</td>\n",
              "      <td>25200</td>\n",
              "      <td>no</td>\n",
              "    </tr>\n",
              "  </tbody>\n",
              "</table>\n",
              "</div>"
            ],
            "text/plain": [
              "       id        dept   level workload  employment_years last_year_promo  \\\n",
              "0  723290       sales  middle     high                 2              no   \n",
              "1  814010       sales  junior   medium                 2              no   \n",
              "2  155091  purchasing  middle   medium                 5              no   \n",
              "3  257132       sales  junior   medium                 2              no   \n",
              "4  910140   marketing  junior   medium                 2              no   \n",
              "\n",
              "  last_year_violations  supervisor_evaluation  salary quit  \n",
              "0                   no                      4   54000   no  \n",
              "1                   no                      4   27600   no  \n",
              "2                   no                      1   37200   no  \n",
              "3                  yes                      3   24000  yes  \n",
              "4                   no                      5   25200   no  "
            ]
          },
          "execution_count": 40,
          "metadata": {},
          "output_type": "execute_result"
        }
      ],
      "execution_count": 40
    },
    {
      "id": "81305270",
      "cell_type": "code",
      "source": "train_quit.set_index('id')[train_quit.set_index('id').duplicated()]",
      "metadata": {},
      "outputs": [
        {
          "data": {
            "text/html": [
              "<div>\n",
              "<style scoped>\n",
              "    .dataframe tbody tr th:only-of-type {\n",
              "        vertical-align: middle;\n",
              "    }\n",
              "\n",
              "    .dataframe tbody tr th {\n",
              "        vertical-align: top;\n",
              "    }\n",
              "\n",
              "    .dataframe thead th {\n",
              "        text-align: right;\n",
              "    }\n",
              "</style>\n",
              "<table border=\"1\" class=\"dataframe\">\n",
              "  <thead>\n",
              "    <tr style=\"text-align: right;\">\n",
              "      <th></th>\n",
              "      <th>dept</th>\n",
              "      <th>level</th>\n",
              "      <th>workload</th>\n",
              "      <th>employment_years</th>\n",
              "      <th>last_year_promo</th>\n",
              "      <th>last_year_violations</th>\n",
              "      <th>supervisor_evaluation</th>\n",
              "      <th>salary</th>\n",
              "      <th>quit</th>\n",
              "    </tr>\n",
              "    <tr>\n",
              "      <th>id</th>\n",
              "      <th></th>\n",
              "      <th></th>\n",
              "      <th></th>\n",
              "      <th></th>\n",
              "      <th></th>\n",
              "      <th></th>\n",
              "      <th></th>\n",
              "      <th></th>\n",
              "      <th></th>\n",
              "    </tr>\n",
              "  </thead>\n",
              "  <tbody>\n",
              "    <tr>\n",
              "      <th>873412</th>\n",
              "      <td>technology</td>\n",
              "      <td>junior</td>\n",
              "      <td>medium</td>\n",
              "      <td>2</td>\n",
              "      <td>no</td>\n",
              "      <td>no</td>\n",
              "      <td>4</td>\n",
              "      <td>31200</td>\n",
              "      <td>no</td>\n",
              "    </tr>\n",
              "    <tr>\n",
              "      <th>749683</th>\n",
              "      <td>sales</td>\n",
              "      <td>middle</td>\n",
              "      <td>low</td>\n",
              "      <td>8</td>\n",
              "      <td>no</td>\n",
              "      <td>no</td>\n",
              "      <td>4</td>\n",
              "      <td>19200</td>\n",
              "      <td>no</td>\n",
              "    </tr>\n",
              "    <tr>\n",
              "      <th>689526</th>\n",
              "      <td>marketing</td>\n",
              "      <td>middle</td>\n",
              "      <td>low</td>\n",
              "      <td>6</td>\n",
              "      <td>no</td>\n",
              "      <td>no</td>\n",
              "      <td>3</td>\n",
              "      <td>30000</td>\n",
              "      <td>no</td>\n",
              "    </tr>\n",
              "    <tr>\n",
              "      <th>786443</th>\n",
              "      <td>purchasing</td>\n",
              "      <td>middle</td>\n",
              "      <td>low</td>\n",
              "      <td>6</td>\n",
              "      <td>no</td>\n",
              "      <td>no</td>\n",
              "      <td>4</td>\n",
              "      <td>19200</td>\n",
              "      <td>no</td>\n",
              "    </tr>\n",
              "    <tr>\n",
              "      <th>362060</th>\n",
              "      <td>sales</td>\n",
              "      <td>junior</td>\n",
              "      <td>low</td>\n",
              "      <td>1</td>\n",
              "      <td>no</td>\n",
              "      <td>no</td>\n",
              "      <td>4</td>\n",
              "      <td>12000</td>\n",
              "      <td>yes</td>\n",
              "    </tr>\n",
              "    <tr>\n",
              "      <th>...</th>\n",
              "      <td>...</td>\n",
              "      <td>...</td>\n",
              "      <td>...</td>\n",
              "      <td>...</td>\n",
              "      <td>...</td>\n",
              "      <td>...</td>\n",
              "      <td>...</td>\n",
              "      <td>...</td>\n",
              "      <td>...</td>\n",
              "    </tr>\n",
              "    <tr>\n",
              "      <th>632886</th>\n",
              "      <td>sales</td>\n",
              "      <td>junior</td>\n",
              "      <td>low</td>\n",
              "      <td>3</td>\n",
              "      <td>no</td>\n",
              "      <td>no</td>\n",
              "      <td>4</td>\n",
              "      <td>12000</td>\n",
              "      <td>no</td>\n",
              "    </tr>\n",
              "    <tr>\n",
              "      <th>387733</th>\n",
              "      <td>marketing</td>\n",
              "      <td>middle</td>\n",
              "      <td>medium</td>\n",
              "      <td>5</td>\n",
              "      <td>no</td>\n",
              "      <td>no</td>\n",
              "      <td>3</td>\n",
              "      <td>44400</td>\n",
              "      <td>no</td>\n",
              "    </tr>\n",
              "    <tr>\n",
              "      <th>588809</th>\n",
              "      <td>sales</td>\n",
              "      <td>junior</td>\n",
              "      <td>medium</td>\n",
              "      <td>4</td>\n",
              "      <td>no</td>\n",
              "      <td>no</td>\n",
              "      <td>3</td>\n",
              "      <td>26400</td>\n",
              "      <td>no</td>\n",
              "    </tr>\n",
              "    <tr>\n",
              "      <th>672059</th>\n",
              "      <td>sales</td>\n",
              "      <td>middle</td>\n",
              "      <td>high</td>\n",
              "      <td>9</td>\n",
              "      <td>no</td>\n",
              "      <td>no</td>\n",
              "      <td>4</td>\n",
              "      <td>52800</td>\n",
              "      <td>no</td>\n",
              "    </tr>\n",
              "    <tr>\n",
              "      <th>853842</th>\n",
              "      <td>sales</td>\n",
              "      <td>junior</td>\n",
              "      <td>medium</td>\n",
              "      <td>2</td>\n",
              "      <td>no</td>\n",
              "      <td>no</td>\n",
              "      <td>3</td>\n",
              "      <td>27600</td>\n",
              "      <td>yes</td>\n",
              "    </tr>\n",
              "  </tbody>\n",
              "</table>\n",
              "<p>1413 rows × 9 columns</p>\n",
              "</div>"
            ],
            "text/plain": [
              "              dept   level workload  employment_years last_year_promo  \\\n",
              "id                                                                      \n",
              "873412  technology  junior   medium                 2              no   \n",
              "749683       sales  middle      low                 8              no   \n",
              "689526   marketing  middle      low                 6              no   \n",
              "786443  purchasing  middle      low                 6              no   \n",
              "362060       sales  junior      low                 1              no   \n",
              "...            ...     ...      ...               ...             ...   \n",
              "632886       sales  junior      low                 3              no   \n",
              "387733   marketing  middle   medium                 5              no   \n",
              "588809       sales  junior   medium                 4              no   \n",
              "672059       sales  middle     high                 9              no   \n",
              "853842       sales  junior   medium                 2              no   \n",
              "\n",
              "       last_year_violations  supervisor_evaluation  salary quit  \n",
              "id                                                               \n",
              "873412                   no                      4   31200   no  \n",
              "749683                   no                      4   19200   no  \n",
              "689526                   no                      3   30000   no  \n",
              "786443                   no                      4   19200   no  \n",
              "362060                   no                      4   12000  yes  \n",
              "...                     ...                    ...     ...  ...  \n",
              "632886                   no                      4   12000   no  \n",
              "387733                   no                      3   44400   no  \n",
              "588809                   no                      3   26400   no  \n",
              "672059                   no                      4   52800   no  \n",
              "853842                   no                      3   27600  yes  \n",
              "\n",
              "[1413 rows x 9 columns]"
            ]
          },
          "execution_count": 41,
          "metadata": {},
          "output_type": "execute_result"
        }
      ],
      "execution_count": 41
    },
    {
      "id": "59c1dc0e",
      "cell_type": "markdown",
      "source": "У нас есть много дубликатов в тренировочной выборке, избавимся от них перед разделением на тестовые выборки и обучением модели.",
      "metadata": {}
    },
    {
      "id": "01ffc2f7",
      "cell_type": "code",
      "source": "test_features_target = test_features.merge(test_target, on='id', how='inner')\ntest_features_target.set_index('id')[test_features_target.set_index('id').duplicated()]",
      "metadata": {},
      "outputs": [
        {
          "data": {
            "text/html": [
              "<div>\n",
              "<style scoped>\n",
              "    .dataframe tbody tr th:only-of-type {\n",
              "        vertical-align: middle;\n",
              "    }\n",
              "\n",
              "    .dataframe tbody tr th {\n",
              "        vertical-align: top;\n",
              "    }\n",
              "\n",
              "    .dataframe thead th {\n",
              "        text-align: right;\n",
              "    }\n",
              "</style>\n",
              "<table border=\"1\" class=\"dataframe\">\n",
              "  <thead>\n",
              "    <tr style=\"text-align: right;\">\n",
              "      <th></th>\n",
              "      <th>dept</th>\n",
              "      <th>level</th>\n",
              "      <th>workload</th>\n",
              "      <th>employment_years</th>\n",
              "      <th>last_year_promo</th>\n",
              "      <th>last_year_violations</th>\n",
              "      <th>supervisor_evaluation</th>\n",
              "      <th>salary</th>\n",
              "      <th>quit</th>\n",
              "    </tr>\n",
              "    <tr>\n",
              "      <th>id</th>\n",
              "      <th></th>\n",
              "      <th></th>\n",
              "      <th></th>\n",
              "      <th></th>\n",
              "      <th></th>\n",
              "      <th></th>\n",
              "      <th></th>\n",
              "      <th></th>\n",
              "      <th></th>\n",
              "    </tr>\n",
              "  </thead>\n",
              "  <tbody>\n",
              "    <tr>\n",
              "      <th>523542</th>\n",
              "      <td>marketing</td>\n",
              "      <td>junior</td>\n",
              "      <td>low</td>\n",
              "      <td>1</td>\n",
              "      <td>no</td>\n",
              "      <td>no</td>\n",
              "      <td>3</td>\n",
              "      <td>16800</td>\n",
              "      <td>yes</td>\n",
              "    </tr>\n",
              "    <tr>\n",
              "      <th>582128</th>\n",
              "      <td>sales</td>\n",
              "      <td>middle</td>\n",
              "      <td>high</td>\n",
              "      <td>5</td>\n",
              "      <td>no</td>\n",
              "      <td>no</td>\n",
              "      <td>4</td>\n",
              "      <td>48000</td>\n",
              "      <td>no</td>\n",
              "    </tr>\n",
              "    <tr>\n",
              "      <th>482624</th>\n",
              "      <td>technology</td>\n",
              "      <td>middle</td>\n",
              "      <td>medium</td>\n",
              "      <td>4</td>\n",
              "      <td>yes</td>\n",
              "      <td>no</td>\n",
              "      <td>2</td>\n",
              "      <td>44400</td>\n",
              "      <td>no</td>\n",
              "    </tr>\n",
              "    <tr>\n",
              "      <th>770429</th>\n",
              "      <td>hr</td>\n",
              "      <td>junior</td>\n",
              "      <td>medium</td>\n",
              "      <td>1</td>\n",
              "      <td>no</td>\n",
              "      <td>no</td>\n",
              "      <td>4</td>\n",
              "      <td>30000</td>\n",
              "      <td>no</td>\n",
              "    </tr>\n",
              "    <tr>\n",
              "      <th>493196</th>\n",
              "      <td>sales</td>\n",
              "      <td>junior</td>\n",
              "      <td>low</td>\n",
              "      <td>1</td>\n",
              "      <td>no</td>\n",
              "      <td>no</td>\n",
              "      <td>4</td>\n",
              "      <td>12000</td>\n",
              "      <td>yes</td>\n",
              "    </tr>\n",
              "    <tr>\n",
              "      <th>...</th>\n",
              "      <td>...</td>\n",
              "      <td>...</td>\n",
              "      <td>...</td>\n",
              "      <td>...</td>\n",
              "      <td>...</td>\n",
              "      <td>...</td>\n",
              "      <td>...</td>\n",
              "      <td>...</td>\n",
              "      <td>...</td>\n",
              "    </tr>\n",
              "    <tr>\n",
              "      <th>760964</th>\n",
              "      <td>sales</td>\n",
              "      <td>junior</td>\n",
              "      <td>medium</td>\n",
              "      <td>3</td>\n",
              "      <td>no</td>\n",
              "      <td>no</td>\n",
              "      <td>5</td>\n",
              "      <td>21600</td>\n",
              "      <td>no</td>\n",
              "    </tr>\n",
              "    <tr>\n",
              "      <th>380255</th>\n",
              "      <td>sales</td>\n",
              "      <td>middle</td>\n",
              "      <td>medium</td>\n",
              "      <td>8</td>\n",
              "      <td>no</td>\n",
              "      <td>no</td>\n",
              "      <td>4</td>\n",
              "      <td>38400</td>\n",
              "      <td>no</td>\n",
              "    </tr>\n",
              "    <tr>\n",
              "      <th>393147</th>\n",
              "      <td>marketing</td>\n",
              "      <td>junior</td>\n",
              "      <td>low</td>\n",
              "      <td>3</td>\n",
              "      <td>no</td>\n",
              "      <td>no</td>\n",
              "      <td>3</td>\n",
              "      <td>20400</td>\n",
              "      <td>yes</td>\n",
              "    </tr>\n",
              "    <tr>\n",
              "      <th>305653</th>\n",
              "      <td>technology</td>\n",
              "      <td>junior</td>\n",
              "      <td>low</td>\n",
              "      <td>1</td>\n",
              "      <td>no</td>\n",
              "      <td>no</td>\n",
              "      <td>3</td>\n",
              "      <td>14400</td>\n",
              "      <td>yes</td>\n",
              "    </tr>\n",
              "    <tr>\n",
              "      <th>160233</th>\n",
              "      <td>technology</td>\n",
              "      <td>middle</td>\n",
              "      <td>low</td>\n",
              "      <td>8</td>\n",
              "      <td>no</td>\n",
              "      <td>no</td>\n",
              "      <td>1</td>\n",
              "      <td>32400</td>\n",
              "      <td>no</td>\n",
              "    </tr>\n",
              "  </tbody>\n",
              "</table>\n",
              "<p>504 rows × 9 columns</p>\n",
              "</div>"
            ],
            "text/plain": [
              "              dept   level workload  employment_years last_year_promo  \\\n",
              "id                                                                      \n",
              "523542   marketing  junior      low                 1              no   \n",
              "582128       sales  middle     high                 5              no   \n",
              "482624  technology  middle   medium                 4             yes   \n",
              "770429          hr  junior   medium                 1              no   \n",
              "493196       sales  junior      low                 1              no   \n",
              "...            ...     ...      ...               ...             ...   \n",
              "760964       sales  junior   medium                 3              no   \n",
              "380255       sales  middle   medium                 8              no   \n",
              "393147   marketing  junior      low                 3              no   \n",
              "305653  technology  junior      low                 1              no   \n",
              "160233  technology  middle      low                 8              no   \n",
              "\n",
              "       last_year_violations  supervisor_evaluation  salary quit  \n",
              "id                                                               \n",
              "523542                   no                      3   16800  yes  \n",
              "582128                   no                      4   48000   no  \n",
              "482624                   no                      2   44400   no  \n",
              "770429                   no                      4   30000   no  \n",
              "493196                   no                      4   12000  yes  \n",
              "...                     ...                    ...     ...  ...  \n",
              "760964                   no                      5   21600   no  \n",
              "380255                   no                      4   38400   no  \n",
              "393147                   no                      3   20400  yes  \n",
              "305653                   no                      3   14400  yes  \n",
              "160233                   no                      1   32400   no  \n",
              "\n",
              "[504 rows x 9 columns]"
            ]
          },
          "execution_count": 42,
          "metadata": {},
          "output_type": "execute_result"
        }
      ],
      "execution_count": 42
    },
    {
      "id": "cb7c2709",
      "cell_type": "markdown",
      "source": "Эти дубликаты удалим перед разделением данных на выборки и обучением модели.\n\nВзглянем на неявные дубликаты в данных",
      "metadata": {}
    },
    {
      "id": "51ca1145",
      "cell_type": "code",
      "source": "new_columns=['dept', 'level', 'workload', 'last_year_promo', 'last_year_violations', 'quit']\nfor el in train_quit[new_columns]:\n    print(train_quit[el].unique())",
      "metadata": {},
      "outputs": [
        {
          "name": "stdout",
          "output_type": "stream",
          "text": [
            "['sales' 'purchasing' 'marketing' 'technology' 'hr']\n",
            "['middle' 'junior' 'sinior']\n",
            "['high' 'medium' 'low']\n",
            "['no' 'yes']\n",
            "['no' 'yes']\n",
            "['no' 'yes']\n"
          ]
        }
      ],
      "execution_count": 43
    },
    {
      "id": "319879b8",
      "cell_type": "code",
      "source": "test_features_col = ['dept', 'level', 'workload', 'last_year_promo', 'last_year_violations']\nfor el in test_features[test_features_col]:\n    print(test_features[el].unique())",
      "metadata": {},
      "outputs": [
        {
          "name": "stdout",
          "output_type": "stream",
          "text": [
            "['marketing' 'hr' 'sales' 'purchasing' 'technology' nan ' ']\n",
            "['junior' 'middle' 'sinior' nan]\n",
            "['medium' 'low' 'high' ' ']\n",
            "['no' 'yes']\n",
            "['no' 'yes']\n"
          ]
        }
      ],
      "execution_count": 44
    },
    {
      "id": "ff7ee1e7",
      "cell_type": "markdown",
      "source": "Заменим значения с пробелом на np.nan",
      "metadata": {}
    },
    {
      "id": "ff86757c",
      "cell_type": "code",
      "source": "test_features['workload'] = test_features['workload'].replace(' ', np.nan)\ntest_features['dept'] = test_features['dept'].replace(' ', np.nan)",
      "metadata": {},
      "outputs": [],
      "execution_count": 45
    },
    {
      "id": "e6242eaf",
      "cell_type": "code",
      "source": "test_target['quit'].unique()",
      "metadata": {},
      "outputs": [
        {
          "data": {
            "text/plain": [
              "array(['yes', 'no'], dtype=object)"
            ]
          },
          "execution_count": 46,
          "metadata": {},
          "output_type": "execute_result"
        }
      ],
      "execution_count": 46
    },
    {
      "id": "86cec380",
      "cell_type": "markdown",
      "source": "<font color='green' size=+2><b>2.3. Исследовательский анализ</b></font><br>",
      "metadata": {}
    },
    {
      "id": "8cf41a74",
      "cell_type": "code",
      "source": "train_quit.query('quit == \"yes\"')['workload'].value_counts(normalize=True)",
      "metadata": {},
      "outputs": [
        {
          "data": {
            "text/plain": [
              "low       0.460106\n",
              "medium    0.432624\n",
              "high      0.107270\n",
              "Name: workload, dtype: float64"
            ]
          },
          "execution_count": 47,
          "metadata": {},
          "output_type": "execute_result"
        }
      ],
      "execution_count": 47
    },
    {
      "id": "0784c779",
      "cell_type": "code",
      "source": "train_quit.query('quit == \"yes\"')['dept'].value_counts(normalize=True)",
      "metadata": {},
      "outputs": [
        {
          "data": {
            "text/plain": [
              "sales         0.360816\n",
              "technology    0.244681\n",
              "purchasing    0.147163\n",
              "marketing     0.144504\n",
              "hr            0.102837\n",
              "Name: dept, dtype: float64"
            ]
          },
          "execution_count": 48,
          "metadata": {},
          "output_type": "execute_result"
        }
      ],
      "execution_count": 48
    },
    {
      "id": "c8632c00",
      "cell_type": "code",
      "source": "def plot_func(data, columns):\n    fig, axes = plt.subplots(nrows=2, ncols=3, figsize=(15, 10))\n    for i, column in enumerate(columns):\n        row_index = i // 3\n        col_index = i % 3\n        data.groupby(column)['id'].count().plot(kind='barh', ax=axes[row_index, col_index], color='lightcoral')\nplot_func(train_quit.query('quit == \"yes\"'), new_columns)",
      "metadata": {},
      "outputs": [
        {
          "data": {
            "image/png": "[encoded data removed]",
            "text/plain": [
              "<Figure size 1080x720 with 6 Axes>"
            ]
          },
          "metadata": {
            "needs_background": "light"
          },
          "output_type": "display_data"
        }
      ],
      "execution_count": 49
    },
    {
      "id": "685320d2",
      "cell_type": "code",
      "source": "new_columns_2 = ['employment_years', 'supervisor_evaluation', 'salary']\nfig, axes = plt.subplots(nrows=1, ncols=3, figsize=(15, 5))\nfor i, column in enumerate(new_columns_2):\n    col_index = i % 3\n    train_quit.query('quit == \"yes\"').boxplot(column=column, ax=axes[col_index])",
      "metadata": {},
      "outputs": [
        {
          "data": {
            "image/png": "[encoded data removed]",
            "text/plain": [
              "<Figure size 1080x360 with 3 Axes>"
            ]
          },
          "metadata": {
            "needs_background": "light"
          },
          "output_type": "display_data"
        }
      ],
      "execution_count": 50
    },
    {
      "id": "a5f54ed1",
      "cell_type": "markdown",
      "source": "В большинстве своем, сотрудники которые хотят уволится это прожадники, за ними идут техспециалисты, что одних что других не повышали за последний год, и в основном - это junior специалисты. Также, в основном это люди со стажем до 3 лет. Ну и наверное основная причина, это зарплата. Пока мы можем сказать, что она 75% уволившихся сотрудников получали менее 30 тысяч. Вероятнее, выбросы - присущи техническим специалистам, давайте проверим.",
      "metadata": {}
    },
    {
      "id": "0454be1c",
      "cell_type": "code",
      "source": "train_quit.query('quit == \"yes\" and salary > 50000')",
      "metadata": {},
      "outputs": [
        {
          "data": {
            "text/html": [
              "<div>\n",
              "<style scoped>\n",
              "    .dataframe tbody tr th:only-of-type {\n",
              "        vertical-align: middle;\n",
              "    }\n",
              "\n",
              "    .dataframe tbody tr th {\n",
              "        vertical-align: top;\n",
              "    }\n",
              "\n",
              "    .dataframe thead th {\n",
              "        text-align: right;\n",
              "    }\n",
              "</style>\n",
              "<table border=\"1\" class=\"dataframe\">\n",
              "  <thead>\n",
              "    <tr style=\"text-align: right;\">\n",
              "      <th></th>\n",
              "      <th>id</th>\n",
              "      <th>dept</th>\n",
              "      <th>level</th>\n",
              "      <th>workload</th>\n",
              "      <th>employment_years</th>\n",
              "      <th>last_year_promo</th>\n",
              "      <th>last_year_violations</th>\n",
              "      <th>supervisor_evaluation</th>\n",
              "      <th>salary</th>\n",
              "      <th>quit</th>\n",
              "    </tr>\n",
              "  </thead>\n",
              "  <tbody>\n",
              "    <tr>\n",
              "      <th>173</th>\n",
              "      <td>552263</td>\n",
              "      <td>marketing</td>\n",
              "      <td>middle</td>\n",
              "      <td>high</td>\n",
              "      <td>2</td>\n",
              "      <td>no</td>\n",
              "      <td>no</td>\n",
              "      <td>3</td>\n",
              "      <td>62400</td>\n",
              "      <td>yes</td>\n",
              "    </tr>\n",
              "    <tr>\n",
              "      <th>194</th>\n",
              "      <td>269621</td>\n",
              "      <td>sales</td>\n",
              "      <td>middle</td>\n",
              "      <td>high</td>\n",
              "      <td>4</td>\n",
              "      <td>no</td>\n",
              "      <td>no</td>\n",
              "      <td>4</td>\n",
              "      <td>58800</td>\n",
              "      <td>yes</td>\n",
              "    </tr>\n",
              "    <tr>\n",
              "      <th>384</th>\n",
              "      <td>171652</td>\n",
              "      <td>hr</td>\n",
              "      <td>middle</td>\n",
              "      <td>high</td>\n",
              "      <td>4</td>\n",
              "      <td>no</td>\n",
              "      <td>yes</td>\n",
              "      <td>4</td>\n",
              "      <td>62400</td>\n",
              "      <td>yes</td>\n",
              "    </tr>\n",
              "    <tr>\n",
              "      <th>848</th>\n",
              "      <td>633488</td>\n",
              "      <td>technology</td>\n",
              "      <td>sinior</td>\n",
              "      <td>high</td>\n",
              "      <td>6</td>\n",
              "      <td>no</td>\n",
              "      <td>no</td>\n",
              "      <td>4</td>\n",
              "      <td>79200</td>\n",
              "      <td>yes</td>\n",
              "    </tr>\n",
              "    <tr>\n",
              "      <th>1273</th>\n",
              "      <td>645336</td>\n",
              "      <td>sales</td>\n",
              "      <td>sinior</td>\n",
              "      <td>high</td>\n",
              "      <td>3</td>\n",
              "      <td>no</td>\n",
              "      <td>no</td>\n",
              "      <td>5</td>\n",
              "      <td>66000</td>\n",
              "      <td>yes</td>\n",
              "    </tr>\n",
              "    <tr>\n",
              "      <th>1728</th>\n",
              "      <td>205905</td>\n",
              "      <td>technology</td>\n",
              "      <td>sinior</td>\n",
              "      <td>high</td>\n",
              "      <td>9</td>\n",
              "      <td>no</td>\n",
              "      <td>no</td>\n",
              "      <td>4</td>\n",
              "      <td>79200</td>\n",
              "      <td>yes</td>\n",
              "    </tr>\n",
              "    <tr>\n",
              "      <th>2271</th>\n",
              "      <td>173956</td>\n",
              "      <td>purchasing</td>\n",
              "      <td>middle</td>\n",
              "      <td>high</td>\n",
              "      <td>6</td>\n",
              "      <td>no</td>\n",
              "      <td>no</td>\n",
              "      <td>2</td>\n",
              "      <td>57600</td>\n",
              "      <td>yes</td>\n",
              "    </tr>\n",
              "    <tr>\n",
              "      <th>2525</th>\n",
              "      <td>848797</td>\n",
              "      <td>technology</td>\n",
              "      <td>middle</td>\n",
              "      <td>medium</td>\n",
              "      <td>3</td>\n",
              "      <td>no</td>\n",
              "      <td>no</td>\n",
              "      <td>4</td>\n",
              "      <td>51600</td>\n",
              "      <td>yes</td>\n",
              "    </tr>\n",
              "    <tr>\n",
              "      <th>2753</th>\n",
              "      <td>474157</td>\n",
              "      <td>sales</td>\n",
              "      <td>middle</td>\n",
              "      <td>high</td>\n",
              "      <td>2</td>\n",
              "      <td>no</td>\n",
              "      <td>no</td>\n",
              "      <td>4</td>\n",
              "      <td>58800</td>\n",
              "      <td>yes</td>\n",
              "    </tr>\n",
              "    <tr>\n",
              "      <th>2829</th>\n",
              "      <td>719562</td>\n",
              "      <td>technology</td>\n",
              "      <td>middle</td>\n",
              "      <td>medium</td>\n",
              "      <td>6</td>\n",
              "      <td>no</td>\n",
              "      <td>no</td>\n",
              "      <td>4</td>\n",
              "      <td>52800</td>\n",
              "      <td>yes</td>\n",
              "    </tr>\n",
              "    <tr>\n",
              "      <th>3267</th>\n",
              "      <td>816935</td>\n",
              "      <td>technology</td>\n",
              "      <td>sinior</td>\n",
              "      <td>medium</td>\n",
              "      <td>9</td>\n",
              "      <td>no</td>\n",
              "      <td>no</td>\n",
              "      <td>3</td>\n",
              "      <td>69600</td>\n",
              "      <td>yes</td>\n",
              "    </tr>\n",
              "    <tr>\n",
              "      <th>3387</th>\n",
              "      <td>629348</td>\n",
              "      <td>purchasing</td>\n",
              "      <td>sinior</td>\n",
              "      <td>medium</td>\n",
              "      <td>5</td>\n",
              "      <td>no</td>\n",
              "      <td>no</td>\n",
              "      <td>4</td>\n",
              "      <td>60000</td>\n",
              "      <td>yes</td>\n",
              "    </tr>\n",
              "    <tr>\n",
              "      <th>3449</th>\n",
              "      <td>427761</td>\n",
              "      <td>hr</td>\n",
              "      <td>sinior</td>\n",
              "      <td>medium</td>\n",
              "      <td>2</td>\n",
              "      <td>no</td>\n",
              "      <td>no</td>\n",
              "      <td>3</td>\n",
              "      <td>60000</td>\n",
              "      <td>yes</td>\n",
              "    </tr>\n",
              "    <tr>\n",
              "      <th>3458</th>\n",
              "      <td>723974</td>\n",
              "      <td>marketing</td>\n",
              "      <td>middle</td>\n",
              "      <td>high</td>\n",
              "      <td>4</td>\n",
              "      <td>no</td>\n",
              "      <td>no</td>\n",
              "      <td>5</td>\n",
              "      <td>51600</td>\n",
              "      <td>yes</td>\n",
              "    </tr>\n",
              "  </tbody>\n",
              "</table>\n",
              "</div>"
            ],
            "text/plain": [
              "          id        dept   level workload  employment_years last_year_promo  \\\n",
              "173   552263   marketing  middle     high                 2              no   \n",
              "194   269621       sales  middle     high                 4              no   \n",
              "384   171652          hr  middle     high                 4              no   \n",
              "848   633488  technology  sinior     high                 6              no   \n",
              "1273  645336       sales  sinior     high                 3              no   \n",
              "1728  205905  technology  sinior     high                 9              no   \n",
              "2271  173956  purchasing  middle     high                 6              no   \n",
              "2525  848797  technology  middle   medium                 3              no   \n",
              "2753  474157       sales  middle     high                 2              no   \n",
              "2829  719562  technology  middle   medium                 6              no   \n",
              "3267  816935  technology  sinior   medium                 9              no   \n",
              "3387  629348  purchasing  sinior   medium                 5              no   \n",
              "3449  427761          hr  sinior   medium                 2              no   \n",
              "3458  723974   marketing  middle     high                 4              no   \n",
              "\n",
              "     last_year_violations  supervisor_evaluation  salary quit  \n",
              "173                    no                      3   62400  yes  \n",
              "194                    no                      4   58800  yes  \n",
              "384                   yes                      4   62400  yes  \n",
              "848                    no                      4   79200  yes  \n",
              "1273                   no                      5   66000  yes  \n",
              "1728                   no                      4   79200  yes  \n",
              "2271                   no                      2   57600  yes  \n",
              "2525                   no                      4   51600  yes  \n",
              "2753                   no                      4   58800  yes  \n",
              "2829                   no                      4   52800  yes  \n",
              "3267                   no                      3   69600  yes  \n",
              "3387                   no                      4   60000  yes  \n",
              "3449                   no                      3   60000  yes  \n",
              "3458                   no                      5   51600  yes  "
            ]
          },
          "execution_count": 51,
          "metadata": {},
          "output_type": "execute_result"
        }
      ],
      "execution_count": 51
    },
    {
      "id": "7ead617e",
      "cell_type": "markdown",
      "source": "Уволившийся персонал, который получал больше 50.000 все имели по большей части высокую загруженность, либо среднюю. Проработали они при этом в компании не менее 2 лет, и они либо miidle либо sinior. Преобладания какого-либо отдела в этом срезе не наблюдается.",
      "metadata": {}
    },
    {
      "id": "c9fa2614",
      "cell_type": "code",
      "source": "train_quit.query('quit == \"no\"').boxplot(column='salary');",
      "metadata": {},
      "outputs": [
        {
          "data": {
            "image/png": "[encoded data removed]",
            "text/plain": [
              "<Figure size 432x288 with 1 Axes>"
            ]
          },
          "metadata": {
            "needs_background": "light"
          },
          "output_type": "display_data"
        }
      ],
      "execution_count": 52
    },
    {
      "id": "15163b78",
      "cell_type": "code",
      "source": "train_quit.query('quit == \"yes\"')['salary'].mean()",
      "metadata": {},
      "outputs": [
        {
          "data": {
            "text/plain": [
              "23885.106382978724"
            ]
          },
          "execution_count": 53,
          "metadata": {},
          "output_type": "execute_result"
        }
      ],
      "execution_count": 53
    },
    {
      "id": "49ab8c69",
      "cell_type": "code",
      "source": "train_quit.query('quit == \"no\"')['salary'].mean()",
      "metadata": {},
      "outputs": [
        {
          "data": {
            "text/plain": [
              "37702.22841225627"
            ]
          },
          "execution_count": 54,
          "metadata": {},
          "output_type": "execute_result"
        }
      ],
      "execution_count": 54
    },
    {
      "id": "fc877571",
      "cell_type": "markdown",
      "source": "Средние зарплаты тех кто уволился на 13.000 меньше чем у тех, кто остался на рабочем месте. Зарплата один из основополагающих фактов для работы, очевидно, что сотрудников такая разница в оплате труда не устраивала.",
      "metadata": {}
    },
    {
      "id": "6e2c7b7e",
      "cell_type": "code",
      "source": "target",
      "metadata": {},
      "outputs": [
        {
          "data": {
            "text/html": [
              "<div>\n",
              "<style scoped>\n",
              "    .dataframe tbody tr th:only-of-type {\n",
              "        vertical-align: middle;\n",
              "    }\n",
              "\n",
              "    .dataframe tbody tr th {\n",
              "        vertical-align: top;\n",
              "    }\n",
              "\n",
              "    .dataframe thead th {\n",
              "        text-align: right;\n",
              "    }\n",
              "</style>\n",
              "<table border=\"1\" class=\"dataframe\">\n",
              "  <thead>\n",
              "    <tr style=\"text-align: right;\">\n",
              "      <th></th>\n",
              "      <th>id</th>\n",
              "      <th>job_satisfaction_rate</th>\n",
              "    </tr>\n",
              "  </thead>\n",
              "  <tbody>\n",
              "    <tr>\n",
              "      <th>0</th>\n",
              "      <td>130604</td>\n",
              "      <td>0.74</td>\n",
              "    </tr>\n",
              "    <tr>\n",
              "      <th>1</th>\n",
              "      <td>825977</td>\n",
              "      <td>0.75</td>\n",
              "    </tr>\n",
              "    <tr>\n",
              "      <th>2</th>\n",
              "      <td>418490</td>\n",
              "      <td>0.60</td>\n",
              "    </tr>\n",
              "    <tr>\n",
              "      <th>3</th>\n",
              "      <td>555320</td>\n",
              "      <td>0.72</td>\n",
              "    </tr>\n",
              "    <tr>\n",
              "      <th>4</th>\n",
              "      <td>826430</td>\n",
              "      <td>0.08</td>\n",
              "    </tr>\n",
              "    <tr>\n",
              "      <th>...</th>\n",
              "      <td>...</td>\n",
              "      <td>...</td>\n",
              "    </tr>\n",
              "    <tr>\n",
              "      <th>1995</th>\n",
              "      <td>405257</td>\n",
              "      <td>0.28</td>\n",
              "    </tr>\n",
              "    <tr>\n",
              "      <th>1996</th>\n",
              "      <td>370925</td>\n",
              "      <td>0.21</td>\n",
              "    </tr>\n",
              "    <tr>\n",
              "      <th>1997</th>\n",
              "      <td>857722</td>\n",
              "      <td>0.39</td>\n",
              "    </tr>\n",
              "    <tr>\n",
              "      <th>1998</th>\n",
              "      <td>303402</td>\n",
              "      <td>0.26</td>\n",
              "    </tr>\n",
              "    <tr>\n",
              "      <th>1999</th>\n",
              "      <td>648995</td>\n",
              "      <td>0.62</td>\n",
              "    </tr>\n",
              "  </tbody>\n",
              "</table>\n",
              "<p>2000 rows × 2 columns</p>\n",
              "</div>"
            ],
            "text/plain": [
              "          id  job_satisfaction_rate\n",
              "0     130604                   0.74\n",
              "1     825977                   0.75\n",
              "2     418490                   0.60\n",
              "3     555320                   0.72\n",
              "4     826430                   0.08\n",
              "...      ...                    ...\n",
              "1995  405257                   0.28\n",
              "1996  370925                   0.21\n",
              "1997  857722                   0.39\n",
              "1998  303402                   0.26\n",
              "1999  648995                   0.62\n",
              "\n",
              "[2000 rows x 2 columns]"
            ]
          },
          "execution_count": 55,
          "metadata": {},
          "output_type": "execute_result"
        }
      ],
      "execution_count": 55
    },
    {
      "id": "51486b20",
      "cell_type": "code",
      "source": "merged_target = target.merge(test_target, how='inner', on='id')\nmerged_target#.set_index('id')[merged_target.set_index('id').duplicated()]",
      "metadata": {},
      "outputs": [
        {
          "data": {
            "text/html": [
              "<div>\n",
              "<style scoped>\n",
              "    .dataframe tbody tr th:only-of-type {\n",
              "        vertical-align: middle;\n",
              "    }\n",
              "\n",
              "    .dataframe tbody tr th {\n",
              "        vertical-align: top;\n",
              "    }\n",
              "\n",
              "    .dataframe thead th {\n",
              "        text-align: right;\n",
              "    }\n",
              "</style>\n",
              "<table border=\"1\" class=\"dataframe\">\n",
              "  <thead>\n",
              "    <tr style=\"text-align: right;\">\n",
              "      <th></th>\n",
              "      <th>id</th>\n",
              "      <th>job_satisfaction_rate</th>\n",
              "      <th>quit</th>\n",
              "    </tr>\n",
              "  </thead>\n",
              "  <tbody>\n",
              "    <tr>\n",
              "      <th>0</th>\n",
              "      <td>130604</td>\n",
              "      <td>0.74</td>\n",
              "      <td>no</td>\n",
              "    </tr>\n",
              "    <tr>\n",
              "      <th>1</th>\n",
              "      <td>825977</td>\n",
              "      <td>0.75</td>\n",
              "      <td>no</td>\n",
              "    </tr>\n",
              "    <tr>\n",
              "      <th>2</th>\n",
              "      <td>418490</td>\n",
              "      <td>0.60</td>\n",
              "      <td>yes</td>\n",
              "    </tr>\n",
              "    <tr>\n",
              "      <th>3</th>\n",
              "      <td>555320</td>\n",
              "      <td>0.72</td>\n",
              "      <td>no</td>\n",
              "    </tr>\n",
              "    <tr>\n",
              "      <th>4</th>\n",
              "      <td>826430</td>\n",
              "      <td>0.08</td>\n",
              "      <td>yes</td>\n",
              "    </tr>\n",
              "    <tr>\n",
              "      <th>...</th>\n",
              "      <td>...</td>\n",
              "      <td>...</td>\n",
              "      <td>...</td>\n",
              "    </tr>\n",
              "    <tr>\n",
              "      <th>1995</th>\n",
              "      <td>405257</td>\n",
              "      <td>0.28</td>\n",
              "      <td>no</td>\n",
              "    </tr>\n",
              "    <tr>\n",
              "      <th>1996</th>\n",
              "      <td>370925</td>\n",
              "      <td>0.21</td>\n",
              "      <td>yes</td>\n",
              "    </tr>\n",
              "    <tr>\n",
              "      <th>1997</th>\n",
              "      <td>857722</td>\n",
              "      <td>0.39</td>\n",
              "      <td>no</td>\n",
              "    </tr>\n",
              "    <tr>\n",
              "      <th>1998</th>\n",
              "      <td>303402</td>\n",
              "      <td>0.26</td>\n",
              "      <td>yes</td>\n",
              "    </tr>\n",
              "    <tr>\n",
              "      <th>1999</th>\n",
              "      <td>648995</td>\n",
              "      <td>0.62</td>\n",
              "      <td>no</td>\n",
              "    </tr>\n",
              "  </tbody>\n",
              "</table>\n",
              "<p>2000 rows × 3 columns</p>\n",
              "</div>"
            ],
            "text/plain": [
              "          id  job_satisfaction_rate quit\n",
              "0     130604                   0.74   no\n",
              "1     825977                   0.75   no\n",
              "2     418490                   0.60  yes\n",
              "3     555320                   0.72   no\n",
              "4     826430                   0.08  yes\n",
              "...      ...                    ...  ...\n",
              "1995  405257                   0.28   no\n",
              "1996  370925                   0.21  yes\n",
              "1997  857722                   0.39   no\n",
              "1998  303402                   0.26  yes\n",
              "1999  648995                   0.62   no\n",
              "\n",
              "[2000 rows x 3 columns]"
            ]
          },
          "execution_count": 56,
          "metadata": {},
          "output_type": "execute_result"
        }
      ],
      "execution_count": 56
    },
    {
      "id": "91028401",
      "cell_type": "code",
      "source": "pyplot.hist(merged_target.query('quit == \"no\"')['job_satisfaction_rate'], \n            bins=10, alpha=0.5, label='no', density=True)\npyplot.hist(merged_target.query('quit == \"yes\"')['job_satisfaction_rate'], \n            bins=10, alpha=0.5, label='yes', density=True)\npyplot.legend(loc='upper right')\npyplot.show()",
      "metadata": {},
      "outputs": [
        {
          "data": {
            "image/png": "[encoded data removed]",
            "text/plain": [
              "<Figure size 432x288 with 1 Axes>"
            ]
          },
          "metadata": {
            "needs_background": "light"
          },
          "output_type": "display_data"
        }
      ],
      "execution_count": 57
    },
    {
      "id": "caabb0bb",
      "cell_type": "markdown",
      "source": "Исходя из визуализации, можно подтвердить информацию, что уровень удовлетворённости сотрудника работой в компании влияет на то, уволится ли сотрудник. Пик у уволившихся сотрудников, около 0.4 а у тех кто продолжает работать - в промежутке от 0.6 до 0.8",
      "metadata": {}
    },
    {
      "id": "71042ba8",
      "cell_type": "code",
      "source": "sns.heatmap(train_quit.query('quit == \"yes\"').corr(method='spearman').round(2), linewidths=.5, annot=True);",
      "metadata": {},
      "outputs": [
        {
          "data": {
            "image/png": "[encoded data removed]",
            "text/plain": [
              "<Figure size 432x288 with 2 Axes>"
            ]
          },
          "metadata": {
            "needs_background": "light"
          },
          "output_type": "display_data"
        }
      ],
      "execution_count": 58
    },
    {
      "id": "55bb36b4",
      "cell_type": "code",
      "source": "train_quit.query('quit == \"yes\"')['employment_years'].mean()",
      "metadata": {},
      "outputs": [
        {
          "data": {
            "text/plain": [
              "1.8448581560283688"
            ]
          },
          "execution_count": 59,
          "metadata": {},
          "output_type": "execute_result"
        }
      ],
      "execution_count": 59
    },
    {
      "id": "803eb3a5",
      "cell_type": "code",
      "source": "sns.heatmap(train_quit.query('quit == \"no\"').corr(method='spearman').round(2), linewidths=.5, annot=True);",
      "metadata": {},
      "outputs": [
        {
          "data": {
            "image/png": "[encoded data removed]",
            "text/plain": [
              "<Figure size 432x288 with 2 Axes>"
            ]
          },
          "metadata": {
            "needs_background": "light"
          },
          "output_type": "display_data"
        }
      ],
      "execution_count": 60
    },
    {
      "id": "0797e449",
      "cell_type": "code",
      "source": "train_quit.query('quit == \"no\"')['employment_years'].mean()",
      "metadata": {},
      "outputs": [
        {
          "data": {
            "text/plain": [
              "4.430710306406685"
            ]
          },
          "execution_count": 61,
          "metadata": {},
          "output_type": "execute_result"
        }
      ],
      "execution_count": 61
    },
    {
      "id": "80f6f3a8",
      "cell_type": "markdown",
      "source": "По матрице корреляции можно заметить, что у сотрудников, которые не уволились наблюдается зависимость между длительностью работы в организации и зарплатой. Оправдано, ведь в среднем у них стаж работы более чем в 2 раза больше, логично что они двигаются по карьерной лестнице, и получают прибавки к зарплате. \n\nМежду остальными признаками, корреляция отсутствует. ",
      "metadata": {}
    },
    {
      "id": "b62d356d",
      "cell_type": "markdown",
      "source": "<font color='green' size=+2><b>2.4. Добавление нового входного признака</b></font><br>",
      "metadata": {}
    },
    {
      "id": "9f3e9571",
      "cell_type": "code",
      "source": "test_features_target_clear = test_features_target.set_index('id').drop_duplicates()\ntrain_quit_clear = train_quit.set_index('id').drop_duplicates()",
      "metadata": {},
      "outputs": [],
      "execution_count": 62
    },
    {
      "id": "adb675a2",
      "cell_type": "code",
      "source": "test_features_target_clear",
      "metadata": {},
      "outputs": [
        {
          "data": {
            "text/html": [
              "<div>\n",
              "<style scoped>\n",
              "    .dataframe tbody tr th:only-of-type {\n",
              "        vertical-align: middle;\n",
              "    }\n",
              "\n",
              "    .dataframe tbody tr th {\n",
              "        vertical-align: top;\n",
              "    }\n",
              "\n",
              "    .dataframe thead th {\n",
              "        text-align: right;\n",
              "    }\n",
              "</style>\n",
              "<table border=\"1\" class=\"dataframe\">\n",
              "  <thead>\n",
              "    <tr style=\"text-align: right;\">\n",
              "      <th></th>\n",
              "      <th>dept</th>\n",
              "      <th>level</th>\n",
              "      <th>workload</th>\n",
              "      <th>employment_years</th>\n",
              "      <th>last_year_promo</th>\n",
              "      <th>last_year_violations</th>\n",
              "      <th>supervisor_evaluation</th>\n",
              "      <th>salary</th>\n",
              "      <th>quit</th>\n",
              "    </tr>\n",
              "    <tr>\n",
              "      <th>id</th>\n",
              "      <th></th>\n",
              "      <th></th>\n",
              "      <th></th>\n",
              "      <th></th>\n",
              "      <th></th>\n",
              "      <th></th>\n",
              "      <th></th>\n",
              "      <th></th>\n",
              "      <th></th>\n",
              "    </tr>\n",
              "  </thead>\n",
              "  <tbody>\n",
              "    <tr>\n",
              "      <th>485046</th>\n",
              "      <td>marketing</td>\n",
              "      <td>junior</td>\n",
              "      <td>medium</td>\n",
              "      <td>2</td>\n",
              "      <td>no</td>\n",
              "      <td>no</td>\n",
              "      <td>5</td>\n",
              "      <td>28800</td>\n",
              "      <td>no</td>\n",
              "    </tr>\n",
              "    <tr>\n",
              "      <th>686555</th>\n",
              "      <td>hr</td>\n",
              "      <td>junior</td>\n",
              "      <td>medium</td>\n",
              "      <td>1</td>\n",
              "      <td>no</td>\n",
              "      <td>no</td>\n",
              "      <td>4</td>\n",
              "      <td>30000</td>\n",
              "      <td>no</td>\n",
              "    </tr>\n",
              "    <tr>\n",
              "      <th>467458</th>\n",
              "      <td>sales</td>\n",
              "      <td>middle</td>\n",
              "      <td>low</td>\n",
              "      <td>5</td>\n",
              "      <td>no</td>\n",
              "      <td>no</td>\n",
              "      <td>4</td>\n",
              "      <td>19200</td>\n",
              "      <td>no</td>\n",
              "    </tr>\n",
              "    <tr>\n",
              "      <th>418655</th>\n",
              "      <td>sales</td>\n",
              "      <td>middle</td>\n",
              "      <td>low</td>\n",
              "      <td>6</td>\n",
              "      <td>no</td>\n",
              "      <td>no</td>\n",
              "      <td>4</td>\n",
              "      <td>19200</td>\n",
              "      <td>no</td>\n",
              "    </tr>\n",
              "    <tr>\n",
              "      <th>789145</th>\n",
              "      <td>hr</td>\n",
              "      <td>middle</td>\n",
              "      <td>medium</td>\n",
              "      <td>5</td>\n",
              "      <td>no</td>\n",
              "      <td>no</td>\n",
              "      <td>5</td>\n",
              "      <td>40800</td>\n",
              "      <td>no</td>\n",
              "    </tr>\n",
              "    <tr>\n",
              "      <th>...</th>\n",
              "      <td>...</td>\n",
              "      <td>...</td>\n",
              "      <td>...</td>\n",
              "      <td>...</td>\n",
              "      <td>...</td>\n",
              "      <td>...</td>\n",
              "      <td>...</td>\n",
              "      <td>...</td>\n",
              "      <td>...</td>\n",
              "    </tr>\n",
              "    <tr>\n",
              "      <th>609235</th>\n",
              "      <td>hr</td>\n",
              "      <td>sinior</td>\n",
              "      <td>high</td>\n",
              "      <td>2</td>\n",
              "      <td>no</td>\n",
              "      <td>no</td>\n",
              "      <td>3</td>\n",
              "      <td>81600</td>\n",
              "      <td>no</td>\n",
              "    </tr>\n",
              "    <tr>\n",
              "      <th>630684</th>\n",
              "      <td>technology</td>\n",
              "      <td>junior</td>\n",
              "      <td>high</td>\n",
              "      <td>2</td>\n",
              "      <td>no</td>\n",
              "      <td>no</td>\n",
              "      <td>4</td>\n",
              "      <td>48000</td>\n",
              "      <td>no</td>\n",
              "    </tr>\n",
              "    <tr>\n",
              "      <th>497976</th>\n",
              "      <td>technology</td>\n",
              "      <td>middle</td>\n",
              "      <td>medium</td>\n",
              "      <td>3</td>\n",
              "      <td>no</td>\n",
              "      <td>no</td>\n",
              "      <td>4</td>\n",
              "      <td>52800</td>\n",
              "      <td>no</td>\n",
              "    </tr>\n",
              "    <tr>\n",
              "      <th>109582</th>\n",
              "      <td>technology</td>\n",
              "      <td>middle</td>\n",
              "      <td>low</td>\n",
              "      <td>3</td>\n",
              "      <td>no</td>\n",
              "      <td>no</td>\n",
              "      <td>2</td>\n",
              "      <td>21600</td>\n",
              "      <td>yes</td>\n",
              "    </tr>\n",
              "    <tr>\n",
              "      <th>771859</th>\n",
              "      <td>purchasing</td>\n",
              "      <td>middle</td>\n",
              "      <td>medium</td>\n",
              "      <td>1</td>\n",
              "      <td>no</td>\n",
              "      <td>no</td>\n",
              "      <td>4</td>\n",
              "      <td>38400</td>\n",
              "      <td>no</td>\n",
              "    </tr>\n",
              "  </tbody>\n",
              "</table>\n",
              "<p>1496 rows × 9 columns</p>\n",
              "</div>"
            ],
            "text/plain": [
              "              dept   level workload  employment_years last_year_promo  \\\n",
              "id                                                                      \n",
              "485046   marketing  junior   medium                 2              no   \n",
              "686555          hr  junior   medium                 1              no   \n",
              "467458       sales  middle      low                 5              no   \n",
              "418655       sales  middle      low                 6              no   \n",
              "789145          hr  middle   medium                 5              no   \n",
              "...            ...     ...      ...               ...             ...   \n",
              "609235          hr  sinior     high                 2              no   \n",
              "630684  technology  junior     high                 2              no   \n",
              "497976  technology  middle   medium                 3              no   \n",
              "109582  technology  middle      low                 3              no   \n",
              "771859  purchasing  middle   medium                 1              no   \n",
              "\n",
              "       last_year_violations  supervisor_evaluation  salary quit  \n",
              "id                                                               \n",
              "485046                   no                      5   28800   no  \n",
              "686555                   no                      4   30000   no  \n",
              "467458                   no                      4   19200   no  \n",
              "418655                   no                      4   19200   no  \n",
              "789145                   no                      5   40800   no  \n",
              "...                     ...                    ...     ...  ...  \n",
              "609235                   no                      3   81600   no  \n",
              "630684                   no                      4   48000   no  \n",
              "497976                   no                      4   52800   no  \n",
              "109582                   no                      2   21600  yes  \n",
              "771859                   no                      4   38400   no  \n",
              "\n",
              "[1496 rows x 9 columns]"
            ]
          },
          "execution_count": 63,
          "metadata": {},
          "output_type": "execute_result"
        }
      ],
      "execution_count": 63
    },
    {
      "id": "602b9fd3",
      "cell_type": "code",
      "source": "X_train_q = train_quit_clear\nX_test_q = test_features_target_clear\ny_train_q = merged_target['job_satisfaction_rate']\ny_test_q = merged_target['job_satisfaction_rate']\nX_train_q.shape, X_test_q.shape, y_train_q.shape, y_test_q.shape",
      "metadata": {},
      "outputs": [
        {
          "data": {
            "text/plain": [
              "((2587, 9), (1496, 9), (2000,), (2000,))"
            ]
          },
          "execution_count": 64,
          "metadata": {},
          "output_type": "execute_result"
        }
      ],
      "execution_count": 64
    },
    {
      "id": "b27cc8dd",
      "cell_type": "code",
      "source": "X_train_q.columns",
      "metadata": {},
      "outputs": [
        {
          "data": {
            "text/plain": [
              "Index(['dept', 'level', 'workload', 'employment_years', 'last_year_promo',\n",
              "       'last_year_violations', 'supervisor_evaluation', 'salary', 'quit'],\n",
              "      dtype='object')"
            ]
          },
          "execution_count": 65,
          "metadata": {},
          "output_type": "execute_result"
        }
      ],
      "execution_count": 65
    },
    {
      "id": "7f4b8bd8",
      "cell_type": "code",
      "source": "X_test_q.columns",
      "metadata": {},
      "outputs": [
        {
          "data": {
            "text/plain": [
              "Index(['dept', 'level', 'workload', 'employment_years', 'last_year_promo',\n",
              "       'last_year_violations', 'supervisor_evaluation', 'salary', 'quit'],\n",
              "      dtype='object')"
            ]
          },
          "execution_count": 66,
          "metadata": {},
          "output_type": "execute_result"
        }
      ],
      "execution_count": 66
    },
    {
      "id": "e1f26d73",
      "cell_type": "code",
      "source": "y_pred_q = rs.best_estimator_.predict(X_test_q)",
      "metadata": {},
      "outputs": [],
      "execution_count": 67
    },
    {
      "id": "0cf37361",
      "cell_type": "code",
      "source": "y_pred_qq = rs.best_estimator_.predict(X_train_q)",
      "metadata": {},
      "outputs": [],
      "execution_count": 68
    },
    {
      "id": "bcfff17b",
      "cell_type": "code",
      "source": "test_features_target_clear['job_satisfaction_rate'] = y_pred_q\ntrain_quit_clear['job_satisfaction_rate'] = y_pred_qq",
      "metadata": {},
      "outputs": [],
      "execution_count": 69
    },
    {
      "id": "7f0e70b2",
      "cell_type": "markdown",
      "source": "<font color='green' size=+2><b>2.5. Подготовка данных</b></font><br>",
      "metadata": {}
    },
    {
      "id": "51280b29",
      "cell_type": "code",
      "source": "X_train_s = train_quit_clear.drop(['quit'], axis=1)\nX_test_s = test_features_target_clear.drop(['quit'], axis=1)\ny_train_s = train_quit_clear['quit']\ny_test_s = test_features_target_clear['quit']\n\nX_train_s.shape, X_test_s.shape, y_train_s.shape, y_test_s.shape",
      "metadata": {},
      "outputs": [
        {
          "data": {
            "text/plain": [
              "((2587, 9), (1496, 9), (2587,), (1496,))"
            ]
          },
          "execution_count": 71,
          "metadata": {},
          "output_type": "execute_result"
        }
      ],
      "execution_count": 71
    },
    {
      "id": "16959a60",
      "cell_type": "code",
      "source": "X_train_s.columns",
      "metadata": {},
      "outputs": [
        {
          "data": {
            "text/plain": [
              "Index(['dept', 'level', 'workload', 'employment_years', 'last_year_promo',\n",
              "       'last_year_violations', 'supervisor_evaluation', 'salary',\n",
              "       'job_satisfaction_rate'],\n",
              "      dtype='object')"
            ]
          },
          "execution_count": 72,
          "metadata": {},
          "output_type": "execute_result"
        }
      ],
      "execution_count": 72
    },
    {
      "id": "d535abae",
      "cell_type": "code",
      "source": "X_test_s.columns",
      "metadata": {},
      "outputs": [
        {
          "data": {
            "text/plain": [
              "Index(['dept', 'level', 'workload', 'employment_years', 'last_year_promo',\n",
              "       'last_year_violations', 'supervisor_evaluation', 'salary',\n",
              "       'job_satisfaction_rate'],\n",
              "      dtype='object')"
            ]
          },
          "execution_count": 73,
          "metadata": {},
          "output_type": "execute_result"
        }
      ],
      "execution_count": 73
    },
    {
      "id": "14ede140",
      "cell_type": "code",
      "source": "#закодируем целевой признак\nlabel_encoder = LabelEncoder()\n \ny_train_s = label_encoder.fit_transform(y_train_s)\ny_test_s = label_encoder.transform(y_test_s)",
      "metadata": {},
      "outputs": [],
      "execution_count": 74
    },
    {
      "id": "f58a42b8",
      "cell_type": "code",
      "source": "# списки с названиями признаков\nohe_columns_2 = ['dept',\n                'last_year_promo',\n                'last_year_violations']\n\nord_columns_2 = ['level',\n                'workload']\n\nnum_columns_2 = ['employment_years',\n                'supervisor_evaluation',\n                'salary',\n                'job_satisfaction_rate']\n\n# пайплайн для подготовки признаков из списка ohe_columns\nohe_pipe_2 = Pipeline(\n    [\n        ('simpleImputer_ohe', SimpleImputer(missing_values=np.nan, strategy='most_frequent')),\n        ('ohe', OneHotEncoder(drop='first', handle_unknown='ignore', sparse=False))\n    ]\n)\n\n# создаём пайплайн для подготовки признаков из списка ord_columns\nord_pipe_2 = Pipeline(\n    [('simpleImputer_before_ord', SimpleImputer(missing_values=np.nan, strategy='most_frequent')),\n     ('ord', OrdinalEncoder(\n                categories=[\n                    ['junior', 'middle', 'sinior'],\n                    ['low', 'medium', 'high']], \n                handle_unknown='use_encoded_value',\n                unknown_value=np.nan)),\n     ('simpleImputer_after_ord', SimpleImputer(missing_values=np.nan, strategy='most_frequent'))\n    ]\n)\n\n# создаём общий пайплайн для подготовки данных\ndata_preprocessor_2 = ColumnTransformer(\n    [\n        ('ohe', ohe_pipe_2, ohe_columns_2),\n        ('ord', ord_pipe_2, ord_columns_2),\n        ('num', MinMaxScaler(), num_columns_2)\n    ], \n    remainder='passthrough')\n\n# создаём итоговый пайплайн: подготовка данных и модель\npipe_final_2= Pipeline(\n    [\n        ('preprocessor', data_preprocessor_2),\n        ('selector', SelectKBest()),\n        ('models', DecisionTreeClassifier(random_state=RANDOM_STATE))\n    ]\n)\n\nparam_grid_2 = [\n    \n    # словарь для модели LogisticRegression\n    {'models': [LogisticRegression(\n        random_state=RANDOM_STATE, \n        solver='liblinear', \n        penalty='l1')],\n     'models__C': range(1,10),\n     'preprocessor__num': [StandardScaler(), MinMaxScaler(), 'passthrough'],\n     'selector__k': range(2, 10)\n    },\n    \n    # словарь для модели DecisionTreeClassifier\n    {'models': [DecisionTreeClassifier(random_state=RANDOM_STATE)],\n     'models__max_depth': range(1,9),\n     'models__max_features': range(1,100),\n     'models__min_samples_split': range(1,100),\n     'models__min_samples_leaf': range(1,100),\n     'preprocessor__num': [StandardScaler(), MinMaxScaler(), 'passthrough'],\n     'selector__k': range(2, 10)\n    },\n    \n    #словарь для модели SVC\n    {'models': [SVC(random_state=RANDOM_STATE)],\n     'models__C':[0.1,1,10],\n     'models__kernel':['linear'],\n     'models__degree':[1,3,4],\n     'models__gamma':[1,0.1,0.01],\n     'preprocessor__num': [StandardScaler(), MinMaxScaler(), 'passthrough'],\n     'selector__k': range(2, 10)\n    }\n]\n\nrs_2 = RandomizedSearchCV(\n    pipe_final_2,\n    param_grid_2,\n    cv=5,\n    scoring='roc_auc',\n    random_state=RANDOM_STATE,\n    n_jobs=-1)",
      "metadata": {},
      "outputs": [],
      "execution_count": 75
    },
    {
      "id": "ebb9fe10",
      "cell_type": "code",
      "source": "rs_2.fit(X_train_s, y_train_s)\n\nprint('Лучшая модель и её параметры:\\n\\n', rs_2.best_estimator_)\nprint('Метрика лучшей модели на тренировочной выборке:', rs_2.best_score_)",
      "metadata": {},
      "outputs": [
        {
          "name": "stdout",
          "output_type": "stream",
          "text": [
            "Лучшая модель и её параметры:\n",
            "\n",
            " Pipeline(steps=[('preprocessor',\n",
            "                 ColumnTransformer(remainder='passthrough',\n",
            "                                   transformers=[('ohe',\n",
            "                                                  Pipeline(steps=[('simpleImputer_ohe',\n",
            "                                                                   SimpleImputer(strategy='most_frequent')),\n",
            "                                                                  ('ohe',\n",
            "                                                                   OneHotEncoder(drop='first',\n",
            "                                                                                 handle_unknown='ignore',\n",
            "                                                                                 sparse=False))]),\n",
            "                                                  ['dept', 'last_year_promo',\n",
            "                                                   'last_year_violations']),\n",
            "                                                 ('ord',\n",
            "                                                  Pipeline(steps=[('simpleImputer_before_ord',...\n",
            "                                                                                  unknown_value=nan)),\n",
            "                                                                  ('simpleImputer_after_ord',\n",
            "                                                                   SimpleImputer(strategy='most_frequent'))]),\n",
            "                                                  ['level', 'workload']),\n",
            "                                                 ('num', 'passthrough',\n",
            "                                                  ['employment_years',\n",
            "                                                   'supervisor_evaluation',\n",
            "                                                   'salary',\n",
            "                                                   'job_satisfaction_rate'])])),\n",
            "                ('selector', SelectKBest(k=9)),\n",
            "                ('models',\n",
            "                 DecisionTreeClassifier(max_depth=6, max_features=48,\n",
            "                                        min_samples_leaf=13,\n",
            "                                        min_samples_split=72,\n",
            "                                        random_state=42))])\n",
            "Метрика лучшей модели на тренировочной выборке: 0.904717384734521\n"
          ]
        }
      ],
      "execution_count": 76
    },
    {
      "id": "e0a2dfae",
      "cell_type": "code",
      "source": "y_pred_last = rs_2.best_estimator_.predict_proba(X_testz)[:, 1]\nprint(f'Метрика  на тестовой выборке: {round(roc_auc_score(y_test_s, y_pred_last),2)}')",
      "metadata": {},
      "outputs": [
        {
          "name": "stdout",
          "output_type": "stream",
          "text": [
            "Метрика  на тестовой выборке: 0.9\n"
          ]
        }
      ],
      "execution_count": 77
    },
    {
      "id": "ed722458",
      "cell_type": "markdown",
      "source": "<font color='green' size=+2><b>2.6. Вывод</b></font><br>\n\n\nВ результате работы нашего pipeline мы отобрали модель DecisionTreeClassifier с параметрами max_depth=4, max_features=21, min_samples_leaf=4, min_samples_split=6 - качество которой на тренировочной и тестовой выборках составило 0.9!\n\nДля решения задачи компании «Работа с заботой» нам сперва пришлось немного поработать с предоставленными нам данными, а именно:\n- избавиться от пропусков и пустых значений\n- удалить дубликаты\n\n\nНам пришлось присмотреться к сотрудникам, которые уже уволились, что бы составить портрет человека, который в ближайшее время захочет сменить работу. Для этого мы сегментировали сотрудников на тех кто уволился, и кто продолжается трудиться в организации. После, мы изучили средние значения количественных признаков, визуализировали из загруженность, заработок, уровень их компетенций и отделы, в которых они трудятся. \n\nИсходя из этого этапа, мы составили приблизительный портрет сотрудника, который в ближайшее время, скорее всего, захочет сменить место работы:\n- специалист уровня junior\n- с низкой или средней загруженностью\n- работающий в отедел продаж, либо технический специалист\n- которого не повышали за последний год\n- медианная зарплата которого 22800 рублей в месяц\n- стаж работы в организации которых, как правило - не более 2 лет\n\nНа первом этапе нашей работы, мы реализовали модель регрессии, которая может определять уровень удовлетворенности сотрудника внутри организации. Далее, мы добавили этот признак в обучающий датафрейм второй модели, которая уже определяет вероятность того, уволится ли сотрудник или нет.\n\nТеперь, организация «Работа с заботой» может пользоватся нашей разработкой, и уделять больше внимания сотрудникам, которые находятся \"в зоне риска\", и предпринимать необходимые решения, например - повысить зарплату, либо урегулировать нагрузку, возможно стоит доверять сотрудникам уровня junior более сложные и интересные задачи, при успешном выполнении которых повышение в должности и оплате не заставит себя ждать. Конкретно для сотружников отдела продаж, стоит пересмотреть (рассмотреть) систему мотивации, поскольку большая часть текучки кадров относится именно к отделу продаж. Но, все эти решения конечно же нужно принимать избирательно, наверняка из списка жалающих уволиться, найдутся и такие сотрудники, которых организация не слишком стремится сохранить в строю. \n\nТакже, рекомендуем компании «Работа с заботой» обратить внимание на процесс сбора данных, в нем явно виднеется бреш, поскольку одинаковые записи снова и снова попадают в витрины, но каждый раз под новым id. В дальнейшем, это может привести к серьезным проблемам с точностью прогнозирования или расчета каких-либо метрик/показателей.",
      "metadata": {}
    }
  ]
}