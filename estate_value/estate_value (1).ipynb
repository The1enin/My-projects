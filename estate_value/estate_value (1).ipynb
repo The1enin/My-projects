{
  "metadata": {
    "kernelspec": {
      "name": "python",
      "display_name": "Python (Pyodide)",
      "language": "python"
    },
    "language_info": {
      "codemirror_mode": {
        "name": "python",
        "version": 3
      },
      "file_extension": ".py",
      "mimetype": "text/x-python",
      "name": "python",
      "nbconvert_exporter": "python",
      "pygments_lexer": "ipython3",
      "version": "3.8"
    },
    "ExecuteTimeLog": [
      {
        "duration": 892,
        "start_time": "2023-09-22T12:40:34.318Z"
      },
      {
        "duration": 256,
        "start_time": "2023-09-22T12:40:54.850Z"
      },
      {
        "duration": 137,
        "start_time": "2023-09-22T12:41:15.181Z"
      },
      {
        "duration": 91,
        "start_time": "2023-09-22T12:41:41.445Z"
      },
      {
        "duration": 15,
        "start_time": "2023-09-22T12:41:51.713Z"
      },
      {
        "duration": 69,
        "start_time": "2023-09-22T12:42:02.013Z"
      },
      {
        "duration": 25,
        "start_time": "2023-09-22T12:43:44.219Z"
      },
      {
        "duration": 10,
        "start_time": "2023-09-22T12:43:51.190Z"
      },
      {
        "duration": 2479,
        "start_time": "2023-09-22T12:44:49.567Z"
      },
      {
        "duration": 124,
        "start_time": "2023-09-22T12:48:43.456Z"
      },
      {
        "duration": 7,
        "start_time": "2023-09-22T12:50:52.695Z"
      },
      {
        "duration": 6,
        "start_time": "2023-09-22T12:51:44.019Z"
      },
      {
        "duration": 6,
        "start_time": "2023-09-22T12:52:38.381Z"
      },
      {
        "duration": 7,
        "start_time": "2023-09-22T12:52:57.756Z"
      },
      {
        "duration": 6,
        "start_time": "2023-09-22T12:54:11.307Z"
      },
      {
        "duration": 9,
        "start_time": "2023-09-22T12:57:07.394Z"
      },
      {
        "duration": 3,
        "start_time": "2023-09-22T12:57:37.213Z"
      },
      {
        "duration": 5,
        "start_time": "2023-09-22T12:58:19.820Z"
      },
      {
        "duration": 7,
        "start_time": "2023-09-22T12:58:54.600Z"
      },
      {
        "duration": 5,
        "start_time": "2023-09-22T12:59:18.693Z"
      },
      {
        "duration": 7,
        "start_time": "2023-09-22T12:59:30.428Z"
      },
      {
        "duration": 113,
        "start_time": "2023-09-22T12:59:48.583Z"
      },
      {
        "duration": 14,
        "start_time": "2023-09-22T12:59:48.698Z"
      },
      {
        "duration": 72,
        "start_time": "2023-09-22T12:59:48.724Z"
      },
      {
        "duration": 1971,
        "start_time": "2023-09-22T12:59:48.798Z"
      },
      {
        "duration": 5,
        "start_time": "2023-09-22T12:59:57.317Z"
      },
      {
        "duration": 62,
        "start_time": "2023-09-22T13:00:24.381Z"
      },
      {
        "duration": 7,
        "start_time": "2023-09-22T13:01:01.370Z"
      },
      {
        "duration": 14,
        "start_time": "2023-09-22T13:01:07.608Z"
      },
      {
        "duration": 5,
        "start_time": "2023-09-22T13:01:23.571Z"
      },
      {
        "duration": 14,
        "start_time": "2023-09-22T13:01:27.380Z"
      },
      {
        "duration": 7,
        "start_time": "2023-09-22T13:02:19.727Z"
      },
      {
        "duration": 6,
        "start_time": "2023-09-22T13:02:27.821Z"
      },
      {
        "duration": 113,
        "start_time": "2023-09-22T13:04:42.734Z"
      },
      {
        "duration": 14,
        "start_time": "2023-09-22T13:04:42.849Z"
      },
      {
        "duration": 84,
        "start_time": "2023-09-22T13:04:42.864Z"
      },
      {
        "duration": 2001,
        "start_time": "2023-09-22T13:04:42.949Z"
      },
      {
        "duration": 7,
        "start_time": "2023-09-22T13:05:17.809Z"
      },
      {
        "duration": 1598,
        "start_time": "2023-09-22T13:05:52.966Z"
      },
      {
        "duration": 7,
        "start_time": "2023-09-22T13:06:11.072Z"
      },
      {
        "duration": 6,
        "start_time": "2023-09-22T13:06:35.165Z"
      },
      {
        "duration": 6,
        "start_time": "2023-09-22T13:07:09.973Z"
      },
      {
        "duration": 16,
        "start_time": "2023-09-22T13:07:14.238Z"
      },
      {
        "duration": 6,
        "start_time": "2023-09-22T13:07:44.733Z"
      },
      {
        "duration": 40,
        "start_time": "2023-09-22T13:07:51.496Z"
      },
      {
        "duration": 7,
        "start_time": "2023-09-22T13:09:54.400Z"
      },
      {
        "duration": 8,
        "start_time": "2023-09-22T13:10:21.078Z"
      },
      {
        "duration": 6,
        "start_time": "2023-09-22T13:10:32.784Z"
      },
      {
        "duration": 11,
        "start_time": "2023-09-22T13:12:11.150Z"
      },
      {
        "duration": 9,
        "start_time": "2023-09-22T13:12:15.784Z"
      },
      {
        "duration": 6,
        "start_time": "2023-09-22T13:15:03.959Z"
      },
      {
        "duration": 8,
        "start_time": "2023-09-22T13:15:12.385Z"
      },
      {
        "duration": 10,
        "start_time": "2023-09-22T13:16:58.196Z"
      },
      {
        "duration": 9,
        "start_time": "2023-09-22T13:17:09.574Z"
      },
      {
        "duration": 2074,
        "start_time": "2023-09-22T13:21:09.926Z"
      },
      {
        "duration": 15,
        "start_time": "2023-09-22T13:21:36.119Z"
      },
      {
        "duration": 1995,
        "start_time": "2023-09-22T13:21:40.332Z"
      },
      {
        "duration": 10,
        "start_time": "2023-09-22T13:22:24.695Z"
      },
      {
        "duration": 21,
        "start_time": "2023-09-22T13:22:44.638Z"
      },
      {
        "duration": 16,
        "start_time": "2023-09-22T13:23:18.703Z"
      },
      {
        "duration": 6,
        "start_time": "2023-09-22T13:25:22.333Z"
      },
      {
        "duration": 7,
        "start_time": "2023-09-22T13:26:21.901Z"
      },
      {
        "duration": 17,
        "start_time": "2023-09-22T13:26:45.365Z"
      },
      {
        "duration": 10,
        "start_time": "2023-09-22T13:44:03.133Z"
      },
      {
        "duration": 10,
        "start_time": "2023-09-22T13:44:12.515Z"
      },
      {
        "duration": 22,
        "start_time": "2023-09-22T13:44:22.365Z"
      },
      {
        "duration": 9,
        "start_time": "2023-09-22T13:49:25.774Z"
      },
      {
        "duration": 8,
        "start_time": "2023-09-22T13:55:12.508Z"
      },
      {
        "duration": 1100,
        "start_time": "2023-09-24T10:13:03.889Z"
      },
      {
        "duration": 13,
        "start_time": "2023-09-24T10:13:04.992Z"
      },
      {
        "duration": 88,
        "start_time": "2023-09-24T10:13:05.006Z"
      },
      {
        "duration": 2340,
        "start_time": "2023-09-24T10:13:05.096Z"
      },
      {
        "duration": 12,
        "start_time": "2023-09-24T10:13:07.438Z"
      },
      {
        "duration": 9,
        "start_time": "2023-09-24T10:13:07.463Z"
      },
      {
        "duration": 8,
        "start_time": "2023-09-24T10:13:07.474Z"
      },
      {
        "duration": 1679,
        "start_time": "2023-09-24T10:15:42.084Z"
      },
      {
        "duration": 9,
        "start_time": "2023-09-24T10:16:02.024Z"
      },
      {
        "duration": 8,
        "start_time": "2023-09-24T10:16:25.521Z"
      },
      {
        "duration": 11,
        "start_time": "2023-09-24T10:17:14.244Z"
      },
      {
        "duration": 9,
        "start_time": "2023-09-24T10:18:09.546Z"
      },
      {
        "duration": 8,
        "start_time": "2023-09-24T10:18:15.616Z"
      },
      {
        "duration": 8,
        "start_time": "2023-09-24T10:19:19.123Z"
      },
      {
        "duration": 5,
        "start_time": "2023-09-24T10:24:32.117Z"
      },
      {
        "duration": 17,
        "start_time": "2023-09-24T10:24:41.989Z"
      },
      {
        "duration": 35,
        "start_time": "2023-09-24T10:25:13.535Z"
      },
      {
        "duration": 12,
        "start_time": "2023-09-24T10:27:53.981Z"
      },
      {
        "duration": 33,
        "start_time": "2023-09-24T10:29:34.075Z"
      },
      {
        "duration": 18,
        "start_time": "2023-09-24T10:31:11.984Z"
      },
      {
        "duration": 55,
        "start_time": "2023-09-24T10:31:25.674Z"
      },
      {
        "duration": 6,
        "start_time": "2023-09-24T10:33:37.405Z"
      },
      {
        "duration": 18,
        "start_time": "2023-09-24T10:33:43.442Z"
      },
      {
        "duration": 15,
        "start_time": "2023-09-24T10:38:53.875Z"
      },
      {
        "duration": 9,
        "start_time": "2023-09-24T10:39:20.609Z"
      },
      {
        "duration": 1915,
        "start_time": "2023-09-24T10:48:23.902Z"
      },
      {
        "duration": 1894,
        "start_time": "2023-09-24T10:48:46.293Z"
      },
      {
        "duration": 32,
        "start_time": "2023-09-24T10:49:07.880Z"
      },
      {
        "duration": 5,
        "start_time": "2023-09-24T10:49:41.294Z"
      },
      {
        "duration": 49,
        "start_time": "2023-09-24T10:49:49.153Z"
      },
      {
        "duration": 21,
        "start_time": "2023-09-24T10:54:30.904Z"
      },
      {
        "duration": 17,
        "start_time": "2023-09-24T10:54:40.740Z"
      },
      {
        "duration": 9,
        "start_time": "2023-09-24T10:54:57.002Z"
      },
      {
        "duration": 15,
        "start_time": "2023-09-24T10:55:39.431Z"
      },
      {
        "duration": 37,
        "start_time": "2023-09-24T10:56:00.507Z"
      },
      {
        "duration": 32,
        "start_time": "2023-09-24T10:58:23.059Z"
      },
      {
        "duration": 19,
        "start_time": "2023-09-24T10:58:46.780Z"
      },
      {
        "duration": 19,
        "start_time": "2023-09-24T10:58:52.886Z"
      },
      {
        "duration": 16,
        "start_time": "2023-09-24T10:59:44.488Z"
      },
      {
        "duration": 17,
        "start_time": "2023-09-24T11:00:23.286Z"
      },
      {
        "duration": 9,
        "start_time": "2023-09-24T11:26:10.636Z"
      },
      {
        "duration": 19,
        "start_time": "2023-09-24T11:28:37.946Z"
      },
      {
        "duration": 17,
        "start_time": "2023-09-24T11:29:00.578Z"
      },
      {
        "duration": 5,
        "start_time": "2023-09-24T11:29:19.735Z"
      },
      {
        "duration": 7,
        "start_time": "2023-09-24T11:29:44.509Z"
      },
      {
        "duration": 29,
        "start_time": "2023-09-24T11:30:08.990Z"
      },
      {
        "duration": 150,
        "start_time": "2023-09-24T11:33:36.264Z"
      },
      {
        "duration": 9,
        "start_time": "2023-09-24T11:39:27.408Z"
      },
      {
        "duration": 10,
        "start_time": "2023-09-24T11:39:51.316Z"
      },
      {
        "duration": 60,
        "start_time": "2023-09-24T11:40:20.092Z"
      },
      {
        "duration": 23,
        "start_time": "2023-09-24T11:41:09.202Z"
      },
      {
        "duration": 20,
        "start_time": "2023-09-24T11:42:02.781Z"
      },
      {
        "duration": 44,
        "start_time": "2023-09-24T11:42:58.173Z"
      },
      {
        "duration": 15,
        "start_time": "2023-09-24T11:58:08.977Z"
      },
      {
        "duration": 12,
        "start_time": "2023-09-24T11:59:13.881Z"
      },
      {
        "duration": 14,
        "start_time": "2023-09-24T11:59:19.739Z"
      },
      {
        "duration": 19,
        "start_time": "2023-09-24T12:00:20.948Z"
      },
      {
        "duration": 180,
        "start_time": "2023-09-24T12:01:07.677Z"
      },
      {
        "duration": 30,
        "start_time": "2023-09-24T12:01:07.867Z"
      },
      {
        "duration": 97,
        "start_time": "2023-09-24T12:01:07.904Z"
      },
      {
        "duration": 2384,
        "start_time": "2023-09-24T12:01:08.007Z"
      },
      {
        "duration": 16,
        "start_time": "2023-09-24T12:01:10.397Z"
      },
      {
        "duration": 20,
        "start_time": "2023-09-24T12:01:10.415Z"
      },
      {
        "duration": 56,
        "start_time": "2023-09-24T12:01:10.437Z"
      },
      {
        "duration": 7,
        "start_time": "2023-09-24T12:01:10.495Z"
      },
      {
        "duration": 35,
        "start_time": "2023-09-24T12:01:10.503Z"
      },
      {
        "duration": 35,
        "start_time": "2023-09-24T12:01:10.540Z"
      },
      {
        "duration": 23,
        "start_time": "2023-09-24T12:01:10.577Z"
      },
      {
        "duration": 8,
        "start_time": "2023-09-24T12:01:31.829Z"
      },
      {
        "duration": 15,
        "start_time": "2023-09-24T12:01:40.704Z"
      },
      {
        "duration": 10,
        "start_time": "2023-09-24T12:07:14.574Z"
      },
      {
        "duration": 7,
        "start_time": "2023-09-24T12:07:26.704Z"
      },
      {
        "duration": 8,
        "start_time": "2023-09-24T12:10:29.300Z"
      },
      {
        "duration": 8,
        "start_time": "2023-09-24T12:18:51.684Z"
      },
      {
        "duration": 11,
        "start_time": "2023-09-24T12:19:02.875Z"
      },
      {
        "duration": 6,
        "start_time": "2023-09-24T12:19:11.218Z"
      },
      {
        "duration": 5,
        "start_time": "2023-09-24T12:19:28.878Z"
      },
      {
        "duration": 20,
        "start_time": "2023-09-24T12:22:51.980Z"
      },
      {
        "duration": 6,
        "start_time": "2023-09-24T12:23:05.284Z"
      },
      {
        "duration": 7,
        "start_time": "2023-09-24T12:23:16.079Z"
      },
      {
        "duration": 10,
        "start_time": "2023-09-24T12:24:37.749Z"
      },
      {
        "duration": 6,
        "start_time": "2023-09-24T12:24:48.075Z"
      },
      {
        "duration": 19,
        "start_time": "2023-09-24T12:25:30.178Z"
      },
      {
        "duration": 7,
        "start_time": "2023-09-24T12:26:29.639Z"
      },
      {
        "duration": 6,
        "start_time": "2023-09-24T12:26:51.082Z"
      },
      {
        "duration": 8,
        "start_time": "2023-09-24T12:27:09.166Z"
      },
      {
        "duration": 38,
        "start_time": "2023-09-24T12:27:34.580Z"
      },
      {
        "duration": 21,
        "start_time": "2023-09-24T12:27:45.583Z"
      },
      {
        "duration": 19,
        "start_time": "2023-09-24T12:27:50.724Z"
      },
      {
        "duration": 9,
        "start_time": "2023-09-24T12:31:39.982Z"
      },
      {
        "duration": 11,
        "start_time": "2023-09-24T12:36:04.485Z"
      },
      {
        "duration": 10,
        "start_time": "2023-09-24T12:38:08.428Z"
      },
      {
        "duration": 13,
        "start_time": "2023-09-24T12:38:35.170Z"
      },
      {
        "duration": 10,
        "start_time": "2023-09-24T12:39:38.886Z"
      },
      {
        "duration": 14,
        "start_time": "2023-09-24T12:39:44.474Z"
      },
      {
        "duration": 137,
        "start_time": "2023-09-24T12:40:50.997Z"
      },
      {
        "duration": 156,
        "start_time": "2023-09-24T12:41:19.367Z"
      },
      {
        "duration": 122,
        "start_time": "2023-09-24T12:43:20.980Z"
      },
      {
        "duration": 10,
        "start_time": "2023-09-24T12:43:58.508Z"
      },
      {
        "duration": 3,
        "start_time": "2023-09-24T12:44:10.021Z"
      },
      {
        "duration": 103,
        "start_time": "2023-09-24T12:44:28.566Z"
      },
      {
        "duration": 7,
        "start_time": "2023-09-24T12:44:45.298Z"
      },
      {
        "duration": 11,
        "start_time": "2023-09-24T12:44:57.828Z"
      },
      {
        "duration": 11,
        "start_time": "2023-09-24T12:45:31.114Z"
      },
      {
        "duration": 12,
        "start_time": "2023-09-24T12:45:43.572Z"
      },
      {
        "duration": 10,
        "start_time": "2023-09-24T12:46:23.207Z"
      },
      {
        "duration": 129,
        "start_time": "2023-09-24T12:47:05.405Z"
      },
      {
        "duration": 112,
        "start_time": "2023-09-24T12:47:19.993Z"
      },
      {
        "duration": 163,
        "start_time": "2023-09-24T12:47:28.231Z"
      },
      {
        "duration": 159,
        "start_time": "2023-09-24T12:50:04.226Z"
      },
      {
        "duration": 250,
        "start_time": "2023-09-24T12:50:11.668Z"
      },
      {
        "duration": 6,
        "start_time": "2023-09-24T12:50:20.595Z"
      },
      {
        "duration": 152,
        "start_time": "2023-09-24T12:51:48.819Z"
      },
      {
        "duration": 207,
        "start_time": "2023-09-24T12:51:55.092Z"
      },
      {
        "duration": 4,
        "start_time": "2023-09-24T12:56:38.703Z"
      },
      {
        "duration": 423,
        "start_time": "2023-09-24T12:57:49.594Z"
      },
      {
        "duration": 5,
        "start_time": "2023-09-24T12:58:09.538Z"
      },
      {
        "duration": 157,
        "start_time": "2023-09-24T12:58:11.599Z"
      },
      {
        "duration": 147,
        "start_time": "2023-09-24T12:59:10.926Z"
      },
      {
        "duration": 9,
        "start_time": "2023-09-24T12:59:15.246Z"
      },
      {
        "duration": 9,
        "start_time": "2023-09-24T12:59:27.879Z"
      },
      {
        "duration": 7,
        "start_time": "2023-09-24T12:59:31.777Z"
      },
      {
        "duration": 9,
        "start_time": "2023-09-24T13:00:06.176Z"
      },
      {
        "duration": 113,
        "start_time": "2023-09-24T13:00:17.389Z"
      },
      {
        "duration": 142,
        "start_time": "2023-09-24T13:00:22.876Z"
      },
      {
        "duration": 12,
        "start_time": "2023-09-24T13:01:22.376Z"
      },
      {
        "duration": 5,
        "start_time": "2023-09-24T13:01:47.811Z"
      },
      {
        "duration": 150,
        "start_time": "2023-09-24T13:03:25.080Z"
      },
      {
        "duration": 20,
        "start_time": "2023-09-24T13:03:25.233Z"
      },
      {
        "duration": 84,
        "start_time": "2023-09-24T13:03:25.254Z"
      },
      {
        "duration": 2594,
        "start_time": "2023-09-24T13:03:25.341Z"
      },
      {
        "duration": 34,
        "start_time": "2023-09-24T13:03:27.938Z"
      },
      {
        "duration": 11,
        "start_time": "2023-09-24T13:03:27.979Z"
      },
      {
        "duration": 25,
        "start_time": "2023-09-24T13:03:27.991Z"
      },
      {
        "duration": 8,
        "start_time": "2023-09-24T13:03:28.018Z"
      },
      {
        "duration": 11,
        "start_time": "2023-09-24T13:03:28.028Z"
      },
      {
        "duration": 15,
        "start_time": "2023-09-24T13:03:28.041Z"
      },
      {
        "duration": 17,
        "start_time": "2023-09-24T13:03:28.059Z"
      },
      {
        "duration": 32,
        "start_time": "2023-09-24T13:03:28.077Z"
      },
      {
        "duration": 9,
        "start_time": "2023-09-24T13:03:28.112Z"
      },
      {
        "duration": 31,
        "start_time": "2023-09-24T13:03:28.124Z"
      },
      {
        "duration": 12,
        "start_time": "2023-09-24T13:03:28.157Z"
      },
      {
        "duration": 10,
        "start_time": "2023-09-24T13:03:28.173Z"
      },
      {
        "duration": 41,
        "start_time": "2023-09-24T13:03:28.186Z"
      },
      {
        "duration": 32,
        "start_time": "2023-09-24T13:03:28.229Z"
      },
      {
        "duration": 10,
        "start_time": "2023-09-24T13:03:28.263Z"
      },
      {
        "duration": 10,
        "start_time": "2023-09-24T13:03:28.275Z"
      },
      {
        "duration": 178,
        "start_time": "2023-09-24T13:03:28.287Z"
      },
      {
        "duration": 15,
        "start_time": "2023-09-24T13:03:28.472Z"
      },
      {
        "duration": 4,
        "start_time": "2023-09-24T13:03:37.442Z"
      },
      {
        "duration": 16,
        "start_time": "2023-09-24T13:04:01.937Z"
      },
      {
        "duration": 6,
        "start_time": "2023-09-24T13:04:11.865Z"
      },
      {
        "duration": 136,
        "start_time": "2023-09-24T13:05:06.790Z"
      },
      {
        "duration": 15,
        "start_time": "2023-09-24T13:05:06.928Z"
      },
      {
        "duration": 131,
        "start_time": "2023-09-24T13:05:06.955Z"
      },
      {
        "duration": 2192,
        "start_time": "2023-09-24T13:05:07.088Z"
      },
      {
        "duration": 14,
        "start_time": "2023-09-24T13:05:09.285Z"
      },
      {
        "duration": 7,
        "start_time": "2023-09-24T13:05:09.301Z"
      },
      {
        "duration": 18,
        "start_time": "2023-09-24T13:05:09.309Z"
      },
      {
        "duration": 32,
        "start_time": "2023-09-24T13:05:09.329Z"
      },
      {
        "duration": 9,
        "start_time": "2023-09-24T13:05:09.364Z"
      },
      {
        "duration": 15,
        "start_time": "2023-09-24T13:05:09.377Z"
      },
      {
        "duration": 12,
        "start_time": "2023-09-24T13:05:09.393Z"
      },
      {
        "duration": 19,
        "start_time": "2023-09-24T13:05:09.407Z"
      },
      {
        "duration": 33,
        "start_time": "2023-09-24T13:05:09.428Z"
      },
      {
        "duration": 39,
        "start_time": "2023-09-24T13:05:09.470Z"
      },
      {
        "duration": 10,
        "start_time": "2023-09-24T13:05:09.512Z"
      },
      {
        "duration": 7,
        "start_time": "2023-09-24T13:05:09.524Z"
      },
      {
        "duration": 53,
        "start_time": "2023-09-24T13:05:09.532Z"
      },
      {
        "duration": 28,
        "start_time": "2023-09-24T13:05:09.589Z"
      },
      {
        "duration": 8,
        "start_time": "2023-09-24T13:05:09.619Z"
      },
      {
        "duration": 13,
        "start_time": "2023-09-24T13:05:09.628Z"
      },
      {
        "duration": 162,
        "start_time": "2023-09-24T13:05:09.656Z"
      },
      {
        "duration": 11,
        "start_time": "2023-09-24T13:05:09.820Z"
      },
      {
        "duration": 56,
        "start_time": "2023-09-24T13:05:09.833Z"
      },
      {
        "duration": 165,
        "start_time": "2023-09-24T13:05:11.067Z"
      },
      {
        "duration": 8,
        "start_time": "2023-09-24T13:05:12.270Z"
      },
      {
        "duration": 119,
        "start_time": "2023-09-24T13:05:18.285Z"
      },
      {
        "duration": 5,
        "start_time": "2023-09-24T13:05:21.178Z"
      },
      {
        "duration": 20,
        "start_time": "2023-09-24T13:05:29.875Z"
      },
      {
        "duration": 145,
        "start_time": "2023-09-24T13:05:30.448Z"
      },
      {
        "duration": 118,
        "start_time": "2023-09-24T13:06:13.499Z"
      },
      {
        "duration": 168,
        "start_time": "2023-09-24T13:07:32.517Z"
      },
      {
        "duration": 20,
        "start_time": "2023-09-24T13:07:32.688Z"
      },
      {
        "duration": 88,
        "start_time": "2023-09-24T13:07:32.710Z"
      },
      {
        "duration": 2275,
        "start_time": "2023-09-24T13:07:32.801Z"
      },
      {
        "duration": 16,
        "start_time": "2023-09-24T13:07:35.078Z"
      },
      {
        "duration": 11,
        "start_time": "2023-09-24T13:07:35.095Z"
      },
      {
        "duration": 22,
        "start_time": "2023-09-24T13:07:35.108Z"
      },
      {
        "duration": 22,
        "start_time": "2023-09-24T13:07:35.132Z"
      },
      {
        "duration": 15,
        "start_time": "2023-09-24T13:07:35.156Z"
      },
      {
        "duration": 20,
        "start_time": "2023-09-24T13:07:35.174Z"
      },
      {
        "duration": 11,
        "start_time": "2023-09-24T13:07:35.195Z"
      },
      {
        "duration": 19,
        "start_time": "2023-09-24T13:07:35.208Z"
      },
      {
        "duration": 10,
        "start_time": "2023-09-24T13:07:35.229Z"
      },
      {
        "duration": 75,
        "start_time": "2023-09-24T13:07:35.240Z"
      },
      {
        "duration": 11,
        "start_time": "2023-09-24T13:07:35.317Z"
      },
      {
        "duration": 7,
        "start_time": "2023-09-24T13:07:35.330Z"
      },
      {
        "duration": 51,
        "start_time": "2023-09-24T13:07:35.339Z"
      },
      {
        "duration": 40,
        "start_time": "2023-09-24T13:07:35.392Z"
      },
      {
        "duration": 20,
        "start_time": "2023-09-24T13:07:35.434Z"
      },
      {
        "duration": 32,
        "start_time": "2023-09-24T13:07:35.460Z"
      },
      {
        "duration": 127,
        "start_time": "2023-09-24T13:07:35.494Z"
      },
      {
        "duration": 16,
        "start_time": "2023-09-24T13:07:35.623Z"
      },
      {
        "duration": 34,
        "start_time": "2023-09-24T13:07:35.650Z"
      },
      {
        "duration": 117,
        "start_time": "2023-09-24T13:07:35.688Z"
      },
      {
        "duration": 123,
        "start_time": "2023-09-24T13:07:35.807Z"
      },
      {
        "duration": 151,
        "start_time": "2023-09-24T13:07:35.933Z"
      },
      {
        "duration": 8,
        "start_time": "2023-09-24T13:07:36.085Z"
      },
      {
        "duration": 17,
        "start_time": "2023-09-24T13:07:36.097Z"
      },
      {
        "duration": 158,
        "start_time": "2023-09-24T13:07:36.117Z"
      },
      {
        "duration": 3,
        "start_time": "2023-09-24T13:07:53.997Z"
      },
      {
        "duration": 11,
        "start_time": "2023-09-24T13:07:54.425Z"
      },
      {
        "duration": 126,
        "start_time": "2023-09-24T13:07:55.023Z"
      },
      {
        "duration": 4,
        "start_time": "2023-09-24T13:08:05.714Z"
      },
      {
        "duration": 3,
        "start_time": "2023-09-24T13:08:47.732Z"
      },
      {
        "duration": 13,
        "start_time": "2023-09-24T13:09:01.720Z"
      },
      {
        "duration": 113,
        "start_time": "2023-09-24T13:09:02.483Z"
      },
      {
        "duration": 110,
        "start_time": "2023-09-24T13:09:06.667Z"
      },
      {
        "duration": 20,
        "start_time": "2023-09-24T13:11:01.987Z"
      },
      {
        "duration": 93,
        "start_time": "2023-09-24T13:11:02.988Z"
      },
      {
        "duration": 14,
        "start_time": "2023-09-24T13:12:08.087Z"
      },
      {
        "duration": 115,
        "start_time": "2023-09-24T13:12:08.529Z"
      },
      {
        "duration": 38,
        "start_time": "2023-09-24T13:14:37.882Z"
      },
      {
        "duration": 8,
        "start_time": "2023-09-24T13:16:44.700Z"
      },
      {
        "duration": 9,
        "start_time": "2023-09-24T13:17:02.630Z"
      },
      {
        "duration": 8,
        "start_time": "2023-09-24T13:17:10.480Z"
      },
      {
        "duration": 113,
        "start_time": "2023-09-25T07:08:37.110Z"
      },
      {
        "duration": 11,
        "start_time": "2023-09-25T07:08:37.225Z"
      },
      {
        "duration": 65,
        "start_time": "2023-09-25T07:08:37.249Z"
      },
      {
        "duration": 1886,
        "start_time": "2023-09-25T07:08:37.315Z"
      },
      {
        "duration": 9,
        "start_time": "2023-09-25T07:08:39.204Z"
      },
      {
        "duration": 43,
        "start_time": "2023-09-25T07:08:39.215Z"
      },
      {
        "duration": 29,
        "start_time": "2023-09-25T07:08:39.259Z"
      },
      {
        "duration": 73,
        "start_time": "2023-09-25T07:08:39.289Z"
      },
      {
        "duration": 176,
        "start_time": "2023-09-25T07:08:39.363Z"
      },
      {
        "duration": 33,
        "start_time": "2023-09-25T07:08:39.541Z"
      },
      {
        "duration": 19,
        "start_time": "2023-09-25T07:08:39.575Z"
      },
      {
        "duration": 17,
        "start_time": "2023-09-25T07:08:39.595Z"
      },
      {
        "duration": 25,
        "start_time": "2023-09-25T07:08:39.613Z"
      },
      {
        "duration": 26,
        "start_time": "2023-09-25T07:08:39.640Z"
      },
      {
        "duration": 6,
        "start_time": "2023-09-25T07:08:39.667Z"
      },
      {
        "duration": 17,
        "start_time": "2023-09-25T07:08:39.674Z"
      },
      {
        "duration": 35,
        "start_time": "2023-09-25T07:08:39.692Z"
      },
      {
        "duration": 39,
        "start_time": "2023-09-25T07:08:39.729Z"
      },
      {
        "duration": 12,
        "start_time": "2023-09-25T07:08:39.769Z"
      },
      {
        "duration": 25,
        "start_time": "2023-09-25T07:08:39.783Z"
      },
      {
        "duration": 118,
        "start_time": "2023-09-25T07:08:39.809Z"
      },
      {
        "duration": 9,
        "start_time": "2023-09-25T07:08:39.929Z"
      },
      {
        "duration": 33,
        "start_time": "2023-09-25T07:08:39.950Z"
      },
      {
        "duration": 102,
        "start_time": "2023-09-25T07:08:39.985Z"
      },
      {
        "duration": 91,
        "start_time": "2023-09-25T07:08:40.089Z"
      },
      {
        "duration": 98,
        "start_time": "2023-09-25T07:08:40.181Z"
      },
      {
        "duration": 3,
        "start_time": "2023-09-25T07:08:40.280Z"
      },
      {
        "duration": 42,
        "start_time": "2023-09-25T07:08:40.284Z"
      },
      {
        "duration": 93,
        "start_time": "2023-09-25T07:08:40.328Z"
      },
      {
        "duration": 67,
        "start_time": "2023-09-25T07:08:40.424Z"
      },
      {
        "duration": 13,
        "start_time": "2023-09-25T07:08:40.493Z"
      },
      {
        "duration": 112,
        "start_time": "2023-09-25T07:11:36.550Z"
      },
      {
        "duration": 102,
        "start_time": "2023-09-25T07:11:53.659Z"
      },
      {
        "duration": 54,
        "start_time": "2023-09-25T07:17:21.746Z"
      },
      {
        "duration": 7,
        "start_time": "2023-09-25T07:18:29.164Z"
      },
      {
        "duration": 35,
        "start_time": "2023-09-25T07:18:43.882Z"
      },
      {
        "duration": 15,
        "start_time": "2023-09-25T07:36:24.185Z"
      },
      {
        "duration": 34,
        "start_time": "2023-09-25T07:37:40.164Z"
      },
      {
        "duration": 32,
        "start_time": "2023-09-25T07:37:58.823Z"
      },
      {
        "duration": 101,
        "start_time": "2023-09-25T07:41:34.639Z"
      },
      {
        "duration": 84,
        "start_time": "2023-09-25T07:42:39.313Z"
      },
      {
        "duration": 11,
        "start_time": "2023-09-25T07:44:11.655Z"
      },
      {
        "duration": 87,
        "start_time": "2023-09-25T07:44:16.615Z"
      },
      {
        "duration": 87,
        "start_time": "2023-09-25T07:44:55.631Z"
      },
      {
        "duration": 19,
        "start_time": "2023-09-25T07:45:15.943Z"
      },
      {
        "duration": 17,
        "start_time": "2023-09-25T07:45:29.973Z"
      },
      {
        "duration": 15,
        "start_time": "2023-09-25T07:45:44.263Z"
      },
      {
        "duration": 116,
        "start_time": "2023-09-25T07:46:14.861Z"
      },
      {
        "duration": 13,
        "start_time": "2023-09-25T07:46:14.978Z"
      },
      {
        "duration": 115,
        "start_time": "2023-09-25T07:46:14.992Z"
      },
      {
        "duration": 1951,
        "start_time": "2023-09-25T07:46:15.109Z"
      },
      {
        "duration": 9,
        "start_time": "2023-09-25T07:46:17.062Z"
      },
      {
        "duration": 19,
        "start_time": "2023-09-25T07:46:17.072Z"
      },
      {
        "duration": 11,
        "start_time": "2023-09-25T07:46:17.093Z"
      },
      {
        "duration": 15,
        "start_time": "2023-09-25T07:46:17.105Z"
      },
      {
        "duration": 11,
        "start_time": "2023-09-25T07:46:17.121Z"
      },
      {
        "duration": 8,
        "start_time": "2023-09-25T07:46:17.133Z"
      },
      {
        "duration": 11,
        "start_time": "2023-09-25T07:46:17.142Z"
      },
      {
        "duration": 14,
        "start_time": "2023-09-25T07:46:17.154Z"
      },
      {
        "duration": 16,
        "start_time": "2023-09-25T07:46:17.170Z"
      },
      {
        "duration": 20,
        "start_time": "2023-09-25T07:46:17.189Z"
      },
      {
        "duration": 6,
        "start_time": "2023-09-25T07:46:17.210Z"
      },
      {
        "duration": 11,
        "start_time": "2023-09-25T07:46:17.217Z"
      },
      {
        "duration": 32,
        "start_time": "2023-09-25T07:46:17.229Z"
      },
      {
        "duration": 16,
        "start_time": "2023-09-25T07:46:17.263Z"
      },
      {
        "duration": 4,
        "start_time": "2023-09-25T07:46:17.281Z"
      },
      {
        "duration": 8,
        "start_time": "2023-09-25T07:46:17.286Z"
      },
      {
        "duration": 175,
        "start_time": "2023-09-25T07:46:17.296Z"
      },
      {
        "duration": 8,
        "start_time": "2023-09-25T07:46:17.472Z"
      },
      {
        "duration": 99,
        "start_time": "2023-09-25T07:46:17.482Z"
      },
      {
        "duration": 95,
        "start_time": "2023-09-25T07:46:17.582Z"
      },
      {
        "duration": 87,
        "start_time": "2023-09-25T07:46:17.678Z"
      },
      {
        "duration": 99,
        "start_time": "2023-09-25T07:46:17.766Z"
      },
      {
        "duration": 2,
        "start_time": "2023-09-25T07:46:17.867Z"
      },
      {
        "duration": 24,
        "start_time": "2023-09-25T07:46:17.871Z"
      },
      {
        "duration": 104,
        "start_time": "2023-09-25T07:46:17.896Z"
      },
      {
        "duration": 65,
        "start_time": "2023-09-25T07:46:18.002Z"
      },
      {
        "duration": 12,
        "start_time": "2023-09-25T07:46:18.069Z"
      },
      {
        "duration": 117,
        "start_time": "2023-09-25T07:46:18.083Z"
      },
      {
        "duration": 63,
        "start_time": "2023-09-25T07:46:18.202Z"
      },
      {
        "duration": 34,
        "start_time": "2023-09-25T07:46:18.266Z"
      },
      {
        "duration": 3,
        "start_time": "2023-09-25T07:46:36.696Z"
      },
      {
        "duration": 116,
        "start_time": "2023-09-25T07:47:28.503Z"
      },
      {
        "duration": 31,
        "start_time": "2023-09-25T07:47:28.621Z"
      },
      {
        "duration": 65,
        "start_time": "2023-09-25T07:47:28.653Z"
      },
      {
        "duration": 2044,
        "start_time": "2023-09-25T07:47:28.720Z"
      },
      {
        "duration": 9,
        "start_time": "2023-09-25T07:47:30.766Z"
      },
      {
        "duration": 42,
        "start_time": "2023-09-25T07:47:30.776Z"
      },
      {
        "duration": 37,
        "start_time": "2023-09-25T07:47:30.820Z"
      },
      {
        "duration": 49,
        "start_time": "2023-09-25T07:47:30.859Z"
      },
      {
        "duration": 56,
        "start_time": "2023-09-25T07:47:30.909Z"
      },
      {
        "duration": 39,
        "start_time": "2023-09-25T07:47:30.967Z"
      },
      {
        "duration": 43,
        "start_time": "2023-09-25T07:47:31.008Z"
      },
      {
        "duration": 71,
        "start_time": "2023-09-25T07:47:31.052Z"
      },
      {
        "duration": 32,
        "start_time": "2023-09-25T07:47:31.124Z"
      },
      {
        "duration": 128,
        "start_time": "2023-09-25T07:47:31.158Z"
      },
      {
        "duration": 110,
        "start_time": "2023-09-25T07:47:31.287Z"
      },
      {
        "duration": 47,
        "start_time": "2023-09-25T07:47:31.399Z"
      },
      {
        "duration": 56,
        "start_time": "2023-09-25T07:47:31.448Z"
      },
      {
        "duration": 50,
        "start_time": "2023-09-25T07:47:31.506Z"
      },
      {
        "duration": 32,
        "start_time": "2023-09-25T07:47:31.558Z"
      },
      {
        "duration": 63,
        "start_time": "2023-09-25T07:47:31.592Z"
      },
      {
        "duration": 159,
        "start_time": "2023-09-25T07:47:31.656Z"
      },
      {
        "duration": 10,
        "start_time": "2023-09-25T07:47:31.817Z"
      },
      {
        "duration": 46,
        "start_time": "2023-09-25T07:47:31.828Z"
      },
      {
        "duration": 144,
        "start_time": "2023-09-25T07:47:31.876Z"
      },
      {
        "duration": 106,
        "start_time": "2023-09-25T07:47:32.022Z"
      },
      {
        "duration": 130,
        "start_time": "2023-09-25T07:47:32.129Z"
      },
      {
        "duration": 3,
        "start_time": "2023-09-25T07:47:32.261Z"
      },
      {
        "duration": 113,
        "start_time": "2023-09-25T07:47:32.267Z"
      },
      {
        "duration": 126,
        "start_time": "2023-09-25T07:47:32.382Z"
      },
      {
        "duration": 64,
        "start_time": "2023-09-25T07:47:32.510Z"
      },
      {
        "duration": 12,
        "start_time": "2023-09-25T07:47:32.576Z"
      },
      {
        "duration": 121,
        "start_time": "2023-09-25T07:47:32.590Z"
      },
      {
        "duration": 68,
        "start_time": "2023-09-25T07:47:32.713Z"
      },
      {
        "duration": 4,
        "start_time": "2023-09-25T07:47:35.333Z"
      },
      {
        "duration": 125,
        "start_time": "2023-09-25T07:49:19.037Z"
      },
      {
        "duration": 13,
        "start_time": "2023-09-25T07:49:19.164Z"
      },
      {
        "duration": 75,
        "start_time": "2023-09-25T07:49:19.178Z"
      },
      {
        "duration": 1671,
        "start_time": "2023-09-25T07:49:19.255Z"
      },
      {
        "duration": 9,
        "start_time": "2023-09-25T07:49:20.928Z"
      },
      {
        "duration": 34,
        "start_time": "2023-09-25T07:49:20.949Z"
      },
      {
        "duration": 19,
        "start_time": "2023-09-25T07:49:20.985Z"
      },
      {
        "duration": 22,
        "start_time": "2023-09-25T07:49:21.006Z"
      },
      {
        "duration": 35,
        "start_time": "2023-09-25T07:49:21.030Z"
      },
      {
        "duration": 23,
        "start_time": "2023-09-25T07:49:21.067Z"
      },
      {
        "duration": 43,
        "start_time": "2023-09-25T07:49:21.092Z"
      },
      {
        "duration": 35,
        "start_time": "2023-09-25T07:49:21.137Z"
      },
      {
        "duration": 30,
        "start_time": "2023-09-25T07:49:21.173Z"
      },
      {
        "duration": 55,
        "start_time": "2023-09-25T07:49:21.205Z"
      },
      {
        "duration": 17,
        "start_time": "2023-09-25T07:49:21.262Z"
      },
      {
        "duration": 12,
        "start_time": "2023-09-25T07:49:21.281Z"
      },
      {
        "duration": 56,
        "start_time": "2023-09-25T07:49:21.295Z"
      },
      {
        "duration": 62,
        "start_time": "2023-09-25T07:49:21.353Z"
      },
      {
        "duration": 7,
        "start_time": "2023-09-25T07:49:21.416Z"
      },
      {
        "duration": 7,
        "start_time": "2023-09-25T07:49:21.424Z"
      },
      {
        "duration": 116,
        "start_time": "2023-09-25T07:49:21.433Z"
      },
      {
        "duration": 12,
        "start_time": "2023-09-25T07:49:21.551Z"
      },
      {
        "duration": 47,
        "start_time": "2023-09-25T07:49:21.565Z"
      },
      {
        "duration": 116,
        "start_time": "2023-09-25T07:49:21.613Z"
      },
      {
        "duration": 373,
        "start_time": "2023-09-25T07:49:21.731Z"
      },
      {
        "duration": 98,
        "start_time": "2023-09-25T07:49:22.106Z"
      },
      {
        "duration": 3,
        "start_time": "2023-09-25T07:49:22.206Z"
      },
      {
        "duration": 26,
        "start_time": "2023-09-25T07:49:22.212Z"
      },
      {
        "duration": 98,
        "start_time": "2023-09-25T07:49:22.240Z"
      },
      {
        "duration": 60,
        "start_time": "2023-09-25T07:49:22.339Z"
      },
      {
        "duration": 11,
        "start_time": "2023-09-25T07:49:22.401Z"
      },
      {
        "duration": 126,
        "start_time": "2023-09-25T07:49:22.414Z"
      },
      {
        "duration": 59,
        "start_time": "2023-09-25T07:49:22.541Z"
      },
      {
        "duration": 3,
        "start_time": "2023-09-25T07:49:22.602Z"
      },
      {
        "duration": 45,
        "start_time": "2023-09-25T07:49:22.606Z"
      },
      {
        "duration": 8,
        "start_time": "2023-09-25T07:49:22.653Z"
      },
      {
        "duration": 9,
        "start_time": "2023-09-25T07:49:22.663Z"
      },
      {
        "duration": 99,
        "start_time": "2023-09-25T07:49:22.673Z"
      },
      {
        "duration": 5,
        "start_time": "2023-09-25T07:49:35.995Z"
      },
      {
        "duration": 23,
        "start_time": "2023-09-25T07:51:22.661Z"
      },
      {
        "duration": 4,
        "start_time": "2023-09-25T07:51:23.941Z"
      },
      {
        "duration": 108,
        "start_time": "2023-09-25T07:51:51.782Z"
      },
      {
        "duration": 16,
        "start_time": "2023-09-25T07:51:51.892Z"
      },
      {
        "duration": 186,
        "start_time": "2023-09-25T07:51:51.910Z"
      },
      {
        "duration": 1598,
        "start_time": "2023-09-25T07:51:52.098Z"
      },
      {
        "duration": 9,
        "start_time": "2023-09-25T07:51:53.698Z"
      },
      {
        "duration": 22,
        "start_time": "2023-09-25T07:51:53.708Z"
      },
      {
        "duration": 26,
        "start_time": "2023-09-25T07:51:53.732Z"
      },
      {
        "duration": 7,
        "start_time": "2023-09-25T07:51:53.760Z"
      },
      {
        "duration": 23,
        "start_time": "2023-09-25T07:51:53.769Z"
      },
      {
        "duration": 8,
        "start_time": "2023-09-25T07:51:53.794Z"
      },
      {
        "duration": 9,
        "start_time": "2023-09-25T07:51:53.803Z"
      },
      {
        "duration": 22,
        "start_time": "2023-09-25T07:51:53.814Z"
      },
      {
        "duration": 13,
        "start_time": "2023-09-25T07:51:53.838Z"
      },
      {
        "duration": 20,
        "start_time": "2023-09-25T07:51:53.854Z"
      },
      {
        "duration": 7,
        "start_time": "2023-09-25T07:51:53.875Z"
      },
      {
        "duration": 10,
        "start_time": "2023-09-25T07:51:53.884Z"
      },
      {
        "duration": 18,
        "start_time": "2023-09-25T07:51:53.895Z"
      },
      {
        "duration": 44,
        "start_time": "2023-09-25T07:51:53.915Z"
      },
      {
        "duration": 5,
        "start_time": "2023-09-25T07:51:53.960Z"
      },
      {
        "duration": 26,
        "start_time": "2023-09-25T07:51:53.966Z"
      },
      {
        "duration": 97,
        "start_time": "2023-09-25T07:51:53.993Z"
      },
      {
        "duration": 10,
        "start_time": "2023-09-25T07:51:54.091Z"
      },
      {
        "duration": 11,
        "start_time": "2023-09-25T07:51:54.102Z"
      },
      {
        "duration": 104,
        "start_time": "2023-09-25T07:51:54.114Z"
      },
      {
        "duration": 95,
        "start_time": "2023-09-25T07:51:54.219Z"
      },
      {
        "duration": 97,
        "start_time": "2023-09-25T07:51:54.315Z"
      },
      {
        "duration": 3,
        "start_time": "2023-09-25T07:51:54.413Z"
      },
      {
        "duration": 36,
        "start_time": "2023-09-25T07:51:54.417Z"
      },
      {
        "duration": 106,
        "start_time": "2023-09-25T07:51:54.455Z"
      },
      {
        "duration": 61,
        "start_time": "2023-09-25T07:51:54.562Z"
      },
      {
        "duration": 27,
        "start_time": "2023-09-25T07:51:54.625Z"
      },
      {
        "duration": 113,
        "start_time": "2023-09-25T07:51:54.653Z"
      },
      {
        "duration": 54,
        "start_time": "2023-09-25T07:51:54.767Z"
      },
      {
        "duration": 3,
        "start_time": "2023-09-25T07:51:54.823Z"
      },
      {
        "duration": 50,
        "start_time": "2023-09-25T07:51:54.827Z"
      },
      {
        "duration": 8,
        "start_time": "2023-09-25T07:51:54.879Z"
      },
      {
        "duration": 12,
        "start_time": "2023-09-25T07:51:54.889Z"
      },
      {
        "duration": 95,
        "start_time": "2023-09-25T07:51:54.903Z"
      },
      {
        "duration": 22,
        "start_time": "2023-09-25T07:51:55.000Z"
      },
      {
        "duration": 24,
        "start_time": "2023-09-25T07:52:01.372Z"
      },
      {
        "duration": 3,
        "start_time": "2023-09-25T07:52:01.847Z"
      },
      {
        "duration": 77,
        "start_time": "2023-09-25T07:52:21.511Z"
      },
      {
        "duration": 121,
        "start_time": "2023-09-25T07:52:47.936Z"
      },
      {
        "duration": 13,
        "start_time": "2023-09-25T07:52:48.060Z"
      },
      {
        "duration": 77,
        "start_time": "2023-09-25T07:52:48.074Z"
      },
      {
        "duration": 1936,
        "start_time": "2023-09-25T07:52:48.152Z"
      },
      {
        "duration": 9,
        "start_time": "2023-09-25T07:52:50.089Z"
      },
      {
        "duration": 30,
        "start_time": "2023-09-25T07:52:50.099Z"
      },
      {
        "duration": 31,
        "start_time": "2023-09-25T07:52:50.130Z"
      },
      {
        "duration": 73,
        "start_time": "2023-09-25T07:52:50.162Z"
      },
      {
        "duration": 22,
        "start_time": "2023-09-25T07:52:50.237Z"
      },
      {
        "duration": 36,
        "start_time": "2023-09-25T07:52:50.262Z"
      },
      {
        "duration": 22,
        "start_time": "2023-09-25T07:52:50.299Z"
      },
      {
        "duration": 39,
        "start_time": "2023-09-25T07:52:50.323Z"
      },
      {
        "duration": 24,
        "start_time": "2023-09-25T07:52:50.364Z"
      },
      {
        "duration": 51,
        "start_time": "2023-09-25T07:52:50.390Z"
      },
      {
        "duration": 42,
        "start_time": "2023-09-25T07:52:50.443Z"
      },
      {
        "duration": 16,
        "start_time": "2023-09-25T07:52:50.487Z"
      },
      {
        "duration": 60,
        "start_time": "2023-09-25T07:52:50.505Z"
      },
      {
        "duration": 33,
        "start_time": "2023-09-25T07:52:50.566Z"
      },
      {
        "duration": 12,
        "start_time": "2023-09-25T07:52:50.600Z"
      },
      {
        "duration": 36,
        "start_time": "2023-09-25T07:52:50.614Z"
      },
      {
        "duration": 111,
        "start_time": "2023-09-25T07:52:50.652Z"
      },
      {
        "duration": 9,
        "start_time": "2023-09-25T07:52:50.764Z"
      },
      {
        "duration": 47,
        "start_time": "2023-09-25T07:52:50.774Z"
      },
      {
        "duration": 120,
        "start_time": "2023-09-25T07:52:50.823Z"
      },
      {
        "duration": 90,
        "start_time": "2023-09-25T07:52:50.945Z"
      },
      {
        "duration": 100,
        "start_time": "2023-09-25T07:52:51.036Z"
      },
      {
        "duration": 13,
        "start_time": "2023-09-25T07:52:51.137Z"
      },
      {
        "duration": 103,
        "start_time": "2023-09-25T07:52:51.152Z"
      },
      {
        "duration": 108,
        "start_time": "2023-09-25T07:52:51.257Z"
      },
      {
        "duration": 57,
        "start_time": "2023-09-25T07:52:51.366Z"
      },
      {
        "duration": 25,
        "start_time": "2023-09-25T07:52:51.424Z"
      },
      {
        "duration": 116,
        "start_time": "2023-09-25T07:52:51.451Z"
      },
      {
        "duration": 58,
        "start_time": "2023-09-25T07:52:51.569Z"
      },
      {
        "duration": 4,
        "start_time": "2023-09-25T07:52:51.628Z"
      },
      {
        "duration": 82,
        "start_time": "2023-09-25T07:52:51.633Z"
      },
      {
        "duration": 9,
        "start_time": "2023-09-25T07:52:51.716Z"
      },
      {
        "duration": 34,
        "start_time": "2023-09-25T07:52:51.726Z"
      },
      {
        "duration": 92,
        "start_time": "2023-09-25T07:52:51.761Z"
      },
      {
        "duration": 8,
        "start_time": "2023-09-25T07:52:51.855Z"
      },
      {
        "duration": 9,
        "start_time": "2023-09-25T07:52:54.439Z"
      },
      {
        "duration": 3,
        "start_time": "2023-09-25T07:52:54.843Z"
      },
      {
        "duration": 90,
        "start_time": "2023-09-25T07:52:57.879Z"
      },
      {
        "duration": 87,
        "start_time": "2023-09-25T07:53:18.873Z"
      },
      {
        "duration": 8,
        "start_time": "2023-09-25T07:55:00.560Z"
      },
      {
        "duration": 100,
        "start_time": "2023-09-25T07:56:32.007Z"
      },
      {
        "duration": 8,
        "start_time": "2023-09-25T07:58:03.904Z"
      },
      {
        "duration": 126,
        "start_time": "2023-09-25T07:58:10.407Z"
      },
      {
        "duration": 12,
        "start_time": "2023-09-25T07:58:29.333Z"
      },
      {
        "duration": 148,
        "start_time": "2023-09-25T07:58:29.903Z"
      },
      {
        "duration": 10,
        "start_time": "2023-09-25T08:03:04.401Z"
      },
      {
        "duration": 8,
        "start_time": "2023-09-25T08:06:53.055Z"
      },
      {
        "duration": 7,
        "start_time": "2023-09-25T08:07:29.005Z"
      },
      {
        "duration": 4,
        "start_time": "2023-09-25T08:07:36.778Z"
      },
      {
        "duration": 8,
        "start_time": "2023-09-25T08:07:44.738Z"
      },
      {
        "duration": 7,
        "start_time": "2023-09-25T08:13:14.168Z"
      },
      {
        "duration": 4,
        "start_time": "2023-09-25T08:13:15.801Z"
      },
      {
        "duration": 125,
        "start_time": "2023-09-25T08:13:59.825Z"
      },
      {
        "duration": 13,
        "start_time": "2023-09-25T08:13:59.952Z"
      },
      {
        "duration": 86,
        "start_time": "2023-09-25T08:13:59.966Z"
      },
      {
        "duration": 1746,
        "start_time": "2023-09-25T08:14:00.054Z"
      },
      {
        "duration": 9,
        "start_time": "2023-09-25T08:14:01.802Z"
      },
      {
        "duration": 82,
        "start_time": "2023-09-25T08:14:01.812Z"
      },
      {
        "duration": 77,
        "start_time": "2023-09-25T08:14:01.896Z"
      },
      {
        "duration": 89,
        "start_time": "2023-09-25T08:14:01.974Z"
      },
      {
        "duration": 110,
        "start_time": "2023-09-25T08:14:02.065Z"
      },
      {
        "duration": 58,
        "start_time": "2023-09-25T08:14:02.177Z"
      },
      {
        "duration": 39,
        "start_time": "2023-09-25T08:14:02.237Z"
      },
      {
        "duration": 37,
        "start_time": "2023-09-25T08:14:02.277Z"
      },
      {
        "duration": 35,
        "start_time": "2023-09-25T08:14:02.316Z"
      },
      {
        "duration": 100,
        "start_time": "2023-09-25T08:14:02.353Z"
      },
      {
        "duration": 10,
        "start_time": "2023-09-25T08:14:02.455Z"
      },
      {
        "duration": 33,
        "start_time": "2023-09-25T08:14:02.467Z"
      },
      {
        "duration": 49,
        "start_time": "2023-09-25T08:14:02.501Z"
      },
      {
        "duration": 32,
        "start_time": "2023-09-25T08:14:02.552Z"
      },
      {
        "duration": 34,
        "start_time": "2023-09-25T08:14:02.586Z"
      },
      {
        "duration": 36,
        "start_time": "2023-09-25T08:14:02.621Z"
      },
      {
        "duration": 123,
        "start_time": "2023-09-25T08:14:02.658Z"
      },
      {
        "duration": 10,
        "start_time": "2023-09-25T08:14:02.782Z"
      },
      {
        "duration": 41,
        "start_time": "2023-09-25T08:14:02.794Z"
      },
      {
        "duration": 95,
        "start_time": "2023-09-25T08:14:02.836Z"
      },
      {
        "duration": 459,
        "start_time": "2023-09-25T08:14:02.933Z"
      },
      {
        "duration": 111,
        "start_time": "2023-09-25T08:14:03.394Z"
      },
      {
        "duration": 3,
        "start_time": "2023-09-25T08:14:03.506Z"
      },
      {
        "duration": 41,
        "start_time": "2023-09-25T08:14:03.512Z"
      },
      {
        "duration": 105,
        "start_time": "2023-09-25T08:14:03.555Z"
      },
      {
        "duration": 60,
        "start_time": "2023-09-25T08:14:03.661Z"
      },
      {
        "duration": 12,
        "start_time": "2023-09-25T08:14:03.723Z"
      },
      {
        "duration": 127,
        "start_time": "2023-09-25T08:14:03.750Z"
      },
      {
        "duration": 75,
        "start_time": "2023-09-25T08:14:03.879Z"
      },
      {
        "duration": 3,
        "start_time": "2023-09-25T08:14:03.956Z"
      },
      {
        "duration": 36,
        "start_time": "2023-09-25T08:14:07.145Z"
      },
      {
        "duration": 8,
        "start_time": "2023-09-25T08:14:59.380Z"
      },
      {
        "duration": 4,
        "start_time": "2023-09-25T08:15:00.080Z"
      },
      {
        "duration": 94,
        "start_time": "2023-09-25T08:15:10.111Z"
      },
      {
        "duration": 9,
        "start_time": "2023-09-25T08:15:13.988Z"
      },
      {
        "duration": 4,
        "start_time": "2023-09-25T08:15:14.812Z"
      },
      {
        "duration": 96,
        "start_time": "2023-09-25T08:15:21.686Z"
      },
      {
        "duration": 93,
        "start_time": "2023-09-25T08:15:24.141Z"
      },
      {
        "duration": 11,
        "start_time": "2023-09-25T08:15:40.653Z"
      },
      {
        "duration": 10,
        "start_time": "2023-09-25T08:16:23.387Z"
      },
      {
        "duration": 94,
        "start_time": "2023-09-25T08:16:25.038Z"
      },
      {
        "duration": 13,
        "start_time": "2023-09-25T08:16:55.378Z"
      },
      {
        "duration": 8,
        "start_time": "2023-09-25T08:17:04.140Z"
      },
      {
        "duration": 146,
        "start_time": "2023-09-25T08:18:25.955Z"
      },
      {
        "duration": 17,
        "start_time": "2023-09-25T08:18:26.103Z"
      },
      {
        "duration": 90,
        "start_time": "2023-09-25T08:18:26.123Z"
      },
      {
        "duration": 1667,
        "start_time": "2023-09-25T08:18:26.214Z"
      },
      {
        "duration": 9,
        "start_time": "2023-09-25T08:18:27.883Z"
      },
      {
        "duration": 23,
        "start_time": "2023-09-25T08:18:27.893Z"
      },
      {
        "duration": 26,
        "start_time": "2023-09-25T08:18:27.917Z"
      },
      {
        "duration": 6,
        "start_time": "2023-09-25T08:18:27.944Z"
      },
      {
        "duration": 9,
        "start_time": "2023-09-25T08:18:27.951Z"
      },
      {
        "duration": 8,
        "start_time": "2023-09-25T08:18:27.962Z"
      },
      {
        "duration": 16,
        "start_time": "2023-09-25T08:18:27.971Z"
      },
      {
        "duration": 23,
        "start_time": "2023-09-25T08:18:27.988Z"
      },
      {
        "duration": 9,
        "start_time": "2023-09-25T08:18:28.013Z"
      },
      {
        "duration": 37,
        "start_time": "2023-09-25T08:18:28.024Z"
      },
      {
        "duration": 6,
        "start_time": "2023-09-25T08:18:28.062Z"
      },
      {
        "duration": 37,
        "start_time": "2023-09-25T08:18:28.069Z"
      },
      {
        "duration": 60,
        "start_time": "2023-09-25T08:18:28.108Z"
      },
      {
        "duration": 37,
        "start_time": "2023-09-25T08:18:28.169Z"
      },
      {
        "duration": 28,
        "start_time": "2023-09-25T08:18:28.208Z"
      },
      {
        "duration": 12,
        "start_time": "2023-09-25T08:18:28.238Z"
      },
      {
        "duration": 109,
        "start_time": "2023-09-25T08:18:28.251Z"
      },
      {
        "duration": 9,
        "start_time": "2023-09-25T08:18:28.362Z"
      },
      {
        "duration": 9,
        "start_time": "2023-09-25T08:18:28.372Z"
      },
      {
        "duration": 116,
        "start_time": "2023-09-25T08:18:28.383Z"
      },
      {
        "duration": 99,
        "start_time": "2023-09-25T08:18:28.502Z"
      },
      {
        "duration": 102,
        "start_time": "2023-09-25T08:18:28.603Z"
      },
      {
        "duration": 3,
        "start_time": "2023-09-25T08:18:28.707Z"
      },
      {
        "duration": 26,
        "start_time": "2023-09-25T08:18:28.711Z"
      },
      {
        "duration": 115,
        "start_time": "2023-09-25T08:18:28.739Z"
      },
      {
        "duration": 60,
        "start_time": "2023-09-25T08:18:28.855Z"
      },
      {
        "duration": 13,
        "start_time": "2023-09-25T08:18:28.917Z"
      },
      {
        "duration": 145,
        "start_time": "2023-09-25T08:18:28.932Z"
      },
      {
        "duration": 58,
        "start_time": "2023-09-25T08:18:29.078Z"
      },
      {
        "duration": 3,
        "start_time": "2023-09-25T08:18:29.149Z"
      },
      {
        "duration": 36,
        "start_time": "2023-09-25T08:18:29.154Z"
      },
      {
        "duration": 7,
        "start_time": "2023-09-25T08:18:29.192Z"
      },
      {
        "duration": 7,
        "start_time": "2023-09-25T08:18:29.201Z"
      },
      {
        "duration": 113,
        "start_time": "2023-09-25T08:18:29.209Z"
      },
      {
        "duration": 10,
        "start_time": "2023-09-25T08:18:29.324Z"
      },
      {
        "duration": 27,
        "start_time": "2023-09-25T08:18:29.335Z"
      },
      {
        "duration": 96,
        "start_time": "2023-09-25T08:18:29.365Z"
      },
      {
        "duration": 101,
        "start_time": "2023-09-25T08:18:29.462Z"
      },
      {
        "duration": 9,
        "start_time": "2023-09-25T08:18:29.565Z"
      },
      {
        "duration": 107,
        "start_time": "2023-09-25T08:18:29.575Z"
      },
      {
        "duration": 10,
        "start_time": "2023-09-25T08:18:39.563Z"
      },
      {
        "duration": 92,
        "start_time": "2023-09-25T08:18:40.739Z"
      },
      {
        "duration": 12,
        "start_time": "2023-09-25T08:18:43.339Z"
      },
      {
        "duration": 5,
        "start_time": "2023-09-25T08:21:29.815Z"
      },
      {
        "duration": 119,
        "start_time": "2023-09-25T08:22:43.390Z"
      },
      {
        "duration": 13,
        "start_time": "2023-09-25T08:22:43.511Z"
      },
      {
        "duration": 80,
        "start_time": "2023-09-25T08:22:43.526Z"
      },
      {
        "duration": 1700,
        "start_time": "2023-09-25T08:22:43.608Z"
      },
      {
        "duration": 10,
        "start_time": "2023-09-25T08:22:45.310Z"
      },
      {
        "duration": 25,
        "start_time": "2023-09-25T08:22:45.321Z"
      },
      {
        "duration": 20,
        "start_time": "2023-09-25T08:22:45.347Z"
      },
      {
        "duration": 11,
        "start_time": "2023-09-25T08:22:45.369Z"
      },
      {
        "duration": 29,
        "start_time": "2023-09-25T08:22:45.382Z"
      },
      {
        "duration": 23,
        "start_time": "2023-09-25T08:22:45.413Z"
      },
      {
        "duration": 32,
        "start_time": "2023-09-25T08:22:45.437Z"
      },
      {
        "duration": 437,
        "start_time": "2023-09-25T08:22:45.470Z"
      },
      {
        "duration": 7,
        "start_time": "2023-09-25T08:22:45.909Z"
      },
      {
        "duration": 23,
        "start_time": "2023-09-25T08:22:45.917Z"
      },
      {
        "duration": 7,
        "start_time": "2023-09-25T08:22:45.948Z"
      },
      {
        "duration": 7,
        "start_time": "2023-09-25T08:22:45.956Z"
      },
      {
        "duration": 31,
        "start_time": "2023-09-25T08:22:45.964Z"
      },
      {
        "duration": 21,
        "start_time": "2023-09-25T08:22:45.996Z"
      },
      {
        "duration": 7,
        "start_time": "2023-09-25T08:22:46.018Z"
      },
      {
        "duration": 26,
        "start_time": "2023-09-25T08:22:46.027Z"
      },
      {
        "duration": 149,
        "start_time": "2023-09-25T08:22:46.057Z"
      },
      {
        "duration": 11,
        "start_time": "2023-09-25T08:22:46.208Z"
      },
      {
        "duration": 10,
        "start_time": "2023-09-25T08:22:46.221Z"
      },
      {
        "duration": 135,
        "start_time": "2023-09-25T08:22:46.233Z"
      },
      {
        "duration": 95,
        "start_time": "2023-09-25T08:22:46.370Z"
      },
      {
        "duration": 101,
        "start_time": "2023-09-25T08:22:46.466Z"
      },
      {
        "duration": 3,
        "start_time": "2023-09-25T08:22:46.568Z"
      },
      {
        "duration": 26,
        "start_time": "2023-09-25T08:22:46.574Z"
      },
      {
        "duration": 109,
        "start_time": "2023-09-25T08:22:46.602Z"
      },
      {
        "duration": 69,
        "start_time": "2023-09-25T08:22:46.712Z"
      },
      {
        "duration": 13,
        "start_time": "2023-09-25T08:22:46.782Z"
      },
      {
        "duration": 120,
        "start_time": "2023-09-25T08:22:46.797Z"
      },
      {
        "duration": 65,
        "start_time": "2023-09-25T08:22:46.918Z"
      },
      {
        "duration": 4,
        "start_time": "2023-09-25T08:22:46.984Z"
      },
      {
        "duration": 42,
        "start_time": "2023-09-25T08:22:46.989Z"
      },
      {
        "duration": 17,
        "start_time": "2023-09-25T08:22:47.032Z"
      },
      {
        "duration": 12,
        "start_time": "2023-09-25T08:22:47.051Z"
      },
      {
        "duration": 93,
        "start_time": "2023-09-25T08:22:47.065Z"
      },
      {
        "duration": 8,
        "start_time": "2023-09-25T08:22:47.160Z"
      },
      {
        "duration": 7,
        "start_time": "2023-09-25T08:22:47.170Z"
      },
      {
        "duration": 103,
        "start_time": "2023-09-25T08:22:47.178Z"
      },
      {
        "duration": 100,
        "start_time": "2023-09-25T08:22:47.283Z"
      },
      {
        "duration": 10,
        "start_time": "2023-09-25T08:22:47.385Z"
      },
      {
        "duration": 99,
        "start_time": "2023-09-25T08:22:47.396Z"
      },
      {
        "duration": 9,
        "start_time": "2023-09-25T08:22:47.497Z"
      },
      {
        "duration": 111,
        "start_time": "2023-09-25T08:22:47.507Z"
      },
      {
        "duration": 6,
        "start_time": "2023-09-25T08:22:50.800Z"
      },
      {
        "duration": 121,
        "start_time": "2023-09-25T08:23:48.361Z"
      },
      {
        "duration": 14,
        "start_time": "2023-09-25T08:23:48.484Z"
      },
      {
        "duration": 85,
        "start_time": "2023-09-25T08:23:48.499Z"
      },
      {
        "duration": 1629,
        "start_time": "2023-09-25T08:23:48.586Z"
      },
      {
        "duration": 9,
        "start_time": "2023-09-25T08:23:50.217Z"
      },
      {
        "duration": 21,
        "start_time": "2023-09-25T08:23:50.228Z"
      },
      {
        "duration": 19,
        "start_time": "2023-09-25T08:23:50.251Z"
      },
      {
        "duration": 6,
        "start_time": "2023-09-25T08:23:50.271Z"
      },
      {
        "duration": 7,
        "start_time": "2023-09-25T08:23:50.278Z"
      },
      {
        "duration": 16,
        "start_time": "2023-09-25T08:23:50.288Z"
      },
      {
        "duration": 8,
        "start_time": "2023-09-25T08:23:50.306Z"
      },
      {
        "duration": 20,
        "start_time": "2023-09-25T08:23:50.316Z"
      },
      {
        "duration": 16,
        "start_time": "2023-09-25T08:23:50.338Z"
      },
      {
        "duration": 37,
        "start_time": "2023-09-25T08:23:50.356Z"
      },
      {
        "duration": 7,
        "start_time": "2023-09-25T08:23:50.394Z"
      },
      {
        "duration": 19,
        "start_time": "2023-09-25T08:23:50.403Z"
      },
      {
        "duration": 29,
        "start_time": "2023-09-25T08:23:50.424Z"
      },
      {
        "duration": 18,
        "start_time": "2023-09-25T08:23:50.455Z"
      },
      {
        "duration": 4,
        "start_time": "2023-09-25T08:23:50.474Z"
      },
      {
        "duration": 12,
        "start_time": "2023-09-25T08:23:50.480Z"
      },
      {
        "duration": 112,
        "start_time": "2023-09-25T08:23:50.493Z"
      },
      {
        "duration": 10,
        "start_time": "2023-09-25T08:23:50.607Z"
      },
      {
        "duration": 31,
        "start_time": "2023-09-25T08:23:50.618Z"
      },
      {
        "duration": 103,
        "start_time": "2023-09-25T08:23:50.651Z"
      },
      {
        "duration": 10,
        "start_time": "2023-09-25T08:23:50.756Z"
      },
      {
        "duration": 102,
        "start_time": "2023-09-25T08:23:50.768Z"
      },
      {
        "duration": 3,
        "start_time": "2023-09-25T08:23:50.873Z"
      },
      {
        "duration": 51,
        "start_time": "2023-09-25T08:23:50.879Z"
      },
      {
        "duration": 100,
        "start_time": "2023-09-25T08:23:50.932Z"
      },
      {
        "duration": 66,
        "start_time": "2023-09-25T08:23:51.034Z"
      },
      {
        "duration": 14,
        "start_time": "2023-09-25T08:23:51.102Z"
      },
      {
        "duration": 124,
        "start_time": "2023-09-25T08:23:51.117Z"
      },
      {
        "duration": 12,
        "start_time": "2023-09-25T08:23:51.249Z"
      },
      {
        "duration": 9,
        "start_time": "2023-09-25T08:23:51.263Z"
      },
      {
        "duration": 26,
        "start_time": "2023-09-25T08:23:51.274Z"
      },
      {
        "duration": 15,
        "start_time": "2023-09-25T08:23:51.301Z"
      },
      {
        "duration": 5,
        "start_time": "2023-09-25T08:23:51.317Z"
      },
      {
        "duration": 95,
        "start_time": "2023-09-25T08:23:51.324Z"
      },
      {
        "duration": 9,
        "start_time": "2023-09-25T08:23:51.421Z"
      },
      {
        "duration": 18,
        "start_time": "2023-09-25T08:23:51.432Z"
      },
      {
        "duration": 116,
        "start_time": "2023-09-25T08:23:51.452Z"
      },
      {
        "duration": 100,
        "start_time": "2023-09-25T08:23:51.569Z"
      },
      {
        "duration": 10,
        "start_time": "2023-09-25T08:23:51.670Z"
      },
      {
        "duration": 102,
        "start_time": "2023-09-25T08:23:51.681Z"
      },
      {
        "duration": 9,
        "start_time": "2023-09-25T08:23:51.784Z"
      },
      {
        "duration": 101,
        "start_time": "2023-09-25T08:23:51.794Z"
      },
      {
        "duration": 7,
        "start_time": "2023-09-25T08:23:54.761Z"
      },
      {
        "duration": 14,
        "start_time": "2023-09-25T08:24:00.626Z"
      },
      {
        "duration": 13,
        "start_time": "2023-09-25T08:24:10.873Z"
      },
      {
        "duration": 7,
        "start_time": "2023-09-25T08:24:21.152Z"
      },
      {
        "duration": 7,
        "start_time": "2023-09-25T08:24:44.337Z"
      },
      {
        "duration": 6,
        "start_time": "2023-09-25T08:24:49.232Z"
      },
      {
        "duration": 6,
        "start_time": "2023-09-25T08:28:54.725Z"
      },
      {
        "duration": 7,
        "start_time": "2023-09-25T08:29:55.830Z"
      },
      {
        "duration": 1324,
        "start_time": "2023-09-25T08:30:54.094Z"
      },
      {
        "duration": 6,
        "start_time": "2023-09-25T08:53:04.011Z"
      },
      {
        "duration": 8,
        "start_time": "2023-09-25T08:53:19.353Z"
      },
      {
        "duration": 7,
        "start_time": "2023-09-25T08:55:21.246Z"
      },
      {
        "duration": 12,
        "start_time": "2023-09-25T09:00:52.994Z"
      },
      {
        "duration": 2337,
        "start_time": "2023-09-25T09:01:46.440Z"
      },
      {
        "duration": 14,
        "start_time": "2023-09-25T09:02:14.025Z"
      },
      {
        "duration": 12,
        "start_time": "2023-09-25T09:02:16.596Z"
      },
      {
        "duration": 210,
        "start_time": "2023-09-25T09:02:51.174Z"
      },
      {
        "duration": 7,
        "start_time": "2023-09-25T09:04:16.031Z"
      },
      {
        "duration": 4,
        "start_time": "2023-09-25T09:04:47.008Z"
      },
      {
        "duration": 8,
        "start_time": "2023-09-25T09:04:58.092Z"
      },
      {
        "duration": 7,
        "start_time": "2023-09-25T09:06:07.078Z"
      },
      {
        "duration": 134,
        "start_time": "2023-09-25T09:10:34.625Z"
      },
      {
        "duration": 179,
        "start_time": "2023-09-25T09:11:18.427Z"
      },
      {
        "duration": 180,
        "start_time": "2023-09-25T09:11:33.158Z"
      },
      {
        "duration": 160,
        "start_time": "2023-09-25T09:11:46.255Z"
      },
      {
        "duration": 184,
        "start_time": "2023-09-25T09:11:54.103Z"
      },
      {
        "duration": 175,
        "start_time": "2023-09-25T09:12:16.559Z"
      },
      {
        "duration": 156,
        "start_time": "2023-09-25T09:12:25.211Z"
      },
      {
        "duration": 167,
        "start_time": "2023-09-25T09:12:56.661Z"
      },
      {
        "duration": 192,
        "start_time": "2023-09-25T09:13:01.318Z"
      },
      {
        "duration": 167,
        "start_time": "2023-09-25T09:13:14.220Z"
      },
      {
        "duration": 176,
        "start_time": "2023-09-25T09:13:20.498Z"
      },
      {
        "duration": 168,
        "start_time": "2023-09-25T09:29:43.835Z"
      },
      {
        "duration": 166,
        "start_time": "2023-09-25T09:30:00.475Z"
      },
      {
        "duration": 150,
        "start_time": "2023-09-25T09:30:05.690Z"
      },
      {
        "duration": 149,
        "start_time": "2023-09-25T09:31:44.147Z"
      },
      {
        "duration": 130,
        "start_time": "2023-09-25T09:32:00.159Z"
      },
      {
        "duration": 142,
        "start_time": "2023-09-25T09:32:07.482Z"
      },
      {
        "duration": 631,
        "start_time": "2023-09-25T09:34:41.143Z"
      },
      {
        "duration": 171,
        "start_time": "2023-09-25T09:34:46.913Z"
      },
      {
        "duration": 151,
        "start_time": "2023-09-25T09:37:15.501Z"
      },
      {
        "duration": 152,
        "start_time": "2023-09-25T09:37:20.062Z"
      },
      {
        "duration": 181,
        "start_time": "2023-09-25T09:37:39.520Z"
      },
      {
        "duration": 125,
        "start_time": "2023-09-25T09:37:47.186Z"
      },
      {
        "duration": 145,
        "start_time": "2023-09-25T09:37:55.051Z"
      },
      {
        "duration": 143,
        "start_time": "2023-09-25T09:37:59.845Z"
      },
      {
        "duration": 137,
        "start_time": "2023-09-25T09:38:30.591Z"
      },
      {
        "duration": 144,
        "start_time": "2023-09-25T09:38:41.678Z"
      },
      {
        "duration": 170,
        "start_time": "2023-09-25T09:42:45.972Z"
      },
      {
        "duration": 124,
        "start_time": "2023-09-25T09:42:58.266Z"
      },
      {
        "duration": 181,
        "start_time": "2023-09-25T09:43:05.929Z"
      },
      {
        "duration": 122,
        "start_time": "2023-09-25T09:43:14.008Z"
      },
      {
        "duration": 152,
        "start_time": "2023-09-25T09:43:34.518Z"
      },
      {
        "duration": 156,
        "start_time": "2023-09-25T09:43:39.931Z"
      },
      {
        "duration": 148,
        "start_time": "2023-09-25T09:43:49.391Z"
      },
      {
        "duration": 9,
        "start_time": "2023-09-25T09:44:42.767Z"
      },
      {
        "duration": 6,
        "start_time": "2023-09-25T09:44:54.646Z"
      },
      {
        "duration": 4,
        "start_time": "2023-09-25T09:45:01.840Z"
      },
      {
        "duration": 5,
        "start_time": "2023-09-25T09:45:35.409Z"
      },
      {
        "duration": 148,
        "start_time": "2023-09-25T09:46:34.445Z"
      },
      {
        "duration": 173,
        "start_time": "2023-09-25T09:46:58.417Z"
      },
      {
        "duration": 154,
        "start_time": "2023-09-25T09:47:40.827Z"
      },
      {
        "duration": 190,
        "start_time": "2023-09-25T09:48:02.108Z"
      },
      {
        "duration": 4,
        "start_time": "2023-09-25T09:49:04.329Z"
      },
      {
        "duration": 5,
        "start_time": "2023-09-25T09:49:13.812Z"
      },
      {
        "duration": 128,
        "start_time": "2023-09-25T09:51:16.291Z"
      },
      {
        "duration": 124,
        "start_time": "2023-09-25T09:51:23.453Z"
      },
      {
        "duration": 141,
        "start_time": "2023-09-25T09:51:33.717Z"
      },
      {
        "duration": 126,
        "start_time": "2023-09-25T09:51:38.132Z"
      },
      {
        "duration": 116,
        "start_time": "2023-09-25T09:51:44.968Z"
      },
      {
        "duration": 102,
        "start_time": "2023-09-25T09:51:49.977Z"
      },
      {
        "duration": 103,
        "start_time": "2023-09-25T09:51:53.714Z"
      },
      {
        "duration": 104,
        "start_time": "2023-09-25T09:51:57.201Z"
      },
      {
        "duration": 105,
        "start_time": "2023-09-25T09:52:02.092Z"
      },
      {
        "duration": 98,
        "start_time": "2023-09-25T09:52:07.466Z"
      },
      {
        "duration": 13,
        "start_time": "2023-09-25T09:53:43.513Z"
      },
      {
        "duration": 10,
        "start_time": "2023-09-25T09:54:06.497Z"
      },
      {
        "duration": 116,
        "start_time": "2023-09-25T09:54:20.187Z"
      },
      {
        "duration": 114,
        "start_time": "2023-09-25T09:54:27.269Z"
      },
      {
        "duration": 5014,
        "start_time": "2023-09-25T09:56:27.439Z"
      },
      {
        "duration": 111,
        "start_time": "2023-09-25T09:56:48.572Z"
      },
      {
        "duration": 112,
        "start_time": "2023-09-25T09:57:01.381Z"
      },
      {
        "duration": 148,
        "start_time": "2023-09-25T09:57:06.065Z"
      },
      {
        "duration": 143,
        "start_time": "2023-09-25T09:57:13.038Z"
      },
      {
        "duration": 127,
        "start_time": "2023-09-25T09:57:17.229Z"
      },
      {
        "duration": 124,
        "start_time": "2023-09-25T09:57:22.046Z"
      },
      {
        "duration": 115,
        "start_time": "2023-09-25T09:57:25.232Z"
      },
      {
        "duration": 119,
        "start_time": "2023-09-25T09:57:28.914Z"
      },
      {
        "duration": 137,
        "start_time": "2023-09-25T09:57:36.495Z"
      },
      {
        "duration": 124,
        "start_time": "2023-09-25T09:57:48.247Z"
      },
      {
        "duration": 151,
        "start_time": "2023-09-25T09:58:24.723Z"
      },
      {
        "duration": 160,
        "start_time": "2023-09-25T10:10:57.707Z"
      },
      {
        "duration": 6,
        "start_time": "2023-09-25T10:14:34.465Z"
      },
      {
        "duration": 188,
        "start_time": "2023-09-25T10:15:08.299Z"
      },
      {
        "duration": 135,
        "start_time": "2023-09-25T10:15:15.413Z"
      },
      {
        "duration": 128,
        "start_time": "2023-09-25T10:15:20.762Z"
      },
      {
        "duration": 106,
        "start_time": "2023-09-25T10:15:27.565Z"
      },
      {
        "duration": 135,
        "start_time": "2023-09-25T10:15:35.110Z"
      },
      {
        "duration": 147,
        "start_time": "2023-09-25T10:15:41.775Z"
      },
      {
        "duration": 133,
        "start_time": "2023-09-25T10:15:46.485Z"
      },
      {
        "duration": 167,
        "start_time": "2023-09-25T10:15:52.395Z"
      },
      {
        "duration": 178,
        "start_time": "2023-09-25T10:15:55.686Z"
      },
      {
        "duration": 169,
        "start_time": "2023-09-25T10:17:12.168Z"
      },
      {
        "duration": 152,
        "start_time": "2023-09-25T10:17:19.807Z"
      },
      {
        "duration": 166,
        "start_time": "2023-09-25T10:18:36.236Z"
      },
      {
        "duration": 141,
        "start_time": "2023-09-25T10:18:40.269Z"
      },
      {
        "duration": 143,
        "start_time": "2023-09-25T10:49:20.666Z"
      },
      {
        "duration": 158,
        "start_time": "2023-09-25T10:49:28.907Z"
      },
      {
        "duration": 1917,
        "start_time": "2023-09-25T10:57:10.949Z"
      },
      {
        "duration": 2805,
        "start_time": "2023-09-25T10:59:55.371Z"
      },
      {
        "duration": 1926,
        "start_time": "2023-09-25T11:40:54.362Z"
      },
      {
        "duration": 133,
        "start_time": "2023-09-25T11:41:37.832Z"
      },
      {
        "duration": 13,
        "start_time": "2023-09-25T11:41:37.967Z"
      },
      {
        "duration": 91,
        "start_time": "2023-09-25T11:41:37.981Z"
      },
      {
        "duration": 2339,
        "start_time": "2023-09-25T11:41:38.074Z"
      },
      {
        "duration": 9,
        "start_time": "2023-09-25T11:41:40.414Z"
      },
      {
        "duration": 22,
        "start_time": "2023-09-25T11:41:40.424Z"
      },
      {
        "duration": 39,
        "start_time": "2023-09-25T11:41:40.448Z"
      },
      {
        "duration": 28,
        "start_time": "2023-09-25T11:41:40.488Z"
      },
      {
        "duration": 29,
        "start_time": "2023-09-25T11:41:40.517Z"
      },
      {
        "duration": 28,
        "start_time": "2023-09-25T11:41:40.548Z"
      },
      {
        "duration": 50,
        "start_time": "2023-09-25T11:41:40.578Z"
      },
      {
        "duration": 46,
        "start_time": "2023-09-25T11:41:40.630Z"
      },
      {
        "duration": 16,
        "start_time": "2023-09-25T11:41:40.678Z"
      },
      {
        "duration": 64,
        "start_time": "2023-09-25T11:41:40.696Z"
      },
      {
        "duration": 172,
        "start_time": "2023-09-25T11:41:40.762Z"
      },
      {
        "duration": 87,
        "start_time": "2023-09-25T11:41:40.936Z"
      },
      {
        "duration": 74,
        "start_time": "2023-09-25T11:41:41.025Z"
      },
      {
        "duration": 65,
        "start_time": "2023-09-25T11:41:41.100Z"
      },
      {
        "duration": 5,
        "start_time": "2023-09-25T11:41:41.166Z"
      },
      {
        "duration": 42,
        "start_time": "2023-09-25T11:41:41.172Z"
      },
      {
        "duration": 119,
        "start_time": "2023-09-25T11:41:41.215Z"
      },
      {
        "duration": 29,
        "start_time": "2023-09-25T11:41:41.335Z"
      },
      {
        "duration": 26,
        "start_time": "2023-09-25T11:41:41.365Z"
      },
      {
        "duration": 99,
        "start_time": "2023-09-25T11:41:41.393Z"
      },
      {
        "duration": 11,
        "start_time": "2023-09-25T11:41:41.494Z"
      },
      {
        "duration": 113,
        "start_time": "2023-09-25T11:41:41.506Z"
      },
      {
        "duration": 3,
        "start_time": "2023-09-25T11:41:41.621Z"
      },
      {
        "duration": 12,
        "start_time": "2023-09-25T11:41:41.627Z"
      },
      {
        "duration": 104,
        "start_time": "2023-09-25T11:41:41.640Z"
      },
      {
        "duration": 60,
        "start_time": "2023-09-25T11:41:41.745Z"
      },
      {
        "duration": 12,
        "start_time": "2023-09-25T11:41:41.806Z"
      },
      {
        "duration": 123,
        "start_time": "2023-09-25T11:41:41.819Z"
      },
      {
        "duration": 22,
        "start_time": "2023-09-25T11:41:41.943Z"
      },
      {
        "duration": 16,
        "start_time": "2023-09-25T11:41:41.967Z"
      },
      {
        "duration": 13,
        "start_time": "2023-09-25T11:41:41.984Z"
      },
      {
        "duration": 6,
        "start_time": "2023-09-25T11:41:41.999Z"
      },
      {
        "duration": 38,
        "start_time": "2023-09-25T11:41:42.006Z"
      },
      {
        "duration": 125,
        "start_time": "2023-09-25T11:41:42.045Z"
      },
      {
        "duration": 7,
        "start_time": "2023-09-25T11:41:42.172Z"
      },
      {
        "duration": 11,
        "start_time": "2023-09-25T11:41:42.181Z"
      },
      {
        "duration": 113,
        "start_time": "2023-09-25T11:41:42.193Z"
      },
      {
        "duration": 98,
        "start_time": "2023-09-25T11:41:42.307Z"
      },
      {
        "duration": 8,
        "start_time": "2023-09-25T11:41:42.407Z"
      },
      {
        "duration": 100,
        "start_time": "2023-09-25T11:41:42.417Z"
      },
      {
        "duration": 9,
        "start_time": "2023-09-25T11:41:42.518Z"
      },
      {
        "duration": 103,
        "start_time": "2023-09-25T11:41:42.529Z"
      },
      {
        "duration": 22,
        "start_time": "2023-09-25T11:41:42.633Z"
      },
      {
        "duration": 6,
        "start_time": "2023-09-25T11:41:42.664Z"
      },
      {
        "duration": 9,
        "start_time": "2023-09-25T11:41:42.671Z"
      },
      {
        "duration": 9,
        "start_time": "2023-09-25T11:41:42.682Z"
      },
      {
        "duration": 12,
        "start_time": "2023-09-25T11:41:42.692Z"
      },
      {
        "duration": 217,
        "start_time": "2023-09-25T11:41:42.706Z"
      },
      {
        "duration": 6,
        "start_time": "2023-09-25T11:41:42.925Z"
      },
      {
        "duration": 193,
        "start_time": "2023-09-25T11:41:42.932Z"
      },
      {
        "duration": 162,
        "start_time": "2023-09-25T11:41:43.127Z"
      },
      {
        "duration": 152,
        "start_time": "2023-09-25T11:41:43.291Z"
      },
      {
        "duration": 176,
        "start_time": "2023-09-25T11:41:43.451Z"
      },
      {
        "duration": 85,
        "start_time": "2023-09-25T11:41:43.629Z"
      },
      {
        "duration": 0,
        "start_time": "2023-09-25T11:41:43.715Z"
      },
      {
        "duration": 0,
        "start_time": "2023-09-25T11:41:43.716Z"
      },
      {
        "duration": 0,
        "start_time": "2023-09-25T11:41:43.717Z"
      },
      {
        "duration": 117,
        "start_time": "2023-09-25T11:41:46.098Z"
      },
      {
        "duration": 89,
        "start_time": "2023-09-25T11:41:53.758Z"
      },
      {
        "duration": 207,
        "start_time": "2023-09-25T11:46:43.629Z"
      },
      {
        "duration": 90,
        "start_time": "2023-09-25T11:46:48.886Z"
      },
      {
        "duration": 507,
        "start_time": "2023-09-25T12:27:58.736Z"
      },
      {
        "duration": 154,
        "start_time": "2023-09-25T12:28:15.014Z"
      },
      {
        "duration": 155,
        "start_time": "2023-09-25T12:28:36.545Z"
      },
      {
        "duration": 156,
        "start_time": "2023-09-25T12:30:11.430Z"
      },
      {
        "duration": 139,
        "start_time": "2023-09-25T12:32:37.333Z"
      },
      {
        "duration": 355,
        "start_time": "2023-09-25T12:34:46.590Z"
      },
      {
        "duration": 126,
        "start_time": "2023-09-25T12:35:22.305Z"
      },
      {
        "duration": 148,
        "start_time": "2023-09-25T12:37:18.039Z"
      },
      {
        "duration": 143,
        "start_time": "2023-09-25T12:38:26.975Z"
      },
      {
        "duration": 132,
        "start_time": "2023-09-25T12:38:37.570Z"
      },
      {
        "duration": 129,
        "start_time": "2023-09-25T12:38:56.482Z"
      },
      {
        "duration": 131,
        "start_time": "2023-09-25T12:39:53.536Z"
      },
      {
        "duration": 136,
        "start_time": "2023-09-25T12:50:22.691Z"
      },
      {
        "duration": 119,
        "start_time": "2023-09-25T12:50:28.569Z"
      },
      {
        "duration": 118,
        "start_time": "2023-09-25T12:50:37.394Z"
      },
      {
        "duration": 138,
        "start_time": "2023-09-25T12:50:41.541Z"
      },
      {
        "duration": 120,
        "start_time": "2023-09-25T12:50:45.279Z"
      },
      {
        "duration": 4510,
        "start_time": "2023-09-25T12:51:17.764Z"
      },
      {
        "duration": 8,
        "start_time": "2023-09-25T13:10:29.068Z"
      },
      {
        "duration": 113,
        "start_time": "2023-09-25T13:10:38.297Z"
      },
      {
        "duration": 131,
        "start_time": "2023-09-25T13:10:53.931Z"
      },
      {
        "duration": 109,
        "start_time": "2023-09-25T13:11:08.518Z"
      },
      {
        "duration": 130,
        "start_time": "2023-09-25T13:13:03.165Z"
      },
      {
        "duration": 111,
        "start_time": "2023-09-25T13:13:13.379Z"
      },
      {
        "duration": 132,
        "start_time": "2023-09-25T13:13:26.413Z"
      },
      {
        "duration": 145,
        "start_time": "2023-09-25T13:13:32.370Z"
      },
      {
        "duration": 10,
        "start_time": "2023-09-25T13:16:05.246Z"
      },
      {
        "duration": 129,
        "start_time": "2023-09-25T13:16:13.161Z"
      },
      {
        "duration": 131,
        "start_time": "2023-09-25T13:16:27.780Z"
      },
      {
        "duration": 161,
        "start_time": "2023-09-25T13:16:36.299Z"
      },
      {
        "duration": 129,
        "start_time": "2023-09-25T13:16:42.070Z"
      },
      {
        "duration": 8,
        "start_time": "2023-09-25T13:21:14.005Z"
      },
      {
        "duration": 327,
        "start_time": "2023-09-25T13:21:52.120Z"
      },
      {
        "duration": 107,
        "start_time": "2023-09-25T13:22:08.920Z"
      },
      {
        "duration": 337,
        "start_time": "2023-09-25T13:22:14.103Z"
      },
      {
        "duration": 339,
        "start_time": "2023-09-25T13:23:02.696Z"
      },
      {
        "duration": 311,
        "start_time": "2023-09-25T13:23:08.730Z"
      },
      {
        "duration": 351,
        "start_time": "2023-09-25T13:23:13.635Z"
      },
      {
        "duration": 372,
        "start_time": "2023-09-25T13:23:18.391Z"
      },
      {
        "duration": 7,
        "start_time": "2023-09-25T13:24:57.419Z"
      },
      {
        "duration": 6,
        "start_time": "2023-09-25T13:25:05.399Z"
      },
      {
        "duration": 7,
        "start_time": "2023-09-25T13:25:39.736Z"
      },
      {
        "duration": 7,
        "start_time": "2023-09-25T13:26:09.401Z"
      },
      {
        "duration": 5,
        "start_time": "2023-09-25T13:34:08.974Z"
      },
      {
        "duration": 6,
        "start_time": "2023-09-25T13:34:19.073Z"
      },
      {
        "duration": 17,
        "start_time": "2023-09-25T13:47:47.361Z"
      },
      {
        "duration": 12,
        "start_time": "2023-09-25T13:48:06.576Z"
      },
      {
        "duration": 16,
        "start_time": "2023-09-25T13:48:29.065Z"
      },
      {
        "duration": 13,
        "start_time": "2023-09-25T13:48:38.261Z"
      },
      {
        "duration": 14,
        "start_time": "2023-09-25T13:48:45.167Z"
      },
      {
        "duration": 14,
        "start_time": "2023-09-25T13:48:55.008Z"
      },
      {
        "duration": 17,
        "start_time": "2023-09-25T13:49:08.247Z"
      },
      {
        "duration": 162,
        "start_time": "2023-09-25T13:50:53.828Z"
      },
      {
        "duration": 162,
        "start_time": "2023-09-25T13:52:18.775Z"
      },
      {
        "duration": 177,
        "start_time": "2023-09-25T13:52:30.268Z"
      },
      {
        "duration": 151,
        "start_time": "2023-09-25T13:52:35.128Z"
      },
      {
        "duration": 161,
        "start_time": "2023-09-25T13:53:16.598Z"
      },
      {
        "duration": 172,
        "start_time": "2023-09-25T13:53:21.434Z"
      },
      {
        "duration": 156,
        "start_time": "2023-09-25T13:53:27.610Z"
      },
      {
        "duration": 152,
        "start_time": "2023-09-25T13:53:44.680Z"
      },
      {
        "duration": 21,
        "start_time": "2023-09-25T13:58:34.057Z"
      },
      {
        "duration": 7,
        "start_time": "2023-09-25T13:58:52.027Z"
      },
      {
        "duration": 5,
        "start_time": "2023-09-25T13:58:59.565Z"
      },
      {
        "duration": 161,
        "start_time": "2023-09-25T13:59:49.145Z"
      },
      {
        "duration": 5,
        "start_time": "2023-09-25T14:00:08.105Z"
      },
      {
        "duration": 51,
        "start_time": "2023-09-26T08:30:08.369Z"
      },
      {
        "duration": 1175,
        "start_time": "2023-09-26T08:30:15.636Z"
      },
      {
        "duration": 15,
        "start_time": "2023-09-26T08:30:16.814Z"
      },
      {
        "duration": 85,
        "start_time": "2023-09-26T08:30:16.831Z"
      },
      {
        "duration": 1963,
        "start_time": "2023-09-26T08:30:16.918Z"
      },
      {
        "duration": 10,
        "start_time": "2023-09-26T08:30:18.883Z"
      },
      {
        "duration": 18,
        "start_time": "2023-09-26T08:30:18.895Z"
      },
      {
        "duration": 25,
        "start_time": "2023-09-26T08:30:18.914Z"
      },
      {
        "duration": 13,
        "start_time": "2023-09-26T08:30:18.941Z"
      },
      {
        "duration": 19,
        "start_time": "2023-09-26T08:30:18.956Z"
      },
      {
        "duration": 15,
        "start_time": "2023-09-26T08:30:18.978Z"
      },
      {
        "duration": 11,
        "start_time": "2023-09-26T08:30:18.995Z"
      },
      {
        "duration": 20,
        "start_time": "2023-09-26T08:30:19.007Z"
      },
      {
        "duration": 7,
        "start_time": "2023-09-26T08:30:19.029Z"
      },
      {
        "duration": 44,
        "start_time": "2023-09-26T08:30:19.038Z"
      },
      {
        "duration": 14,
        "start_time": "2023-09-26T08:30:19.084Z"
      },
      {
        "duration": 30,
        "start_time": "2023-09-26T08:30:19.099Z"
      },
      {
        "duration": 59,
        "start_time": "2023-09-26T08:30:19.131Z"
      },
      {
        "duration": 56,
        "start_time": "2023-09-26T08:30:19.192Z"
      },
      {
        "duration": 34,
        "start_time": "2023-09-26T08:30:19.249Z"
      },
      {
        "duration": 39,
        "start_time": "2023-09-26T08:30:19.284Z"
      },
      {
        "duration": 145,
        "start_time": "2023-09-26T08:30:19.325Z"
      },
      {
        "duration": 17,
        "start_time": "2023-09-26T08:30:19.472Z"
      },
      {
        "duration": 46,
        "start_time": "2023-09-26T08:30:19.491Z"
      },
      {
        "duration": 110,
        "start_time": "2023-09-26T08:30:19.539Z"
      },
      {
        "duration": 12,
        "start_time": "2023-09-26T08:30:19.650Z"
      },
      {
        "duration": 134,
        "start_time": "2023-09-26T08:30:19.663Z"
      },
      {
        "duration": 3,
        "start_time": "2023-09-26T08:30:19.799Z"
      },
      {
        "duration": 35,
        "start_time": "2023-09-26T08:30:19.806Z"
      },
      {
        "duration": 124,
        "start_time": "2023-09-26T08:30:19.843Z"
      },
      {
        "duration": 68,
        "start_time": "2023-09-26T08:30:19.969Z"
      },
      {
        "duration": 14,
        "start_time": "2023-09-26T08:30:20.039Z"
      },
      {
        "duration": 216,
        "start_time": "2023-09-26T08:30:20.055Z"
      },
      {
        "duration": 19,
        "start_time": "2023-09-26T08:30:20.272Z"
      },
      {
        "duration": 34,
        "start_time": "2023-09-26T08:30:20.292Z"
      },
      {
        "duration": 32,
        "start_time": "2023-09-26T08:30:20.328Z"
      },
      {
        "duration": 34,
        "start_time": "2023-09-26T08:30:20.362Z"
      },
      {
        "duration": 46,
        "start_time": "2023-09-26T08:30:20.398Z"
      },
      {
        "duration": 150,
        "start_time": "2023-09-26T08:30:20.446Z"
      },
      {
        "duration": 11,
        "start_time": "2023-09-26T08:30:20.598Z"
      },
      {
        "duration": 39,
        "start_time": "2023-09-26T08:30:20.611Z"
      },
      {
        "duration": 201,
        "start_time": "2023-09-26T08:30:20.652Z"
      },
      {
        "duration": 103,
        "start_time": "2023-09-26T08:30:20.855Z"
      },
      {
        "duration": 21,
        "start_time": "2023-09-26T08:30:20.960Z"
      },
      {
        "duration": 149,
        "start_time": "2023-09-26T08:30:20.983Z"
      },
      {
        "duration": 26,
        "start_time": "2023-09-26T08:30:21.133Z"
      },
      {
        "duration": 137,
        "start_time": "2023-09-26T08:30:21.160Z"
      },
      {
        "duration": 9,
        "start_time": "2023-09-26T08:30:21.299Z"
      },
      {
        "duration": 40,
        "start_time": "2023-09-26T08:30:21.310Z"
      },
      {
        "duration": 18,
        "start_time": "2023-09-26T08:30:21.352Z"
      },
      {
        "duration": 45,
        "start_time": "2023-09-26T08:30:21.372Z"
      },
      {
        "duration": 36,
        "start_time": "2023-09-26T08:30:21.419Z"
      },
      {
        "duration": 242,
        "start_time": "2023-09-26T08:30:21.456Z"
      },
      {
        "duration": 8,
        "start_time": "2023-09-26T08:30:21.700Z"
      },
      {
        "duration": 206,
        "start_time": "2023-09-26T08:30:21.709Z"
      },
      {
        "duration": 268,
        "start_time": "2023-09-26T08:30:21.917Z"
      },
      {
        "duration": 173,
        "start_time": "2023-09-26T08:30:22.187Z"
      },
      {
        "duration": 192,
        "start_time": "2023-09-26T08:30:22.362Z"
      },
      {
        "duration": 133,
        "start_time": "2023-09-26T08:30:22.555Z"
      },
      {
        "duration": 203,
        "start_time": "2023-09-26T08:30:22.689Z"
      },
      {
        "duration": 190,
        "start_time": "2023-09-26T08:30:22.893Z"
      },
      {
        "duration": 125,
        "start_time": "2023-09-26T08:30:23.084Z"
      },
      {
        "duration": 191,
        "start_time": "2023-09-26T08:30:23.210Z"
      },
      {
        "duration": 180,
        "start_time": "2023-09-26T08:30:23.403Z"
      },
      {
        "duration": 182,
        "start_time": "2023-09-26T08:30:23.585Z"
      },
      {
        "duration": 177,
        "start_time": "2023-09-26T08:30:23.769Z"
      },
      {
        "duration": 237,
        "start_time": "2023-09-26T08:30:23.948Z"
      },
      {
        "duration": 132,
        "start_time": "2023-09-26T08:30:24.187Z"
      },
      {
        "duration": 162,
        "start_time": "2023-09-26T08:30:24.321Z"
      },
      {
        "duration": 0,
        "start_time": "2023-09-26T08:30:24.485Z"
      },
      {
        "duration": 0,
        "start_time": "2023-09-26T08:30:24.486Z"
      },
      {
        "duration": 0,
        "start_time": "2023-09-26T08:30:24.488Z"
      },
      {
        "duration": 0,
        "start_time": "2023-09-26T08:30:24.489Z"
      },
      {
        "duration": 0,
        "start_time": "2023-09-26T08:30:24.490Z"
      },
      {
        "duration": 1,
        "start_time": "2023-09-26T08:30:24.491Z"
      },
      {
        "duration": 0,
        "start_time": "2023-09-26T08:30:24.493Z"
      },
      {
        "duration": 0,
        "start_time": "2023-09-26T08:30:24.494Z"
      },
      {
        "duration": 0,
        "start_time": "2023-09-26T08:30:24.495Z"
      },
      {
        "duration": 0,
        "start_time": "2023-09-26T08:30:24.496Z"
      },
      {
        "duration": 17,
        "start_time": "2023-09-26T08:30:25.471Z"
      },
      {
        "duration": 14,
        "start_time": "2023-09-26T08:30:51.513Z"
      },
      {
        "duration": 177,
        "start_time": "2023-09-26T08:31:57.950Z"
      },
      {
        "duration": 14,
        "start_time": "2023-09-26T08:32:02.920Z"
      },
      {
        "duration": 5,
        "start_time": "2023-09-26T08:32:15.999Z"
      },
      {
        "duration": 140,
        "start_time": "2023-09-26T08:32:22.592Z"
      },
      {
        "duration": 130,
        "start_time": "2023-09-26T08:32:36.965Z"
      },
      {
        "duration": 14,
        "start_time": "2023-09-26T08:32:37.097Z"
      },
      {
        "duration": 101,
        "start_time": "2023-09-26T08:32:37.113Z"
      },
      {
        "duration": 1987,
        "start_time": "2023-09-26T08:32:37.217Z"
      },
      {
        "duration": 11,
        "start_time": "2023-09-26T08:32:39.206Z"
      },
      {
        "duration": 128,
        "start_time": "2023-09-26T08:32:39.219Z"
      },
      {
        "duration": 156,
        "start_time": "2023-09-26T08:32:39.349Z"
      },
      {
        "duration": 33,
        "start_time": "2023-09-26T08:32:39.506Z"
      },
      {
        "duration": 46,
        "start_time": "2023-09-26T08:32:39.541Z"
      },
      {
        "duration": 11,
        "start_time": "2023-09-26T08:32:39.590Z"
      },
      {
        "duration": 22,
        "start_time": "2023-09-26T08:32:39.603Z"
      },
      {
        "duration": 38,
        "start_time": "2023-09-26T08:32:39.627Z"
      },
      {
        "duration": 12,
        "start_time": "2023-09-26T08:32:39.667Z"
      },
      {
        "duration": 71,
        "start_time": "2023-09-26T08:32:39.681Z"
      },
      {
        "duration": 32,
        "start_time": "2023-09-26T08:32:39.753Z"
      },
      {
        "duration": 28,
        "start_time": "2023-09-26T08:32:39.786Z"
      },
      {
        "duration": 32,
        "start_time": "2023-09-26T08:32:39.815Z"
      },
      {
        "duration": 19,
        "start_time": "2023-09-26T08:32:39.849Z"
      },
      {
        "duration": 38,
        "start_time": "2023-09-26T08:32:39.869Z"
      },
      {
        "duration": 31,
        "start_time": "2023-09-26T08:32:39.909Z"
      },
      {
        "duration": 140,
        "start_time": "2023-09-26T08:32:39.942Z"
      },
      {
        "duration": 10,
        "start_time": "2023-09-26T08:32:40.084Z"
      },
      {
        "duration": 41,
        "start_time": "2023-09-26T08:32:40.095Z"
      },
      {
        "duration": 135,
        "start_time": "2023-09-26T08:32:40.137Z"
      },
      {
        "duration": 14,
        "start_time": "2023-09-26T08:32:40.273Z"
      },
      {
        "duration": 114,
        "start_time": "2023-09-26T08:32:40.289Z"
      },
      {
        "duration": 4,
        "start_time": "2023-09-26T08:32:40.404Z"
      },
      {
        "duration": 33,
        "start_time": "2023-09-26T08:32:40.412Z"
      },
      {
        "duration": 104,
        "start_time": "2023-09-26T08:32:40.446Z"
      },
      {
        "duration": 78,
        "start_time": "2023-09-26T08:32:40.552Z"
      },
      {
        "duration": 13,
        "start_time": "2023-09-26T08:32:40.631Z"
      },
      {
        "duration": 151,
        "start_time": "2023-09-26T08:32:40.645Z"
      },
      {
        "duration": 13,
        "start_time": "2023-09-26T08:32:40.798Z"
      },
      {
        "duration": 17,
        "start_time": "2023-09-26T08:32:40.813Z"
      },
      {
        "duration": 19,
        "start_time": "2023-09-26T08:32:40.832Z"
      },
      {
        "duration": 6,
        "start_time": "2023-09-26T08:32:40.853Z"
      },
      {
        "duration": 18,
        "start_time": "2023-09-26T08:32:40.861Z"
      },
      {
        "duration": 122,
        "start_time": "2023-09-26T08:32:40.881Z"
      },
      {
        "duration": 8,
        "start_time": "2023-09-26T08:32:41.005Z"
      },
      {
        "duration": 18,
        "start_time": "2023-09-26T08:32:41.015Z"
      },
      {
        "duration": 124,
        "start_time": "2023-09-26T08:32:41.034Z"
      },
      {
        "duration": 115,
        "start_time": "2023-09-26T08:32:41.159Z"
      },
      {
        "duration": 10,
        "start_time": "2023-09-26T08:32:41.280Z"
      },
      {
        "duration": 108,
        "start_time": "2023-09-26T08:32:41.292Z"
      },
      {
        "duration": 9,
        "start_time": "2023-09-26T08:32:41.402Z"
      },
      {
        "duration": 131,
        "start_time": "2023-09-26T08:32:41.412Z"
      },
      {
        "duration": 7,
        "start_time": "2023-09-26T08:32:41.545Z"
      },
      {
        "duration": 21,
        "start_time": "2023-09-26T08:32:41.554Z"
      },
      {
        "duration": 27,
        "start_time": "2023-09-26T08:32:41.576Z"
      },
      {
        "duration": 28,
        "start_time": "2023-09-26T08:32:41.606Z"
      },
      {
        "duration": 22,
        "start_time": "2023-09-26T08:32:41.636Z"
      },
      {
        "duration": 370,
        "start_time": "2023-09-26T08:32:41.659Z"
      },
      {
        "duration": 8,
        "start_time": "2023-09-26T08:32:42.031Z"
      },
      {
        "duration": 195,
        "start_time": "2023-09-26T08:32:42.041Z"
      },
      {
        "duration": 184,
        "start_time": "2023-09-26T08:32:42.238Z"
      },
      {
        "duration": 189,
        "start_time": "2023-09-26T08:32:42.424Z"
      },
      {
        "duration": 199,
        "start_time": "2023-09-26T08:32:42.615Z"
      },
      {
        "duration": 132,
        "start_time": "2023-09-26T08:32:42.815Z"
      },
      {
        "duration": 190,
        "start_time": "2023-09-26T08:32:42.949Z"
      },
      {
        "duration": 187,
        "start_time": "2023-09-26T08:32:43.141Z"
      },
      {
        "duration": 115,
        "start_time": "2023-09-26T08:32:43.329Z"
      },
      {
        "duration": 301,
        "start_time": "2023-09-26T08:32:43.446Z"
      },
      {
        "duration": 182,
        "start_time": "2023-09-26T08:32:43.748Z"
      },
      {
        "duration": 182,
        "start_time": "2023-09-26T08:32:43.932Z"
      },
      {
        "duration": 177,
        "start_time": "2023-09-26T08:32:44.116Z"
      },
      {
        "duration": 142,
        "start_time": "2023-09-26T08:32:44.295Z"
      },
      {
        "duration": 132,
        "start_time": "2023-09-26T08:32:44.439Z"
      },
      {
        "duration": 152,
        "start_time": "2023-09-26T08:33:26.057Z"
      },
      {
        "duration": 9,
        "start_time": "2023-09-26T08:33:26.211Z"
      },
      {
        "duration": 415,
        "start_time": "2023-09-26T08:33:26.221Z"
      },
      {
        "duration": 9,
        "start_time": "2023-09-26T08:33:26.639Z"
      },
      {
        "duration": 34,
        "start_time": "2023-09-26T08:33:26.650Z"
      },
      {
        "duration": 359,
        "start_time": "2023-09-26T08:33:26.686Z"
      },
      {
        "duration": 6,
        "start_time": "2023-09-26T08:33:27.046Z"
      },
      {
        "duration": 31,
        "start_time": "2023-09-26T08:33:27.053Z"
      },
      {
        "duration": 206,
        "start_time": "2023-09-26T08:33:27.085Z"
      },
      {
        "duration": 6,
        "start_time": "2023-09-26T08:33:27.293Z"
      },
      {
        "duration": 19,
        "start_time": "2023-09-26T08:33:27.301Z"
      },
      {
        "duration": 185,
        "start_time": "2023-09-26T08:33:27.322Z"
      },
      {
        "duration": 6,
        "start_time": "2023-09-26T08:33:49.578Z"
      },
      {
        "duration": 2,
        "start_time": "2023-09-26T08:38:31.817Z"
      },
      {
        "duration": 16,
        "start_time": "2023-09-26T08:38:49.020Z"
      },
      {
        "duration": 182,
        "start_time": "2023-09-26T08:39:29.758Z"
      },
      {
        "duration": 7,
        "start_time": "2023-09-26T08:40:31.591Z"
      },
      {
        "duration": 51,
        "start_time": "2023-09-26T08:43:17.713Z"
      },
      {
        "duration": 18,
        "start_time": "2023-09-26T08:43:33.308Z"
      },
      {
        "duration": 152,
        "start_time": "2023-09-26T08:44:27.807Z"
      },
      {
        "duration": 0,
        "start_time": "2023-09-26T08:52:36.339Z"
      },
      {
        "duration": 199,
        "start_time": "2023-09-26T08:54:47.445Z"
      },
      {
        "duration": 98,
        "start_time": "2023-09-26T08:54:55.950Z"
      },
      {
        "duration": 368,
        "start_time": "2023-09-26T08:55:22.337Z"
      },
      {
        "duration": 3,
        "start_time": "2023-09-26T08:55:28.140Z"
      },
      {
        "duration": 3,
        "start_time": "2023-09-26T08:55:44.622Z"
      },
      {
        "duration": 7,
        "start_time": "2023-09-26T08:57:42.900Z"
      },
      {
        "duration": 10,
        "start_time": "2023-09-26T08:58:55.686Z"
      },
      {
        "duration": 106,
        "start_time": "2023-09-26T09:00:50.349Z"
      },
      {
        "duration": 115,
        "start_time": "2023-09-26T09:02:51.925Z"
      },
      {
        "duration": 106,
        "start_time": "2023-09-26T09:03:08.536Z"
      },
      {
        "duration": 1160,
        "start_time": "2023-09-26T09:03:28.067Z"
      },
      {
        "duration": 13,
        "start_time": "2023-09-26T09:09:04.218Z"
      },
      {
        "duration": 9,
        "start_time": "2023-09-26T09:15:48.716Z"
      },
      {
        "duration": 17,
        "start_time": "2023-09-26T09:16:19.602Z"
      },
      {
        "duration": 205052,
        "start_time": "2023-09-26T09:17:09.146Z"
      },
      {
        "duration": 17,
        "start_time": "2023-09-26T09:21:25.332Z"
      },
      {
        "duration": 163,
        "start_time": "2023-09-26T09:27:45.675Z"
      },
      {
        "duration": 6,
        "start_time": "2023-09-26T09:28:13.552Z"
      },
      {
        "duration": 371,
        "start_time": "2023-09-26T09:32:21.221Z"
      },
      {
        "duration": 169,
        "start_time": "2023-09-26T09:33:30.553Z"
      },
      {
        "duration": 171,
        "start_time": "2023-09-26T09:33:59.386Z"
      },
      {
        "duration": 1095,
        "start_time": "2023-09-26T09:34:18.875Z"
      },
      {
        "duration": 158995,
        "start_time": "2023-09-26T09:38:25.281Z"
      },
      {
        "duration": 268,
        "start_time": "2023-09-26T09:41:05.039Z"
      },
      {
        "duration": 145,
        "start_time": "2023-09-26T09:41:05.309Z"
      },
      {
        "duration": 357,
        "start_time": "2023-09-26T09:50:33.795Z"
      },
      {
        "duration": 315,
        "start_time": "2023-09-26T09:52:08.021Z"
      },
      {
        "duration": 483,
        "start_time": "2023-09-26T09:54:25.947Z"
      },
      {
        "duration": 1154,
        "start_time": "2023-09-27T07:54:57.667Z"
      },
      {
        "duration": 16,
        "start_time": "2023-09-27T07:54:58.823Z"
      },
      {
        "duration": 201,
        "start_time": "2023-09-27T07:54:58.840Z"
      },
      {
        "duration": 2179,
        "start_time": "2023-09-27T07:54:59.043Z"
      },
      {
        "duration": 10,
        "start_time": "2023-09-27T07:55:01.225Z"
      },
      {
        "duration": 139,
        "start_time": "2023-09-27T07:55:01.236Z"
      },
      {
        "duration": 380,
        "start_time": "2023-09-27T07:55:01.377Z"
      },
      {
        "duration": 81,
        "start_time": "2023-09-27T07:55:01.758Z"
      },
      {
        "duration": 105,
        "start_time": "2023-09-27T07:55:01.841Z"
      },
      {
        "duration": 125,
        "start_time": "2023-09-27T07:55:01.947Z"
      },
      {
        "duration": 101,
        "start_time": "2023-09-27T07:55:02.074Z"
      },
      {
        "duration": 90,
        "start_time": "2023-09-27T07:55:02.177Z"
      },
      {
        "duration": 25,
        "start_time": "2023-09-27T07:55:02.269Z"
      },
      {
        "duration": 73,
        "start_time": "2023-09-27T07:55:02.297Z"
      },
      {
        "duration": 66,
        "start_time": "2023-09-27T07:55:02.371Z"
      },
      {
        "duration": 31,
        "start_time": "2023-09-27T07:55:02.439Z"
      },
      {
        "duration": 73,
        "start_time": "2023-09-27T07:55:02.472Z"
      },
      {
        "duration": 49,
        "start_time": "2023-09-27T07:55:02.547Z"
      },
      {
        "duration": 17,
        "start_time": "2023-09-27T07:55:02.598Z"
      },
      {
        "duration": 39,
        "start_time": "2023-09-27T07:55:02.616Z"
      },
      {
        "duration": 195,
        "start_time": "2023-09-27T07:55:02.657Z"
      },
      {
        "duration": 11,
        "start_time": "2023-09-27T07:55:02.854Z"
      },
      {
        "duration": 47,
        "start_time": "2023-09-27T07:55:02.867Z"
      },
      {
        "duration": 120,
        "start_time": "2023-09-27T07:55:02.916Z"
      },
      {
        "duration": 185,
        "start_time": "2023-09-27T07:55:03.039Z"
      },
      {
        "duration": 229,
        "start_time": "2023-09-27T07:55:03.226Z"
      },
      {
        "duration": 2,
        "start_time": "2023-09-27T07:55:03.457Z"
      },
      {
        "duration": 110,
        "start_time": "2023-09-27T07:55:03.461Z"
      },
      {
        "duration": 128,
        "start_time": "2023-09-27T07:55:03.572Z"
      },
      {
        "duration": 65,
        "start_time": "2023-09-27T07:55:03.702Z"
      },
      {
        "duration": 152,
        "start_time": "2023-09-27T07:55:03.769Z"
      },
      {
        "duration": 321,
        "start_time": "2023-09-27T07:55:03.923Z"
      },
      {
        "duration": 10,
        "start_time": "2023-09-27T07:55:04.246Z"
      },
      {
        "duration": 55,
        "start_time": "2023-09-27T07:55:04.258Z"
      },
      {
        "duration": 131,
        "start_time": "2023-09-27T07:55:04.315Z"
      },
      {
        "duration": 92,
        "start_time": "2023-09-27T07:55:04.448Z"
      },
      {
        "duration": 48,
        "start_time": "2023-09-27T07:55:04.541Z"
      },
      {
        "duration": 126,
        "start_time": "2023-09-27T07:55:04.591Z"
      },
      {
        "duration": 13,
        "start_time": "2023-09-27T07:55:04.728Z"
      },
      {
        "duration": 11,
        "start_time": "2023-09-27T07:55:04.743Z"
      },
      {
        "duration": 133,
        "start_time": "2023-09-27T07:55:04.760Z"
      },
      {
        "duration": 112,
        "start_time": "2023-09-27T07:55:04.895Z"
      },
      {
        "duration": 21,
        "start_time": "2023-09-27T07:55:05.009Z"
      },
      {
        "duration": 113,
        "start_time": "2023-09-27T07:55:05.032Z"
      },
      {
        "duration": 9,
        "start_time": "2023-09-27T07:55:05.147Z"
      },
      {
        "duration": 140,
        "start_time": "2023-09-27T07:55:05.158Z"
      },
      {
        "duration": 7,
        "start_time": "2023-09-27T07:55:05.300Z"
      },
      {
        "duration": 34,
        "start_time": "2023-09-27T07:55:05.308Z"
      },
      {
        "duration": 38,
        "start_time": "2023-09-27T07:55:05.343Z"
      },
      {
        "duration": 187,
        "start_time": "2023-09-27T07:55:05.382Z"
      },
      {
        "duration": 34,
        "start_time": "2023-09-27T07:55:05.571Z"
      },
      {
        "duration": 240,
        "start_time": "2023-09-27T07:55:05.606Z"
      },
      {
        "duration": 7,
        "start_time": "2023-09-27T07:55:05.847Z"
      },
      {
        "duration": 209,
        "start_time": "2023-09-27T07:55:05.855Z"
      },
      {
        "duration": 302,
        "start_time": "2023-09-27T07:55:06.066Z"
      },
      {
        "duration": 175,
        "start_time": "2023-09-27T07:55:06.371Z"
      },
      {
        "duration": 190,
        "start_time": "2023-09-27T07:55:06.547Z"
      },
      {
        "duration": 133,
        "start_time": "2023-09-27T07:55:06.739Z"
      },
      {
        "duration": 198,
        "start_time": "2023-09-27T07:55:06.873Z"
      },
      {
        "duration": 183,
        "start_time": "2023-09-27T07:55:07.073Z"
      },
      {
        "duration": 116,
        "start_time": "2023-09-27T07:55:07.257Z"
      },
      {
        "duration": 178,
        "start_time": "2023-09-27T07:55:07.374Z"
      },
      {
        "duration": 163,
        "start_time": "2023-09-27T07:55:07.554Z"
      },
      {
        "duration": 171,
        "start_time": "2023-09-27T07:55:07.723Z"
      },
      {
        "duration": 157,
        "start_time": "2023-09-27T07:55:07.896Z"
      },
      {
        "duration": 244,
        "start_time": "2023-09-27T07:55:08.055Z"
      },
      {
        "duration": 145,
        "start_time": "2023-09-27T07:55:08.301Z"
      },
      {
        "duration": 178,
        "start_time": "2023-09-27T07:55:08.448Z"
      },
      {
        "duration": 8,
        "start_time": "2023-09-27T07:55:08.627Z"
      },
      {
        "duration": 611,
        "start_time": "2023-09-27T07:55:08.637Z"
      },
      {
        "duration": 7,
        "start_time": "2023-09-27T07:55:09.250Z"
      },
      {
        "duration": 41,
        "start_time": "2023-09-27T07:55:09.258Z"
      },
      {
        "duration": 323,
        "start_time": "2023-09-27T07:55:09.300Z"
      },
      {
        "duration": 79,
        "start_time": "2023-09-27T07:55:09.625Z"
      },
      {
        "duration": 45,
        "start_time": "2023-09-27T07:55:09.706Z"
      },
      {
        "duration": 183,
        "start_time": "2023-09-27T07:55:09.752Z"
      },
      {
        "duration": 6,
        "start_time": "2023-09-27T07:55:09.937Z"
      },
      {
        "duration": 83,
        "start_time": "2023-09-27T07:55:09.945Z"
      },
      {
        "duration": 252,
        "start_time": "2023-09-27T07:55:10.029Z"
      },
      {
        "duration": 6,
        "start_time": "2023-09-27T07:55:10.283Z"
      },
      {
        "duration": 114,
        "start_time": "2023-09-27T07:55:10.290Z"
      },
      {
        "duration": 312,
        "start_time": "2023-09-27T07:55:10.405Z"
      },
      {
        "duration": 8,
        "start_time": "2023-09-27T07:55:10.719Z"
      },
      {
        "duration": 800,
        "start_time": "2023-09-27T07:55:10.728Z"
      },
      {
        "duration": 169,
        "start_time": "2023-09-27T07:55:11.530Z"
      },
      {
        "duration": 337,
        "start_time": "2023-09-27T07:55:11.701Z"
      },
      {
        "duration": 6,
        "start_time": "2023-09-27T07:55:12.040Z"
      },
      {
        "duration": 444,
        "start_time": "2023-09-27T07:55:12.048Z"
      },
      {
        "duration": 5,
        "start_time": "2023-09-27T08:54:18.551Z"
      },
      {
        "duration": 327,
        "start_time": "2023-09-27T08:55:35.157Z"
      },
      {
        "duration": 4,
        "start_time": "2023-09-27T08:56:15.653Z"
      },
      {
        "duration": 2,
        "start_time": "2023-09-27T09:08:57.454Z"
      },
      {
        "duration": 1760,
        "start_time": "2023-09-27T10:53:06.548Z"
      },
      {
        "duration": 16,
        "start_time": "2023-09-27T10:53:08.311Z"
      },
      {
        "duration": 112,
        "start_time": "2023-09-27T10:53:08.329Z"
      },
      {
        "duration": 2001,
        "start_time": "2023-09-27T10:53:08.443Z"
      },
      {
        "duration": 21,
        "start_time": "2023-09-27T10:53:10.446Z"
      },
      {
        "duration": 19,
        "start_time": "2023-09-27T10:53:10.470Z"
      },
      {
        "duration": 9,
        "start_time": "2023-09-27T10:53:10.492Z"
      },
      {
        "duration": 34,
        "start_time": "2023-09-27T10:53:10.503Z"
      },
      {
        "duration": 43,
        "start_time": "2023-09-27T10:53:10.539Z"
      },
      {
        "duration": 16,
        "start_time": "2023-09-27T10:53:10.585Z"
      },
      {
        "duration": 12,
        "start_time": "2023-09-27T10:53:10.603Z"
      },
      {
        "duration": 30,
        "start_time": "2023-09-27T10:53:10.617Z"
      },
      {
        "duration": 11,
        "start_time": "2023-09-27T10:53:10.648Z"
      },
      {
        "duration": 29,
        "start_time": "2023-09-27T10:53:10.662Z"
      },
      {
        "duration": 8,
        "start_time": "2023-09-27T10:53:10.693Z"
      },
      {
        "duration": 9,
        "start_time": "2023-09-27T10:53:10.702Z"
      },
      {
        "duration": 39,
        "start_time": "2023-09-27T10:53:10.712Z"
      },
      {
        "duration": 32,
        "start_time": "2023-09-27T10:53:10.756Z"
      },
      {
        "duration": 27,
        "start_time": "2023-09-27T10:53:10.790Z"
      },
      {
        "duration": 12,
        "start_time": "2023-09-27T10:53:10.819Z"
      },
      {
        "duration": 136,
        "start_time": "2023-09-27T10:53:10.832Z"
      },
      {
        "duration": 14,
        "start_time": "2023-09-27T10:53:10.970Z"
      },
      {
        "duration": 54,
        "start_time": "2023-09-27T10:53:10.985Z"
      },
      {
        "duration": 143,
        "start_time": "2023-09-27T10:53:11.040Z"
      },
      {
        "duration": 12,
        "start_time": "2023-09-27T10:53:11.185Z"
      },
      {
        "duration": 159,
        "start_time": "2023-09-27T10:53:11.199Z"
      },
      {
        "duration": 4,
        "start_time": "2023-09-27T10:53:11.360Z"
      },
      {
        "duration": 24,
        "start_time": "2023-09-27T10:53:11.372Z"
      },
      {
        "duration": 105,
        "start_time": "2023-09-27T10:53:11.399Z"
      },
      {
        "duration": 72,
        "start_time": "2023-09-27T10:53:11.506Z"
      },
      {
        "duration": 12,
        "start_time": "2023-09-27T10:53:11.580Z"
      },
      {
        "duration": 194,
        "start_time": "2023-09-27T10:53:11.594Z"
      },
      {
        "duration": 10,
        "start_time": "2023-09-27T10:53:11.789Z"
      },
      {
        "duration": 3,
        "start_time": "2023-09-27T10:53:11.801Z"
      },
      {
        "duration": 13,
        "start_time": "2023-09-27T10:53:11.806Z"
      },
      {
        "duration": 39,
        "start_time": "2023-09-27T10:53:11.821Z"
      },
      {
        "duration": 5,
        "start_time": "2023-09-27T10:53:11.862Z"
      },
      {
        "duration": 115,
        "start_time": "2023-09-27T10:53:11.870Z"
      },
      {
        "duration": 9,
        "start_time": "2023-09-27T10:53:11.987Z"
      },
      {
        "duration": 5,
        "start_time": "2023-09-27T10:53:11.997Z"
      },
      {
        "duration": 118,
        "start_time": "2023-09-27T10:53:12.003Z"
      },
      {
        "duration": 118,
        "start_time": "2023-09-27T10:53:12.123Z"
      },
      {
        "duration": 20,
        "start_time": "2023-09-27T10:53:12.243Z"
      },
      {
        "duration": 112,
        "start_time": "2023-09-27T10:53:12.265Z"
      },
      {
        "duration": 10,
        "start_time": "2023-09-27T10:53:12.382Z"
      },
      {
        "duration": 113,
        "start_time": "2023-09-27T10:53:12.393Z"
      },
      {
        "duration": 8,
        "start_time": "2023-09-27T10:53:12.507Z"
      },
      {
        "duration": 6,
        "start_time": "2023-09-27T10:53:12.517Z"
      },
      {
        "duration": 10,
        "start_time": "2023-09-27T10:53:12.524Z"
      },
      {
        "duration": 26,
        "start_time": "2023-09-27T10:53:12.535Z"
      },
      {
        "duration": 24,
        "start_time": "2023-09-27T10:53:12.562Z"
      },
      {
        "duration": 241,
        "start_time": "2023-09-27T10:53:12.588Z"
      },
      {
        "duration": 7,
        "start_time": "2023-09-27T10:53:12.831Z"
      },
      {
        "duration": 180,
        "start_time": "2023-09-27T10:53:12.855Z"
      },
      {
        "duration": 258,
        "start_time": "2023-09-27T10:53:13.036Z"
      },
      {
        "duration": 184,
        "start_time": "2023-09-27T10:53:13.296Z"
      },
      {
        "duration": 198,
        "start_time": "2023-09-27T10:53:13.482Z"
      },
      {
        "duration": 124,
        "start_time": "2023-09-27T10:53:13.682Z"
      },
      {
        "duration": 194,
        "start_time": "2023-09-27T10:53:13.808Z"
      },
      {
        "duration": 184,
        "start_time": "2023-09-27T10:53:14.003Z"
      },
      {
        "duration": 118,
        "start_time": "2023-09-27T10:53:14.189Z"
      },
      {
        "duration": 196,
        "start_time": "2023-09-27T10:53:14.308Z"
      },
      {
        "duration": 178,
        "start_time": "2023-09-27T10:53:14.506Z"
      },
      {
        "duration": 184,
        "start_time": "2023-09-27T10:53:14.685Z"
      },
      {
        "duration": 151,
        "start_time": "2023-09-27T10:53:14.874Z"
      },
      {
        "duration": 239,
        "start_time": "2023-09-27T10:53:15.026Z"
      },
      {
        "duration": 127,
        "start_time": "2023-09-27T10:53:15.267Z"
      },
      {
        "duration": 212,
        "start_time": "2023-09-27T10:53:15.396Z"
      },
      {
        "duration": 9,
        "start_time": "2023-09-27T10:53:15.609Z"
      },
      {
        "duration": 483,
        "start_time": "2023-09-27T10:53:15.619Z"
      },
      {
        "duration": 7,
        "start_time": "2023-09-27T10:53:16.104Z"
      },
      {
        "duration": 29,
        "start_time": "2023-09-27T10:53:16.114Z"
      },
      {
        "duration": 234,
        "start_time": "2023-09-27T10:53:16.152Z"
      },
      {
        "duration": 10,
        "start_time": "2023-09-27T10:53:16.390Z"
      },
      {
        "duration": 25,
        "start_time": "2023-09-27T10:53:16.403Z"
      },
      {
        "duration": 184,
        "start_time": "2023-09-27T10:53:16.430Z"
      },
      {
        "duration": 5,
        "start_time": "2023-09-27T10:53:16.616Z"
      },
      {
        "duration": 17,
        "start_time": "2023-09-27T10:53:16.622Z"
      },
      {
        "duration": 159,
        "start_time": "2023-09-27T10:53:16.658Z"
      },
      {
        "duration": 5,
        "start_time": "2023-09-27T10:53:16.818Z"
      },
      {
        "duration": 32,
        "start_time": "2023-09-27T10:53:16.825Z"
      },
      {
        "duration": 155,
        "start_time": "2023-09-27T10:53:16.867Z"
      },
      {
        "duration": 4,
        "start_time": "2023-09-27T10:53:17.024Z"
      },
      {
        "duration": 839,
        "start_time": "2023-09-27T10:53:17.030Z"
      },
      {
        "duration": 156,
        "start_time": "2023-09-27T10:53:17.872Z"
      },
      {
        "duration": 345,
        "start_time": "2023-09-27T10:53:18.030Z"
      },
      {
        "duration": 11,
        "start_time": "2023-09-27T10:53:18.376Z"
      },
      {
        "duration": 465,
        "start_time": "2023-09-27T10:53:18.393Z"
      },
      {
        "duration": 6,
        "start_time": "2023-09-27T10:53:18.860Z"
      },
      {
        "duration": 338,
        "start_time": "2023-09-27T10:53:18.868Z"
      },
      {
        "duration": 5,
        "start_time": "2023-09-27T10:53:19.208Z"
      },
      {
        "duration": 22,
        "start_time": "2023-09-27T10:53:23.002Z"
      },
      {
        "duration": 142,
        "start_time": "2023-09-27T10:53:36.254Z"
      },
      {
        "duration": 23,
        "start_time": "2023-09-27T10:53:48.875Z"
      },
      {
        "duration": 30,
        "start_time": "2023-09-27T10:54:33.277Z"
      },
      {
        "duration": 20,
        "start_time": "2023-09-27T10:54:54.114Z"
      },
      {
        "duration": 24,
        "start_time": "2023-09-27T11:32:57.245Z"
      },
      {
        "duration": 10,
        "start_time": "2023-09-27T11:33:04.883Z"
      },
      {
        "duration": 19,
        "start_time": "2023-09-27T11:33:15.849Z"
      },
      {
        "duration": 12,
        "start_time": "2023-09-27T11:33:28.774Z"
      },
      {
        "duration": 14,
        "start_time": "2023-09-27T11:44:07.872Z"
      },
      {
        "duration": 10,
        "start_time": "2023-09-27T11:47:50.889Z"
      },
      {
        "duration": 7,
        "start_time": "2023-09-27T11:48:48.724Z"
      },
      {
        "duration": 1285,
        "start_time": "2023-09-28T12:46:04.585Z"
      },
      {
        "duration": 16,
        "start_time": "2023-09-28T12:46:05.872Z"
      },
      {
        "duration": 98,
        "start_time": "2023-09-28T12:46:05.890Z"
      },
      {
        "duration": 2184,
        "start_time": "2023-09-28T12:46:05.990Z"
      },
      {
        "duration": 11,
        "start_time": "2023-09-28T12:46:08.176Z"
      },
      {
        "duration": 208,
        "start_time": "2023-09-28T12:46:08.188Z"
      },
      {
        "duration": 108,
        "start_time": "2023-09-28T12:46:08.398Z"
      },
      {
        "duration": 37,
        "start_time": "2023-09-28T12:46:08.508Z"
      },
      {
        "duration": 33,
        "start_time": "2023-09-28T12:46:08.546Z"
      },
      {
        "duration": 19,
        "start_time": "2023-09-28T12:46:08.582Z"
      },
      {
        "duration": 27,
        "start_time": "2023-09-28T12:46:08.603Z"
      },
      {
        "duration": 31,
        "start_time": "2023-09-28T12:46:08.632Z"
      },
      {
        "duration": 12,
        "start_time": "2023-09-28T12:46:08.665Z"
      },
      {
        "duration": 32,
        "start_time": "2023-09-28T12:46:08.679Z"
      },
      {
        "duration": 10,
        "start_time": "2023-09-28T12:46:08.713Z"
      },
      {
        "duration": 23,
        "start_time": "2023-09-28T12:46:08.724Z"
      },
      {
        "duration": 25,
        "start_time": "2023-09-28T12:46:08.749Z"
      },
      {
        "duration": 33,
        "start_time": "2023-09-28T12:46:08.776Z"
      },
      {
        "duration": 23,
        "start_time": "2023-09-28T12:46:08.810Z"
      },
      {
        "duration": 9,
        "start_time": "2023-09-28T12:46:08.835Z"
      },
      {
        "duration": 138,
        "start_time": "2023-09-28T12:46:08.846Z"
      },
      {
        "duration": 11,
        "start_time": "2023-09-28T12:46:08.985Z"
      },
      {
        "duration": 14,
        "start_time": "2023-09-28T12:46:08.998Z"
      },
      {
        "duration": 150,
        "start_time": "2023-09-28T12:46:09.014Z"
      },
      {
        "duration": 12,
        "start_time": "2023-09-28T12:46:09.165Z"
      },
      {
        "duration": 137,
        "start_time": "2023-09-28T12:46:09.179Z"
      },
      {
        "duration": 3,
        "start_time": "2023-09-28T12:46:09.317Z"
      },
      {
        "duration": 37,
        "start_time": "2023-09-28T12:46:09.324Z"
      },
      {
        "duration": 112,
        "start_time": "2023-09-28T12:46:09.363Z"
      },
      {
        "duration": 63,
        "start_time": "2023-09-28T12:46:09.477Z"
      },
      {
        "duration": 14,
        "start_time": "2023-09-28T12:46:09.546Z"
      },
      {
        "duration": 215,
        "start_time": "2023-09-28T12:46:09.562Z"
      },
      {
        "duration": 68,
        "start_time": "2023-09-28T12:46:09.779Z"
      },
      {
        "duration": 4,
        "start_time": "2023-09-28T12:46:09.849Z"
      },
      {
        "duration": 44,
        "start_time": "2023-09-28T12:46:09.855Z"
      },
      {
        "duration": 27,
        "start_time": "2023-09-28T12:46:09.901Z"
      },
      {
        "duration": 16,
        "start_time": "2023-09-28T12:46:09.930Z"
      },
      {
        "duration": 207,
        "start_time": "2023-09-28T12:46:09.948Z"
      },
      {
        "duration": 14,
        "start_time": "2023-09-28T12:46:10.157Z"
      },
      {
        "duration": 7,
        "start_time": "2023-09-28T12:46:10.173Z"
      },
      {
        "duration": 148,
        "start_time": "2023-09-28T12:46:10.182Z"
      },
      {
        "duration": 135,
        "start_time": "2023-09-28T12:46:10.332Z"
      },
      {
        "duration": 11,
        "start_time": "2023-09-28T12:46:10.469Z"
      },
      {
        "duration": 125,
        "start_time": "2023-09-28T12:46:10.481Z"
      },
      {
        "duration": 10,
        "start_time": "2023-09-28T12:46:10.608Z"
      },
      {
        "duration": 133,
        "start_time": "2023-09-28T12:46:10.620Z"
      },
      {
        "duration": 8,
        "start_time": "2023-09-28T12:46:10.755Z"
      },
      {
        "duration": 24,
        "start_time": "2023-09-28T12:46:10.764Z"
      },
      {
        "duration": 16,
        "start_time": "2023-09-28T12:46:10.790Z"
      },
      {
        "duration": 58,
        "start_time": "2023-09-28T12:46:10.807Z"
      },
      {
        "duration": 47,
        "start_time": "2023-09-28T12:46:10.867Z"
      },
      {
        "duration": 264,
        "start_time": "2023-09-28T12:46:10.916Z"
      },
      {
        "duration": 7,
        "start_time": "2023-09-28T12:46:11.182Z"
      },
      {
        "duration": 204,
        "start_time": "2023-09-28T12:46:11.190Z"
      },
      {
        "duration": 274,
        "start_time": "2023-09-28T12:46:11.396Z"
      },
      {
        "duration": 181,
        "start_time": "2023-09-28T12:46:11.672Z"
      },
      {
        "duration": 208,
        "start_time": "2023-09-28T12:46:11.855Z"
      },
      {
        "duration": 149,
        "start_time": "2023-09-28T12:46:12.065Z"
      },
      {
        "duration": 198,
        "start_time": "2023-09-28T12:46:12.215Z"
      },
      {
        "duration": 182,
        "start_time": "2023-09-28T12:46:12.415Z"
      },
      {
        "duration": 113,
        "start_time": "2023-09-28T12:46:12.599Z"
      },
      {
        "duration": 193,
        "start_time": "2023-09-28T12:46:12.714Z"
      },
      {
        "duration": 189,
        "start_time": "2023-09-28T12:46:12.908Z"
      },
      {
        "duration": 188,
        "start_time": "2023-09-28T12:46:13.099Z"
      },
      {
        "duration": 171,
        "start_time": "2023-09-28T12:46:13.289Z"
      },
      {
        "duration": 254,
        "start_time": "2023-09-28T12:46:13.462Z"
      },
      {
        "duration": 138,
        "start_time": "2023-09-28T12:46:13.717Z"
      },
      {
        "duration": 158,
        "start_time": "2023-09-28T12:46:13.856Z"
      },
      {
        "duration": 9,
        "start_time": "2023-09-28T12:46:14.016Z"
      },
      {
        "duration": 405,
        "start_time": "2023-09-28T12:46:14.026Z"
      },
      {
        "duration": 6,
        "start_time": "2023-09-28T12:46:14.433Z"
      },
      {
        "duration": 17,
        "start_time": "2023-09-28T12:46:14.447Z"
      },
      {
        "duration": 203,
        "start_time": "2023-09-28T12:46:14.466Z"
      },
      {
        "duration": 6,
        "start_time": "2023-09-28T12:46:14.671Z"
      },
      {
        "duration": 36,
        "start_time": "2023-09-28T12:46:14.678Z"
      },
      {
        "duration": 188,
        "start_time": "2023-09-28T12:46:14.716Z"
      },
      {
        "duration": 5,
        "start_time": "2023-09-28T12:46:14.906Z"
      },
      {
        "duration": 17,
        "start_time": "2023-09-28T12:46:14.913Z"
      },
      {
        "duration": 201,
        "start_time": "2023-09-28T12:46:14.931Z"
      },
      {
        "duration": 13,
        "start_time": "2023-09-28T12:46:15.134Z"
      },
      {
        "duration": 25,
        "start_time": "2023-09-28T12:46:15.149Z"
      },
      {
        "duration": 208,
        "start_time": "2023-09-28T12:46:15.180Z"
      },
      {
        "duration": 10,
        "start_time": "2023-09-28T12:46:15.390Z"
      },
      {
        "duration": 942,
        "start_time": "2023-09-28T12:46:15.403Z"
      },
      {
        "duration": 184,
        "start_time": "2023-09-28T12:46:16.347Z"
      },
      {
        "duration": 372,
        "start_time": "2023-09-28T12:46:16.533Z"
      },
      {
        "duration": 5,
        "start_time": "2023-09-28T12:46:16.907Z"
      },
      {
        "duration": 513,
        "start_time": "2023-09-28T12:46:16.914Z"
      },
      {
        "duration": 6,
        "start_time": "2023-09-28T12:46:17.428Z"
      },
      {
        "duration": 346,
        "start_time": "2023-09-28T12:46:17.435Z"
      },
      {
        "duration": 6,
        "start_time": "2023-09-28T12:46:17.782Z"
      },
      {
        "duration": 25,
        "start_time": "2023-09-28T12:46:17.789Z"
      },
      {
        "duration": 10,
        "start_time": "2023-09-28T12:46:17.816Z"
      },
      {
        "duration": 2,
        "start_time": "2023-09-28T12:52:12.586Z"
      },
      {
        "duration": 55,
        "start_time": "2023-09-28T12:54:55.919Z"
      },
      {
        "duration": 54,
        "start_time": "2023-09-28T12:55:25.504Z"
      },
      {
        "duration": 127,
        "start_time": "2023-09-28T12:58:32.886Z"
      },
      {
        "duration": 9,
        "start_time": "2023-09-28T12:59:38.721Z"
      },
      {
        "duration": 12,
        "start_time": "2023-09-28T12:59:47.081Z"
      },
      {
        "duration": 12,
        "start_time": "2023-09-28T13:00:00.601Z"
      },
      {
        "duration": 13,
        "start_time": "2023-09-28T13:29:24.384Z"
      },
      {
        "duration": 11,
        "start_time": "2023-09-28T13:31:12.536Z"
      },
      {
        "duration": 10,
        "start_time": "2023-09-28T13:31:45.050Z"
      },
      {
        "duration": 74,
        "start_time": "2023-09-28T13:40:46.664Z"
      },
      {
        "duration": 171,
        "start_time": "2023-09-28T13:40:55.039Z"
      },
      {
        "duration": 21,
        "start_time": "2023-09-28T13:40:55.214Z"
      },
      {
        "duration": 120,
        "start_time": "2023-09-28T13:40:55.237Z"
      },
      {
        "duration": 2331,
        "start_time": "2023-09-28T13:40:55.359Z"
      },
      {
        "duration": 10,
        "start_time": "2023-09-28T13:40:57.692Z"
      },
      {
        "duration": 12,
        "start_time": "2023-09-28T13:40:57.704Z"
      },
      {
        "duration": 31,
        "start_time": "2023-09-28T13:40:57.718Z"
      },
      {
        "duration": 29,
        "start_time": "2023-09-28T13:40:57.751Z"
      },
      {
        "duration": 54,
        "start_time": "2023-09-28T13:40:57.782Z"
      },
      {
        "duration": 16,
        "start_time": "2023-09-28T13:40:57.839Z"
      },
      {
        "duration": 30,
        "start_time": "2023-09-28T13:40:57.858Z"
      },
      {
        "duration": 33,
        "start_time": "2023-09-28T13:40:57.889Z"
      },
      {
        "duration": 33,
        "start_time": "2023-09-28T13:40:57.923Z"
      },
      {
        "duration": 49,
        "start_time": "2023-09-28T13:40:57.959Z"
      },
      {
        "duration": 11,
        "start_time": "2023-09-28T13:40:58.010Z"
      },
      {
        "duration": 28,
        "start_time": "2023-09-28T13:40:58.023Z"
      },
      {
        "duration": 37,
        "start_time": "2023-09-28T13:40:58.053Z"
      },
      {
        "duration": 43,
        "start_time": "2023-09-28T13:40:58.091Z"
      },
      {
        "duration": 30,
        "start_time": "2023-09-28T13:40:58.136Z"
      },
      {
        "duration": 38,
        "start_time": "2023-09-28T13:40:58.169Z"
      },
      {
        "duration": 164,
        "start_time": "2023-09-28T13:40:58.209Z"
      },
      {
        "duration": 9,
        "start_time": "2023-09-28T13:40:58.376Z"
      },
      {
        "duration": 25,
        "start_time": "2023-09-28T13:40:58.387Z"
      },
      {
        "duration": 156,
        "start_time": "2023-09-28T13:40:58.414Z"
      },
      {
        "duration": 11,
        "start_time": "2023-09-28T13:40:58.571Z"
      },
      {
        "duration": 138,
        "start_time": "2023-09-28T13:40:58.583Z"
      },
      {
        "duration": 4,
        "start_time": "2023-09-28T13:40:58.723Z"
      },
      {
        "duration": 44,
        "start_time": "2023-09-28T13:40:58.732Z"
      },
      {
        "duration": 137,
        "start_time": "2023-09-28T13:40:58.777Z"
      },
      {
        "duration": 82,
        "start_time": "2023-09-28T13:40:58.916Z"
      },
      {
        "duration": 17,
        "start_time": "2023-09-28T13:40:59.000Z"
      },
      {
        "duration": 166,
        "start_time": "2023-09-28T13:40:59.019Z"
      },
      {
        "duration": 14,
        "start_time": "2023-09-28T13:40:59.187Z"
      },
      {
        "duration": 27,
        "start_time": "2023-09-28T13:40:59.203Z"
      },
      {
        "duration": 78,
        "start_time": "2023-09-28T13:40:59.232Z"
      },
      {
        "duration": 45,
        "start_time": "2023-09-28T13:40:59.312Z"
      },
      {
        "duration": 27,
        "start_time": "2023-09-28T13:40:59.359Z"
      },
      {
        "duration": 145,
        "start_time": "2023-09-28T13:40:59.388Z"
      },
      {
        "duration": 16,
        "start_time": "2023-09-28T13:40:59.536Z"
      },
      {
        "duration": 26,
        "start_time": "2023-09-28T13:40:59.554Z"
      },
      {
        "duration": 157,
        "start_time": "2023-09-28T13:40:59.582Z"
      },
      {
        "duration": 123,
        "start_time": "2023-09-28T13:40:59.746Z"
      },
      {
        "duration": 10,
        "start_time": "2023-09-28T13:40:59.871Z"
      },
      {
        "duration": 123,
        "start_time": "2023-09-28T13:40:59.883Z"
      },
      {
        "duration": 10,
        "start_time": "2023-09-28T13:41:00.008Z"
      },
      {
        "duration": 227,
        "start_time": "2023-09-28T13:41:00.020Z"
      },
      {
        "duration": 11,
        "start_time": "2023-09-28T13:41:00.249Z"
      },
      {
        "duration": 57,
        "start_time": "2023-09-28T13:41:00.262Z"
      },
      {
        "duration": 61,
        "start_time": "2023-09-28T13:41:00.322Z"
      },
      {
        "duration": 26,
        "start_time": "2023-09-28T13:41:00.385Z"
      },
      {
        "duration": 39,
        "start_time": "2023-09-28T13:41:00.413Z"
      },
      {
        "duration": 288,
        "start_time": "2023-09-28T13:41:00.455Z"
      },
      {
        "duration": 10,
        "start_time": "2023-09-28T13:41:00.745Z"
      },
      {
        "duration": 241,
        "start_time": "2023-09-28T13:41:00.758Z"
      },
      {
        "duration": 215,
        "start_time": "2023-09-28T13:41:01.001Z"
      },
      {
        "duration": 406,
        "start_time": "2023-09-28T13:41:01.218Z"
      },
      {
        "duration": 249,
        "start_time": "2023-09-28T13:41:01.626Z"
      },
      {
        "duration": 153,
        "start_time": "2023-09-28T13:41:01.876Z"
      },
      {
        "duration": 303,
        "start_time": "2023-09-28T13:41:02.030Z"
      },
      {
        "duration": 239,
        "start_time": "2023-09-28T13:41:02.335Z"
      },
      {
        "duration": 137,
        "start_time": "2023-09-28T13:41:02.576Z"
      },
      {
        "duration": 224,
        "start_time": "2023-09-28T13:41:02.715Z"
      },
      {
        "duration": 217,
        "start_time": "2023-09-28T13:41:02.947Z"
      },
      {
        "duration": 334,
        "start_time": "2023-09-28T13:41:03.168Z"
      },
      {
        "duration": 200,
        "start_time": "2023-09-28T13:41:03.505Z"
      },
      {
        "duration": 166,
        "start_time": "2023-09-28T13:41:03.707Z"
      },
      {
        "duration": 146,
        "start_time": "2023-09-28T13:41:03.875Z"
      },
      {
        "duration": 185,
        "start_time": "2023-09-28T13:41:04.023Z"
      },
      {
        "duration": 9,
        "start_time": "2023-09-28T13:41:04.210Z"
      },
      {
        "duration": 433,
        "start_time": "2023-09-28T13:41:04.221Z"
      },
      {
        "duration": 8,
        "start_time": "2023-09-28T13:41:04.656Z"
      },
      {
        "duration": 26,
        "start_time": "2023-09-28T13:41:04.666Z"
      },
      {
        "duration": 212,
        "start_time": "2023-09-28T13:41:04.694Z"
      },
      {
        "duration": 6,
        "start_time": "2023-09-28T13:41:04.907Z"
      },
      {
        "duration": 30,
        "start_time": "2023-09-28T13:41:04.914Z"
      },
      {
        "duration": 202,
        "start_time": "2023-09-28T13:41:04.947Z"
      },
      {
        "duration": 7,
        "start_time": "2023-09-28T13:41:05.151Z"
      },
      {
        "duration": 125,
        "start_time": "2023-09-28T13:41:05.160Z"
      },
      {
        "duration": 335,
        "start_time": "2023-09-28T13:41:05.287Z"
      },
      {
        "duration": 6,
        "start_time": "2023-09-28T13:41:05.623Z"
      },
      {
        "duration": 91,
        "start_time": "2023-09-28T13:41:05.631Z"
      },
      {
        "duration": 242,
        "start_time": "2023-09-28T13:41:05.729Z"
      },
      {
        "duration": 5,
        "start_time": "2023-09-28T13:41:05.973Z"
      },
      {
        "duration": 422,
        "start_time": "2023-09-28T13:41:05.980Z"
      },
      {
        "duration": 198,
        "start_time": "2023-09-28T13:41:06.404Z"
      },
      {
        "duration": 439,
        "start_time": "2023-09-28T13:41:06.604Z"
      },
      {
        "duration": 7,
        "start_time": "2023-09-28T13:41:07.047Z"
      },
      {
        "duration": 739,
        "start_time": "2023-09-28T13:41:07.056Z"
      },
      {
        "duration": 5,
        "start_time": "2023-09-28T13:41:07.797Z"
      },
      {
        "duration": 358,
        "start_time": "2023-09-28T13:41:07.804Z"
      },
      {
        "duration": 7,
        "start_time": "2023-09-28T13:41:08.166Z"
      },
      {
        "duration": 18,
        "start_time": "2023-09-28T13:41:08.174Z"
      },
      {
        "duration": 34,
        "start_time": "2023-09-28T13:41:08.194Z"
      },
      {
        "duration": 8,
        "start_time": "2023-09-28T13:41:08.230Z"
      },
      {
        "duration": 11,
        "start_time": "2023-09-28T13:41:08.239Z"
      },
      {
        "duration": 130,
        "start_time": "2023-09-28T13:51:57.852Z"
      },
      {
        "duration": 23,
        "start_time": "2023-09-28T13:54:03.047Z"
      },
      {
        "duration": 11,
        "start_time": "2023-09-28T13:54:08.006Z"
      },
      {
        "duration": 9,
        "start_time": "2023-09-28T13:54:27.949Z"
      },
      {
        "duration": 1194,
        "start_time": "2023-09-28T13:54:33.588Z"
      },
      {
        "duration": 15,
        "start_time": "2023-09-28T13:55:43.912Z"
      },
      {
        "duration": 20,
        "start_time": "2023-09-28T13:56:37.054Z"
      },
      {
        "duration": 190,
        "start_time": "2023-09-28T13:59:21.892Z"
      },
      {
        "duration": 15,
        "start_time": "2023-09-28T13:59:55.143Z"
      },
      {
        "duration": 154,
        "start_time": "2023-09-28T13:59:57.840Z"
      },
      {
        "duration": 21,
        "start_time": "2023-09-28T14:00:52.193Z"
      },
      {
        "duration": 23,
        "start_time": "2023-09-28T14:01:11.696Z"
      },
      {
        "duration": 9,
        "start_time": "2023-09-28T14:03:33.714Z"
      },
      {
        "duration": 25,
        "start_time": "2023-09-28T14:06:30.678Z"
      },
      {
        "duration": 188,
        "start_time": "2023-09-28T14:06:35.928Z"
      },
      {
        "duration": 9,
        "start_time": "2023-09-28T14:09:11.757Z"
      },
      {
        "duration": 21,
        "start_time": "2023-09-28T14:09:27.876Z"
      },
      {
        "duration": 157,
        "start_time": "2023-09-28T14:09:32.856Z"
      },
      {
        "duration": 2440,
        "start_time": "2023-09-28T19:13:51.745Z"
      },
      {
        "duration": 25,
        "start_time": "2023-09-28T19:13:54.187Z"
      },
      {
        "duration": 124,
        "start_time": "2023-09-28T19:13:54.214Z"
      },
      {
        "duration": 2791,
        "start_time": "2023-09-28T19:13:54.341Z"
      },
      {
        "duration": 3053,
        "start_time": "2023-09-28T19:13:57.134Z"
      },
      {
        "duration": 14,
        "start_time": "2023-09-28T19:14:00.192Z"
      },
      {
        "duration": 35,
        "start_time": "2023-09-28T19:14:00.212Z"
      },
      {
        "duration": 66,
        "start_time": "2023-09-28T19:14:00.253Z"
      },
      {
        "duration": 37,
        "start_time": "2023-09-28T19:14:00.321Z"
      },
      {
        "duration": 39,
        "start_time": "2023-09-28T19:14:00.363Z"
      },
      {
        "duration": 34,
        "start_time": "2023-09-28T19:14:00.407Z"
      },
      {
        "duration": 38,
        "start_time": "2023-09-28T19:14:00.446Z"
      },
      {
        "duration": 51,
        "start_time": "2023-09-28T19:14:00.488Z"
      },
      {
        "duration": 18,
        "start_time": "2023-09-28T19:14:00.541Z"
      },
      {
        "duration": 72,
        "start_time": "2023-09-28T19:14:00.564Z"
      },
      {
        "duration": 16,
        "start_time": "2023-09-28T19:14:00.638Z"
      },
      {
        "duration": 33,
        "start_time": "2023-09-28T19:14:00.656Z"
      },
      {
        "duration": 141,
        "start_time": "2023-09-28T19:14:00.691Z"
      },
      {
        "duration": 161,
        "start_time": "2023-09-28T19:14:00.834Z"
      },
      {
        "duration": 48,
        "start_time": "2023-09-28T19:14:00.997Z"
      },
      {
        "duration": 54,
        "start_time": "2023-09-28T19:14:01.046Z"
      },
      {
        "duration": 309,
        "start_time": "2023-09-28T19:14:01.109Z"
      },
      {
        "duration": 17,
        "start_time": "2023-09-28T19:14:01.420Z"
      },
      {
        "duration": 123,
        "start_time": "2023-09-28T19:14:01.449Z"
      },
      {
        "duration": 495,
        "start_time": "2023-09-28T19:14:01.577Z"
      },
      {
        "duration": 38,
        "start_time": "2023-09-28T19:14:02.074Z"
      },
      {
        "duration": 326,
        "start_time": "2023-09-28T19:14:02.116Z"
      },
      {
        "duration": 12,
        "start_time": "2023-09-28T19:14:02.456Z"
      },
      {
        "duration": 42,
        "start_time": "2023-09-28T19:14:02.471Z"
      },
      {
        "duration": 296,
        "start_time": "2023-09-28T19:14:02.518Z"
      },
      {
        "duration": 199,
        "start_time": "2023-09-28T19:14:02.817Z"
      },
      {
        "duration": 40,
        "start_time": "2023-09-28T19:14:03.019Z"
      },
      {
        "duration": 347,
        "start_time": "2023-09-28T19:14:03.061Z"
      },
      {
        "duration": 42,
        "start_time": "2023-09-28T19:14:03.411Z"
      },
      {
        "duration": 9,
        "start_time": "2023-09-28T19:14:03.455Z"
      },
      {
        "duration": 62,
        "start_time": "2023-09-28T19:14:03.467Z"
      },
      {
        "duration": 21,
        "start_time": "2023-09-28T19:14:03.531Z"
      },
      {
        "duration": 20,
        "start_time": "2023-09-28T19:14:03.555Z"
      },
      {
        "duration": 220,
        "start_time": "2023-09-28T19:14:03.577Z"
      },
      {
        "duration": 17,
        "start_time": "2023-09-28T19:14:03.799Z"
      },
      {
        "duration": 7,
        "start_time": "2023-09-28T19:14:03.818Z"
      },
      {
        "duration": 187,
        "start_time": "2023-09-28T19:14:03.827Z"
      },
      {
        "duration": 302,
        "start_time": "2023-09-28T19:14:04.016Z"
      },
      {
        "duration": 11,
        "start_time": "2023-09-28T19:14:04.320Z"
      },
      {
        "duration": 246,
        "start_time": "2023-09-28T19:14:04.333Z"
      },
      {
        "duration": 20,
        "start_time": "2023-09-28T19:14:04.581Z"
      },
      {
        "duration": 209,
        "start_time": "2023-09-28T19:14:04.608Z"
      },
      {
        "duration": 9,
        "start_time": "2023-09-28T19:14:04.820Z"
      },
      {
        "duration": 36,
        "start_time": "2023-09-28T19:14:04.831Z"
      },
      {
        "duration": 52,
        "start_time": "2023-09-28T19:14:04.869Z"
      },
      {
        "duration": 8,
        "start_time": "2023-09-28T19:14:04.923Z"
      },
      {
        "duration": 9,
        "start_time": "2023-09-28T19:14:04.933Z"
      },
      {
        "duration": 362,
        "start_time": "2023-09-28T19:14:04.944Z"
      },
      {
        "duration": 13,
        "start_time": "2023-09-28T19:14:05.308Z"
      },
      {
        "duration": 298,
        "start_time": "2023-09-28T19:14:05.324Z"
      },
      {
        "duration": 240,
        "start_time": "2023-09-28T19:14:05.624Z"
      },
      {
        "duration": 273,
        "start_time": "2023-09-28T19:14:05.872Z"
      },
      {
        "duration": 271,
        "start_time": "2023-09-28T19:14:06.147Z"
      },
      {
        "duration": 366,
        "start_time": "2023-09-28T19:14:06.420Z"
      },
      {
        "duration": 277,
        "start_time": "2023-09-28T19:14:06.789Z"
      },
      {
        "duration": 265,
        "start_time": "2023-09-28T19:14:07.068Z"
      },
      {
        "duration": 143,
        "start_time": "2023-09-28T19:14:07.336Z"
      },
      {
        "duration": 261,
        "start_time": "2023-09-28T19:14:07.481Z"
      },
      {
        "duration": 266,
        "start_time": "2023-09-28T19:14:07.744Z"
      },
      {
        "duration": 244,
        "start_time": "2023-09-28T19:14:08.017Z"
      },
      {
        "duration": 220,
        "start_time": "2023-09-28T19:14:08.263Z"
      },
      {
        "duration": 185,
        "start_time": "2023-09-28T19:14:08.487Z"
      },
      {
        "duration": 192,
        "start_time": "2023-09-28T19:14:08.675Z"
      },
      {
        "duration": 220,
        "start_time": "2023-09-28T19:14:08.870Z"
      },
      {
        "duration": 10,
        "start_time": "2023-09-28T19:14:09.092Z"
      },
      {
        "duration": 747,
        "start_time": "2023-09-28T19:14:09.103Z"
      },
      {
        "duration": 7,
        "start_time": "2023-09-28T19:14:09.852Z"
      },
      {
        "duration": 34,
        "start_time": "2023-09-28T19:14:09.860Z"
      },
      {
        "duration": 243,
        "start_time": "2023-09-28T19:14:09.896Z"
      },
      {
        "duration": 6,
        "start_time": "2023-09-28T19:14:10.140Z"
      },
      {
        "duration": 48,
        "start_time": "2023-09-28T19:14:10.153Z"
      },
      {
        "duration": 280,
        "start_time": "2023-09-28T19:14:10.202Z"
      },
      {
        "duration": 19,
        "start_time": "2023-09-28T19:14:10.490Z"
      },
      {
        "duration": 29,
        "start_time": "2023-09-28T19:14:10.516Z"
      },
      {
        "duration": 251,
        "start_time": "2023-09-28T19:14:10.554Z"
      },
      {
        "duration": 13,
        "start_time": "2023-09-28T19:14:10.808Z"
      },
      {
        "duration": 28,
        "start_time": "2023-09-28T19:14:10.832Z"
      },
      {
        "duration": 269,
        "start_time": "2023-09-28T19:14:10.862Z"
      },
      {
        "duration": 7,
        "start_time": "2023-09-28T19:14:11.134Z"
      },
      {
        "duration": 988,
        "start_time": "2023-09-28T19:14:11.142Z"
      },
      {
        "duration": 236,
        "start_time": "2023-09-28T19:14:12.133Z"
      },
      {
        "duration": 492,
        "start_time": "2023-09-28T19:14:12.371Z"
      },
      {
        "duration": 10,
        "start_time": "2023-09-28T19:14:12.866Z"
      },
      {
        "duration": 650,
        "start_time": "2023-09-28T19:14:12.880Z"
      },
      {
        "duration": 6,
        "start_time": "2023-09-28T19:14:13.531Z"
      },
      {
        "duration": 634,
        "start_time": "2023-09-28T19:14:13.538Z"
      },
      {
        "duration": 6,
        "start_time": "2023-09-28T19:14:14.178Z"
      },
      {
        "duration": 59,
        "start_time": "2023-09-28T19:14:14.186Z"
      },
      {
        "duration": 39,
        "start_time": "2023-09-28T19:14:14.247Z"
      },
      {
        "duration": 64,
        "start_time": "2023-09-28T19:14:14.288Z"
      },
      {
        "duration": 32,
        "start_time": "2023-09-28T19:14:14.356Z"
      },
      {
        "duration": 41,
        "start_time": "2023-09-28T19:14:14.394Z"
      },
      {
        "duration": 246,
        "start_time": "2023-09-28T19:14:14.441Z"
      },
      {
        "duration": 1793,
        "start_time": "2023-09-29T13:36:41.035Z"
      },
      {
        "duration": 362,
        "start_time": "2023-09-29T13:37:07.426Z"
      },
      {
        "duration": 18,
        "start_time": "2023-09-29T13:44:27.272Z"
      },
      {
        "duration": 17,
        "start_time": "2023-09-29T13:44:41.440Z"
      },
      {
        "duration": 18,
        "start_time": "2023-09-29T13:44:57.457Z"
      },
      {
        "duration": 16,
        "start_time": "2023-09-29T13:45:08.195Z"
      },
      {
        "duration": 15,
        "start_time": "2023-09-29T13:45:17.442Z"
      },
      {
        "duration": 107,
        "start_time": "2023-09-29T13:50:06.609Z"
      },
      {
        "duration": 24,
        "start_time": "2023-09-29T13:51:23.777Z"
      },
      {
        "duration": 11,
        "start_time": "2023-09-29T13:52:13.023Z"
      },
      {
        "duration": 9,
        "start_time": "2023-09-29T13:52:24.694Z"
      },
      {
        "duration": 8,
        "start_time": "2023-09-29T13:52:42.179Z"
      },
      {
        "duration": 8,
        "start_time": "2023-09-29T13:52:57.728Z"
      },
      {
        "duration": 7,
        "start_time": "2023-09-29T13:53:12.376Z"
      },
      {
        "duration": 143,
        "start_time": "2023-09-29T13:53:46.411Z"
      },
      {
        "duration": 186,
        "start_time": "2023-09-29T13:54:09.579Z"
      },
      {
        "duration": 113,
        "start_time": "2023-09-29T13:57:44.085Z"
      },
      {
        "duration": 170,
        "start_time": "2023-09-29T13:58:00.089Z"
      },
      {
        "duration": 142,
        "start_time": "2023-09-29T13:58:50.471Z"
      },
      {
        "duration": 10,
        "start_time": "2023-09-29T14:11:16.306Z"
      },
      {
        "duration": 10,
        "start_time": "2023-09-29T14:11:32.821Z"
      },
      {
        "duration": 10,
        "start_time": "2023-09-29T14:11:40.561Z"
      },
      {
        "duration": 2,
        "start_time": "2023-09-29T14:11:45.790Z"
      },
      {
        "duration": 211,
        "start_time": "2023-09-29T14:11:45.798Z"
      },
      {
        "duration": 47,
        "start_time": "2023-09-29T14:11:46.011Z"
      },
      {
        "duration": 119,
        "start_time": "2023-09-29T14:11:46.060Z"
      },
      {
        "duration": 2707,
        "start_time": "2023-09-29T14:11:46.181Z"
      },
      {
        "duration": 2095,
        "start_time": "2023-09-29T14:11:48.890Z"
      },
      {
        "duration": 13,
        "start_time": "2023-09-29T14:11:50.987Z"
      },
      {
        "duration": 48,
        "start_time": "2023-09-29T14:11:51.002Z"
      },
      {
        "duration": 28,
        "start_time": "2023-09-29T14:11:51.053Z"
      },
      {
        "duration": 24,
        "start_time": "2023-09-29T14:11:51.083Z"
      },
      {
        "duration": 28,
        "start_time": "2023-09-29T14:11:51.111Z"
      },
      {
        "duration": 31,
        "start_time": "2023-09-29T14:11:51.141Z"
      },
      {
        "duration": 22,
        "start_time": "2023-09-29T14:11:51.174Z"
      },
      {
        "duration": 33,
        "start_time": "2023-09-29T14:11:51.199Z"
      },
      {
        "duration": 46,
        "start_time": "2023-09-29T14:11:51.235Z"
      },
      {
        "duration": 14,
        "start_time": "2023-09-29T14:11:51.283Z"
      },
      {
        "duration": 47,
        "start_time": "2023-09-29T14:11:51.299Z"
      },
      {
        "duration": 9,
        "start_time": "2023-09-29T14:11:51.348Z"
      },
      {
        "duration": 14,
        "start_time": "2023-09-29T14:11:51.359Z"
      },
      {
        "duration": 38,
        "start_time": "2023-09-29T14:11:51.376Z"
      },
      {
        "duration": 45,
        "start_time": "2023-09-29T14:11:51.416Z"
      },
      {
        "duration": 9,
        "start_time": "2023-09-29T14:11:51.463Z"
      },
      {
        "duration": 46,
        "start_time": "2023-09-29T14:11:51.475Z"
      },
      {
        "duration": 160,
        "start_time": "2023-09-29T14:11:51.523Z"
      },
      {
        "duration": 15,
        "start_time": "2023-09-29T14:11:51.685Z"
      },
      {
        "duration": 64,
        "start_time": "2023-09-29T14:11:51.702Z"
      },
      {
        "duration": 59,
        "start_time": "2023-09-29T14:11:51.768Z"
      },
      {
        "duration": 142,
        "start_time": "2023-09-29T14:11:51.828Z"
      },
      {
        "duration": 120,
        "start_time": "2023-09-29T14:11:51.975Z"
      },
      {
        "duration": 161,
        "start_time": "2023-09-29T14:11:52.098Z"
      },
      {
        "duration": 3,
        "start_time": "2023-09-29T14:11:52.260Z"
      },
      {
        "duration": 54,
        "start_time": "2023-09-29T14:11:52.265Z"
      },
      {
        "duration": 139,
        "start_time": "2023-09-29T14:11:52.321Z"
      },
      {
        "duration": 94,
        "start_time": "2023-09-29T14:11:52.461Z"
      },
      {
        "duration": 19,
        "start_time": "2023-09-29T14:11:52.558Z"
      },
      {
        "duration": 216,
        "start_time": "2023-09-29T14:11:52.579Z"
      },
      {
        "duration": 16,
        "start_time": "2023-09-29T14:11:52.797Z"
      },
      {
        "duration": 22,
        "start_time": "2023-09-29T14:11:52.815Z"
      },
      {
        "duration": 67,
        "start_time": "2023-09-29T14:11:52.839Z"
      },
      {
        "duration": 52,
        "start_time": "2023-09-29T14:11:52.908Z"
      },
      {
        "duration": 42,
        "start_time": "2023-09-29T14:11:52.963Z"
      },
      {
        "duration": 161,
        "start_time": "2023-09-29T14:11:53.008Z"
      },
      {
        "duration": 10,
        "start_time": "2023-09-29T14:11:53.172Z"
      },
      {
        "duration": 28,
        "start_time": "2023-09-29T14:11:53.184Z"
      },
      {
        "duration": 151,
        "start_time": "2023-09-29T14:11:53.214Z"
      },
      {
        "duration": 137,
        "start_time": "2023-09-29T14:11:53.366Z"
      },
      {
        "duration": 13,
        "start_time": "2023-09-29T14:11:53.505Z"
      },
      {
        "duration": 136,
        "start_time": "2023-09-29T14:11:53.519Z"
      },
      {
        "duration": 12,
        "start_time": "2023-09-29T14:11:53.657Z"
      },
      {
        "duration": 168,
        "start_time": "2023-09-29T14:11:53.671Z"
      },
      {
        "duration": 13,
        "start_time": "2023-09-29T14:11:53.844Z"
      },
      {
        "duration": 32,
        "start_time": "2023-09-29T14:11:53.861Z"
      },
      {
        "duration": 29,
        "start_time": "2023-09-29T14:11:53.895Z"
      },
      {
        "duration": 31,
        "start_time": "2023-09-29T14:11:53.926Z"
      },
      {
        "duration": 35,
        "start_time": "2023-09-29T14:11:53.959Z"
      },
      {
        "duration": 406,
        "start_time": "2023-09-29T14:11:53.996Z"
      },
      {
        "duration": 7,
        "start_time": "2023-09-29T14:11:54.404Z"
      },
      {
        "duration": 421,
        "start_time": "2023-09-29T14:11:54.413Z"
      },
      {
        "duration": 263,
        "start_time": "2023-09-29T14:11:54.836Z"
      },
      {
        "duration": 250,
        "start_time": "2023-09-29T14:11:55.102Z"
      },
      {
        "duration": 278,
        "start_time": "2023-09-29T14:11:55.354Z"
      },
      {
        "duration": 197,
        "start_time": "2023-09-29T14:11:55.634Z"
      },
      {
        "duration": 276,
        "start_time": "2023-09-29T14:11:55.834Z"
      },
      {
        "duration": 262,
        "start_time": "2023-09-29T14:11:56.112Z"
      },
      {
        "duration": 174,
        "start_time": "2023-09-29T14:11:56.377Z"
      },
      {
        "duration": 208,
        "start_time": "2023-09-29T14:11:56.553Z"
      },
      {
        "duration": 301,
        "start_time": "2023-09-29T14:11:56.764Z"
      },
      {
        "duration": 225,
        "start_time": "2023-09-29T14:11:57.068Z"
      },
      {
        "duration": 182,
        "start_time": "2023-09-29T14:11:57.295Z"
      },
      {
        "duration": 147,
        "start_time": "2023-09-29T14:11:57.479Z"
      },
      {
        "duration": 145,
        "start_time": "2023-09-29T14:11:57.628Z"
      },
      {
        "duration": 191,
        "start_time": "2023-09-29T14:11:57.775Z"
      },
      {
        "duration": 10,
        "start_time": "2023-09-29T14:11:57.968Z"
      },
      {
        "duration": 465,
        "start_time": "2023-09-29T14:11:57.980Z"
      },
      {
        "duration": 7,
        "start_time": "2023-09-29T14:11:58.447Z"
      },
      {
        "duration": 68,
        "start_time": "2023-09-29T14:11:58.456Z"
      },
      {
        "duration": 210,
        "start_time": "2023-09-29T14:11:58.526Z"
      },
      {
        "duration": 10,
        "start_time": "2023-09-29T14:11:58.738Z"
      },
      {
        "duration": 25,
        "start_time": "2023-09-29T14:11:58.750Z"
      },
      {
        "duration": 201,
        "start_time": "2023-09-29T14:11:58.777Z"
      },
      {
        "duration": 6,
        "start_time": "2023-09-29T14:11:58.980Z"
      },
      {
        "duration": 18,
        "start_time": "2023-09-29T14:11:58.987Z"
      },
      {
        "duration": 202,
        "start_time": "2023-09-29T14:11:59.011Z"
      },
      {
        "duration": 5,
        "start_time": "2023-09-29T14:11:59.216Z"
      },
      {
        "duration": 44,
        "start_time": "2023-09-29T14:11:59.223Z"
      },
      {
        "duration": 186,
        "start_time": "2023-09-29T14:11:59.269Z"
      },
      {
        "duration": 7,
        "start_time": "2023-09-29T14:11:59.456Z"
      },
      {
        "duration": 881,
        "start_time": "2023-09-29T14:11:59.465Z"
      },
      {
        "duration": 190,
        "start_time": "2023-09-29T14:12:00.348Z"
      },
      {
        "duration": 367,
        "start_time": "2023-09-29T14:12:00.544Z"
      },
      {
        "duration": 553,
        "start_time": "2023-09-29T14:12:00.913Z"
      },
      {
        "duration": 434,
        "start_time": "2023-09-29T14:12:01.468Z"
      },
      {
        "duration": 2,
        "start_time": "2023-09-29T14:12:01.904Z"
      },
      {
        "duration": 19,
        "start_time": "2023-09-29T14:12:34.531Z"
      },
      {
        "duration": 51,
        "start_time": "2023-09-29T14:12:38.041Z"
      },
      {
        "duration": 10,
        "start_time": "2023-09-29T14:12:47.201Z"
      },
      {
        "duration": 11,
        "start_time": "2023-09-29T14:12:56.924Z"
      },
      {
        "duration": 99,
        "start_time": "2023-09-29T14:13:17.429Z"
      },
      {
        "duration": 16,
        "start_time": "2023-09-29T14:15:37.292Z"
      },
      {
        "duration": 9,
        "start_time": "2023-09-29T14:16:43.131Z"
      },
      {
        "duration": 19,
        "start_time": "2023-09-29T14:16:58.451Z"
      },
      {
        "duration": 12,
        "start_time": "2023-09-29T14:17:00.358Z"
      },
      {
        "duration": 19,
        "start_time": "2023-09-29T14:25:08.473Z"
      },
      {
        "duration": 24,
        "start_time": "2023-09-29T14:26:39.782Z"
      },
      {
        "duration": 22,
        "start_time": "2023-09-29T14:26:51.409Z"
      },
      {
        "duration": 16,
        "start_time": "2023-09-29T14:28:09.757Z"
      },
      {
        "duration": 21,
        "start_time": "2023-09-29T14:28:16.882Z"
      },
      {
        "duration": 169,
        "start_time": "2023-09-29T14:30:51.632Z"
      },
      {
        "duration": 14,
        "start_time": "2023-09-29T14:31:12.159Z"
      },
      {
        "duration": 16,
        "start_time": "2023-09-29T14:31:24.044Z"
      },
      {
        "duration": 151,
        "start_time": "2023-09-29T14:33:27.809Z"
      },
      {
        "duration": 297,
        "start_time": "2023-09-29T14:35:54.716Z"
      },
      {
        "duration": 213,
        "start_time": "2023-09-29T14:38:01.430Z"
      },
      {
        "duration": 215,
        "start_time": "2023-09-29T14:38:12.030Z"
      },
      {
        "duration": 258,
        "start_time": "2023-09-29T14:38:19.612Z"
      },
      {
        "duration": 564,
        "start_time": "2023-09-29T14:38:59.615Z"
      },
      {
        "duration": 544,
        "start_time": "2023-09-29T14:39:12.217Z"
      },
      {
        "duration": 220,
        "start_time": "2023-09-29T14:39:53.207Z"
      },
      {
        "duration": 205,
        "start_time": "2023-09-29T14:40:47.473Z"
      },
      {
        "duration": 208,
        "start_time": "2023-09-29T14:40:56.241Z"
      },
      {
        "duration": 754,
        "start_time": "2023-09-29T19:21:08.626Z"
      },
      {
        "duration": 128,
        "start_time": "2023-09-29T19:21:09.382Z"
      },
      {
        "duration": 14,
        "start_time": "2023-09-29T19:21:09.512Z"
      },
      {
        "duration": 85,
        "start_time": "2023-09-29T19:21:09.528Z"
      },
      {
        "duration": 2038,
        "start_time": "2023-09-29T19:21:09.614Z"
      },
      {
        "duration": 1920,
        "start_time": "2023-09-29T19:21:11.654Z"
      },
      {
        "duration": 9,
        "start_time": "2023-09-29T19:21:13.576Z"
      },
      {
        "duration": 28,
        "start_time": "2023-09-29T19:21:13.586Z"
      },
      {
        "duration": 8,
        "start_time": "2023-09-29T19:21:13.616Z"
      },
      {
        "duration": 22,
        "start_time": "2023-09-29T19:21:13.626Z"
      },
      {
        "duration": 8,
        "start_time": "2023-09-29T19:21:13.650Z"
      },
      {
        "duration": 17,
        "start_time": "2023-09-29T19:21:13.660Z"
      },
      {
        "duration": 15,
        "start_time": "2023-09-29T19:21:13.679Z"
      },
      {
        "duration": 11,
        "start_time": "2023-09-29T19:21:13.696Z"
      },
      {
        "duration": 44,
        "start_time": "2023-09-29T19:21:13.709Z"
      },
      {
        "duration": 8,
        "start_time": "2023-09-29T19:21:13.755Z"
      },
      {
        "duration": 33,
        "start_time": "2023-09-29T19:21:13.765Z"
      },
      {
        "duration": 10,
        "start_time": "2023-09-29T19:21:13.800Z"
      },
      {
        "duration": 6,
        "start_time": "2023-09-29T19:21:13.812Z"
      },
      {
        "duration": 19,
        "start_time": "2023-09-29T19:21:13.844Z"
      },
      {
        "duration": 28,
        "start_time": "2023-09-29T19:21:13.865Z"
      },
      {
        "duration": 6,
        "start_time": "2023-09-29T19:21:13.895Z"
      },
      {
        "duration": 11,
        "start_time": "2023-09-29T19:21:13.903Z"
      },
      {
        "duration": 150,
        "start_time": "2023-09-29T19:21:13.916Z"
      },
      {
        "duration": 10,
        "start_time": "2023-09-29T19:21:14.068Z"
      },
      {
        "duration": 99,
        "start_time": "2023-09-29T19:21:14.079Z"
      },
      {
        "duration": 196,
        "start_time": "2023-09-29T19:21:14.180Z"
      },
      {
        "duration": 139,
        "start_time": "2023-09-29T19:21:14.384Z"
      },
      {
        "duration": 23,
        "start_time": "2023-09-29T19:21:14.525Z"
      },
      {
        "duration": 185,
        "start_time": "2023-09-29T19:21:14.550Z"
      },
      {
        "duration": 3,
        "start_time": "2023-09-29T19:21:14.737Z"
      },
      {
        "duration": 38,
        "start_time": "2023-09-29T19:21:14.745Z"
      },
      {
        "duration": 113,
        "start_time": "2023-09-29T19:21:14.784Z"
      },
      {
        "duration": 109,
        "start_time": "2023-09-29T19:21:14.899Z"
      },
      {
        "duration": 22,
        "start_time": "2023-09-29T19:21:15.011Z"
      },
      {
        "duration": 157,
        "start_time": "2023-09-29T19:21:15.035Z"
      },
      {
        "duration": 11,
        "start_time": "2023-09-29T19:21:15.194Z"
      },
      {
        "duration": 9,
        "start_time": "2023-09-29T19:21:15.207Z"
      },
      {
        "duration": 31,
        "start_time": "2023-09-29T19:21:15.218Z"
      },
      {
        "duration": 12,
        "start_time": "2023-09-29T19:21:15.251Z"
      },
      {
        "duration": 9,
        "start_time": "2023-09-29T19:21:15.265Z"
      },
      {
        "duration": 127,
        "start_time": "2023-09-29T19:21:15.276Z"
      },
      {
        "duration": 10,
        "start_time": "2023-09-29T19:21:15.405Z"
      },
      {
        "duration": 6,
        "start_time": "2023-09-29T19:21:15.416Z"
      },
      {
        "duration": 141,
        "start_time": "2023-09-29T19:21:15.423Z"
      },
      {
        "duration": 226,
        "start_time": "2023-09-29T19:21:15.566Z"
      },
      {
        "duration": 10,
        "start_time": "2023-09-29T19:21:15.794Z"
      },
      {
        "duration": 111,
        "start_time": "2023-09-29T19:21:15.806Z"
      },
      {
        "duration": 11,
        "start_time": "2023-09-29T19:21:15.918Z"
      },
      {
        "duration": 124,
        "start_time": "2023-09-29T19:21:15.930Z"
      },
      {
        "duration": 9,
        "start_time": "2023-09-29T19:21:16.055Z"
      },
      {
        "duration": 12,
        "start_time": "2023-09-29T19:21:16.065Z"
      },
      {
        "duration": 14,
        "start_time": "2023-09-29T19:21:16.080Z"
      },
      {
        "duration": 6,
        "start_time": "2023-09-29T19:21:16.097Z"
      },
      {
        "duration": 16,
        "start_time": "2023-09-29T19:21:16.105Z"
      },
      {
        "duration": 222,
        "start_time": "2023-09-29T19:21:16.144Z"
      },
      {
        "duration": 8,
        "start_time": "2023-09-29T19:21:16.368Z"
      },
      {
        "duration": 210,
        "start_time": "2023-09-29T19:21:16.378Z"
      },
      {
        "duration": 195,
        "start_time": "2023-09-29T19:21:16.591Z"
      },
      {
        "duration": 191,
        "start_time": "2023-09-29T19:21:16.788Z"
      },
      {
        "duration": 205,
        "start_time": "2023-09-29T19:21:16.982Z"
      },
      {
        "duration": 213,
        "start_time": "2023-09-29T19:21:17.189Z"
      },
      {
        "duration": 171,
        "start_time": "2023-09-29T19:21:17.403Z"
      },
      {
        "duration": 200,
        "start_time": "2023-09-29T19:21:17.576Z"
      },
      {
        "duration": 124,
        "start_time": "2023-09-29T19:21:17.778Z"
      },
      {
        "duration": 183,
        "start_time": "2023-09-29T19:21:17.904Z"
      },
      {
        "duration": 174,
        "start_time": "2023-09-29T19:21:18.089Z"
      },
      {
        "duration": 197,
        "start_time": "2023-09-29T19:21:18.266Z"
      },
      {
        "duration": 182,
        "start_time": "2023-09-29T19:21:18.466Z"
      },
      {
        "duration": 129,
        "start_time": "2023-09-29T19:21:18.650Z"
      },
      {
        "duration": 129,
        "start_time": "2023-09-29T19:21:18.781Z"
      },
      {
        "duration": 165,
        "start_time": "2023-09-29T19:21:18.912Z"
      },
      {
        "duration": 12,
        "start_time": "2023-09-29T19:21:19.079Z"
      },
      {
        "duration": 555,
        "start_time": "2023-09-29T19:21:19.093Z"
      },
      {
        "duration": 6,
        "start_time": "2023-09-29T19:21:19.650Z"
      },
      {
        "duration": 21,
        "start_time": "2023-09-29T19:21:19.658Z"
      },
      {
        "duration": 207,
        "start_time": "2023-09-29T19:21:19.681Z"
      },
      {
        "duration": 6,
        "start_time": "2023-09-29T19:21:19.891Z"
      },
      {
        "duration": 22,
        "start_time": "2023-09-29T19:21:19.898Z"
      },
      {
        "duration": 199,
        "start_time": "2023-09-29T19:21:19.921Z"
      },
      {
        "duration": 5,
        "start_time": "2023-09-29T19:21:20.121Z"
      },
      {
        "duration": 14,
        "start_time": "2023-09-29T19:21:20.145Z"
      },
      {
        "duration": 176,
        "start_time": "2023-09-29T19:21:20.160Z"
      },
      {
        "duration": 9,
        "start_time": "2023-09-29T19:21:20.337Z"
      },
      {
        "duration": 33,
        "start_time": "2023-09-29T19:21:20.347Z"
      },
      {
        "duration": 167,
        "start_time": "2023-09-29T19:21:20.382Z"
      },
      {
        "duration": 5,
        "start_time": "2023-09-29T19:21:20.551Z"
      },
      {
        "duration": 767,
        "start_time": "2023-09-29T19:21:20.558Z"
      },
      {
        "duration": 162,
        "start_time": "2023-09-29T19:21:21.326Z"
      },
      {
        "duration": 331,
        "start_time": "2023-09-29T19:21:21.490Z"
      },
      {
        "duration": 449,
        "start_time": "2023-09-29T19:21:21.823Z"
      },
      {
        "duration": 464,
        "start_time": "2023-09-29T19:21:22.274Z"
      },
      {
        "duration": 3,
        "start_time": "2023-09-29T19:21:22.739Z"
      },
      {
        "duration": 17,
        "start_time": "2023-09-29T19:21:22.744Z"
      },
      {
        "duration": 181,
        "start_time": "2023-09-29T19:21:22.763Z"
      },
      {
        "duration": 9,
        "start_time": "2023-09-29T19:21:22.946Z"
      },
      {
        "duration": 49,
        "start_time": "2023-09-29T19:21:22.957Z"
      },
      {
        "duration": 25,
        "start_time": "2023-09-29T19:21:23.008Z"
      },
      {
        "duration": 148,
        "start_time": "2023-09-29T19:21:23.035Z"
      }
    ],
    "toc": {
      "base_numbering": 1,
      "nav_menu": {},
      "number_sections": true,
      "sideBar": true,
      "skip_h1_title": true,
      "title_cell": "Table of Contents",
      "title_sidebar": "Contents",
      "toc_cell": false,
      "toc_position": {
        "height": "calc(100% - 180px)",
        "left": "10px",
        "top": "150px",
        "width": "374.375px"
      },
      "toc_section_display": true,
      "toc_window_display": true
    }
  },
  "nbformat_minor": 4,
  "nbformat": 4,
  "cells": [
    {
      "cell_type": "markdown",
      "source": "# Исследование объявлений о продаже квартир\n\nВ нашем распоряжении данные сервиса недвижимости — архив объявлений о продаже квартир в Санкт-Петербурге и соседних населённых пунктов за несколько лет. Нужно научиться определять рыночную стоимость объектов недвижимости. Задача — установить параметры. Это позволит построить автоматизированную систему: она отследит аномалии и мошенническую деятельность. \n\nПо каждой квартире на продажу доступны два вида данных. Первые вписаны пользователем, вторые — получены автоматически на основе картографических данных. Например, расстояние до центра, аэропорта, ближайшего парка и водоёма. ",
      "metadata": {}
    },
    {
      "cell_type": "markdown",
      "source": "## Загрузка и ознакомление с данными",
      "metadata": {}
    },
    {
      "cell_type": "code",
      "source": "import pandas as pd\nimport matplotlib.pyplot as plt",
      "metadata": {},
      "outputs": [],
      "execution_count": 1
    },
    {
      "cell_type": "code",
      "source": "data = pd.read_csv('/datasets/real_estate_data.csv', sep='\\t')\npd.set_option('display.max_columns', 50)\ndata.head(15)",
      "metadata": {},
      "outputs": [
        {
          "data": {
            "text/html": [
              "<div>\n",
              "<style scoped>\n",
              "    .dataframe tbody tr th:only-of-type {\n",
              "        vertical-align: middle;\n",
              "    }\n",
              "\n",
              "    .dataframe tbody tr th {\n",
              "        vertical-align: top;\n",
              "    }\n",
              "\n",
              "    .dataframe thead th {\n",
              "        text-align: right;\n",
              "    }\n",
              "</style>\n",
              "<table border=\"1\" class=\"dataframe\">\n",
              "  <thead>\n",
              "    <tr style=\"text-align: right;\">\n",
              "      <th></th>\n",
              "      <th>total_images</th>\n",
              "      <th>last_price</th>\n",
              "      <th>total_area</th>\n",
              "      <th>first_day_exposition</th>\n",
              "      <th>rooms</th>\n",
              "      <th>ceiling_height</th>\n",
              "      <th>floors_total</th>\n",
              "      <th>living_area</th>\n",
              "      <th>floor</th>\n",
              "      <th>is_apartment</th>\n",
              "      <th>studio</th>\n",
              "      <th>open_plan</th>\n",
              "      <th>kitchen_area</th>\n",
              "      <th>balcony</th>\n",
              "      <th>locality_name</th>\n",
              "      <th>airports_nearest</th>\n",
              "      <th>cityCenters_nearest</th>\n",
              "      <th>parks_around3000</th>\n",
              "      <th>parks_nearest</th>\n",
              "      <th>ponds_around3000</th>\n",
              "      <th>ponds_nearest</th>\n",
              "      <th>days_exposition</th>\n",
              "    </tr>\n",
              "  </thead>\n",
              "  <tbody>\n",
              "    <tr>\n",
              "      <th>0</th>\n",
              "      <td>20</td>\n",
              "      <td>13000000.0</td>\n",
              "      <td>108.00</td>\n",
              "      <td>2019-03-07T00:00:00</td>\n",
              "      <td>3</td>\n",
              "      <td>2.70</td>\n",
              "      <td>16.0</td>\n",
              "      <td>51.00</td>\n",
              "      <td>8</td>\n",
              "      <td>NaN</td>\n",
              "      <td>False</td>\n",
              "      <td>False</td>\n",
              "      <td>25.00</td>\n",
              "      <td>NaN</td>\n",
              "      <td>Санкт-Петербург</td>\n",
              "      <td>18863.0</td>\n",
              "      <td>16028.0</td>\n",
              "      <td>1.0</td>\n",
              "      <td>482.0</td>\n",
              "      <td>2.0</td>\n",
              "      <td>755.0</td>\n",
              "      <td>NaN</td>\n",
              "    </tr>\n",
              "    <tr>\n",
              "      <th>1</th>\n",
              "      <td>7</td>\n",
              "      <td>3350000.0</td>\n",
              "      <td>40.40</td>\n",
              "      <td>2018-12-04T00:00:00</td>\n",
              "      <td>1</td>\n",
              "      <td>NaN</td>\n",
              "      <td>11.0</td>\n",
              "      <td>18.60</td>\n",
              "      <td>1</td>\n",
              "      <td>NaN</td>\n",
              "      <td>False</td>\n",
              "      <td>False</td>\n",
              "      <td>11.00</td>\n",
              "      <td>2.0</td>\n",
              "      <td>посёлок Шушары</td>\n",
              "      <td>12817.0</td>\n",
              "      <td>18603.0</td>\n",
              "      <td>0.0</td>\n",
              "      <td>NaN</td>\n",
              "      <td>0.0</td>\n",
              "      <td>NaN</td>\n",
              "      <td>81.0</td>\n",
              "    </tr>\n",
              "    <tr>\n",
              "      <th>2</th>\n",
              "      <td>10</td>\n",
              "      <td>5196000.0</td>\n",
              "      <td>56.00</td>\n",
              "      <td>2015-08-20T00:00:00</td>\n",
              "      <td>2</td>\n",
              "      <td>NaN</td>\n",
              "      <td>5.0</td>\n",
              "      <td>34.30</td>\n",
              "      <td>4</td>\n",
              "      <td>NaN</td>\n",
              "      <td>False</td>\n",
              "      <td>False</td>\n",
              "      <td>8.30</td>\n",
              "      <td>0.0</td>\n",
              "      <td>Санкт-Петербург</td>\n",
              "      <td>21741.0</td>\n",
              "      <td>13933.0</td>\n",
              "      <td>1.0</td>\n",
              "      <td>90.0</td>\n",
              "      <td>2.0</td>\n",
              "      <td>574.0</td>\n",
              "      <td>558.0</td>\n",
              "    </tr>\n",
              "    <tr>\n",
              "      <th>3</th>\n",
              "      <td>0</td>\n",
              "      <td>64900000.0</td>\n",
              "      <td>159.00</td>\n",
              "      <td>2015-07-24T00:00:00</td>\n",
              "      <td>3</td>\n",
              "      <td>NaN</td>\n",
              "      <td>14.0</td>\n",
              "      <td>NaN</td>\n",
              "      <td>9</td>\n",
              "      <td>NaN</td>\n",
              "      <td>False</td>\n",
              "      <td>False</td>\n",
              "      <td>NaN</td>\n",
              "      <td>0.0</td>\n",
              "      <td>Санкт-Петербург</td>\n",
              "      <td>28098.0</td>\n",
              "      <td>6800.0</td>\n",
              "      <td>2.0</td>\n",
              "      <td>84.0</td>\n",
              "      <td>3.0</td>\n",
              "      <td>234.0</td>\n",
              "      <td>424.0</td>\n",
              "    </tr>\n",
              "    <tr>\n",
              "      <th>4</th>\n",
              "      <td>2</td>\n",
              "      <td>10000000.0</td>\n",
              "      <td>100.00</td>\n",
              "      <td>2018-06-19T00:00:00</td>\n",
              "      <td>2</td>\n",
              "      <td>3.03</td>\n",
              "      <td>14.0</td>\n",
              "      <td>32.00</td>\n",
              "      <td>13</td>\n",
              "      <td>NaN</td>\n",
              "      <td>False</td>\n",
              "      <td>False</td>\n",
              "      <td>41.00</td>\n",
              "      <td>NaN</td>\n",
              "      <td>Санкт-Петербург</td>\n",
              "      <td>31856.0</td>\n",
              "      <td>8098.0</td>\n",
              "      <td>2.0</td>\n",
              "      <td>112.0</td>\n",
              "      <td>1.0</td>\n",
              "      <td>48.0</td>\n",
              "      <td>121.0</td>\n",
              "    </tr>\n",
              "    <tr>\n",
              "      <th>5</th>\n",
              "      <td>10</td>\n",
              "      <td>2890000.0</td>\n",
              "      <td>30.40</td>\n",
              "      <td>2018-09-10T00:00:00</td>\n",
              "      <td>1</td>\n",
              "      <td>NaN</td>\n",
              "      <td>12.0</td>\n",
              "      <td>14.40</td>\n",
              "      <td>5</td>\n",
              "      <td>NaN</td>\n",
              "      <td>False</td>\n",
              "      <td>False</td>\n",
              "      <td>9.10</td>\n",
              "      <td>NaN</td>\n",
              "      <td>городской посёлок Янино-1</td>\n",
              "      <td>NaN</td>\n",
              "      <td>NaN</td>\n",
              "      <td>NaN</td>\n",
              "      <td>NaN</td>\n",
              "      <td>NaN</td>\n",
              "      <td>NaN</td>\n",
              "      <td>55.0</td>\n",
              "    </tr>\n",
              "    <tr>\n",
              "      <th>6</th>\n",
              "      <td>6</td>\n",
              "      <td>3700000.0</td>\n",
              "      <td>37.30</td>\n",
              "      <td>2017-11-02T00:00:00</td>\n",
              "      <td>1</td>\n",
              "      <td>NaN</td>\n",
              "      <td>26.0</td>\n",
              "      <td>10.60</td>\n",
              "      <td>6</td>\n",
              "      <td>NaN</td>\n",
              "      <td>False</td>\n",
              "      <td>False</td>\n",
              "      <td>14.40</td>\n",
              "      <td>1.0</td>\n",
              "      <td>посёлок Парголово</td>\n",
              "      <td>52996.0</td>\n",
              "      <td>19143.0</td>\n",
              "      <td>0.0</td>\n",
              "      <td>NaN</td>\n",
              "      <td>0.0</td>\n",
              "      <td>NaN</td>\n",
              "      <td>155.0</td>\n",
              "    </tr>\n",
              "    <tr>\n",
              "      <th>7</th>\n",
              "      <td>5</td>\n",
              "      <td>7915000.0</td>\n",
              "      <td>71.60</td>\n",
              "      <td>2019-04-18T00:00:00</td>\n",
              "      <td>2</td>\n",
              "      <td>NaN</td>\n",
              "      <td>24.0</td>\n",
              "      <td>NaN</td>\n",
              "      <td>22</td>\n",
              "      <td>NaN</td>\n",
              "      <td>False</td>\n",
              "      <td>False</td>\n",
              "      <td>18.90</td>\n",
              "      <td>2.0</td>\n",
              "      <td>Санкт-Петербург</td>\n",
              "      <td>23982.0</td>\n",
              "      <td>11634.0</td>\n",
              "      <td>0.0</td>\n",
              "      <td>NaN</td>\n",
              "      <td>0.0</td>\n",
              "      <td>NaN</td>\n",
              "      <td>NaN</td>\n",
              "    </tr>\n",
              "    <tr>\n",
              "      <th>8</th>\n",
              "      <td>20</td>\n",
              "      <td>2900000.0</td>\n",
              "      <td>33.16</td>\n",
              "      <td>2018-05-23T00:00:00</td>\n",
              "      <td>1</td>\n",
              "      <td>NaN</td>\n",
              "      <td>27.0</td>\n",
              "      <td>15.43</td>\n",
              "      <td>26</td>\n",
              "      <td>NaN</td>\n",
              "      <td>False</td>\n",
              "      <td>False</td>\n",
              "      <td>8.81</td>\n",
              "      <td>NaN</td>\n",
              "      <td>посёлок Мурино</td>\n",
              "      <td>NaN</td>\n",
              "      <td>NaN</td>\n",
              "      <td>NaN</td>\n",
              "      <td>NaN</td>\n",
              "      <td>NaN</td>\n",
              "      <td>NaN</td>\n",
              "      <td>189.0</td>\n",
              "    </tr>\n",
              "    <tr>\n",
              "      <th>9</th>\n",
              "      <td>18</td>\n",
              "      <td>5400000.0</td>\n",
              "      <td>61.00</td>\n",
              "      <td>2017-02-26T00:00:00</td>\n",
              "      <td>3</td>\n",
              "      <td>2.50</td>\n",
              "      <td>9.0</td>\n",
              "      <td>43.60</td>\n",
              "      <td>7</td>\n",
              "      <td>NaN</td>\n",
              "      <td>False</td>\n",
              "      <td>False</td>\n",
              "      <td>6.50</td>\n",
              "      <td>2.0</td>\n",
              "      <td>Санкт-Петербург</td>\n",
              "      <td>50898.0</td>\n",
              "      <td>15008.0</td>\n",
              "      <td>0.0</td>\n",
              "      <td>NaN</td>\n",
              "      <td>0.0</td>\n",
              "      <td>NaN</td>\n",
              "      <td>289.0</td>\n",
              "    </tr>\n",
              "    <tr>\n",
              "      <th>10</th>\n",
              "      <td>5</td>\n",
              "      <td>5050000.0</td>\n",
              "      <td>39.60</td>\n",
              "      <td>2017-11-16T00:00:00</td>\n",
              "      <td>1</td>\n",
              "      <td>2.67</td>\n",
              "      <td>12.0</td>\n",
              "      <td>20.30</td>\n",
              "      <td>3</td>\n",
              "      <td>NaN</td>\n",
              "      <td>False</td>\n",
              "      <td>False</td>\n",
              "      <td>8.50</td>\n",
              "      <td>NaN</td>\n",
              "      <td>Санкт-Петербург</td>\n",
              "      <td>38357.0</td>\n",
              "      <td>13878.0</td>\n",
              "      <td>1.0</td>\n",
              "      <td>310.0</td>\n",
              "      <td>2.0</td>\n",
              "      <td>553.0</td>\n",
              "      <td>137.0</td>\n",
              "    </tr>\n",
              "    <tr>\n",
              "      <th>11</th>\n",
              "      <td>9</td>\n",
              "      <td>3300000.0</td>\n",
              "      <td>44.00</td>\n",
              "      <td>2018-08-27T00:00:00</td>\n",
              "      <td>2</td>\n",
              "      <td>NaN</td>\n",
              "      <td>5.0</td>\n",
              "      <td>31.00</td>\n",
              "      <td>4</td>\n",
              "      <td>False</td>\n",
              "      <td>False</td>\n",
              "      <td>False</td>\n",
              "      <td>6.00</td>\n",
              "      <td>1.0</td>\n",
              "      <td>Ломоносов</td>\n",
              "      <td>48252.0</td>\n",
              "      <td>51677.0</td>\n",
              "      <td>0.0</td>\n",
              "      <td>NaN</td>\n",
              "      <td>0.0</td>\n",
              "      <td>NaN</td>\n",
              "      <td>7.0</td>\n",
              "    </tr>\n",
              "    <tr>\n",
              "      <th>12</th>\n",
              "      <td>10</td>\n",
              "      <td>3890000.0</td>\n",
              "      <td>54.00</td>\n",
              "      <td>2016-06-30T00:00:00</td>\n",
              "      <td>2</td>\n",
              "      <td>NaN</td>\n",
              "      <td>5.0</td>\n",
              "      <td>30.00</td>\n",
              "      <td>5</td>\n",
              "      <td>NaN</td>\n",
              "      <td>False</td>\n",
              "      <td>False</td>\n",
              "      <td>9.00</td>\n",
              "      <td>0.0</td>\n",
              "      <td>Сертолово</td>\n",
              "      <td>NaN</td>\n",
              "      <td>NaN</td>\n",
              "      <td>NaN</td>\n",
              "      <td>NaN</td>\n",
              "      <td>NaN</td>\n",
              "      <td>NaN</td>\n",
              "      <td>90.0</td>\n",
              "    </tr>\n",
              "    <tr>\n",
              "      <th>13</th>\n",
              "      <td>20</td>\n",
              "      <td>3550000.0</td>\n",
              "      <td>42.80</td>\n",
              "      <td>2017-07-01T00:00:00</td>\n",
              "      <td>2</td>\n",
              "      <td>2.56</td>\n",
              "      <td>5.0</td>\n",
              "      <td>27.00</td>\n",
              "      <td>5</td>\n",
              "      <td>NaN</td>\n",
              "      <td>False</td>\n",
              "      <td>False</td>\n",
              "      <td>5.20</td>\n",
              "      <td>1.0</td>\n",
              "      <td>Петергоф</td>\n",
              "      <td>37868.0</td>\n",
              "      <td>33058.0</td>\n",
              "      <td>1.0</td>\n",
              "      <td>294.0</td>\n",
              "      <td>3.0</td>\n",
              "      <td>298.0</td>\n",
              "      <td>366.0</td>\n",
              "    </tr>\n",
              "    <tr>\n",
              "      <th>14</th>\n",
              "      <td>1</td>\n",
              "      <td>4400000.0</td>\n",
              "      <td>36.00</td>\n",
              "      <td>2016-06-23T00:00:00</td>\n",
              "      <td>1</td>\n",
              "      <td>NaN</td>\n",
              "      <td>6.0</td>\n",
              "      <td>17.00</td>\n",
              "      <td>1</td>\n",
              "      <td>NaN</td>\n",
              "      <td>False</td>\n",
              "      <td>False</td>\n",
              "      <td>8.00</td>\n",
              "      <td>0.0</td>\n",
              "      <td>Пушкин</td>\n",
              "      <td>20782.0</td>\n",
              "      <td>30759.0</td>\n",
              "      <td>0.0</td>\n",
              "      <td>NaN</td>\n",
              "      <td>1.0</td>\n",
              "      <td>96.0</td>\n",
              "      <td>203.0</td>\n",
              "    </tr>\n",
              "  </tbody>\n",
              "</table>\n",
              "</div>"
            ],
            "text/plain": [
              "    total_images  last_price  total_area first_day_exposition  rooms  \\\n",
              "0             20  13000000.0      108.00  2019-03-07T00:00:00      3   \n",
              "1              7   3350000.0       40.40  2018-12-04T00:00:00      1   \n",
              "2             10   5196000.0       56.00  2015-08-20T00:00:00      2   \n",
              "3              0  64900000.0      159.00  2015-07-24T00:00:00      3   \n",
              "4              2  10000000.0      100.00  2018-06-19T00:00:00      2   \n",
              "5             10   2890000.0       30.40  2018-09-10T00:00:00      1   \n",
              "6              6   3700000.0       37.30  2017-11-02T00:00:00      1   \n",
              "7              5   7915000.0       71.60  2019-04-18T00:00:00      2   \n",
              "8             20   2900000.0       33.16  2018-05-23T00:00:00      1   \n",
              "9             18   5400000.0       61.00  2017-02-26T00:00:00      3   \n",
              "10             5   5050000.0       39.60  2017-11-16T00:00:00      1   \n",
              "11             9   3300000.0       44.00  2018-08-27T00:00:00      2   \n",
              "12            10   3890000.0       54.00  2016-06-30T00:00:00      2   \n",
              "13            20   3550000.0       42.80  2017-07-01T00:00:00      2   \n",
              "14             1   4400000.0       36.00  2016-06-23T00:00:00      1   \n",
              "\n",
              "    ceiling_height  floors_total  living_area  floor is_apartment  studio  \\\n",
              "0             2.70          16.0        51.00      8          NaN   False   \n",
              "1              NaN          11.0        18.60      1          NaN   False   \n",
              "2              NaN           5.0        34.30      4          NaN   False   \n",
              "3              NaN          14.0          NaN      9          NaN   False   \n",
              "4             3.03          14.0        32.00     13          NaN   False   \n",
              "5              NaN          12.0        14.40      5          NaN   False   \n",
              "6              NaN          26.0        10.60      6          NaN   False   \n",
              "7              NaN          24.0          NaN     22          NaN   False   \n",
              "8              NaN          27.0        15.43     26          NaN   False   \n",
              "9             2.50           9.0        43.60      7          NaN   False   \n",
              "10            2.67          12.0        20.30      3          NaN   False   \n",
              "11             NaN           5.0        31.00      4        False   False   \n",
              "12             NaN           5.0        30.00      5          NaN   False   \n",
              "13            2.56           5.0        27.00      5          NaN   False   \n",
              "14             NaN           6.0        17.00      1          NaN   False   \n",
              "\n",
              "    open_plan  kitchen_area  balcony              locality_name  \\\n",
              "0       False         25.00      NaN            Санкт-Петербург   \n",
              "1       False         11.00      2.0             посёлок Шушары   \n",
              "2       False          8.30      0.0            Санкт-Петербург   \n",
              "3       False           NaN      0.0            Санкт-Петербург   \n",
              "4       False         41.00      NaN            Санкт-Петербург   \n",
              "5       False          9.10      NaN  городской посёлок Янино-1   \n",
              "6       False         14.40      1.0          посёлок Парголово   \n",
              "7       False         18.90      2.0            Санкт-Петербург   \n",
              "8       False          8.81      NaN             посёлок Мурино   \n",
              "9       False          6.50      2.0            Санкт-Петербург   \n",
              "10      False          8.50      NaN            Санкт-Петербург   \n",
              "11      False          6.00      1.0                  Ломоносов   \n",
              "12      False          9.00      0.0                  Сертолово   \n",
              "13      False          5.20      1.0                   Петергоф   \n",
              "14      False          8.00      0.0                     Пушкин   \n",
              "\n",
              "    airports_nearest  cityCenters_nearest  parks_around3000  parks_nearest  \\\n",
              "0            18863.0              16028.0               1.0          482.0   \n",
              "1            12817.0              18603.0               0.0            NaN   \n",
              "2            21741.0              13933.0               1.0           90.0   \n",
              "3            28098.0               6800.0               2.0           84.0   \n",
              "4            31856.0               8098.0               2.0          112.0   \n",
              "5                NaN                  NaN               NaN            NaN   \n",
              "6            52996.0              19143.0               0.0            NaN   \n",
              "7            23982.0              11634.0               0.0            NaN   \n",
              "8                NaN                  NaN               NaN            NaN   \n",
              "9            50898.0              15008.0               0.0            NaN   \n",
              "10           38357.0              13878.0               1.0          310.0   \n",
              "11           48252.0              51677.0               0.0            NaN   \n",
              "12               NaN                  NaN               NaN            NaN   \n",
              "13           37868.0              33058.0               1.0          294.0   \n",
              "14           20782.0              30759.0               0.0            NaN   \n",
              "\n",
              "    ponds_around3000  ponds_nearest  days_exposition  \n",
              "0                2.0          755.0              NaN  \n",
              "1                0.0            NaN             81.0  \n",
              "2                2.0          574.0            558.0  \n",
              "3                3.0          234.0            424.0  \n",
              "4                1.0           48.0            121.0  \n",
              "5                NaN            NaN             55.0  \n",
              "6                0.0            NaN            155.0  \n",
              "7                0.0            NaN              NaN  \n",
              "8                NaN            NaN            189.0  \n",
              "9                0.0            NaN            289.0  \n",
              "10               2.0          553.0            137.0  \n",
              "11               0.0            NaN              7.0  \n",
              "12               NaN            NaN             90.0  \n",
              "13               3.0          298.0            366.0  \n",
              "14               1.0           96.0            203.0  "
            ]
          },
          "execution_count": 2,
          "metadata": {},
          "output_type": "execute_result"
        }
      ],
      "execution_count": 2
    },
    {
      "cell_type": "code",
      "source": "data.info()",
      "metadata": {},
      "outputs": [
        {
          "name": "stdout",
          "output_type": "stream",
          "text": [
            "<class 'pandas.core.frame.DataFrame'>\n",
            "RangeIndex: 23699 entries, 0 to 23698\n",
            "Data columns (total 22 columns):\n",
            " #   Column                Non-Null Count  Dtype  \n",
            "---  ------                --------------  -----  \n",
            " 0   total_images          23699 non-null  int64  \n",
            " 1   last_price            23699 non-null  float64\n",
            " 2   total_area            23699 non-null  float64\n",
            " 3   first_day_exposition  23699 non-null  object \n",
            " 4   rooms                 23699 non-null  int64  \n",
            " 5   ceiling_height        14504 non-null  float64\n",
            " 6   floors_total          23613 non-null  float64\n",
            " 7   living_area           21796 non-null  float64\n",
            " 8   floor                 23699 non-null  int64  \n",
            " 9   is_apartment          2775 non-null   object \n",
            " 10  studio                23699 non-null  bool   \n",
            " 11  open_plan             23699 non-null  bool   \n",
            " 12  kitchen_area          21421 non-null  float64\n",
            " 13  balcony               12180 non-null  float64\n",
            " 14  locality_name         23650 non-null  object \n",
            " 15  airports_nearest      18157 non-null  float64\n",
            " 16  cityCenters_nearest   18180 non-null  float64\n",
            " 17  parks_around3000      18181 non-null  float64\n",
            " 18  parks_nearest         8079 non-null   float64\n",
            " 19  ponds_around3000      18181 non-null  float64\n",
            " 20  ponds_nearest         9110 non-null   float64\n",
            " 21  days_exposition       20518 non-null  float64\n",
            "dtypes: bool(2), float64(14), int64(3), object(3)\n",
            "memory usage: 3.7+ MB\n"
          ]
        }
      ],
      "execution_count": 3
    },
    {
      "cell_type": "code",
      "source": "data.describe()",
      "metadata": {},
      "outputs": [
        {
          "data": {
            "text/html": [
              "<div>\n",
              "<style scoped>\n",
              "    .dataframe tbody tr th:only-of-type {\n",
              "        vertical-align: middle;\n",
              "    }\n",
              "\n",
              "    .dataframe tbody tr th {\n",
              "        vertical-align: top;\n",
              "    }\n",
              "\n",
              "    .dataframe thead th {\n",
              "        text-align: right;\n",
              "    }\n",
              "</style>\n",
              "<table border=\"1\" class=\"dataframe\">\n",
              "  <thead>\n",
              "    <tr style=\"text-align: right;\">\n",
              "      <th></th>\n",
              "      <th>total_images</th>\n",
              "      <th>last_price</th>\n",
              "      <th>total_area</th>\n",
              "      <th>rooms</th>\n",
              "      <th>ceiling_height</th>\n",
              "      <th>floors_total</th>\n",
              "      <th>living_area</th>\n",
              "      <th>floor</th>\n",
              "      <th>kitchen_area</th>\n",
              "      <th>balcony</th>\n",
              "      <th>airports_nearest</th>\n",
              "      <th>cityCenters_nearest</th>\n",
              "      <th>parks_around3000</th>\n",
              "      <th>parks_nearest</th>\n",
              "      <th>ponds_around3000</th>\n",
              "      <th>ponds_nearest</th>\n",
              "      <th>days_exposition</th>\n",
              "    </tr>\n",
              "  </thead>\n",
              "  <tbody>\n",
              "    <tr>\n",
              "      <th>count</th>\n",
              "      <td>23699.000000</td>\n",
              "      <td>2.369900e+04</td>\n",
              "      <td>23699.000000</td>\n",
              "      <td>23699.000000</td>\n",
              "      <td>14504.000000</td>\n",
              "      <td>23613.000000</td>\n",
              "      <td>21796.000000</td>\n",
              "      <td>23699.000000</td>\n",
              "      <td>21421.000000</td>\n",
              "      <td>12180.000000</td>\n",
              "      <td>18157.000000</td>\n",
              "      <td>18180.000000</td>\n",
              "      <td>18181.000000</td>\n",
              "      <td>8079.000000</td>\n",
              "      <td>18181.000000</td>\n",
              "      <td>9110.000000</td>\n",
              "      <td>20518.000000</td>\n",
              "    </tr>\n",
              "    <tr>\n",
              "      <th>mean</th>\n",
              "      <td>9.858475</td>\n",
              "      <td>6.541549e+06</td>\n",
              "      <td>60.348651</td>\n",
              "      <td>2.070636</td>\n",
              "      <td>2.771499</td>\n",
              "      <td>10.673824</td>\n",
              "      <td>34.457852</td>\n",
              "      <td>5.892358</td>\n",
              "      <td>10.569807</td>\n",
              "      <td>1.150082</td>\n",
              "      <td>28793.672193</td>\n",
              "      <td>14191.277833</td>\n",
              "      <td>0.611408</td>\n",
              "      <td>490.804555</td>\n",
              "      <td>0.770255</td>\n",
              "      <td>517.980900</td>\n",
              "      <td>180.888634</td>\n",
              "    </tr>\n",
              "    <tr>\n",
              "      <th>std</th>\n",
              "      <td>5.682529</td>\n",
              "      <td>1.088701e+07</td>\n",
              "      <td>35.654083</td>\n",
              "      <td>1.078405</td>\n",
              "      <td>1.261056</td>\n",
              "      <td>6.597173</td>\n",
              "      <td>22.030445</td>\n",
              "      <td>4.885249</td>\n",
              "      <td>5.905438</td>\n",
              "      <td>1.071300</td>\n",
              "      <td>12630.880622</td>\n",
              "      <td>8608.386210</td>\n",
              "      <td>0.802074</td>\n",
              "      <td>342.317995</td>\n",
              "      <td>0.938346</td>\n",
              "      <td>277.720643</td>\n",
              "      <td>219.727988</td>\n",
              "    </tr>\n",
              "    <tr>\n",
              "      <th>min</th>\n",
              "      <td>0.000000</td>\n",
              "      <td>1.219000e+04</td>\n",
              "      <td>12.000000</td>\n",
              "      <td>0.000000</td>\n",
              "      <td>1.000000</td>\n",
              "      <td>1.000000</td>\n",
              "      <td>2.000000</td>\n",
              "      <td>1.000000</td>\n",
              "      <td>1.300000</td>\n",
              "      <td>0.000000</td>\n",
              "      <td>0.000000</td>\n",
              "      <td>181.000000</td>\n",
              "      <td>0.000000</td>\n",
              "      <td>1.000000</td>\n",
              "      <td>0.000000</td>\n",
              "      <td>13.000000</td>\n",
              "      <td>1.000000</td>\n",
              "    </tr>\n",
              "    <tr>\n",
              "      <th>25%</th>\n",
              "      <td>6.000000</td>\n",
              "      <td>3.400000e+06</td>\n",
              "      <td>40.000000</td>\n",
              "      <td>1.000000</td>\n",
              "      <td>2.520000</td>\n",
              "      <td>5.000000</td>\n",
              "      <td>18.600000</td>\n",
              "      <td>2.000000</td>\n",
              "      <td>7.000000</td>\n",
              "      <td>0.000000</td>\n",
              "      <td>18585.000000</td>\n",
              "      <td>9238.000000</td>\n",
              "      <td>0.000000</td>\n",
              "      <td>288.000000</td>\n",
              "      <td>0.000000</td>\n",
              "      <td>294.000000</td>\n",
              "      <td>45.000000</td>\n",
              "    </tr>\n",
              "    <tr>\n",
              "      <th>50%</th>\n",
              "      <td>9.000000</td>\n",
              "      <td>4.650000e+06</td>\n",
              "      <td>52.000000</td>\n",
              "      <td>2.000000</td>\n",
              "      <td>2.650000</td>\n",
              "      <td>9.000000</td>\n",
              "      <td>30.000000</td>\n",
              "      <td>4.000000</td>\n",
              "      <td>9.100000</td>\n",
              "      <td>1.000000</td>\n",
              "      <td>26726.000000</td>\n",
              "      <td>13098.500000</td>\n",
              "      <td>0.000000</td>\n",
              "      <td>455.000000</td>\n",
              "      <td>1.000000</td>\n",
              "      <td>502.000000</td>\n",
              "      <td>95.000000</td>\n",
              "    </tr>\n",
              "    <tr>\n",
              "      <th>75%</th>\n",
              "      <td>14.000000</td>\n",
              "      <td>6.800000e+06</td>\n",
              "      <td>69.900000</td>\n",
              "      <td>3.000000</td>\n",
              "      <td>2.800000</td>\n",
              "      <td>16.000000</td>\n",
              "      <td>42.300000</td>\n",
              "      <td>8.000000</td>\n",
              "      <td>12.000000</td>\n",
              "      <td>2.000000</td>\n",
              "      <td>37273.000000</td>\n",
              "      <td>16293.000000</td>\n",
              "      <td>1.000000</td>\n",
              "      <td>612.000000</td>\n",
              "      <td>1.000000</td>\n",
              "      <td>729.000000</td>\n",
              "      <td>232.000000</td>\n",
              "    </tr>\n",
              "    <tr>\n",
              "      <th>max</th>\n",
              "      <td>50.000000</td>\n",
              "      <td>7.630000e+08</td>\n",
              "      <td>900.000000</td>\n",
              "      <td>19.000000</td>\n",
              "      <td>100.000000</td>\n",
              "      <td>60.000000</td>\n",
              "      <td>409.700000</td>\n",
              "      <td>33.000000</td>\n",
              "      <td>112.000000</td>\n",
              "      <td>5.000000</td>\n",
              "      <td>84869.000000</td>\n",
              "      <td>65968.000000</td>\n",
              "      <td>3.000000</td>\n",
              "      <td>3190.000000</td>\n",
              "      <td>3.000000</td>\n",
              "      <td>1344.000000</td>\n",
              "      <td>1580.000000</td>\n",
              "    </tr>\n",
              "  </tbody>\n",
              "</table>\n",
              "</div>"
            ],
            "text/plain": [
              "       total_images    last_price    total_area         rooms  ceiling_height  \\\n",
              "count  23699.000000  2.369900e+04  23699.000000  23699.000000    14504.000000   \n",
              "mean       9.858475  6.541549e+06     60.348651      2.070636        2.771499   \n",
              "std        5.682529  1.088701e+07     35.654083      1.078405        1.261056   \n",
              "min        0.000000  1.219000e+04     12.000000      0.000000        1.000000   \n",
              "25%        6.000000  3.400000e+06     40.000000      1.000000        2.520000   \n",
              "50%        9.000000  4.650000e+06     52.000000      2.000000        2.650000   \n",
              "75%       14.000000  6.800000e+06     69.900000      3.000000        2.800000   \n",
              "max       50.000000  7.630000e+08    900.000000     19.000000      100.000000   \n",
              "\n",
              "       floors_total   living_area         floor  kitchen_area       balcony  \\\n",
              "count  23613.000000  21796.000000  23699.000000  21421.000000  12180.000000   \n",
              "mean      10.673824     34.457852      5.892358     10.569807      1.150082   \n",
              "std        6.597173     22.030445      4.885249      5.905438      1.071300   \n",
              "min        1.000000      2.000000      1.000000      1.300000      0.000000   \n",
              "25%        5.000000     18.600000      2.000000      7.000000      0.000000   \n",
              "50%        9.000000     30.000000      4.000000      9.100000      1.000000   \n",
              "75%       16.000000     42.300000      8.000000     12.000000      2.000000   \n",
              "max       60.000000    409.700000     33.000000    112.000000      5.000000   \n",
              "\n",
              "       airports_nearest  cityCenters_nearest  parks_around3000  parks_nearest  \\\n",
              "count      18157.000000         18180.000000      18181.000000    8079.000000   \n",
              "mean       28793.672193         14191.277833          0.611408     490.804555   \n",
              "std        12630.880622          8608.386210          0.802074     342.317995   \n",
              "min            0.000000           181.000000          0.000000       1.000000   \n",
              "25%        18585.000000          9238.000000          0.000000     288.000000   \n",
              "50%        26726.000000         13098.500000          0.000000     455.000000   \n",
              "75%        37273.000000         16293.000000          1.000000     612.000000   \n",
              "max        84869.000000         65968.000000          3.000000    3190.000000   \n",
              "\n",
              "       ponds_around3000  ponds_nearest  days_exposition  \n",
              "count      18181.000000    9110.000000     20518.000000  \n",
              "mean           0.770255     517.980900       180.888634  \n",
              "std            0.938346     277.720643       219.727988  \n",
              "min            0.000000      13.000000         1.000000  \n",
              "25%            0.000000     294.000000        45.000000  \n",
              "50%            1.000000     502.000000        95.000000  \n",
              "75%            1.000000     729.000000       232.000000  \n",
              "max            3.000000    1344.000000      1580.000000  "
            ]
          },
          "execution_count": 4,
          "metadata": {},
          "output_type": "execute_result"
        }
      ],
      "execution_count": 4
    },
    {
      "cell_type": "code",
      "source": "data.hist(figsize=(15, 20))\nNone",
      "metadata": {},
      "outputs": [
        {
          "data": {
            "image/png": "[encoded data removed]",
            "text/plain": [
              "<Figure size 1080x1440 with 20 Axes>"
            ]
          },
          "metadata": {
            "needs_background": "light"
          },
          "output_type": "display_data"
        }
      ],
      "execution_count": 6
    },
    {
      "cell_type": "code",
      "source": "data.isna().sum()/len(data)*100",
      "metadata": {},
      "outputs": [
        {
          "data": {
            "text/plain": [
              "total_images             0.000000\n",
              "last_price               0.000000\n",
              "total_area               0.000000\n",
              "first_day_exposition     0.000000\n",
              "rooms                    0.000000\n",
              "ceiling_height          38.799105\n",
              "floors_total             0.362885\n",
              "living_area              8.029875\n",
              "floor                    0.000000\n",
              "is_apartment            88.290645\n",
              "studio                   0.000000\n",
              "open_plan                0.000000\n",
              "kitchen_area             9.612220\n",
              "balcony                 48.605426\n",
              "locality_name            0.206760\n",
              "airports_nearest        23.384953\n",
              "cityCenters_nearest     23.287902\n",
              "parks_around3000        23.283683\n",
              "parks_nearest           65.909954\n",
              "ponds_around3000        23.283683\n",
              "ponds_nearest           61.559559\n",
              "days_exposition         13.422507\n",
              "dtype: float64"
            ]
          },
          "execution_count": 8,
          "metadata": {},
          "output_type": "execute_result"
        }
      ],
      "execution_count": 8
    },
    {
      "cell_type": "markdown",
      "source": "Из результатов видно, что пропуски имеются в столбцах: ceiling_height, floors_total, living_area, is_apartment, kitchen_area, balcony, locality_name, airports_nearest, cityCenters_nearest, parks_around3000, parks_nearest, ponds_around3000, ponds_nearest, days_exposition. \nПри этом в столбцах ponds_nearest, parks_nearest, is_apartment пропуски составляют более 50%. С ними нам придстоит разобраться, по возмоности.",
      "metadata": {}
    },
    {
      "cell_type": "markdown",
      "source": "## Работа с пропусками",
      "metadata": {}
    },
    {
      "cell_type": "code",
      "source": "data['is_apartment'].value_counts()",
      "metadata": {
        "scrolled": true
      },
      "outputs": [
        {
          "data": {
            "text/plain": [
              "False    2725\n",
              "True       50\n",
              "Name: is_apartment, dtype: int64"
            ]
          },
          "execution_count": 9,
          "metadata": {},
          "output_type": "execute_result"
        }
      ],
      "execution_count": 9
    },
    {
      "cell_type": "markdown",
      "source": "Можно предположить, что пропуски в столбце 'is_apartment' обусловены тем, что пользоватли пропускали данный столбец, т.к. их тип недвижимости не является апартаментом. Поэтому заменим пропуски значением False",
      "metadata": {}
    },
    {
      "cell_type": "code",
      "source": "data['is_apartment'] = data['is_apartment'].fillna(False)\ndata['is_apartment'].value_counts()",
      "metadata": {},
      "outputs": [
        {
          "data": {
            "text/plain": [
              "False    23649\n",
              "True        50\n",
              "Name: is_apartment, dtype: int64"
            ]
          },
          "execution_count": 10,
          "metadata": {},
          "output_type": "execute_result"
        }
      ],
      "execution_count": 10
    },
    {
      "cell_type": "markdown",
      "source": "Заполним пропуски в столбце 'balcony' на значения 0, т.к. вероятнее всего, пользователи просто пропускали этот столбец из-за отсутствия балкона.",
      "metadata": {}
    },
    {
      "cell_type": "code",
      "source": "data['balcony'] = data['balcony'].fillna(0)\ndata['balcony'].unique()",
      "metadata": {},
      "outputs": [
        {
          "data": {
            "text/plain": [
              "array([0., 2., 1., 5., 4., 3.])"
            ]
          },
          "execution_count": 11,
          "metadata": {},
          "output_type": "execute_result"
        }
      ],
      "execution_count": 11
    },
    {
      "cell_type": "markdown",
      "source": "Попробуем заполнить пропуски 'living_area', исходя из похожих по количеству комнат объектов.",
      "metadata": {}
    },
    {
      "cell_type": "code",
      "source": "data['living_area'] = data['living_area'].fillna(data.groupby('rooms')['living_area'].transform('median'))\ndata['living_area'].isna().sum()",
      "metadata": {},
      "outputs": [
        {
          "data": {
            "text/plain": [
              "0"
            ]
          },
          "execution_count": 12,
          "metadata": {},
          "output_type": "execute_result"
        }
      ],
      "execution_count": 12
    },
    {
      "cell_type": "markdown",
      "source": "Пропуски в locality_name и floors_total составялют малую долю от всех данных, поэтому их можно отбросить.",
      "metadata": {}
    },
    {
      "cell_type": "code",
      "source": "data = data.dropna(subset = ['locality_name', 'floors_total'])",
      "metadata": {},
      "outputs": [],
      "execution_count": 13
    },
    {
      "cell_type": "markdown",
      "source": "Логичную замену в оставшисхся столбцах предложить невозможно, поэтому на данном этапе оставим эти значения как есть. Посмотрим на оставшееся количество пропусков:",
      "metadata": {}
    },
    {
      "cell_type": "code",
      "source": "data.isna().sum()",
      "metadata": {},
      "outputs": [
        {
          "data": {
            "text/plain": [
              "total_images                0\n",
              "last_price                  0\n",
              "total_area                  0\n",
              "first_day_exposition        0\n",
              "rooms                       0\n",
              "ceiling_height           9084\n",
              "floors_total                0\n",
              "living_area                 0\n",
              "floor                       0\n",
              "is_apartment                0\n",
              "studio                      0\n",
              "open_plan                   0\n",
              "kitchen_area             2222\n",
              "balcony                     0\n",
              "locality_name               0\n",
              "airports_nearest         5524\n",
              "cityCenters_nearest      5501\n",
              "parks_around3000         5500\n",
              "parks_nearest           15535\n",
              "ponds_around3000         5500\n",
              "ponds_nearest           14529\n",
              "days_exposition          3171\n",
              "dtype: int64"
            ]
          },
          "execution_count": 14,
          "metadata": {},
          "output_type": "execute_result"
        }
      ],
      "execution_count": 14
    },
    {
      "cell_type": "markdown",
      "source": "## Изменение типа данных\n\nЗаменим типы данных в floors_total, last_price и floor на int64 - т.к. это всегда целые числа.",
      "metadata": {}
    },
    {
      "cell_type": "code",
      "source": "data['floors_total'] = data['floors_total'].astype('int')\ndata['balcony'] = data['balcony'].astype('int')\ndata['last_price'] = data['last_price'].astype('int')\ndata.info()",
      "metadata": {},
      "outputs": [
        {
          "name": "stdout",
          "output_type": "stream",
          "text": [
            "<class 'pandas.core.frame.DataFrame'>\n",
            "Int64Index: 23565 entries, 0 to 23698\n",
            "Data columns (total 22 columns):\n",
            " #   Column                Non-Null Count  Dtype  \n",
            "---  ------                --------------  -----  \n",
            " 0   total_images          23565 non-null  int64  \n",
            " 1   last_price            23565 non-null  int64  \n",
            " 2   total_area            23565 non-null  float64\n",
            " 3   first_day_exposition  23565 non-null  object \n",
            " 4   rooms                 23565 non-null  int64  \n",
            " 5   ceiling_height        14481 non-null  float64\n",
            " 6   floors_total          23565 non-null  int64  \n",
            " 7   living_area           23565 non-null  float64\n",
            " 8   floor                 23565 non-null  int64  \n",
            " 9   is_apartment          23565 non-null  bool   \n",
            " 10  studio                23565 non-null  bool   \n",
            " 11  open_plan             23565 non-null  bool   \n",
            " 12  kitchen_area          21343 non-null  float64\n",
            " 13  balcony               23565 non-null  int64  \n",
            " 14  locality_name         23565 non-null  object \n",
            " 15  airports_nearest      18041 non-null  float64\n",
            " 16  cityCenters_nearest   18064 non-null  float64\n",
            " 17  parks_around3000      18065 non-null  float64\n",
            " 18  parks_nearest         8030 non-null   float64\n",
            " 19  ponds_around3000      18065 non-null  float64\n",
            " 20  ponds_nearest         9036 non-null   float64\n",
            " 21  days_exposition       20394 non-null  float64\n",
            "dtypes: bool(3), float64(11), int64(6), object(2)\n",
            "memory usage: 3.7+ MB\n"
          ]
        }
      ],
      "execution_count": 15
    },
    {
      "cell_type": "markdown",
      "source": "Столбец first_day_exposition логично заменить на тип daytime, т.к. возможно, он нам понадобится для дальнейших вычислений.",
      "metadata": {}
    },
    {
      "cell_type": "code",
      "source": "data['first_day_exposition'] = pd.to_datetime(data['first_day_exposition'], format='%Y-%m-%dT%H:%M:%S')",
      "metadata": {},
      "outputs": [],
      "execution_count": 16
    },
    {
      "cell_type": "markdown",
      "source": "## Работа с дубликатами",
      "metadata": {}
    },
    {
      "cell_type": "markdown",
      "source": "Проверим \"locality_name\" на наличие явных дубликатов",
      "metadata": {}
    },
    {
      "cell_type": "code",
      "source": "data.duplicated().sum()",
      "metadata": {},
      "outputs": [
        {
          "data": {
            "text/plain": [
              "0"
            ]
          },
          "execution_count": 17,
          "metadata": {},
          "output_type": "execute_result"
        }
      ],
      "execution_count": 17
    },
    {
      "cell_type": "code",
      "source": "data['locality_name'].unique()",
      "metadata": {},
      "outputs": [
        {
          "data": {
            "text/plain": [
              "array(['Санкт-Петербург', 'посёлок Шушары', 'городской посёлок Янино-1',\n",
              "       'посёлок Парголово', 'посёлок Мурино', 'Ломоносов', 'Сертолово',\n",
              "       'Петергоф', 'Пушкин', 'деревня Кудрово', 'Коммунар', 'Колпино',\n",
              "       'поселок городского типа Красный Бор', 'Гатчина', 'поселок Мурино',\n",
              "       'деревня Фёдоровское', 'Выборг', 'Кронштадт', 'Кировск',\n",
              "       'деревня Новое Девяткино', 'посёлок Металлострой',\n",
              "       'посёлок городского типа Лебяжье',\n",
              "       'посёлок городского типа Сиверский', 'поселок Молодцово',\n",
              "       'поселок городского типа Кузьмоловский',\n",
              "       'садовое товарищество Новая Ропша', 'Павловск',\n",
              "       'деревня Пикколово', 'Всеволожск', 'Волхов', 'Кингисепп',\n",
              "       'Приозерск', 'Сестрорецк', 'деревня Куттузи', 'посёлок Аннино',\n",
              "       'поселок городского типа Ефимовский', 'посёлок Плодовое',\n",
              "       'деревня Заклинье', 'поселок Торковичи', 'поселок Первомайское',\n",
              "       'Красное Село', 'посёлок Понтонный', 'Сясьстрой', 'деревня Старая',\n",
              "       'деревня Лесколово', 'посёлок Новый Свет', 'Сланцы',\n",
              "       'село Путилово', 'Ивангород', 'Мурино', 'Шлиссельбург',\n",
              "       'Никольское', 'Зеленогорск', 'Сосновый Бор', 'поселок Новый Свет',\n",
              "       'деревня Оржицы', 'деревня Кальтино', 'Кудрово',\n",
              "       'поселок Романовка', 'посёлок Бугры', 'поселок Бугры',\n",
              "       'поселок городского типа Рощино', 'Кириши', 'Луга', 'Волосово',\n",
              "       'Отрадное', 'село Павлово', 'поселок Оредеж', 'село Копорье',\n",
              "       'посёлок городского типа Красный Бор', 'посёлок Молодёжное',\n",
              "       'Тихвин', 'посёлок Победа', 'деревня Нурма',\n",
              "       'поселок городского типа Синявино', 'Тосно',\n",
              "       'посёлок городского типа Кузьмоловский', 'посёлок Стрельна',\n",
              "       'Бокситогорск', 'посёлок Александровская', 'деревня Лопухинка',\n",
              "       'Пикалёво', 'поселок Терволово',\n",
              "       'поселок городского типа Советский', 'Подпорожье',\n",
              "       'посёлок Петровское', 'посёлок городского типа Токсово',\n",
              "       'поселок Сельцо', 'посёлок городского типа Вырица',\n",
              "       'деревня Кипень', 'деревня Келози', 'деревня Вартемяги',\n",
              "       'посёлок Тельмана', 'поселок Севастьяново',\n",
              "       'городской поселок Большая Ижора', 'городской посёлок Павлово',\n",
              "       'деревня Агалатово', 'посёлок Новогорелово',\n",
              "       'городской посёлок Лесогорский', 'деревня Лаголово',\n",
              "       'поселок Цвелодубово', 'поселок городского типа Рахья',\n",
              "       'поселок городского типа Вырица', 'деревня Белогорка',\n",
              "       'поселок Заводской', 'городской посёлок Новоселье',\n",
              "       'деревня Большие Колпаны', 'деревня Горбунки', 'деревня Батово',\n",
              "       'деревня Заневка', 'деревня Иссад', 'Приморск',\n",
              "       'городской посёлок Фёдоровское', 'деревня Мистолово',\n",
              "       'Новая Ладога', 'поселок Зимитицы', 'поселок Барышево',\n",
              "       'деревня Разметелево', 'поселок городского типа имени Свердлова',\n",
              "       'деревня Пеники', 'поселок Рябово', 'деревня Пудомяги',\n",
              "       'поселок станции Корнево', 'деревня Низино', 'деревня Бегуницы',\n",
              "       'посёлок Поляны', 'городской посёлок Мга', 'поселок Елизаветино',\n",
              "       'посёлок городского типа Кузнечное', 'деревня Колтуши',\n",
              "       'поселок Запорожское', 'посёлок городского типа Рощино',\n",
              "       'деревня Гостилицы', 'деревня Малое Карлино',\n",
              "       'посёлок Мичуринское', 'посёлок городского типа имени Морозова',\n",
              "       'посёлок Песочный', 'посёлок Сосново', 'деревня Аро',\n",
              "       'поселок Ильичёво', 'посёлок городского типа Тайцы',\n",
              "       'деревня Малое Верево', 'деревня Извара', 'поселок станции Вещево',\n",
              "       'село Паша', 'деревня Калитино',\n",
              "       'посёлок городского типа Ульяновка', 'деревня Чудской Бор',\n",
              "       'поселок городского типа Дубровка', 'деревня Мины',\n",
              "       'поселок Войсковицы', 'посёлок городского типа имени Свердлова',\n",
              "       'деревня Коркино', 'посёлок Ропша',\n",
              "       'поселок городского типа Приладожский', 'посёлок Щеглово',\n",
              "       'посёлок Гаврилово', 'Лодейное Поле', 'деревня Рабитицы',\n",
              "       'поселок городского типа Никольский', 'деревня Кузьмолово',\n",
              "       'деревня Малые Колпаны', 'поселок Тельмана',\n",
              "       'посёлок Петро-Славянка', 'городской посёлок Назия',\n",
              "       'посёлок Репино', 'посёлок Ильичёво', 'поселок Углово',\n",
              "       'поселок Старая Малукса', 'садовое товарищество Рахья',\n",
              "       'поселок Аннино', 'поселок Победа', 'деревня Меньково',\n",
              "       'деревня Старые Бегуницы', 'посёлок Сапёрный', 'поселок Семрино',\n",
              "       'поселок Гаврилово', 'поселок Глажево', 'поселок Кобринское',\n",
              "       'деревня Гарболово', 'деревня Юкки',\n",
              "       'поселок станции Приветнинское', 'деревня Мануйлово',\n",
              "       'деревня Пчева', 'поселок Поляны', 'поселок Цвылёво',\n",
              "       'поселок Мельниково', 'посёлок Пудость', 'посёлок Усть-Луга',\n",
              "       'Светогорск', 'Любань', 'поселок Селезнёво',\n",
              "       'поселок городского типа Рябово', 'Каменногорск', 'деревня Кривко',\n",
              "       'поселок Глебычево', 'деревня Парицы', 'поселок Жилпосёлок',\n",
              "       'посёлок городского типа Мга', 'городской поселок Янино-1',\n",
              "       'посёлок Войскорово', 'село Никольское', 'посёлок Терволово',\n",
              "       'поселок Стеклянный', 'посёлок городского типа Важины',\n",
              "       'посёлок Мыза-Ивановка', 'село Русско-Высоцкое',\n",
              "       'поселок городского типа Лебяжье',\n",
              "       'поселок городского типа Форносово', 'село Старая Ладога',\n",
              "       'поселок Житково', 'городской посёлок Виллози', 'деревня Лампово',\n",
              "       'деревня Шпаньково', 'деревня Лаврики', 'посёлок Сумино',\n",
              "       'посёлок Возрождение', 'деревня Старосиверская',\n",
              "       'посёлок Кикерино', 'поселок Возрождение',\n",
              "       'деревня Старое Хинколово', 'посёлок Пригородный',\n",
              "       'посёлок Торфяное', 'городской посёлок Будогощь',\n",
              "       'поселок Суходолье', 'поселок Красная Долина', 'деревня Хапо-Ое',\n",
              "       'поселок городского типа Дружная Горка', 'поселок Лисий Нос',\n",
              "       'деревня Яльгелево', 'посёлок Стеклянный', 'село Рождествено',\n",
              "       'деревня Старополье', 'посёлок Левашово', 'деревня Сяськелево',\n",
              "       'деревня Камышовка',\n",
              "       'садоводческое некоммерческое товарищество Лесная Поляна',\n",
              "       'деревня Хязельки', 'поселок Жилгородок',\n",
              "       'посёлок городского типа Павлово', 'деревня Ялгино',\n",
              "       'поселок Новый Учхоз', 'городской посёлок Рощино',\n",
              "       'поселок Гончарово', 'поселок Почап', 'посёлок Сапёрное',\n",
              "       'посёлок Платформа 69-й километр', 'поселок Каложицы',\n",
              "       'деревня Фалилеево', 'деревня Пельгора',\n",
              "       'поселок городского типа Лесогорский', 'деревня Торошковичи',\n",
              "       'посёлок Белоостров', 'посёлок Алексеевка', 'поселок Серебрянский',\n",
              "       'поселок Лукаши', 'поселок Петровское', 'деревня Щеглово',\n",
              "       'поселок Мичуринское', 'деревня Тарасово', 'поселок Кингисеппский',\n",
              "       'посёлок при железнодорожной станции Вещево', 'поселок Ушаки',\n",
              "       'деревня Котлы', 'деревня Сижно', 'деревня Торосово',\n",
              "       'посёлок Форт Красная Горка', 'деревня Новолисино',\n",
              "       'посёлок станции Громово', 'деревня Глинка', 'посёлок Мельниково',\n",
              "       'поселок городского типа Назия', 'деревня Старая Пустошь',\n",
              "       'поселок Коммунары', 'поселок Починок',\n",
              "       'посёлок городского типа Вознесенье', 'деревня Разбегаево',\n",
              "       'посёлок городского типа Рябово', 'поселок Гладкое',\n",
              "       'посёлок при железнодорожной станции Приветнинское',\n",
              "       'поселок Тёсово-4', 'посёлок Жилгородок', 'деревня Бор',\n",
              "       'посёлок Коробицыно', 'деревня Большая Вруда', 'деревня Курковицы',\n",
              "       'посёлок Лисий Нос', 'городской посёлок Советский',\n",
              "       'посёлок Кобралово', 'деревня Суоранда', 'поселок Кобралово',\n",
              "       'поселок городского типа Кондратьево',\n",
              "       'коттеджный поселок Счастье', 'поселок Любань', 'деревня Реброво',\n",
              "       'деревня Зимитицы', 'деревня Тойворово', 'поселок Семиозерье',\n",
              "       'поселок Лесное', 'поселок Совхозный', 'поселок Усть-Луга',\n",
              "       'посёлок Ленинское', 'посёлок Суйда',\n",
              "       'посёлок городского типа Форносово', 'деревня Нижние Осельки',\n",
              "       'посёлок станции Свирь', 'поселок Перово', 'Высоцк',\n",
              "       'поселок Гарболово', 'село Шум', 'поселок Котельский',\n",
              "       'поселок станции Лужайка', 'деревня Большая Пустомержа',\n",
              "       'поселок Красносельское', 'деревня Вахнова Кара', 'деревня Пижма',\n",
              "       'коттеджный поселок Кивеннапа Север', 'поселок Коробицыно',\n",
              "       'поселок Ромашки', 'посёлок Перово', 'деревня Каськово',\n",
              "       'деревня Куровицы', 'посёлок Плоское', 'поселок Сумино',\n",
              "       'поселок городского типа Большая Ижора', 'поселок Кирпичное',\n",
              "       'деревня Ям-Тесово', 'деревня Раздолье', 'деревня Терпилицы',\n",
              "       'поселок городского типа Токсово', 'посёлок Шугозеро',\n",
              "       'деревня Ваганово', 'поселок Пушное', 'садовое товарищество Садко',\n",
              "       'посёлок Усть-Ижора', 'деревня Выскатка',\n",
              "       'городской посёлок Свирьстрой', 'поселок Громово',\n",
              "       'деревня Кисельня', 'посёлок Старая Малукса',\n",
              "       'деревня Трубников Бор', 'поселок Калитино',\n",
              "       'посёлок Высокоключевой', 'садовое товарищество Приладожский',\n",
              "       'посёлок Пансионат Зелёный Бор', 'деревня Ненимяки',\n",
              "       'поселок Пансионат Зелёный Бор', 'деревня Снегирёвка',\n",
              "       'деревня Рапполово', 'деревня Пустынка', 'поселок Рабитицы',\n",
              "       'деревня Большой Сабск', 'деревня Русско', 'деревня Лупполово',\n",
              "       'деревня Большое Рейзино', 'деревня Малая Романовка',\n",
              "       'поселок Дружноселье', 'поселок Пчевжа', 'поселок Володарское',\n",
              "       'деревня Нижняя', 'коттеджный посёлок Лесное', 'деревня Тихковицы',\n",
              "       'деревня Борисова Грива', 'посёлок Дзержинского'], dtype=object)"
            ]
          },
          "execution_count": 18,
          "metadata": {},
          "output_type": "execute_result"
        }
      ],
      "execution_count": 18
    },
    {
      "cell_type": "code",
      "source": "len(data['locality_name'].unique())",
      "metadata": {},
      "outputs": [
        {
          "data": {
            "text/plain": [
              "364"
            ]
          },
          "execution_count": 19,
          "metadata": {},
          "output_type": "execute_result"
        }
      ],
      "execution_count": 19
    },
    {
      "cell_type": "markdown",
      "source": "Заменим все буквы \"ё\" на \"е\", а также избавимся от названий населенных пунктов, т.к. имеются названия \"поселок городского типа Советский\" и \"городской посёлок Советский\"",
      "metadata": {}
    },
    {
      "cell_type": "code",
      "source": "data['locality_name'] = data['locality_name'].apply(lambda title: ' '.join(word for word in title.split(' ') if not(word.islower())))",
      "metadata": {},
      "outputs": [],
      "execution_count": 20
    },
    {
      "cell_type": "code",
      "source": "data['locality_name'].sort_values().unique()",
      "metadata": {},
      "outputs": [
        {
          "data": {
            "text/plain": [
              "array(['Агалатово', 'Александровская', 'Алексеевка', 'Аннино', 'Аро',\n",
              "       'Барышево', 'Батово', 'Бегуницы', 'Белогорка', 'Белоостров',\n",
              "       'Бокситогорск', 'Большая Вруда', 'Большая Ижора',\n",
              "       'Большая Пустомержа', 'Большие Колпаны', 'Большое Рейзино',\n",
              "       'Большой Сабск', 'Бор', 'Борисова Грива', 'Бугры', 'Будогощь',\n",
              "       'Ваганово', 'Важины', 'Вартемяги', 'Вахнова Кара', 'Вещево',\n",
              "       'Виллози', 'Вознесенье', 'Возрождение', 'Войсковицы', 'Войскорово',\n",
              "       'Володарское', 'Волосово', 'Волхов', 'Всеволожск', 'Выборг',\n",
              "       'Вырица', 'Выскатка', 'Высокоключевой', 'Высоцк', 'Гаврилово',\n",
              "       'Гарболово', 'Гатчина', 'Гладкое', 'Глажево', 'Глебычево',\n",
              "       'Глинка', 'Гончарово', 'Горбунки', 'Гостилицы', 'Громово',\n",
              "       'Дзержинского', 'Дружная Горка', 'Дружноселье', 'Дубровка',\n",
              "       'Елизаветино', 'Ефимовский', 'Жилгородок', 'Жилпосёлок', 'Житково',\n",
              "       'Заводской', 'Заклинье', 'Заневка', 'Запорожское', 'Зеленогорск',\n",
              "       'Зимитицы', 'Ивангород', 'Извара', 'Ильичёво', 'Иссад', 'Калитино',\n",
              "       'Каложицы', 'Кальтино', 'Каменногорск', 'Камышовка', 'Каськово',\n",
              "       'Келози', 'Кивеннапа Север', 'Кикерино', 'Кингисепп',\n",
              "       'Кингисеппский', 'Кипень', 'Кириши', 'Кировск', 'Кирпичное',\n",
              "       'Кисельня', 'Кобралово', 'Кобринское', 'Колпино', 'Колтуши',\n",
              "       'Коммунар', 'Коммунары', 'Кондратьево', 'Копорье', 'Коркино',\n",
              "       'Корнево', 'Коробицыно', 'Котельский', 'Котлы', 'Красная Долина',\n",
              "       'Красное Село', 'Красносельское', 'Красный Бор', 'Кривко',\n",
              "       'Кронштадт', 'Кудрово', 'Кузнечное', 'Кузьмолово', 'Кузьмоловский',\n",
              "       'Курковицы', 'Куровицы', 'Куттузи', 'Лаврики', 'Лаголово',\n",
              "       'Лампово', 'Лебяжье', 'Левашово', 'Ленинское', 'Лесколово',\n",
              "       'Лесная Поляна', 'Лесное', 'Лесогорский', 'Лисий Нос',\n",
              "       'Лодейное Поле', 'Ломоносов', 'Лопухинка', 'Луга', 'Лужайка',\n",
              "       'Лукаши', 'Лупполово', 'Любань', 'Малая Романовка', 'Малое Верево',\n",
              "       'Малое Карлино', 'Малые Колпаны', 'Мануйлово', 'Мга', 'Мельниково',\n",
              "       'Меньково', 'Металлострой', 'Мины', 'Мистолово', 'Мичуринское',\n",
              "       'Молодцово', 'Молодёжное', 'Морозова', 'Мурино', 'Мыза-Ивановка',\n",
              "       'Назия', 'Ненимяки', 'Нижние Осельки', 'Нижняя', 'Низино',\n",
              "       'Никольский', 'Никольское', 'Новая Ладога', 'Новая Ропша',\n",
              "       'Новогорелово', 'Новое Девяткино', 'Новолисино', 'Новоселье',\n",
              "       'Новый Свет', 'Новый Учхоз', 'Нурма', 'Оредеж', 'Оржицы',\n",
              "       'Отрадное', 'Павлово', 'Павловск', 'Пансионат Зелёный Бор',\n",
              "       'Парголово', 'Парицы', 'Паша', 'Пельгора', 'Пеники',\n",
              "       'Первомайское', 'Перово', 'Песочный', 'Петергоф', 'Петро-Славянка',\n",
              "       'Петровское', 'Пижма', 'Пикалёво', 'Пикколово', 'Платформа',\n",
              "       'Плодовое', 'Плоское', 'Победа', 'Подпорожье', 'Поляны',\n",
              "       'Понтонный', 'Почап', 'Починок', 'Приветнинское', 'Пригородный',\n",
              "       'Приладожский', 'Приморск', 'Приозерск', 'Пудомяги', 'Пудость',\n",
              "       'Пустынка', 'Путилово', 'Пушкин', 'Пушное', 'Пчева', 'Пчевжа',\n",
              "       'Рабитицы', 'Разбегаево', 'Раздолье', 'Разметелево', 'Рапполово',\n",
              "       'Рахья', 'Реброво', 'Репино', 'Рождествено', 'Романовка',\n",
              "       'Ромашки', 'Ропша', 'Рощино', 'Русско', 'Русско-Высоцкое',\n",
              "       'Рябово', 'Садко', 'Санкт-Петербург', 'Сапёрное', 'Сапёрный',\n",
              "       'Свердлова', 'Светогорск', 'Свирь', 'Свирьстрой', 'Севастьяново',\n",
              "       'Селезнёво', 'Сельцо', 'Семиозерье', 'Семрино', 'Серебрянский',\n",
              "       'Сертолово', 'Сестрорецк', 'Сиверский', 'Сижно', 'Синявино',\n",
              "       'Сланцы', 'Снегирёвка', 'Советский', 'Совхозный', 'Сосново',\n",
              "       'Сосновый Бор', 'Старая', 'Старая Ладога', 'Старая Малукса',\n",
              "       'Старая Пустошь', 'Старое Хинколово', 'Старополье',\n",
              "       'Старосиверская', 'Старые Бегуницы', 'Стеклянный', 'Стрельна',\n",
              "       'Суйда', 'Сумино', 'Суоранда', 'Суходолье', 'Счастье',\n",
              "       'Сяськелево', 'Сясьстрой', 'Тайцы', 'Тарасово', 'Тельмана',\n",
              "       'Терволово', 'Терпилицы', 'Тихвин', 'Тихковицы', 'Тойворово',\n",
              "       'Токсово', 'Торковичи', 'Торосово', 'Торошковичи', 'Торфяное',\n",
              "       'Тосно', 'Трубников Бор', 'Тёсово-4', 'Углово', 'Ульяновка',\n",
              "       'Усть-Ижора', 'Усть-Луга', 'Ушаки', 'Фалилеево', 'Форносово',\n",
              "       'Форт Красная Горка', 'Фёдоровское', 'Хапо-Ое', 'Хязельки',\n",
              "       'Цвелодубово', 'Цвылёво', 'Чудской Бор', 'Шлиссельбург',\n",
              "       'Шпаньково', 'Шугозеро', 'Шум', 'Шушары', 'Щеглово', 'Юкки',\n",
              "       'Ялгино', 'Яльгелево', 'Ям-Тесово', 'Янино-1'], dtype=object)"
            ]
          },
          "execution_count": 21,
          "metadata": {},
          "output_type": "execute_result"
        }
      ],
      "execution_count": 21
    },
    {
      "cell_type": "code",
      "source": "len(data['locality_name'].unique())",
      "metadata": {},
      "outputs": [
        {
          "data": {
            "text/plain": [
              "305"
            ]
          },
          "execution_count": 22,
          "metadata": {},
          "output_type": "execute_result"
        }
      ],
      "execution_count": 22
    },
    {
      "cell_type": "markdown",
      "source": "## Поиск и изучение анамальных значений",
      "metadata": {}
    },
    {
      "cell_type": "code",
      "source": "data['rooms'].describe()",
      "metadata": {},
      "outputs": [
        {
          "data": {
            "text/plain": [
              "count    23565.000000\n",
              "mean         2.070656\n",
              "std          1.078591\n",
              "min          0.000000\n",
              "25%          1.000000\n",
              "50%          2.000000\n",
              "75%          3.000000\n",
              "max         19.000000\n",
              "Name: rooms, dtype: float64"
            ]
          },
          "execution_count": 23,
          "metadata": {},
          "output_type": "execute_result"
        }
      ],
      "execution_count": 23
    },
    {
      "cell_type": "code",
      "source": "data.boxplot(column='rooms', figsize=(1, 5))",
      "metadata": {},
      "outputs": [
        {
          "data": {
            "text/plain": [
              "<AxesSubplot:>"
            ]
          },
          "execution_count": 24,
          "metadata": {},
          "output_type": "execute_result"
        },
        {
          "data": {
            "image/png": "[encoded data removed]",
            "text/plain": [
              "<Figure size 72x360 with 1 Axes>"
            ]
          },
          "metadata": {
            "needs_background": "light"
          },
          "output_type": "display_data"
        }
      ],
      "execution_count": 24
    },
    {
      "cell_type": "markdown",
      "source": "По диаграмме можно заметить, что значения больше 11 крайне редкие, оставим только позиции со значением rooms<12",
      "metadata": {}
    },
    {
      "cell_type": "code",
      "source": "(len(data.query('rooms > 12'))/len(data))*100",
      "metadata": {},
      "outputs": [
        {
          "data": {
            "text/plain": [
              "0.02121790791427965"
            ]
          },
          "execution_count": 26,
          "metadata": {},
          "output_type": "execute_result"
        }
      ],
      "execution_count": 26
    },
    {
      "cell_type": "code",
      "source": "clear_data = data.query('rooms < 12').reset_index(drop=True)",
      "metadata": {},
      "outputs": [],
      "execution_count": 25
    },
    {
      "cell_type": "markdown",
      "source": "Взглянем на столбец total_area",
      "metadata": {}
    },
    {
      "cell_type": "code",
      "source": "data['total_area'].describe()",
      "metadata": {},
      "outputs": [
        {
          "data": {
            "text/plain": [
              "count    23565.000000\n",
              "mean        60.322824\n",
              "std         35.657060\n",
              "min         12.000000\n",
              "25%         40.000000\n",
              "50%         52.000000\n",
              "75%         69.700000\n",
              "max        900.000000\n",
              "Name: total_area, dtype: float64"
            ]
          },
          "execution_count": 27,
          "metadata": {},
          "output_type": "execute_result"
        }
      ],
      "execution_count": 27
    },
    {
      "cell_type": "code",
      "source": "data.boxplot(column='total_area', figsize=(3, 8))",
      "metadata": {},
      "outputs": [
        {
          "data": {
            "text/plain": [
              "<AxesSubplot:>"
            ]
          },
          "execution_count": 28,
          "metadata": {},
          "output_type": "execute_result"
        },
        {
          "data": {
            "image/png": "[encoded data removed]",
            "text/plain": [
              "<Figure size 216x576 with 1 Axes>"
            ]
          },
          "metadata": {
            "needs_background": "light"
          },
          "output_type": "display_data"
        }
      ],
      "execution_count": 28
    },
    {
      "cell_type": "markdown",
      "source": "Очевидно, что квартиры площадью более 400 метров - редкое исключение, их также можно исключить. Перезапишем данные в очищенный датафрейм.",
      "metadata": {}
    },
    {
      "cell_type": "code",
      "source": "clear_data = data.query('0 < total_area < 400').reset_index(drop=True)",
      "metadata": {},
      "outputs": [],
      "execution_count": 29
    },
    {
      "cell_type": "markdown",
      "source": "Теперь обратим внимание на столбец ceiling_height",
      "metadata": {}
    },
    {
      "cell_type": "code",
      "source": "data.boxplot(column='ceiling_height', figsize=(1, 10))\nplt.ylim([0, 40])",
      "metadata": {},
      "outputs": [
        {
          "data": {
            "text/plain": [
              "(0.0, 40.0)"
            ]
          },
          "execution_count": 30,
          "metadata": {},
          "output_type": "execute_result"
        },
        {
          "data": {
            "image/png": "[encoded data removed]",
            "text/plain": [
              "<Figure size 72x720 with 1 Axes>"
            ]
          },
          "metadata": {
            "needs_background": "light"
          },
          "output_type": "display_data"
        }
      ],
      "execution_count": 30
    },
    {
      "cell_type": "markdown",
      "source": "Из диаграммы видно, что значения выше 20 метров встречаются, можно предположить, что данные были введены не корректно, и вместо 2.4 записали 24, к примеру. Исправим это",
      "metadata": {}
    },
    {
      "cell_type": "code",
      "source": "def ceil_height(height):\n    if 20 <= height <= 40:\n        return height / 10\n    return height",
      "metadata": {},
      "outputs": [],
      "execution_count": 31
    },
    {
      "cell_type": "code",
      "source": "clear_data = clear_data.query('ceiling_height < 40').reset_index(drop=True)\nclear_data['ceiling_height'] = clear_data['ceiling_height'].apply(ceil_height).reset_index(drop=True)",
      "metadata": {},
      "outputs": [],
      "execution_count": 32
    },
    {
      "cell_type": "code",
      "source": "clear_data.boxplot(column='ceiling_height', figsize=(1, 6))",
      "metadata": {},
      "outputs": [
        {
          "data": {
            "text/plain": [
              "<AxesSubplot:>"
            ]
          },
          "execution_count": 33,
          "metadata": {},
          "output_type": "execute_result"
        },
        {
          "data": {
            "image/png": "[encoded data removed]",
            "text/plain": [
              "<Figure size 72x432 with 1 Axes>"
            ]
          },
          "metadata": {
            "needs_background": "light"
          },
          "output_type": "display_data"
        }
      ],
      "execution_count": 33
    },
    {
      "cell_type": "markdown",
      "source": "Значения высоты полотка менее 2 м и более 6 м являются редкими, и их можно отбросить. Сформируем новый набор данных, исключив эти значения:",
      "metadata": {}
    },
    {
      "cell_type": "code",
      "source": "clear_data['ceiling_height'] = clear_data.query('2 <= ceiling_height < 6').reset_index(drop=True)",
      "metadata": {},
      "outputs": [],
      "execution_count": 34
    },
    {
      "cell_type": "markdown",
      "source": "Теперь мы можем заполнить оставшиеся пропуски медианным значением ceiling_height",
      "metadata": {}
    },
    {
      "cell_type": "code",
      "source": "clear_data['ceiling_height'] = clear_data['ceiling_height'].fillna(clear_data['ceiling_height'].median())\nclear_data['ceiling_height'].isna().sum()",
      "metadata": {},
      "outputs": [
        {
          "data": {
            "text/plain": [
              "0"
            ]
          },
          "execution_count": 35,
          "metadata": {},
          "output_type": "execute_result"
        }
      ],
      "execution_count": 35
    },
    {
      "cell_type": "markdown",
      "source": "Рассмотрим столбец living_area",
      "metadata": {}
    },
    {
      "cell_type": "code",
      "source": "data.boxplot(column='living_area', figsize=(1, 8))",
      "metadata": {},
      "outputs": [
        {
          "data": {
            "text/plain": [
              "<AxesSubplot:>"
            ]
          },
          "execution_count": 36,
          "metadata": {},
          "output_type": "execute_result"
        },
        {
          "data": {
            "image/png": "[encoded data removed]",
            "text/plain": [
              "<Figure size 72x576 with 1 Axes>"
            ]
          },
          "metadata": {
            "needs_background": "light"
          },
          "output_type": "display_data"
        }
      ],
      "execution_count": 36
    },
    {
      "cell_type": "markdown",
      "source": "По графику видно, что значения после 200 являюься редкими, их можно отбросить, внесем эту корректировку в наш датафрейм",
      "metadata": {}
    },
    {
      "cell_type": "code",
      "source": "clear_data = clear_data.query('0 < living_area < 200').reset_index(drop=True)\nclear_data['living_area'].isna().sum()",
      "metadata": {},
      "outputs": [
        {
          "data": {
            "text/plain": [
              "0"
            ]
          },
          "execution_count": 37,
          "metadata": {},
          "output_type": "execute_result"
        }
      ],
      "execution_count": 37
    },
    {
      "cell_type": "markdown",
      "source": "Посмотрим на оставшиеся пустые значение living_area",
      "metadata": {}
    },
    {
      "cell_type": "code",
      "source": "len(clear_data)",
      "metadata": {},
      "outputs": [
        {
          "data": {
            "text/plain": [
              "14453"
            ]
          },
          "execution_count": 38,
          "metadata": {},
          "output_type": "execute_result"
        }
      ],
      "execution_count": 38
    },
    {
      "cell_type": "code",
      "source": "clear_data[clear_data['living_area'].isna()]",
      "metadata": {},
      "outputs": [
        {
          "data": {
            "text/html": [
              "<div>\n",
              "<style scoped>\n",
              "    .dataframe tbody tr th:only-of-type {\n",
              "        vertical-align: middle;\n",
              "    }\n",
              "\n",
              "    .dataframe tbody tr th {\n",
              "        vertical-align: top;\n",
              "    }\n",
              "\n",
              "    .dataframe thead th {\n",
              "        text-align: right;\n",
              "    }\n",
              "</style>\n",
              "<table border=\"1\" class=\"dataframe\">\n",
              "  <thead>\n",
              "    <tr style=\"text-align: right;\">\n",
              "      <th></th>\n",
              "      <th>total_images</th>\n",
              "      <th>last_price</th>\n",
              "      <th>total_area</th>\n",
              "      <th>first_day_exposition</th>\n",
              "      <th>rooms</th>\n",
              "      <th>ceiling_height</th>\n",
              "      <th>floors_total</th>\n",
              "      <th>living_area</th>\n",
              "      <th>floor</th>\n",
              "      <th>is_apartment</th>\n",
              "      <th>studio</th>\n",
              "      <th>open_plan</th>\n",
              "      <th>kitchen_area</th>\n",
              "      <th>balcony</th>\n",
              "      <th>locality_name</th>\n",
              "      <th>airports_nearest</th>\n",
              "      <th>cityCenters_nearest</th>\n",
              "      <th>parks_around3000</th>\n",
              "      <th>parks_nearest</th>\n",
              "      <th>ponds_around3000</th>\n",
              "      <th>ponds_nearest</th>\n",
              "      <th>days_exposition</th>\n",
              "    </tr>\n",
              "  </thead>\n",
              "  <tbody>\n",
              "  </tbody>\n",
              "</table>\n",
              "</div>"
            ],
            "text/plain": [
              "Empty DataFrame\n",
              "Columns: [total_images, last_price, total_area, first_day_exposition, rooms, ceiling_height, floors_total, living_area, floor, is_apartment, studio, open_plan, kitchen_area, balcony, locality_name, airports_nearest, cityCenters_nearest, parks_around3000, parks_nearest, ponds_around3000, ponds_nearest, days_exposition]\n",
              "Index: []"
            ]
          },
          "execution_count": 39,
          "metadata": {},
          "output_type": "execute_result"
        }
      ],
      "execution_count": 39
    },
    {
      "cell_type": "markdown",
      "source": "Можно исключить эти значения, т.к. строки где total_area < 10 - либо ошибочны, либо не являются жилыми помещениями. Оставшиеся строки имеют слишком большое количество пропусков в столбцах, больше 50%, маловероятно, что эти данные будут нам полезны для расчетов.",
      "metadata": {}
    },
    {
      "cell_type": "code",
      "source": "clear_data = clear_data.dropna(subset = ['living_area'])",
      "metadata": {
        "scrolled": true
      },
      "outputs": [],
      "execution_count": 40
    },
    {
      "cell_type": "code",
      "source": "len(clear_data)",
      "metadata": {},
      "outputs": [
        {
          "data": {
            "text/plain": [
              "14453"
            ]
          },
          "execution_count": 41,
          "metadata": {},
          "output_type": "execute_result"
        }
      ],
      "execution_count": 41
    },
    {
      "cell_type": "markdown",
      "source": "Взглянем на столбцы floors_total и floor",
      "metadata": {}
    },
    {
      "cell_type": "code",
      "source": "clear_data.boxplot(column='floors_total', figsize=(1, 6))",
      "metadata": {},
      "outputs": [
        {
          "data": {
            "text/plain": [
              "<AxesSubplot:>"
            ]
          },
          "execution_count": 42,
          "metadata": {},
          "output_type": "execute_result"
        },
        {
          "data": {
            "image/png": "[encoded data removed]",
            "text/plain": [
              "<Figure size 72x432 with 1 Axes>"
            ]
          },
          "metadata": {
            "needs_background": "light"
          },
          "output_type": "display_data"
        }
      ],
      "execution_count": 42
    },
    {
      "cell_type": "markdown",
      "source": "Значение выше 30 посчитаем за выброс и избавимся от них",
      "metadata": {}
    },
    {
      "cell_type": "code",
      "source": "clear_data = clear_data.query('floors_total < 40').reset_index(drop=True)",
      "metadata": {},
      "outputs": [],
      "execution_count": 43
    },
    {
      "cell_type": "code",
      "source": "len(clear_data)",
      "metadata": {},
      "outputs": [
        {
          "data": {
            "text/plain": [
              "14451"
            ]
          },
          "execution_count": 44,
          "metadata": {},
          "output_type": "execute_result"
        }
      ],
      "execution_count": 44
    },
    {
      "cell_type": "code",
      "source": "clear_data.boxplot(column='floors_total', figsize=(1, 6))",
      "metadata": {},
      "outputs": [
        {
          "data": {
            "text/plain": [
              "<AxesSubplot:>"
            ]
          },
          "execution_count": 45,
          "metadata": {},
          "output_type": "execute_result"
        },
        {
          "data": {
            "image/png": "[encoded data removed]",
            "text/plain": [
              "<Figure size 72x432 with 1 Axes>"
            ]
          },
          "metadata": {
            "needs_background": "light"
          },
          "output_type": "display_data"
        }
      ],
      "execution_count": 45
    },
    {
      "cell_type": "code",
      "source": "clear_data.boxplot(column='floor', figsize=(1, 6))",
      "metadata": {},
      "outputs": [
        {
          "data": {
            "text/plain": [
              "<AxesSubplot:>"
            ]
          },
          "execution_count": 46,
          "metadata": {},
          "output_type": "execute_result"
        },
        {
          "data": {
            "image/png": "[encoded data removed]",
            "text/plain": [
              "<Figure size 72x432 with 1 Axes>"
            ]
          },
          "metadata": {
            "needs_background": "light"
          },
          "output_type": "display_data"
        }
      ],
      "execution_count": 46
    },
    {
      "cell_type": "markdown",
      "source": "По графику заметно, что значения выше 25 являются редкими, можно их отбросить",
      "metadata": {}
    },
    {
      "cell_type": "code",
      "source": "clear_data = clear_data.query('floor <= 25').reset_index(drop=True)\nlen(clear_data)",
      "metadata": {},
      "outputs": [
        {
          "data": {
            "text/plain": [
              "14434"
            ]
          },
          "execution_count": 47,
          "metadata": {},
          "output_type": "execute_result"
        }
      ],
      "execution_count": 47
    },
    {
      "cell_type": "markdown",
      "source": "Разберемся с последним столбцом - kitchen_area",
      "metadata": {}
    },
    {
      "cell_type": "code",
      "source": "clear_data.boxplot(column='kitchen_area', figsize=(1, 6))",
      "metadata": {},
      "outputs": [
        {
          "data": {
            "text/plain": [
              "<AxesSubplot:>"
            ]
          },
          "execution_count": 48,
          "metadata": {},
          "output_type": "execute_result"
        },
        {
          "data": {
            "image/png": "[encoded data removed]",
            "text/plain": [
              "<Figure size 72x432 with 1 Axes>"
            ]
          },
          "metadata": {
            "needs_background": "light"
          },
          "output_type": "display_data"
        }
      ],
      "execution_count": 48
    },
    {
      "cell_type": "markdown",
      "source": "Значения выше 75 являются редкими - избавимся от них, поскольку они не дают четкого предствляения общей ситуации.",
      "metadata": {}
    },
    {
      "cell_type": "code",
      "source": "clear_data = clear_data.query('kitchen_area <= 70').reset_index(drop=True)\nlen(clear_data)",
      "metadata": {},
      "outputs": [
        {
          "data": {
            "text/plain": [
              "13499"
            ]
          },
          "execution_count": 49,
          "metadata": {},
          "output_type": "execute_result"
        }
      ],
      "execution_count": 49
    },
    {
      "cell_type": "code",
      "source": "clear_data.boxplot(column='kitchen_area', figsize=(1, 6))",
      "metadata": {},
      "outputs": [
        {
          "data": {
            "text/plain": [
              "<AxesSubplot:>"
            ]
          },
          "execution_count": 50,
          "metadata": {},
          "output_type": "execute_result"
        },
        {
          "data": {
            "image/png": "[encoded data removed]",
            "text/plain": [
              "<Figure size 72x432 with 1 Axes>"
            ]
          },
          "metadata": {
            "needs_background": "light"
          },
          "output_type": "display_data"
        }
      ],
      "execution_count": 50
    },
    {
      "cell_type": "markdown",
      "source": "В результате визуализации данных по столбцам rooms, total_area, ceiling_height, living_area, floors_total, floor и kitchen_area мы определили выбросы в данных и избавились от редких, выбивающихся значений. Благодаря этому, наши дальнейшие расчеты будут более приближены к реальной и более актуальной обстановке на рынке недвижимости. ",
      "metadata": {}
    },
    {
      "cell_type": "markdown",
      "source": "## Расчет и добавление в таблицу новых столбцов",
      "metadata": {}
    },
    {
      "cell_type": "markdown",
      "source": "Определим цену одного квадратного метра",
      "metadata": {}
    },
    {
      "cell_type": "code",
      "source": "clear_data['price_per_meter'] = round((clear_data['last_price']/clear_data['total_area']), 2)\nclear_data['price_per_meter']",
      "metadata": {},
      "outputs": [
        {
          "data": {
            "text/plain": [
              "0        120370.37\n",
              "1        100000.00\n",
              "2         88524.59\n",
              "3        127525.25\n",
              "4         82943.93\n",
              "           ...    \n",
              "13494    129903.98\n",
              "13495     73717.95\n",
              "13496     72490.85\n",
              "13497    149511.40\n",
              "13498     41795.67\n",
              "Name: price_per_meter, Length: 13499, dtype: float64"
            ]
          },
          "execution_count": 51,
          "metadata": {},
          "output_type": "execute_result"
        }
      ],
      "execution_count": 51
    },
    {
      "cell_type": "markdown",
      "source": "Определим день публикации объявления",
      "metadata": {}
    },
    {
      "cell_type": "code",
      "source": "clear_data['publication_weekday'] = clear_data['first_day_exposition'].dt.weekday\nclear_data['publication_weekday']",
      "metadata": {},
      "outputs": [
        {
          "data": {
            "text/plain": [
              "0        3\n",
              "1        1\n",
              "2        6\n",
              "3        3\n",
              "4        5\n",
              "        ..\n",
              "13494    3\n",
              "13495    4\n",
              "13496    1\n",
              "13497    1\n",
              "13498    4\n",
              "Name: publication_weekday, Length: 13499, dtype: int64"
            ]
          },
          "execution_count": 52,
          "metadata": {},
          "output_type": "execute_result"
        }
      ],
      "execution_count": 52
    },
    {
      "cell_type": "markdown",
      "source": "Определим месяц публикации объявления",
      "metadata": {}
    },
    {
      "cell_type": "code",
      "source": "clear_data['publication_month'] = clear_data['first_day_exposition'].dt.month\nclear_data['publication_month']",
      "metadata": {},
      "outputs": [
        {
          "data": {
            "text/plain": [
              "0         3\n",
              "1         6\n",
              "2         2\n",
              "3        11\n",
              "4         7\n",
              "         ..\n",
              "13494    10\n",
              "13495     8\n",
              "13496     3\n",
              "13497     3\n",
              "13498     7\n",
              "Name: publication_month, Length: 13499, dtype: int64"
            ]
          },
          "execution_count": 53,
          "metadata": {},
          "output_type": "execute_result"
        }
      ],
      "execution_count": 53
    },
    {
      "cell_type": "markdown",
      "source": "Определим месяц в конкретном году, для удобства понимания временного периода",
      "metadata": {}
    },
    {
      "cell_type": "code",
      "source": "clear_data['exposition_month_of_the_year'] = clear_data.first_day_exposition.astype('datetime64[M]')\nclear_data['exposition_month_of_the_year'].head()",
      "metadata": {},
      "outputs": [
        {
          "data": {
            "text/plain": [
              "0   2019-03-01\n",
              "1   2018-06-01\n",
              "2   2017-02-01\n",
              "3   2017-11-01\n",
              "4   2017-07-01\n",
              "Name: exposition_month_of_the_year, dtype: datetime64[ns]"
            ]
          },
          "execution_count": 54,
          "metadata": {},
          "output_type": "execute_result"
        }
      ],
      "execution_count": 54
    },
    {
      "cell_type": "code",
      "source": "clear_data['publication_year'] = clear_data['first_day_exposition'].dt.year\nclear_data['publication_year']",
      "metadata": {},
      "outputs": [
        {
          "data": {
            "text/plain": [
              "0        2019\n",
              "1        2018\n",
              "2        2017\n",
              "3        2017\n",
              "4        2017\n",
              "         ... \n",
              "13494    2016\n",
              "13495    2016\n",
              "13496    2017\n",
              "13497    2017\n",
              "13498    2017\n",
              "Name: publication_year, Length: 13499, dtype: int64"
            ]
          },
          "execution_count": 55,
          "metadata": {},
          "output_type": "execute_result"
        }
      ],
      "execution_count": 55
    },
    {
      "cell_type": "markdown",
      "source": "Разобъем колонку floor на группы, для удобства восприятия и анализа информации.",
      "metadata": {}
    },
    {
      "cell_type": "code",
      "source": "def floor_definition(row):\n    if row['floor']==1:\n        return 'первый'\n    elif row['floor'] == row['floors_total']:\n        return 'последний'\n    else:\n        return 'другой'\nclear_data['floor_type'] = clear_data.apply(floor_definition, axis=1)\nclear_data['floor_type']",
      "metadata": {},
      "outputs": [
        {
          "data": {
            "text/plain": [
              "0           другой\n",
              "1           другой\n",
              "2           другой\n",
              "3           другой\n",
              "4        последний\n",
              "           ...    \n",
              "13494       другой\n",
              "13495       другой\n",
              "13496       другой\n",
              "13497       другой\n",
              "13498       первый\n",
              "Name: floor_type, Length: 13499, dtype: object"
            ]
          },
          "execution_count": 56,
          "metadata": {},
          "output_type": "execute_result"
        }
      ],
      "execution_count": 56
    },
    {
      "cell_type": "markdown",
      "source": "Определение расстрояния до центра города",
      "metadata": {}
    },
    {
      "cell_type": "code",
      "source": "clear_data['cityCenters_nearest_km'] = round(clear_data['cityCenters_nearest']/1000)\nclear_data['cityCenters_nearest_km']",
      "metadata": {
        "scrolled": true
      },
      "outputs": [
        {
          "data": {
            "text/plain": [
              "0        16.0\n",
              "1         8.0\n",
              "2        15.0\n",
              "3        14.0\n",
              "4        33.0\n",
              "         ... \n",
              "13494     4.0\n",
              "13495    34.0\n",
              "13496     4.0\n",
              "13497    10.0\n",
              "13498     NaN\n",
              "Name: cityCenters_nearest_km, Length: 13499, dtype: float64"
            ]
          },
          "execution_count": 57,
          "metadata": {},
          "output_type": "execute_result"
        }
      ],
      "execution_count": 57
    },
    {
      "cell_type": "markdown",
      "source": "## Проведение исследовательского анализа данных",
      "metadata": {}
    },
    {
      "cell_type": "markdown",
      "source": "Общая площадь",
      "metadata": {}
    },
    {
      "cell_type": "code",
      "source": "clear_data['total_area'].hist(bins=35, range=(0,150))",
      "metadata": {},
      "outputs": [
        {
          "data": {
            "text/plain": [
              "<AxesSubplot:>"
            ]
          },
          "execution_count": 58,
          "metadata": {},
          "output_type": "execute_result"
        },
        {
          "data": {
            "image/png": "[encoded data removed]",
            "text/plain": [
              "<Figure size 432x288 with 1 Axes>"
            ]
          },
          "metadata": {
            "needs_background": "light"
          },
          "output_type": "display_data"
        }
      ],
      "execution_count": 58
    },
    {
      "cell_type": "markdown",
      "source": "В данных преобладают квартиры площадью 45 квадратных метров, так же, достаточно много квартир площадью от 35-40 кв.м, должно быть все это однокомнатные квартиры.",
      "metadata": {}
    },
    {
      "cell_type": "markdown",
      "source": "Жилая площадь",
      "metadata": {}
    },
    {
      "cell_type": "code",
      "source": "clear_data['living_area'].hist(bins=40, range=(0,150))",
      "metadata": {},
      "outputs": [
        {
          "data": {
            "text/plain": [
              "<AxesSubplot:>"
            ]
          },
          "execution_count": 59,
          "metadata": {},
          "output_type": "execute_result"
        },
        {
          "data": {
            "image/png": "[encoded data removed]",
            "text/plain": [
              "<Figure size 432x288 with 1 Axes>"
            ]
          },
          "metadata": {
            "needs_background": "light"
          },
          "output_type": "display_data"
        }
      ],
      "execution_count": 59
    },
    {
      "cell_type": "markdown",
      "source": "Преобладают лоты с жилой площадью в 18-19 кв.м, за ними следуют позиции с жилой площадью в 35 кв.м",
      "metadata": {}
    },
    {
      "cell_type": "markdown",
      "source": "Площадь кухни",
      "metadata": {}
    },
    {
      "cell_type": "code",
      "source": "clear_data['kitchen_area'].hist(bins=30, range=(0,40))",
      "metadata": {},
      "outputs": [
        {
          "data": {
            "text/plain": [
              "<AxesSubplot:>"
            ]
          },
          "execution_count": 60,
          "metadata": {},
          "output_type": "execute_result"
        },
        {
          "data": {
            "image/png": "[encoded data removed]",
            "text/plain": [
              "<Figure size 432x288 with 1 Axes>"
            ]
          },
          "metadata": {
            "needs_background": "light"
          },
          "output_type": "display_data"
        }
      ],
      "execution_count": 60
    },
    {
      "cell_type": "markdown",
      "source": "На рынке преобладают объекты с площадью кухни 6-12 кв.м, чаще площадью кухни составляет 8-9 кв.м",
      "metadata": {}
    },
    {
      "cell_type": "markdown",
      "source": "Цена объекта",
      "metadata": {}
    },
    {
      "cell_type": "code",
      "source": "clear_data['last_price'].hist(bins=50, range=(0,10000000))",
      "metadata": {},
      "outputs": [
        {
          "data": {
            "text/plain": [
              "<AxesSubplot:>"
            ]
          },
          "execution_count": 61,
          "metadata": {},
          "output_type": "execute_result"
        },
        {
          "data": {
            "image/png": "[encoded data removed]",
            "text/plain": [
              "<Figure size 432x288 with 1 Axes>"
            ]
          },
          "metadata": {
            "needs_background": "light"
          },
          "output_type": "display_data"
        }
      ],
      "execution_count": 61
    },
    {
      "cell_type": "markdown",
      "source": "Распределение цены очень похоже на нормальное, наиболее часто встречающаяся цена находится в диапазоне 3,5 - 5 млн.руб.",
      "metadata": {}
    },
    {
      "cell_type": "markdown",
      "source": "Количетство комнат",
      "metadata": {}
    },
    {
      "cell_type": "code",
      "source": "clear_data['rooms'].hist(bins=10, range=(0, 10))",
      "metadata": {},
      "outputs": [
        {
          "data": {
            "text/plain": [
              "<AxesSubplot:>"
            ]
          },
          "execution_count": 62,
          "metadata": {},
          "output_type": "execute_result"
        },
        {
          "data": {
            "image/png": "[encoded data removed]",
            "text/plain": [
              "<Figure size 432x288 with 1 Axes>"
            ]
          },
          "metadata": {
            "needs_background": "light"
          },
          "output_type": "display_data"
        }
      ],
      "execution_count": 62
    },
    {
      "cell_type": "markdown",
      "source": "Преобладают однокомнатные и двухкомнатные квартиры, замыкают тройку лидеров - четырехкомнатные квартиры. Объекты недвижимости с 5 комнатами и более - редкость.",
      "metadata": {}
    },
    {
      "cell_type": "markdown",
      "source": "Высота потолков",
      "metadata": {}
    },
    {
      "cell_type": "code",
      "source": "clear_data['ceiling_height'].hist(bins=30, range=(2, 6))",
      "metadata": {},
      "outputs": [
        {
          "data": {
            "text/plain": [
              "<AxesSubplot:>"
            ]
          },
          "execution_count": 63,
          "metadata": {},
          "output_type": "execute_result"
        },
        {
          "data": {
            "image/png": "[encoded data removed]",
            "text/plain": [
              "<Figure size 432x288 with 1 Axes>"
            ]
          },
          "metadata": {
            "needs_background": "light"
          },
          "output_type": "display_data"
        }
      ],
      "execution_count": 63
    },
    {
      "cell_type": "markdown",
      "source": "В основном, высота потолков около 2.5-2.6, что в целом вполне объективно. Потолки в квартирах старого фонда редко превышают 2.5 метра, а потолки в новостроках эконом класса - чуть повыше. ",
      "metadata": {}
    },
    {
      "cell_type": "markdown",
      "source": "Этаж квартиры",
      "metadata": {}
    },
    {
      "cell_type": "code",
      "source": "clear_data['floor'].hist(bins=30, range=(0, 30))",
      "metadata": {},
      "outputs": [
        {
          "data": {
            "text/plain": [
              "<AxesSubplot:>"
            ]
          },
          "execution_count": 64,
          "metadata": {},
          "output_type": "execute_result"
        },
        {
          "data": {
            "image/png": "[encoded data removed]",
            "text/plain": [
              "<Figure size 432x288 with 1 Axes>"
            ]
          },
          "metadata": {
            "needs_background": "light"
          },
          "output_type": "display_data"
        }
      ],
      "execution_count": 64
    },
    {
      "cell_type": "markdown",
      "source": "В основном, в продаже находятся квартиры до 6 этажа.",
      "metadata": {}
    },
    {
      "cell_type": "markdown",
      "source": "Тип этажа",
      "metadata": {}
    },
    {
      "cell_type": "code",
      "source": "clear_data['floor_type'].hist(bins=3)",
      "metadata": {},
      "outputs": [
        {
          "data": {
            "text/plain": [
              "<AxesSubplot:>"
            ]
          },
          "execution_count": 65,
          "metadata": {},
          "output_type": "execute_result"
        },
        {
          "data": {
            "image/png": "[encoded data removed]",
            "text/plain": [
              "<Figure size 432x288 with 1 Axes>"
            ]
          },
          "metadata": {
            "needs_background": "light"
          },
          "output_type": "display_data"
        }
      ],
      "execution_count": 65
    },
    {
      "cell_type": "markdown",
      "source": "Пожавляющее большинство продаваемых квартир находятся не на первых и не на последних этажах.",
      "metadata": {}
    },
    {
      "cell_type": "markdown",
      "source": "Общее количество этажей в доме",
      "metadata": {}
    },
    {
      "cell_type": "code",
      "source": "clear_data['floors_total'].hist(bins=30, range=(0, 39))",
      "metadata": {},
      "outputs": [
        {
          "data": {
            "text/plain": [
              "<AxesSubplot:>"
            ]
          },
          "execution_count": 66,
          "metadata": {},
          "output_type": "execute_result"
        },
        {
          "data": {
            "image/png": "[encoded data removed]",
            "text/plain": [
              "<Figure size 432x288 with 1 Axes>"
            ]
          },
          "metadata": {
            "needs_background": "light"
          },
          "output_type": "display_data"
        }
      ],
      "execution_count": 66
    },
    {
      "cell_type": "markdown",
      "source": "Наибольшее количество квартир продаются в 5 и 9 этажных домах.",
      "metadata": {}
    },
    {
      "cell_type": "markdown",
      "source": "Расстояние до центра города в метрах",
      "metadata": {}
    },
    {
      "cell_type": "code",
      "source": "clear_data['cityCenters_nearest'].hist(bins=30)",
      "metadata": {},
      "outputs": [
        {
          "data": {
            "text/plain": [
              "<AxesSubplot:>"
            ]
          },
          "execution_count": 67,
          "metadata": {},
          "output_type": "execute_result"
        },
        {
          "data": {
            "image/png": "[encoded data removed]",
            "text/plain": [
              "<Figure size 432x288 with 1 Axes>"
            ]
          },
          "metadata": {
            "needs_background": "light"
          },
          "output_type": "display_data"
        }
      ],
      "execution_count": 67
    },
    {
      "cell_type": "markdown",
      "source": "Больше всего продаются квартиры отдаленные от центра на 12-16км.",
      "metadata": {}
    },
    {
      "cell_type": "markdown",
      "source": "Расстояние до блиайшего аэропорта в метрах",
      "metadata": {}
    },
    {
      "cell_type": "code",
      "source": "clear_data['airports_nearest'].hist(bins=30, range=(0, 80000))",
      "metadata": {},
      "outputs": [
        {
          "data": {
            "text/plain": [
              "<AxesSubplot:>"
            ]
          },
          "execution_count": 68,
          "metadata": {},
          "output_type": "execute_result"
        },
        {
          "data": {
            "image/png": "[encoded data removed]",
            "text/plain": [
              "<Figure size 432x288 with 1 Axes>"
            ]
          },
          "metadata": {
            "needs_background": "light"
          },
          "output_type": "display_data"
        }
      ],
      "execution_count": 68
    },
    {
      "cell_type": "markdown",
      "source": "Данные удаленности от аэропорта сильно разбросаны, однако в объявлениях преобладают квартиры на 14-26км удаленные от блжайшего аэропорта.",
      "metadata": {}
    },
    {
      "cell_type": "markdown",
      "source": "Расстояние до ближайшего парка",
      "metadata": {}
    },
    {
      "cell_type": "code",
      "source": "clear_data['parks_nearest'].hist(bins=30, range=(0, 1500))",
      "metadata": {},
      "outputs": [
        {
          "data": {
            "text/plain": [
              "<AxesSubplot:>"
            ]
          },
          "execution_count": 69,
          "metadata": {},
          "output_type": "execute_result"
        },
        {
          "data": {
            "image/png": "[encoded data removed]",
            "text/plain": [
              "<Figure size 432x288 with 1 Axes>"
            ]
          },
          "metadata": {
            "needs_background": "light"
          },
          "output_type": "display_data"
        }
      ],
      "execution_count": 69
    },
    {
      "cell_type": "markdown",
      "source": "Самые популярные квартиры в продаже имеют парк в радиусе 350-550 метров",
      "metadata": {}
    },
    {
      "cell_type": "markdown",
      "source": "Данные по дню публикации",
      "metadata": {}
    },
    {
      "cell_type": "code",
      "source": "clear_data['publication_weekday'].hist(bins=6)",
      "metadata": {},
      "outputs": [
        {
          "data": {
            "text/plain": [
              "<AxesSubplot:>"
            ]
          },
          "execution_count": 70,
          "metadata": {},
          "output_type": "execute_result"
        },
        {
          "data": {
            "image/png": "[encoded data removed]",
            "text/plain": [
              "<Figure size 432x288 with 1 Axes>"
            ]
          },
          "metadata": {
            "needs_background": "light"
          },
          "output_type": "display_data"
        }
      ],
      "execution_count": 70
    },
    {
      "cell_type": "markdown",
      "source": "Публикация объявлений о продаже распределена по дням недели равномерно, с небольшим преобладанием во вторник и четверг.",
      "metadata": {}
    },
    {
      "cell_type": "markdown",
      "source": "Месяц публикации",
      "metadata": {}
    },
    {
      "cell_type": "code",
      "source": "clear_data['publication_month'].hist(bins=11)",
      "metadata": {},
      "outputs": [
        {
          "data": {
            "text/plain": [
              "<AxesSubplot:>"
            ]
          },
          "execution_count": 71,
          "metadata": {},
          "output_type": "execute_result"
        },
        {
          "data": {
            "image/png": "[encoded data removed]",
            "text/plain": [
              "<Figure size 432x288 with 1 Axes>"
            ]
          },
          "metadata": {
            "needs_background": "light"
          },
          "output_type": "display_data"
        }
      ],
      "execution_count": 71
    },
    {
      "cell_type": "markdown",
      "source": "Можно заметить, что активно публикуют информацию о продажах квартир под конец года",
      "metadata": {}
    },
    {
      "cell_type": "markdown",
      "source": "Скорость продажи квартир",
      "metadata": {}
    },
    {
      "cell_type": "code",
      "source": "clear_data['days_exposition'].hist(bins=15)",
      "metadata": {},
      "outputs": [
        {
          "data": {
            "text/plain": [
              "<AxesSubplot:>"
            ]
          },
          "execution_count": 72,
          "metadata": {},
          "output_type": "execute_result"
        },
        {
          "data": {
            "image/png": "[encoded data removed]",
            "text/plain": [
              "<Figure size 432x288 with 1 Axes>"
            ]
          },
          "metadata": {
            "needs_background": "light"
          },
          "output_type": "display_data"
        }
      ],
      "execution_count": 72
    },
    {
      "cell_type": "code",
      "source": "clear_data['days_exposition'].describe()",
      "metadata": {},
      "outputs": [
        {
          "data": {
            "text/plain": [
              "count    11175.000000\n",
              "mean       192.885369\n",
              "std        229.713170\n",
              "min          1.000000\n",
              "25%         45.000000\n",
              "50%        107.000000\n",
              "75%        251.000000\n",
              "max       1580.000000\n",
              "Name: days_exposition, dtype: float64"
            ]
          },
          "execution_count": 73,
          "metadata": {},
          "output_type": "execute_result"
        }
      ],
      "execution_count": 73
    },
    {
      "cell_type": "markdown",
      "source": "Попробуем поменять масштаб, что бы шире взглянуть на данные",
      "metadata": {}
    },
    {
      "cell_type": "code",
      "source": "clear_data['days_exposition'].hist(bins=200, range=(0, 200))",
      "metadata": {},
      "outputs": [
        {
          "data": {
            "text/plain": [
              "<AxesSubplot:>"
            ]
          },
          "execution_count": 74,
          "metadata": {},
          "output_type": "execute_result"
        },
        {
          "data": {
            "image/png": "[encoded data removed]",
            "text/plain": [
              "<Figure size 432x288 with 1 Axes>"
            ]
          },
          "metadata": {
            "needs_background": "light"
          },
          "output_type": "display_data"
        }
      ],
      "execution_count": 74
    },
    {
      "cell_type": "code",
      "source": "clear_data['days_exposition'].value_counts().head(15)",
      "metadata": {},
      "outputs": [
        {
          "data": {
            "text/plain": [
              "45.0    262\n",
              "60.0    205\n",
              "7.0     144\n",
              "30.0    143\n",
              "4.0     101\n",
              "3.0      89\n",
              "8.0      85\n",
              "90.0     84\n",
              "18.0     83\n",
              "14.0     83\n",
              "28.0     81\n",
              "5.0      81\n",
              "9.0      77\n",
              "11.0     73\n",
              "29.0     71\n",
              "Name: days_exposition, dtype: int64"
            ]
          },
          "execution_count": 75,
          "metadata": {},
          "output_type": "execute_result"
        }
      ],
      "execution_count": 75
    },
    {
      "cell_type": "markdown",
      "source": "Интересно, что чаще всего квартиры продают за 45 и 60 дней после публикации. Медиана по продаже квартир 107 дней, среднее значение отличается - 192 дня, из-за наличия длительных продаж более чем в 4 года.",
      "metadata": {}
    },
    {
      "cell_type": "markdown",
      "source": "## Изучение факторов, влияющих на общую (полную) стоимость объекта.",
      "metadata": {}
    },
    {
      "cell_type": "markdown",
      "source": "### Корреляция общей стоимости и общей площади",
      "metadata": {}
    },
    {
      "cell_type": "code",
      "source": "clear_data.pivot_table(index='last_price', values='total_area', aggfunc='median').sort_values(by='last_price', ascending=False).head(15)",
      "metadata": {},
      "outputs": [
        {
          "data": {
            "text/html": [
              "<div>\n",
              "<style scoped>\n",
              "    .dataframe tbody tr th:only-of-type {\n",
              "        vertical-align: middle;\n",
              "    }\n",
              "\n",
              "    .dataframe tbody tr th {\n",
              "        vertical-align: top;\n",
              "    }\n",
              "\n",
              "    .dataframe thead th {\n",
              "        text-align: right;\n",
              "    }\n",
              "</style>\n",
              "<table border=\"1\" class=\"dataframe\">\n",
              "  <thead>\n",
              "    <tr style=\"text-align: right;\">\n",
              "      <th></th>\n",
              "      <th>total_area</th>\n",
              "    </tr>\n",
              "    <tr>\n",
              "      <th>last_price</th>\n",
              "      <th></th>\n",
              "    </tr>\n",
              "  </thead>\n",
              "  <tbody>\n",
              "    <tr>\n",
              "      <th>330000000</th>\n",
              "      <td>190.0</td>\n",
              "    </tr>\n",
              "    <tr>\n",
              "      <th>289238400</th>\n",
              "      <td>187.5</td>\n",
              "    </tr>\n",
              "    <tr>\n",
              "      <th>245000000</th>\n",
              "      <td>285.7</td>\n",
              "    </tr>\n",
              "    <tr>\n",
              "      <th>159984000</th>\n",
              "      <td>242.4</td>\n",
              "    </tr>\n",
              "    <tr>\n",
              "      <th>155000000</th>\n",
              "      <td>310.0</td>\n",
              "    </tr>\n",
              "    <tr>\n",
              "      <th>135000000</th>\n",
              "      <td>166.0</td>\n",
              "    </tr>\n",
              "    <tr>\n",
              "      <th>130000000</th>\n",
              "      <td>231.0</td>\n",
              "    </tr>\n",
              "    <tr>\n",
              "      <th>124350000</th>\n",
              "      <td>248.7</td>\n",
              "    </tr>\n",
              "    <tr>\n",
              "      <th>124000000</th>\n",
              "      <td>124.5</td>\n",
              "    </tr>\n",
              "    <tr>\n",
              "      <th>120000000</th>\n",
              "      <td>280.0</td>\n",
              "    </tr>\n",
              "    <tr>\n",
              "      <th>119000000</th>\n",
              "      <td>187.6</td>\n",
              "    </tr>\n",
              "    <tr>\n",
              "      <th>118000000</th>\n",
              "      <td>290.6</td>\n",
              "    </tr>\n",
              "    <tr>\n",
              "      <th>115490000</th>\n",
              "      <td>235.0</td>\n",
              "    </tr>\n",
              "    <tr>\n",
              "      <th>95000000</th>\n",
              "      <td>190.0</td>\n",
              "    </tr>\n",
              "    <tr>\n",
              "      <th>87000000</th>\n",
              "      <td>283.0</td>\n",
              "    </tr>\n",
              "  </tbody>\n",
              "</table>\n",
              "</div>"
            ],
            "text/plain": [
              "            total_area\n",
              "last_price            \n",
              "330000000        190.0\n",
              "289238400        187.5\n",
              "245000000        285.7\n",
              "159984000        242.4\n",
              "155000000        310.0\n",
              "135000000        166.0\n",
              "130000000        231.0\n",
              "124350000        248.7\n",
              "124000000        124.5\n",
              "120000000        280.0\n",
              "119000000        187.6\n",
              "118000000        290.6\n",
              "115490000        235.0\n",
              "95000000         190.0\n",
              "87000000         283.0"
            ]
          },
          "execution_count": 76,
          "metadata": {},
          "output_type": "execute_result"
        }
      ],
      "execution_count": 76
    },
    {
      "cell_type": "code",
      "source": "clear_data.plot(x='total_area', y='last_price', kind='scatter', alpha=0.3)",
      "metadata": {},
      "outputs": [
        {
          "data": {
            "text/plain": [
              "<AxesSubplot:xlabel='total_area', ylabel='last_price'>"
            ]
          },
          "execution_count": 77,
          "metadata": {},
          "output_type": "execute_result"
        },
        {
          "data": {
            "image/png": "[encoded data removed]",
            "text/plain": [
              "<Figure size 432x288 with 1 Axes>"
            ]
          },
          "metadata": {
            "needs_background": "light"
          },
          "output_type": "display_data"
        }
      ],
      "execution_count": 77
    },
    {
      "cell_type": "code",
      "source": "round(clear_data['total_area'].corr(clear_data['last_price']), 2)",
      "metadata": {},
      "outputs": [
        {
          "data": {
            "text/plain": [
              "0.66"
            ]
          },
          "execution_count": 78,
          "metadata": {},
          "output_type": "execute_result"
        }
      ],
      "execution_count": 78
    },
    {
      "cell_type": "markdown",
      "source": "Из графика видна прямая зависимость увеличения общей площади с ростом цены, так же квартиры примерно от 125 кв.м. наблюдается разброс цен и на квартиры с одинаковой площадью",
      "metadata": {}
    },
    {
      "cell_type": "markdown",
      "source": "### Корреляция общей стоимости и жилой площади",
      "metadata": {}
    },
    {
      "cell_type": "code",
      "source": "clear_data.pivot_table(index='last_price', values='living_area', aggfunc='median').sort_values(by='last_price', ascending=False).head(15)",
      "metadata": {},
      "outputs": [
        {
          "data": {
            "text/html": [
              "<div>\n",
              "<style scoped>\n",
              "    .dataframe tbody tr th:only-of-type {\n",
              "        vertical-align: middle;\n",
              "    }\n",
              "\n",
              "    .dataframe tbody tr th {\n",
              "        vertical-align: top;\n",
              "    }\n",
              "\n",
              "    .dataframe thead th {\n",
              "        text-align: right;\n",
              "    }\n",
              "</style>\n",
              "<table border=\"1\" class=\"dataframe\">\n",
              "  <thead>\n",
              "    <tr style=\"text-align: right;\">\n",
              "      <th></th>\n",
              "      <th>living_area</th>\n",
              "    </tr>\n",
              "    <tr>\n",
              "      <th>last_price</th>\n",
              "      <th></th>\n",
              "    </tr>\n",
              "  </thead>\n",
              "  <tbody>\n",
              "    <tr>\n",
              "      <th>330000000</th>\n",
              "      <td>95.0</td>\n",
              "    </tr>\n",
              "    <tr>\n",
              "      <th>289238400</th>\n",
              "      <td>63.7</td>\n",
              "    </tr>\n",
              "    <tr>\n",
              "      <th>245000000</th>\n",
              "      <td>182.8</td>\n",
              "    </tr>\n",
              "    <tr>\n",
              "      <th>159984000</th>\n",
              "      <td>131.0</td>\n",
              "    </tr>\n",
              "    <tr>\n",
              "      <th>155000000</th>\n",
              "      <td>190.0</td>\n",
              "    </tr>\n",
              "    <tr>\n",
              "      <th>135000000</th>\n",
              "      <td>52.0</td>\n",
              "    </tr>\n",
              "    <tr>\n",
              "      <th>130000000</th>\n",
              "      <td>148.0</td>\n",
              "    </tr>\n",
              "    <tr>\n",
              "      <th>124350000</th>\n",
              "      <td>131.0</td>\n",
              "    </tr>\n",
              "    <tr>\n",
              "      <th>124000000</th>\n",
              "      <td>67.2</td>\n",
              "    </tr>\n",
              "    <tr>\n",
              "      <th>120000000</th>\n",
              "      <td>162.0</td>\n",
              "    </tr>\n",
              "    <tr>\n",
              "      <th>119000000</th>\n",
              "      <td>147.0</td>\n",
              "    </tr>\n",
              "    <tr>\n",
              "      <th>118000000</th>\n",
              "      <td>188.7</td>\n",
              "    </tr>\n",
              "    <tr>\n",
              "      <th>115490000</th>\n",
              "      <td>140.0</td>\n",
              "    </tr>\n",
              "    <tr>\n",
              "      <th>95000000</th>\n",
              "      <td>130.0</td>\n",
              "    </tr>\n",
              "    <tr>\n",
              "      <th>87000000</th>\n",
              "      <td>177.0</td>\n",
              "    </tr>\n",
              "  </tbody>\n",
              "</table>\n",
              "</div>"
            ],
            "text/plain": [
              "            living_area\n",
              "last_price             \n",
              "330000000          95.0\n",
              "289238400          63.7\n",
              "245000000         182.8\n",
              "159984000         131.0\n",
              "155000000         190.0\n",
              "135000000          52.0\n",
              "130000000         148.0\n",
              "124350000         131.0\n",
              "124000000          67.2\n",
              "120000000         162.0\n",
              "119000000         147.0\n",
              "118000000         188.7\n",
              "115490000         140.0\n",
              "95000000          130.0\n",
              "87000000          177.0"
            ]
          },
          "execution_count": 79,
          "metadata": {},
          "output_type": "execute_result"
        }
      ],
      "execution_count": 79
    },
    {
      "cell_type": "code",
      "source": "clear_data.plot(x='living_area', y='last_price', kind='scatter', alpha=0.3)",
      "metadata": {},
      "outputs": [
        {
          "data": {
            "text/plain": [
              "<AxesSubplot:xlabel='living_area', ylabel='last_price'>"
            ]
          },
          "execution_count": 80,
          "metadata": {},
          "output_type": "execute_result"
        },
        {
          "data": {
            "image/png": "[encoded data removed]",
            "text/plain": [
              "<Figure size 432x288 with 1 Axes>"
            ]
          },
          "metadata": {
            "needs_background": "light"
          },
          "output_type": "display_data"
        }
      ],
      "execution_count": 80
    },
    {
      "cell_type": "code",
      "source": "round(clear_data['living_area'].corr(clear_data['last_price']), 2)",
      "metadata": {},
      "outputs": [
        {
          "data": {
            "text/plain": [
              "0.58"
            ]
          },
          "execution_count": 81,
          "metadata": {},
          "output_type": "execute_result"
        }
      ],
      "execution_count": 81
    },
    {
      "cell_type": "markdown",
      "source": "Также наблюдется линейная зависимость увеличения стоимости в связи с увеличением жилой площади, что волне логично и закономерно.",
      "metadata": {}
    },
    {
      "cell_type": "markdown",
      "source": "### Корреляция общей стоимости и площади кухни",
      "metadata": {}
    },
    {
      "cell_type": "code",
      "source": "clear_data.pivot_table(index='last_price', values='kitchen_area', aggfunc='median').sort_values(by='last_price', ascending=False).head(10)",
      "metadata": {},
      "outputs": [
        {
          "data": {
            "text/html": [
              "<div>\n",
              "<style scoped>\n",
              "    .dataframe tbody tr th:only-of-type {\n",
              "        vertical-align: middle;\n",
              "    }\n",
              "\n",
              "    .dataframe tbody tr th {\n",
              "        vertical-align: top;\n",
              "    }\n",
              "\n",
              "    .dataframe thead th {\n",
              "        text-align: right;\n",
              "    }\n",
              "</style>\n",
              "<table border=\"1\" class=\"dataframe\">\n",
              "  <thead>\n",
              "    <tr style=\"text-align: right;\">\n",
              "      <th></th>\n",
              "      <th>kitchen_area</th>\n",
              "    </tr>\n",
              "    <tr>\n",
              "      <th>last_price</th>\n",
              "      <th></th>\n",
              "    </tr>\n",
              "  </thead>\n",
              "  <tbody>\n",
              "    <tr>\n",
              "      <th>330000000</th>\n",
              "      <td>40.0</td>\n",
              "    </tr>\n",
              "    <tr>\n",
              "      <th>289238400</th>\n",
              "      <td>30.2</td>\n",
              "    </tr>\n",
              "    <tr>\n",
              "      <th>245000000</th>\n",
              "      <td>29.8</td>\n",
              "    </tr>\n",
              "    <tr>\n",
              "      <th>159984000</th>\n",
              "      <td>20.0</td>\n",
              "    </tr>\n",
              "    <tr>\n",
              "      <th>155000000</th>\n",
              "      <td>63.0</td>\n",
              "    </tr>\n",
              "    <tr>\n",
              "      <th>135000000</th>\n",
              "      <td>64.0</td>\n",
              "    </tr>\n",
              "    <tr>\n",
              "      <th>130000000</th>\n",
              "      <td>12.0</td>\n",
              "    </tr>\n",
              "    <tr>\n",
              "      <th>124350000</th>\n",
              "      <td>23.0</td>\n",
              "    </tr>\n",
              "    <tr>\n",
              "      <th>124000000</th>\n",
              "      <td>20.0</td>\n",
              "    </tr>\n",
              "    <tr>\n",
              "      <th>120000000</th>\n",
              "      <td>30.0</td>\n",
              "    </tr>\n",
              "  </tbody>\n",
              "</table>\n",
              "</div>"
            ],
            "text/plain": [
              "            kitchen_area\n",
              "last_price              \n",
              "330000000           40.0\n",
              "289238400           30.2\n",
              "245000000           29.8\n",
              "159984000           20.0\n",
              "155000000           63.0\n",
              "135000000           64.0\n",
              "130000000           12.0\n",
              "124350000           23.0\n",
              "124000000           20.0\n",
              "120000000           30.0"
            ]
          },
          "execution_count": 82,
          "metadata": {},
          "output_type": "execute_result"
        }
      ],
      "execution_count": 82
    },
    {
      "cell_type": "code",
      "source": "clear_data.plot(x='kitchen_area', y='last_price', kind='scatter', alpha=0.3)",
      "metadata": {},
      "outputs": [
        {
          "data": {
            "text/plain": [
              "<AxesSubplot:xlabel='kitchen_area', ylabel='last_price'>"
            ]
          },
          "execution_count": 83,
          "metadata": {},
          "output_type": "execute_result"
        },
        {
          "data": {
            "image/png": "[encoded data removed]",
            "text/plain": [
              "<Figure size 432x288 with 1 Axes>"
            ]
          },
          "metadata": {
            "needs_background": "light"
          },
          "output_type": "display_data"
        }
      ],
      "execution_count": 83
    },
    {
      "cell_type": "code",
      "source": "round(clear_data['kitchen_area'].corr(clear_data['last_price']), 2)",
      "metadata": {},
      "outputs": [
        {
          "data": {
            "text/plain": [
              "0.5"
            ]
          },
          "execution_count": 84,
          "metadata": {},
          "output_type": "execute_result"
        }
      ],
      "execution_count": 84
    },
    {
      "cell_type": "markdown",
      "source": "График в целом похож на предыдущие 2, ситуация похожая, с увеличением площади кухни увеличивается и цена. Однако, пока коэффицент корреляции ниже чем у общей площади и жилой площади. ",
      "metadata": {}
    },
    {
      "cell_type": "markdown",
      "source": "### Корреляция общей стоимости и количества комнат",
      "metadata": {}
    },
    {
      "cell_type": "code",
      "source": "clear_data.pivot_table(index='last_price', values='rooms', aggfunc='median').sort_values(by='last_price', ascending=False).head(10)",
      "metadata": {},
      "outputs": [
        {
          "data": {
            "text/html": [
              "<div>\n",
              "<style scoped>\n",
              "    .dataframe tbody tr th:only-of-type {\n",
              "        vertical-align: middle;\n",
              "    }\n",
              "\n",
              "    .dataframe tbody tr th {\n",
              "        vertical-align: top;\n",
              "    }\n",
              "\n",
              "    .dataframe thead th {\n",
              "        text-align: right;\n",
              "    }\n",
              "</style>\n",
              "<table border=\"1\" class=\"dataframe\">\n",
              "  <thead>\n",
              "    <tr style=\"text-align: right;\">\n",
              "      <th></th>\n",
              "      <th>rooms</th>\n",
              "    </tr>\n",
              "    <tr>\n",
              "      <th>last_price</th>\n",
              "      <th></th>\n",
              "    </tr>\n",
              "  </thead>\n",
              "  <tbody>\n",
              "    <tr>\n",
              "      <th>330000000</th>\n",
              "      <td>3.0</td>\n",
              "    </tr>\n",
              "    <tr>\n",
              "      <th>289238400</th>\n",
              "      <td>2.0</td>\n",
              "    </tr>\n",
              "    <tr>\n",
              "      <th>245000000</th>\n",
              "      <td>6.0</td>\n",
              "    </tr>\n",
              "    <tr>\n",
              "      <th>159984000</th>\n",
              "      <td>4.0</td>\n",
              "    </tr>\n",
              "    <tr>\n",
              "      <th>155000000</th>\n",
              "      <td>5.0</td>\n",
              "    </tr>\n",
              "    <tr>\n",
              "      <th>135000000</th>\n",
              "      <td>3.0</td>\n",
              "    </tr>\n",
              "    <tr>\n",
              "      <th>130000000</th>\n",
              "      <td>6.0</td>\n",
              "    </tr>\n",
              "    <tr>\n",
              "      <th>124350000</th>\n",
              "      <td>4.0</td>\n",
              "    </tr>\n",
              "    <tr>\n",
              "      <th>124000000</th>\n",
              "      <td>4.0</td>\n",
              "    </tr>\n",
              "    <tr>\n",
              "      <th>120000000</th>\n",
              "      <td>5.0</td>\n",
              "    </tr>\n",
              "  </tbody>\n",
              "</table>\n",
              "</div>"
            ],
            "text/plain": [
              "            rooms\n",
              "last_price       \n",
              "330000000     3.0\n",
              "289238400     2.0\n",
              "245000000     6.0\n",
              "159984000     4.0\n",
              "155000000     5.0\n",
              "135000000     3.0\n",
              "130000000     6.0\n",
              "124350000     4.0\n",
              "124000000     4.0\n",
              "120000000     5.0"
            ]
          },
          "execution_count": 85,
          "metadata": {},
          "output_type": "execute_result"
        }
      ],
      "execution_count": 85
    },
    {
      "cell_type": "code",
      "source": "clear_data.plot(x='rooms', y='last_price', kind='scatter', alpha=0.3)",
      "metadata": {},
      "outputs": [
        {
          "data": {
            "text/plain": [
              "<AxesSubplot:xlabel='rooms', ylabel='last_price'>"
            ]
          },
          "execution_count": 86,
          "metadata": {},
          "output_type": "execute_result"
        },
        {
          "data": {
            "image/png": "[encoded data removed]",
            "text/plain": [
              "<Figure size 432x288 with 1 Axes>"
            ]
          },
          "metadata": {
            "needs_background": "light"
          },
          "output_type": "display_data"
        }
      ],
      "execution_count": 86
    },
    {
      "cell_type": "code",
      "source": "round(clear_data['rooms'].corr(clear_data['last_price']), 2)",
      "metadata": {},
      "outputs": [
        {
          "data": {
            "text/plain": [
              "0.4"
            ]
          },
          "execution_count": 87,
          "metadata": {},
          "output_type": "execute_result"
        }
      ],
      "execution_count": 87
    },
    {
      "cell_type": "markdown",
      "source": "Также наблюдается увеличение цены с увеличением количества комнат, однако коэффицент корреляции стал еще ниже.",
      "metadata": {}
    },
    {
      "cell_type": "markdown",
      "source": "### Корреляция общей стоимости и типа этажа, на котором расположена квартира",
      "metadata": {}
    },
    {
      "cell_type": "code",
      "source": "import seaborn as sns\nsns.barplot(x='floor_type', y='last_price', data=clear_data)\nplt.show()",
      "metadata": {},
      "outputs": [
        {
          "data": {
            "image/png": "[encoded data removed]",
            "text/plain": [
              "<Figure size 432x288 with 1 Axes>"
            ]
          },
          "metadata": {
            "needs_background": "light"
          },
          "output_type": "display_data"
        }
      ],
      "execution_count": 88
    },
    {
      "cell_type": "markdown",
      "source": "Видно, что квартиры на первых этажах стоят дешевле остальных.",
      "metadata": {}
    },
    {
      "cell_type": "markdown",
      "source": "### Корреляция общей стоимости и даты размещения",
      "metadata": {}
    },
    {
      "cell_type": "code",
      "source": "clear_data.plot(x='publication_weekday', y='last_price', kind='scatter', alpha=0.3)",
      "metadata": {},
      "outputs": [
        {
          "data": {
            "text/plain": [
              "<AxesSubplot:xlabel='publication_weekday', ylabel='last_price'>"
            ]
          },
          "execution_count": 89,
          "metadata": {},
          "output_type": "execute_result"
        },
        {
          "data": {
            "image/png": "[encoded data removed]",
            "text/plain": [
              "<Figure size 432x288 with 1 Axes>"
            ]
          },
          "metadata": {
            "needs_background": "light"
          },
          "output_type": "display_data"
        }
      ],
      "execution_count": 89
    },
    {
      "cell_type": "code",
      "source": "sns.barplot(x='publication_weekday', y='last_price', data=clear_data)\nplt.show()",
      "metadata": {},
      "outputs": [
        {
          "data": {
            "image/png": "[encoded data removed]",
            "text/plain": [
              "<Figure size 432x288 with 1 Axes>"
            ]
          },
          "metadata": {
            "needs_background": "light"
          },
          "output_type": "display_data"
        }
      ],
      "execution_count": 90
    },
    {
      "cell_type": "markdown",
      "source": "По графику можно сказать, что в четверг продавались квартиры по более высоким ценам, а в субботу - по самым низким.",
      "metadata": {}
    },
    {
      "cell_type": "code",
      "source": "sns.barplot(x='publication_month', y='last_price', data=clear_data)\nplt.show()",
      "metadata": {},
      "outputs": [
        {
          "data": {
            "image/png": "[encoded data removed]",
            "text/plain": [
              "<Figure size 432x288 with 1 Axes>"
            ]
          },
          "metadata": {
            "needs_background": "light"
          },
          "output_type": "display_data"
        }
      ],
      "execution_count": 91
    },
    {
      "cell_type": "markdown",
      "source": "Цены продажи квартир размещенных в марте и октябре самые низкие, самые высокие в апреле и июле.",
      "metadata": {}
    },
    {
      "cell_type": "code",
      "source": "sns.barplot(x='publication_year', y='last_price', data=clear_data)\nplt.show()",
      "metadata": {},
      "outputs": [
        {
          "data": {
            "image/png": "[encoded data removed]",
            "text/plain": [
              "<Figure size 432x288 with 1 Axes>"
            ]
          },
          "metadata": {
            "needs_background": "light"
          },
          "output_type": "display_data"
        }
      ],
      "execution_count": 92
    },
    {
      "cell_type": "markdown",
      "source": "Из диаграммы видно, что с 2014 года цены на квартиры снижались, вплоть до 2018 года. В 2019 заметно увеличение количества проданных квартир, в сравнении с 2018, причиной могла стать общая экономическая обстановка в стране, подарожание стройматериалов и тд, что в общем может сказаться на рост цен в сфере недвижимости, как новой так и вторичной.",
      "metadata": {}
    },
    {
      "cell_type": "markdown",
      "source": "### Расчет средней цены одного квадратного метра в 10 населённых пунктах с наибольшим числом объявлений",
      "metadata": {}
    },
    {
      "cell_type": "code",
      "source": "median_price_per_meter = clear_data.groupby('locality_name')['price_per_meter'].agg(['count', 'median']).sort_values(by='count', ascending=False).head(10)\nmedian_price_per_meter.reset_index(drop=True)\nmedian_price_per_meter",
      "metadata": {},
      "outputs": [
        {
          "data": {
            "text/html": [
              "<div>\n",
              "<style scoped>\n",
              "    .dataframe tbody tr th:only-of-type {\n",
              "        vertical-align: middle;\n",
              "    }\n",
              "\n",
              "    .dataframe tbody tr th {\n",
              "        vertical-align: top;\n",
              "    }\n",
              "\n",
              "    .dataframe thead th {\n",
              "        text-align: right;\n",
              "    }\n",
              "</style>\n",
              "<table border=\"1\" class=\"dataframe\">\n",
              "  <thead>\n",
              "    <tr style=\"text-align: right;\">\n",
              "      <th></th>\n",
              "      <th>count</th>\n",
              "      <th>median</th>\n",
              "    </tr>\n",
              "    <tr>\n",
              "      <th>locality_name</th>\n",
              "      <th></th>\n",
              "      <th></th>\n",
              "    </tr>\n",
              "  </thead>\n",
              "  <tbody>\n",
              "    <tr>\n",
              "      <th>Санкт-Петербург</th>\n",
              "      <td>9454</td>\n",
              "      <td>105478.060</td>\n",
              "    </tr>\n",
              "    <tr>\n",
              "      <th>Всеволожск</th>\n",
              "      <td>248</td>\n",
              "      <td>65811.400</td>\n",
              "    </tr>\n",
              "    <tr>\n",
              "      <th>Пушкин</th>\n",
              "      <td>220</td>\n",
              "      <td>100000.000</td>\n",
              "    </tr>\n",
              "    <tr>\n",
              "      <th>Шушары</th>\n",
              "      <td>204</td>\n",
              "      <td>77744.815</td>\n",
              "    </tr>\n",
              "    <tr>\n",
              "      <th>Мурино</th>\n",
              "      <td>203</td>\n",
              "      <td>85714.290</td>\n",
              "    </tr>\n",
              "    <tr>\n",
              "      <th>Колпино</th>\n",
              "      <td>193</td>\n",
              "      <td>74375.000</td>\n",
              "    </tr>\n",
              "    <tr>\n",
              "      <th>Кудрово</th>\n",
              "      <td>175</td>\n",
              "      <td>96540.970</td>\n",
              "    </tr>\n",
              "    <tr>\n",
              "      <th>Гатчина</th>\n",
              "      <td>138</td>\n",
              "      <td>68516.945</td>\n",
              "    </tr>\n",
              "    <tr>\n",
              "      <th>Петергоф</th>\n",
              "      <td>137</td>\n",
              "      <td>81944.440</td>\n",
              "    </tr>\n",
              "    <tr>\n",
              "      <th>Парголово</th>\n",
              "      <td>126</td>\n",
              "      <td>91145.230</td>\n",
              "    </tr>\n",
              "  </tbody>\n",
              "</table>\n",
              "</div>"
            ],
            "text/plain": [
              "                 count      median\n",
              "locality_name                     \n",
              "Санкт-Петербург   9454  105478.060\n",
              "Всеволожск         248   65811.400\n",
              "Пушкин             220  100000.000\n",
              "Шушары             204   77744.815\n",
              "Мурино             203   85714.290\n",
              "Колпино            193   74375.000\n",
              "Кудрово            175   96540.970\n",
              "Гатчина            138   68516.945\n",
              "Петергоф           137   81944.440\n",
              "Парголово          126   91145.230"
            ]
          },
          "execution_count": 94,
          "metadata": {},
          "output_type": "execute_result"
        }
      ],
      "execution_count": 94
    },
    {
      "cell_type": "code",
      "source": "median_price_per_meter['locality_name'] = median_price_per_meter.index\nsns.barplot(x='locality_name', y='median', data=median_price_per_meter)\nplt.xticks(rotation=90)\nNone",
      "metadata": {},
      "outputs": [
        {
          "data": {
            "image/png": "[encoded data removed]",
            "text/plain": [
              "<Figure size 432x288 with 1 Axes>"
            ]
          },
          "metadata": {
            "needs_background": "light"
          },
          "output_type": "display_data"
        }
      ],
      "execution_count": 95
    },
    {
      "cell_type": "markdown",
      "source": "Максимальная средняя цена за квадратный метр",
      "metadata": {}
    },
    {
      "cell_type": "code",
      "source": "median_price_per_meter[median_price_per_meter['median'] == median_price_per_meter['median'].max()]",
      "metadata": {},
      "outputs": [
        {
          "data": {
            "text/html": [
              "<div>\n",
              "<style scoped>\n",
              "    .dataframe tbody tr th:only-of-type {\n",
              "        vertical-align: middle;\n",
              "    }\n",
              "\n",
              "    .dataframe tbody tr th {\n",
              "        vertical-align: top;\n",
              "    }\n",
              "\n",
              "    .dataframe thead th {\n",
              "        text-align: right;\n",
              "    }\n",
              "</style>\n",
              "<table border=\"1\" class=\"dataframe\">\n",
              "  <thead>\n",
              "    <tr style=\"text-align: right;\">\n",
              "      <th></th>\n",
              "      <th>count</th>\n",
              "      <th>median</th>\n",
              "      <th>locality_name</th>\n",
              "    </tr>\n",
              "    <tr>\n",
              "      <th>locality_name</th>\n",
              "      <th></th>\n",
              "      <th></th>\n",
              "      <th></th>\n",
              "    </tr>\n",
              "  </thead>\n",
              "  <tbody>\n",
              "    <tr>\n",
              "      <th>Санкт-Петербург</th>\n",
              "      <td>9454</td>\n",
              "      <td>105478.06</td>\n",
              "      <td>Санкт-Петербург</td>\n",
              "    </tr>\n",
              "  </tbody>\n",
              "</table>\n",
              "</div>"
            ],
            "text/plain": [
              "                 count     median    locality_name\n",
              "locality_name                                     \n",
              "Санкт-Петербург   9454  105478.06  Санкт-Петербург"
            ]
          },
          "execution_count": 96,
          "metadata": {},
          "output_type": "execute_result"
        }
      ],
      "execution_count": 96
    },
    {
      "cell_type": "markdown",
      "source": " Минимальная средняя цена за квадратный метр",
      "metadata": {}
    },
    {
      "cell_type": "code",
      "source": "median_price_per_meter[median_price_per_meter['median'] == median_price_per_meter['median'].min()]",
      "metadata": {},
      "outputs": [
        {
          "data": {
            "text/html": [
              "<div>\n",
              "<style scoped>\n",
              "    .dataframe tbody tr th:only-of-type {\n",
              "        vertical-align: middle;\n",
              "    }\n",
              "\n",
              "    .dataframe tbody tr th {\n",
              "        vertical-align: top;\n",
              "    }\n",
              "\n",
              "    .dataframe thead th {\n",
              "        text-align: right;\n",
              "    }\n",
              "</style>\n",
              "<table border=\"1\" class=\"dataframe\">\n",
              "  <thead>\n",
              "    <tr style=\"text-align: right;\">\n",
              "      <th></th>\n",
              "      <th>count</th>\n",
              "      <th>median</th>\n",
              "      <th>locality_name</th>\n",
              "    </tr>\n",
              "    <tr>\n",
              "      <th>locality_name</th>\n",
              "      <th></th>\n",
              "      <th></th>\n",
              "      <th></th>\n",
              "    </tr>\n",
              "  </thead>\n",
              "  <tbody>\n",
              "    <tr>\n",
              "      <th>Всеволожск</th>\n",
              "      <td>248</td>\n",
              "      <td>65811.4</td>\n",
              "      <td>Всеволожск</td>\n",
              "    </tr>\n",
              "  </tbody>\n",
              "</table>\n",
              "</div>"
            ],
            "text/plain": [
              "               count   median locality_name\n",
              "locality_name                              \n",
              "Всеволожск       248  65811.4    Всеволожск"
            ]
          },
          "execution_count": 97,
          "metadata": {},
          "output_type": "execute_result"
        }
      ],
      "execution_count": 97
    },
    {
      "cell_type": "markdown",
      "source": "Расчет средней цены одного квадратного метра в 10 населённых пунктах с наибольшим числом объявлений показал, что лидирует в нем Санкт_петербург, а замыкает Всеволожск.",
      "metadata": {}
    },
    {
      "cell_type": "markdown",
      "source": "### Средняя цена километра",
      "metadata": {}
    },
    {
      "cell_type": "code",
      "source": "spb_df = clear_data.query('locality_name == \"Санкт-Петербург\"').pivot_table(index='cityCenters_nearest_km', values='price_per_meter')\nspb_df",
      "metadata": {},
      "outputs": [
        {
          "data": {
            "text/html": [
              "<div>\n",
              "<style scoped>\n",
              "    .dataframe tbody tr th:only-of-type {\n",
              "        vertical-align: middle;\n",
              "    }\n",
              "\n",
              "    .dataframe tbody tr th {\n",
              "        vertical-align: top;\n",
              "    }\n",
              "\n",
              "    .dataframe thead th {\n",
              "        text-align: right;\n",
              "    }\n",
              "</style>\n",
              "<table border=\"1\" class=\"dataframe\">\n",
              "  <thead>\n",
              "    <tr style=\"text-align: right;\">\n",
              "      <th></th>\n",
              "      <th>price_per_meter</th>\n",
              "    </tr>\n",
              "    <tr>\n",
              "      <th>cityCenters_nearest_km</th>\n",
              "      <th></th>\n",
              "    </tr>\n",
              "  </thead>\n",
              "  <tbody>\n",
              "    <tr>\n",
              "      <th>0.0</th>\n",
              "      <td>184680.071250</td>\n",
              "    </tr>\n",
              "    <tr>\n",
              "      <th>1.0</th>\n",
              "      <td>175729.731920</td>\n",
              "    </tr>\n",
              "    <tr>\n",
              "      <th>2.0</th>\n",
              "      <td>162426.276214</td>\n",
              "    </tr>\n",
              "    <tr>\n",
              "      <th>3.0</th>\n",
              "      <td>118286.023929</td>\n",
              "    </tr>\n",
              "    <tr>\n",
              "      <th>4.0</th>\n",
              "      <td>128911.973220</td>\n",
              "    </tr>\n",
              "    <tr>\n",
              "      <th>5.0</th>\n",
              "      <td>137190.206252</td>\n",
              "    </tr>\n",
              "    <tr>\n",
              "      <th>6.0</th>\n",
              "      <td>147054.989883</td>\n",
              "    </tr>\n",
              "    <tr>\n",
              "      <th>7.0</th>\n",
              "      <td>154239.250366</td>\n",
              "    </tr>\n",
              "    <tr>\n",
              "      <th>8.0</th>\n",
              "      <td>126482.861793</td>\n",
              "    </tr>\n",
              "    <tr>\n",
              "      <th>9.0</th>\n",
              "      <td>116227.657466</td>\n",
              "    </tr>\n",
              "    <tr>\n",
              "      <th>10.0</th>\n",
              "      <td>114865.617181</td>\n",
              "    </tr>\n",
              "    <tr>\n",
              "      <th>11.0</th>\n",
              "      <td>108060.434130</td>\n",
              "    </tr>\n",
              "    <tr>\n",
              "      <th>12.0</th>\n",
              "      <td>108619.593994</td>\n",
              "    </tr>\n",
              "    <tr>\n",
              "      <th>13.0</th>\n",
              "      <td>108081.496506</td>\n",
              "    </tr>\n",
              "    <tr>\n",
              "      <th>14.0</th>\n",
              "      <td>103922.174516</td>\n",
              "    </tr>\n",
              "    <tr>\n",
              "      <th>15.0</th>\n",
              "      <td>105364.425770</td>\n",
              "    </tr>\n",
              "    <tr>\n",
              "      <th>16.0</th>\n",
              "      <td>100911.825667</td>\n",
              "    </tr>\n",
              "    <tr>\n",
              "      <th>17.0</th>\n",
              "      <td>97638.255927</td>\n",
              "    </tr>\n",
              "    <tr>\n",
              "      <th>18.0</th>\n",
              "      <td>94931.347481</td>\n",
              "    </tr>\n",
              "    <tr>\n",
              "      <th>19.0</th>\n",
              "      <td>96276.218723</td>\n",
              "    </tr>\n",
              "    <tr>\n",
              "      <th>20.0</th>\n",
              "      <td>94924.274000</td>\n",
              "    </tr>\n",
              "    <tr>\n",
              "      <th>21.0</th>\n",
              "      <td>96526.468429</td>\n",
              "    </tr>\n",
              "    <tr>\n",
              "      <th>22.0</th>\n",
              "      <td>91295.976471</td>\n",
              "    </tr>\n",
              "    <tr>\n",
              "      <th>23.0</th>\n",
              "      <td>95456.071887</td>\n",
              "    </tr>\n",
              "    <tr>\n",
              "      <th>24.0</th>\n",
              "      <td>90830.670000</td>\n",
              "    </tr>\n",
              "    <tr>\n",
              "      <th>25.0</th>\n",
              "      <td>87803.487500</td>\n",
              "    </tr>\n",
              "    <tr>\n",
              "      <th>26.0</th>\n",
              "      <td>85062.060667</td>\n",
              "    </tr>\n",
              "    <tr>\n",
              "      <th>27.0</th>\n",
              "      <td>193918.920000</td>\n",
              "    </tr>\n",
              "    <tr>\n",
              "      <th>28.0</th>\n",
              "      <td>68468.470000</td>\n",
              "    </tr>\n",
              "    <tr>\n",
              "      <th>29.0</th>\n",
              "      <td>75629.410000</td>\n",
              "    </tr>\n",
              "  </tbody>\n",
              "</table>\n",
              "</div>"
            ],
            "text/plain": [
              "                        price_per_meter\n",
              "cityCenters_nearest_km                 \n",
              "0.0                       184680.071250\n",
              "1.0                       175729.731920\n",
              "2.0                       162426.276214\n",
              "3.0                       118286.023929\n",
              "4.0                       128911.973220\n",
              "5.0                       137190.206252\n",
              "6.0                       147054.989883\n",
              "7.0                       154239.250366\n",
              "8.0                       126482.861793\n",
              "9.0                       116227.657466\n",
              "10.0                      114865.617181\n",
              "11.0                      108060.434130\n",
              "12.0                      108619.593994\n",
              "13.0                      108081.496506\n",
              "14.0                      103922.174516\n",
              "15.0                      105364.425770\n",
              "16.0                      100911.825667\n",
              "17.0                       97638.255927\n",
              "18.0                       94931.347481\n",
              "19.0                       96276.218723\n",
              "20.0                       94924.274000\n",
              "21.0                       96526.468429\n",
              "22.0                       91295.976471\n",
              "23.0                       95456.071887\n",
              "24.0                       90830.670000\n",
              "25.0                       87803.487500\n",
              "26.0                       85062.060667\n",
              "27.0                      193918.920000\n",
              "28.0                       68468.470000\n",
              "29.0                       75629.410000"
            ]
          },
          "execution_count": 98,
          "metadata": {},
          "output_type": "execute_result"
        }
      ],
      "execution_count": 98
    },
    {
      "cell_type": "code",
      "source": "spb_df.plot(grid=True)",
      "metadata": {},
      "outputs": [
        {
          "data": {
            "text/plain": [
              "<AxesSubplot:xlabel='cityCenters_nearest_km'>"
            ]
          },
          "execution_count": 99,
          "metadata": {},
          "output_type": "execute_result"
        },
        {
          "data": {
            "image/png": "[encoded data removed]",
            "text/plain": [
              "<Figure size 432x288 with 1 Axes>"
            ]
          },
          "metadata": {
            "needs_background": "light"
          },
          "output_type": "display_data"
        }
      ],
      "execution_count": 99
    },
    {
      "cell_type": "markdown",
      "source": "Исходя из общей динамики, можно заметить, что цена снижается в зависимости от удаленности от центра города. Однако, мы видим два скачка, примерно на 7 и 27км от центра, возможно, на расстоянии 7км находятся какие-то транспортные узлы и развязки, которые увеличивают стоимость из-за транспортной доступности. На 25км можно предположить, что имеется застройка элитными ЖК или вовсе частных домой в черте города, либо максимально приближенных к ней.",
      "metadata": {}
    },
    {
      "cell_type": "markdown",
      "source": "## Общий вывод",
      "metadata": {}
    },
    {
      "cell_type": "markdown",
      "source": "В рамках исследования объявлений о продаже квартир, мы опирались на данные сервиса недвижимости — архив объявлений о продаже квартир в Санкт-Петербурге и соседних населённых пунктах за несколько лет.\nНа этапе предобработки данных мы столкнулись с рядом сложностей, пропуски в столбце balcony мы заполнили 0, исходя из-того, что пользователи просто пропускали данный столбец из-за отсутсвия балкона, так же мы поступили со столбцом is_apartment. Пропуски 'living_area' мы заполнили медианным значением, исходя из похожих по количеству комнат объектов. Пропуски в locality_name и floors_total составяляли малую долю от всех данных, поэтому мы их отбросили.\n\nДаллее, избавились от дубликатов в столбце locality_name, заменив все буквы Ё на Е, и удалив типы населенных пунктов. После этого мы приступили к изучению аномальных значений с помощью boxplot. Определив явные выбросы и крайне редкие значения - мы их удалили. В результате преобразований, остались объекты соответствующие следующим критериям:\n- квартиры, имеющие до 12 комнат;\n- общей площадью до 400 квадратных метров;\n- с потолками, высотой до 6 метров;\n- жилой площадью до 200 квадратных метров;\n- с площадью кухни не более 70 метров;\n- с общим количеством этажей в доме не более 40;\n- квартиры расположены до 25 этажа.\n\nДалее мы произвели расчеты цены одного квадратного метра квартир, и составили топ 10 населенных пунктов с самой высокой ценой квадратного метра. Поработали с датой публикации, разделив ее на день недели, месяц и год. После, мы сгрупировали квартиры по типу этажа, на котором она ноходится, и расчитали расстояние до центра города в км.\n\nДалее провели исследовательский анализ данных:\n\n- Изучив параметры объектов недвижимости, мы смогли определить наиболее продаваемый объект недвижимости: это 1-2 комнатная квартира на 3-м этаже 5-этажного дома общей площадью 40-45 кв.м. с жилой площадью 15-20 кв.м. и площадью кухни около 8 кв.м., стоимостью 3,5-5 млн.руб. и высотой потолков 2,6 м., удаленная от центра на 12-16 км., от парка на 450 м и от аэропорта на 12-14 км. В конце года происходил резкий рост количества объявления о продаже.\n- Проведя анализ скорости продажи квартир, обнаружили, что медиана время продажи квартиры составляет 195 дней. Медианное значение составляет 107 дней, что сильно отличается от среднего. Чаще всего объекты продавались на 45-й и 60-й день после подачи объявлений. При этом в наборе данных присутствуют необычно долгие продажи в течение 4-х лет и более. Также обнаружили, что быстрее всего продавались квартиры, размещенные в объявлениях в ноябре, а медленнее всего размещенные в июне.\n- Изучив факторы, влияющие на стоимость объекта, выяснили что больше всего на стоимость влияет полная площадь объектов. При этом самая низкая цена у квартир на первом этаже, а выше всего цены на квартиры, находящиеся ни на первом, ни на последнем этаже. Также дороже всего продавались квартиры, размещенные в объявлениях по четвергам в апреле и декабре, а дешевле всего - в октябре. Кроме того выяснили, что Из диаграммы видно, что с 2014 года цены на квартиры падали, в 2018 году была самая низкая цена продаж, после чего цены вновь начали расти.\n- Проанализировав цену одного квадратного метра, выяснили, что среди 10 населенных пунктов с наибольшим количеством объявлений максимальная стоимость квадратного метра наблюдается в Санкт-Петербурге, минимальная - во Всеволожске.\n- Проанализировав стоимость объектов в зависимости от расстояния до центра в километрах убедились, что в целом с удалением от центра Санкт-Петербурга стоимость квадратного метра уменьшается. Однако на удаленности 7 км и 27 км от центра наблюдается рост цен квадратного метра, это может быть связано с хорошей транспортной доступностью или элитных жилых районов.",
      "metadata": {}
    }
  ]
}