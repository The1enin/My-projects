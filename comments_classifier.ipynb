{
  "metadata": {
    "kernelspec": {
      "name": "python",
      "display_name": "Python (Pyodide)",
      "language": "python"
    },
    "language_info": {
      "codemirror_mode": {
        "name": "python",
        "version": 3
      },
      "file_extension": ".py",
      "mimetype": "text/x-python",
      "name": "python",
      "nbconvert_exporter": "python",
      "pygments_lexer": "ipython3",
      "version": "3.8"
    },
    "ExecuteTimeLog": [
      {
        "duration": 1405,
        "start_time": "2024-02-28T06:19:52.673Z"
      },
      {
        "duration": 159,
        "start_time": "2024-02-28T06:20:27.850Z"
      },
      {
        "duration": 1560,
        "start_time": "2024-02-28T06:25:22.336Z"
      },
      {
        "duration": 1523,
        "start_time": "2024-02-28T06:25:30.903Z"
      },
      {
        "duration": 29,
        "start_time": "2024-02-28T06:26:36.541Z"
      },
      {
        "duration": 418,
        "start_time": "2024-02-28T06:29:30.191Z"
      },
      {
        "duration": 4,
        "start_time": "2024-02-28T06:33:45.541Z"
      },
      {
        "duration": 5,
        "start_time": "2024-02-28T06:34:58.308Z"
      },
      {
        "duration": 33,
        "start_time": "2024-02-28T06:35:36.975Z"
      },
      {
        "duration": 45,
        "start_time": "2024-02-28T06:35:57.617Z"
      },
      {
        "duration": 4,
        "start_time": "2024-02-28T06:36:09.628Z"
      },
      {
        "duration": 42,
        "start_time": "2024-02-28T06:36:12.552Z"
      },
      {
        "duration": 5,
        "start_time": "2024-02-28T06:36:14.585Z"
      },
      {
        "duration": 45,
        "start_time": "2024-02-28T06:36:45.689Z"
      },
      {
        "duration": 48,
        "start_time": "2024-02-28T06:38:45.558Z"
      },
      {
        "duration": 47,
        "start_time": "2024-02-28T06:45:03.595Z"
      },
      {
        "duration": 3044,
        "start_time": "2024-02-28T06:45:11.117Z"
      },
      {
        "duration": 5,
        "start_time": "2024-02-28T06:45:15.125Z"
      },
      {
        "duration": 53,
        "start_time": "2024-02-28T06:45:25.764Z"
      },
      {
        "duration": 1655,
        "start_time": "2024-02-28T06:45:31.557Z"
      },
      {
        "duration": 1778,
        "start_time": "2024-02-28T06:45:34.085Z"
      },
      {
        "duration": 27,
        "start_time": "2024-02-28T06:45:38.083Z"
      },
      {
        "duration": 2385,
        "start_time": "2024-02-28T06:45:39.528Z"
      },
      {
        "duration": 5,
        "start_time": "2024-02-28T06:45:44.110Z"
      },
      {
        "duration": 52,
        "start_time": "2024-02-28T06:45:52.462Z"
      },
      {
        "duration": 1727,
        "start_time": "2024-02-28T06:46:07.488Z"
      },
      {
        "duration": 1509,
        "start_time": "2024-02-28T06:46:09.869Z"
      },
      {
        "duration": 29,
        "start_time": "2024-02-28T06:46:11.983Z"
      },
      {
        "duration": 34,
        "start_time": "2024-02-28T06:46:12.574Z"
      },
      {
        "duration": 5,
        "start_time": "2024-02-28T06:46:14.262Z"
      },
      {
        "duration": 42,
        "start_time": "2024-02-28T06:46:14.925Z"
      },
      {
        "duration": 106,
        "start_time": "2024-02-28T06:47:51.939Z"
      },
      {
        "duration": 15,
        "start_time": "2024-02-28T06:48:24.606Z"
      },
      {
        "duration": 22,
        "start_time": "2024-02-28T06:49:32.846Z"
      },
      {
        "duration": 4,
        "start_time": "2024-02-28T06:51:05.910Z"
      },
      {
        "duration": 1311,
        "start_time": "2024-02-28T06:51:09.501Z"
      },
      {
        "duration": 29,
        "start_time": "2024-02-28T06:51:14.003Z"
      },
      {
        "duration": 1501,
        "start_time": "2024-02-28T06:51:21.349Z"
      },
      {
        "duration": 34,
        "start_time": "2024-02-28T06:51:31.708Z"
      },
      {
        "duration": 4,
        "start_time": "2024-02-28T06:51:33.062Z"
      },
      {
        "duration": 16,
        "start_time": "2024-02-28T06:51:34.338Z"
      },
      {
        "duration": 9,
        "start_time": "2024-02-28T06:52:07.788Z"
      },
      {
        "duration": 3,
        "start_time": "2024-02-28T06:52:38.141Z"
      },
      {
        "duration": 235,
        "start_time": "2024-02-28T06:52:40.759Z"
      },
      {
        "duration": 14,
        "start_time": "2024-02-28T06:54:01.118Z"
      },
      {
        "duration": 5,
        "start_time": "2024-02-28T07:00:39.157Z"
      },
      {
        "duration": 2,
        "start_time": "2024-02-28T07:00:47.163Z"
      },
      {
        "duration": 2451,
        "start_time": "2024-02-28T07:10:51.003Z"
      },
      {
        "duration": 4,
        "start_time": "2024-02-28T07:12:54.189Z"
      },
      {
        "duration": 96,
        "start_time": "2024-02-28T07:13:27.577Z"
      },
      {
        "duration": 1742,
        "start_time": "2024-02-28T07:15:37.205Z"
      },
      {
        "duration": 1957,
        "start_time": "2024-02-28T07:15:38.949Z"
      },
      {
        "duration": 27,
        "start_time": "2024-02-28T07:15:40.908Z"
      },
      {
        "duration": 210,
        "start_time": "2024-02-28T07:15:40.937Z"
      },
      {
        "duration": 5,
        "start_time": "2024-02-28T07:15:41.149Z"
      },
      {
        "duration": 2307,
        "start_time": "2024-02-28T07:15:41.156Z"
      },
      {
        "duration": 92216,
        "start_time": "2024-02-28T07:15:43.465Z"
      },
      {
        "duration": 0,
        "start_time": "2024-02-28T07:17:15.682Z"
      },
      {
        "duration": 0,
        "start_time": "2024-02-28T07:17:15.684Z"
      },
      {
        "duration": 92399,
        "start_time": "2024-02-28T07:21:57.823Z"
      },
      {
        "duration": 12,
        "start_time": "2024-02-28T07:38:22.780Z"
      },
      {
        "duration": 69,
        "start_time": "2024-02-28T07:38:34.727Z"
      },
      {
        "duration": 65,
        "start_time": "2024-02-28T07:39:57.006Z"
      },
      {
        "duration": 5,
        "start_time": "2024-02-28T07:43:46.556Z"
      },
      {
        "duration": 6,
        "start_time": "2024-02-28T07:46:30.095Z"
      },
      {
        "duration": 2138,
        "start_time": "2024-02-28T07:47:07.932Z"
      },
      {
        "duration": 14,
        "start_time": "2024-02-28T07:47:13.581Z"
      },
      {
        "duration": 4,
        "start_time": "2024-02-28T07:49:39.234Z"
      },
      {
        "duration": 5,
        "start_time": "2024-02-28T07:49:44.140Z"
      },
      {
        "duration": 4,
        "start_time": "2024-02-28T07:49:55.399Z"
      },
      {
        "duration": 8833,
        "start_time": "2024-02-28T07:49:57.521Z"
      },
      {
        "duration": 141,
        "start_time": "2024-02-28T07:54:34.788Z"
      },
      {
        "duration": 1943,
        "start_time": "2024-02-28T07:55:29.405Z"
      },
      {
        "duration": 2029,
        "start_time": "2024-02-28T07:55:31.350Z"
      },
      {
        "duration": 28,
        "start_time": "2024-02-28T07:55:33.381Z"
      },
      {
        "duration": 233,
        "start_time": "2024-02-28T07:55:33.411Z"
      },
      {
        "duration": 6,
        "start_time": "2024-02-28T07:55:33.646Z"
      },
      {
        "duration": 2681,
        "start_time": "2024-02-28T07:55:33.653Z"
      },
      {
        "duration": 102263,
        "start_time": "2024-02-28T07:55:36.337Z"
      },
      {
        "duration": 71,
        "start_time": "2024-02-28T07:57:18.602Z"
      },
      {
        "duration": 40,
        "start_time": "2024-02-28T07:59:49.213Z"
      },
      {
        "duration": 91,
        "start_time": "2024-02-28T08:01:23.423Z"
      },
      {
        "duration": 56,
        "start_time": "2024-02-28T08:03:01.704Z"
      },
      {
        "duration": 61,
        "start_time": "2024-02-28T08:04:30.295Z"
      },
      {
        "duration": 132,
        "start_time": "2024-02-28T08:06:33.125Z"
      },
      {
        "duration": 4,
        "start_time": "2024-02-28T08:07:01.365Z"
      },
      {
        "duration": 11,
        "start_time": "2024-02-28T08:07:04.302Z"
      },
      {
        "duration": 8,
        "start_time": "2024-02-28T08:07:37.644Z"
      },
      {
        "duration": 11,
        "start_time": "2024-02-28T08:09:00.035Z"
      },
      {
        "duration": 15,
        "start_time": "2024-02-28T08:09:04.685Z"
      },
      {
        "duration": 15,
        "start_time": "2024-02-28T08:09:36.124Z"
      },
      {
        "duration": 7,
        "start_time": "2024-02-28T08:09:44.221Z"
      },
      {
        "duration": 8,
        "start_time": "2024-02-28T08:10:02.163Z"
      },
      {
        "duration": 4,
        "start_time": "2024-02-28T08:10:06.036Z"
      },
      {
        "duration": 12,
        "start_time": "2024-02-28T08:11:01.522Z"
      },
      {
        "duration": 41,
        "start_time": "2024-02-28T08:11:18.011Z"
      },
      {
        "duration": 9,
        "start_time": "2024-02-28T08:11:20.761Z"
      },
      {
        "duration": 6,
        "start_time": "2024-02-28T08:11:24.357Z"
      },
      {
        "duration": 31,
        "start_time": "2024-02-28T08:11:41.147Z"
      },
      {
        "duration": 4,
        "start_time": "2024-02-28T08:16:46.001Z"
      },
      {
        "duration": 1810,
        "start_time": "2024-02-28T08:17:10.513Z"
      },
      {
        "duration": 1574,
        "start_time": "2024-02-28T08:17:12.327Z"
      },
      {
        "duration": 42,
        "start_time": "2024-02-28T08:17:13.902Z"
      },
      {
        "duration": 162,
        "start_time": "2024-02-28T08:17:13.945Z"
      },
      {
        "duration": 5,
        "start_time": "2024-02-28T08:17:14.109Z"
      },
      {
        "duration": 2443,
        "start_time": "2024-02-28T08:17:14.116Z"
      },
      {
        "duration": 148,
        "start_time": "2024-02-28T08:17:16.561Z"
      },
      {
        "duration": 0,
        "start_time": "2024-02-28T08:17:16.711Z"
      },
      {
        "duration": 0,
        "start_time": "2024-02-28T08:17:16.712Z"
      },
      {
        "duration": 0,
        "start_time": "2024-02-28T08:17:16.723Z"
      },
      {
        "duration": 4,
        "start_time": "2024-02-28T08:18:01.705Z"
      },
      {
        "duration": 4,
        "start_time": "2024-02-28T08:18:06.680Z"
      },
      {
        "duration": 1720,
        "start_time": "2024-02-28T08:18:19.177Z"
      },
      {
        "duration": 1649,
        "start_time": "2024-02-28T08:18:20.899Z"
      },
      {
        "duration": 28,
        "start_time": "2024-02-28T08:18:22.550Z"
      },
      {
        "duration": 167,
        "start_time": "2024-02-28T08:18:22.580Z"
      },
      {
        "duration": 7,
        "start_time": "2024-02-28T08:18:22.750Z"
      },
      {
        "duration": 2292,
        "start_time": "2024-02-28T08:18:22.759Z"
      },
      {
        "duration": 94949,
        "start_time": "2024-02-28T08:18:25.053Z"
      },
      {
        "duration": 39,
        "start_time": "2024-02-28T08:20:00.005Z"
      },
      {
        "duration": 17,
        "start_time": "2024-02-28T08:20:00.046Z"
      },
      {
        "duration": 59,
        "start_time": "2024-02-28T08:20:00.065Z"
      },
      {
        "duration": 4,
        "start_time": "2024-02-28T08:23:11.375Z"
      },
      {
        "duration": 1472,
        "start_time": "2024-02-28T08:23:11.380Z"
      },
      {
        "duration": 27,
        "start_time": "2024-02-28T08:23:12.854Z"
      },
      {
        "duration": 16,
        "start_time": "2024-02-28T08:23:12.883Z"
      },
      {
        "duration": 3,
        "start_time": "2024-02-28T08:23:16.300Z"
      },
      {
        "duration": 52,
        "start_time": "2024-02-28T08:23:18.977Z"
      },
      {
        "duration": 1707,
        "start_time": "2024-02-28T08:23:35.818Z"
      },
      {
        "duration": 1349,
        "start_time": "2024-02-28T08:23:37.527Z"
      },
      {
        "duration": 30,
        "start_time": "2024-02-28T08:23:38.878Z"
      },
      {
        "duration": 149,
        "start_time": "2024-02-28T08:23:38.910Z"
      },
      {
        "duration": 5,
        "start_time": "2024-02-28T08:23:39.061Z"
      },
      {
        "duration": 2412,
        "start_time": "2024-02-28T08:23:39.068Z"
      },
      {
        "duration": 83457,
        "start_time": "2024-02-28T08:23:41.482Z"
      },
      {
        "duration": 38,
        "start_time": "2024-02-28T08:25:04.941Z"
      },
      {
        "duration": 7,
        "start_time": "2024-02-28T08:25:04.980Z"
      },
      {
        "duration": 51,
        "start_time": "2024-02-28T08:25:04.988Z"
      },
      {
        "duration": 77,
        "start_time": "2024-02-28T08:26:39.577Z"
      },
      {
        "duration": 10,
        "start_time": "2024-02-28T08:26:41.407Z"
      },
      {
        "duration": 7,
        "start_time": "2024-02-28T08:27:07.951Z"
      },
      {
        "duration": 7,
        "start_time": "2024-02-28T08:27:12.318Z"
      },
      {
        "duration": 75,
        "start_time": "2024-02-28T08:28:07.199Z"
      },
      {
        "duration": 71,
        "start_time": "2024-02-28T08:28:09.157Z"
      },
      {
        "duration": 138,
        "start_time": "2024-02-28T08:29:48.334Z"
      },
      {
        "duration": 8,
        "start_time": "2024-02-28T08:29:53.054Z"
      },
      {
        "duration": 22,
        "start_time": "2024-02-28T08:30:18.734Z"
      },
      {
        "duration": 78,
        "start_time": "2024-02-28T08:30:23.310Z"
      },
      {
        "duration": 11,
        "start_time": "2024-02-28T08:30:25.328Z"
      },
      {
        "duration": 5,
        "start_time": "2024-02-28T08:33:55.815Z"
      },
      {
        "duration": 44,
        "start_time": "2024-02-28T08:35:11.452Z"
      },
      {
        "duration": 76,
        "start_time": "2024-02-28T08:36:33.899Z"
      },
      {
        "duration": 59,
        "start_time": "2024-02-28T08:37:49.715Z"
      },
      {
        "duration": 9,
        "start_time": "2024-02-28T08:38:02.394Z"
      },
      {
        "duration": 4,
        "start_time": "2024-02-28T08:38:18.147Z"
      },
      {
        "duration": 44,
        "start_time": "2024-02-28T08:38:19.943Z"
      },
      {
        "duration": 5,
        "start_time": "2024-02-28T08:38:24.097Z"
      },
      {
        "duration": 11,
        "start_time": "2024-02-28T08:38:31.743Z"
      },
      {
        "duration": 3,
        "start_time": "2024-02-28T08:38:38.862Z"
      },
      {
        "duration": 10,
        "start_time": "2024-02-28T08:39:35.420Z"
      },
      {
        "duration": 69,
        "start_time": "2024-02-28T08:39:36.892Z"
      },
      {
        "duration": 4,
        "start_time": "2024-02-28T08:39:49.794Z"
      },
      {
        "duration": 44,
        "start_time": "2024-02-28T08:39:50.778Z"
      },
      {
        "duration": 7,
        "start_time": "2024-02-28T08:40:03.235Z"
      },
      {
        "duration": 19,
        "start_time": "2024-02-28T08:40:03.811Z"
      },
      {
        "duration": 10,
        "start_time": "2024-02-28T08:40:47.629Z"
      },
      {
        "duration": 4,
        "start_time": "2024-02-28T08:40:51.290Z"
      },
      {
        "duration": 52,
        "start_time": "2024-02-28T08:40:52.291Z"
      },
      {
        "duration": 12,
        "start_time": "2024-02-28T08:42:46.482Z"
      },
      {
        "duration": 4,
        "start_time": "2024-02-28T08:43:04.075Z"
      },
      {
        "duration": 7,
        "start_time": "2024-02-28T08:43:09.362Z"
      },
      {
        "duration": 4,
        "start_time": "2024-02-28T08:45:53.177Z"
      },
      {
        "duration": 20,
        "start_time": "2024-02-28T08:45:59.954Z"
      },
      {
        "duration": 4,
        "start_time": "2024-02-28T08:46:32.434Z"
      },
      {
        "duration": 41,
        "start_time": "2024-02-28T08:46:34.330Z"
      },
      {
        "duration": 4,
        "start_time": "2024-02-28T08:47:11.258Z"
      },
      {
        "duration": 41,
        "start_time": "2024-02-28T08:47:32.768Z"
      },
      {
        "duration": 58,
        "start_time": "2024-02-28T10:05:36.614Z"
      },
      {
        "duration": 44,
        "start_time": "2024-02-28T10:05:55.207Z"
      },
      {
        "duration": 38,
        "start_time": "2024-02-28T10:06:18.045Z"
      },
      {
        "duration": 10,
        "start_time": "2024-02-28T11:22:33.166Z"
      },
      {
        "duration": 8,
        "start_time": "2024-02-28T11:22:37.835Z"
      },
      {
        "duration": 8,
        "start_time": "2024-02-28T11:22:43.277Z"
      },
      {
        "duration": 5384,
        "start_time": "2024-02-28T11:22:55.938Z"
      },
      {
        "duration": 7,
        "start_time": "2024-02-28T11:24:01.922Z"
      },
      {
        "duration": 4,
        "start_time": "2024-02-28T11:24:06.004Z"
      },
      {
        "duration": 62,
        "start_time": "2024-02-28T11:24:06.404Z"
      },
      {
        "duration": 5,
        "start_time": "2024-02-28T11:24:34.883Z"
      },
      {
        "duration": 39,
        "start_time": "2024-02-28T11:24:36.717Z"
      },
      {
        "duration": 11,
        "start_time": "2024-02-28T11:26:17.653Z"
      },
      {
        "duration": 228,
        "start_time": "2024-02-28T11:26:23.898Z"
      },
      {
        "duration": 11,
        "start_time": "2024-02-28T11:26:38.816Z"
      },
      {
        "duration": 4,
        "start_time": "2024-02-28T11:27:00.043Z"
      },
      {
        "duration": 1886,
        "start_time": "2024-02-28T11:27:07.695Z"
      },
      {
        "duration": 1785,
        "start_time": "2024-02-28T11:27:09.583Z"
      },
      {
        "duration": 28,
        "start_time": "2024-02-28T11:27:11.370Z"
      },
      {
        "duration": 169,
        "start_time": "2024-02-28T11:27:11.399Z"
      },
      {
        "duration": 4,
        "start_time": "2024-02-28T11:27:11.570Z"
      },
      {
        "duration": 2510,
        "start_time": "2024-02-28T11:27:11.575Z"
      },
      {
        "duration": 79427,
        "start_time": "2024-02-28T11:27:14.087Z"
      },
      {
        "duration": 41,
        "start_time": "2024-02-28T11:28:33.517Z"
      },
      {
        "duration": 104,
        "start_time": "2024-02-28T11:28:33.560Z"
      },
      {
        "duration": 5504,
        "start_time": "2024-02-28T11:28:33.665Z"
      },
      {
        "duration": 7,
        "start_time": "2024-02-28T11:28:39.170Z"
      },
      {
        "duration": 5,
        "start_time": "2024-02-28T11:28:39.178Z"
      },
      {
        "duration": 5,
        "start_time": "2024-02-28T11:28:39.185Z"
      },
      {
        "duration": 53,
        "start_time": "2024-02-28T11:30:23.221Z"
      },
      {
        "duration": 1845,
        "start_time": "2024-02-28T11:30:29.524Z"
      },
      {
        "duration": 1521,
        "start_time": "2024-02-28T11:30:31.370Z"
      },
      {
        "duration": 31,
        "start_time": "2024-02-28T11:30:32.893Z"
      },
      {
        "duration": 293,
        "start_time": "2024-02-28T11:30:32.925Z"
      },
      {
        "duration": 4,
        "start_time": "2024-02-28T11:30:33.221Z"
      },
      {
        "duration": 2344,
        "start_time": "2024-02-28T11:30:33.226Z"
      },
      {
        "duration": 79685,
        "start_time": "2024-02-28T11:30:35.572Z"
      },
      {
        "duration": 35,
        "start_time": "2024-02-28T11:31:55.259Z"
      },
      {
        "duration": 113,
        "start_time": "2024-02-28T11:31:55.295Z"
      },
      {
        "duration": 5403,
        "start_time": "2024-02-28T11:31:55.409Z"
      },
      {
        "duration": 14,
        "start_time": "2024-02-28T11:32:00.815Z"
      },
      {
        "duration": 70,
        "start_time": "2024-02-28T11:32:00.831Z"
      },
      {
        "duration": 88,
        "start_time": "2024-02-28T11:32:00.903Z"
      },
      {
        "duration": 1788,
        "start_time": "2024-02-28T11:35:42.698Z"
      },
      {
        "duration": 1513,
        "start_time": "2024-02-28T11:35:44.488Z"
      },
      {
        "duration": 33,
        "start_time": "2024-02-28T11:35:46.003Z"
      },
      {
        "duration": 139,
        "start_time": "2024-02-28T11:35:46.038Z"
      },
      {
        "duration": 4,
        "start_time": "2024-02-28T11:35:46.179Z"
      },
      {
        "duration": 2268,
        "start_time": "2024-02-28T11:35:46.185Z"
      },
      {
        "duration": 79368,
        "start_time": "2024-02-28T11:35:48.455Z"
      },
      {
        "duration": 35,
        "start_time": "2024-02-28T11:37:07.825Z"
      },
      {
        "duration": 115,
        "start_time": "2024-02-28T11:37:07.862Z"
      },
      {
        "duration": 5236,
        "start_time": "2024-02-28T11:37:07.979Z"
      },
      {
        "duration": 10,
        "start_time": "2024-02-28T11:37:13.217Z"
      },
      {
        "duration": 3,
        "start_time": "2024-02-28T11:37:13.229Z"
      },
      {
        "duration": 5,
        "start_time": "2024-02-28T11:37:13.234Z"
      },
      {
        "duration": 54,
        "start_time": "2024-02-28T11:49:55.971Z"
      },
      {
        "duration": 1778,
        "start_time": "2024-02-28T11:50:16.318Z"
      },
      {
        "duration": 1578,
        "start_time": "2024-02-28T11:50:18.098Z"
      },
      {
        "duration": 27,
        "start_time": "2024-02-28T11:50:19.678Z"
      },
      {
        "duration": 216,
        "start_time": "2024-02-28T11:50:19.707Z"
      },
      {
        "duration": 4,
        "start_time": "2024-02-28T11:50:19.925Z"
      },
      {
        "duration": 2341,
        "start_time": "2024-02-28T11:50:19.930Z"
      },
      {
        "duration": 80523,
        "start_time": "2024-02-28T11:50:22.273Z"
      },
      {
        "duration": 44,
        "start_time": "2024-02-28T11:51:42.797Z"
      },
      {
        "duration": 93,
        "start_time": "2024-02-28T11:51:42.843Z"
      },
      {
        "duration": 5272,
        "start_time": "2024-02-28T11:51:42.938Z"
      },
      {
        "duration": 17,
        "start_time": "2024-02-28T11:51:48.212Z"
      },
      {
        "duration": 3,
        "start_time": "2024-02-28T11:51:48.230Z"
      },
      {
        "duration": 13,
        "start_time": "2024-02-28T11:51:48.235Z"
      },
      {
        "duration": 241374,
        "start_time": "2024-02-28T11:51:48.251Z"
      },
      {
        "duration": 4,
        "start_time": "2024-02-28T11:56:32.429Z"
      },
      {
        "duration": 3,
        "start_time": "2024-02-28T11:56:57.912Z"
      },
      {
        "duration": 169,
        "start_time": "2024-02-28T11:56:58.549Z"
      },
      {
        "duration": 20,
        "start_time": "2024-02-28T11:57:30.569Z"
      },
      {
        "duration": 40,
        "start_time": "2024-02-28T11:58:32.351Z"
      },
      {
        "duration": 74,
        "start_time": "2024-02-28T12:05:41.240Z"
      },
      {
        "duration": 7,
        "start_time": "2024-02-28T12:05:52.294Z"
      },
      {
        "duration": 4,
        "start_time": "2024-02-28T12:05:55.723Z"
      },
      {
        "duration": 41,
        "start_time": "2024-02-28T12:05:56.891Z"
      },
      {
        "duration": 41,
        "start_time": "2024-02-28T12:10:42.683Z"
      },
      {
        "duration": 41,
        "start_time": "2024-02-28T12:10:51.569Z"
      },
      {
        "duration": 42,
        "start_time": "2024-02-28T12:10:53.938Z"
      },
      {
        "duration": 43,
        "start_time": "2024-02-28T12:10:59.435Z"
      },
      {
        "duration": 4,
        "start_time": "2024-02-28T12:12:30.970Z"
      },
      {
        "duration": 40,
        "start_time": "2024-02-28T12:12:32.107Z"
      },
      {
        "duration": 4,
        "start_time": "2024-02-28T12:12:49.313Z"
      },
      {
        "duration": 4,
        "start_time": "2024-02-28T12:14:20.112Z"
      },
      {
        "duration": 49,
        "start_time": "2024-02-28T12:14:23.921Z"
      },
      {
        "duration": 4,
        "start_time": "2024-02-28T12:14:30.705Z"
      },
      {
        "duration": 16,
        "start_time": "2024-02-28T12:14:31.648Z"
      },
      {
        "duration": 4,
        "start_time": "2024-02-28T12:14:36.544Z"
      },
      {
        "duration": 4,
        "start_time": "2024-02-28T12:14:48.080Z"
      },
      {
        "duration": 1787,
        "start_time": "2024-02-28T12:15:11.634Z"
      },
      {
        "duration": 1718,
        "start_time": "2024-02-28T12:15:13.423Z"
      },
      {
        "duration": 28,
        "start_time": "2024-02-28T12:15:15.142Z"
      },
      {
        "duration": 180,
        "start_time": "2024-02-28T12:15:15.171Z"
      },
      {
        "duration": 4,
        "start_time": "2024-02-28T12:15:15.353Z"
      },
      {
        "duration": 2516,
        "start_time": "2024-02-28T12:15:15.359Z"
      },
      {
        "duration": 79984,
        "start_time": "2024-02-28T12:15:17.876Z"
      },
      {
        "duration": 34,
        "start_time": "2024-02-28T12:16:37.862Z"
      },
      {
        "duration": 101,
        "start_time": "2024-02-28T12:16:37.897Z"
      },
      {
        "duration": 3,
        "start_time": "2024-02-28T12:16:37.999Z"
      },
      {
        "duration": 19,
        "start_time": "2024-02-28T12:16:38.004Z"
      },
      {
        "duration": 4,
        "start_time": "2024-02-28T12:16:38.025Z"
      },
      {
        "duration": 667594,
        "start_time": "2024-02-28T12:16:38.031Z"
      },
      {
        "duration": 3,
        "start_time": "2024-02-28T12:27:45.629Z"
      },
      {
        "duration": 94,
        "start_time": "2024-02-28T12:27:45.724Z"
      },
      {
        "duration": 55,
        "start_time": "2024-02-28T12:27:45.819Z"
      },
      {
        "duration": 61,
        "start_time": "2024-02-28T12:27:45.876Z"
      },
      {
        "duration": 4,
        "start_time": "2024-02-28T12:31:08.578Z"
      },
      {
        "duration": 5,
        "start_time": "2024-02-28T12:31:16.368Z"
      },
      {
        "duration": 1811,
        "start_time": "2024-02-28T12:34:51.155Z"
      },
      {
        "duration": 1843,
        "start_time": "2024-02-28T12:34:52.968Z"
      },
      {
        "duration": 35,
        "start_time": "2024-02-28T12:34:54.813Z"
      },
      {
        "duration": 214,
        "start_time": "2024-02-28T12:34:54.850Z"
      },
      {
        "duration": 4,
        "start_time": "2024-02-28T12:34:55.066Z"
      },
      {
        "duration": 2430,
        "start_time": "2024-02-28T12:34:55.072Z"
      },
      {
        "duration": 78777,
        "start_time": "2024-02-28T12:34:57.504Z"
      },
      {
        "duration": 41,
        "start_time": "2024-02-28T12:36:16.283Z"
      },
      {
        "duration": 100,
        "start_time": "2024-02-28T12:36:16.327Z"
      },
      {
        "duration": 3,
        "start_time": "2024-02-28T12:36:16.429Z"
      },
      {
        "duration": 40,
        "start_time": "2024-02-28T12:36:16.434Z"
      },
      {
        "duration": 21,
        "start_time": "2024-02-28T12:36:16.476Z"
      },
      {
        "duration": 370532,
        "start_time": "2024-02-28T12:36:16.499Z"
      },
      {
        "duration": 191,
        "start_time": "2024-02-28T12:42:27.034Z"
      },
      {
        "duration": 0,
        "start_time": "2024-02-28T12:42:27.226Z"
      },
      {
        "duration": 1712,
        "start_time": "2024-02-28T12:45:55.663Z"
      },
      {
        "duration": 2295,
        "start_time": "2024-02-28T12:45:57.377Z"
      },
      {
        "duration": 28,
        "start_time": "2024-02-28T12:45:59.673Z"
      },
      {
        "duration": 151,
        "start_time": "2024-02-28T12:45:59.702Z"
      },
      {
        "duration": 3,
        "start_time": "2024-02-28T12:45:59.855Z"
      },
      {
        "duration": 2308,
        "start_time": "2024-02-28T12:45:59.860Z"
      },
      {
        "duration": 79927,
        "start_time": "2024-02-28T12:46:02.170Z"
      },
      {
        "duration": 40,
        "start_time": "2024-02-28T12:47:22.099Z"
      },
      {
        "duration": 116,
        "start_time": "2024-02-28T12:47:22.141Z"
      },
      {
        "duration": 3,
        "start_time": "2024-02-28T12:47:22.259Z"
      },
      {
        "duration": 64,
        "start_time": "2024-02-28T12:47:22.264Z"
      },
      {
        "duration": 25,
        "start_time": "2024-02-28T12:47:22.330Z"
      },
      {
        "duration": 10,
        "start_time": "2024-02-28T12:50:52.946Z"
      },
      {
        "duration": 45,
        "start_time": "2024-02-28T12:50:55.739Z"
      },
      {
        "duration": 1812,
        "start_time": "2024-02-28T12:51:01.768Z"
      },
      {
        "duration": 1657,
        "start_time": "2024-02-28T12:51:03.582Z"
      },
      {
        "duration": 27,
        "start_time": "2024-02-28T12:51:05.241Z"
      },
      {
        "duration": 143,
        "start_time": "2024-02-28T12:51:05.271Z"
      },
      {
        "duration": 4,
        "start_time": "2024-02-28T12:51:05.416Z"
      },
      {
        "duration": 2297,
        "start_time": "2024-02-28T12:51:05.421Z"
      },
      {
        "duration": 79445,
        "start_time": "2024-02-28T12:51:07.719Z"
      },
      {
        "duration": 33,
        "start_time": "2024-02-28T12:52:27.166Z"
      },
      {
        "duration": 129,
        "start_time": "2024-02-28T12:52:27.201Z"
      },
      {
        "duration": 31,
        "start_time": "2024-02-28T12:52:27.331Z"
      },
      {
        "duration": 46,
        "start_time": "2024-02-28T12:52:27.364Z"
      },
      {
        "duration": 55,
        "start_time": "2024-02-28T12:52:27.412Z"
      },
      {
        "duration": 1827,
        "start_time": "2024-02-28T12:54:34.859Z"
      },
      {
        "duration": 1384,
        "start_time": "2024-02-28T12:54:36.688Z"
      },
      {
        "duration": 29,
        "start_time": "2024-02-28T12:54:42.389Z"
      },
      {
        "duration": 133,
        "start_time": "2024-02-28T12:54:59.188Z"
      },
      {
        "duration": 6,
        "start_time": "2024-02-28T12:55:04.315Z"
      },
      {
        "duration": 10,
        "start_time": "2024-02-28T12:55:09.979Z"
      },
      {
        "duration": 149,
        "start_time": "2024-02-28T12:55:15.059Z"
      },
      {
        "duration": 159,
        "start_time": "2024-02-28T12:55:23.100Z"
      },
      {
        "duration": 369,
        "start_time": "2024-02-28T12:55:51.578Z"
      },
      {
        "duration": 145,
        "start_time": "2024-02-28T12:55:55.762Z"
      },
      {
        "duration": 6,
        "start_time": "2024-02-28T12:56:02.843Z"
      },
      {
        "duration": 139,
        "start_time": "2024-02-28T12:56:16.811Z"
      },
      {
        "duration": 5,
        "start_time": "2024-02-28T12:56:18.388Z"
      },
      {
        "duration": 2299,
        "start_time": "2024-02-28T12:56:20.606Z"
      },
      {
        "duration": 78386,
        "start_time": "2024-02-28T12:56:22.907Z"
      },
      {
        "duration": 35,
        "start_time": "2024-02-28T12:57:41.294Z"
      },
      {
        "duration": 93,
        "start_time": "2024-02-28T12:57:41.330Z"
      },
      {
        "duration": 6,
        "start_time": "2024-02-28T12:57:41.426Z"
      },
      {
        "duration": 4,
        "start_time": "2024-02-28T12:57:41.434Z"
      },
      {
        "duration": 1815,
        "start_time": "2024-02-28T13:02:33.147Z"
      },
      {
        "duration": 1462,
        "start_time": "2024-02-28T13:02:34.964Z"
      },
      {
        "duration": 32,
        "start_time": "2024-02-28T13:02:36.428Z"
      },
      {
        "duration": 7,
        "start_time": "2024-02-28T13:02:36.461Z"
      },
      {
        "duration": 162,
        "start_time": "2024-02-28T13:02:36.470Z"
      },
      {
        "duration": 4,
        "start_time": "2024-02-28T13:02:36.634Z"
      },
      {
        "duration": 2315,
        "start_time": "2024-02-28T13:02:36.639Z"
      },
      {
        "duration": 78829,
        "start_time": "2024-02-28T13:02:38.956Z"
      },
      {
        "duration": 28,
        "start_time": "2024-02-28T13:03:57.787Z"
      },
      {
        "duration": 88,
        "start_time": "2024-02-28T13:03:57.822Z"
      },
      {
        "duration": 7,
        "start_time": "2024-02-28T13:06:58.471Z"
      },
      {
        "duration": 141,
        "start_time": "2024-02-28T13:06:59.449Z"
      },
      {
        "duration": 9,
        "start_time": "2024-02-28T13:09:03.134Z"
      },
      {
        "duration": 5717,
        "start_time": "2024-02-28T13:11:31.127Z"
      },
      {
        "duration": 39,
        "start_time": "2024-02-28T13:11:40.223Z"
      },
      {
        "duration": 50,
        "start_time": "2024-02-28T13:13:41.704Z"
      },
      {
        "duration": 1765,
        "start_time": "2024-02-28T13:14:26.264Z"
      },
      {
        "duration": 1314,
        "start_time": "2024-02-28T13:14:28.031Z"
      },
      {
        "duration": 28,
        "start_time": "2024-02-28T13:14:29.347Z"
      },
      {
        "duration": 8,
        "start_time": "2024-02-28T13:14:29.376Z"
      },
      {
        "duration": 136,
        "start_time": "2024-02-28T13:14:29.386Z"
      },
      {
        "duration": 5,
        "start_time": "2024-02-28T13:14:29.523Z"
      },
      {
        "duration": 2331,
        "start_time": "2024-02-28T13:14:29.529Z"
      },
      {
        "duration": 79691,
        "start_time": "2024-02-28T13:14:31.862Z"
      },
      {
        "duration": 28,
        "start_time": "2024-02-28T13:15:51.555Z"
      },
      {
        "duration": 108,
        "start_time": "2024-02-28T13:15:51.585Z"
      },
      {
        "duration": 9,
        "start_time": "2024-02-28T13:15:51.696Z"
      },
      {
        "duration": 8,
        "start_time": "2024-02-28T13:15:51.707Z"
      },
      {
        "duration": 3,
        "start_time": "2024-02-28T13:15:51.722Z"
      },
      {
        "duration": 24,
        "start_time": "2024-02-28T13:15:51.729Z"
      },
      {
        "duration": 17,
        "start_time": "2024-02-28T13:15:51.755Z"
      },
      {
        "duration": 5333,
        "start_time": "2024-02-28T13:15:51.774Z"
      },
      {
        "duration": 178,
        "start_time": "2024-02-28T13:15:57.109Z"
      },
      {
        "duration": 36,
        "start_time": "2024-02-28T13:16:34.182Z"
      },
      {
        "duration": 40,
        "start_time": "2024-02-28T13:18:36.630Z"
      },
      {
        "duration": 1827,
        "start_time": "2024-02-28T13:22:03.455Z"
      },
      {
        "duration": 1467,
        "start_time": "2024-02-28T13:22:05.283Z"
      },
      {
        "duration": 27,
        "start_time": "2024-02-28T13:22:06.752Z"
      },
      {
        "duration": 7,
        "start_time": "2024-02-28T13:22:06.781Z"
      },
      {
        "duration": 155,
        "start_time": "2024-02-28T13:22:06.790Z"
      },
      {
        "duration": 4,
        "start_time": "2024-02-28T13:22:06.947Z"
      },
      {
        "duration": 2329,
        "start_time": "2024-02-28T13:22:06.953Z"
      },
      {
        "duration": 79481,
        "start_time": "2024-02-28T13:22:09.284Z"
      },
      {
        "duration": 28,
        "start_time": "2024-02-28T13:23:28.767Z"
      },
      {
        "duration": 99,
        "start_time": "2024-02-28T13:23:28.797Z"
      },
      {
        "duration": 6,
        "start_time": "2024-02-28T13:23:28.898Z"
      },
      {
        "duration": 45,
        "start_time": "2024-02-28T13:23:28.906Z"
      },
      {
        "duration": 9,
        "start_time": "2024-02-28T13:23:28.953Z"
      },
      {
        "duration": 14,
        "start_time": "2024-02-28T13:23:28.965Z"
      },
      {
        "duration": 13,
        "start_time": "2024-02-28T13:23:28.982Z"
      },
      {
        "duration": 5314,
        "start_time": "2024-02-28T13:23:28.997Z"
      },
      {
        "duration": 1856,
        "start_time": "2024-02-29T06:21:57.758Z"
      },
      {
        "duration": 1950,
        "start_time": "2024-02-29T06:22:01.429Z"
      },
      {
        "duration": 26,
        "start_time": "2024-02-29T06:22:05.331Z"
      },
      {
        "duration": 8,
        "start_time": "2024-02-29T06:22:05.589Z"
      },
      {
        "duration": 197,
        "start_time": "2024-02-29T06:22:08.376Z"
      },
      {
        "duration": 4,
        "start_time": "2024-02-29T06:22:08.781Z"
      },
      {
        "duration": 8,
        "start_time": "2024-02-29T06:22:34.363Z"
      },
      {
        "duration": 4,
        "start_time": "2024-02-29T06:22:37.411Z"
      },
      {
        "duration": 5650,
        "start_time": "2024-02-29T06:23:09.999Z"
      },
      {
        "duration": 3,
        "start_time": "2024-02-29T06:24:11.639Z"
      },
      {
        "duration": 4141,
        "start_time": "2024-02-29T06:24:13.547Z"
      },
      {
        "duration": 4,
        "start_time": "2024-02-29T06:26:19.805Z"
      },
      {
        "duration": 1337,
        "start_time": "2024-02-29T06:26:21.946Z"
      },
      {
        "duration": 28,
        "start_time": "2024-02-29T06:26:23.898Z"
      },
      {
        "duration": 6,
        "start_time": "2024-02-29T06:26:24.396Z"
      },
      {
        "duration": 4,
        "start_time": "2024-02-29T06:26:26.670Z"
      },
      {
        "duration": 4,
        "start_time": "2024-02-29T06:26:28.408Z"
      },
      {
        "duration": 3,
        "start_time": "2024-02-29T06:26:31.464Z"
      },
      {
        "duration": 4292,
        "start_time": "2024-02-29T06:26:41.725Z"
      },
      {
        "duration": 2313,
        "start_time": "2024-02-29T06:26:50.263Z"
      },
      {
        "duration": 79317,
        "start_time": "2024-02-29T06:26:54.373Z"
      },
      {
        "duration": 21,
        "start_time": "2024-02-29T06:28:58.416Z"
      },
      {
        "duration": 4,
        "start_time": "2024-02-29T06:29:04.344Z"
      },
      {
        "duration": 4,
        "start_time": "2024-02-29T06:29:29.464Z"
      },
      {
        "duration": 120,
        "start_time": "2024-02-29T06:31:38.736Z"
      },
      {
        "duration": 4,
        "start_time": "2024-02-29T06:32:31.664Z"
      },
      {
        "duration": 4,
        "start_time": "2024-02-29T06:32:44.406Z"
      },
      {
        "duration": 24,
        "start_time": "2024-02-29T06:33:18.615Z"
      },
      {
        "duration": 26,
        "start_time": "2024-02-29T06:33:22.899Z"
      },
      {
        "duration": 81,
        "start_time": "2024-02-29T06:33:41.495Z"
      },
      {
        "duration": 99,
        "start_time": "2024-02-29T06:34:19.486Z"
      },
      {
        "duration": 8,
        "start_time": "2024-02-29T06:34:24.909Z"
      },
      {
        "duration": 4,
        "start_time": "2024-02-29T06:34:28.934Z"
      },
      {
        "duration": 17,
        "start_time": "2024-02-29T06:41:41.529Z"
      },
      {
        "duration": 9198,
        "start_time": "2024-02-29T06:42:19.334Z"
      },
      {
        "duration": 1973,
        "start_time": "2024-02-29T06:42:32.200Z"
      },
      {
        "duration": 27,
        "start_time": "2024-02-29T06:42:35.857Z"
      },
      {
        "duration": 6,
        "start_time": "2024-02-29T06:42:36.963Z"
      },
      {
        "duration": 132,
        "start_time": "2024-02-29T06:42:39.296Z"
      },
      {
        "duration": 5,
        "start_time": "2024-02-29T06:42:41.294Z"
      },
      {
        "duration": 2437,
        "start_time": "2024-02-29T06:42:43.814Z"
      },
      {
        "duration": 80375,
        "start_time": "2024-02-29T06:43:07.362Z"
      },
      {
        "duration": 10,
        "start_time": "2024-02-29T06:44:44.060Z"
      },
      {
        "duration": 22,
        "start_time": "2024-02-29T06:44:54.389Z"
      },
      {
        "duration": 106,
        "start_time": "2024-02-29T06:44:54.957Z"
      },
      {
        "duration": 7,
        "start_time": "2024-02-29T06:45:00.527Z"
      },
      {
        "duration": 140,
        "start_time": "2024-02-29T06:46:08.606Z"
      },
      {
        "duration": 80,
        "start_time": "2024-02-29T06:46:20.298Z"
      },
      {
        "duration": 13,
        "start_time": "2024-02-29T06:49:59.665Z"
      },
      {
        "duration": 74,
        "start_time": "2024-02-29T06:50:05.130Z"
      },
      {
        "duration": 4,
        "start_time": "2024-02-29T06:54:24.106Z"
      },
      {
        "duration": 21,
        "start_time": "2024-02-29T06:54:27.705Z"
      },
      {
        "duration": 5,
        "start_time": "2024-02-29T06:54:40.693Z"
      },
      {
        "duration": 19,
        "start_time": "2024-02-29T06:54:42.683Z"
      },
      {
        "duration": 5,
        "start_time": "2024-02-29T06:54:47.769Z"
      },
      {
        "duration": 12479,
        "start_time": "2024-02-29T06:54:50.445Z"
      },
      {
        "duration": 4,
        "start_time": "2024-02-29T06:55:16.667Z"
      },
      {
        "duration": 6679,
        "start_time": "2024-02-29T06:55:57.220Z"
      },
      {
        "duration": 1714,
        "start_time": "2024-02-29T06:56:03.902Z"
      },
      {
        "duration": 31,
        "start_time": "2024-02-29T06:56:05.618Z"
      },
      {
        "duration": 9,
        "start_time": "2024-02-29T06:56:05.650Z"
      },
      {
        "duration": 140,
        "start_time": "2024-02-29T06:56:05.661Z"
      },
      {
        "duration": 5,
        "start_time": "2024-02-29T06:56:05.803Z"
      },
      {
        "duration": 2417,
        "start_time": "2024-02-29T06:56:05.810Z"
      },
      {
        "duration": 79709,
        "start_time": "2024-02-29T06:56:08.229Z"
      },
      {
        "duration": 9,
        "start_time": "2024-02-29T06:57:27.940Z"
      },
      {
        "duration": 33,
        "start_time": "2024-02-29T06:57:27.951Z"
      },
      {
        "duration": 99,
        "start_time": "2024-02-29T06:57:27.986Z"
      },
      {
        "duration": 8,
        "start_time": "2024-02-29T06:57:28.087Z"
      },
      {
        "duration": 16,
        "start_time": "2024-02-29T06:57:28.096Z"
      },
      {
        "duration": 148,
        "start_time": "2024-02-29T06:57:28.115Z"
      },
      {
        "duration": 0,
        "start_time": "2024-02-29T06:57:28.265Z"
      },
      {
        "duration": 0,
        "start_time": "2024-02-29T06:57:28.266Z"
      },
      {
        "duration": 0,
        "start_time": "2024-02-29T06:57:28.267Z"
      },
      {
        "duration": 0,
        "start_time": "2024-02-29T06:57:28.268Z"
      },
      {
        "duration": 0,
        "start_time": "2024-02-29T06:57:28.269Z"
      },
      {
        "duration": 0,
        "start_time": "2024-02-29T06:57:28.270Z"
      },
      {
        "duration": 73,
        "start_time": "2024-02-29T06:58:15.003Z"
      },
      {
        "duration": 74,
        "start_time": "2024-02-29T06:58:49.353Z"
      },
      {
        "duration": 26,
        "start_time": "2024-02-29T06:58:57.140Z"
      },
      {
        "duration": 2,
        "start_time": "2024-02-29T06:59:37.201Z"
      },
      {
        "duration": 4,
        "start_time": "2024-02-29T06:59:40.238Z"
      },
      {
        "duration": 15,
        "start_time": "2024-02-29T06:59:43.613Z"
      },
      {
        "duration": 4,
        "start_time": "2024-02-29T06:59:50.129Z"
      },
      {
        "duration": 50,
        "start_time": "2024-02-29T07:04:26.751Z"
      },
      {
        "duration": 5956,
        "start_time": "2024-02-29T07:04:41.002Z"
      },
      {
        "duration": 1438,
        "start_time": "2024-02-29T07:04:46.960Z"
      },
      {
        "duration": 28,
        "start_time": "2024-02-29T07:04:48.400Z"
      },
      {
        "duration": 42,
        "start_time": "2024-02-29T07:04:48.430Z"
      },
      {
        "duration": 158,
        "start_time": "2024-02-29T07:04:48.474Z"
      },
      {
        "duration": 5,
        "start_time": "2024-02-29T07:04:48.633Z"
      },
      {
        "duration": 2476,
        "start_time": "2024-02-29T07:04:48.639Z"
      },
      {
        "duration": 80216,
        "start_time": "2024-02-29T07:04:51.116Z"
      },
      {
        "duration": 10,
        "start_time": "2024-02-29T07:06:11.334Z"
      },
      {
        "duration": 24,
        "start_time": "2024-02-29T07:06:52.078Z"
      },
      {
        "duration": 4,
        "start_time": "2024-02-29T07:06:52.329Z"
      },
      {
        "duration": 50,
        "start_time": "2024-02-29T07:08:04.039Z"
      },
      {
        "duration": 138,
        "start_time": "2024-02-29T07:09:01.406Z"
      },
      {
        "duration": 71,
        "start_time": "2024-02-29T07:09:17.580Z"
      },
      {
        "duration": 7,
        "start_time": "2024-02-29T07:09:42.828Z"
      },
      {
        "duration": 54,
        "start_time": "2024-02-29T07:10:00.772Z"
      },
      {
        "duration": 47,
        "start_time": "2024-02-29T07:10:09.143Z"
      },
      {
        "duration": 4,
        "start_time": "2024-02-29T07:10:35.869Z"
      },
      {
        "duration": 71,
        "start_time": "2024-02-29T07:10:37.053Z"
      },
      {
        "duration": 4,
        "start_time": "2024-02-29T07:12:38.259Z"
      },
      {
        "duration": 5605,
        "start_time": "2024-02-29T07:13:19.553Z"
      },
      {
        "duration": 1655,
        "start_time": "2024-02-29T07:13:25.160Z"
      },
      {
        "duration": 29,
        "start_time": "2024-02-29T07:13:26.817Z"
      },
      {
        "duration": 31,
        "start_time": "2024-02-29T07:13:26.848Z"
      },
      {
        "duration": 157,
        "start_time": "2024-02-29T07:13:26.881Z"
      },
      {
        "duration": 5,
        "start_time": "2024-02-29T07:13:27.040Z"
      },
      {
        "duration": 2433,
        "start_time": "2024-02-29T07:13:27.046Z"
      },
      {
        "duration": 79979,
        "start_time": "2024-02-29T07:13:29.481Z"
      },
      {
        "duration": 10,
        "start_time": "2024-02-29T07:14:49.462Z"
      },
      {
        "duration": 49,
        "start_time": "2024-02-29T07:14:49.474Z"
      },
      {
        "duration": 99,
        "start_time": "2024-02-29T07:14:49.525Z"
      },
      {
        "duration": 2,
        "start_time": "2024-02-29T07:14:49.626Z"
      },
      {
        "duration": 32,
        "start_time": "2024-02-29T07:14:49.630Z"
      },
      {
        "duration": 52,
        "start_time": "2024-02-29T07:14:49.665Z"
      },
      {
        "duration": 5,
        "start_time": "2024-02-29T07:14:49.718Z"
      },
      {
        "duration": 6984,
        "start_time": "2024-02-29T07:20:57.049Z"
      },
      {
        "duration": 1690,
        "start_time": "2024-02-29T07:21:16.632Z"
      },
      {
        "duration": 28,
        "start_time": "2024-02-29T07:21:33.915Z"
      },
      {
        "duration": 7,
        "start_time": "2024-02-29T07:21:34.811Z"
      },
      {
        "duration": 139,
        "start_time": "2024-02-29T07:21:36.855Z"
      },
      {
        "duration": 4,
        "start_time": "2024-02-29T07:21:38.646Z"
      },
      {
        "duration": 73,
        "start_time": "2024-02-29T07:21:48.235Z"
      },
      {
        "duration": 5755,
        "start_time": "2024-02-29T07:21:58.784Z"
      },
      {
        "duration": 2323,
        "start_time": "2024-02-29T07:24:33.824Z"
      },
      {
        "duration": 2367,
        "start_time": "2024-02-29T07:24:42.479Z"
      },
      {
        "duration": 2404,
        "start_time": "2024-02-29T07:24:54.535Z"
      },
      {
        "duration": 4,
        "start_time": "2024-02-29T07:25:33.903Z"
      },
      {
        "duration": 76034,
        "start_time": "2024-02-29T07:26:20.023Z"
      },
      {
        "duration": 4,
        "start_time": "2024-02-29T07:28:16.118Z"
      },
      {
        "duration": 56,
        "start_time": "2024-02-29T07:28:56.886Z"
      },
      {
        "duration": 1337,
        "start_time": "2024-02-29T07:29:05.753Z"
      },
      {
        "duration": 4299,
        "start_time": "2024-02-29T07:29:22.697Z"
      },
      {
        "duration": 1445,
        "start_time": "2024-02-29T07:29:30.217Z"
      },
      {
        "duration": 17,
        "start_time": "2024-02-29T07:29:33.732Z"
      },
      {
        "duration": 25,
        "start_time": "2024-02-29T07:29:38.544Z"
      },
      {
        "duration": 6,
        "start_time": "2024-02-29T07:29:41.009Z"
      },
      {
        "duration": 130,
        "start_time": "2024-02-29T07:29:45.209Z"
      },
      {
        "duration": 4,
        "start_time": "2024-02-29T07:29:47.090Z"
      },
      {
        "duration": 48831,
        "start_time": "2024-02-29T07:29:50.657Z"
      },
      {
        "duration": 7,
        "start_time": "2024-02-29T07:30:42.931Z"
      },
      {
        "duration": 82,
        "start_time": "2024-02-29T07:31:23.026Z"
      },
      {
        "duration": 64,
        "start_time": "2024-02-29T07:31:29.742Z"
      },
      {
        "duration": 7,
        "start_time": "2024-02-29T07:31:40.861Z"
      },
      {
        "duration": 42,
        "start_time": "2024-02-29T07:31:54.118Z"
      },
      {
        "duration": 4,
        "start_time": "2024-02-29T07:32:08.109Z"
      },
      {
        "duration": 230284,
        "start_time": "2024-02-29T07:32:10.444Z"
      },
      {
        "duration": 973281,
        "start_time": "2024-02-29T07:37:42.812Z"
      },
      {
        "duration": 121,
        "start_time": "2024-02-29T07:54:08.193Z"
      },
      {
        "duration": 71,
        "start_time": "2024-02-29T07:54:32.967Z"
      },
      {
        "duration": 3169062,
        "start_time": "2024-02-29T07:54:38.751Z"
      },
      {
        "duration": 23,
        "start_time": "2024-02-29T08:48:27.909Z"
      },
      {
        "duration": 51,
        "start_time": "2024-02-29T08:50:14.515Z"
      },
      {
        "duration": 46,
        "start_time": "2024-02-29T08:50:44.412Z"
      },
      {
        "duration": 11407,
        "start_time": "2024-02-29T08:50:58.980Z"
      },
      {
        "duration": 5120,
        "start_time": "2024-02-29T10:54:43.811Z"
      },
      {
        "duration": 232,
        "start_time": "2024-02-29T10:54:48.934Z"
      },
      {
        "duration": 0,
        "start_time": "2024-02-29T10:54:49.168Z"
      },
      {
        "duration": 0,
        "start_time": "2024-02-29T10:54:49.169Z"
      },
      {
        "duration": 0,
        "start_time": "2024-02-29T10:54:49.170Z"
      },
      {
        "duration": 0,
        "start_time": "2024-02-29T10:54:49.171Z"
      },
      {
        "duration": 0,
        "start_time": "2024-02-29T10:54:49.172Z"
      },
      {
        "duration": 0,
        "start_time": "2024-02-29T10:54:49.173Z"
      },
      {
        "duration": 9,
        "start_time": "2024-02-29T10:54:49.460Z"
      },
      {
        "duration": 8,
        "start_time": "2024-02-29T10:55:00.357Z"
      },
      {
        "duration": 3247,
        "start_time": "2024-02-29T10:55:12.406Z"
      },
      {
        "duration": 16,
        "start_time": "2024-02-29T10:55:15.655Z"
      },
      {
        "duration": 28,
        "start_time": "2024-02-29T10:55:15.672Z"
      },
      {
        "duration": 2367,
        "start_time": "2024-02-29T10:55:47.732Z"
      },
      {
        "duration": 873,
        "start_time": "2024-02-29T10:55:50.101Z"
      },
      {
        "duration": 19,
        "start_time": "2024-02-29T10:55:50.975Z"
      },
      {
        "duration": 19,
        "start_time": "2024-02-29T10:55:50.996Z"
      },
      {
        "duration": 25,
        "start_time": "2024-02-29T10:55:51.016Z"
      },
      {
        "duration": 248,
        "start_time": "2024-02-29T10:55:51.042Z"
      },
      {
        "duration": 4,
        "start_time": "2024-02-29T10:55:51.372Z"
      },
      {
        "duration": 43424,
        "start_time": "2024-02-29T10:55:52.058Z"
      },
      {
        "duration": 6,
        "start_time": "2024-02-29T10:56:35.483Z"
      },
      {
        "duration": 10,
        "start_time": "2024-02-29T10:56:41.241Z"
      },
      {
        "duration": 53,
        "start_time": "2024-02-29T10:57:29.946Z"
      },
      {
        "duration": 6,
        "start_time": "2024-02-29T10:57:30.311Z"
      },
      {
        "duration": 35,
        "start_time": "2024-02-29T10:57:31.503Z"
      },
      {
        "duration": 3,
        "start_time": "2024-02-29T10:57:31.951Z"
      },
      {
        "duration": 195325,
        "start_time": "2024-02-29T10:57:32.683Z"
      },
      {
        "duration": 934401,
        "start_time": "2024-02-29T11:00:48.100Z"
      },
      {
        "duration": 163853,
        "start_time": "2024-02-29T11:16:22.503Z"
      },
      {
        "duration": 4,
        "start_time": "2024-02-29T11:19:21.899Z"
      },
      {
        "duration": 0,
        "start_time": "2024-02-29T11:21:40.761Z"
      },
      {
        "duration": 0,
        "start_time": "2024-02-29T11:21:40.762Z"
      },
      {
        "duration": 4,
        "start_time": "2024-02-29T11:21:43.082Z"
      },
      {
        "duration": 139191,
        "start_time": "2024-02-29T11:21:44.277Z"
      },
      {
        "duration": 2858,
        "start_time": "2024-02-29T11:35:59.209Z"
      },
      {
        "duration": 2542,
        "start_time": "2024-02-29T11:36:06.230Z"
      },
      {
        "duration": 24,
        "start_time": "2024-02-29T11:36:11.798Z"
      },
      {
        "duration": 29,
        "start_time": "2024-02-29T11:36:13.555Z"
      },
      {
        "duration": 9,
        "start_time": "2024-02-29T11:36:14.207Z"
      },
      {
        "duration": 201,
        "start_time": "2024-02-29T11:36:18.033Z"
      },
      {
        "duration": 5,
        "start_time": "2024-02-29T11:36:18.439Z"
      },
      {
        "duration": 49795,
        "start_time": "2024-02-29T11:36:21.213Z"
      },
      {
        "duration": 1187,
        "start_time": "2024-02-29T11:37:32.053Z"
      },
      {
        "duration": 1369,
        "start_time": "2024-02-29T11:38:03.217Z"
      },
      {
        "duration": 1235,
        "start_time": "2024-02-29T11:38:33.817Z"
      },
      {
        "duration": 1198,
        "start_time": "2024-02-29T11:38:39.746Z"
      },
      {
        "duration": 6,
        "start_time": "2024-02-29T11:39:37.734Z"
      },
      {
        "duration": 7,
        "start_time": "2024-02-29T11:40:08.532Z"
      },
      {
        "duration": 5,
        "start_time": "2024-02-29T11:40:17.312Z"
      },
      {
        "duration": 4,
        "start_time": "2024-02-29T11:40:23.976Z"
      },
      {
        "duration": 4,
        "start_time": "2024-02-29T11:41:01.640Z"
      },
      {
        "duration": 5,
        "start_time": "2024-02-29T11:41:10.975Z"
      },
      {
        "duration": 4,
        "start_time": "2024-02-29T11:42:17.303Z"
      },
      {
        "duration": 12,
        "start_time": "2024-02-29T11:42:28.622Z"
      },
      {
        "duration": 75,
        "start_time": "2024-02-29T11:58:02.524Z"
      },
      {
        "duration": 13,
        "start_time": "2024-02-29T12:01:58.912Z"
      },
      {
        "duration": 2866,
        "start_time": "2024-02-29T12:03:13.480Z"
      },
      {
        "duration": 19,
        "start_time": "2024-02-29T12:03:23.082Z"
      },
      {
        "duration": 2727,
        "start_time": "2024-02-29T12:03:56.881Z"
      },
      {
        "duration": 24,
        "start_time": "2024-02-29T12:04:04.121Z"
      },
      {
        "duration": 224,
        "start_time": "2024-02-29T12:04:13.041Z"
      },
      {
        "duration": 12,
        "start_time": "2024-02-29T12:04:48.289Z"
      },
      {
        "duration": 67,
        "start_time": "2024-02-29T12:04:57.649Z"
      },
      {
        "duration": 5,
        "start_time": "2024-02-29T12:15:40.872Z"
      },
      {
        "duration": 18,
        "start_time": "2024-02-29T12:15:51.583Z"
      },
      {
        "duration": 6,
        "start_time": "2024-02-29T12:17:06.021Z"
      },
      {
        "duration": 54,
        "start_time": "2024-02-29T12:17:08.093Z"
      },
      {
        "duration": 5,
        "start_time": "2024-02-29T12:20:05.503Z"
      },
      {
        "duration": 34,
        "start_time": "2024-02-29T12:20:06.909Z"
      },
      {
        "duration": 5,
        "start_time": "2024-02-29T12:23:18.075Z"
      },
      {
        "duration": 11,
        "start_time": "2024-02-29T12:23:21.007Z"
      },
      {
        "duration": 124466,
        "start_time": "2024-02-29T12:23:48.459Z"
      },
      {
        "duration": 540245,
        "start_time": "2024-02-29T12:27:10.052Z"
      },
      {
        "duration": 4320,
        "start_time": "2024-02-29T13:14:02.379Z"
      },
      {
        "duration": 1021,
        "start_time": "2024-02-29T13:14:11.289Z"
      },
      {
        "duration": 26,
        "start_time": "2024-02-29T13:14:14.783Z"
      },
      {
        "duration": 26,
        "start_time": "2024-02-29T13:14:15.295Z"
      },
      {
        "duration": 7,
        "start_time": "2024-02-29T13:14:15.817Z"
      },
      {
        "duration": 169,
        "start_time": "2024-02-29T13:14:38.297Z"
      },
      {
        "duration": 4,
        "start_time": "2024-02-29T13:14:41.398Z"
      },
      {
        "duration": 50184,
        "start_time": "2024-02-29T13:14:44.323Z"
      },
      {
        "duration": 5,
        "start_time": "2024-02-29T13:15:47.068Z"
      },
      {
        "duration": 64,
        "start_time": "2024-02-29T13:16:08.363Z"
      },
      {
        "duration": 8,
        "start_time": "2024-02-29T13:16:23.092Z"
      },
      {
        "duration": 6,
        "start_time": "2024-02-29T13:16:33.477Z"
      },
      {
        "duration": 7,
        "start_time": "2024-02-29T13:16:50.331Z"
      },
      {
        "duration": 2730,
        "start_time": "2024-02-29T13:18:50.128Z"
      },
      {
        "duration": 153,
        "start_time": "2024-02-29T13:20:18.528Z"
      },
      {
        "duration": 2780,
        "start_time": "2024-02-29T13:20:40.612Z"
      },
      {
        "duration": 5,
        "start_time": "2024-02-29T13:20:47.507Z"
      },
      {
        "duration": 156,
        "start_time": "2024-02-29T13:20:58.005Z"
      },
      {
        "duration": 86,
        "start_time": "2024-02-29T13:21:39.091Z"
      },
      {
        "duration": 6,
        "start_time": "2024-02-29T13:22:14.459Z"
      },
      {
        "duration": 129480,
        "start_time": "2024-02-29T13:22:15.955Z"
      },
      {
        "duration": 5,
        "start_time": "2024-02-29T13:25:34.242Z"
      },
      {
        "duration": 127190,
        "start_time": "2024-02-29T13:25:35.440Z"
      },
      {
        "duration": 193296,
        "start_time": "2024-02-29T13:27:42.633Z"
      },
      {
        "duration": 932529,
        "start_time": "2024-02-29T13:30:55.931Z"
      },
      {
        "duration": 16,
        "start_time": "2024-02-29T13:48:30.116Z"
      },
      {
        "duration": 11,
        "start_time": "2024-02-29T13:48:38.821Z"
      },
      {
        "duration": 2753,
        "start_time": "2024-02-29T13:50:29.306Z"
      },
      {
        "duration": 6405468,
        "start_time": "2024-02-29T13:50:47.780Z"
      },
      {
        "duration": 4609,
        "start_time": "2024-03-01T06:16:05.390Z"
      },
      {
        "duration": 1007,
        "start_time": "2024-03-01T06:16:10.001Z"
      },
      {
        "duration": 24,
        "start_time": "2024-03-01T06:16:11.010Z"
      },
      {
        "duration": 24,
        "start_time": "2024-03-01T06:16:11.036Z"
      },
      {
        "duration": 6,
        "start_time": "2024-03-01T06:16:11.062Z"
      },
      {
        "duration": 146,
        "start_time": "2024-03-01T06:16:11.070Z"
      },
      {
        "duration": 5,
        "start_time": "2024-03-01T06:16:11.218Z"
      },
      {
        "duration": 51240,
        "start_time": "2024-03-01T06:16:11.225Z"
      },
      {
        "duration": 5,
        "start_time": "2024-03-01T06:17:02.467Z"
      },
      {
        "duration": 111,
        "start_time": "2024-03-01T06:17:02.473Z"
      },
      {
        "duration": 144,
        "start_time": "2024-03-01T06:17:02.585Z"
      },
      {
        "duration": 247,
        "start_time": "2024-03-01T06:17:02.731Z"
      },
      {
        "duration": 128,
        "start_time": "2024-03-01T06:17:02.980Z"
      },
      {
        "duration": 214,
        "start_time": "2024-03-01T06:17:03.111Z"
      },
      {
        "duration": 7,
        "start_time": "2024-03-01T06:17:03.327Z"
      },
      {
        "duration": 31,
        "start_time": "2024-03-01T06:17:03.336Z"
      },
      {
        "duration": 24,
        "start_time": "2024-03-01T06:17:03.369Z"
      },
      {
        "duration": 21,
        "start_time": "2024-03-01T06:17:03.395Z"
      },
      {
        "duration": 119405,
        "start_time": "2024-03-01T06:17:03.418Z"
      },
      {
        "duration": 201993,
        "start_time": "2024-03-01T06:19:02.825Z"
      },
      {
        "duration": 873349,
        "start_time": "2024-03-01T06:22:24.823Z"
      },
      {
        "duration": 0,
        "start_time": "2024-03-01T06:36:58.174Z"
      },
      {
        "duration": 113108,
        "start_time": "2024-03-01T06:37:13.750Z"
      },
      {
        "duration": 0,
        "start_time": "2024-03-01T06:39:06.861Z"
      },
      {
        "duration": 1335117,
        "start_time": "2024-03-01T06:39:09.947Z"
      },
      {
        "duration": 0,
        "start_time": "2024-03-01T07:01:25.067Z"
      },
      {
        "duration": 10662183,
        "start_time": "2024-03-01T07:02:43.777Z"
      },
      {
        "duration": 0,
        "start_time": "2024-03-01T10:00:26.023Z"
      },
      {
        "duration": 11,
        "start_time": "2024-03-01T10:00:35.844Z"
      },
      {
        "duration": 1750107,
        "start_time": "2024-03-01T10:00:41.145Z"
      },
      {
        "duration": 2029035,
        "start_time": "2024-03-01T10:29:53.999Z"
      },
      {
        "duration": 4219286,
        "start_time": "2024-03-01T11:03:43.037Z"
      },
      {
        "duration": 116957,
        "start_time": "2024-03-01T12:19:20.676Z"
      },
      {
        "duration": 14,
        "start_time": "2024-03-01T12:22:39.689Z"
      },
      {
        "duration": 74,
        "start_time": "2024-03-01T12:22:45.048Z"
      },
      {
        "duration": 994,
        "start_time": "2024-03-01T12:23:23.954Z"
      },
      {
        "duration": 718,
        "start_time": "2024-03-01T12:23:55.257Z"
      },
      {
        "duration": 1053,
        "start_time": "2024-03-01T12:24:01.185Z"
      },
      {
        "duration": 968,
        "start_time": "2024-03-01T12:55:58.484Z"
      },
      {
        "duration": 71,
        "start_time": "2024-03-01T14:09:06.505Z"
      },
      {
        "duration": 8647,
        "start_time": "2024-03-01T14:09:08.853Z"
      },
      {
        "duration": 80,
        "start_time": "2024-03-01T14:09:17.502Z"
      },
      {
        "duration": 2246,
        "start_time": "2024-03-01T14:09:25.501Z"
      },
      {
        "duration": 8,
        "start_time": "2024-03-01T14:09:30.223Z"
      },
      {
        "duration": 5,
        "start_time": "2024-03-01T14:09:30.793Z"
      },
      {
        "duration": 212,
        "start_time": "2024-03-01T14:09:34.931Z"
      },
      {
        "duration": 5,
        "start_time": "2024-03-01T14:09:35.363Z"
      },
      {
        "duration": 1213,
        "start_time": "2024-03-01T14:09:43.501Z"
      },
      {
        "duration": 4,
        "start_time": "2024-03-01T14:09:44.899Z"
      },
      {
        "duration": 3,
        "start_time": "2024-03-01T14:09:45.518Z"
      },
      {
        "duration": 2,
        "start_time": "2024-03-01T14:09:47.305Z"
      },
      {
        "duration": 3,
        "start_time": "2024-03-01T14:09:47.858Z"
      },
      {
        "duration": 2,
        "start_time": "2024-03-01T14:09:48.829Z"
      },
      {
        "duration": 23,
        "start_time": "2024-03-01T14:09:49.118Z"
      },
      {
        "duration": 6,
        "start_time": "2024-03-01T14:09:50.755Z"
      },
      {
        "duration": 3,
        "start_time": "2024-03-01T14:09:51.989Z"
      },
      {
        "duration": 85,
        "start_time": "2024-03-01T14:10:16.497Z"
      },
      {
        "duration": 4,
        "start_time": "2024-03-01T14:10:19.933Z"
      },
      {
        "duration": 4,
        "start_time": "2024-03-01T14:10:29.717Z"
      },
      {
        "duration": 124,
        "start_time": "2024-03-01T14:10:35.407Z"
      },
      {
        "duration": 45,
        "start_time": "2024-03-01T14:10:38.531Z"
      },
      {
        "duration": 4,
        "start_time": "2024-03-01T14:10:50.910Z"
      },
      {
        "duration": 9,
        "start_time": "2024-03-01T14:11:12.077Z"
      },
      {
        "duration": 3,
        "start_time": "2024-03-01T14:11:22.073Z"
      },
      {
        "duration": 5,
        "start_time": "2024-03-01T14:11:23.557Z"
      },
      {
        "duration": 67,
        "start_time": "2024-03-01T14:11:25.001Z"
      },
      {
        "duration": 853,
        "start_time": "2024-03-01T14:11:38.377Z"
      },
      {
        "duration": 324,
        "start_time": "2024-03-01T14:11:42.602Z"
      },
      {
        "duration": 6,
        "start_time": "2024-03-01T14:11:46.593Z"
      },
      {
        "duration": 6,
        "start_time": "2024-03-01T14:11:46.678Z"
      },
      {
        "duration": 3,
        "start_time": "2024-03-01T14:11:46.767Z"
      },
      {
        "duration": 4,
        "start_time": "2024-03-01T14:11:46.849Z"
      },
      {
        "duration": 443,
        "start_time": "2024-03-01T14:11:47.016Z"
      },
      {
        "duration": 6,
        "start_time": "2024-03-01T14:11:47.461Z"
      },
      {
        "duration": 15,
        "start_time": "2024-03-01T14:11:47.468Z"
      },
      {
        "duration": 3,
        "start_time": "2024-03-01T14:11:47.532Z"
      },
      {
        "duration": 3,
        "start_time": "2024-03-01T14:11:47.770Z"
      },
      {
        "duration": 3,
        "start_time": "2024-03-01T14:11:48.578Z"
      },
      {
        "duration": 22,
        "start_time": "2024-03-01T14:11:48.662Z"
      },
      {
        "duration": 5,
        "start_time": "2024-03-01T14:11:49.273Z"
      },
      {
        "duration": 2,
        "start_time": "2024-03-01T14:11:49.440Z"
      },
      {
        "duration": 2,
        "start_time": "2024-03-01T14:11:50.351Z"
      },
      {
        "duration": 4,
        "start_time": "2024-03-01T14:11:50.872Z"
      },
      {
        "duration": 58,
        "start_time": "2024-03-01T14:11:51.968Z"
      },
      {
        "duration": 5,
        "start_time": "2024-03-01T14:12:01.963Z"
      },
      {
        "duration": 11,
        "start_time": "2024-03-01T14:12:06.544Z"
      },
      {
        "duration": 3,
        "start_time": "2024-03-01T14:12:29.698Z"
      },
      {
        "duration": 63,
        "start_time": "2024-03-01T14:13:06.358Z"
      },
      {
        "duration": 11,
        "start_time": "2024-03-01T14:13:09.562Z"
      },
      {
        "duration": 67,
        "start_time": "2024-03-01T14:13:43.187Z"
      },
      {
        "duration": 4,
        "start_time": "2024-03-01T14:13:46.951Z"
      },
      {
        "duration": 29,
        "start_time": "2024-03-01T14:13:48.188Z"
      },
      {
        "duration": 4,
        "start_time": "2024-03-01T14:14:04.818Z"
      },
      {
        "duration": 5,
        "start_time": "2024-03-01T14:14:21.838Z"
      },
      {
        "duration": 26,
        "start_time": "2024-03-01T14:14:23.866Z"
      },
      {
        "duration": 9,
        "start_time": "2024-03-01T14:15:05.321Z"
      },
      {
        "duration": 26,
        "start_time": "2024-03-01T14:15:39.082Z"
      },
      {
        "duration": 75,
        "start_time": "2024-03-01T14:15:40.708Z"
      },
      {
        "duration": 4,
        "start_time": "2024-03-01T14:15:43.035Z"
      },
      {
        "duration": 17,
        "start_time": "2024-03-01T14:15:44.271Z"
      },
      {
        "duration": 7,
        "start_time": "2024-03-01T14:15:49.456Z"
      },
      {
        "duration": 56,
        "start_time": "2024-03-01T14:15:50.918Z"
      },
      {
        "duration": 5,
        "start_time": "2024-03-01T14:16:10.481Z"
      },
      {
        "duration": 17,
        "start_time": "2024-03-01T14:16:13.041Z"
      },
      {
        "duration": 5,
        "start_time": "2024-03-01T14:16:16.641Z"
      },
      {
        "duration": 5,
        "start_time": "2024-03-01T14:16:19.033Z"
      },
      {
        "duration": 10,
        "start_time": "2024-03-01T14:16:24.615Z"
      },
      {
        "duration": 71,
        "start_time": "2024-03-01T14:16:26.459Z"
      },
      {
        "duration": 5,
        "start_time": "2024-03-01T14:16:29.507Z"
      },
      {
        "duration": 8,
        "start_time": "2024-03-01T14:16:31.009Z"
      },
      {
        "duration": 4,
        "start_time": "2024-03-01T14:16:38.159Z"
      },
      {
        "duration": 135,
        "start_time": "2024-03-01T14:16:39.425Z"
      },
      {
        "duration": 6,
        "start_time": "2024-03-01T14:17:04.747Z"
      },
      {
        "duration": 8,
        "start_time": "2024-03-01T14:17:09.930Z"
      },
      {
        "duration": 4,
        "start_time": "2024-03-01T14:17:16.545Z"
      },
      {
        "duration": 124,
        "start_time": "2024-03-01T14:17:17.723Z"
      },
      {
        "duration": 4,
        "start_time": "2024-03-01T14:17:29.541Z"
      },
      {
        "duration": 235,
        "start_time": "2024-03-01T14:17:31.291Z"
      },
      {
        "duration": 9,
        "start_time": "2024-03-01T14:17:45.929Z"
      },
      {
        "duration": 5,
        "start_time": "2024-03-01T14:17:47.539Z"
      },
      {
        "duration": 4,
        "start_time": "2024-03-01T14:18:16.057Z"
      },
      {
        "duration": 238,
        "start_time": "2024-03-01T14:18:30.306Z"
      },
      {
        "duration": 4,
        "start_time": "2024-03-01T14:18:47.106Z"
      },
      {
        "duration": 216,
        "start_time": "2024-03-01T14:18:48.894Z"
      },
      {
        "duration": 124,
        "start_time": "2024-03-01T14:19:22.010Z"
      },
      {
        "duration": 6,
        "start_time": "2024-03-01T14:21:29.580Z"
      },
      {
        "duration": 15,
        "start_time": "2024-03-01T14:21:30.990Z"
      },
      {
        "duration": 4,
        "start_time": "2024-03-01T14:21:37.776Z"
      },
      {
        "duration": 30,
        "start_time": "2024-03-01T14:21:39.180Z"
      },
      {
        "duration": 33,
        "start_time": "2024-03-01T14:21:51.626Z"
      },
      {
        "duration": 228,
        "start_time": "2024-03-01T14:22:01.342Z"
      },
      {
        "duration": 4,
        "start_time": "2024-03-01T14:22:18.456Z"
      },
      {
        "duration": 214,
        "start_time": "2024-03-01T14:22:20.986Z"
      },
      {
        "duration": 75,
        "start_time": "2024-03-01T14:22:30.590Z"
      },
      {
        "duration": 72,
        "start_time": "2024-03-01T14:22:33.316Z"
      },
      {
        "duration": 69,
        "start_time": "2024-03-01T14:22:42.775Z"
      },
      {
        "duration": 71,
        "start_time": "2024-03-01T14:22:49.820Z"
      },
      {
        "duration": 4,
        "start_time": "2024-03-01T14:22:54.953Z"
      },
      {
        "duration": 4,
        "start_time": "2024-03-01T14:23:00.317Z"
      },
      {
        "duration": 65,
        "start_time": "2024-03-01T14:23:06.743Z"
      },
      {
        "duration": 4,
        "start_time": "2024-03-01T14:23:08.649Z"
      },
      {
        "duration": 104,
        "start_time": "2024-03-01T14:23:10.584Z"
      },
      {
        "duration": 5,
        "start_time": "2024-03-01T14:23:23.965Z"
      },
      {
        "duration": 153,
        "start_time": "2024-03-01T14:23:25.808Z"
      },
      {
        "duration": 4,
        "start_time": "2024-03-01T14:24:16.033Z"
      },
      {
        "duration": 53,
        "start_time": "2024-03-01T14:24:17.786Z"
      },
      {
        "duration": 4,
        "start_time": "2024-03-01T14:24:28.028Z"
      },
      {
        "duration": 119,
        "start_time": "2024-03-01T14:24:29.884Z"
      },
      {
        "duration": 4,
        "start_time": "2024-03-01T14:24:42.712Z"
      },
      {
        "duration": 94,
        "start_time": "2024-03-01T14:24:44.136Z"
      },
      {
        "duration": 4,
        "start_time": "2024-03-01T14:25:11.529Z"
      },
      {
        "duration": 101,
        "start_time": "2024-03-01T14:25:12.981Z"
      },
      {
        "duration": 4,
        "start_time": "2024-03-01T14:25:26.377Z"
      },
      {
        "duration": 93,
        "start_time": "2024-03-01T14:25:28.289Z"
      },
      {
        "duration": 4,
        "start_time": "2024-03-01T14:25:31.917Z"
      },
      {
        "duration": 93,
        "start_time": "2024-03-01T14:25:33.457Z"
      },
      {
        "duration": 9,
        "start_time": "2024-03-01T14:26:13.213Z"
      },
      {
        "duration": 4,
        "start_time": "2024-03-01T14:26:18.939Z"
      },
      {
        "duration": 871,
        "start_time": "2024-03-01T14:26:20.402Z"
      },
      {
        "duration": 3,
        "start_time": "2024-03-01T14:26:47.767Z"
      },
      {
        "duration": 861,
        "start_time": "2024-03-01T14:26:52.165Z"
      },
      {
        "duration": 2,
        "start_time": "2024-03-01T14:26:58.042Z"
      },
      {
        "duration": 4,
        "start_time": "2024-03-01T14:26:58.350Z"
      },
      {
        "duration": 6,
        "start_time": "2024-03-01T14:27:06.697Z"
      },
      {
        "duration": 928,
        "start_time": "2024-03-01T14:27:07.282Z"
      },
      {
        "duration": 4,
        "start_time": "2024-03-01T14:27:31.972Z"
      },
      {
        "duration": 4,
        "start_time": "2024-03-01T14:27:36.477Z"
      },
      {
        "duration": 52,
        "start_time": "2024-03-01T14:27:38.300Z"
      },
      {
        "duration": 4,
        "start_time": "2024-03-01T14:27:42.168Z"
      },
      {
        "duration": 860,
        "start_time": "2024-03-01T14:27:42.986Z"
      },
      {
        "duration": 9564,
        "start_time": "2024-03-02T17:14:35.946Z"
      },
      {
        "duration": 3362,
        "start_time": "2024-03-02T17:14:53.846Z"
      },
      {
        "duration": 19,
        "start_time": "2024-03-02T17:14:59.955Z"
      },
      {
        "duration": 23,
        "start_time": "2024-03-02T17:15:00.631Z"
      },
      {
        "duration": 7,
        "start_time": "2024-03-02T17:15:01.364Z"
      },
      {
        "duration": 220,
        "start_time": "2024-03-02T17:15:05.295Z"
      },
      {
        "duration": 4,
        "start_time": "2024-03-02T17:15:05.839Z"
      },
      {
        "duration": 46167,
        "start_time": "2024-03-02T17:15:10.482Z"
      },
      {
        "duration": 3,
        "start_time": "2024-03-02T17:15:56.650Z"
      },
      {
        "duration": 59,
        "start_time": "2024-03-02T17:19:39.753Z"
      },
      {
        "duration": 7,
        "start_time": "2024-03-02T17:19:44.164Z"
      },
      {
        "duration": 4,
        "start_time": "2024-03-02T17:37:30.680Z"
      },
      {
        "duration": 77525,
        "start_time": "2024-03-02T17:37:33.372Z"
      },
      {
        "duration": 131805,
        "start_time": "2024-03-02T17:38:58.454Z"
      },
      {
        "duration": 1150642,
        "start_time": "2024-03-02T17:41:10.261Z"
      },
      {
        "duration": 3964133,
        "start_time": "2024-03-02T18:00:20.906Z"
      },
      {
        "duration": 925,
        "start_time": "2024-03-02T19:08:58.781Z"
      },
      {
        "duration": 8955,
        "start_time": "2024-03-04T06:45:26.998Z"
      },
      {
        "duration": 3149,
        "start_time": "2024-03-04T06:46:16.704Z"
      },
      {
        "duration": 23,
        "start_time": "2024-03-04T06:46:22.200Z"
      },
      {
        "duration": 21,
        "start_time": "2024-03-04T06:46:22.554Z"
      },
      {
        "duration": 6,
        "start_time": "2024-03-04T06:46:24.597Z"
      },
      {
        "duration": 219,
        "start_time": "2024-03-04T06:46:38.727Z"
      },
      {
        "duration": 4,
        "start_time": "2024-03-04T06:46:40.480Z"
      },
      {
        "duration": 44902,
        "start_time": "2024-03-04T06:46:44.754Z"
      },
      {
        "duration": 40,
        "start_time": "2024-03-04T06:55:14.771Z"
      },
      {
        "duration": 20,
        "start_time": "2024-03-04T06:55:18.647Z"
      },
      {
        "duration": 29,
        "start_time": "2024-03-04T06:56:21.805Z"
      },
      {
        "duration": 3,
        "start_time": "2024-03-04T06:56:24.018Z"
      },
      {
        "duration": 55,
        "start_time": "2024-03-04T06:56:37.618Z"
      },
      {
        "duration": 7,
        "start_time": "2024-03-04T06:56:47.090Z"
      },
      {
        "duration": 4,
        "start_time": "2024-03-04T06:56:51.786Z"
      },
      {
        "duration": 341,
        "start_time": "2024-03-04T06:56:53.865Z"
      },
      {
        "duration": 17,
        "start_time": "2024-03-04T06:57:54.033Z"
      },
      {
        "duration": 12,
        "start_time": "2024-03-04T06:58:18.716Z"
      },
      {
        "duration": 28,
        "start_time": "2024-03-04T06:58:44.375Z"
      },
      {
        "duration": 56,
        "start_time": "2024-03-04T06:59:52.665Z"
      },
      {
        "duration": 1916,
        "start_time": "2024-03-04T07:00:01.313Z"
      },
      {
        "duration": 30,
        "start_time": "2024-03-04T07:00:12.489Z"
      },
      {
        "duration": 890,
        "start_time": "2024-03-04T07:02:56.724Z"
      },
      {
        "duration": 16,
        "start_time": "2024-03-04T07:03:07.057Z"
      },
      {
        "duration": 25,
        "start_time": "2024-03-04T07:03:07.508Z"
      },
      {
        "duration": 7,
        "start_time": "2024-03-04T07:03:07.922Z"
      },
      {
        "duration": 43565,
        "start_time": "2024-03-04T07:03:18.147Z"
      },
      {
        "duration": 38,
        "start_time": "2024-03-04T07:11:43.617Z"
      },
      {
        "duration": 29,
        "start_time": "2024-03-04T07:12:12.912Z"
      },
      {
        "duration": 17,
        "start_time": "2024-03-04T07:12:14.029Z"
      },
      {
        "duration": 19,
        "start_time": "2024-03-04T07:12:20.925Z"
      },
      {
        "duration": 19,
        "start_time": "2024-03-04T07:12:23.293Z"
      },
      {
        "duration": 104,
        "start_time": "2024-03-04T07:13:04.006Z"
      },
      {
        "duration": 42,
        "start_time": "2024-03-04T07:13:14.165Z"
      },
      {
        "duration": 28,
        "start_time": "2024-03-04T07:13:36.676Z"
      },
      {
        "duration": 25,
        "start_time": "2024-03-04T07:13:58.125Z"
      },
      {
        "duration": 29,
        "start_time": "2024-03-04T07:14:46.807Z"
      },
      {
        "duration": 47,
        "start_time": "2024-03-04T07:15:26.291Z"
      },
      {
        "duration": 43,
        "start_time": "2024-03-04T07:15:30.172Z"
      },
      {
        "duration": 26,
        "start_time": "2024-03-04T07:15:34.244Z"
      },
      {
        "duration": 4,
        "start_time": "2024-03-04T07:15:36.430Z"
      },
      {
        "duration": 43,
        "start_time": "2024-03-04T07:15:50.964Z"
      },
      {
        "duration": 6,
        "start_time": "2024-03-04T07:15:52.517Z"
      },
      {
        "duration": 4,
        "start_time": "2024-03-04T07:15:54.333Z"
      },
      {
        "duration": 79543,
        "start_time": "2024-03-04T07:15:55.652Z"
      },
      {
        "duration": 134594,
        "start_time": "2024-03-04T07:57:38.487Z"
      },
      {
        "duration": 1151421,
        "start_time": "2024-03-04T07:59:53.083Z"
      },
      {
        "duration": 3621612,
        "start_time": "2024-03-04T08:19:04.507Z"
      },
      {
        "duration": 875,
        "start_time": "2024-03-04T09:27:33.433Z"
      }
    ],
    "toc": {
      "base_numbering": 1,
      "nav_menu": {},
      "number_sections": true,
      "sideBar": true,
      "skip_h1_title": true,
      "title_cell": "Содержание",
      "title_sidebar": "Contents",
      "toc_cell": true,
      "toc_position": {
        "height": "calc(100% - 180px)",
        "left": "10px",
        "top": "150px",
        "width": "302.391px"
      },
      "toc_section_display": true,
      "toc_window_display": false
    }
  },
  "nbformat_minor": 4,
  "nbformat": 4,
  "cells": [
    {
      "cell_type": "markdown",
      "source": "<h1>Содержание<span class=\"tocSkip\"></span></h1>\n<div class=\"toc\"><ul class=\"toc-item\"><li><span><a href=\"#Подготовка\" data-toc-modified-id=\"Подготовка-1\"><span class=\"toc-item-num\">1&nbsp;&nbsp;</span>Подготовка</a></span></li><li><span><a href=\"#Обучение\" data-toc-modified-id=\"Обучение-2\"><span class=\"toc-item-num\">2&nbsp;&nbsp;</span>Обучение</a></span></li><li><span><a href=\"#Выводы\" data-toc-modified-id=\"Выводы-3\"><span class=\"toc-item-num\">3&nbsp;&nbsp;</span>Выводы</a></span></li></ul></div>",
      "metadata": {
        "toc": true
      }
    },
    {
      "cell_type": "markdown",
      "source": "# Проект для «Викишоп»",
      "metadata": {}
    },
    {
      "cell_type": "markdown",
      "source": "Интернет-магазин «Викишоп» запускает новый сервис. Теперь пользователи могут редактировать и дополнять описания товаров, как в вики-сообществах. То есть клиенты предлагают свои правки и комментируют изменения других. Магазину нужен инструмент, который будет искать токсичные комментарии и отправлять их на модерацию. \n\nОбучите модель классифицировать комментарии на позитивные и негативные. В вашем распоряжении набор данных с разметкой о токсичности правок.\n\nПостройте модель со значением метрики качества *F1* не меньше 0.75. \n\n**Инструкция по выполнению проекта**\n\n1. Загрузите и подготовьте данные.\n2. Обучите разные модели. \n3. Сделайте выводы.\n",
      "metadata": {}
    },
    {
      "cell_type": "markdown",
      "source": "## Подготовка",
      "metadata": {}
    },
    {
      "cell_type": "code",
      "source": "!pip install imbalanced-learn \n\nimport pandas as pd\nimport numpy as np\nimport matplotlib.pyplot as plt\nimport seaborn as sns\n\nimport nltk\nfrom nltk.corpus import stopwords as nltk_stopwords\nfrom nltk.stem import WordNetLemmatizer \n\nfrom sklearn.tree import DecisionTreeClassifier\nfrom sklearn.ensemble import RandomForestClassifier\nfrom sklearn.linear_model import LogisticRegression\nfrom sklearn.metrics import f1_score, accuracy_score\nfrom sklearn.model_selection import train_test_split, RandomizedSearchCV\nfrom sklearn.feature_extraction.text import CountVectorizer, TfidfVectorizer\nfrom sklearn.pipeline import Pipeline\n\nfrom catboost import CatBoostClassifier\n\nimport lightgbm as ltb\n\nimport re\n\nfrom imblearn.over_sampling import RandomOverSampler\n\nimport warnings\nwarnings.filterwarnings(\"ignore\")\n\nRANDOM_STATE=42",
      "metadata": {},
      "outputs": [
        {
          "name": "stdout",
          "output_type": "stream",
          "text": [
            "Collecting imbalanced-learn\n",
            "  Downloading imbalanced_learn-0.12.0-py3-none-any.whl (257 kB)\n",
            "\u001b[K     |████████████████████████████████| 257 kB 2.0 MB/s eta 0:00:01\n",
            "\u001b[?25hRequirement already satisfied: numpy>=1.17.3 in /opt/conda/lib/python3.9/site-packages (from imbalanced-learn) (1.21.1)\n",
            "Collecting scikit-learn>=1.0.2\n",
            "  Downloading scikit_learn-1.4.1.post1-cp39-cp39-manylinux_2_17_x86_64.manylinux2014_x86_64.whl (12.2 MB)\n",
            "\u001b[K     |████████████████████████████████| 12.2 MB 30.6 MB/s eta 0:00:01\n",
            "\u001b[?25hRequirement already satisfied: threadpoolctl>=2.0.0 in /opt/conda/lib/python3.9/site-packages (from imbalanced-learn) (3.1.0)\n",
            "Collecting joblib>=1.1.1\n",
            "  Downloading joblib-1.3.2-py3-none-any.whl (302 kB)\n",
            "\u001b[K     |████████████████████████████████| 302 kB 95.0 MB/s eta 0:00:01\n",
            "\u001b[?25hRequirement already satisfied: scipy>=1.5.0 in /opt/conda/lib/python3.9/site-packages (from imbalanced-learn) (1.9.1)\n",
            "Installing collected packages: joblib, scikit-learn, imbalanced-learn\n",
            "  Attempting uninstall: joblib\n",
            "    Found existing installation: joblib 1.1.0\n",
            "    Uninstalling joblib-1.1.0:\n",
            "      Successfully uninstalled joblib-1.1.0\n",
            "  Attempting uninstall: scikit-learn\n",
            "    Found existing installation: scikit-learn 0.24.1\n",
            "    Uninstalling scikit-learn-0.24.1:\n",
            "      Successfully uninstalled scikit-learn-0.24.1\n",
            "Successfully installed imbalanced-learn-0.12.0 joblib-1.3.2 scikit-learn-1.4.1.post1\n"
          ]
        }
      ],
      "execution_count": 1
    },
    {
      "cell_type": "code",
      "source": "df = pd.read_csv('/datasets/toxic_comments.csv', index_col = 0)\ndf.head(10)",
      "metadata": {},
      "outputs": [
        {
          "data": {
            "text/html": [
              "<div>\n",
              "<style scoped>\n",
              "    .dataframe tbody tr th:only-of-type {\n",
              "        vertical-align: middle;\n",
              "    }\n",
              "\n",
              "    .dataframe tbody tr th {\n",
              "        vertical-align: top;\n",
              "    }\n",
              "\n",
              "    .dataframe thead th {\n",
              "        text-align: right;\n",
              "    }\n",
              "</style>\n",
              "<table border=\"1\" class=\"dataframe\">\n",
              "  <thead>\n",
              "    <tr style=\"text-align: right;\">\n",
              "      <th></th>\n",
              "      <th>text</th>\n",
              "      <th>toxic</th>\n",
              "    </tr>\n",
              "  </thead>\n",
              "  <tbody>\n",
              "    <tr>\n",
              "      <th>0</th>\n",
              "      <td>Explanation\\nWhy the edits made under my usern...</td>\n",
              "      <td>0</td>\n",
              "    </tr>\n",
              "    <tr>\n",
              "      <th>1</th>\n",
              "      <td>D'aww! He matches this background colour I'm s...</td>\n",
              "      <td>0</td>\n",
              "    </tr>\n",
              "    <tr>\n",
              "      <th>2</th>\n",
              "      <td>Hey man, I'm really not trying to edit war. It...</td>\n",
              "      <td>0</td>\n",
              "    </tr>\n",
              "    <tr>\n",
              "      <th>3</th>\n",
              "      <td>\"\\nMore\\nI can't make any real suggestions on ...</td>\n",
              "      <td>0</td>\n",
              "    </tr>\n",
              "    <tr>\n",
              "      <th>4</th>\n",
              "      <td>You, sir, are my hero. Any chance you remember...</td>\n",
              "      <td>0</td>\n",
              "    </tr>\n",
              "    <tr>\n",
              "      <th>5</th>\n",
              "      <td>\"\\n\\nCongratulations from me as well, use the ...</td>\n",
              "      <td>0</td>\n",
              "    </tr>\n",
              "    <tr>\n",
              "      <th>6</th>\n",
              "      <td>COCKSUCKER BEFORE YOU PISS AROUND ON MY WORK</td>\n",
              "      <td>1</td>\n",
              "    </tr>\n",
              "    <tr>\n",
              "      <th>7</th>\n",
              "      <td>Your vandalism to the Matt Shirvington article...</td>\n",
              "      <td>0</td>\n",
              "    </tr>\n",
              "    <tr>\n",
              "      <th>8</th>\n",
              "      <td>Sorry if the word 'nonsense' was offensive to ...</td>\n",
              "      <td>0</td>\n",
              "    </tr>\n",
              "    <tr>\n",
              "      <th>9</th>\n",
              "      <td>alignment on this subject and which are contra...</td>\n",
              "      <td>0</td>\n",
              "    </tr>\n",
              "  </tbody>\n",
              "</table>\n",
              "</div>"
            ],
            "text/plain": [
              "                                                text  toxic\n",
              "0  Explanation\\nWhy the edits made under my usern...      0\n",
              "1  D'aww! He matches this background colour I'm s...      0\n",
              "2  Hey man, I'm really not trying to edit war. It...      0\n",
              "3  \"\\nMore\\nI can't make any real suggestions on ...      0\n",
              "4  You, sir, are my hero. Any chance you remember...      0\n",
              "5  \"\\n\\nCongratulations from me as well, use the ...      0\n",
              "6       COCKSUCKER BEFORE YOU PISS AROUND ON MY WORK      1\n",
              "7  Your vandalism to the Matt Shirvington article...      0\n",
              "8  Sorry if the word 'nonsense' was offensive to ...      0\n",
              "9  alignment on this subject and which are contra...      0"
            ]
          },
          "execution_count": 23,
          "metadata": {},
          "output_type": "execute_result"
        }
      ],
      "execution_count": 23
    },
    {
      "cell_type": "code",
      "source": "# в свзяи с проблемой нехватки памяти, ограничим размер нашего датасета выборкой из 100000 значений\ndf = df.sample(100000)",
      "metadata": {},
      "outputs": [],
      "execution_count": 24
    },
    {
      "cell_type": "code",
      "source": "# проверим данные на пропуски\ndf.isna().sum()",
      "metadata": {},
      "outputs": [
        {
          "data": {
            "text/plain": [
              "text     0\n",
              "toxic    0\n",
              "dtype: int64"
            ]
          },
          "execution_count": 25,
          "metadata": {},
          "output_type": "execute_result"
        }
      ],
      "execution_count": 25
    },
    {
      "cell_type": "code",
      "source": "df['toxic'].value_counts()",
      "metadata": {},
      "outputs": [
        {
          "data": {
            "text/plain": [
              "0    89837\n",
              "1    10163\n",
              "Name: toxic, dtype: int64"
            ]
          },
          "execution_count": 26,
          "metadata": {},
          "output_type": "execute_result"
        }
      ],
      "execution_count": 26
    },
    {
      "cell_type": "code",
      "source": "# на лицо дисбаланс классов, будем иметь это ввиду ",
      "metadata": {
        "trusted": true
      },
      "outputs": [],
      "execution_count": 1
    },
    {
      "cell_type": "code",
      "source": "nltk.download('stopwords') \nstop_words = set(nltk_stopwords.words('english'))\nlemmatizer = WordNetLemmatizer()",
      "metadata": {},
      "outputs": [
        {
          "name": "stderr",
          "output_type": "stream",
          "text": [
            "[nltk_data] Downloading package stopwords to /home/jovyan/nltk_data...\n",
            "[nltk_data]   Package stopwords is already up-to-date!\n"
          ]
        }
      ],
      "execution_count": 6
    },
    {
      "cell_type": "code",
      "source": "# напишем функцию для лемматизации и очистки текста\ndef lemmatize(text):\n    text = nltk.word_tokenize(text)\n    text = [word for word in text if word not in stop_words] \n    text = ' '.join([lemmatizer.lemmatize(w) for w in text])\n    return text\n\ndef clear_text(text):\n    re_text = re.sub(r'[^a-zA-Z ]', ' ', text)\n    res = \" \".join(re_text.split())\n    return res",
      "metadata": {},
      "outputs": [],
      "execution_count": 7
    },
    {
      "cell_type": "code",
      "source": "df['lemm_text'] = df['text'].apply(clear_text)\ndf['lemm_text'] = df['lemm_text'].apply(lemmatize)",
      "metadata": {},
      "outputs": [],
      "execution_count": 27
    },
    {
      "cell_type": "code",
      "source": "# проверим наличие дубликатов после лемматизации и очистки.\ndf['lemm_text'].duplicated().sum()",
      "metadata": {},
      "outputs": [
        {
          "data": {
            "text/plain": [
              "692"
            ]
          },
          "execution_count": 28,
          "metadata": {},
          "output_type": "execute_result"
        }
      ],
      "execution_count": 28
    },
    {
      "cell_type": "code",
      "source": "# удалим выявленные дубликаты\ndf['lemm_text'] = df['lemm_text'].drop_duplicates()",
      "metadata": {},
      "outputs": [],
      "execution_count": 29
    },
    {
      "cell_type": "code",
      "source": "df = df[~df['lemm_text'].isna()]",
      "metadata": {},
      "outputs": [],
      "execution_count": 40
    },
    {
      "cell_type": "code",
      "source": "print(f'До: {df.iloc[0,0]}')\nprint()\nprint(f'После: {df.iloc[0,2]}')",
      "metadata": {},
      "outputs": [
        {
          "name": "stdout",
          "output_type": "stream",
          "text": [
            "До: Not just church \n",
            "\n",
            "I think there should be something about the whole village, not just the church.\n",
            "\n",
            "После: Not church I think something whole village church\n"
          ]
        }
      ],
      "execution_count": 41
    },
    {
      "cell_type": "code",
      "source": "# разделим данные на тренировочную и тестовую выборки\nX = df.drop(['toxic', 'text'], axis=1)\ny = df['toxic']\nX_train, X_test, y_train, y_test = train_test_split(X, y, \n                                                    test_size=0.2,\n                                                    random_state=RANDOM_STATE, stratify=y)\nX_train.shape, X_test.shape, y_train.shape, y_test.shape",
      "metadata": {},
      "outputs": [
        {
          "data": {
            "text/plain": [
              "((79446, 1), (19862, 1), (79446,), (19862,))"
            ]
          },
          "execution_count": 42,
          "metadata": {},
          "output_type": "execute_result"
        }
      ],
      "execution_count": 42
    },
    {
      "cell_type": "markdown",
      "source": "## Обучение",
      "metadata": {}
    },
    {
      "cell_type": "code",
      "source": "# найдём метрику accuracy для константной модели. Будем предсказывать все твиты toxic=0\n\nbase_predicts = pd.Series(data=np.zeros((len(y_test))), index=y_test.index, dtype='int16')\nbase_accuacy = accuracy_score(y_test, base_predicts)\nprint(f'Accuracy константной модели {base_accuacy:.3f}')",
      "metadata": {},
      "outputs": [
        {
          "name": "stdout",
          "output_type": "stream",
          "text": [
            "Accuracy константной модели 0.898\n"
          ]
        }
      ],
      "execution_count": 43
    },
    {
      "cell_type": "code",
      "source": "# напишем функция для инициализации/обучения модели, векторизации данных и ресэмплирования классов\nfrom imblearn.pipeline import Pipeline\ndef teach(model, params):\n    pipeline = Pipeline([\n        ('tfidf', TfidfVectorizer(max_features=10000, min_df = 1)),\n        ('sampler', RandomOverSampler(random_state=RANDOM_STATE)),\n        ('model', model)])\n    rs = RandomizedSearchCV(pipeline, params, cv=3, n_jobs=-1, scoring='f1', verbose=False)\n    rs.fit(X_train['lemm_text'], y_train)\n    print('Лучший результат:', rs.best_score_)\n    print('Лучшие параметры:', rs.best_params_)\n    return rs",
      "metadata": {},
      "outputs": [],
      "execution_count": 44
    },
    {
      "cell_type": "code",
      "source": "lr_model = teach(LogisticRegression(), {'model__C':[0.1, 1.0, 10.0],\n                                      'model__penalty':['l1','l2']})",
      "metadata": {},
      "outputs": [
        {
          "name": "stdout",
          "output_type": "stream",
          "text": [
            "Лучший результат: 0.7291655720887927\n",
            "Лучшие параметры: {'model__penalty': 'l2', 'model__C': 10.0}\n"
          ]
        }
      ],
      "execution_count": 45
    },
    {
      "cell_type": "code",
      "source": "dtc_model = teach(DecisionTreeClassifier(), {'model__criterion':['gini','entropy'],\n                                             'model__max_depth':range(2,10)}) ",
      "metadata": {},
      "outputs": [
        {
          "name": "stdout",
          "output_type": "stream",
          "text": [
            "Лучший результат: 0.5250789075653183\n",
            "Лучшие параметры: {'model__max_depth': 9, 'model__criterion': 'gini'}\n"
          ]
        }
      ],
      "execution_count": 46
    },
    {
      "cell_type": "code",
      "source": "lgmb_model = teach(ltb.LGBMClassifier(random_state=RANDOM_STATE, verbose=0, force_col_wise=True),\n                   {'model__learning_rate':[0.1,0.3,0.5]})\n                    #'model__max_features':[None, 10000, 20000]})",
      "metadata": {},
      "outputs": [
        {
          "name": "stdout",
          "output_type": "stream",
          "text": [
            "Лучший результат: 0.7470179014122725\n",
            "Лучшие параметры: {'model__learning_rate': 0.5}\n"
          ]
        }
      ],
      "execution_count": 47
    },
    {
      "cell_type": "code",
      "source": "cat_model = teach(CatBoostClassifier(), {'model__depth': [4,10],\n                                         'model__learning_rate' : [0.01,0.03],\n                                         'model__iterations' : [10, 40]})",
      "metadata": {},
      "outputs": [
        {
          "name": "stdout",
          "output_type": "stream",
          "text": [
            "0:\tlearn: 0.6887512\ttotal: 824ms\tremaining: 7.41s\n",
            "1:\tlearn: 0.6845357\ttotal: 1.5s\tremaining: 5.99s\n",
            "2:\tlearn: 0.6804063\ttotal: 2.11s\tremaining: 4.93s\n",
            "3:\tlearn: 0.6763843\ttotal: 2.71s\tremaining: 4.06s\n",
            "4:\tlearn: 0.6724859\ttotal: 3.31s\tremaining: 3.31s\n",
            "5:\tlearn: 0.6693835\ttotal: 3.94s\tremaining: 2.63s\n",
            "6:\tlearn: 0.6656971\ttotal: 4.58s\tremaining: 1.96s\n",
            "7:\tlearn: 0.6624629\ttotal: 5.21s\tremaining: 1.3s\n",
            "8:\tlearn: 0.6591535\ttotal: 5.85s\tremaining: 650ms\n",
            "9:\tlearn: 0.6559546\ttotal: 6.49s\tremaining: 0us\n",
            "0:\tlearn: 0.6885551\ttotal: 719ms\tremaining: 6.47s\n",
            "1:\tlearn: 0.6841896\ttotal: 1.32s\tremaining: 5.28s\n",
            "2:\tlearn: 0.6799855\ttotal: 1.94s\tremaining: 4.52s\n",
            "3:\tlearn: 0.6762392\ttotal: 2.59s\tremaining: 3.88s\n",
            "4:\tlearn: 0.6723257\ttotal: 3.21s\tremaining: 3.21s\n",
            "5:\tlearn: 0.6689777\ttotal: 3.83s\tremaining: 2.55s\n",
            "6:\tlearn: 0.6655735\ttotal: 4.45s\tremaining: 1.91s\n",
            "7:\tlearn: 0.6619928\ttotal: 5.13s\tremaining: 1.28s\n",
            "8:\tlearn: 0.6586606\ttotal: 5.76s\tremaining: 640ms\n",
            "9:\tlearn: 0.6552811\ttotal: 6.45s\tremaining: 0us\n",
            "0:\tlearn: 0.6887647\ttotal: 768ms\tremaining: 6.91s\n",
            "1:\tlearn: 0.6845073\ttotal: 1.41s\tremaining: 5.64s\n",
            "2:\tlearn: 0.6808714\ttotal: 2.03s\tremaining: 4.73s\n",
            "3:\tlearn: 0.6771409\ttotal: 2.63s\tremaining: 3.95s\n",
            "4:\tlearn: 0.6733352\ttotal: 3.26s\tremaining: 3.26s\n",
            "5:\tlearn: 0.6699941\ttotal: 3.88s\tremaining: 2.59s\n",
            "6:\tlearn: 0.6668241\ttotal: 4.51s\tremaining: 1.93s\n",
            "7:\tlearn: 0.6633151\ttotal: 5.13s\tremaining: 1.28s\n",
            "8:\tlearn: 0.6599382\ttotal: 5.73s\tremaining: 637ms\n",
            "9:\tlearn: 0.6570334\ttotal: 6.35s\tremaining: 0us\n",
            "0:\tlearn: 0.6802438\ttotal: 752ms\tremaining: 6.77s\n",
            "1:\tlearn: 0.6698076\ttotal: 1.4s\tremaining: 5.6s\n",
            "2:\tlearn: 0.6596566\ttotal: 2.03s\tremaining: 4.74s\n",
            "3:\tlearn: 0.6510172\ttotal: 2.69s\tremaining: 4.04s\n",
            "4:\tlearn: 0.6424342\ttotal: 3.31s\tremaining: 3.31s\n",
            "5:\tlearn: 0.6351524\ttotal: 3.93s\tremaining: 2.62s\n",
            "6:\tlearn: 0.6301942\ttotal: 4.56s\tremaining: 1.96s\n",
            "7:\tlearn: 0.6233025\ttotal: 5.19s\tremaining: 1.3s\n",
            "8:\tlearn: 0.6179277\ttotal: 5.82s\tremaining: 647ms\n",
            "9:\tlearn: 0.6135656\ttotal: 6.43s\tremaining: 0us\n",
            "0:\tlearn: 0.6794750\ttotal: 730ms\tremaining: 6.57s\n",
            "1:\tlearn: 0.6680360\ttotal: 1.34s\tremaining: 5.35s\n",
            "2:\tlearn: 0.6583344\ttotal: 1.98s\tremaining: 4.62s\n",
            "3:\tlearn: 0.6490424\ttotal: 2.59s\tremaining: 3.89s\n",
            "4:\tlearn: 0.6414253\ttotal: 3.2s\tremaining: 3.2s\n",
            "5:\tlearn: 0.6338614\ttotal: 3.82s\tremaining: 2.54s\n",
            "6:\tlearn: 0.6271504\ttotal: 4.42s\tremaining: 1.9s\n",
            "7:\tlearn: 0.6204006\ttotal: 5.09s\tremaining: 1.27s\n",
            "8:\tlearn: 0.6159471\ttotal: 5.71s\tremaining: 635ms\n",
            "9:\tlearn: 0.6109365\ttotal: 6.33s\tremaining: 0us\n",
            "0:\tlearn: 0.6803257\ttotal: 733ms\tremaining: 6.6s\n",
            "1:\tlearn: 0.6691409\ttotal: 1.36s\tremaining: 5.43s\n",
            "2:\tlearn: 0.6597343\ttotal: 1.97s\tremaining: 4.61s\n",
            "3:\tlearn: 0.6513922\ttotal: 2.58s\tremaining: 3.88s\n",
            "4:\tlearn: 0.6426923\ttotal: 3.22s\tremaining: 3.22s\n",
            "5:\tlearn: 0.6360793\ttotal: 3.86s\tremaining: 2.57s\n",
            "6:\tlearn: 0.6297438\ttotal: 4.49s\tremaining: 1.92s\n",
            "7:\tlearn: 0.6235243\ttotal: 5.12s\tremaining: 1.28s\n",
            "8:\tlearn: 0.6181773\ttotal: 5.73s\tremaining: 637ms\n",
            "9:\tlearn: 0.6138597\ttotal: 6.36s\tremaining: 0us\n",
            "0:\tlearn: 0.6887512\ttotal: 767ms\tremaining: 29.9s\n",
            "1:\tlearn: 0.6845357\ttotal: 1.4s\tremaining: 26.7s\n",
            "2:\tlearn: 0.6804063\ttotal: 2.02s\tremaining: 24.9s\n",
            "3:\tlearn: 0.6763843\ttotal: 2.65s\tremaining: 23.8s\n",
            "4:\tlearn: 0.6724859\ttotal: 3.27s\tremaining: 22.9s\n",
            "5:\tlearn: 0.6693835\ttotal: 3.93s\tremaining: 22.3s\n",
            "6:\tlearn: 0.6656971\ttotal: 4.57s\tremaining: 21.6s\n",
            "7:\tlearn: 0.6624629\ttotal: 5.22s\tremaining: 20.9s\n",
            "8:\tlearn: 0.6591535\ttotal: 5.86s\tremaining: 20.2s\n",
            "9:\tlearn: 0.6559546\ttotal: 6.52s\tremaining: 19.6s\n",
            "10:\tlearn: 0.6532065\ttotal: 7.16s\tremaining: 18.9s\n",
            "11:\tlearn: 0.6505865\ttotal: 7.81s\tremaining: 18.2s\n",
            "12:\tlearn: 0.6478418\ttotal: 8.44s\tremaining: 17.5s\n",
            "13:\tlearn: 0.6450544\ttotal: 9.08s\tremaining: 16.9s\n",
            "14:\tlearn: 0.6421487\ttotal: 9.73s\tremaining: 16.2s\n",
            "15:\tlearn: 0.6396926\ttotal: 10.4s\tremaining: 15.6s\n",
            "16:\tlearn: 0.6373694\ttotal: 11.1s\tremaining: 15s\n",
            "17:\tlearn: 0.6349582\ttotal: 11.7s\tremaining: 14.3s\n",
            "18:\tlearn: 0.6328804\ttotal: 12.4s\tremaining: 13.7s\n",
            "19:\tlearn: 0.6310308\ttotal: 13s\tremaining: 13s\n",
            "20:\tlearn: 0.6290099\ttotal: 13.6s\tremaining: 12.3s\n",
            "21:\tlearn: 0.6270085\ttotal: 14.3s\tremaining: 11.7s\n",
            "22:\tlearn: 0.6255549\ttotal: 14.9s\tremaining: 11s\n",
            "23:\tlearn: 0.6238281\ttotal: 15.5s\tremaining: 10.4s\n",
            "24:\tlearn: 0.6219256\ttotal: 16.2s\tremaining: 9.7s\n",
            "25:\tlearn: 0.6205545\ttotal: 16.8s\tremaining: 9.05s\n",
            "26:\tlearn: 0.6185193\ttotal: 17.4s\tremaining: 8.39s\n",
            "27:\tlearn: 0.6170140\ttotal: 18.1s\tremaining: 7.74s\n",
            "28:\tlearn: 0.6152697\ttotal: 18.7s\tremaining: 7.09s\n",
            "29:\tlearn: 0.6134762\ttotal: 19.3s\tremaining: 6.43s\n",
            "30:\tlearn: 0.6122594\ttotal: 19.9s\tremaining: 5.79s\n",
            "31:\tlearn: 0.6105609\ttotal: 20.6s\tremaining: 5.14s\n",
            "32:\tlearn: 0.6094539\ttotal: 21.2s\tremaining: 4.5s\n",
            "33:\tlearn: 0.6084267\ttotal: 21.9s\tremaining: 3.86s\n",
            "34:\tlearn: 0.6069327\ttotal: 22.5s\tremaining: 3.22s\n",
            "35:\tlearn: 0.6056594\ttotal: 23.2s\tremaining: 2.57s\n",
            "36:\tlearn: 0.6040843\ttotal: 23.8s\tremaining: 1.93s\n",
            "37:\tlearn: 0.6026432\ttotal: 24.5s\tremaining: 1.29s\n",
            "38:\tlearn: 0.6013952\ttotal: 25.1s\tremaining: 644ms\n",
            "39:\tlearn: 0.6002979\ttotal: 25.8s\tremaining: 0us\n",
            "0:\tlearn: 0.6885551\ttotal: 727ms\tremaining: 28.3s\n",
            "1:\tlearn: 0.6841896\ttotal: 1.32s\tremaining: 25.2s\n",
            "2:\tlearn: 0.6799855\ttotal: 1.94s\tremaining: 23.9s\n",
            "3:\tlearn: 0.6762392\ttotal: 2.55s\tremaining: 22.9s\n",
            "4:\tlearn: 0.6723257\ttotal: 3.17s\tremaining: 22.2s\n",
            "5:\tlearn: 0.6689777\ttotal: 3.79s\tremaining: 21.5s\n",
            "6:\tlearn: 0.6655735\ttotal: 4.43s\tremaining: 20.9s\n",
            "7:\tlearn: 0.6619928\ttotal: 5.07s\tremaining: 20.3s\n",
            "8:\tlearn: 0.6586606\ttotal: 5.69s\tremaining: 19.6s\n",
            "9:\tlearn: 0.6552811\ttotal: 6.33s\tremaining: 19s\n",
            "10:\tlearn: 0.6523543\ttotal: 6.92s\tremaining: 18.2s\n",
            "11:\tlearn: 0.6496498\ttotal: 7.55s\tremaining: 17.6s\n",
            "12:\tlearn: 0.6470100\ttotal: 8.17s\tremaining: 17s\n",
            "13:\tlearn: 0.6441152\ttotal: 8.78s\tremaining: 16.3s\n",
            "14:\tlearn: 0.6415263\ttotal: 9.43s\tremaining: 15.7s\n",
            "15:\tlearn: 0.6390049\ttotal: 10.1s\tremaining: 15.1s\n",
            "16:\tlearn: 0.6365867\ttotal: 10.7s\tremaining: 14.4s\n",
            "17:\tlearn: 0.6342041\ttotal: 11.3s\tremaining: 13.8s\n",
            "18:\tlearn: 0.6319646\ttotal: 11.9s\tremaining: 13.2s\n",
            "19:\tlearn: 0.6296961\ttotal: 12.6s\tremaining: 12.6s\n",
            "20:\tlearn: 0.6276220\ttotal: 13.2s\tremaining: 11.9s\n",
            "21:\tlearn: 0.6255271\ttotal: 13.8s\tremaining: 11.3s\n",
            "22:\tlearn: 0.6240265\ttotal: 14.5s\tremaining: 10.7s\n",
            "23:\tlearn: 0.6220050\ttotal: 15.2s\tremaining: 10.1s\n",
            "24:\tlearn: 0.6204899\ttotal: 15.8s\tremaining: 9.46s\n",
            "25:\tlearn: 0.6185764\ttotal: 16.4s\tremaining: 8.83s\n",
            "26:\tlearn: 0.6167507\ttotal: 17s\tremaining: 8.2s\n",
            "27:\tlearn: 0.6149369\ttotal: 17.7s\tremaining: 7.57s\n",
            "28:\tlearn: 0.6133080\ttotal: 18.3s\tremaining: 6.93s\n",
            "29:\tlearn: 0.6115469\ttotal: 18.9s\tremaining: 6.3s\n",
            "30:\tlearn: 0.6103827\ttotal: 19.6s\tremaining: 5.68s\n",
            "31:\tlearn: 0.6091895\ttotal: 20.2s\tremaining: 5.05s\n",
            "32:\tlearn: 0.6075956\ttotal: 20.8s\tremaining: 4.41s\n",
            "33:\tlearn: 0.6059558\ttotal: 21.4s\tremaining: 3.78s\n",
            "34:\tlearn: 0.6048915\ttotal: 22.1s\tremaining: 3.15s\n",
            "35:\tlearn: 0.6037028\ttotal: 22.7s\tremaining: 2.52s\n",
            "36:\tlearn: 0.6023685\ttotal: 23.3s\tremaining: 1.89s\n",
            "37:\tlearn: 0.6011435\ttotal: 23.9s\tremaining: 1.26s\n",
            "38:\tlearn: 0.6000020\ttotal: 24.6s\tremaining: 630ms\n",
            "39:\tlearn: 0.5989017\ttotal: 25.2s\tremaining: 0us\n",
            "0:\tlearn: 0.6887647\ttotal: 750ms\tremaining: 29.2s\n",
            "1:\tlearn: 0.6845073\ttotal: 1.38s\tremaining: 26.1s\n",
            "2:\tlearn: 0.6808714\ttotal: 2s\tremaining: 24.7s\n",
            "3:\tlearn: 0.6771409\ttotal: 2.6s\tremaining: 23.4s\n",
            "4:\tlearn: 0.6733352\ttotal: 3.25s\tremaining: 22.8s\n",
            "5:\tlearn: 0.6699941\ttotal: 3.92s\tremaining: 22.2s\n",
            "6:\tlearn: 0.6668241\ttotal: 4.57s\tremaining: 21.5s\n",
            "7:\tlearn: 0.6633151\ttotal: 5.23s\tremaining: 20.9s\n",
            "8:\tlearn: 0.6599382\ttotal: 5.87s\tremaining: 20.2s\n",
            "9:\tlearn: 0.6570334\ttotal: 6.52s\tremaining: 19.6s\n",
            "10:\tlearn: 0.6538892\ttotal: 7.19s\tremaining: 19s\n",
            "11:\tlearn: 0.6507586\ttotal: 7.89s\tremaining: 18.4s\n",
            "12:\tlearn: 0.6478244\ttotal: 8.51s\tremaining: 17.7s\n",
            "13:\tlearn: 0.6452739\ttotal: 9.13s\tremaining: 17s\n",
            "14:\tlearn: 0.6429062\ttotal: 9.75s\tremaining: 16.3s\n",
            "15:\tlearn: 0.6404786\ttotal: 10.4s\tremaining: 15.6s\n",
            "16:\tlearn: 0.6378740\ttotal: 11s\tremaining: 14.9s\n",
            "17:\tlearn: 0.6355488\ttotal: 11.7s\tremaining: 14.3s\n",
            "18:\tlearn: 0.6331210\ttotal: 12.3s\tremaining: 13.6s\n",
            "19:\tlearn: 0.6313541\ttotal: 12.9s\tremaining: 12.9s\n",
            "20:\tlearn: 0.6293679\ttotal: 13.6s\tremaining: 12.3s\n",
            "21:\tlearn: 0.6274572\ttotal: 14.2s\tremaining: 11.6s\n",
            "22:\tlearn: 0.6255916\ttotal: 14.8s\tremaining: 10.9s\n",
            "23:\tlearn: 0.6237007\ttotal: 15.4s\tremaining: 10.3s\n",
            "24:\tlearn: 0.6224773\ttotal: 16.1s\tremaining: 9.63s\n",
            "25:\tlearn: 0.6210868\ttotal: 16.7s\tremaining: 8.98s\n",
            "26:\tlearn: 0.6192854\ttotal: 17.3s\tremaining: 8.33s\n",
            "27:\tlearn: 0.6181209\ttotal: 17.9s\tremaining: 7.69s\n",
            "28:\tlearn: 0.6167433\ttotal: 18.6s\tremaining: 7.05s\n",
            "29:\tlearn: 0.6150064\ttotal: 19.2s\tremaining: 6.41s\n",
            "30:\tlearn: 0.6132539\ttotal: 19.9s\tremaining: 5.77s\n",
            "31:\tlearn: 0.6117107\ttotal: 20.5s\tremaining: 5.13s\n",
            "32:\tlearn: 0.6100595\ttotal: 21.2s\tremaining: 4.49s\n",
            "33:\tlearn: 0.6084695\ttotal: 21.8s\tremaining: 3.85s\n",
            "34:\tlearn: 0.6074335\ttotal: 22.4s\tremaining: 3.21s\n",
            "35:\tlearn: 0.6061687\ttotal: 23.1s\tremaining: 2.56s\n",
            "36:\tlearn: 0.6049615\ttotal: 23.7s\tremaining: 1.92s\n",
            "37:\tlearn: 0.6037344\ttotal: 24.3s\tremaining: 1.28s\n",
            "38:\tlearn: 0.6022103\ttotal: 24.9s\tremaining: 638ms\n",
            "39:\tlearn: 0.6008871\ttotal: 25.5s\tremaining: 0us\n",
            "0:\tlearn: 0.6802438\ttotal: 757ms\tremaining: 29.5s\n",
            "1:\tlearn: 0.6698076\ttotal: 1.41s\tremaining: 26.7s\n",
            "2:\tlearn: 0.6596566\ttotal: 2.04s\tremaining: 25.1s\n",
            "3:\tlearn: 0.6510172\ttotal: 2.69s\tremaining: 24.2s\n",
            "4:\tlearn: 0.6424342\ttotal: 3.32s\tremaining: 23.2s\n",
            "5:\tlearn: 0.6351524\ttotal: 3.98s\tremaining: 22.6s\n",
            "6:\tlearn: 0.6301942\ttotal: 4.66s\tremaining: 22s\n",
            "7:\tlearn: 0.6233025\ttotal: 5.31s\tremaining: 21.2s\n",
            "8:\tlearn: 0.6179277\ttotal: 5.99s\tremaining: 20.6s\n",
            "9:\tlearn: 0.6135656\ttotal: 6.65s\tremaining: 20s\n",
            "10:\tlearn: 0.6090304\ttotal: 7.32s\tremaining: 19.3s\n",
            "11:\tlearn: 0.6045501\ttotal: 7.99s\tremaining: 18.6s\n",
            "12:\tlearn: 0.6003278\ttotal: 8.63s\tremaining: 17.9s\n",
            "13:\tlearn: 0.5974784\ttotal: 9.28s\tremaining: 17.2s\n",
            "14:\tlearn: 0.5939664\ttotal: 9.9s\tremaining: 16.5s\n",
            "15:\tlearn: 0.5896932\ttotal: 10.5s\tremaining: 15.8s\n",
            "16:\tlearn: 0.5860721\ttotal: 11.2s\tremaining: 15.1s\n",
            "17:\tlearn: 0.5822235\ttotal: 11.8s\tremaining: 14.4s\n",
            "18:\tlearn: 0.5797318\ttotal: 12.4s\tremaining: 13.7s\n",
            "19:\tlearn: 0.5779013\ttotal: 13s\tremaining: 13s\n",
            "20:\tlearn: 0.5751269\ttotal: 13.6s\tremaining: 12.3s\n",
            "21:\tlearn: 0.5729085\ttotal: 14.2s\tremaining: 11.7s\n",
            "22:\tlearn: 0.5698978\ttotal: 14.9s\tremaining: 11s\n",
            "23:\tlearn: 0.5677869\ttotal: 15.5s\tremaining: 10.3s\n",
            "24:\tlearn: 0.5654646\ttotal: 16.2s\tremaining: 9.7s\n",
            "25:\tlearn: 0.5632483\ttotal: 16.8s\tremaining: 9.04s\n",
            "26:\tlearn: 0.5608909\ttotal: 17.4s\tremaining: 8.38s\n",
            "27:\tlearn: 0.5593844\ttotal: 18s\tremaining: 7.72s\n",
            "28:\tlearn: 0.5570666\ttotal: 18.6s\tremaining: 7.07s\n",
            "29:\tlearn: 0.5539393\ttotal: 19.2s\tremaining: 6.42s\n",
            "30:\tlearn: 0.5521765\ttotal: 19.9s\tremaining: 5.76s\n",
            "31:\tlearn: 0.5495546\ttotal: 20.5s\tremaining: 5.12s\n",
            "32:\tlearn: 0.5481032\ttotal: 21.1s\tremaining: 4.48s\n",
            "33:\tlearn: 0.5456493\ttotal: 21.7s\tremaining: 3.84s\n",
            "34:\tlearn: 0.5436058\ttotal: 22.3s\tremaining: 3.19s\n",
            "35:\tlearn: 0.5424291\ttotal: 22.9s\tremaining: 2.55s\n",
            "36:\tlearn: 0.5408674\ttotal: 23.6s\tremaining: 1.91s\n",
            "37:\tlearn: 0.5387428\ttotal: 24.2s\tremaining: 1.27s\n",
            "38:\tlearn: 0.5370673\ttotal: 24.8s\tremaining: 637ms\n",
            "39:\tlearn: 0.5349435\ttotal: 25.5s\tremaining: 0us\n",
            "0:\tlearn: 0.6794750\ttotal: 745ms\tremaining: 29s\n",
            "1:\tlearn: 0.6680360\ttotal: 1.38s\tremaining: 26.2s\n",
            "2:\tlearn: 0.6583344\ttotal: 2.01s\tremaining: 24.8s\n",
            "3:\tlearn: 0.6490424\ttotal: 2.64s\tremaining: 23.8s\n",
            "4:\tlearn: 0.6414253\ttotal: 3.27s\tremaining: 22.9s\n",
            "5:\tlearn: 0.6338614\ttotal: 3.9s\tremaining: 22.1s\n",
            "6:\tlearn: 0.6271504\ttotal: 4.51s\tremaining: 21.3s\n",
            "7:\tlearn: 0.6204006\ttotal: 5.14s\tremaining: 20.6s\n",
            "8:\tlearn: 0.6159471\ttotal: 5.77s\tremaining: 19.9s\n",
            "9:\tlearn: 0.6109365\ttotal: 6.39s\tremaining: 19.2s\n",
            "10:\tlearn: 0.6055239\ttotal: 7.03s\tremaining: 18.5s\n",
            "11:\tlearn: 0.6017399\ttotal: 7.64s\tremaining: 17.8s\n",
            "12:\tlearn: 0.5982593\ttotal: 8.26s\tremaining: 17.2s\n",
            "13:\tlearn: 0.5948290\ttotal: 8.91s\tremaining: 16.5s\n",
            "14:\tlearn: 0.5916634\ttotal: 9.57s\tremaining: 16s\n",
            "15:\tlearn: 0.5877752\ttotal: 10.2s\tremaining: 15.3s\n",
            "16:\tlearn: 0.5852620\ttotal: 10.8s\tremaining: 14.6s\n",
            "17:\tlearn: 0.5824027\ttotal: 11.5s\tremaining: 14s\n",
            "18:\tlearn: 0.5793972\ttotal: 12.1s\tremaining: 13.4s\n",
            "19:\tlearn: 0.5758402\ttotal: 12.7s\tremaining: 12.7s\n",
            "20:\tlearn: 0.5735359\ttotal: 13.3s\tremaining: 12.1s\n",
            "21:\tlearn: 0.5705003\ttotal: 14s\tremaining: 11.4s\n",
            "22:\tlearn: 0.5686873\ttotal: 14.6s\tremaining: 10.8s\n",
            "23:\tlearn: 0.5671063\ttotal: 15.2s\tremaining: 10.1s\n",
            "24:\tlearn: 0.5655005\ttotal: 15.9s\tremaining: 9.52s\n",
            "25:\tlearn: 0.5631952\ttotal: 16.5s\tremaining: 8.89s\n",
            "26:\tlearn: 0.5605487\ttotal: 17.2s\tremaining: 8.26s\n",
            "27:\tlearn: 0.5578426\ttotal: 17.8s\tremaining: 7.62s\n",
            "28:\tlearn: 0.5563510\ttotal: 18.4s\tremaining: 6.98s\n",
            "29:\tlearn: 0.5544296\ttotal: 19s\tremaining: 6.34s\n",
            "30:\tlearn: 0.5527182\ttotal: 19.6s\tremaining: 5.7s\n",
            "31:\tlearn: 0.5508964\ttotal: 20.3s\tremaining: 5.07s\n",
            "32:\tlearn: 0.5486901\ttotal: 20.9s\tremaining: 4.42s\n",
            "33:\tlearn: 0.5470249\ttotal: 21.5s\tremaining: 3.79s\n",
            "34:\tlearn: 0.5452824\ttotal: 22.1s\tremaining: 3.15s\n",
            "35:\tlearn: 0.5433932\ttotal: 22.7s\tremaining: 2.52s\n",
            "36:\tlearn: 0.5408004\ttotal: 23.3s\tremaining: 1.89s\n",
            "37:\tlearn: 0.5391977\ttotal: 23.9s\tremaining: 1.26s\n",
            "38:\tlearn: 0.5380381\ttotal: 24.5s\tremaining: 628ms\n",
            "39:\tlearn: 0.5365287\ttotal: 25.1s\tremaining: 0us\n",
            "0:\tlearn: 0.6803257\ttotal: 730ms\tremaining: 28.5s\n",
            "1:\tlearn: 0.6691409\ttotal: 1.35s\tremaining: 25.7s\n",
            "2:\tlearn: 0.6597343\ttotal: 1.98s\tremaining: 24.4s\n",
            "3:\tlearn: 0.6513922\ttotal: 2.61s\tremaining: 23.5s\n",
            "4:\tlearn: 0.6426923\ttotal: 3.26s\tremaining: 22.8s\n",
            "5:\tlearn: 0.6360793\ttotal: 3.88s\tremaining: 22s\n",
            "6:\tlearn: 0.6297438\ttotal: 4.49s\tremaining: 21.2s\n",
            "7:\tlearn: 0.6235243\ttotal: 5.14s\tremaining: 20.5s\n",
            "8:\tlearn: 0.6181773\ttotal: 5.75s\tremaining: 19.8s\n",
            "9:\tlearn: 0.6138597\ttotal: 6.37s\tremaining: 19.1s\n",
            "10:\tlearn: 0.6087959\ttotal: 6.99s\tremaining: 18.4s\n",
            "11:\tlearn: 0.6043191\ttotal: 7.62s\tremaining: 17.8s\n",
            "12:\tlearn: 0.6007164\ttotal: 8.27s\tremaining: 17.2s\n",
            "13:\tlearn: 0.5980004\ttotal: 8.91s\tremaining: 16.5s\n",
            "14:\tlearn: 0.5956126\ttotal: 9.56s\tremaining: 15.9s\n",
            "15:\tlearn: 0.5928630\ttotal: 10.2s\tremaining: 15.2s\n",
            "16:\tlearn: 0.5888132\ttotal: 10.8s\tremaining: 14.6s\n",
            "17:\tlearn: 0.5850107\ttotal: 11.4s\tremaining: 13.9s\n",
            "18:\tlearn: 0.5811450\ttotal: 12s\tremaining: 13.3s\n",
            "19:\tlearn: 0.5791960\ttotal: 12.6s\tremaining: 12.6s\n",
            "20:\tlearn: 0.5759923\ttotal: 13.3s\tremaining: 12s\n",
            "21:\tlearn: 0.5732598\ttotal: 13.9s\tremaining: 11.4s\n",
            "22:\tlearn: 0.5710527\ttotal: 14.5s\tremaining: 10.7s\n",
            "23:\tlearn: 0.5683753\ttotal: 15.1s\tremaining: 10.1s\n",
            "24:\tlearn: 0.5662359\ttotal: 15.7s\tremaining: 9.43s\n",
            "25:\tlearn: 0.5640738\ttotal: 16.3s\tremaining: 8.79s\n",
            "26:\tlearn: 0.5621806\ttotal: 16.9s\tremaining: 8.15s\n",
            "27:\tlearn: 0.5607112\ttotal: 17.5s\tremaining: 7.51s\n",
            "28:\tlearn: 0.5582250\ttotal: 18.1s\tremaining: 6.88s\n",
            "29:\tlearn: 0.5553488\ttotal: 18.7s\tremaining: 6.25s\n",
            "30:\tlearn: 0.5536607\ttotal: 19.4s\tremaining: 5.62s\n",
            "31:\tlearn: 0.5515596\ttotal: 20s\tremaining: 4.99s\n",
            "32:\tlearn: 0.5495038\ttotal: 20.6s\tremaining: 4.36s\n",
            "33:\tlearn: 0.5476326\ttotal: 21.1s\tremaining: 3.73s\n",
            "34:\tlearn: 0.5451129\ttotal: 21.7s\tremaining: 3.11s\n",
            "35:\tlearn: 0.5432824\ttotal: 22.3s\tremaining: 2.48s\n",
            "36:\tlearn: 0.5418320\ttotal: 23s\tremaining: 1.86s\n",
            "37:\tlearn: 0.5404362\ttotal: 23.6s\tremaining: 1.24s\n",
            "38:\tlearn: 0.5387497\ttotal: 24.2s\tremaining: 620ms\n",
            "39:\tlearn: 0.5373767\ttotal: 24.8s\tremaining: 0us\n",
            "0:\tlearn: 0.6869428\ttotal: 9.15s\tremaining: 1m 22s\n",
            "1:\tlearn: 0.6806896\ttotal: 18.5s\tremaining: 1m 13s\n",
            "2:\tlearn: 0.6747946\ttotal: 27.5s\tremaining: 1m 4s\n",
            "3:\tlearn: 0.6691110\ttotal: 36.6s\tremaining: 54.9s\n",
            "4:\tlearn: 0.6634575\ttotal: 45.9s\tremaining: 45.9s\n",
            "5:\tlearn: 0.6579595\ttotal: 54.9s\tremaining: 36.6s\n",
            "6:\tlearn: 0.6527161\ttotal: 1m 4s\tremaining: 27.5s\n",
            "7:\tlearn: 0.6476629\ttotal: 1m 13s\tremaining: 18.3s\n",
            "8:\tlearn: 0.6427249\ttotal: 1m 22s\tremaining: 9.15s\n",
            "9:\tlearn: 0.6379366\ttotal: 1m 31s\tremaining: 0us\n",
            "0:\tlearn: 0.6868412\ttotal: 9.6s\tremaining: 1m 26s\n",
            "1:\tlearn: 0.6807733\ttotal: 18.9s\tremaining: 1m 15s\n",
            "2:\tlearn: 0.6747108\ttotal: 28.4s\tremaining: 1m 6s\n",
            "3:\tlearn: 0.6688084\ttotal: 37.8s\tremaining: 56.7s\n",
            "4:\tlearn: 0.6631329\ttotal: 47.1s\tremaining: 47.1s\n",
            "5:\tlearn: 0.6577993\ttotal: 56.6s\tremaining: 37.7s\n",
            "6:\tlearn: 0.6527191\ttotal: 1m 6s\tremaining: 28.4s\n",
            "7:\tlearn: 0.6477812\ttotal: 1m 15s\tremaining: 18.9s\n",
            "8:\tlearn: 0.6430600\ttotal: 1m 25s\tremaining: 9.45s\n",
            "9:\tlearn: 0.6385775\ttotal: 1m 34s\tremaining: 0us\n",
            "0:\tlearn: 0.6869278\ttotal: 8.87s\tremaining: 1m 19s\n",
            "1:\tlearn: 0.6808487\ttotal: 17.9s\tremaining: 1m 11s\n",
            "2:\tlearn: 0.6749243\ttotal: 27.1s\tremaining: 1m 3s\n",
            "3:\tlearn: 0.6690708\ttotal: 36.1s\tremaining: 54.2s\n",
            "4:\tlearn: 0.6636999\ttotal: 45.6s\tremaining: 45.6s\n",
            "5:\tlearn: 0.6582872\ttotal: 54.6s\tremaining: 36.4s\n",
            "6:\tlearn: 0.6530821\ttotal: 1m 3s\tremaining: 27.2s\n",
            "7:\tlearn: 0.6480598\ttotal: 1m 12s\tremaining: 18.1s\n",
            "8:\tlearn: 0.6432875\ttotal: 1m 21s\tremaining: 9.05s\n",
            "9:\tlearn: 0.6385896\ttotal: 1m 30s\tremaining: 0us\n",
            "0:\tlearn: 0.6746973\ttotal: 9.49s\tremaining: 1m 25s\n",
            "1:\tlearn: 0.6575282\ttotal: 19.1s\tremaining: 1m 16s\n",
            "2:\tlearn: 0.6425492\ttotal: 28.8s\tremaining: 1m 7s\n",
            "3:\tlearn: 0.6284437\ttotal: 38.4s\tremaining: 57.6s\n",
            "4:\tlearn: 0.6157777\ttotal: 48.1s\tremaining: 48.1s\n",
            "5:\tlearn: 0.6050722\ttotal: 57.7s\tremaining: 38.5s\n",
            "6:\tlearn: 0.5949995\ttotal: 1m 7s\tremaining: 28.9s\n",
            "7:\tlearn: 0.5854253\ttotal: 1m 17s\tremaining: 19.4s\n",
            "8:\tlearn: 0.5771214\ttotal: 1m 27s\tremaining: 9.69s\n",
            "9:\tlearn: 0.5691576\ttotal: 1m 36s\tremaining: 0us\n",
            "0:\tlearn: 0.6746497\ttotal: 9.5s\tremaining: 1m 25s\n",
            "1:\tlearn: 0.6578301\ttotal: 19.1s\tremaining: 1m 16s\n",
            "2:\tlearn: 0.6426079\ttotal: 28.6s\tremaining: 1m 6s\n",
            "3:\tlearn: 0.6285269\ttotal: 38s\tremaining: 57s\n",
            "4:\tlearn: 0.6159277\ttotal: 47.7s\tremaining: 47.7s\n",
            "5:\tlearn: 0.6046132\ttotal: 56.9s\tremaining: 38s\n",
            "6:\tlearn: 0.5947830\ttotal: 1m 6s\tremaining: 28.4s\n",
            "7:\tlearn: 0.5854482\ttotal: 1m 15s\tremaining: 18.8s\n",
            "8:\tlearn: 0.5773179\ttotal: 1m 24s\tremaining: 9.38s\n",
            "9:\tlearn: 0.5698745\ttotal: 1m 33s\tremaining: 0us\n",
            "0:\tlearn: 0.6747283\ttotal: 9.39s\tremaining: 1m 24s\n",
            "1:\tlearn: 0.6582413\ttotal: 18.9s\tremaining: 1m 15s\n",
            "2:\tlearn: 0.6428254\ttotal: 28.4s\tremaining: 1m 6s\n",
            "3:\tlearn: 0.6295628\ttotal: 37.8s\tremaining: 56.7s\n",
            "4:\tlearn: 0.6169444\ttotal: 47.2s\tremaining: 47.2s\n",
            "5:\tlearn: 0.6059979\ttotal: 56.9s\tremaining: 37.9s\n",
            "6:\tlearn: 0.5959027\ttotal: 1m 6s\tremaining: 28.5s\n",
            "7:\tlearn: 0.5872442\ttotal: 1m 15s\tremaining: 19s\n",
            "8:\tlearn: 0.5786898\ttotal: 1m 25s\tremaining: 9.49s\n",
            "9:\tlearn: 0.5705964\ttotal: 1m 34s\tremaining: 0us\n",
            "0:\tlearn: 0.6869428\ttotal: 9.2s\tremaining: 5m 58s\n",
            "1:\tlearn: 0.6806896\ttotal: 18.5s\tremaining: 5m 52s\n",
            "2:\tlearn: 0.6747946\ttotal: 27.5s\tremaining: 5m 38s\n",
            "3:\tlearn: 0.6691110\ttotal: 36.6s\tremaining: 5m 28s\n",
            "4:\tlearn: 0.6634575\ttotal: 45.6s\tremaining: 5m 19s\n",
            "5:\tlearn: 0.6579595\ttotal: 54.6s\tremaining: 5m 9s\n",
            "6:\tlearn: 0.6527161\ttotal: 1m 3s\tremaining: 5m\n",
            "7:\tlearn: 0.6476629\ttotal: 1m 13s\tremaining: 4m 52s\n",
            "8:\tlearn: 0.6427249\ttotal: 1m 22s\tremaining: 4m 43s\n",
            "9:\tlearn: 0.6379366\ttotal: 1m 31s\tremaining: 4m 34s\n",
            "10:\tlearn: 0.6332102\ttotal: 1m 40s\tremaining: 4m 25s\n",
            "11:\tlearn: 0.6288754\ttotal: 1m 49s\tremaining: 4m 15s\n",
            "12:\tlearn: 0.6245898\ttotal: 1m 58s\tremaining: 4m 6s\n",
            "13:\tlearn: 0.6203843\ttotal: 2m 8s\tremaining: 3m 58s\n",
            "14:\tlearn: 0.6164117\ttotal: 2m 17s\tremaining: 3m 49s\n",
            "15:\tlearn: 0.6123929\ttotal: 2m 27s\tremaining: 3m 40s\n",
            "16:\tlearn: 0.6087271\ttotal: 2m 36s\tremaining: 3m 31s\n",
            "17:\tlearn: 0.6050615\ttotal: 2m 45s\tremaining: 3m 22s\n",
            "18:\tlearn: 0.6016036\ttotal: 2m 54s\tremaining: 3m 12s\n",
            "19:\tlearn: 0.5982363\ttotal: 3m 3s\tremaining: 3m 3s\n",
            "20:\tlearn: 0.5948520\ttotal: 3m 12s\tremaining: 2m 54s\n",
            "21:\tlearn: 0.5916214\ttotal: 3m 22s\tremaining: 2m 45s\n",
            "22:\tlearn: 0.5884562\ttotal: 3m 31s\tremaining: 2m 36s\n",
            "23:\tlearn: 0.5853723\ttotal: 3m 40s\tremaining: 2m 27s\n",
            "24:\tlearn: 0.5825251\ttotal: 3m 49s\tremaining: 2m 17s\n",
            "25:\tlearn: 0.5796034\ttotal: 3m 58s\tremaining: 2m 8s\n",
            "26:\tlearn: 0.5768720\ttotal: 4m 8s\tremaining: 1m 59s\n",
            "27:\tlearn: 0.5743271\ttotal: 4m 17s\tremaining: 1m 50s\n",
            "28:\tlearn: 0.5718929\ttotal: 4m 26s\tremaining: 1m 41s\n",
            "29:\tlearn: 0.5693765\ttotal: 4m 35s\tremaining: 1m 31s\n",
            "30:\tlearn: 0.5670867\ttotal: 4m 44s\tremaining: 1m 22s\n",
            "31:\tlearn: 0.5648238\ttotal: 4m 53s\tremaining: 1m 13s\n",
            "32:\tlearn: 0.5625879\ttotal: 5m 2s\tremaining: 1m 4s\n",
            "33:\tlearn: 0.5604540\ttotal: 5m 11s\tremaining: 54.9s\n",
            "34:\tlearn: 0.5581950\ttotal: 5m 20s\tremaining: 45.8s\n",
            "35:\tlearn: 0.5561276\ttotal: 5m 29s\tremaining: 36.6s\n",
            "36:\tlearn: 0.5540716\ttotal: 5m 38s\tremaining: 27.4s\n",
            "37:\tlearn: 0.5521968\ttotal: 5m 46s\tremaining: 18.3s\n",
            "38:\tlearn: 0.5503435\ttotal: 5m 55s\tremaining: 9.13s\n",
            "39:\tlearn: 0.5484099\ttotal: 6m 5s\tremaining: 0us\n",
            "0:\tlearn: 0.6868412\ttotal: 9.3s\tremaining: 6m 2s\n",
            "1:\tlearn: 0.6807733\ttotal: 18.4s\tremaining: 5m 49s\n",
            "2:\tlearn: 0.6747108\ttotal: 27.6s\tremaining: 5m 40s\n",
            "3:\tlearn: 0.6688084\ttotal: 36.7s\tremaining: 5m 30s\n",
            "4:\tlearn: 0.6631329\ttotal: 45.7s\tremaining: 5m 19s\n",
            "5:\tlearn: 0.6577993\ttotal: 54.9s\tremaining: 5m 11s\n",
            "6:\tlearn: 0.6527191\ttotal: 1m 4s\tremaining: 5m 1s\n",
            "7:\tlearn: 0.6477812\ttotal: 1m 12s\tremaining: 4m 51s\n",
            "8:\tlearn: 0.6430600\ttotal: 1m 22s\tremaining: 4m 42s\n",
            "9:\tlearn: 0.6385775\ttotal: 1m 31s\tremaining: 4m 33s\n",
            "10:\tlearn: 0.6337722\ttotal: 1m 40s\tremaining: 4m 24s\n",
            "11:\tlearn: 0.6294554\ttotal: 1m 49s\tremaining: 4m 15s\n",
            "12:\tlearn: 0.6252999\ttotal: 1m 58s\tremaining: 4m 5s\n",
            "13:\tlearn: 0.6208876\ttotal: 2m 7s\tremaining: 3m 56s\n",
            "14:\tlearn: 0.6168959\ttotal: 2m 16s\tremaining: 3m 47s\n",
            "15:\tlearn: 0.6131592\ttotal: 2m 25s\tremaining: 3m 38s\n",
            "16:\tlearn: 0.6094055\ttotal: 2m 34s\tremaining: 3m 29s\n",
            "17:\tlearn: 0.6056784\ttotal: 2m 43s\tremaining: 3m 20s\n",
            "18:\tlearn: 0.6021057\ttotal: 2m 53s\tremaining: 3m 11s\n",
            "19:\tlearn: 0.5987034\ttotal: 3m 2s\tremaining: 3m 2s\n",
            "20:\tlearn: 0.5956950\ttotal: 3m 11s\tremaining: 2m 53s\n",
            "21:\tlearn: 0.5925789\ttotal: 3m 20s\tremaining: 2m 43s\n",
            "22:\tlearn: 0.5893260\ttotal: 3m 29s\tremaining: 2m 34s\n",
            "23:\tlearn: 0.5863801\ttotal: 3m 38s\tremaining: 2m 25s\n",
            "24:\tlearn: 0.5835483\ttotal: 3m 47s\tremaining: 2m 16s\n",
            "25:\tlearn: 0.5805983\ttotal: 3m 56s\tremaining: 2m 7s\n",
            "26:\tlearn: 0.5781032\ttotal: 4m 6s\tremaining: 1m 58s\n",
            "27:\tlearn: 0.5754871\ttotal: 4m 15s\tremaining: 1m 49s\n",
            "28:\tlearn: 0.5728565\ttotal: 4m 24s\tremaining: 1m 40s\n",
            "29:\tlearn: 0.5704875\ttotal: 4m 33s\tremaining: 1m 31s\n",
            "30:\tlearn: 0.5680818\ttotal: 4m 41s\tremaining: 1m 21s\n",
            "31:\tlearn: 0.5657056\ttotal: 4m 51s\tremaining: 1m 12s\n",
            "32:\tlearn: 0.5635191\ttotal: 5m\tremaining: 1m 3s\n",
            "33:\tlearn: 0.5611754\ttotal: 5m 9s\tremaining: 54.6s\n",
            "34:\tlearn: 0.5590065\ttotal: 5m 18s\tremaining: 45.5s\n",
            "35:\tlearn: 0.5567923\ttotal: 5m 27s\tremaining: 36.4s\n",
            "36:\tlearn: 0.5547075\ttotal: 5m 37s\tremaining: 27.3s\n",
            "37:\tlearn: 0.5526702\ttotal: 5m 46s\tremaining: 18.2s\n",
            "38:\tlearn: 0.5506060\ttotal: 5m 55s\tremaining: 9.12s\n",
            "39:\tlearn: 0.5485685\ttotal: 6m 4s\tremaining: 0us\n",
            "0:\tlearn: 0.6869278\ttotal: 8.6s\tremaining: 5m 35s\n",
            "1:\tlearn: 0.6808487\ttotal: 17.3s\tremaining: 5m 29s\n",
            "2:\tlearn: 0.6749243\ttotal: 26.3s\tremaining: 5m 24s\n",
            "3:\tlearn: 0.6690708\ttotal: 35.1s\tremaining: 5m 16s\n",
            "4:\tlearn: 0.6636999\ttotal: 44.1s\tremaining: 5m 8s\n",
            "5:\tlearn: 0.6582872\ttotal: 52.9s\tremaining: 4m 59s\n",
            "6:\tlearn: 0.6530821\ttotal: 1m 1s\tremaining: 4m 50s\n",
            "7:\tlearn: 0.6480598\ttotal: 1m 10s\tremaining: 4m 43s\n",
            "8:\tlearn: 0.6432875\ttotal: 1m 20s\tremaining: 4m 35s\n",
            "9:\tlearn: 0.6385896\ttotal: 1m 28s\tremaining: 4m 26s\n",
            "10:\tlearn: 0.6339899\ttotal: 1m 37s\tremaining: 4m 17s\n",
            "11:\tlearn: 0.6294274\ttotal: 1m 47s\tremaining: 4m 9s\n",
            "12:\tlearn: 0.6251532\ttotal: 1m 56s\tremaining: 4m 1s\n",
            "13:\tlearn: 0.6214074\ttotal: 2m 5s\tremaining: 3m 52s\n",
            "14:\tlearn: 0.6176634\ttotal: 2m 13s\tremaining: 3m 42s\n",
            "15:\tlearn: 0.6136302\ttotal: 2m 22s\tremaining: 3m 33s\n",
            "16:\tlearn: 0.6098825\ttotal: 2m 31s\tremaining: 3m 25s\n",
            "17:\tlearn: 0.6063464\ttotal: 2m 40s\tremaining: 3m 16s\n",
            "18:\tlearn: 0.6028666\ttotal: 2m 49s\tremaining: 3m 7s\n",
            "19:\tlearn: 0.5994175\ttotal: 2m 58s\tremaining: 2m 58s\n",
            "20:\tlearn: 0.5961492\ttotal: 3m 7s\tremaining: 2m 49s\n",
            "21:\tlearn: 0.5929167\ttotal: 3m 15s\tremaining: 2m 40s\n",
            "22:\tlearn: 0.5898783\ttotal: 3m 24s\tremaining: 2m 31s\n",
            "23:\tlearn: 0.5870628\ttotal: 3m 33s\tremaining: 2m 22s\n",
            "24:\tlearn: 0.5840258\ttotal: 3m 43s\tremaining: 2m 13s\n",
            "25:\tlearn: 0.5810659\ttotal: 3m 52s\tremaining: 2m 5s\n",
            "26:\tlearn: 0.5784794\ttotal: 4m 1s\tremaining: 1m 56s\n",
            "27:\tlearn: 0.5759815\ttotal: 4m 10s\tremaining: 1m 47s\n",
            "28:\tlearn: 0.5734134\ttotal: 4m 18s\tremaining: 1m 38s\n",
            "29:\tlearn: 0.5707044\ttotal: 4m 27s\tremaining: 1m 29s\n",
            "30:\tlearn: 0.5684299\ttotal: 4m 36s\tremaining: 1m 20s\n",
            "31:\tlearn: 0.5660996\ttotal: 4m 45s\tremaining: 1m 11s\n",
            "32:\tlearn: 0.5639343\ttotal: 4m 53s\tremaining: 1m 2s\n",
            "33:\tlearn: 0.5618882\ttotal: 5m 2s\tremaining: 53.4s\n",
            "34:\tlearn: 0.5594193\ttotal: 5m 11s\tremaining: 44.5s\n",
            "35:\tlearn: 0.5571665\ttotal: 5m 20s\tremaining: 35.6s\n",
            "36:\tlearn: 0.5549598\ttotal: 5m 29s\tremaining: 26.7s\n",
            "37:\tlearn: 0.5529131\ttotal: 5m 37s\tremaining: 17.8s\n",
            "38:\tlearn: 0.5508427\ttotal: 5m 47s\tremaining: 8.9s\n",
            "39:\tlearn: 0.5490276\ttotal: 5m 56s\tremaining: 0us\n",
            "0:\tlearn: 0.6746973\ttotal: 9.48s\tremaining: 6m 9s\n",
            "1:\tlearn: 0.6575282\ttotal: 18.8s\tremaining: 5m 57s\n",
            "2:\tlearn: 0.6425492\ttotal: 28s\tremaining: 5m 45s\n",
            "3:\tlearn: 0.6284437\ttotal: 37.2s\tremaining: 5m 34s\n",
            "4:\tlearn: 0.6157777\ttotal: 46.6s\tremaining: 5m 26s\n",
            "5:\tlearn: 0.6050722\ttotal: 56.3s\tremaining: 5m 18s\n",
            "6:\tlearn: 0.5949995\ttotal: 1m 5s\tremaining: 5m 8s\n",
            "7:\tlearn: 0.5854253\ttotal: 1m 14s\tremaining: 4m 59s\n",
            "8:\tlearn: 0.5771214\ttotal: 1m 24s\tremaining: 4m 50s\n",
            "9:\tlearn: 0.5691576\ttotal: 1m 33s\tremaining: 4m 40s\n",
            "10:\tlearn: 0.5620700\ttotal: 1m 42s\tremaining: 4m 31s\n",
            "11:\tlearn: 0.5556084\ttotal: 1m 52s\tremaining: 4m 21s\n",
            "12:\tlearn: 0.5495714\ttotal: 2m 1s\tremaining: 4m 12s\n",
            "13:\tlearn: 0.5438306\ttotal: 2m 10s\tremaining: 4m 2s\n",
            "14:\tlearn: 0.5387938\ttotal: 2m 20s\tremaining: 3m 53s\n",
            "15:\tlearn: 0.5342824\ttotal: 2m 29s\tremaining: 3m 44s\n",
            "16:\tlearn: 0.5303725\ttotal: 2m 39s\tremaining: 3m 35s\n",
            "17:\tlearn: 0.5264180\ttotal: 2m 48s\tremaining: 3m 25s\n",
            "18:\tlearn: 0.5227958\ttotal: 2m 57s\tremaining: 3m 16s\n",
            "19:\tlearn: 0.5185332\ttotal: 3m 6s\tremaining: 3m 6s\n",
            "20:\tlearn: 0.5147143\ttotal: 3m 16s\tremaining: 2m 57s\n",
            "21:\tlearn: 0.5118828\ttotal: 3m 25s\tremaining: 2m 47s\n",
            "22:\tlearn: 0.5080096\ttotal: 3m 34s\tremaining: 2m 38s\n",
            "23:\tlearn: 0.5045346\ttotal: 3m 43s\tremaining: 2m 29s\n",
            "24:\tlearn: 0.5011712\ttotal: 3m 53s\tremaining: 2m 20s\n",
            "25:\tlearn: 0.4975581\ttotal: 4m 2s\tremaining: 2m 10s\n",
            "26:\tlearn: 0.4945624\ttotal: 4m 12s\tremaining: 2m 1s\n",
            "27:\tlearn: 0.4917761\ttotal: 4m 21s\tremaining: 1m 51s\n",
            "28:\tlearn: 0.4893003\ttotal: 4m 30s\tremaining: 1m 42s\n",
            "29:\tlearn: 0.4867270\ttotal: 4m 40s\tremaining: 1m 33s\n",
            "30:\tlearn: 0.4846012\ttotal: 4m 50s\tremaining: 1m 24s\n",
            "31:\tlearn: 0.4821954\ttotal: 4m 59s\tremaining: 1m 14s\n",
            "32:\tlearn: 0.4793894\ttotal: 5m 9s\tremaining: 1m 5s\n",
            "33:\tlearn: 0.4772598\ttotal: 5m 19s\tremaining: 56.4s\n",
            "34:\tlearn: 0.4752528\ttotal: 5m 29s\tremaining: 47s\n",
            "35:\tlearn: 0.4730409\ttotal: 5m 38s\tremaining: 37.6s\n",
            "36:\tlearn: 0.4703917\ttotal: 5m 48s\tremaining: 28.2s\n",
            "37:\tlearn: 0.4679069\ttotal: 5m 58s\tremaining: 18.8s\n",
            "38:\tlearn: 0.4659968\ttotal: 6m 7s\tremaining: 9.42s\n",
            "39:\tlearn: 0.4635456\ttotal: 6m 17s\tremaining: 0us\n",
            "0:\tlearn: 0.6746497\ttotal: 8.99s\tremaining: 5m 50s\n",
            "1:\tlearn: 0.6578301\ttotal: 18s\tremaining: 5m 41s\n",
            "2:\tlearn: 0.6426079\ttotal: 26.9s\tremaining: 5m 31s\n",
            "3:\tlearn: 0.6285269\ttotal: 36s\tremaining: 5m 24s\n",
            "4:\tlearn: 0.6159277\ttotal: 45.2s\tremaining: 5m 16s\n",
            "5:\tlearn: 0.6046132\ttotal: 54.1s\tremaining: 5m 6s\n",
            "6:\tlearn: 0.5947830\ttotal: 1m 2s\tremaining: 4m 56s\n",
            "7:\tlearn: 0.5854482\ttotal: 1m 11s\tremaining: 4m 46s\n",
            "8:\tlearn: 0.5773179\ttotal: 1m 20s\tremaining: 4m 38s\n",
            "9:\tlearn: 0.5698745\ttotal: 1m 29s\tremaining: 4m 28s\n",
            "10:\tlearn: 0.5628288\ttotal: 1m 38s\tremaining: 4m 20s\n",
            "11:\tlearn: 0.5571695\ttotal: 1m 47s\tremaining: 4m 11s\n",
            "12:\tlearn: 0.5507140\ttotal: 1m 56s\tremaining: 4m 2s\n",
            "13:\tlearn: 0.5447312\ttotal: 2m 5s\tremaining: 3m 53s\n",
            "14:\tlearn: 0.5398469\ttotal: 2m 15s\tremaining: 3m 45s\n",
            "15:\tlearn: 0.5350698\ttotal: 2m 24s\tremaining: 3m 36s\n",
            "16:\tlearn: 0.5311008\ttotal: 2m 33s\tremaining: 3m 27s\n",
            "17:\tlearn: 0.5269546\ttotal: 2m 42s\tremaining: 3m 18s\n",
            "18:\tlearn: 0.5223664\ttotal: 2m 51s\tremaining: 3m 9s\n",
            "19:\tlearn: 0.5189758\ttotal: 3m\tremaining: 3m\n",
            "20:\tlearn: 0.5152989\ttotal: 3m 10s\tremaining: 2m 52s\n",
            "21:\tlearn: 0.5124202\ttotal: 3m 19s\tremaining: 2m 43s\n",
            "22:\tlearn: 0.5085401\ttotal: 3m 28s\tremaining: 2m 34s\n",
            "23:\tlearn: 0.5052280\ttotal: 3m 37s\tremaining: 2m 24s\n",
            "24:\tlearn: 0.5021346\ttotal: 3m 46s\tremaining: 2m 15s\n",
            "25:\tlearn: 0.4990128\ttotal: 3m 55s\tremaining: 2m 6s\n",
            "26:\tlearn: 0.4954289\ttotal: 4m 4s\tremaining: 1m 57s\n",
            "27:\tlearn: 0.4929999\ttotal: 4m 13s\tremaining: 1m 48s\n",
            "28:\tlearn: 0.4899208\ttotal: 4m 23s\tremaining: 1m 39s\n",
            "29:\tlearn: 0.4875357\ttotal: 4m 32s\tremaining: 1m 30s\n",
            "30:\tlearn: 0.4852431\ttotal: 4m 41s\tremaining: 1m 21s\n",
            "31:\tlearn: 0.4825324\ttotal: 4m 50s\tremaining: 1m 12s\n",
            "32:\tlearn: 0.4805481\ttotal: 4m 59s\tremaining: 1m 3s\n",
            "33:\tlearn: 0.4783431\ttotal: 5m 9s\tremaining: 54.6s\n",
            "34:\tlearn: 0.4756355\ttotal: 5m 18s\tremaining: 45.5s\n",
            "35:\tlearn: 0.4729314\ttotal: 5m 28s\tremaining: 36.5s\n",
            "36:\tlearn: 0.4702675\ttotal: 5m 37s\tremaining: 27.4s\n",
            "37:\tlearn: 0.4685769\ttotal: 5m 47s\tremaining: 18.3s\n",
            "38:\tlearn: 0.4667620\ttotal: 5m 56s\tremaining: 9.13s\n",
            "39:\tlearn: 0.4648784\ttotal: 6m 5s\tremaining: 0us\n",
            "0:\tlearn: 0.6747283\ttotal: 9.21s\tremaining: 5m 59s\n",
            "1:\tlearn: 0.6582413\ttotal: 18.4s\tremaining: 5m 49s\n",
            "2:\tlearn: 0.6428254\ttotal: 27.8s\tremaining: 5m 43s\n",
            "3:\tlearn: 0.6295628\ttotal: 37.3s\tremaining: 5m 35s\n",
            "4:\tlearn: 0.6169444\ttotal: 46.6s\tremaining: 5m 26s\n",
            "5:\tlearn: 0.6059979\ttotal: 55.7s\tremaining: 5m 15s\n",
            "6:\tlearn: 0.5959027\ttotal: 1m 5s\tremaining: 5m 6s\n",
            "7:\tlearn: 0.5872442\ttotal: 1m 14s\tremaining: 4m 57s\n",
            "8:\tlearn: 0.5786898\ttotal: 1m 23s\tremaining: 4m 47s\n",
            "9:\tlearn: 0.5705964\ttotal: 1m 32s\tremaining: 4m 37s\n",
            "10:\tlearn: 0.5637833\ttotal: 1m 41s\tremaining: 4m 28s\n",
            "11:\tlearn: 0.5570019\ttotal: 1m 50s\tremaining: 4m 18s\n",
            "12:\tlearn: 0.5511626\ttotal: 1m 59s\tremaining: 4m 8s\n",
            "13:\tlearn: 0.5462758\ttotal: 2m 8s\tremaining: 3m 59s\n",
            "14:\tlearn: 0.5414183\ttotal: 2m 17s\tremaining: 3m 49s\n",
            "15:\tlearn: 0.5365950\ttotal: 2m 26s\tremaining: 3m 40s\n",
            "16:\tlearn: 0.5316112\ttotal: 2m 36s\tremaining: 3m 31s\n",
            "17:\tlearn: 0.5276165\ttotal: 2m 45s\tremaining: 3m 22s\n",
            "18:\tlearn: 0.5234984\ttotal: 2m 55s\tremaining: 3m 13s\n",
            "19:\tlearn: 0.5198578\ttotal: 3m 4s\tremaining: 3m 4s\n",
            "20:\tlearn: 0.5156238\ttotal: 3m 14s\tremaining: 2m 55s\n",
            "21:\tlearn: 0.5116330\ttotal: 3m 23s\tremaining: 2m 46s\n",
            "22:\tlearn: 0.5085206\ttotal: 3m 32s\tremaining: 2m 37s\n",
            "23:\tlearn: 0.5051236\ttotal: 3m 42s\tremaining: 2m 28s\n",
            "24:\tlearn: 0.5024660\ttotal: 3m 51s\tremaining: 2m 18s\n",
            "25:\tlearn: 0.4999369\ttotal: 4m\tremaining: 2m 9s\n",
            "26:\tlearn: 0.4977786\ttotal: 4m 10s\tremaining: 2m\n",
            "27:\tlearn: 0.4947105\ttotal: 4m 19s\tremaining: 1m 51s\n",
            "28:\tlearn: 0.4925459\ttotal: 4m 28s\tremaining: 1m 41s\n",
            "29:\tlearn: 0.4888540\ttotal: 4m 38s\tremaining: 1m 32s\n",
            "30:\tlearn: 0.4866727\ttotal: 4m 47s\tremaining: 1m 23s\n",
            "31:\tlearn: 0.4843023\ttotal: 4m 57s\tremaining: 1m 14s\n",
            "32:\tlearn: 0.4817510\ttotal: 5m 6s\tremaining: 1m 5s\n",
            "33:\tlearn: 0.4797987\ttotal: 5m 16s\tremaining: 55.8s\n",
            "34:\tlearn: 0.4779905\ttotal: 5m 25s\tremaining: 46.5s\n",
            "35:\tlearn: 0.4759187\ttotal: 5m 34s\tremaining: 37.2s\n",
            "36:\tlearn: 0.4736692\ttotal: 5m 44s\tremaining: 27.9s\n",
            "37:\tlearn: 0.4720650\ttotal: 5m 53s\tremaining: 18.6s\n",
            "38:\tlearn: 0.4702454\ttotal: 6m 3s\tremaining: 9.31s\n",
            "39:\tlearn: 0.4677997\ttotal: 6m 12s\tremaining: 0us\n",
            "0:\tlearn: 0.6741124\ttotal: 13s\tremaining: 8m 25s\n",
            "1:\tlearn: 0.6573333\ttotal: 25.4s\tremaining: 8m 3s\n",
            "2:\tlearn: 0.6414437\ttotal: 38.1s\tremaining: 7m 49s\n",
            "3:\tlearn: 0.6278565\ttotal: 50.9s\tremaining: 7m 38s\n",
            "4:\tlearn: 0.6151010\ttotal: 1m 3s\tremaining: 7m 27s\n",
            "5:\tlearn: 0.6036539\ttotal: 1m 16s\tremaining: 7m 16s\n",
            "6:\tlearn: 0.5944444\ttotal: 1m 30s\tremaining: 7m 4s\n",
            "7:\tlearn: 0.5848348\ttotal: 1m 42s\tremaining: 6m 51s\n",
            "8:\tlearn: 0.5764379\ttotal: 1m 55s\tremaining: 6m 38s\n",
            "9:\tlearn: 0.5686252\ttotal: 2m 8s\tremaining: 6m 25s\n",
            "10:\tlearn: 0.5611319\ttotal: 2m 21s\tremaining: 6m 12s\n",
            "11:\tlearn: 0.5547440\ttotal: 2m 34s\tremaining: 5m 59s\n",
            "12:\tlearn: 0.5490998\ttotal: 2m 47s\tremaining: 5m 47s\n",
            "13:\tlearn: 0.5433243\ttotal: 3m\tremaining: 5m 34s\n",
            "14:\tlearn: 0.5381370\ttotal: 3m 12s\tremaining: 5m 21s\n",
            "15:\tlearn: 0.5340285\ttotal: 3m 26s\tremaining: 5m 9s\n",
            "16:\tlearn: 0.5293528\ttotal: 3m 39s\tremaining: 4m 56s\n",
            "17:\tlearn: 0.5254509\ttotal: 3m 51s\tremaining: 4m 43s\n",
            "18:\tlearn: 0.5215192\ttotal: 4m 4s\tremaining: 4m 30s\n",
            "19:\tlearn: 0.5180567\ttotal: 4m 17s\tremaining: 4m 17s\n",
            "20:\tlearn: 0.5145020\ttotal: 4m 30s\tremaining: 4m 4s\n",
            "21:\tlearn: 0.5113468\ttotal: 4m 43s\tremaining: 3m 51s\n",
            "22:\tlearn: 0.5080596\ttotal: 4m 55s\tremaining: 3m 38s\n",
            "23:\tlearn: 0.5050138\ttotal: 5m 8s\tremaining: 3m 25s\n",
            "24:\tlearn: 0.5019142\ttotal: 5m 21s\tremaining: 3m 12s\n",
            "25:\tlearn: 0.4990279\ttotal: 5m 34s\tremaining: 2m 59s\n",
            "26:\tlearn: 0.4959915\ttotal: 5m 46s\tremaining: 2m 47s\n",
            "27:\tlearn: 0.4933306\ttotal: 5m 59s\tremaining: 2m 34s\n",
            "28:\tlearn: 0.4903044\ttotal: 6m 12s\tremaining: 2m 21s\n",
            "29:\tlearn: 0.4880060\ttotal: 6m 24s\tremaining: 2m 8s\n",
            "30:\tlearn: 0.4852018\ttotal: 6m 37s\tremaining: 1m 55s\n",
            "31:\tlearn: 0.4826304\ttotal: 6m 50s\tremaining: 1m 42s\n",
            "32:\tlearn: 0.4808524\ttotal: 7m 3s\tremaining: 1m 29s\n",
            "33:\tlearn: 0.4787834\ttotal: 7m 16s\tremaining: 1m 17s\n",
            "34:\tlearn: 0.4765650\ttotal: 7m 29s\tremaining: 1m 4s\n",
            "35:\tlearn: 0.4743053\ttotal: 7m 43s\tremaining: 51.5s\n",
            "36:\tlearn: 0.4725655\ttotal: 7m 56s\tremaining: 38.7s\n",
            "37:\tlearn: 0.4703793\ttotal: 8m 10s\tremaining: 25.8s\n",
            "38:\tlearn: 0.4683907\ttotal: 8m 23s\tremaining: 12.9s\n",
            "39:\tlearn: 0.4663880\ttotal: 8m 37s\tremaining: 0us\n",
            "Лучший результат: 0.5933230075377374\n",
            "Лучшие параметры: {'model__learning_rate': 0.03, 'model__iterations': 40, 'model__depth': 10}\n"
          ]
        }
      ],
      "execution_count": 48
    },
    {
      "cell_type": "markdown",
      "source": "На тренировочной выборке лучший результат у LGBMClassifier, поэтому протестируем её на тестовой выборке",
      "metadata": {}
    },
    {
      "cell_type": "code",
      "source": "res = f1_score(y_test, lgmb_model.predict(X_test['lemm_text']))\nprint(\"Результат LGBMClassifier\", res.round(2))",
      "metadata": {},
      "outputs": [
        {
          "name": "stdout",
          "output_type": "stream",
          "text": [
            "Результат LGBMClassifier 0.75\n"
          ]
        }
      ],
      "execution_count": 49
    },
    {
      "cell_type": "markdown",
      "source": "## Выводы",
      "metadata": {}
    },
    {
      "cell_type": "markdown",
      "source": "Самый высокий показатель F1 у LGBMClassifier! С вероятностью 0.75 он идентифицирует токсичные комментарии, которые можно отправлять на модерацию!  ",
      "metadata": {}
    }
  ]
}