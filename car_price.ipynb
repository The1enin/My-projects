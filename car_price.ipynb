{
  "metadata": {
    "kernelspec": {
      "name": "python",
      "display_name": "Python (Pyodide)",
      "language": "python"
    },
    "language_info": {
      "codemirror_mode": {
        "name": "python",
        "version": 3
      },
      "file_extension": ".py",
      "mimetype": "text/x-python",
      "name": "python",
      "nbconvert_exporter": "python",
      "pygments_lexer": "ipython3",
      "version": "3.8"
    },
    "ExecuteTimeLog": [
      {
        "duration": 1458,
        "start_time": "2024-02-19T12:53:24.321Z"
      },
      {
        "duration": 93,
        "start_time": "2024-02-19T12:54:04.965Z"
      },
      {
        "duration": 118,
        "start_time": "2024-02-19T12:54:08.829Z"
      },
      {
        "duration": 1238,
        "start_time": "2024-02-19T12:54:14.493Z"
      },
      {
        "duration": 73,
        "start_time": "2024-02-19T12:58:14.179Z"
      },
      {
        "duration": 18,
        "start_time": "2024-02-19T12:58:24.326Z"
      },
      {
        "duration": 1139,
        "start_time": "2024-02-19T12:58:44.151Z"
      },
      {
        "duration": 76,
        "start_time": "2024-02-19T13:02:04.690Z"
      },
      {
        "duration": 70,
        "start_time": "2024-02-19T13:02:36.219Z"
      },
      {
        "duration": 74,
        "start_time": "2024-02-19T13:02:42.988Z"
      },
      {
        "duration": 107,
        "start_time": "2024-02-19T13:04:21.091Z"
      },
      {
        "duration": 58,
        "start_time": "2024-02-19T13:04:25.346Z"
      },
      {
        "duration": 81,
        "start_time": "2024-02-19T13:04:37.657Z"
      },
      {
        "duration": 141,
        "start_time": "2024-02-19T13:05:59.332Z"
      },
      {
        "duration": 103,
        "start_time": "2024-02-19T13:06:14.447Z"
      },
      {
        "duration": 7,
        "start_time": "2024-02-19T13:10:12.803Z"
      },
      {
        "duration": 49,
        "start_time": "2024-02-19T13:11:40.203Z"
      },
      {
        "duration": 988,
        "start_time": "2024-02-19T13:11:56.003Z"
      },
      {
        "duration": 110,
        "start_time": "2024-02-19T13:11:56.993Z"
      },
      {
        "duration": 6,
        "start_time": "2024-02-19T13:11:57.849Z"
      },
      {
        "duration": 40,
        "start_time": "2024-02-19T13:12:22.063Z"
      },
      {
        "duration": 171,
        "start_time": "2024-02-19T13:14:36.279Z"
      },
      {
        "duration": 95,
        "start_time": "2024-02-19T13:14:46.173Z"
      },
      {
        "duration": 11,
        "start_time": "2024-02-19T13:16:50.455Z"
      },
      {
        "duration": 856,
        "start_time": "2024-02-19T13:16:56.219Z"
      },
      {
        "duration": 106,
        "start_time": "2024-02-19T13:16:57.077Z"
      },
      {
        "duration": 5,
        "start_time": "2024-02-19T13:16:57.319Z"
      },
      {
        "duration": 42,
        "start_time": "2024-02-19T13:16:58.771Z"
      },
      {
        "duration": 403,
        "start_time": "2024-02-19T13:19:46.867Z"
      },
      {
        "duration": 378,
        "start_time": "2024-02-19T13:19:57.682Z"
      },
      {
        "duration": 9,
        "start_time": "2024-02-19T13:20:07.929Z"
      },
      {
        "duration": 379,
        "start_time": "2024-02-19T13:20:19.946Z"
      },
      {
        "duration": 881,
        "start_time": "2024-02-19T13:21:58.026Z"
      },
      {
        "duration": 900,
        "start_time": "2024-02-19T13:22:03.353Z"
      },
      {
        "duration": 10,
        "start_time": "2024-02-19T14:36:26.753Z"
      },
      {
        "duration": 256,
        "start_time": "2024-02-19T14:36:32.860Z"
      },
      {
        "duration": 236,
        "start_time": "2024-02-19T14:37:06.627Z"
      },
      {
        "duration": 237,
        "start_time": "2024-02-19T14:37:48.227Z"
      },
      {
        "duration": 1220,
        "start_time": "2024-02-19T14:38:04.707Z"
      },
      {
        "duration": 32,
        "start_time": "2024-02-19T14:40:23.293Z"
      },
      {
        "duration": 22,
        "start_time": "2024-02-19T14:40:49.710Z"
      },
      {
        "duration": 20,
        "start_time": "2024-02-19T14:41:23.993Z"
      },
      {
        "duration": 21,
        "start_time": "2024-02-19T14:41:32.438Z"
      },
      {
        "duration": 25,
        "start_time": "2024-02-19T14:41:37.698Z"
      },
      {
        "duration": 50,
        "start_time": "2024-02-20T06:35:01.386Z"
      },
      {
        "duration": 1467,
        "start_time": "2024-02-20T06:35:07.147Z"
      },
      {
        "duration": 3016,
        "start_time": "2024-02-20T06:35:08.616Z"
      },
      {
        "duration": 138,
        "start_time": "2024-02-20T06:35:14.516Z"
      },
      {
        "duration": 9,
        "start_time": "2024-02-20T06:35:17.449Z"
      },
      {
        "duration": 29,
        "start_time": "2024-02-20T06:35:18.723Z"
      },
      {
        "duration": 99,
        "start_time": "2024-02-20T06:35:28.867Z"
      },
      {
        "duration": 60,
        "start_time": "2024-02-20T06:35:31.342Z"
      },
      {
        "duration": 218,
        "start_time": "2024-02-20T06:35:35.493Z"
      },
      {
        "duration": 73,
        "start_time": "2024-02-20T06:36:36.204Z"
      },
      {
        "duration": 833,
        "start_time": "2024-02-20T06:36:48.389Z"
      },
      {
        "duration": 101,
        "start_time": "2024-02-20T06:36:50.645Z"
      },
      {
        "duration": 6,
        "start_time": "2024-02-20T06:36:51.429Z"
      },
      {
        "duration": 23,
        "start_time": "2024-02-20T06:36:53.634Z"
      },
      {
        "duration": 97,
        "start_time": "2024-02-20T06:36:55.153Z"
      },
      {
        "duration": 191,
        "start_time": "2024-02-20T06:37:24.032Z"
      },
      {
        "duration": 848,
        "start_time": "2024-02-20T06:42:27.746Z"
      },
      {
        "duration": 137,
        "start_time": "2024-02-20T06:42:28.725Z"
      },
      {
        "duration": 6,
        "start_time": "2024-02-20T06:42:29.651Z"
      },
      {
        "duration": 400,
        "start_time": "2024-02-20T06:42:30.381Z"
      },
      {
        "duration": 25,
        "start_time": "2024-02-20T06:43:11.620Z"
      },
      {
        "duration": 100,
        "start_time": "2024-02-20T06:43:12.349Z"
      },
      {
        "duration": 62,
        "start_time": "2024-02-20T06:43:23.423Z"
      },
      {
        "duration": 175,
        "start_time": "2024-02-20T06:43:42.379Z"
      },
      {
        "duration": 340,
        "start_time": "2024-02-20T06:44:17.292Z"
      },
      {
        "duration": 1172,
        "start_time": "2024-02-20T06:44:18.513Z"
      },
      {
        "duration": 103,
        "start_time": "2024-02-20T06:48:42.477Z"
      },
      {
        "duration": 336,
        "start_time": "2024-02-20T06:49:27.381Z"
      },
      {
        "duration": 312,
        "start_time": "2024-02-20T06:49:34.198Z"
      },
      {
        "duration": 342,
        "start_time": "2024-02-20T06:50:58.497Z"
      },
      {
        "duration": 18,
        "start_time": "2024-02-20T06:51:13.575Z"
      },
      {
        "duration": 9,
        "start_time": "2024-02-20T06:51:19.723Z"
      },
      {
        "duration": 4,
        "start_time": "2024-02-20T06:51:26.431Z"
      },
      {
        "duration": 401,
        "start_time": "2024-02-20T06:51:46.342Z"
      },
      {
        "duration": 108,
        "start_time": "2024-02-20T06:58:52.239Z"
      },
      {
        "duration": 10,
        "start_time": "2024-02-20T06:59:00.997Z"
      },
      {
        "duration": 13,
        "start_time": "2024-02-20T06:59:37.851Z"
      },
      {
        "duration": 158,
        "start_time": "2024-02-20T07:00:25.144Z"
      },
      {
        "duration": 175,
        "start_time": "2024-02-20T07:00:36.774Z"
      },
      {
        "duration": 131,
        "start_time": "2024-02-20T07:02:51.127Z"
      },
      {
        "duration": 9,
        "start_time": "2024-02-20T07:04:03.049Z"
      },
      {
        "duration": 2317,
        "start_time": "2024-02-20T07:04:18.933Z"
      },
      {
        "duration": 5866,
        "start_time": "2024-02-20T07:07:31.123Z"
      },
      {
        "duration": 1429,
        "start_time": "2024-02-20T07:11:01.181Z"
      },
      {
        "duration": 218,
        "start_time": "2024-02-20T07:13:07.795Z"
      },
      {
        "duration": 600,
        "start_time": "2024-02-20T07:13:30.453Z"
      },
      {
        "duration": 541,
        "start_time": "2024-02-20T07:13:48.045Z"
      },
      {
        "duration": 441,
        "start_time": "2024-02-20T07:13:56.634Z"
      },
      {
        "duration": 1473,
        "start_time": "2024-02-20T07:14:09.062Z"
      },
      {
        "duration": 4,
        "start_time": "2024-02-20T07:14:31.653Z"
      },
      {
        "duration": 311,
        "start_time": "2024-02-20T07:14:50.137Z"
      },
      {
        "duration": 5197,
        "start_time": "2024-02-20T07:15:14.610Z"
      },
      {
        "duration": 115,
        "start_time": "2024-02-20T07:31:10.026Z"
      },
      {
        "duration": 413,
        "start_time": "2024-02-20T07:32:27.424Z"
      },
      {
        "duration": 69947,
        "start_time": "2024-02-20T07:33:43.726Z"
      },
      {
        "duration": 373,
        "start_time": "2024-02-20T07:36:56.923Z"
      },
      {
        "duration": 70525,
        "start_time": "2024-02-20T07:37:06.823Z"
      },
      {
        "duration": 33,
        "start_time": "2024-02-20T07:41:17.403Z"
      },
      {
        "duration": 38,
        "start_time": "2024-02-20T07:41:54.526Z"
      },
      {
        "duration": 1500,
        "start_time": "2024-02-20T07:42:15.075Z"
      },
      {
        "duration": 1506,
        "start_time": "2024-02-20T07:43:55.783Z"
      },
      {
        "duration": 17,
        "start_time": "2024-02-20T07:48:37.753Z"
      },
      {
        "duration": 12347,
        "start_time": "2024-02-20T07:48:51.676Z"
      },
      {
        "duration": 274,
        "start_time": "2024-02-20T07:52:51.653Z"
      },
      {
        "duration": 282,
        "start_time": "2024-02-20T07:53:00.647Z"
      },
      {
        "duration": 453,
        "start_time": "2024-02-20T07:54:41.636Z"
      },
      {
        "duration": 240,
        "start_time": "2024-02-20T07:55:29.545Z"
      },
      {
        "duration": 348,
        "start_time": "2024-02-20T07:55:42.036Z"
      },
      {
        "duration": 205,
        "start_time": "2024-02-20T07:55:47.166Z"
      },
      {
        "duration": 245,
        "start_time": "2024-02-20T07:55:57.482Z"
      },
      {
        "duration": 232,
        "start_time": "2024-02-20T07:56:07.675Z"
      },
      {
        "duration": 232,
        "start_time": "2024-02-20T07:56:11.976Z"
      },
      {
        "duration": 387,
        "start_time": "2024-02-20T07:56:17.939Z"
      },
      {
        "duration": 262,
        "start_time": "2024-02-20T07:56:24.095Z"
      },
      {
        "duration": 266,
        "start_time": "2024-02-20T08:08:51.476Z"
      },
      {
        "duration": 217,
        "start_time": "2024-02-20T08:09:17.433Z"
      },
      {
        "duration": 1328,
        "start_time": "2024-02-20T08:16:15.164Z"
      },
      {
        "duration": 232,
        "start_time": "2024-02-20T08:16:18.597Z"
      },
      {
        "duration": 356,
        "start_time": "2024-02-20T08:16:19.878Z"
      },
      {
        "duration": 9,
        "start_time": "2024-02-20T08:20:10.763Z"
      },
      {
        "duration": 8,
        "start_time": "2024-02-20T08:20:40.568Z"
      },
      {
        "duration": 82,
        "start_time": "2024-02-20T08:21:34.572Z"
      },
      {
        "duration": 75,
        "start_time": "2024-02-20T08:21:40.993Z"
      },
      {
        "duration": 55,
        "start_time": "2024-02-20T08:27:17.119Z"
      },
      {
        "duration": 7,
        "start_time": "2024-02-20T08:28:12.609Z"
      },
      {
        "duration": 253,
        "start_time": "2024-02-20T08:28:13.075Z"
      },
      {
        "duration": 6,
        "start_time": "2024-02-20T08:36:27.468Z"
      },
      {
        "duration": 17,
        "start_time": "2024-02-20T08:42:20.524Z"
      },
      {
        "duration": 8,
        "start_time": "2024-02-20T08:50:59.502Z"
      },
      {
        "duration": 1694,
        "start_time": "2024-02-20T08:51:04.972Z"
      },
      {
        "duration": 18,
        "start_time": "2024-02-20T08:51:23.644Z"
      },
      {
        "duration": 35,
        "start_time": "2024-02-20T08:51:32.134Z"
      },
      {
        "duration": 4,
        "start_time": "2024-02-20T08:53:04.013Z"
      },
      {
        "duration": 10,
        "start_time": "2024-02-20T08:53:31.916Z"
      },
      {
        "duration": 66,
        "start_time": "2024-02-20T08:53:44.403Z"
      },
      {
        "duration": 41,
        "start_time": "2024-02-20T08:57:42.586Z"
      },
      {
        "duration": 21,
        "start_time": "2024-02-20T08:59:53.905Z"
      },
      {
        "duration": 81,
        "start_time": "2024-02-20T09:00:20.773Z"
      },
      {
        "duration": 81,
        "start_time": "2024-02-20T09:00:25.743Z"
      },
      {
        "duration": 83,
        "start_time": "2024-02-20T09:00:45.153Z"
      },
      {
        "duration": 31,
        "start_time": "2024-02-20T09:00:55.201Z"
      },
      {
        "duration": 47,
        "start_time": "2024-02-20T09:01:21.801Z"
      },
      {
        "duration": 32,
        "start_time": "2024-02-20T09:01:27.849Z"
      },
      {
        "duration": 31,
        "start_time": "2024-02-20T09:01:31.793Z"
      },
      {
        "duration": 9,
        "start_time": "2024-02-20T09:31:37.887Z"
      },
      {
        "duration": 8,
        "start_time": "2024-02-20T09:31:45.823Z"
      },
      {
        "duration": 1177,
        "start_time": "2024-02-20T09:55:21.713Z"
      },
      {
        "duration": 3005,
        "start_time": "2024-02-20T09:55:22.892Z"
      },
      {
        "duration": 130,
        "start_time": "2024-02-20T09:55:25.899Z"
      },
      {
        "duration": 6,
        "start_time": "2024-02-20T09:55:26.031Z"
      },
      {
        "duration": 477,
        "start_time": "2024-02-20T09:55:26.038Z"
      },
      {
        "duration": 22,
        "start_time": "2024-02-20T09:55:26.517Z"
      },
      {
        "duration": 113,
        "start_time": "2024-02-20T09:55:26.541Z"
      },
      {
        "duration": 63,
        "start_time": "2024-02-20T09:55:26.656Z"
      },
      {
        "duration": 199,
        "start_time": "2024-02-20T09:55:26.720Z"
      },
      {
        "duration": 390,
        "start_time": "2024-02-20T09:55:26.921Z"
      },
      {
        "duration": 1397,
        "start_time": "2024-02-20T09:55:27.312Z"
      },
      {
        "duration": 1265,
        "start_time": "2024-02-20T09:55:28.710Z"
      },
      {
        "duration": 256,
        "start_time": "2024-02-20T09:55:29.976Z"
      },
      {
        "duration": 223,
        "start_time": "2024-02-20T09:55:30.234Z"
      },
      {
        "duration": 78,
        "start_time": "2024-02-20T09:55:30.458Z"
      },
      {
        "duration": 43,
        "start_time": "2024-02-20T09:55:30.538Z"
      },
      {
        "duration": 472,
        "start_time": "2024-02-20T09:55:30.585Z"
      },
      {
        "duration": 5128,
        "start_time": "2024-02-20T09:59:28.150Z"
      },
      {
        "duration": 108,
        "start_time": "2024-02-20T10:00:08.179Z"
      },
      {
        "duration": 334,
        "start_time": "2024-02-20T10:00:55.779Z"
      },
      {
        "duration": 377,
        "start_time": "2024-02-20T10:01:29.304Z"
      },
      {
        "duration": 35,
        "start_time": "2024-02-20T10:02:39.560Z"
      },
      {
        "duration": 33,
        "start_time": "2024-02-20T10:04:59.074Z"
      },
      {
        "duration": 114,
        "start_time": "2024-02-20T10:05:10.083Z"
      },
      {
        "duration": 38,
        "start_time": "2024-02-20T10:05:15.882Z"
      },
      {
        "duration": 216,
        "start_time": "2024-02-20T10:05:25.549Z"
      },
      {
        "duration": 186,
        "start_time": "2024-02-20T10:05:48.802Z"
      },
      {
        "duration": 190,
        "start_time": "2024-02-20T10:06:11.336Z"
      },
      {
        "duration": 208,
        "start_time": "2024-02-20T10:06:11.538Z"
      },
      {
        "duration": 221,
        "start_time": "2024-02-20T10:06:33.089Z"
      },
      {
        "duration": 218,
        "start_time": "2024-02-20T10:06:33.312Z"
      },
      {
        "duration": 33,
        "start_time": "2024-02-20T10:06:45.222Z"
      },
      {
        "duration": 16,
        "start_time": "2024-02-20T10:09:00.997Z"
      },
      {
        "duration": 119,
        "start_time": "2024-02-20T10:09:16.150Z"
      },
      {
        "duration": 103,
        "start_time": "2024-02-20T10:09:35.045Z"
      },
      {
        "duration": 96,
        "start_time": "2024-02-20T10:09:44.697Z"
      },
      {
        "duration": 100,
        "start_time": "2024-02-20T10:09:53.557Z"
      },
      {
        "duration": 32,
        "start_time": "2024-02-20T10:11:10.964Z"
      },
      {
        "duration": 19,
        "start_time": "2024-02-20T10:11:50.670Z"
      },
      {
        "duration": 35,
        "start_time": "2024-02-20T10:12:01.254Z"
      },
      {
        "duration": 26,
        "start_time": "2024-02-20T10:12:08.857Z"
      },
      {
        "duration": 365,
        "start_time": "2024-02-20T10:12:31.299Z"
      },
      {
        "duration": 297,
        "start_time": "2024-02-20T10:14:06.387Z"
      },
      {
        "duration": 181,
        "start_time": "2024-02-20T10:14:11.410Z"
      },
      {
        "duration": 194,
        "start_time": "2024-02-20T10:14:14.127Z"
      },
      {
        "duration": 208,
        "start_time": "2024-02-20T10:14:16.737Z"
      },
      {
        "duration": 224,
        "start_time": "2024-02-20T10:14:21.370Z"
      },
      {
        "duration": 182,
        "start_time": "2024-02-20T10:14:23.793Z"
      },
      {
        "duration": 256,
        "start_time": "2024-02-20T10:15:34.579Z"
      },
      {
        "duration": 117,
        "start_time": "2024-02-20T10:19:55.619Z"
      },
      {
        "duration": 12,
        "start_time": "2024-02-20T10:41:10.923Z"
      },
      {
        "duration": 15788,
        "start_time": "2024-02-20T10:41:40.036Z"
      },
      {
        "duration": 34,
        "start_time": "2024-02-20T10:42:09.924Z"
      },
      {
        "duration": 56,
        "start_time": "2024-02-20T10:43:06.100Z"
      },
      {
        "duration": 68,
        "start_time": "2024-02-20T10:43:10.962Z"
      },
      {
        "duration": 15669,
        "start_time": "2024-02-20T10:43:11.242Z"
      },
      {
        "duration": 4,
        "start_time": "2024-02-20T10:45:00.121Z"
      },
      {
        "duration": 970,
        "start_time": "2024-02-20T10:45:00.127Z"
      },
      {
        "duration": 62,
        "start_time": "2024-02-20T10:45:01.098Z"
      },
      {
        "duration": 33,
        "start_time": "2024-02-20T10:45:01.162Z"
      },
      {
        "duration": 498,
        "start_time": "2024-02-20T10:45:01.197Z"
      },
      {
        "duration": 24,
        "start_time": "2024-02-20T10:45:01.697Z"
      },
      {
        "duration": 113,
        "start_time": "2024-02-20T10:45:01.722Z"
      },
      {
        "duration": 83,
        "start_time": "2024-02-20T10:45:01.837Z"
      },
      {
        "duration": 213,
        "start_time": "2024-02-20T10:45:01.922Z"
      },
      {
        "duration": 379,
        "start_time": "2024-02-20T10:45:02.137Z"
      },
      {
        "duration": 1438,
        "start_time": "2024-02-20T10:45:02.518Z"
      },
      {
        "duration": 1271,
        "start_time": "2024-02-20T10:45:03.958Z"
      },
      {
        "duration": 347,
        "start_time": "2024-02-20T10:45:05.231Z"
      },
      {
        "duration": 230,
        "start_time": "2024-02-20T10:45:05.580Z"
      },
      {
        "duration": 99,
        "start_time": "2024-02-20T10:45:05.812Z"
      },
      {
        "duration": 37,
        "start_time": "2024-02-20T10:45:05.912Z"
      },
      {
        "duration": 372,
        "start_time": "2024-02-20T10:45:05.950Z"
      },
      {
        "duration": 34,
        "start_time": "2024-02-20T10:45:06.323Z"
      },
      {
        "duration": 472,
        "start_time": "2024-02-20T10:45:06.372Z"
      },
      {
        "duration": 373,
        "start_time": "2024-02-20T10:45:15.175Z"
      },
      {
        "duration": 326,
        "start_time": "2024-02-20T10:45:36.314Z"
      },
      {
        "duration": 32,
        "start_time": "2024-02-20T10:45:43.271Z"
      },
      {
        "duration": 46,
        "start_time": "2024-02-20T10:45:59.377Z"
      },
      {
        "duration": 13916,
        "start_time": "2024-02-20T10:47:51.787Z"
      },
      {
        "duration": 75,
        "start_time": "2024-02-20T10:48:08.282Z"
      },
      {
        "duration": 94,
        "start_time": "2024-02-20T11:00:10.071Z"
      },
      {
        "duration": 118,
        "start_time": "2024-02-20T11:00:44.161Z"
      },
      {
        "duration": 118,
        "start_time": "2024-02-20T11:01:15.249Z"
      },
      {
        "duration": 13836,
        "start_time": "2024-02-20T11:03:05.910Z"
      },
      {
        "duration": 83,
        "start_time": "2024-02-20T11:03:31.124Z"
      },
      {
        "duration": 93,
        "start_time": "2024-02-20T11:05:34.867Z"
      },
      {
        "duration": 15,
        "start_time": "2024-02-20T11:06:46.582Z"
      },
      {
        "duration": 18,
        "start_time": "2024-02-20T11:07:04.814Z"
      },
      {
        "duration": 46,
        "start_time": "2024-02-20T11:08:28.429Z"
      },
      {
        "duration": 29,
        "start_time": "2024-02-20T11:10:07.921Z"
      },
      {
        "duration": 33,
        "start_time": "2024-02-20T11:10:32.113Z"
      },
      {
        "duration": 1631,
        "start_time": "2024-02-20T11:10:59.387Z"
      },
      {
        "duration": 123,
        "start_time": "2024-02-20T11:11:09.791Z"
      },
      {
        "duration": 1649,
        "start_time": "2024-02-20T11:11:14.525Z"
      },
      {
        "duration": 28,
        "start_time": "2024-02-20T11:11:31.123Z"
      },
      {
        "duration": 28,
        "start_time": "2024-02-20T11:11:39.050Z"
      },
      {
        "duration": 30,
        "start_time": "2024-02-20T11:11:43.990Z"
      },
      {
        "duration": 17,
        "start_time": "2024-02-20T11:11:54.625Z"
      },
      {
        "duration": 23,
        "start_time": "2024-02-20T11:12:30.745Z"
      },
      {
        "duration": 23,
        "start_time": "2024-02-20T11:16:37.818Z"
      },
      {
        "duration": 21,
        "start_time": "2024-02-20T11:16:44.588Z"
      },
      {
        "duration": 150,
        "start_time": "2024-02-20T11:17:48.521Z"
      },
      {
        "duration": 145,
        "start_time": "2024-02-20T11:18:22.123Z"
      },
      {
        "duration": 164,
        "start_time": "2024-02-20T11:19:20.615Z"
      },
      {
        "duration": 144,
        "start_time": "2024-02-20T11:19:25.770Z"
      },
      {
        "duration": 139,
        "start_time": "2024-02-20T11:24:53.917Z"
      },
      {
        "duration": 376,
        "start_time": "2024-02-20T11:25:00.177Z"
      },
      {
        "duration": 14050,
        "start_time": "2024-02-20T11:25:39.716Z"
      },
      {
        "duration": 17,
        "start_time": "2024-02-20T11:36:12.863Z"
      },
      {
        "duration": 23,
        "start_time": "2024-02-20T11:36:38.009Z"
      },
      {
        "duration": 17,
        "start_time": "2024-02-20T11:36:49.010Z"
      },
      {
        "duration": 320,
        "start_time": "2024-02-20T11:39:54.865Z"
      },
      {
        "duration": 437,
        "start_time": "2024-02-20T11:45:48.421Z"
      },
      {
        "duration": 5,
        "start_time": "2024-02-20T11:46:58.215Z"
      },
      {
        "duration": 71,
        "start_time": "2024-02-20T11:47:52.632Z"
      },
      {
        "duration": 84,
        "start_time": "2024-02-20T11:48:23.407Z"
      },
      {
        "duration": 25,
        "start_time": "2024-02-20T11:50:45.499Z"
      },
      {
        "duration": 164,
        "start_time": "2024-02-20T12:59:20.820Z"
      },
      {
        "duration": 6,
        "start_time": "2024-02-20T13:01:39.720Z"
      },
      {
        "duration": 15,
        "start_time": "2024-02-20T13:01:52.290Z"
      },
      {
        "duration": 12,
        "start_time": "2024-02-20T13:01:56.791Z"
      },
      {
        "duration": 13,
        "start_time": "2024-02-20T13:01:57.092Z"
      },
      {
        "duration": 4,
        "start_time": "2024-02-20T13:09:30.639Z"
      },
      {
        "duration": 12,
        "start_time": "2024-02-20T13:09:34.415Z"
      },
      {
        "duration": 5,
        "start_time": "2024-02-20T13:16:18.898Z"
      },
      {
        "duration": 13,
        "start_time": "2024-02-20T13:16:37.397Z"
      },
      {
        "duration": 13,
        "start_time": "2024-02-20T13:19:49.120Z"
      },
      {
        "duration": 5,
        "start_time": "2024-02-20T13:20:12.027Z"
      },
      {
        "duration": 7,
        "start_time": "2024-02-20T13:22:31.864Z"
      },
      {
        "duration": 7086,
        "start_time": "2024-02-20T13:22:32.519Z"
      },
      {
        "duration": 50,
        "start_time": "2024-02-20T13:32:43.454Z"
      },
      {
        "duration": 6239,
        "start_time": "2024-02-20T13:32:44.665Z"
      },
      {
        "duration": 5,
        "start_time": "2024-02-20T13:38:37.273Z"
      },
      {
        "duration": 6146,
        "start_time": "2024-02-20T13:38:38.879Z"
      },
      {
        "duration": 43,
        "start_time": "2024-02-20T13:39:44.799Z"
      },
      {
        "duration": 7118,
        "start_time": "2024-02-20T13:39:46.114Z"
      },
      {
        "duration": 16,
        "start_time": "2024-02-20T13:41:42.959Z"
      },
      {
        "duration": 6,
        "start_time": "2024-02-20T13:41:48.968Z"
      },
      {
        "duration": 16,
        "start_time": "2024-02-20T13:41:53.475Z"
      },
      {
        "duration": 4,
        "start_time": "2024-02-20T13:44:22.667Z"
      },
      {
        "duration": 6,
        "start_time": "2024-02-20T13:53:12.744Z"
      },
      {
        "duration": 36,
        "start_time": "2024-02-20T13:53:13.430Z"
      },
      {
        "duration": 6,
        "start_time": "2024-02-20T13:53:18.957Z"
      },
      {
        "duration": 35,
        "start_time": "2024-02-20T13:53:19.392Z"
      },
      {
        "duration": 5,
        "start_time": "2024-02-20T13:54:04.654Z"
      },
      {
        "duration": 35,
        "start_time": "2024-02-20T13:54:06.226Z"
      },
      {
        "duration": 6,
        "start_time": "2024-02-20T13:55:50.854Z"
      },
      {
        "duration": 37,
        "start_time": "2024-02-20T13:55:51.490Z"
      },
      {
        "duration": 5,
        "start_time": "2024-02-20T14:01:38.383Z"
      },
      {
        "duration": 40,
        "start_time": "2024-02-20T14:01:38.981Z"
      },
      {
        "duration": 4,
        "start_time": "2024-02-20T14:05:42.008Z"
      },
      {
        "duration": 6,
        "start_time": "2024-02-20T14:06:50.201Z"
      },
      {
        "duration": 77,
        "start_time": "2024-02-20T14:06:50.826Z"
      },
      {
        "duration": 4,
        "start_time": "2024-02-20T14:10:17.197Z"
      },
      {
        "duration": 6,
        "start_time": "2024-02-20T14:10:17.563Z"
      },
      {
        "duration": 53,
        "start_time": "2024-02-20T14:10:56.251Z"
      },
      {
        "duration": 6,
        "start_time": "2024-02-20T14:10:58.437Z"
      },
      {
        "duration": 1607,
        "start_time": "2024-02-20T14:11:05.561Z"
      },
      {
        "duration": 3012,
        "start_time": "2024-02-20T14:11:07.170Z"
      },
      {
        "duration": 140,
        "start_time": "2024-02-20T14:11:10.184Z"
      },
      {
        "duration": 7,
        "start_time": "2024-02-20T14:11:10.326Z"
      },
      {
        "duration": 510,
        "start_time": "2024-02-20T14:11:10.336Z"
      },
      {
        "duration": 33,
        "start_time": "2024-02-20T14:11:10.847Z"
      },
      {
        "duration": 104,
        "start_time": "2024-02-20T14:11:10.882Z"
      },
      {
        "duration": 55,
        "start_time": "2024-02-20T14:11:10.987Z"
      },
      {
        "duration": 196,
        "start_time": "2024-02-20T14:11:11.043Z"
      },
      {
        "duration": 376,
        "start_time": "2024-02-20T14:11:11.240Z"
      },
      {
        "duration": 1555,
        "start_time": "2024-02-20T14:11:11.618Z"
      },
      {
        "duration": 1473,
        "start_time": "2024-02-20T14:11:13.174Z"
      },
      {
        "duration": 245,
        "start_time": "2024-02-20T14:11:14.649Z"
      },
      {
        "duration": 227,
        "start_time": "2024-02-20T14:11:14.896Z"
      },
      {
        "duration": 78,
        "start_time": "2024-02-20T14:11:15.124Z"
      },
      {
        "duration": 39,
        "start_time": "2024-02-20T14:11:15.204Z"
      },
      {
        "duration": 42,
        "start_time": "2024-02-20T14:11:15.244Z"
      },
      {
        "duration": 273,
        "start_time": "2024-02-20T14:11:15.287Z"
      },
      {
        "duration": 36,
        "start_time": "2024-02-20T14:11:15.561Z"
      },
      {
        "duration": 50,
        "start_time": "2024-02-20T14:11:15.599Z"
      },
      {
        "duration": 13881,
        "start_time": "2024-02-20T14:11:15.651Z"
      },
      {
        "duration": 78,
        "start_time": "2024-02-20T14:11:29.533Z"
      },
      {
        "duration": 152,
        "start_time": "2024-02-20T14:11:29.613Z"
      },
      {
        "duration": 17,
        "start_time": "2024-02-20T14:11:29.766Z"
      },
      {
        "duration": 90,
        "start_time": "2024-02-20T14:11:29.784Z"
      },
      {
        "duration": 6,
        "start_time": "2024-02-20T14:11:29.882Z"
      },
      {
        "duration": 27,
        "start_time": "2024-02-20T14:11:29.889Z"
      },
      {
        "duration": 185207,
        "start_time": "2024-02-20T14:11:29.917Z"
      },
      {
        "duration": 119,
        "start_time": "2024-02-20T14:23:08.736Z"
      },
      {
        "duration": 6,
        "start_time": "2024-02-20T14:26:16.001Z"
      },
      {
        "duration": 144600,
        "start_time": "2024-02-20T14:26:16.009Z"
      },
      {
        "duration": 0,
        "start_time": "2024-02-20T14:28:40.611Z"
      },
      {
        "duration": 240,
        "start_time": "2024-02-20T14:28:45.776Z"
      },
      {
        "duration": 242,
        "start_time": "2024-02-20T14:29:31.687Z"
      },
      {
        "duration": 280,
        "start_time": "2024-02-20T14:40:16.845Z"
      },
      {
        "duration": 260,
        "start_time": "2024-02-20T14:41:06.851Z"
      },
      {
        "duration": 82,
        "start_time": "2024-02-20T14:41:27.127Z"
      },
      {
        "duration": 260,
        "start_time": "2024-02-20T14:42:10.815Z"
      },
      {
        "duration": 5,
        "start_time": "2024-02-20T14:42:57.054Z"
      },
      {
        "duration": 888,
        "start_time": "2024-02-20T14:42:57.062Z"
      },
      {
        "duration": 137,
        "start_time": "2024-02-20T14:42:57.952Z"
      },
      {
        "duration": 7,
        "start_time": "2024-02-20T14:42:58.092Z"
      },
      {
        "duration": 412,
        "start_time": "2024-02-20T14:42:58.101Z"
      },
      {
        "duration": 26,
        "start_time": "2024-02-20T14:42:58.514Z"
      },
      {
        "duration": 115,
        "start_time": "2024-02-20T14:42:58.541Z"
      },
      {
        "duration": 67,
        "start_time": "2024-02-20T14:42:58.658Z"
      },
      {
        "duration": 193,
        "start_time": "2024-02-20T14:42:58.727Z"
      },
      {
        "duration": 356,
        "start_time": "2024-02-20T14:42:58.924Z"
      },
      {
        "duration": 1495,
        "start_time": "2024-02-20T14:42:59.282Z"
      },
      {
        "duration": 1422,
        "start_time": "2024-02-20T14:43:00.779Z"
      },
      {
        "duration": 260,
        "start_time": "2024-02-20T14:43:02.203Z"
      },
      {
        "duration": 227,
        "start_time": "2024-02-20T14:43:02.465Z"
      },
      {
        "duration": 84,
        "start_time": "2024-02-20T14:43:02.694Z"
      },
      {
        "duration": 31,
        "start_time": "2024-02-20T14:43:02.779Z"
      },
      {
        "duration": 35,
        "start_time": "2024-02-20T14:43:02.811Z"
      },
      {
        "duration": 283,
        "start_time": "2024-02-20T14:43:02.848Z"
      },
      {
        "duration": 41,
        "start_time": "2024-02-20T14:43:03.132Z"
      },
      {
        "duration": 47,
        "start_time": "2024-02-20T14:43:03.175Z"
      },
      {
        "duration": 13986,
        "start_time": "2024-02-20T14:43:03.224Z"
      },
      {
        "duration": 79,
        "start_time": "2024-02-20T14:43:17.211Z"
      },
      {
        "duration": 145,
        "start_time": "2024-02-20T14:43:17.291Z"
      },
      {
        "duration": 16,
        "start_time": "2024-02-20T14:43:17.438Z"
      },
      {
        "duration": 120,
        "start_time": "2024-02-20T14:43:17.455Z"
      },
      {
        "duration": 266,
        "start_time": "2024-02-20T14:43:36.874Z"
      },
      {
        "duration": 34,
        "start_time": "2024-02-20T14:46:15.701Z"
      },
      {
        "duration": 51,
        "start_time": "2024-02-20T14:50:15.397Z"
      },
      {
        "duration": 350,
        "start_time": "2024-02-20T14:51:27.338Z"
      },
      {
        "duration": 5,
        "start_time": "2024-02-20T14:51:33.696Z"
      },
      {
        "duration": 196835,
        "start_time": "2024-02-20T14:51:37.265Z"
      },
      {
        "duration": 6,
        "start_time": "2024-02-20T16:49:21.251Z"
      },
      {
        "duration": 903,
        "start_time": "2024-02-20T16:49:21.259Z"
      },
      {
        "duration": 110,
        "start_time": "2024-02-20T16:49:22.164Z"
      },
      {
        "duration": 6,
        "start_time": "2024-02-20T16:49:22.276Z"
      },
      {
        "duration": 421,
        "start_time": "2024-02-20T16:49:22.284Z"
      },
      {
        "duration": 25,
        "start_time": "2024-02-20T16:49:22.707Z"
      },
      {
        "duration": 115,
        "start_time": "2024-02-20T16:49:22.734Z"
      },
      {
        "duration": 62,
        "start_time": "2024-02-20T16:49:22.850Z"
      },
      {
        "duration": 184,
        "start_time": "2024-02-20T16:49:22.913Z"
      },
      {
        "duration": 380,
        "start_time": "2024-02-20T16:49:23.098Z"
      },
      {
        "duration": 1481,
        "start_time": "2024-02-20T16:49:23.482Z"
      },
      {
        "duration": 1504,
        "start_time": "2024-02-20T16:49:24.964Z"
      },
      {
        "duration": 256,
        "start_time": "2024-02-20T16:49:26.469Z"
      },
      {
        "duration": 234,
        "start_time": "2024-02-20T16:49:26.727Z"
      },
      {
        "duration": 101,
        "start_time": "2024-02-20T16:49:26.962Z"
      },
      {
        "duration": 42,
        "start_time": "2024-02-20T16:49:27.072Z"
      },
      {
        "duration": 34,
        "start_time": "2024-02-20T16:49:27.116Z"
      },
      {
        "duration": 270,
        "start_time": "2024-02-20T16:49:27.152Z"
      },
      {
        "duration": 32,
        "start_time": "2024-02-20T16:49:27.423Z"
      },
      {
        "duration": 52,
        "start_time": "2024-02-20T16:49:27.472Z"
      },
      {
        "duration": 14297,
        "start_time": "2024-02-20T16:49:27.526Z"
      },
      {
        "duration": 82,
        "start_time": "2024-02-20T16:49:41.824Z"
      },
      {
        "duration": 156,
        "start_time": "2024-02-20T16:49:41.907Z"
      },
      {
        "duration": 34,
        "start_time": "2024-02-20T16:49:42.072Z"
      },
      {
        "duration": 49,
        "start_time": "2024-02-20T16:49:42.108Z"
      },
      {
        "duration": 395,
        "start_time": "2024-02-20T16:49:42.158Z"
      },
      {
        "duration": 5,
        "start_time": "2024-02-20T16:49:42.554Z"
      },
      {
        "duration": 16,
        "start_time": "2024-02-20T16:49:42.561Z"
      },
      {
        "duration": 6,
        "start_time": "2024-02-20T16:51:33.061Z"
      },
      {
        "duration": 200561,
        "start_time": "2024-02-20T16:51:33.586Z"
      },
      {
        "duration": 5,
        "start_time": "2024-02-20T16:57:39.338Z"
      },
      {
        "duration": 198348,
        "start_time": "2024-02-20T16:57:41.553Z"
      },
      {
        "duration": 6,
        "start_time": "2024-02-20T17:09:06.163Z"
      },
      {
        "duration": 144319,
        "start_time": "2024-02-20T17:09:07.173Z"
      },
      {
        "duration": 9,
        "start_time": "2024-02-20T17:13:48.233Z"
      },
      {
        "duration": 3,
        "start_time": "2024-02-20T17:13:56.913Z"
      },
      {
        "duration": 12,
        "start_time": "2024-02-20T17:14:17.910Z"
      },
      {
        "duration": 4,
        "start_time": "2024-02-20T17:14:35.331Z"
      },
      {
        "duration": 5,
        "start_time": "2024-02-20T17:24:00.944Z"
      },
      {
        "duration": 10,
        "start_time": "2024-02-20T17:26:04.029Z"
      },
      {
        "duration": 4,
        "start_time": "2024-02-20T17:28:12.450Z"
      },
      {
        "duration": 144453,
        "start_time": "2024-02-20T17:40:24.846Z"
      },
      {
        "duration": 104,
        "start_time": "2024-02-20T17:47:32.326Z"
      },
      {
        "duration": 107,
        "start_time": "2024-02-20T17:47:42.557Z"
      },
      {
        "duration": 621,
        "start_time": "2024-02-20T17:47:46.890Z"
      },
      {
        "duration": 624,
        "start_time": "2024-02-20T17:49:28.738Z"
      },
      {
        "duration": 594,
        "start_time": "2024-02-20T17:49:50.734Z"
      },
      {
        "duration": 687,
        "start_time": "2024-02-20T17:58:42.690Z"
      },
      {
        "duration": 111,
        "start_time": "2024-02-20T17:59:05.364Z"
      },
      {
        "duration": 602,
        "start_time": "2024-02-20T17:59:22.305Z"
      },
      {
        "duration": 514,
        "start_time": "2024-02-20T17:59:45.137Z"
      },
      {
        "duration": 612,
        "start_time": "2024-02-20T18:01:36.722Z"
      },
      {
        "duration": 606,
        "start_time": "2024-02-20T18:01:57.535Z"
      },
      {
        "duration": 699,
        "start_time": "2024-02-20T18:02:04.525Z"
      },
      {
        "duration": 620,
        "start_time": "2024-02-20T18:03:53.531Z"
      },
      {
        "duration": 12,
        "start_time": "2024-02-20T18:05:23.737Z"
      },
      {
        "duration": 621,
        "start_time": "2024-02-20T18:08:46.587Z"
      },
      {
        "duration": 695,
        "start_time": "2024-02-20T18:08:53.321Z"
      },
      {
        "duration": 528,
        "start_time": "2024-02-20T18:15:20.875Z"
      },
      {
        "duration": 1682,
        "start_time": "2024-02-20T21:25:26.821Z"
      },
      {
        "duration": 968,
        "start_time": "2024-02-20T21:25:28.505Z"
      },
      {
        "duration": 141,
        "start_time": "2024-02-20T21:25:29.474Z"
      },
      {
        "duration": 7,
        "start_time": "2024-02-20T21:25:29.617Z"
      },
      {
        "duration": 523,
        "start_time": "2024-02-20T21:25:29.626Z"
      },
      {
        "duration": 38,
        "start_time": "2024-02-20T21:25:30.151Z"
      },
      {
        "duration": 118,
        "start_time": "2024-02-20T21:25:30.192Z"
      },
      {
        "duration": 56,
        "start_time": "2024-02-20T21:25:30.311Z"
      },
      {
        "duration": 203,
        "start_time": "2024-02-20T21:25:30.368Z"
      },
      {
        "duration": 387,
        "start_time": "2024-02-20T21:25:30.574Z"
      },
      {
        "duration": 1806,
        "start_time": "2024-02-20T21:25:30.963Z"
      },
      {
        "duration": 1810,
        "start_time": "2024-02-20T21:25:32.771Z"
      },
      {
        "duration": 466,
        "start_time": "2024-02-20T21:25:34.587Z"
      },
      {
        "duration": 396,
        "start_time": "2024-02-20T21:25:35.054Z"
      },
      {
        "duration": 88,
        "start_time": "2024-02-20T21:25:35.451Z"
      },
      {
        "duration": 29,
        "start_time": "2024-02-20T21:25:35.540Z"
      },
      {
        "duration": 55,
        "start_time": "2024-02-20T21:25:35.571Z"
      },
      {
        "duration": 484,
        "start_time": "2024-02-20T21:25:35.628Z"
      },
      {
        "duration": 35,
        "start_time": "2024-02-20T21:25:36.113Z"
      },
      {
        "duration": 68,
        "start_time": "2024-02-20T21:25:36.150Z"
      },
      {
        "duration": 15013,
        "start_time": "2024-02-20T21:25:36.219Z"
      },
      {
        "duration": 82,
        "start_time": "2024-02-20T21:25:51.234Z"
      },
      {
        "duration": 151,
        "start_time": "2024-02-20T21:25:51.318Z"
      },
      {
        "duration": 46,
        "start_time": "2024-02-20T21:25:51.471Z"
      },
      {
        "duration": 43,
        "start_time": "2024-02-20T21:25:51.519Z"
      },
      {
        "duration": 387,
        "start_time": "2024-02-20T21:25:51.564Z"
      },
      {
        "duration": 130,
        "start_time": "2024-02-20T21:25:51.952Z"
      },
      {
        "duration": 0,
        "start_time": "2024-02-20T21:25:52.083Z"
      },
      {
        "duration": 0,
        "start_time": "2024-02-20T21:25:52.091Z"
      },
      {
        "duration": 0,
        "start_time": "2024-02-20T21:25:52.093Z"
      },
      {
        "duration": 2,
        "start_time": "2024-02-20T21:29:15.814Z"
      },
      {
        "duration": 25,
        "start_time": "2024-02-20T21:29:15.818Z"
      },
      {
        "duration": 13,
        "start_time": "2024-02-20T21:29:15.845Z"
      },
      {
        "duration": 1371,
        "start_time": "2024-02-21T08:28:53.306Z"
      },
      {
        "duration": 968,
        "start_time": "2024-02-21T08:28:54.678Z"
      },
      {
        "duration": 139,
        "start_time": "2024-02-21T08:28:55.648Z"
      },
      {
        "duration": 9,
        "start_time": "2024-02-21T08:28:55.795Z"
      },
      {
        "duration": 498,
        "start_time": "2024-02-21T08:28:55.809Z"
      },
      {
        "duration": 28,
        "start_time": "2024-02-21T08:28:56.309Z"
      },
      {
        "duration": 110,
        "start_time": "2024-02-21T08:28:56.338Z"
      },
      {
        "duration": 75,
        "start_time": "2024-02-21T08:28:56.449Z"
      },
      {
        "duration": 202,
        "start_time": "2024-02-21T08:28:56.525Z"
      },
      {
        "duration": 358,
        "start_time": "2024-02-21T08:28:56.728Z"
      },
      {
        "duration": 1555,
        "start_time": "2024-02-21T08:28:57.087Z"
      },
      {
        "duration": 21,
        "start_time": "2024-02-21T08:28:58.644Z"
      },
      {
        "duration": 1483,
        "start_time": "2024-02-21T08:28:58.667Z"
      },
      {
        "duration": 272,
        "start_time": "2024-02-21T08:29:00.153Z"
      },
      {
        "duration": 239,
        "start_time": "2024-02-21T08:29:00.426Z"
      },
      {
        "duration": 82,
        "start_time": "2024-02-21T08:29:00.666Z"
      },
      {
        "duration": 70,
        "start_time": "2024-02-21T08:29:00.749Z"
      },
      {
        "duration": 55,
        "start_time": "2024-02-21T08:29:00.820Z"
      },
      {
        "duration": 299,
        "start_time": "2024-02-21T08:29:00.876Z"
      },
      {
        "duration": 42,
        "start_time": "2024-02-21T08:29:01.177Z"
      },
      {
        "duration": 93,
        "start_time": "2024-02-21T08:29:01.222Z"
      },
      {
        "duration": 14527,
        "start_time": "2024-02-21T08:29:01.317Z"
      },
      {
        "duration": 90,
        "start_time": "2024-02-21T08:29:15.845Z"
      },
      {
        "duration": 180,
        "start_time": "2024-02-21T08:29:15.937Z"
      },
      {
        "duration": 33,
        "start_time": "2024-02-21T08:29:16.118Z"
      },
      {
        "duration": 59,
        "start_time": "2024-02-21T08:29:16.152Z"
      },
      {
        "duration": 407,
        "start_time": "2024-02-21T08:29:16.212Z"
      },
      {
        "duration": 3,
        "start_time": "2024-02-21T08:29:16.620Z"
      },
      {
        "duration": 34,
        "start_time": "2024-02-21T08:29:16.625Z"
      },
      {
        "duration": 22,
        "start_time": "2024-02-21T08:29:16.661Z"
      },
      {
        "duration": 35,
        "start_time": "2024-02-21T08:29:16.684Z"
      },
      {
        "duration": 48,
        "start_time": "2024-02-21T08:29:16.720Z"
      },
      {
        "duration": 146146,
        "start_time": "2024-02-21T08:29:16.770Z"
      },
      {
        "duration": 499,
        "start_time": "2024-02-21T08:31:42.918Z"
      },
      {
        "duration": 21,
        "start_time": "2024-02-21T08:35:31.016Z"
      },
      {
        "duration": 397,
        "start_time": "2024-02-21T08:35:33.519Z"
      },
      {
        "duration": 3,
        "start_time": "2024-02-21T08:35:35.369Z"
      },
      {
        "duration": 2,
        "start_time": "2024-02-21T08:35:37.373Z"
      },
      {
        "duration": 4,
        "start_time": "2024-02-21T08:35:39.280Z"
      },
      {
        "duration": 5,
        "start_time": "2024-02-21T08:35:39.607Z"
      },
      {
        "duration": 7,
        "start_time": "2024-02-21T08:35:42.094Z"
      },
      {
        "duration": 132393,
        "start_time": "2024-02-21T08:35:43.779Z"
      },
      {
        "duration": 483,
        "start_time": "2024-02-21T08:37:56.174Z"
      },
      {
        "duration": 2,
        "start_time": "2024-02-21T08:41:42.948Z"
      },
      {
        "duration": 3,
        "start_time": "2024-02-21T08:41:44.541Z"
      },
      {
        "duration": 3,
        "start_time": "2024-02-21T08:42:34.345Z"
      },
      {
        "duration": 5,
        "start_time": "2024-02-21T08:42:35.719Z"
      },
      {
        "duration": 3,
        "start_time": "2024-02-21T08:42:38.504Z"
      },
      {
        "duration": 121245,
        "start_time": "2024-02-21T08:42:39.873Z"
      },
      {
        "duration": 5,
        "start_time": "2024-02-21T08:45:40.194Z"
      },
      {
        "duration": 3,
        "start_time": "2024-02-21T08:45:42.217Z"
      },
      {
        "duration": 179575,
        "start_time": "2024-02-21T08:45:45.241Z"
      },
      {
        "duration": 5,
        "start_time": "2024-02-21T08:51:15.931Z"
      },
      {
        "duration": 3,
        "start_time": "2024-02-21T08:51:18.326Z"
      },
      {
        "duration": 1308911,
        "start_time": "2024-02-21T08:51:20.588Z"
      },
      {
        "duration": 125,
        "start_time": "2024-02-21T09:13:09.501Z"
      },
      {
        "duration": 3,
        "start_time": "2024-02-21T09:31:57.208Z"
      },
      {
        "duration": 12,
        "start_time": "2024-02-21T09:34:17.349Z"
      },
      {
        "duration": 10,
        "start_time": "2024-02-21T09:35:14.454Z"
      },
      {
        "duration": 8,
        "start_time": "2024-02-21T09:35:23.755Z"
      },
      {
        "duration": 9,
        "start_time": "2024-02-21T09:35:35.404Z"
      },
      {
        "duration": 4,
        "start_time": "2024-02-21T09:35:48.158Z"
      },
      {
        "duration": 5,
        "start_time": "2024-02-21T09:36:21.705Z"
      },
      {
        "duration": 8,
        "start_time": "2024-02-21T09:36:55.714Z"
      },
      {
        "duration": 4,
        "start_time": "2024-02-21T09:37:03.124Z"
      },
      {
        "duration": 5,
        "start_time": "2024-02-21T09:38:11.061Z"
      },
      {
        "duration": 3,
        "start_time": "2024-02-21T09:38:13.067Z"
      },
      {
        "duration": 12,
        "start_time": "2024-02-21T09:39:38.983Z"
      },
      {
        "duration": 9,
        "start_time": "2024-02-21T09:40:07.631Z"
      },
      {
        "duration": 184228,
        "start_time": "2024-02-21T09:41:20.682Z"
      },
      {
        "duration": 6,
        "start_time": "2024-02-21T09:44:48.642Z"
      },
      {
        "duration": 3,
        "start_time": "2024-02-21T09:44:51.084Z"
      },
      {
        "duration": 476948,
        "start_time": "2024-02-21T09:44:52.127Z"
      },
      {
        "duration": 5,
        "start_time": "2024-02-21T09:52:50.998Z"
      },
      {
        "duration": 3,
        "start_time": "2024-02-21T09:52:52.452Z"
      },
      {
        "duration": 78818,
        "start_time": "2024-02-21T09:52:54.094Z"
      },
      {
        "duration": 6,
        "start_time": "2024-02-21T09:54:14.799Z"
      },
      {
        "duration": 3,
        "start_time": "2024-02-21T09:54:16.275Z"
      },
      {
        "duration": 49633,
        "start_time": "2024-02-21T09:54:17.817Z"
      },
      {
        "duration": 15,
        "start_time": "2024-02-21T09:55:31.475Z"
      },
      {
        "duration": 5,
        "start_time": "2024-02-21T09:55:55.047Z"
      },
      {
        "duration": 5,
        "start_time": "2024-02-21T09:55:57.465Z"
      },
      {
        "duration": 7,
        "start_time": "2024-02-21T09:55:59.578Z"
      },
      {
        "duration": 5,
        "start_time": "2024-02-21T09:56:12.232Z"
      },
      {
        "duration": 3,
        "start_time": "2024-02-21T09:56:13.833Z"
      },
      {
        "duration": 471059,
        "start_time": "2024-02-21T09:56:15.436Z"
      },
      {
        "duration": 5,
        "start_time": "2024-02-21T10:04:51.115Z"
      },
      {
        "duration": 260944,
        "start_time": "2024-02-21T10:04:54.397Z"
      },
      {
        "duration": 5,
        "start_time": "2024-02-21T10:09:17.788Z"
      },
      {
        "duration": 3,
        "start_time": "2024-02-21T10:09:20.478Z"
      },
      {
        "duration": 107080,
        "start_time": "2024-02-21T10:09:22.142Z"
      },
      {
        "duration": 5,
        "start_time": "2024-02-21T10:11:46.885Z"
      },
      {
        "duration": 2,
        "start_time": "2024-02-21T10:11:48.664Z"
      },
      {
        "duration": 90413,
        "start_time": "2024-02-21T10:11:50.399Z"
      },
      {
        "duration": 4,
        "start_time": "2024-02-21T10:13:34.080Z"
      },
      {
        "duration": 1379,
        "start_time": "2024-02-21T10:14:08.721Z"
      },
      {
        "duration": 965,
        "start_time": "2024-02-21T10:14:10.102Z"
      },
      {
        "duration": 137,
        "start_time": "2024-02-21T10:14:11.068Z"
      },
      {
        "duration": 6,
        "start_time": "2024-02-21T10:14:11.207Z"
      },
      {
        "duration": 497,
        "start_time": "2024-02-21T10:14:11.214Z"
      },
      {
        "duration": 23,
        "start_time": "2024-02-21T10:14:11.712Z"
      },
      {
        "duration": 323,
        "start_time": "2024-02-21T10:14:11.737Z"
      },
      {
        "duration": 79,
        "start_time": "2024-02-21T10:14:12.061Z"
      },
      {
        "duration": 194,
        "start_time": "2024-02-21T10:14:12.142Z"
      },
      {
        "duration": 354,
        "start_time": "2024-02-21T10:14:12.338Z"
      },
      {
        "duration": 1466,
        "start_time": "2024-02-21T10:14:12.694Z"
      },
      {
        "duration": 22,
        "start_time": "2024-02-21T10:14:14.161Z"
      },
      {
        "duration": 1366,
        "start_time": "2024-02-21T10:14:14.193Z"
      },
      {
        "duration": 282,
        "start_time": "2024-02-21T10:14:15.561Z"
      },
      {
        "duration": 235,
        "start_time": "2024-02-21T10:14:15.845Z"
      },
      {
        "duration": 77,
        "start_time": "2024-02-21T10:14:16.082Z"
      },
      {
        "duration": 37,
        "start_time": "2024-02-21T10:14:16.161Z"
      },
      {
        "duration": 34,
        "start_time": "2024-02-21T10:14:16.200Z"
      },
      {
        "duration": 277,
        "start_time": "2024-02-21T10:14:16.236Z"
      },
      {
        "duration": 29,
        "start_time": "2024-02-21T10:14:16.515Z"
      },
      {
        "duration": 62,
        "start_time": "2024-02-21T10:14:16.545Z"
      },
      {
        "duration": 13578,
        "start_time": "2024-02-21T10:14:16.609Z"
      },
      {
        "duration": 70,
        "start_time": "2024-02-21T10:14:30.189Z"
      },
      {
        "duration": 271,
        "start_time": "2024-02-21T10:14:30.261Z"
      },
      {
        "duration": 31,
        "start_time": "2024-02-21T10:14:30.534Z"
      },
      {
        "duration": 78,
        "start_time": "2024-02-21T10:14:30.566Z"
      },
      {
        "duration": 55,
        "start_time": "2024-02-21T10:14:30.645Z"
      },
      {
        "duration": 382,
        "start_time": "2024-02-21T10:14:30.703Z"
      },
      {
        "duration": 3,
        "start_time": "2024-02-21T10:14:31.086Z"
      },
      {
        "duration": 49,
        "start_time": "2024-02-21T10:14:31.090Z"
      },
      {
        "duration": 46,
        "start_time": "2024-02-21T10:14:31.141Z"
      },
      {
        "duration": 121,
        "start_time": "2024-02-21T10:14:31.188Z"
      },
      {
        "duration": 101,
        "start_time": "2024-02-21T10:14:31.310Z"
      },
      {
        "duration": 119,
        "start_time": "2024-02-21T10:14:31.413Z"
      },
      {
        "duration": 66,
        "start_time": "2024-02-21T10:14:31.534Z"
      },
      {
        "duration": 0,
        "start_time": "2024-02-21T10:14:31.601Z"
      },
      {
        "duration": 0,
        "start_time": "2024-02-21T10:14:31.603Z"
      },
      {
        "duration": 0,
        "start_time": "2024-02-21T10:14:31.604Z"
      },
      {
        "duration": 0,
        "start_time": "2024-02-21T10:14:31.605Z"
      },
      {
        "duration": 0,
        "start_time": "2024-02-21T10:14:31.606Z"
      },
      {
        "duration": 0,
        "start_time": "2024-02-21T10:14:31.607Z"
      },
      {
        "duration": 407587,
        "start_time": "2024-02-21T10:16:17.149Z"
      },
      {
        "duration": 5,
        "start_time": "2024-02-21T10:23:06.499Z"
      },
      {
        "duration": 65193,
        "start_time": "2024-02-21T10:23:08.405Z"
      },
      {
        "duration": 5,
        "start_time": "2024-02-21T10:24:15.726Z"
      },
      {
        "duration": 3,
        "start_time": "2024-02-21T10:24:17.529Z"
      },
      {
        "duration": 756764,
        "start_time": "2024-02-21T10:24:23.943Z"
      },
      {
        "duration": 5,
        "start_time": "2024-02-21T10:37:22.229Z"
      },
      {
        "duration": 3,
        "start_time": "2024-02-21T10:37:23.773Z"
      },
      {
        "duration": 83984,
        "start_time": "2024-02-21T10:37:26.233Z"
      },
      {
        "duration": 14,
        "start_time": "2024-02-21T10:38:54.570Z"
      },
      {
        "duration": 10,
        "start_time": "2024-02-21T10:38:55.029Z"
      },
      {
        "duration": 3,
        "start_time": "2024-02-21T10:39:01.262Z"
      },
      {
        "duration": 6,
        "start_time": "2024-02-21T10:39:02.793Z"
      },
      {
        "duration": 2,
        "start_time": "2024-02-21T10:39:04.597Z"
      },
      {
        "duration": 83662,
        "start_time": "2024-02-21T10:39:06.442Z"
      },
      {
        "duration": 6,
        "start_time": "2024-02-21T10:40:40.589Z"
      },
      {
        "duration": 864,
        "start_time": "2024-02-21T10:40:40.598Z"
      },
      {
        "duration": 94,
        "start_time": "2024-02-21T10:40:41.464Z"
      },
      {
        "duration": 5,
        "start_time": "2024-02-21T10:40:41.560Z"
      },
      {
        "duration": 398,
        "start_time": "2024-02-21T10:40:41.567Z"
      },
      {
        "duration": 32,
        "start_time": "2024-02-21T10:40:41.967Z"
      },
      {
        "duration": 133,
        "start_time": "2024-02-21T10:40:42.000Z"
      },
      {
        "duration": 54,
        "start_time": "2024-02-21T10:40:42.136Z"
      },
      {
        "duration": 173,
        "start_time": "2024-02-21T10:40:42.192Z"
      },
      {
        "duration": 363,
        "start_time": "2024-02-21T10:40:42.366Z"
      },
      {
        "duration": 1514,
        "start_time": "2024-02-21T10:40:42.731Z"
      },
      {
        "duration": 23,
        "start_time": "2024-02-21T10:40:44.247Z"
      },
      {
        "duration": 1435,
        "start_time": "2024-02-21T10:40:44.272Z"
      },
      {
        "duration": 262,
        "start_time": "2024-02-21T10:40:45.710Z"
      },
      {
        "duration": 244,
        "start_time": "2024-02-21T10:40:45.974Z"
      },
      {
        "duration": 79,
        "start_time": "2024-02-21T10:40:46.219Z"
      },
      {
        "duration": 43,
        "start_time": "2024-02-21T10:40:46.299Z"
      },
      {
        "duration": 53,
        "start_time": "2024-02-21T10:40:46.344Z"
      },
      {
        "duration": 267,
        "start_time": "2024-02-21T10:40:46.398Z"
      },
      {
        "duration": 30,
        "start_time": "2024-02-21T10:40:46.667Z"
      },
      {
        "duration": 58,
        "start_time": "2024-02-21T10:40:46.699Z"
      },
      {
        "duration": 13538,
        "start_time": "2024-02-21T10:40:46.759Z"
      },
      {
        "duration": 80,
        "start_time": "2024-02-21T10:41:00.299Z"
      },
      {
        "duration": 211,
        "start_time": "2024-02-21T10:41:00.380Z"
      },
      {
        "duration": 34,
        "start_time": "2024-02-21T10:41:00.593Z"
      },
      {
        "duration": 72,
        "start_time": "2024-02-21T10:41:00.628Z"
      },
      {
        "duration": 17,
        "start_time": "2024-02-21T10:41:00.702Z"
      },
      {
        "duration": 400,
        "start_time": "2024-02-21T10:41:00.721Z"
      },
      {
        "duration": 3,
        "start_time": "2024-02-21T10:41:01.122Z"
      },
      {
        "duration": 34,
        "start_time": "2024-02-21T10:41:01.127Z"
      },
      {
        "duration": 66,
        "start_time": "2024-02-21T10:41:01.163Z"
      },
      {
        "duration": 99,
        "start_time": "2024-02-21T10:41:01.231Z"
      },
      {
        "duration": 67,
        "start_time": "2024-02-21T10:41:01.332Z"
      },
      {
        "duration": 79,
        "start_time": "2024-02-21T10:41:01.400Z"
      },
      {
        "duration": 244569,
        "start_time": "2024-02-21T10:41:08.916Z"
      },
      {
        "duration": 243924,
        "start_time": "2024-02-21T10:45:55.072Z"
      },
      {
        "duration": 3,
        "start_time": "2024-02-21T10:51:26.873Z"
      },
      {
        "duration": 13852,
        "start_time": "2024-02-21T10:51:27.588Z"
      },
      {
        "duration": 1291,
        "start_time": "2024-02-21T10:52:05.912Z"
      },
      {
        "duration": 4,
        "start_time": "2024-02-21T10:52:18.282Z"
      },
      {
        "duration": 4,
        "start_time": "2024-02-21T10:52:18.483Z"
      },
      {
        "duration": 448,
        "start_time": "2024-02-21T10:52:23.024Z"
      },
      {
        "duration": 6,
        "start_time": "2024-02-21T10:55:30.022Z"
      },
      {
        "duration": 3,
        "start_time": "2024-02-21T10:55:31.546Z"
      },
      {
        "duration": 542737,
        "start_time": "2024-02-21T10:55:46.628Z"
      },
      {
        "duration": 16,
        "start_time": "2024-02-21T11:04:49.368Z"
      },
      {
        "duration": 0,
        "start_time": "2024-02-21T11:04:49.386Z"
      },
      {
        "duration": 9,
        "start_time": "2024-02-21T11:05:43.396Z"
      },
      {
        "duration": 9,
        "start_time": "2024-02-21T11:05:49.832Z"
      },
      {
        "duration": 9,
        "start_time": "2024-02-21T11:06:29.144Z"
      },
      {
        "duration": 5,
        "start_time": "2024-02-21T11:07:00.598Z"
      },
      {
        "duration": 2,
        "start_time": "2024-02-21T11:07:02.426Z"
      },
      {
        "duration": 1397,
        "start_time": "2024-02-21T11:08:43.633Z"
      },
      {
        "duration": 986,
        "start_time": "2024-02-21T11:08:45.031Z"
      },
      {
        "duration": 140,
        "start_time": "2024-02-21T11:08:46.019Z"
      },
      {
        "duration": 7,
        "start_time": "2024-02-21T11:08:46.161Z"
      },
      {
        "duration": 504,
        "start_time": "2024-02-21T11:08:46.169Z"
      },
      {
        "duration": 33,
        "start_time": "2024-02-21T11:08:46.675Z"
      },
      {
        "duration": 109,
        "start_time": "2024-02-21T11:08:46.709Z"
      },
      {
        "duration": 75,
        "start_time": "2024-02-21T11:08:46.819Z"
      },
      {
        "duration": 204,
        "start_time": "2024-02-21T11:08:46.896Z"
      },
      {
        "duration": 360,
        "start_time": "2024-02-21T11:08:47.103Z"
      },
      {
        "duration": 1482,
        "start_time": "2024-02-21T11:08:47.465Z"
      },
      {
        "duration": 24,
        "start_time": "2024-02-21T11:08:48.948Z"
      },
      {
        "duration": 1421,
        "start_time": "2024-02-21T11:08:48.974Z"
      },
      {
        "duration": 247,
        "start_time": "2024-02-21T11:08:50.397Z"
      },
      {
        "duration": 248,
        "start_time": "2024-02-21T11:08:50.646Z"
      },
      {
        "duration": 72,
        "start_time": "2024-02-21T11:08:50.895Z"
      },
      {
        "duration": 78,
        "start_time": "2024-02-21T11:08:50.968Z"
      },
      {
        "duration": 43,
        "start_time": "2024-02-21T11:08:51.047Z"
      },
      {
        "duration": 285,
        "start_time": "2024-02-21T11:08:51.092Z"
      },
      {
        "duration": 38,
        "start_time": "2024-02-21T11:08:51.379Z"
      },
      {
        "duration": 78,
        "start_time": "2024-02-21T11:08:51.419Z"
      },
      {
        "duration": 13616,
        "start_time": "2024-02-21T11:08:51.499Z"
      },
      {
        "duration": 81,
        "start_time": "2024-02-21T11:09:05.117Z"
      },
      {
        "duration": 145,
        "start_time": "2024-02-21T11:09:05.200Z"
      },
      {
        "duration": 32,
        "start_time": "2024-02-21T11:09:05.346Z"
      },
      {
        "duration": 56,
        "start_time": "2024-02-21T11:09:05.379Z"
      },
      {
        "duration": 19,
        "start_time": "2024-02-21T11:09:05.436Z"
      },
      {
        "duration": 394,
        "start_time": "2024-02-21T11:09:05.458Z"
      },
      {
        "duration": 4,
        "start_time": "2024-02-21T11:09:05.854Z"
      },
      {
        "duration": 22,
        "start_time": "2024-02-21T11:09:05.860Z"
      },
      {
        "duration": 37,
        "start_time": "2024-02-21T11:09:05.884Z"
      },
      {
        "duration": 35,
        "start_time": "2024-02-21T11:09:05.923Z"
      },
      {
        "duration": 27,
        "start_time": "2024-02-21T11:09:05.959Z"
      },
      {
        "duration": 23,
        "start_time": "2024-02-21T11:09:05.988Z"
      },
      {
        "duration": 760132,
        "start_time": "2024-02-21T11:09:06.013Z"
      },
      {
        "duration": 2,
        "start_time": "2024-02-21T11:21:46.146Z"
      },
      {
        "duration": 51,
        "start_time": "2024-02-21T11:21:46.149Z"
      },
      {
        "duration": 0,
        "start_time": "2024-02-21T11:21:46.202Z"
      },
      {
        "duration": 1,
        "start_time": "2024-02-21T11:21:46.203Z"
      },
      {
        "duration": 0,
        "start_time": "2024-02-21T11:21:46.204Z"
      },
      {
        "duration": 0,
        "start_time": "2024-02-21T11:21:46.206Z"
      },
      {
        "duration": 0,
        "start_time": "2024-02-21T11:21:46.207Z"
      },
      {
        "duration": 0,
        "start_time": "2024-02-21T11:21:46.208Z"
      },
      {
        "duration": 5,
        "start_time": "2024-02-21T11:21:47.633Z"
      },
      {
        "duration": 3,
        "start_time": "2024-02-21T11:21:49.390Z"
      },
      {
        "duration": 137770,
        "start_time": "2024-02-21T11:21:51.540Z"
      },
      {
        "duration": 5,
        "start_time": "2024-02-21T11:24:11.859Z"
      },
      {
        "duration": 3,
        "start_time": "2024-02-21T11:24:13.641Z"
      },
      {
        "duration": 1288,
        "start_time": "2024-02-21T11:26:18.905Z"
      },
      {
        "duration": 901,
        "start_time": "2024-02-21T11:26:20.195Z"
      },
      {
        "duration": 134,
        "start_time": "2024-02-21T11:26:21.098Z"
      },
      {
        "duration": 6,
        "start_time": "2024-02-21T11:26:21.234Z"
      },
      {
        "duration": 475,
        "start_time": "2024-02-21T11:26:21.241Z"
      },
      {
        "duration": 22,
        "start_time": "2024-02-21T11:26:21.718Z"
      },
      {
        "duration": 159,
        "start_time": "2024-02-21T11:26:21.742Z"
      },
      {
        "duration": 56,
        "start_time": "2024-02-21T11:26:21.903Z"
      },
      {
        "duration": 182,
        "start_time": "2024-02-21T11:26:21.960Z"
      },
      {
        "duration": 340,
        "start_time": "2024-02-21T11:26:22.145Z"
      },
      {
        "duration": 1367,
        "start_time": "2024-02-21T11:26:22.486Z"
      },
      {
        "duration": 23,
        "start_time": "2024-02-21T11:26:23.855Z"
      },
      {
        "duration": 1319,
        "start_time": "2024-02-21T11:26:23.879Z"
      },
      {
        "duration": 251,
        "start_time": "2024-02-21T11:26:25.199Z"
      },
      {
        "duration": 238,
        "start_time": "2024-02-21T11:26:25.452Z"
      },
      {
        "duration": 72,
        "start_time": "2024-02-21T11:26:25.693Z"
      },
      {
        "duration": 56,
        "start_time": "2024-02-21T11:26:25.766Z"
      },
      {
        "duration": 33,
        "start_time": "2024-02-21T11:26:25.824Z"
      },
      {
        "duration": 266,
        "start_time": "2024-02-21T11:26:25.858Z"
      },
      {
        "duration": 30,
        "start_time": "2024-02-21T11:26:26.126Z"
      },
      {
        "duration": 65,
        "start_time": "2024-02-21T11:26:26.157Z"
      },
      {
        "duration": 13101,
        "start_time": "2024-02-21T11:26:26.223Z"
      },
      {
        "duration": 72,
        "start_time": "2024-02-21T11:26:39.325Z"
      },
      {
        "duration": 143,
        "start_time": "2024-02-21T11:26:39.399Z"
      },
      {
        "duration": 30,
        "start_time": "2024-02-21T11:26:39.543Z"
      },
      {
        "duration": 57,
        "start_time": "2024-02-21T11:26:39.575Z"
      },
      {
        "duration": 20,
        "start_time": "2024-02-21T11:26:39.633Z"
      },
      {
        "duration": 381,
        "start_time": "2024-02-21T11:26:39.657Z"
      },
      {
        "duration": 3,
        "start_time": "2024-02-21T11:26:40.040Z"
      },
      {
        "duration": 22,
        "start_time": "2024-02-21T11:26:40.044Z"
      },
      {
        "duration": 8,
        "start_time": "2024-02-21T11:26:40.067Z"
      },
      {
        "duration": 18,
        "start_time": "2024-02-21T11:26:40.076Z"
      },
      {
        "duration": 17,
        "start_time": "2024-02-21T11:26:40.096Z"
      },
      {
        "duration": 27,
        "start_time": "2024-02-21T11:26:40.114Z"
      },
      {
        "duration": 294948,
        "start_time": "2024-02-21T11:26:40.143Z"
      },
      {
        "duration": 3,
        "start_time": "2024-02-21T11:31:35.092Z"
      },
      {
        "duration": 17398,
        "start_time": "2024-02-21T11:31:35.097Z"
      },
      {
        "duration": 1328,
        "start_time": "2024-02-21T11:31:52.496Z"
      },
      {
        "duration": 12,
        "start_time": "2024-02-21T11:31:53.826Z"
      },
      {
        "duration": 132,
        "start_time": "2024-02-21T11:31:53.839Z"
      },
      {
        "duration": 0,
        "start_time": "2024-02-21T11:31:53.973Z"
      },
      {
        "duration": 0,
        "start_time": "2024-02-21T11:31:53.974Z"
      },
      {
        "duration": 3,
        "start_time": "2024-02-21T11:32:18.898Z"
      },
      {
        "duration": 8,
        "start_time": "2024-02-21T11:32:34.181Z"
      },
      {
        "duration": 5,
        "start_time": "2024-02-21T11:32:38.932Z"
      },
      {
        "duration": 456,
        "start_time": "2024-02-21T11:33:00.662Z"
      },
      {
        "duration": 49,
        "start_time": "2024-02-22T06:19:33.094Z"
      },
      {
        "duration": 1755,
        "start_time": "2024-02-22T06:19:35.876Z"
      },
      {
        "duration": 2889,
        "start_time": "2024-02-22T06:19:39.724Z"
      },
      {
        "duration": 2,
        "start_time": "2024-02-22T06:21:06.220Z"
      },
      {
        "duration": 1788,
        "start_time": "2024-02-22T06:21:55.096Z"
      },
      {
        "duration": 1087,
        "start_time": "2024-02-22T06:22:45.739Z"
      },
      {
        "duration": 6795,
        "start_time": "2024-02-22T06:22:58.009Z"
      },
      {
        "duration": 97,
        "start_time": "2024-02-22T06:26:17.205Z"
      },
      {
        "duration": 2871,
        "start_time": "2024-02-22T06:26:22.554Z"
      },
      {
        "duration": 119331,
        "start_time": "2024-02-22T06:27:07.490Z"
      },
      {
        "duration": 1195,
        "start_time": "2024-02-22T06:29:08.631Z"
      },
      {
        "duration": 1110,
        "start_time": "2024-02-22T06:30:17.228Z"
      },
      {
        "duration": 2411,
        "start_time": "2024-02-22T06:30:26.423Z"
      },
      {
        "duration": 104,
        "start_time": "2024-02-22T06:30:28.836Z"
      },
      {
        "duration": 0,
        "start_time": "2024-02-22T06:30:28.946Z"
      },
      {
        "duration": 0,
        "start_time": "2024-02-22T06:30:28.947Z"
      },
      {
        "duration": 0,
        "start_time": "2024-02-22T06:30:28.948Z"
      },
      {
        "duration": 1,
        "start_time": "2024-02-22T06:30:28.949Z"
      },
      {
        "duration": 0,
        "start_time": "2024-02-22T06:30:28.951Z"
      },
      {
        "duration": 0,
        "start_time": "2024-02-22T06:30:28.952Z"
      },
      {
        "duration": 0,
        "start_time": "2024-02-22T06:30:28.954Z"
      },
      {
        "duration": 0,
        "start_time": "2024-02-22T06:30:28.955Z"
      },
      {
        "duration": 0,
        "start_time": "2024-02-22T06:30:28.956Z"
      },
      {
        "duration": 0,
        "start_time": "2024-02-22T06:30:28.958Z"
      },
      {
        "duration": 0,
        "start_time": "2024-02-22T06:30:28.959Z"
      },
      {
        "duration": 0,
        "start_time": "2024-02-22T06:30:28.960Z"
      },
      {
        "duration": 0,
        "start_time": "2024-02-22T06:30:28.962Z"
      },
      {
        "duration": 0,
        "start_time": "2024-02-22T06:30:28.963Z"
      },
      {
        "duration": 0,
        "start_time": "2024-02-22T06:30:28.964Z"
      },
      {
        "duration": 0,
        "start_time": "2024-02-22T06:30:28.965Z"
      },
      {
        "duration": 0,
        "start_time": "2024-02-22T06:30:28.966Z"
      },
      {
        "duration": 0,
        "start_time": "2024-02-22T06:30:28.967Z"
      },
      {
        "duration": 0,
        "start_time": "2024-02-22T06:30:28.968Z"
      },
      {
        "duration": 0,
        "start_time": "2024-02-22T06:30:28.969Z"
      },
      {
        "duration": 0,
        "start_time": "2024-02-22T06:30:28.970Z"
      },
      {
        "duration": 0,
        "start_time": "2024-02-22T06:30:28.971Z"
      },
      {
        "duration": 0,
        "start_time": "2024-02-22T06:30:28.972Z"
      },
      {
        "duration": 0,
        "start_time": "2024-02-22T06:30:28.972Z"
      },
      {
        "duration": 0,
        "start_time": "2024-02-22T06:30:28.973Z"
      },
      {
        "duration": 0,
        "start_time": "2024-02-22T06:30:28.974Z"
      },
      {
        "duration": 0,
        "start_time": "2024-02-22T06:30:28.976Z"
      },
      {
        "duration": 0,
        "start_time": "2024-02-22T06:30:28.977Z"
      },
      {
        "duration": 0,
        "start_time": "2024-02-22T06:30:28.978Z"
      },
      {
        "duration": 0,
        "start_time": "2024-02-22T06:30:28.979Z"
      },
      {
        "duration": 1,
        "start_time": "2024-02-22T06:30:28.979Z"
      },
      {
        "duration": 0,
        "start_time": "2024-02-22T06:30:28.980Z"
      },
      {
        "duration": 0,
        "start_time": "2024-02-22T06:30:28.981Z"
      },
      {
        "duration": 0,
        "start_time": "2024-02-22T06:30:28.994Z"
      },
      {
        "duration": 0,
        "start_time": "2024-02-22T06:30:28.994Z"
      },
      {
        "duration": 0,
        "start_time": "2024-02-22T06:30:28.995Z"
      },
      {
        "duration": 0,
        "start_time": "2024-02-22T06:30:28.996Z"
      },
      {
        "duration": 0,
        "start_time": "2024-02-22T06:30:29.001Z"
      },
      {
        "duration": 0,
        "start_time": "2024-02-22T06:30:29.002Z"
      },
      {
        "duration": 1,
        "start_time": "2024-02-22T06:30:29.002Z"
      },
      {
        "duration": 0,
        "start_time": "2024-02-22T06:30:29.003Z"
      },
      {
        "duration": 0,
        "start_time": "2024-02-22T06:30:29.004Z"
      },
      {
        "duration": 0,
        "start_time": "2024-02-22T06:30:29.005Z"
      },
      {
        "duration": 2962,
        "start_time": "2024-02-22T06:31:07.687Z"
      },
      {
        "duration": 103,
        "start_time": "2024-02-22T06:31:10.651Z"
      },
      {
        "duration": 107,
        "start_time": "2024-02-22T06:32:01.732Z"
      },
      {
        "duration": 98,
        "start_time": "2024-02-22T06:32:10.905Z"
      },
      {
        "duration": 120,
        "start_time": "2024-02-22T06:32:28.075Z"
      },
      {
        "duration": 0,
        "start_time": "2024-02-22T06:32:28.197Z"
      },
      {
        "duration": 0,
        "start_time": "2024-02-22T06:32:28.198Z"
      },
      {
        "duration": 0,
        "start_time": "2024-02-22T06:32:28.199Z"
      },
      {
        "duration": 0,
        "start_time": "2024-02-22T06:32:28.200Z"
      },
      {
        "duration": 0,
        "start_time": "2024-02-22T06:32:28.201Z"
      },
      {
        "duration": 0,
        "start_time": "2024-02-22T06:32:28.202Z"
      },
      {
        "duration": 0,
        "start_time": "2024-02-22T06:32:28.202Z"
      },
      {
        "duration": 0,
        "start_time": "2024-02-22T06:32:28.203Z"
      },
      {
        "duration": 0,
        "start_time": "2024-02-22T06:32:28.204Z"
      },
      {
        "duration": 0,
        "start_time": "2024-02-22T06:32:28.205Z"
      },
      {
        "duration": 0,
        "start_time": "2024-02-22T06:32:28.206Z"
      },
      {
        "duration": 0,
        "start_time": "2024-02-22T06:32:28.207Z"
      },
      {
        "duration": 0,
        "start_time": "2024-02-22T06:32:28.207Z"
      },
      {
        "duration": 0,
        "start_time": "2024-02-22T06:32:28.208Z"
      },
      {
        "duration": 0,
        "start_time": "2024-02-22T06:32:28.209Z"
      },
      {
        "duration": 0,
        "start_time": "2024-02-22T06:32:28.210Z"
      },
      {
        "duration": 0,
        "start_time": "2024-02-22T06:32:28.211Z"
      },
      {
        "duration": 0,
        "start_time": "2024-02-22T06:32:28.212Z"
      },
      {
        "duration": 0,
        "start_time": "2024-02-22T06:32:28.212Z"
      },
      {
        "duration": 0,
        "start_time": "2024-02-22T06:32:28.213Z"
      },
      {
        "duration": 0,
        "start_time": "2024-02-22T06:32:28.214Z"
      },
      {
        "duration": 0,
        "start_time": "2024-02-22T06:32:28.215Z"
      },
      {
        "duration": 0,
        "start_time": "2024-02-22T06:32:28.216Z"
      },
      {
        "duration": 0,
        "start_time": "2024-02-22T06:32:28.217Z"
      },
      {
        "duration": 0,
        "start_time": "2024-02-22T06:32:28.217Z"
      },
      {
        "duration": 0,
        "start_time": "2024-02-22T06:32:28.218Z"
      },
      {
        "duration": 0,
        "start_time": "2024-02-22T06:32:28.220Z"
      },
      {
        "duration": 0,
        "start_time": "2024-02-22T06:32:28.221Z"
      },
      {
        "duration": 0,
        "start_time": "2024-02-22T06:32:28.221Z"
      },
      {
        "duration": 0,
        "start_time": "2024-02-22T06:32:28.222Z"
      },
      {
        "duration": 0,
        "start_time": "2024-02-22T06:32:28.223Z"
      },
      {
        "duration": 0,
        "start_time": "2024-02-22T06:32:28.224Z"
      },
      {
        "duration": 0,
        "start_time": "2024-02-22T06:32:28.225Z"
      },
      {
        "duration": 0,
        "start_time": "2024-02-22T06:32:28.226Z"
      },
      {
        "duration": 0,
        "start_time": "2024-02-22T06:32:28.227Z"
      },
      {
        "duration": 0,
        "start_time": "2024-02-22T06:32:28.228Z"
      },
      {
        "duration": 0,
        "start_time": "2024-02-22T06:32:28.229Z"
      },
      {
        "duration": 0,
        "start_time": "2024-02-22T06:32:28.230Z"
      },
      {
        "duration": 0,
        "start_time": "2024-02-22T06:32:28.230Z"
      },
      {
        "duration": 0,
        "start_time": "2024-02-22T06:32:28.231Z"
      },
      {
        "duration": 0,
        "start_time": "2024-02-22T06:32:28.232Z"
      },
      {
        "duration": 837,
        "start_time": "2024-02-22T06:32:42.984Z"
      },
      {
        "duration": 863,
        "start_time": "2024-02-22T06:32:51.718Z"
      },
      {
        "duration": 131,
        "start_time": "2024-02-22T06:32:52.583Z"
      },
      {
        "duration": 6,
        "start_time": "2024-02-22T06:32:52.716Z"
      },
      {
        "duration": 476,
        "start_time": "2024-02-22T06:32:52.724Z"
      },
      {
        "duration": 24,
        "start_time": "2024-02-22T06:32:53.202Z"
      },
      {
        "duration": 104,
        "start_time": "2024-02-22T06:32:53.227Z"
      },
      {
        "duration": 69,
        "start_time": "2024-02-22T06:32:53.333Z"
      },
      {
        "duration": 195,
        "start_time": "2024-02-22T06:32:53.403Z"
      },
      {
        "duration": 390,
        "start_time": "2024-02-22T06:32:53.599Z"
      },
      {
        "duration": 1400,
        "start_time": "2024-02-22T06:32:53.993Z"
      },
      {
        "duration": 2,
        "start_time": "2024-02-22T06:32:55.394Z"
      },
      {
        "duration": 1874,
        "start_time": "2024-02-22T06:32:55.398Z"
      },
      {
        "duration": 0,
        "start_time": "2024-02-22T06:32:57.274Z"
      },
      {
        "duration": 0,
        "start_time": "2024-02-22T06:32:57.275Z"
      },
      {
        "duration": 0,
        "start_time": "2024-02-22T06:32:57.276Z"
      },
      {
        "duration": 0,
        "start_time": "2024-02-22T06:32:57.277Z"
      },
      {
        "duration": 0,
        "start_time": "2024-02-22T06:32:57.278Z"
      },
      {
        "duration": 0,
        "start_time": "2024-02-22T06:32:57.279Z"
      },
      {
        "duration": 0,
        "start_time": "2024-02-22T06:32:57.280Z"
      },
      {
        "duration": 0,
        "start_time": "2024-02-22T06:32:57.281Z"
      },
      {
        "duration": 0,
        "start_time": "2024-02-22T06:32:57.282Z"
      },
      {
        "duration": 0,
        "start_time": "2024-02-22T06:32:57.283Z"
      },
      {
        "duration": 0,
        "start_time": "2024-02-22T06:32:57.283Z"
      },
      {
        "duration": 0,
        "start_time": "2024-02-22T06:32:57.284Z"
      },
      {
        "duration": 0,
        "start_time": "2024-02-22T06:32:57.285Z"
      },
      {
        "duration": 0,
        "start_time": "2024-02-22T06:32:57.366Z"
      },
      {
        "duration": 0,
        "start_time": "2024-02-22T06:32:57.367Z"
      },
      {
        "duration": 0,
        "start_time": "2024-02-22T06:32:57.368Z"
      },
      {
        "duration": 0,
        "start_time": "2024-02-22T06:32:57.369Z"
      },
      {
        "duration": 0,
        "start_time": "2024-02-22T06:32:57.370Z"
      },
      {
        "duration": 0,
        "start_time": "2024-02-22T06:32:57.371Z"
      },
      {
        "duration": 0,
        "start_time": "2024-02-22T06:32:57.372Z"
      },
      {
        "duration": 0,
        "start_time": "2024-02-22T06:32:57.373Z"
      },
      {
        "duration": 0,
        "start_time": "2024-02-22T06:32:57.374Z"
      },
      {
        "duration": 0,
        "start_time": "2024-02-22T06:32:57.375Z"
      },
      {
        "duration": 0,
        "start_time": "2024-02-22T06:32:57.376Z"
      },
      {
        "duration": 0,
        "start_time": "2024-02-22T06:32:57.376Z"
      },
      {
        "duration": 0,
        "start_time": "2024-02-22T06:32:57.394Z"
      },
      {
        "duration": 0,
        "start_time": "2024-02-22T06:32:57.395Z"
      },
      {
        "duration": 0,
        "start_time": "2024-02-22T06:32:57.396Z"
      },
      {
        "duration": 0,
        "start_time": "2024-02-22T06:32:57.397Z"
      },
      {
        "duration": 0,
        "start_time": "2024-02-22T06:32:57.398Z"
      },
      {
        "duration": 0,
        "start_time": "2024-02-22T06:32:57.399Z"
      },
      {
        "duration": 1589,
        "start_time": "2024-02-22T06:33:50.687Z"
      },
      {
        "duration": 814,
        "start_time": "2024-02-22T06:34:05.748Z"
      },
      {
        "duration": 99,
        "start_time": "2024-02-22T06:34:09.467Z"
      },
      {
        "duration": 28,
        "start_time": "2024-02-22T06:34:12.994Z"
      },
      {
        "duration": 7,
        "start_time": "2024-02-22T06:34:26.211Z"
      },
      {
        "duration": 22,
        "start_time": "2024-02-22T06:34:29.586Z"
      },
      {
        "duration": 169,
        "start_time": "2024-02-22T06:34:37.047Z"
      },
      {
        "duration": 358,
        "start_time": "2024-02-22T06:34:37.981Z"
      },
      {
        "duration": 1328,
        "start_time": "2024-02-22T06:35:25.122Z"
      },
      {
        "duration": 21,
        "start_time": "2024-02-22T06:35:29.021Z"
      },
      {
        "duration": 1192,
        "start_time": "2024-02-22T06:35:29.737Z"
      },
      {
        "duration": 237,
        "start_time": "2024-02-22T06:35:31.783Z"
      },
      {
        "duration": 67,
        "start_time": "2024-02-22T06:35:35.697Z"
      },
      {
        "duration": 33,
        "start_time": "2024-02-22T06:35:35.766Z"
      },
      {
        "duration": 27,
        "start_time": "2024-02-22T06:35:35.921Z"
      },
      {
        "duration": 245,
        "start_time": "2024-02-22T06:35:36.599Z"
      },
      {
        "duration": 27,
        "start_time": "2024-02-22T06:35:36.870Z"
      },
      {
        "duration": 48,
        "start_time": "2024-02-22T06:35:41.554Z"
      },
      {
        "duration": 12396,
        "start_time": "2024-02-22T06:35:42.526Z"
      },
      {
        "duration": 68,
        "start_time": "2024-02-22T06:35:57.753Z"
      },
      {
        "duration": 122,
        "start_time": "2024-02-22T06:35:58.513Z"
      },
      {
        "duration": 292,
        "start_time": "2024-02-22T06:36:46.714Z"
      },
      {
        "duration": 1386,
        "start_time": "2024-02-22T06:36:52.983Z"
      },
      {
        "duration": 1457,
        "start_time": "2024-02-22T06:37:15.167Z"
      },
      {
        "duration": 602,
        "start_time": "2024-02-22T06:41:16.867Z"
      },
      {
        "duration": 98,
        "start_time": "2024-02-22T06:41:42.114Z"
      },
      {
        "duration": 1551,
        "start_time": "2024-02-22T06:42:23.577Z"
      },
      {
        "duration": 1546,
        "start_time": "2024-02-22T06:42:33.701Z"
      },
      {
        "duration": 1574,
        "start_time": "2024-02-22T06:42:42.577Z"
      },
      {
        "duration": 1676,
        "start_time": "2024-02-22T06:42:56.192Z"
      },
      {
        "duration": 659,
        "start_time": "2024-02-22T06:43:26.321Z"
      },
      {
        "duration": 1580,
        "start_time": "2024-02-22T06:43:38.731Z"
      },
      {
        "duration": 101,
        "start_time": "2024-02-22T06:45:59.306Z"
      },
      {
        "duration": 107,
        "start_time": "2024-02-22T06:46:13.501Z"
      },
      {
        "duration": 106,
        "start_time": "2024-02-22T06:46:39.357Z"
      },
      {
        "duration": 114,
        "start_time": "2024-02-22T06:47:18.002Z"
      },
      {
        "duration": 1567,
        "start_time": "2024-02-22T06:48:08.396Z"
      },
      {
        "duration": 685,
        "start_time": "2024-02-22T06:49:31.834Z"
      },
      {
        "duration": 711,
        "start_time": "2024-02-22T06:49:41.725Z"
      },
      {
        "duration": 804,
        "start_time": "2024-02-22T06:51:16.874Z"
      },
      {
        "duration": 1510,
        "start_time": "2024-02-22T06:51:48.520Z"
      },
      {
        "duration": 1715,
        "start_time": "2024-02-22T06:52:29.989Z"
      },
      {
        "duration": 1676,
        "start_time": "2024-02-22T06:52:43.667Z"
      },
      {
        "duration": 1681,
        "start_time": "2024-02-22T06:52:56.038Z"
      },
      {
        "duration": 1889,
        "start_time": "2024-02-22T06:53:38.444Z"
      },
      {
        "duration": 731,
        "start_time": "2024-02-22T06:54:05.606Z"
      },
      {
        "duration": 732,
        "start_time": "2024-02-22T06:54:10.396Z"
      },
      {
        "duration": 800,
        "start_time": "2024-02-22T06:54:19.032Z"
      },
      {
        "duration": 773,
        "start_time": "2024-02-22T06:54:24.772Z"
      },
      {
        "duration": 737,
        "start_time": "2024-02-22T06:54:29.315Z"
      },
      {
        "duration": 912,
        "start_time": "2024-02-22T06:54:34.957Z"
      },
      {
        "duration": 1675,
        "start_time": "2024-02-22T06:54:40.836Z"
      },
      {
        "duration": 35,
        "start_time": "2024-02-22T06:55:50.555Z"
      },
      {
        "duration": 47,
        "start_time": "2024-02-22T06:55:50.997Z"
      },
      {
        "duration": 20,
        "start_time": "2024-02-22T06:55:54.036Z"
      },
      {
        "duration": 332,
        "start_time": "2024-02-22T06:55:55.947Z"
      },
      {
        "duration": 3,
        "start_time": "2024-02-22T06:59:08.134Z"
      },
      {
        "duration": 3,
        "start_time": "2024-02-22T07:00:25.145Z"
      },
      {
        "duration": 4,
        "start_time": "2024-02-22T07:00:44.241Z"
      },
      {
        "duration": 5,
        "start_time": "2024-02-22T07:00:45.626Z"
      },
      {
        "duration": 3,
        "start_time": "2024-02-22T07:00:48.471Z"
      },
      {
        "duration": 285753,
        "start_time": "2024-02-22T07:00:50.857Z"
      },
      {
        "duration": 11,
        "start_time": "2024-02-22T07:17:05.514Z"
      },
      {
        "duration": 123,
        "start_time": "2024-02-22T07:17:24.098Z"
      },
      {
        "duration": 17128,
        "start_time": "2024-02-22T07:17:34.844Z"
      },
      {
        "duration": 3062,
        "start_time": "2024-02-22T07:19:51.352Z"
      },
      {
        "duration": 432286,
        "start_time": "2024-02-22T07:20:04.245Z"
      },
      {
        "duration": 3,
        "start_time": "2024-02-22T07:27:20.555Z"
      },
      {
        "duration": 3,
        "start_time": "2024-02-22T07:27:26.687Z"
      },
      {
        "duration": 8,
        "start_time": "2024-02-22T07:27:54.588Z"
      },
      {
        "duration": 14,
        "start_time": "2024-02-22T07:28:02.983Z"
      },
      {
        "duration": 8,
        "start_time": "2024-02-22T07:28:10.855Z"
      },
      {
        "duration": 8,
        "start_time": "2024-02-22T07:29:32.505Z"
      },
      {
        "duration": 8,
        "start_time": "2024-02-22T07:29:36.842Z"
      },
      {
        "duration": 102,
        "start_time": "2024-02-22T07:29:40.391Z"
      },
      {
        "duration": 9,
        "start_time": "2024-02-22T07:29:49.197Z"
      },
      {
        "duration": 91,
        "start_time": "2024-02-22T07:29:52.311Z"
      },
      {
        "duration": 5,
        "start_time": "2024-02-22T07:29:57.881Z"
      },
      {
        "duration": 11,
        "start_time": "2024-02-22T07:31:34.095Z"
      },
      {
        "duration": 6,
        "start_time": "2024-02-22T07:31:39.150Z"
      },
      {
        "duration": 5,
        "start_time": "2024-02-22T07:33:33.422Z"
      },
      {
        "duration": 5,
        "start_time": "2024-02-22T07:33:46.948Z"
      },
      {
        "duration": 5,
        "start_time": "2024-02-22T07:33:50.733Z"
      },
      {
        "duration": 5,
        "start_time": "2024-02-22T07:33:53.492Z"
      },
      {
        "duration": 5,
        "start_time": "2024-02-22T07:33:58.549Z"
      },
      {
        "duration": 3,
        "start_time": "2024-02-22T07:34:18.574Z"
      },
      {
        "duration": 5,
        "start_time": "2024-02-22T07:34:23.337Z"
      },
      {
        "duration": 4,
        "start_time": "2024-02-22T07:34:37.292Z"
      },
      {
        "duration": 6,
        "start_time": "2024-02-22T07:34:48.870Z"
      },
      {
        "duration": 65,
        "start_time": "2024-02-22T07:35:19.406Z"
      },
      {
        "duration": 8,
        "start_time": "2024-02-22T07:35:42.413Z"
      },
      {
        "duration": 22,
        "start_time": "2024-02-22T07:35:44.301Z"
      },
      {
        "duration": 64,
        "start_time": "2024-02-22T07:36:12.804Z"
      },
      {
        "duration": 62,
        "start_time": "2024-02-22T07:44:02.827Z"
      },
      {
        "duration": 5,
        "start_time": "2024-02-22T07:44:47.296Z"
      },
      {
        "duration": 5,
        "start_time": "2024-02-22T07:44:54.924Z"
      },
      {
        "duration": 14742,
        "start_time": "2024-02-22T07:44:55.314Z"
      },
      {
        "duration": 24,
        "start_time": "2024-02-22T07:45:10.058Z"
      },
      {
        "duration": 108,
        "start_time": "2024-02-22T07:46:56.398Z"
      },
      {
        "duration": 5,
        "start_time": "2024-02-22T07:47:03.076Z"
      },
      {
        "duration": 12,
        "start_time": "2024-02-22T07:47:10.003Z"
      },
      {
        "duration": 6,
        "start_time": "2024-02-22T07:47:20.184Z"
      },
      {
        "duration": 6,
        "start_time": "2024-02-22T07:47:53.595Z"
      },
      {
        "duration": 5,
        "start_time": "2024-02-22T07:48:11.647Z"
      },
      {
        "duration": 6,
        "start_time": "2024-02-22T07:48:19.871Z"
      },
      {
        "duration": 5,
        "start_time": "2024-02-22T07:48:38.749Z"
      },
      {
        "duration": 4,
        "start_time": "2024-02-22T07:48:43.015Z"
      },
      {
        "duration": 5,
        "start_time": "2024-02-22T07:49:56.988Z"
      },
      {
        "duration": 5,
        "start_time": "2024-02-22T07:50:05.965Z"
      },
      {
        "duration": 3,
        "start_time": "2024-02-22T07:51:06.264Z"
      },
      {
        "duration": 6,
        "start_time": "2024-02-22T07:51:15.422Z"
      },
      {
        "duration": 7,
        "start_time": "2024-02-22T07:52:49.881Z"
      },
      {
        "duration": 9,
        "start_time": "2024-02-22T07:53:01.130Z"
      },
      {
        "duration": 11,
        "start_time": "2024-02-22T07:53:54.777Z"
      },
      {
        "duration": 8,
        "start_time": "2024-02-22T07:54:00.853Z"
      },
      {
        "duration": 4,
        "start_time": "2024-02-22T07:55:12.304Z"
      },
      {
        "duration": 4,
        "start_time": "2024-02-22T07:55:29.043Z"
      },
      {
        "duration": 7,
        "start_time": "2024-02-22T07:58:32.469Z"
      },
      {
        "duration": 14,
        "start_time": "2024-02-22T08:01:15.123Z"
      },
      {
        "duration": 9,
        "start_time": "2024-02-22T08:02:46.173Z"
      },
      {
        "duration": 9,
        "start_time": "2024-02-22T08:03:02.916Z"
      },
      {
        "duration": 9,
        "start_time": "2024-02-22T08:04:06.929Z"
      },
      {
        "duration": 16,
        "start_time": "2024-02-22T08:04:16.231Z"
      },
      {
        "duration": 16,
        "start_time": "2024-02-22T08:04:24.719Z"
      },
      {
        "duration": 17,
        "start_time": "2024-02-22T08:04:29.438Z"
      },
      {
        "duration": 4,
        "start_time": "2024-02-22T08:04:34.545Z"
      },
      {
        "duration": 160,
        "start_time": "2024-02-22T08:07:05.478Z"
      },
      {
        "duration": 17009,
        "start_time": "2024-02-22T08:07:42.556Z"
      },
      {
        "duration": 1342,
        "start_time": "2024-02-22T08:08:11.679Z"
      },
      {
        "duration": 458,
        "start_time": "2024-02-22T08:08:13.910Z"
      },
      {
        "duration": 4257,
        "start_time": "2024-02-22T08:10:05.689Z"
      },
      {
        "duration": 866,
        "start_time": "2024-02-22T08:10:09.948Z"
      },
      {
        "duration": 129,
        "start_time": "2024-02-22T08:10:10.816Z"
      },
      {
        "duration": 29,
        "start_time": "2024-02-22T08:10:10.946Z"
      },
      {
        "duration": 26,
        "start_time": "2024-02-22T08:10:10.977Z"
      },
      {
        "duration": 453,
        "start_time": "2024-02-22T08:10:11.005Z"
      },
      {
        "duration": 22,
        "start_time": "2024-02-22T08:10:11.459Z"
      },
      {
        "duration": 100,
        "start_time": "2024-02-22T08:10:11.483Z"
      },
      {
        "duration": 58,
        "start_time": "2024-02-22T08:10:11.593Z"
      },
      {
        "duration": 202,
        "start_time": "2024-02-22T08:10:11.653Z"
      },
      {
        "duration": 374,
        "start_time": "2024-02-22T08:10:11.857Z"
      },
      {
        "duration": 1400,
        "start_time": "2024-02-22T08:10:12.232Z"
      },
      {
        "duration": 2,
        "start_time": "2024-02-22T08:10:13.633Z"
      },
      {
        "duration": 25,
        "start_time": "2024-02-22T08:10:13.637Z"
      },
      {
        "duration": 1360,
        "start_time": "2024-02-22T08:10:13.663Z"
      },
      {
        "duration": 255,
        "start_time": "2024-02-22T08:10:15.025Z"
      },
      {
        "duration": 250,
        "start_time": "2024-02-22T08:10:15.282Z"
      },
      {
        "duration": 77,
        "start_time": "2024-02-22T08:10:15.534Z"
      },
      {
        "duration": 36,
        "start_time": "2024-02-22T08:10:15.613Z"
      },
      {
        "duration": 28,
        "start_time": "2024-02-22T08:10:15.651Z"
      },
      {
        "duration": 262,
        "start_time": "2024-02-22T08:10:15.694Z"
      },
      {
        "duration": 38,
        "start_time": "2024-02-22T08:10:15.959Z"
      },
      {
        "duration": 95,
        "start_time": "2024-02-22T08:10:15.999Z"
      },
      {
        "duration": 13286,
        "start_time": "2024-02-22T08:10:16.095Z"
      },
      {
        "duration": 75,
        "start_time": "2024-02-22T08:10:29.383Z"
      },
      {
        "duration": 162,
        "start_time": "2024-02-22T08:10:29.459Z"
      },
      {
        "duration": 32,
        "start_time": "2024-02-22T08:10:29.623Z"
      },
      {
        "duration": 54,
        "start_time": "2024-02-22T08:10:29.659Z"
      },
      {
        "duration": 17,
        "start_time": "2024-02-22T08:10:29.714Z"
      },
      {
        "duration": 350,
        "start_time": "2024-02-22T08:10:29.732Z"
      },
      {
        "duration": 4,
        "start_time": "2024-02-22T08:10:30.083Z"
      },
      {
        "duration": 47,
        "start_time": "2024-02-22T08:10:30.088Z"
      },
      {
        "duration": 51,
        "start_time": "2024-02-22T08:10:30.137Z"
      },
      {
        "duration": 56,
        "start_time": "2024-02-22T08:10:30.190Z"
      },
      {
        "duration": 158,
        "start_time": "2024-02-22T08:10:30.248Z"
      },
      {
        "duration": 91,
        "start_time": "2024-02-22T08:10:30.407Z"
      },
      {
        "duration": 88,
        "start_time": "2024-02-22T08:10:30.500Z"
      },
      {
        "duration": 279391,
        "start_time": "2024-02-22T08:10:30.589Z"
      },
      {
        "duration": 2,
        "start_time": "2024-02-22T08:15:09.982Z"
      },
      {
        "duration": 72,
        "start_time": "2024-02-22T08:15:09.985Z"
      },
      {
        "duration": 62,
        "start_time": "2024-02-22T08:15:10.058Z"
      },
      {
        "duration": 134,
        "start_time": "2024-02-22T08:15:10.121Z"
      },
      {
        "duration": 29,
        "start_time": "2024-02-22T08:15:10.257Z"
      },
      {
        "duration": 23,
        "start_time": "2024-02-22T08:15:10.288Z"
      },
      {
        "duration": 40,
        "start_time": "2024-02-22T08:15:10.313Z"
      },
      {
        "duration": 17437,
        "start_time": "2024-02-22T08:15:10.354Z"
      },
      {
        "duration": 1400,
        "start_time": "2024-02-22T08:15:27.792Z"
      },
      {
        "duration": 459,
        "start_time": "2024-02-22T08:15:29.194Z"
      },
      {
        "duration": 726,
        "start_time": "2024-02-22T08:31:17.074Z"
      },
      {
        "duration": 1429,
        "start_time": "2024-02-22T08:32:25.222Z"
      },
      {
        "duration": 11,
        "start_time": "2024-02-22T08:32:32.885Z"
      },
      {
        "duration": 1581,
        "start_time": "2024-02-22T08:32:38.092Z"
      },
      {
        "duration": 1532,
        "start_time": "2024-02-22T08:36:44.874Z"
      },
      {
        "duration": 1541,
        "start_time": "2024-02-22T08:37:08.560Z"
      },
      {
        "duration": 1627,
        "start_time": "2024-02-22T08:37:27.531Z"
      },
      {
        "duration": 1362,
        "start_time": "2024-02-22T08:37:50.196Z"
      },
      {
        "duration": 4439,
        "start_time": "2024-02-22T08:37:59.657Z"
      },
      {
        "duration": 921,
        "start_time": "2024-02-22T08:38:04.098Z"
      },
      {
        "duration": 138,
        "start_time": "2024-02-22T08:38:05.021Z"
      },
      {
        "duration": 42,
        "start_time": "2024-02-22T08:38:05.161Z"
      },
      {
        "duration": 5,
        "start_time": "2024-02-22T08:38:05.205Z"
      },
      {
        "duration": 496,
        "start_time": "2024-02-22T08:38:05.212Z"
      },
      {
        "duration": 25,
        "start_time": "2024-02-22T08:38:05.709Z"
      },
      {
        "duration": 128,
        "start_time": "2024-02-22T08:38:05.736Z"
      },
      {
        "duration": 66,
        "start_time": "2024-02-22T08:38:05.865Z"
      },
      {
        "duration": 194,
        "start_time": "2024-02-22T08:38:05.934Z"
      },
      {
        "duration": 361,
        "start_time": "2024-02-22T08:38:06.130Z"
      },
      {
        "duration": 1495,
        "start_time": "2024-02-22T08:38:06.492Z"
      },
      {
        "duration": 6,
        "start_time": "2024-02-22T08:38:07.988Z"
      },
      {
        "duration": 191,
        "start_time": "2024-02-22T08:38:07.995Z"
      },
      {
        "duration": 1393,
        "start_time": "2024-02-22T08:38:08.187Z"
      },
      {
        "duration": 261,
        "start_time": "2024-02-22T08:38:09.581Z"
      },
      {
        "duration": 255,
        "start_time": "2024-02-22T08:38:09.844Z"
      },
      {
        "duration": 73,
        "start_time": "2024-02-22T08:38:10.100Z"
      },
      {
        "duration": 42,
        "start_time": "2024-02-22T08:38:10.175Z"
      },
      {
        "duration": 32,
        "start_time": "2024-02-22T08:38:10.218Z"
      },
      {
        "duration": 286,
        "start_time": "2024-02-22T08:38:10.252Z"
      },
      {
        "duration": 31,
        "start_time": "2024-02-22T08:38:10.539Z"
      },
      {
        "duration": 72,
        "start_time": "2024-02-22T08:38:10.572Z"
      },
      {
        "duration": 13329,
        "start_time": "2024-02-22T08:38:10.646Z"
      },
      {
        "duration": 70,
        "start_time": "2024-02-22T08:38:23.976Z"
      },
      {
        "duration": 156,
        "start_time": "2024-02-22T08:38:24.048Z"
      },
      {
        "duration": 32,
        "start_time": "2024-02-22T08:38:24.205Z"
      },
      {
        "duration": 59,
        "start_time": "2024-02-22T08:38:24.240Z"
      },
      {
        "duration": 17,
        "start_time": "2024-02-22T08:38:24.301Z"
      },
      {
        "duration": 400,
        "start_time": "2024-02-22T08:38:24.320Z"
      },
      {
        "duration": 3,
        "start_time": "2024-02-22T08:38:24.722Z"
      },
      {
        "duration": 17,
        "start_time": "2024-02-22T08:38:24.726Z"
      },
      {
        "duration": 36,
        "start_time": "2024-02-22T08:38:24.744Z"
      },
      {
        "duration": 31,
        "start_time": "2024-02-22T08:38:24.782Z"
      },
      {
        "duration": 38,
        "start_time": "2024-02-22T08:38:24.814Z"
      },
      {
        "duration": 25,
        "start_time": "2024-02-22T08:38:24.854Z"
      },
      {
        "duration": 39,
        "start_time": "2024-02-22T08:38:24.881Z"
      },
      {
        "duration": 286701,
        "start_time": "2024-02-22T08:38:24.922Z"
      },
      {
        "duration": 12,
        "start_time": "2024-02-22T08:43:11.626Z"
      },
      {
        "duration": 13,
        "start_time": "2024-02-22T08:43:11.640Z"
      },
      {
        "duration": 32,
        "start_time": "2024-02-22T08:43:11.654Z"
      },
      {
        "duration": 16,
        "start_time": "2024-02-22T08:43:11.687Z"
      },
      {
        "duration": 19,
        "start_time": "2024-02-22T08:43:11.705Z"
      },
      {
        "duration": 17326,
        "start_time": "2024-02-22T08:43:11.726Z"
      },
      {
        "duration": 1383,
        "start_time": "2024-02-22T08:43:29.054Z"
      },
      {
        "duration": 484,
        "start_time": "2024-02-22T08:43:30.439Z"
      },
      {
        "duration": 1620,
        "start_time": "2024-02-22T08:43:30.926Z"
      },
      {
        "duration": 1516,
        "start_time": "2024-02-22T08:48:38.197Z"
      },
      {
        "duration": 1604,
        "start_time": "2024-02-22T08:48:47.404Z"
      },
      {
        "duration": 1611,
        "start_time": "2024-02-22T08:49:01.249Z"
      },
      {
        "duration": 1611,
        "start_time": "2024-02-22T08:49:12.743Z"
      },
      {
        "duration": 1592,
        "start_time": "2024-02-22T08:49:38.977Z"
      },
      {
        "duration": 1356,
        "start_time": "2024-02-22T08:49:49.840Z"
      },
      {
        "duration": 3,
        "start_time": "2024-02-22T08:54:52.027Z"
      },
      {
        "duration": 3,
        "start_time": "2024-02-22T08:54:54.500Z"
      },
      {
        "duration": 5,
        "start_time": "2024-02-22T08:54:56.025Z"
      },
      {
        "duration": 3,
        "start_time": "2024-02-22T08:54:57.859Z"
      },
      {
        "duration": 285865,
        "start_time": "2024-02-22T08:54:59.708Z"
      },
      {
        "duration": 6,
        "start_time": "2024-02-22T09:44:17.275Z"
      },
      {
        "duration": 21,
        "start_time": "2024-02-22T09:45:00.612Z"
      },
      {
        "duration": 13,
        "start_time": "2024-02-22T09:47:15.330Z"
      },
      {
        "duration": 30,
        "start_time": "2024-02-22T09:48:06.297Z"
      },
      {
        "duration": 4658,
        "start_time": "2024-02-22T09:48:24.678Z"
      },
      {
        "duration": 1003,
        "start_time": "2024-02-22T09:48:29.338Z"
      },
      {
        "duration": 141,
        "start_time": "2024-02-22T09:48:30.342Z"
      },
      {
        "duration": 55,
        "start_time": "2024-02-22T09:48:30.485Z"
      },
      {
        "duration": 14,
        "start_time": "2024-02-22T09:48:30.542Z"
      },
      {
        "duration": 566,
        "start_time": "2024-02-22T09:48:30.558Z"
      },
      {
        "duration": 24,
        "start_time": "2024-02-22T09:48:31.126Z"
      },
      {
        "duration": 140,
        "start_time": "2024-02-22T09:48:31.151Z"
      },
      {
        "duration": 88,
        "start_time": "2024-02-22T09:48:31.293Z"
      },
      {
        "duration": 227,
        "start_time": "2024-02-22T09:48:31.385Z"
      },
      {
        "duration": 396,
        "start_time": "2024-02-22T09:48:31.614Z"
      },
      {
        "duration": 1624,
        "start_time": "2024-02-22T09:48:32.012Z"
      },
      {
        "duration": 2,
        "start_time": "2024-02-22T09:48:33.638Z"
      },
      {
        "duration": 49,
        "start_time": "2024-02-22T09:48:33.642Z"
      },
      {
        "duration": 1600,
        "start_time": "2024-02-22T09:48:33.693Z"
      },
      {
        "duration": 287,
        "start_time": "2024-02-22T09:48:35.295Z"
      },
      {
        "duration": 261,
        "start_time": "2024-02-22T09:48:35.584Z"
      },
      {
        "duration": 95,
        "start_time": "2024-02-22T09:48:35.847Z"
      },
      {
        "duration": 31,
        "start_time": "2024-02-22T09:48:35.944Z"
      },
      {
        "duration": 57,
        "start_time": "2024-02-22T09:48:35.977Z"
      },
      {
        "duration": 299,
        "start_time": "2024-02-22T09:48:36.035Z"
      },
      {
        "duration": 31,
        "start_time": "2024-02-22T09:48:36.336Z"
      },
      {
        "duration": 102,
        "start_time": "2024-02-22T09:48:36.369Z"
      },
      {
        "duration": 15443,
        "start_time": "2024-02-22T09:48:36.473Z"
      },
      {
        "duration": 80,
        "start_time": "2024-02-22T09:48:51.917Z"
      },
      {
        "duration": 173,
        "start_time": "2024-02-22T09:48:52.006Z"
      },
      {
        "duration": 41,
        "start_time": "2024-02-22T09:48:52.181Z"
      },
      {
        "duration": 50,
        "start_time": "2024-02-22T09:48:52.226Z"
      },
      {
        "duration": 36,
        "start_time": "2024-02-22T09:48:52.277Z"
      },
      {
        "duration": 372,
        "start_time": "2024-02-22T09:48:52.315Z"
      },
      {
        "duration": 15,
        "start_time": "2024-02-22T09:48:52.689Z"
      },
      {
        "duration": 12,
        "start_time": "2024-02-22T09:48:52.706Z"
      },
      {
        "duration": 44,
        "start_time": "2024-02-22T09:48:52.719Z"
      },
      {
        "duration": 27,
        "start_time": "2024-02-22T09:48:52.765Z"
      },
      {
        "duration": 21,
        "start_time": "2024-02-22T09:48:52.796Z"
      },
      {
        "duration": 28,
        "start_time": "2024-02-22T09:48:52.818Z"
      },
      {
        "duration": 11,
        "start_time": "2024-02-22T09:48:52.847Z"
      },
      {
        "duration": 1162660,
        "start_time": "2024-02-22T09:48:52.860Z"
      },
      {
        "duration": 9,
        "start_time": "2024-02-22T10:08:15.521Z"
      },
      {
        "duration": 57,
        "start_time": "2024-02-22T10:08:15.531Z"
      },
      {
        "duration": 72,
        "start_time": "2024-02-22T10:08:15.590Z"
      },
      {
        "duration": 18345,
        "start_time": "2024-02-22T10:08:15.664Z"
      },
      {
        "duration": 1434,
        "start_time": "2024-02-22T10:08:34.010Z"
      },
      {
        "duration": 493,
        "start_time": "2024-02-22T10:08:35.446Z"
      }
    ],
    "toc": {
      "base_numbering": 1,
      "nav_menu": {},
      "number_sections": true,
      "sideBar": true,
      "skip_h1_title": true,
      "title_cell": "Table of Contents",
      "title_sidebar": "Contents",
      "toc_cell": false,
      "toc_position": {},
      "toc_section_display": true,
      "toc_window_display": false
    }
  },
  "nbformat_minor": 4,
  "nbformat": 4,
  "cells": [
    {
      "cell_type": "markdown",
      "source": "# Определение стоимости автомобилей",
      "metadata": {}
    },
    {
      "cell_type": "markdown",
      "source": "Сервис по продаже автомобилей с пробегом разрабатывает приложение для привлечения новых клиентов. В нём можно быстро узнать рыночную стоимость своего автомобиля. В нашем распоряжении исторические данные: технические характеристики, комплектации и цены автомобилей. Нам нужно построить модель для определения стоимости. \n\nЗаказчику важны:\n\n- качество предсказания;\n- скорость предсказания;\n- время обучения.",
      "metadata": {}
    },
    {
      "cell_type": "markdown",
      "source": "## Подготовка данных",
      "metadata": {}
    },
    {
      "cell_type": "code",
      "source": "!pip install -U -q scikit-learn\n\nimport pandas as pd\nimport numpy as np\nfrom matplotlib import pyplot\nimport matplotlib.pyplot as plt\nimport seaborn as sns\n\nfrom sklearn.model_selection import train_test_split, GridSearchCV, RandomizedSearchCV, cross_val_score\nfrom sklearn.pipeline import Pipeline\nfrom sklearn.preprocessing import OneHotEncoder, OrdinalEncoder, StandardScaler, MinMaxScaler\nfrom sklearn.compose import ColumnTransformer\nfrom sklearn.impute import SimpleImputer\nfrom sklearn.ensemble import RandomForestClassifier\nfrom sklearn.preprocessing import LabelEncoder\n\nfrom sklearn.linear_model import LinearRegression, LogisticRegression\nfrom sklearn.neighbors import KNeighborsClassifier\nfrom sklearn.tree import DecisionTreeRegressor, DecisionTreeClassifier\nfrom sklearn.ensemble import RandomForestRegressor\n\nfrom catboost import CatBoostRegressor\nfrom lightgbm import LGBMRegressor\nfrom sklearn.metrics import root_mean_squared_error, mean_squared_error, make_scorer\nfrom math import sqrt\n\nRANDOM_STATE = 42\nTEST_SIZE = 0.25",
      "metadata": {},
      "outputs": [],
      "execution_count": 1
    },
    {
      "cell_type": "code",
      "source": "df = pd.read_csv('/datasets/autos.csv', delimiter=',', decimal='.')\ndf.head(10)",
      "metadata": {},
      "outputs": [
        {
          "data": {
            "text/html": [
              "<div>\n",
              "<style scoped>\n",
              "    .dataframe tbody tr th:only-of-type {\n",
              "        vertical-align: middle;\n",
              "    }\n",
              "\n",
              "    .dataframe tbody tr th {\n",
              "        vertical-align: top;\n",
              "    }\n",
              "\n",
              "    .dataframe thead th {\n",
              "        text-align: right;\n",
              "    }\n",
              "</style>\n",
              "<table border=\"1\" class=\"dataframe\">\n",
              "  <thead>\n",
              "    <tr style=\"text-align: right;\">\n",
              "      <th></th>\n",
              "      <th>DateCrawled</th>\n",
              "      <th>Price</th>\n",
              "      <th>VehicleType</th>\n",
              "      <th>RegistrationYear</th>\n",
              "      <th>Gearbox</th>\n",
              "      <th>Power</th>\n",
              "      <th>Model</th>\n",
              "      <th>Kilometer</th>\n",
              "      <th>RegistrationMonth</th>\n",
              "      <th>FuelType</th>\n",
              "      <th>Brand</th>\n",
              "      <th>Repaired</th>\n",
              "      <th>DateCreated</th>\n",
              "      <th>NumberOfPictures</th>\n",
              "      <th>PostalCode</th>\n",
              "      <th>LastSeen</th>\n",
              "    </tr>\n",
              "  </thead>\n",
              "  <tbody>\n",
              "    <tr>\n",
              "      <th>0</th>\n",
              "      <td>2016-03-24 11:52:17</td>\n",
              "      <td>480</td>\n",
              "      <td>NaN</td>\n",
              "      <td>1993</td>\n",
              "      <td>manual</td>\n",
              "      <td>0</td>\n",
              "      <td>golf</td>\n",
              "      <td>150000</td>\n",
              "      <td>0</td>\n",
              "      <td>petrol</td>\n",
              "      <td>volkswagen</td>\n",
              "      <td>NaN</td>\n",
              "      <td>2016-03-24 00:00:00</td>\n",
              "      <td>0</td>\n",
              "      <td>70435</td>\n",
              "      <td>2016-04-07 03:16:57</td>\n",
              "    </tr>\n",
              "    <tr>\n",
              "      <th>1</th>\n",
              "      <td>2016-03-24 10:58:45</td>\n",
              "      <td>18300</td>\n",
              "      <td>coupe</td>\n",
              "      <td>2011</td>\n",
              "      <td>manual</td>\n",
              "      <td>190</td>\n",
              "      <td>NaN</td>\n",
              "      <td>125000</td>\n",
              "      <td>5</td>\n",
              "      <td>gasoline</td>\n",
              "      <td>audi</td>\n",
              "      <td>yes</td>\n",
              "      <td>2016-03-24 00:00:00</td>\n",
              "      <td>0</td>\n",
              "      <td>66954</td>\n",
              "      <td>2016-04-07 01:46:50</td>\n",
              "    </tr>\n",
              "    <tr>\n",
              "      <th>2</th>\n",
              "      <td>2016-03-14 12:52:21</td>\n",
              "      <td>9800</td>\n",
              "      <td>suv</td>\n",
              "      <td>2004</td>\n",
              "      <td>auto</td>\n",
              "      <td>163</td>\n",
              "      <td>grand</td>\n",
              "      <td>125000</td>\n",
              "      <td>8</td>\n",
              "      <td>gasoline</td>\n",
              "      <td>jeep</td>\n",
              "      <td>NaN</td>\n",
              "      <td>2016-03-14 00:00:00</td>\n",
              "      <td>0</td>\n",
              "      <td>90480</td>\n",
              "      <td>2016-04-05 12:47:46</td>\n",
              "    </tr>\n",
              "    <tr>\n",
              "      <th>3</th>\n",
              "      <td>2016-03-17 16:54:04</td>\n",
              "      <td>1500</td>\n",
              "      <td>small</td>\n",
              "      <td>2001</td>\n",
              "      <td>manual</td>\n",
              "      <td>75</td>\n",
              "      <td>golf</td>\n",
              "      <td>150000</td>\n",
              "      <td>6</td>\n",
              "      <td>petrol</td>\n",
              "      <td>volkswagen</td>\n",
              "      <td>no</td>\n",
              "      <td>2016-03-17 00:00:00</td>\n",
              "      <td>0</td>\n",
              "      <td>91074</td>\n",
              "      <td>2016-03-17 17:40:17</td>\n",
              "    </tr>\n",
              "    <tr>\n",
              "      <th>4</th>\n",
              "      <td>2016-03-31 17:25:20</td>\n",
              "      <td>3600</td>\n",
              "      <td>small</td>\n",
              "      <td>2008</td>\n",
              "      <td>manual</td>\n",
              "      <td>69</td>\n",
              "      <td>fabia</td>\n",
              "      <td>90000</td>\n",
              "      <td>7</td>\n",
              "      <td>gasoline</td>\n",
              "      <td>skoda</td>\n",
              "      <td>no</td>\n",
              "      <td>2016-03-31 00:00:00</td>\n",
              "      <td>0</td>\n",
              "      <td>60437</td>\n",
              "      <td>2016-04-06 10:17:21</td>\n",
              "    </tr>\n",
              "    <tr>\n",
              "      <th>5</th>\n",
              "      <td>2016-04-04 17:36:23</td>\n",
              "      <td>650</td>\n",
              "      <td>sedan</td>\n",
              "      <td>1995</td>\n",
              "      <td>manual</td>\n",
              "      <td>102</td>\n",
              "      <td>3er</td>\n",
              "      <td>150000</td>\n",
              "      <td>10</td>\n",
              "      <td>petrol</td>\n",
              "      <td>bmw</td>\n",
              "      <td>yes</td>\n",
              "      <td>2016-04-04 00:00:00</td>\n",
              "      <td>0</td>\n",
              "      <td>33775</td>\n",
              "      <td>2016-04-06 19:17:07</td>\n",
              "    </tr>\n",
              "    <tr>\n",
              "      <th>6</th>\n",
              "      <td>2016-04-01 20:48:51</td>\n",
              "      <td>2200</td>\n",
              "      <td>convertible</td>\n",
              "      <td>2004</td>\n",
              "      <td>manual</td>\n",
              "      <td>109</td>\n",
              "      <td>2_reihe</td>\n",
              "      <td>150000</td>\n",
              "      <td>8</td>\n",
              "      <td>petrol</td>\n",
              "      <td>peugeot</td>\n",
              "      <td>no</td>\n",
              "      <td>2016-04-01 00:00:00</td>\n",
              "      <td>0</td>\n",
              "      <td>67112</td>\n",
              "      <td>2016-04-05 18:18:39</td>\n",
              "    </tr>\n",
              "    <tr>\n",
              "      <th>7</th>\n",
              "      <td>2016-03-21 18:54:38</td>\n",
              "      <td>0</td>\n",
              "      <td>sedan</td>\n",
              "      <td>1980</td>\n",
              "      <td>manual</td>\n",
              "      <td>50</td>\n",
              "      <td>other</td>\n",
              "      <td>40000</td>\n",
              "      <td>7</td>\n",
              "      <td>petrol</td>\n",
              "      <td>volkswagen</td>\n",
              "      <td>no</td>\n",
              "      <td>2016-03-21 00:00:00</td>\n",
              "      <td>0</td>\n",
              "      <td>19348</td>\n",
              "      <td>2016-03-25 16:47:58</td>\n",
              "    </tr>\n",
              "    <tr>\n",
              "      <th>8</th>\n",
              "      <td>2016-04-04 23:42:13</td>\n",
              "      <td>14500</td>\n",
              "      <td>bus</td>\n",
              "      <td>2014</td>\n",
              "      <td>manual</td>\n",
              "      <td>125</td>\n",
              "      <td>c_max</td>\n",
              "      <td>30000</td>\n",
              "      <td>8</td>\n",
              "      <td>petrol</td>\n",
              "      <td>ford</td>\n",
              "      <td>NaN</td>\n",
              "      <td>2016-04-04 00:00:00</td>\n",
              "      <td>0</td>\n",
              "      <td>94505</td>\n",
              "      <td>2016-04-04 23:42:13</td>\n",
              "    </tr>\n",
              "    <tr>\n",
              "      <th>9</th>\n",
              "      <td>2016-03-17 10:53:50</td>\n",
              "      <td>999</td>\n",
              "      <td>small</td>\n",
              "      <td>1998</td>\n",
              "      <td>manual</td>\n",
              "      <td>101</td>\n",
              "      <td>golf</td>\n",
              "      <td>150000</td>\n",
              "      <td>0</td>\n",
              "      <td>NaN</td>\n",
              "      <td>volkswagen</td>\n",
              "      <td>NaN</td>\n",
              "      <td>2016-03-17 00:00:00</td>\n",
              "      <td>0</td>\n",
              "      <td>27472</td>\n",
              "      <td>2016-03-31 17:17:06</td>\n",
              "    </tr>\n",
              "  </tbody>\n",
              "</table>\n",
              "</div>"
            ],
            "text/plain": [
              "           DateCrawled  Price  VehicleType  RegistrationYear Gearbox  Power  \\\n",
              "0  2016-03-24 11:52:17    480          NaN              1993  manual      0   \n",
              "1  2016-03-24 10:58:45  18300        coupe              2011  manual    190   \n",
              "2  2016-03-14 12:52:21   9800          suv              2004    auto    163   \n",
              "3  2016-03-17 16:54:04   1500        small              2001  manual     75   \n",
              "4  2016-03-31 17:25:20   3600        small              2008  manual     69   \n",
              "5  2016-04-04 17:36:23    650        sedan              1995  manual    102   \n",
              "6  2016-04-01 20:48:51   2200  convertible              2004  manual    109   \n",
              "7  2016-03-21 18:54:38      0        sedan              1980  manual     50   \n",
              "8  2016-04-04 23:42:13  14500          bus              2014  manual    125   \n",
              "9  2016-03-17 10:53:50    999        small              1998  manual    101   \n",
              "\n",
              "     Model  Kilometer  RegistrationMonth  FuelType       Brand Repaired  \\\n",
              "0     golf     150000                  0    petrol  volkswagen      NaN   \n",
              "1      NaN     125000                  5  gasoline        audi      yes   \n",
              "2    grand     125000                  8  gasoline        jeep      NaN   \n",
              "3     golf     150000                  6    petrol  volkswagen       no   \n",
              "4    fabia      90000                  7  gasoline       skoda       no   \n",
              "5      3er     150000                 10    petrol         bmw      yes   \n",
              "6  2_reihe     150000                  8    petrol     peugeot       no   \n",
              "7    other      40000                  7    petrol  volkswagen       no   \n",
              "8    c_max      30000                  8    petrol        ford      NaN   \n",
              "9     golf     150000                  0       NaN  volkswagen      NaN   \n",
              "\n",
              "           DateCreated  NumberOfPictures  PostalCode             LastSeen  \n",
              "0  2016-03-24 00:00:00                 0       70435  2016-04-07 03:16:57  \n",
              "1  2016-03-24 00:00:00                 0       66954  2016-04-07 01:46:50  \n",
              "2  2016-03-14 00:00:00                 0       90480  2016-04-05 12:47:46  \n",
              "3  2016-03-17 00:00:00                 0       91074  2016-03-17 17:40:17  \n",
              "4  2016-03-31 00:00:00                 0       60437  2016-04-06 10:17:21  \n",
              "5  2016-04-04 00:00:00                 0       33775  2016-04-06 19:17:07  \n",
              "6  2016-04-01 00:00:00                 0       67112  2016-04-05 18:18:39  \n",
              "7  2016-03-21 00:00:00                 0       19348  2016-03-25 16:47:58  \n",
              "8  2016-04-04 00:00:00                 0       94505  2016-04-04 23:42:13  \n",
              "9  2016-03-17 00:00:00                 0       27472  2016-03-31 17:17:06  "
            ]
          },
          "execution_count": 2,
          "metadata": {},
          "output_type": "execute_result"
        }
      ],
      "execution_count": 2
    },
    {
      "cell_type": "code",
      "source": "df = df.rename(columns={'DateCrawled':'date_crawled','VehicleType':'vehicle_type', 'RegistrationYear':'registration_year', \\\n                        'RegistrationMonth':'registration_month', 'FuelType':'fuel_type', 'DateCreated':'date_created',\\\n                        'NumberOfPictures':'number_of_pictures', 'PostalCode':'postal_code', 'LastSeen':'last_seen'})\ndf = df.rename(columns=lambda x: x.lower())\ndf.head(15)",
      "metadata": {},
      "outputs": [
        {
          "data": {
            "text/html": [
              "<div>\n",
              "<style scoped>\n",
              "    .dataframe tbody tr th:only-of-type {\n",
              "        vertical-align: middle;\n",
              "    }\n",
              "\n",
              "    .dataframe tbody tr th {\n",
              "        vertical-align: top;\n",
              "    }\n",
              "\n",
              "    .dataframe thead th {\n",
              "        text-align: right;\n",
              "    }\n",
              "</style>\n",
              "<table border=\"1\" class=\"dataframe\">\n",
              "  <thead>\n",
              "    <tr style=\"text-align: right;\">\n",
              "      <th></th>\n",
              "      <th>date_crawled</th>\n",
              "      <th>price</th>\n",
              "      <th>vehicle_type</th>\n",
              "      <th>registration_year</th>\n",
              "      <th>gearbox</th>\n",
              "      <th>power</th>\n",
              "      <th>model</th>\n",
              "      <th>kilometer</th>\n",
              "      <th>registration_month</th>\n",
              "      <th>fuel_type</th>\n",
              "      <th>brand</th>\n",
              "      <th>repaired</th>\n",
              "      <th>date_created</th>\n",
              "      <th>number_of_pictures</th>\n",
              "      <th>postal_code</th>\n",
              "      <th>last_seen</th>\n",
              "    </tr>\n",
              "  </thead>\n",
              "  <tbody>\n",
              "    <tr>\n",
              "      <th>0</th>\n",
              "      <td>2016-03-24 11:52:17</td>\n",
              "      <td>480</td>\n",
              "      <td>NaN</td>\n",
              "      <td>1993</td>\n",
              "      <td>manual</td>\n",
              "      <td>0</td>\n",
              "      <td>golf</td>\n",
              "      <td>150000</td>\n",
              "      <td>0</td>\n",
              "      <td>petrol</td>\n",
              "      <td>volkswagen</td>\n",
              "      <td>NaN</td>\n",
              "      <td>2016-03-24 00:00:00</td>\n",
              "      <td>0</td>\n",
              "      <td>70435</td>\n",
              "      <td>2016-04-07 03:16:57</td>\n",
              "    </tr>\n",
              "    <tr>\n",
              "      <th>1</th>\n",
              "      <td>2016-03-24 10:58:45</td>\n",
              "      <td>18300</td>\n",
              "      <td>coupe</td>\n",
              "      <td>2011</td>\n",
              "      <td>manual</td>\n",
              "      <td>190</td>\n",
              "      <td>NaN</td>\n",
              "      <td>125000</td>\n",
              "      <td>5</td>\n",
              "      <td>gasoline</td>\n",
              "      <td>audi</td>\n",
              "      <td>yes</td>\n",
              "      <td>2016-03-24 00:00:00</td>\n",
              "      <td>0</td>\n",
              "      <td>66954</td>\n",
              "      <td>2016-04-07 01:46:50</td>\n",
              "    </tr>\n",
              "    <tr>\n",
              "      <th>2</th>\n",
              "      <td>2016-03-14 12:52:21</td>\n",
              "      <td>9800</td>\n",
              "      <td>suv</td>\n",
              "      <td>2004</td>\n",
              "      <td>auto</td>\n",
              "      <td>163</td>\n",
              "      <td>grand</td>\n",
              "      <td>125000</td>\n",
              "      <td>8</td>\n",
              "      <td>gasoline</td>\n",
              "      <td>jeep</td>\n",
              "      <td>NaN</td>\n",
              "      <td>2016-03-14 00:00:00</td>\n",
              "      <td>0</td>\n",
              "      <td>90480</td>\n",
              "      <td>2016-04-05 12:47:46</td>\n",
              "    </tr>\n",
              "    <tr>\n",
              "      <th>3</th>\n",
              "      <td>2016-03-17 16:54:04</td>\n",
              "      <td>1500</td>\n",
              "      <td>small</td>\n",
              "      <td>2001</td>\n",
              "      <td>manual</td>\n",
              "      <td>75</td>\n",
              "      <td>golf</td>\n",
              "      <td>150000</td>\n",
              "      <td>6</td>\n",
              "      <td>petrol</td>\n",
              "      <td>volkswagen</td>\n",
              "      <td>no</td>\n",
              "      <td>2016-03-17 00:00:00</td>\n",
              "      <td>0</td>\n",
              "      <td>91074</td>\n",
              "      <td>2016-03-17 17:40:17</td>\n",
              "    </tr>\n",
              "    <tr>\n",
              "      <th>4</th>\n",
              "      <td>2016-03-31 17:25:20</td>\n",
              "      <td>3600</td>\n",
              "      <td>small</td>\n",
              "      <td>2008</td>\n",
              "      <td>manual</td>\n",
              "      <td>69</td>\n",
              "      <td>fabia</td>\n",
              "      <td>90000</td>\n",
              "      <td>7</td>\n",
              "      <td>gasoline</td>\n",
              "      <td>skoda</td>\n",
              "      <td>no</td>\n",
              "      <td>2016-03-31 00:00:00</td>\n",
              "      <td>0</td>\n",
              "      <td>60437</td>\n",
              "      <td>2016-04-06 10:17:21</td>\n",
              "    </tr>\n",
              "    <tr>\n",
              "      <th>5</th>\n",
              "      <td>2016-04-04 17:36:23</td>\n",
              "      <td>650</td>\n",
              "      <td>sedan</td>\n",
              "      <td>1995</td>\n",
              "      <td>manual</td>\n",
              "      <td>102</td>\n",
              "      <td>3er</td>\n",
              "      <td>150000</td>\n",
              "      <td>10</td>\n",
              "      <td>petrol</td>\n",
              "      <td>bmw</td>\n",
              "      <td>yes</td>\n",
              "      <td>2016-04-04 00:00:00</td>\n",
              "      <td>0</td>\n",
              "      <td>33775</td>\n",
              "      <td>2016-04-06 19:17:07</td>\n",
              "    </tr>\n",
              "    <tr>\n",
              "      <th>6</th>\n",
              "      <td>2016-04-01 20:48:51</td>\n",
              "      <td>2200</td>\n",
              "      <td>convertible</td>\n",
              "      <td>2004</td>\n",
              "      <td>manual</td>\n",
              "      <td>109</td>\n",
              "      <td>2_reihe</td>\n",
              "      <td>150000</td>\n",
              "      <td>8</td>\n",
              "      <td>petrol</td>\n",
              "      <td>peugeot</td>\n",
              "      <td>no</td>\n",
              "      <td>2016-04-01 00:00:00</td>\n",
              "      <td>0</td>\n",
              "      <td>67112</td>\n",
              "      <td>2016-04-05 18:18:39</td>\n",
              "    </tr>\n",
              "    <tr>\n",
              "      <th>7</th>\n",
              "      <td>2016-03-21 18:54:38</td>\n",
              "      <td>0</td>\n",
              "      <td>sedan</td>\n",
              "      <td>1980</td>\n",
              "      <td>manual</td>\n",
              "      <td>50</td>\n",
              "      <td>other</td>\n",
              "      <td>40000</td>\n",
              "      <td>7</td>\n",
              "      <td>petrol</td>\n",
              "      <td>volkswagen</td>\n",
              "      <td>no</td>\n",
              "      <td>2016-03-21 00:00:00</td>\n",
              "      <td>0</td>\n",
              "      <td>19348</td>\n",
              "      <td>2016-03-25 16:47:58</td>\n",
              "    </tr>\n",
              "    <tr>\n",
              "      <th>8</th>\n",
              "      <td>2016-04-04 23:42:13</td>\n",
              "      <td>14500</td>\n",
              "      <td>bus</td>\n",
              "      <td>2014</td>\n",
              "      <td>manual</td>\n",
              "      <td>125</td>\n",
              "      <td>c_max</td>\n",
              "      <td>30000</td>\n",
              "      <td>8</td>\n",
              "      <td>petrol</td>\n",
              "      <td>ford</td>\n",
              "      <td>NaN</td>\n",
              "      <td>2016-04-04 00:00:00</td>\n",
              "      <td>0</td>\n",
              "      <td>94505</td>\n",
              "      <td>2016-04-04 23:42:13</td>\n",
              "    </tr>\n",
              "    <tr>\n",
              "      <th>9</th>\n",
              "      <td>2016-03-17 10:53:50</td>\n",
              "      <td>999</td>\n",
              "      <td>small</td>\n",
              "      <td>1998</td>\n",
              "      <td>manual</td>\n",
              "      <td>101</td>\n",
              "      <td>golf</td>\n",
              "      <td>150000</td>\n",
              "      <td>0</td>\n",
              "      <td>NaN</td>\n",
              "      <td>volkswagen</td>\n",
              "      <td>NaN</td>\n",
              "      <td>2016-03-17 00:00:00</td>\n",
              "      <td>0</td>\n",
              "      <td>27472</td>\n",
              "      <td>2016-03-31 17:17:06</td>\n",
              "    </tr>\n",
              "    <tr>\n",
              "      <th>10</th>\n",
              "      <td>2016-03-26 19:54:18</td>\n",
              "      <td>2000</td>\n",
              "      <td>sedan</td>\n",
              "      <td>2004</td>\n",
              "      <td>manual</td>\n",
              "      <td>105</td>\n",
              "      <td>3_reihe</td>\n",
              "      <td>150000</td>\n",
              "      <td>12</td>\n",
              "      <td>petrol</td>\n",
              "      <td>mazda</td>\n",
              "      <td>no</td>\n",
              "      <td>2016-03-26 00:00:00</td>\n",
              "      <td>0</td>\n",
              "      <td>96224</td>\n",
              "      <td>2016-04-06 10:45:34</td>\n",
              "    </tr>\n",
              "    <tr>\n",
              "      <th>11</th>\n",
              "      <td>2016-04-07 10:06:22</td>\n",
              "      <td>2799</td>\n",
              "      <td>wagon</td>\n",
              "      <td>2005</td>\n",
              "      <td>manual</td>\n",
              "      <td>140</td>\n",
              "      <td>passat</td>\n",
              "      <td>150000</td>\n",
              "      <td>12</td>\n",
              "      <td>gasoline</td>\n",
              "      <td>volkswagen</td>\n",
              "      <td>yes</td>\n",
              "      <td>2016-04-07 00:00:00</td>\n",
              "      <td>0</td>\n",
              "      <td>57290</td>\n",
              "      <td>2016-04-07 10:25:17</td>\n",
              "    </tr>\n",
              "    <tr>\n",
              "      <th>12</th>\n",
              "      <td>2016-03-15 22:49:09</td>\n",
              "      <td>999</td>\n",
              "      <td>wagon</td>\n",
              "      <td>1995</td>\n",
              "      <td>manual</td>\n",
              "      <td>115</td>\n",
              "      <td>passat</td>\n",
              "      <td>150000</td>\n",
              "      <td>11</td>\n",
              "      <td>petrol</td>\n",
              "      <td>volkswagen</td>\n",
              "      <td>NaN</td>\n",
              "      <td>2016-03-15 00:00:00</td>\n",
              "      <td>0</td>\n",
              "      <td>37269</td>\n",
              "      <td>2016-04-01 13:16:16</td>\n",
              "    </tr>\n",
              "    <tr>\n",
              "      <th>13</th>\n",
              "      <td>2016-03-21 21:37:40</td>\n",
              "      <td>2500</td>\n",
              "      <td>wagon</td>\n",
              "      <td>2004</td>\n",
              "      <td>manual</td>\n",
              "      <td>131</td>\n",
              "      <td>passat</td>\n",
              "      <td>150000</td>\n",
              "      <td>2</td>\n",
              "      <td>NaN</td>\n",
              "      <td>volkswagen</td>\n",
              "      <td>no</td>\n",
              "      <td>2016-03-21 00:00:00</td>\n",
              "      <td>0</td>\n",
              "      <td>90762</td>\n",
              "      <td>2016-03-23 02:50:54</td>\n",
              "    </tr>\n",
              "    <tr>\n",
              "      <th>14</th>\n",
              "      <td>2016-03-21 12:57:01</td>\n",
              "      <td>17999</td>\n",
              "      <td>suv</td>\n",
              "      <td>2011</td>\n",
              "      <td>manual</td>\n",
              "      <td>190</td>\n",
              "      <td>navara</td>\n",
              "      <td>70000</td>\n",
              "      <td>3</td>\n",
              "      <td>gasoline</td>\n",
              "      <td>nissan</td>\n",
              "      <td>no</td>\n",
              "      <td>2016-03-21 00:00:00</td>\n",
              "      <td>0</td>\n",
              "      <td>4177</td>\n",
              "      <td>2016-04-06 07:45:42</td>\n",
              "    </tr>\n",
              "  </tbody>\n",
              "</table>\n",
              "</div>"
            ],
            "text/plain": [
              "           date_crawled  price vehicle_type  registration_year gearbox  power  \\\n",
              "0   2016-03-24 11:52:17    480          NaN               1993  manual      0   \n",
              "1   2016-03-24 10:58:45  18300        coupe               2011  manual    190   \n",
              "2   2016-03-14 12:52:21   9800          suv               2004    auto    163   \n",
              "3   2016-03-17 16:54:04   1500        small               2001  manual     75   \n",
              "4   2016-03-31 17:25:20   3600        small               2008  manual     69   \n",
              "5   2016-04-04 17:36:23    650        sedan               1995  manual    102   \n",
              "6   2016-04-01 20:48:51   2200  convertible               2004  manual    109   \n",
              "7   2016-03-21 18:54:38      0        sedan               1980  manual     50   \n",
              "8   2016-04-04 23:42:13  14500          bus               2014  manual    125   \n",
              "9   2016-03-17 10:53:50    999        small               1998  manual    101   \n",
              "10  2016-03-26 19:54:18   2000        sedan               2004  manual    105   \n",
              "11  2016-04-07 10:06:22   2799        wagon               2005  manual    140   \n",
              "12  2016-03-15 22:49:09    999        wagon               1995  manual    115   \n",
              "13  2016-03-21 21:37:40   2500        wagon               2004  manual    131   \n",
              "14  2016-03-21 12:57:01  17999          suv               2011  manual    190   \n",
              "\n",
              "      model  kilometer  registration_month fuel_type       brand repaired  \\\n",
              "0      golf     150000                   0    petrol  volkswagen      NaN   \n",
              "1       NaN     125000                   5  gasoline        audi      yes   \n",
              "2     grand     125000                   8  gasoline        jeep      NaN   \n",
              "3      golf     150000                   6    petrol  volkswagen       no   \n",
              "4     fabia      90000                   7  gasoline       skoda       no   \n",
              "5       3er     150000                  10    petrol         bmw      yes   \n",
              "6   2_reihe     150000                   8    petrol     peugeot       no   \n",
              "7     other      40000                   7    petrol  volkswagen       no   \n",
              "8     c_max      30000                   8    petrol        ford      NaN   \n",
              "9      golf     150000                   0       NaN  volkswagen      NaN   \n",
              "10  3_reihe     150000                  12    petrol       mazda       no   \n",
              "11   passat     150000                  12  gasoline  volkswagen      yes   \n",
              "12   passat     150000                  11    petrol  volkswagen      NaN   \n",
              "13   passat     150000                   2       NaN  volkswagen       no   \n",
              "14   navara      70000                   3  gasoline      nissan       no   \n",
              "\n",
              "           date_created  number_of_pictures  postal_code            last_seen  \n",
              "0   2016-03-24 00:00:00                   0        70435  2016-04-07 03:16:57  \n",
              "1   2016-03-24 00:00:00                   0        66954  2016-04-07 01:46:50  \n",
              "2   2016-03-14 00:00:00                   0        90480  2016-04-05 12:47:46  \n",
              "3   2016-03-17 00:00:00                   0        91074  2016-03-17 17:40:17  \n",
              "4   2016-03-31 00:00:00                   0        60437  2016-04-06 10:17:21  \n",
              "5   2016-04-04 00:00:00                   0        33775  2016-04-06 19:17:07  \n",
              "6   2016-04-01 00:00:00                   0        67112  2016-04-05 18:18:39  \n",
              "7   2016-03-21 00:00:00                   0        19348  2016-03-25 16:47:58  \n",
              "8   2016-04-04 00:00:00                   0        94505  2016-04-04 23:42:13  \n",
              "9   2016-03-17 00:00:00                   0        27472  2016-03-31 17:17:06  \n",
              "10  2016-03-26 00:00:00                   0        96224  2016-04-06 10:45:34  \n",
              "11  2016-04-07 00:00:00                   0        57290  2016-04-07 10:25:17  \n",
              "12  2016-03-15 00:00:00                   0        37269  2016-04-01 13:16:16  \n",
              "13  2016-03-21 00:00:00                   0        90762  2016-03-23 02:50:54  \n",
              "14  2016-03-21 00:00:00                   0         4177  2016-04-06 07:45:42  "
            ]
          },
          "execution_count": 3,
          "metadata": {},
          "output_type": "execute_result"
        }
      ],
      "execution_count": 3
    },
    {
      "cell_type": "code",
      "source": "df['date_crawled'].max()",
      "metadata": {},
      "outputs": [
        {
          "data": {
            "text/plain": [
              "'2016-04-07 14:36:58'"
            ]
          },
          "execution_count": 4,
          "metadata": {},
          "output_type": "execute_result"
        }
      ],
      "execution_count": 4
    },
    {
      "cell_type": "code",
      "source": "df['number_of_pictures'].unique()",
      "metadata": {},
      "outputs": [
        {
          "data": {
            "text/plain": [
              "array([0])"
            ]
          },
          "execution_count": 5,
          "metadata": {},
          "output_type": "execute_result"
        }
      ],
      "execution_count": 5
    },
    {
      "cell_type": "code",
      "source": "df.duplicated().sum()",
      "metadata": {},
      "outputs": [
        {
          "data": {
            "text/plain": [
              "4"
            ]
          },
          "execution_count": 6,
          "metadata": {},
          "output_type": "execute_result"
        }
      ],
      "execution_count": 6
    },
    {
      "cell_type": "markdown",
      "source": "Избавимся от колонки number_of_pictures, поскольку в ней только одно значение - 0, соответсвенно, пользы оно не несет.\nНа данный момент имеем 4 дубликата.\nТакже столбцы 'last_seen', 'date_crawled', 'registration_month', 'date_created', 'postal_code' - не влияют на предсказание стоимости автомобиля.",
      "metadata": {}
    },
    {
      "cell_type": "code",
      "source": "df.drop(columns=['number_of_pictures', 'last_seen', 'date_crawled', 'registration_month', 'date_created', 'postal_code'], axis= 1, inplace= True)\ndf.head(10)",
      "metadata": {
        "scrolled": true
      },
      "outputs": [
        {
          "data": {
            "text/html": [
              "<div>\n",
              "<style scoped>\n",
              "    .dataframe tbody tr th:only-of-type {\n",
              "        vertical-align: middle;\n",
              "    }\n",
              "\n",
              "    .dataframe tbody tr th {\n",
              "        vertical-align: top;\n",
              "    }\n",
              "\n",
              "    .dataframe thead th {\n",
              "        text-align: right;\n",
              "    }\n",
              "</style>\n",
              "<table border=\"1\" class=\"dataframe\">\n",
              "  <thead>\n",
              "    <tr style=\"text-align: right;\">\n",
              "      <th></th>\n",
              "      <th>price</th>\n",
              "      <th>vehicle_type</th>\n",
              "      <th>registration_year</th>\n",
              "      <th>gearbox</th>\n",
              "      <th>power</th>\n",
              "      <th>model</th>\n",
              "      <th>kilometer</th>\n",
              "      <th>fuel_type</th>\n",
              "      <th>brand</th>\n",
              "      <th>repaired</th>\n",
              "    </tr>\n",
              "  </thead>\n",
              "  <tbody>\n",
              "    <tr>\n",
              "      <th>0</th>\n",
              "      <td>480</td>\n",
              "      <td>NaN</td>\n",
              "      <td>1993</td>\n",
              "      <td>manual</td>\n",
              "      <td>0</td>\n",
              "      <td>golf</td>\n",
              "      <td>150000</td>\n",
              "      <td>petrol</td>\n",
              "      <td>volkswagen</td>\n",
              "      <td>NaN</td>\n",
              "    </tr>\n",
              "    <tr>\n",
              "      <th>1</th>\n",
              "      <td>18300</td>\n",
              "      <td>coupe</td>\n",
              "      <td>2011</td>\n",
              "      <td>manual</td>\n",
              "      <td>190</td>\n",
              "      <td>NaN</td>\n",
              "      <td>125000</td>\n",
              "      <td>gasoline</td>\n",
              "      <td>audi</td>\n",
              "      <td>yes</td>\n",
              "    </tr>\n",
              "    <tr>\n",
              "      <th>2</th>\n",
              "      <td>9800</td>\n",
              "      <td>suv</td>\n",
              "      <td>2004</td>\n",
              "      <td>auto</td>\n",
              "      <td>163</td>\n",
              "      <td>grand</td>\n",
              "      <td>125000</td>\n",
              "      <td>gasoline</td>\n",
              "      <td>jeep</td>\n",
              "      <td>NaN</td>\n",
              "    </tr>\n",
              "    <tr>\n",
              "      <th>3</th>\n",
              "      <td>1500</td>\n",
              "      <td>small</td>\n",
              "      <td>2001</td>\n",
              "      <td>manual</td>\n",
              "      <td>75</td>\n",
              "      <td>golf</td>\n",
              "      <td>150000</td>\n",
              "      <td>petrol</td>\n",
              "      <td>volkswagen</td>\n",
              "      <td>no</td>\n",
              "    </tr>\n",
              "    <tr>\n",
              "      <th>4</th>\n",
              "      <td>3600</td>\n",
              "      <td>small</td>\n",
              "      <td>2008</td>\n",
              "      <td>manual</td>\n",
              "      <td>69</td>\n",
              "      <td>fabia</td>\n",
              "      <td>90000</td>\n",
              "      <td>gasoline</td>\n",
              "      <td>skoda</td>\n",
              "      <td>no</td>\n",
              "    </tr>\n",
              "    <tr>\n",
              "      <th>5</th>\n",
              "      <td>650</td>\n",
              "      <td>sedan</td>\n",
              "      <td>1995</td>\n",
              "      <td>manual</td>\n",
              "      <td>102</td>\n",
              "      <td>3er</td>\n",
              "      <td>150000</td>\n",
              "      <td>petrol</td>\n",
              "      <td>bmw</td>\n",
              "      <td>yes</td>\n",
              "    </tr>\n",
              "    <tr>\n",
              "      <th>6</th>\n",
              "      <td>2200</td>\n",
              "      <td>convertible</td>\n",
              "      <td>2004</td>\n",
              "      <td>manual</td>\n",
              "      <td>109</td>\n",
              "      <td>2_reihe</td>\n",
              "      <td>150000</td>\n",
              "      <td>petrol</td>\n",
              "      <td>peugeot</td>\n",
              "      <td>no</td>\n",
              "    </tr>\n",
              "    <tr>\n",
              "      <th>7</th>\n",
              "      <td>0</td>\n",
              "      <td>sedan</td>\n",
              "      <td>1980</td>\n",
              "      <td>manual</td>\n",
              "      <td>50</td>\n",
              "      <td>other</td>\n",
              "      <td>40000</td>\n",
              "      <td>petrol</td>\n",
              "      <td>volkswagen</td>\n",
              "      <td>no</td>\n",
              "    </tr>\n",
              "    <tr>\n",
              "      <th>8</th>\n",
              "      <td>14500</td>\n",
              "      <td>bus</td>\n",
              "      <td>2014</td>\n",
              "      <td>manual</td>\n",
              "      <td>125</td>\n",
              "      <td>c_max</td>\n",
              "      <td>30000</td>\n",
              "      <td>petrol</td>\n",
              "      <td>ford</td>\n",
              "      <td>NaN</td>\n",
              "    </tr>\n",
              "    <tr>\n",
              "      <th>9</th>\n",
              "      <td>999</td>\n",
              "      <td>small</td>\n",
              "      <td>1998</td>\n",
              "      <td>manual</td>\n",
              "      <td>101</td>\n",
              "      <td>golf</td>\n",
              "      <td>150000</td>\n",
              "      <td>NaN</td>\n",
              "      <td>volkswagen</td>\n",
              "      <td>NaN</td>\n",
              "    </tr>\n",
              "  </tbody>\n",
              "</table>\n",
              "</div>"
            ],
            "text/plain": [
              "   price vehicle_type  registration_year gearbox  power    model  kilometer  \\\n",
              "0    480          NaN               1993  manual      0     golf     150000   \n",
              "1  18300        coupe               2011  manual    190      NaN     125000   \n",
              "2   9800          suv               2004    auto    163    grand     125000   \n",
              "3   1500        small               2001  manual     75     golf     150000   \n",
              "4   3600        small               2008  manual     69    fabia      90000   \n",
              "5    650        sedan               1995  manual    102      3er     150000   \n",
              "6   2200  convertible               2004  manual    109  2_reihe     150000   \n",
              "7      0        sedan               1980  manual     50    other      40000   \n",
              "8  14500          bus               2014  manual    125    c_max      30000   \n",
              "9    999        small               1998  manual    101     golf     150000   \n",
              "\n",
              "  fuel_type       brand repaired  \n",
              "0    petrol  volkswagen      NaN  \n",
              "1  gasoline        audi      yes  \n",
              "2  gasoline        jeep      NaN  \n",
              "3    petrol  volkswagen       no  \n",
              "4  gasoline       skoda       no  \n",
              "5    petrol         bmw      yes  \n",
              "6    petrol     peugeot       no  \n",
              "7    petrol  volkswagen       no  \n",
              "8    petrol        ford      NaN  \n",
              "9       NaN  volkswagen      NaN  "
            ]
          },
          "execution_count": 7,
          "metadata": {},
          "output_type": "execute_result"
        }
      ],
      "execution_count": 7
    },
    {
      "cell_type": "code",
      "source": "df.info()",
      "metadata": {},
      "outputs": [
        {
          "name": "stdout",
          "output_type": "stream",
          "text": [
            "<class 'pandas.core.frame.DataFrame'>\n",
            "RangeIndex: 354369 entries, 0 to 354368\n",
            "Data columns (total 10 columns):\n",
            " #   Column             Non-Null Count   Dtype \n",
            "---  ------             --------------   ----- \n",
            " 0   price              354369 non-null  int64 \n",
            " 1   vehicle_type       316879 non-null  object\n",
            " 2   registration_year  354369 non-null  int64 \n",
            " 3   gearbox            334536 non-null  object\n",
            " 4   power              354369 non-null  int64 \n",
            " 5   model              334664 non-null  object\n",
            " 6   kilometer          354369 non-null  int64 \n",
            " 7   fuel_type          321474 non-null  object\n",
            " 8   brand              354369 non-null  object\n",
            " 9   repaired           283215 non-null  object\n",
            "dtypes: int64(4), object(6)\n",
            "memory usage: 27.0+ MB\n"
          ]
        }
      ],
      "execution_count": 8
    },
    {
      "cell_type": "markdown",
      "source": "Отметим, что столбцы vehicle_type, gearbox, model, fuel_type, repaired имеются пропуски.",
      "metadata": {}
    },
    {
      "cell_type": "code",
      "source": "df.describe()",
      "metadata": {},
      "outputs": [
        {
          "data": {
            "text/html": [
              "<div>\n",
              "<style scoped>\n",
              "    .dataframe tbody tr th:only-of-type {\n",
              "        vertical-align: middle;\n",
              "    }\n",
              "\n",
              "    .dataframe tbody tr th {\n",
              "        vertical-align: top;\n",
              "    }\n",
              "\n",
              "    .dataframe thead th {\n",
              "        text-align: right;\n",
              "    }\n",
              "</style>\n",
              "<table border=\"1\" class=\"dataframe\">\n",
              "  <thead>\n",
              "    <tr style=\"text-align: right;\">\n",
              "      <th></th>\n",
              "      <th>price</th>\n",
              "      <th>registration_year</th>\n",
              "      <th>power</th>\n",
              "      <th>kilometer</th>\n",
              "    </tr>\n",
              "  </thead>\n",
              "  <tbody>\n",
              "    <tr>\n",
              "      <th>count</th>\n",
              "      <td>354369.000000</td>\n",
              "      <td>354369.000000</td>\n",
              "      <td>354369.000000</td>\n",
              "      <td>354369.000000</td>\n",
              "    </tr>\n",
              "    <tr>\n",
              "      <th>mean</th>\n",
              "      <td>4416.656776</td>\n",
              "      <td>2004.234448</td>\n",
              "      <td>110.094337</td>\n",
              "      <td>128211.172535</td>\n",
              "    </tr>\n",
              "    <tr>\n",
              "      <th>std</th>\n",
              "      <td>4514.158514</td>\n",
              "      <td>90.227958</td>\n",
              "      <td>189.850405</td>\n",
              "      <td>37905.341530</td>\n",
              "    </tr>\n",
              "    <tr>\n",
              "      <th>min</th>\n",
              "      <td>0.000000</td>\n",
              "      <td>1000.000000</td>\n",
              "      <td>0.000000</td>\n",
              "      <td>5000.000000</td>\n",
              "    </tr>\n",
              "    <tr>\n",
              "      <th>25%</th>\n",
              "      <td>1050.000000</td>\n",
              "      <td>1999.000000</td>\n",
              "      <td>69.000000</td>\n",
              "      <td>125000.000000</td>\n",
              "    </tr>\n",
              "    <tr>\n",
              "      <th>50%</th>\n",
              "      <td>2700.000000</td>\n",
              "      <td>2003.000000</td>\n",
              "      <td>105.000000</td>\n",
              "      <td>150000.000000</td>\n",
              "    </tr>\n",
              "    <tr>\n",
              "      <th>75%</th>\n",
              "      <td>6400.000000</td>\n",
              "      <td>2008.000000</td>\n",
              "      <td>143.000000</td>\n",
              "      <td>150000.000000</td>\n",
              "    </tr>\n",
              "    <tr>\n",
              "      <th>max</th>\n",
              "      <td>20000.000000</td>\n",
              "      <td>9999.000000</td>\n",
              "      <td>20000.000000</td>\n",
              "      <td>150000.000000</td>\n",
              "    </tr>\n",
              "  </tbody>\n",
              "</table>\n",
              "</div>"
            ],
            "text/plain": [
              "               price  registration_year          power      kilometer\n",
              "count  354369.000000      354369.000000  354369.000000  354369.000000\n",
              "mean     4416.656776        2004.234448     110.094337  128211.172535\n",
              "std      4514.158514          90.227958     189.850405   37905.341530\n",
              "min         0.000000        1000.000000       0.000000    5000.000000\n",
              "25%      1050.000000        1999.000000      69.000000  125000.000000\n",
              "50%      2700.000000        2003.000000     105.000000  150000.000000\n",
              "75%      6400.000000        2008.000000     143.000000  150000.000000\n",
              "max     20000.000000        9999.000000   20000.000000  150000.000000"
            ]
          },
          "execution_count": 9,
          "metadata": {},
          "output_type": "execute_result"
        }
      ],
      "execution_count": 9
    },
    {
      "cell_type": "markdown",
      "source": "В числовых признаках содержатся неинформативные данные, значения max столбцов registration_year и power имеют нереальные значения. ",
      "metadata": {}
    },
    {
      "cell_type": "code",
      "source": "df.duplicated().sum()",
      "metadata": {},
      "outputs": [
        {
          "data": {
            "text/plain": [
              "45040"
            ]
          },
          "execution_count": 10,
          "metadata": {},
          "output_type": "execute_result"
        }
      ],
      "execution_count": 10
    },
    {
      "cell_type": "markdown",
      "source": "После удаления дат, количество дубликатов сильно увеличислоь. Скорее всего, некоторые объявления были загружены повторно, т.к. полное совпадение по остальным признаком очень маловероятно. Избавимся от таких записей.",
      "metadata": {}
    },
    {
      "cell_type": "code",
      "source": "df = df.drop_duplicates()\ndf[df.duplicated()]",
      "metadata": {
        "scrolled": true
      },
      "outputs": [
        {
          "data": {
            "text/html": [
              "<div>\n",
              "<style scoped>\n",
              "    .dataframe tbody tr th:only-of-type {\n",
              "        vertical-align: middle;\n",
              "    }\n",
              "\n",
              "    .dataframe tbody tr th {\n",
              "        vertical-align: top;\n",
              "    }\n",
              "\n",
              "    .dataframe thead th {\n",
              "        text-align: right;\n",
              "    }\n",
              "</style>\n",
              "<table border=\"1\" class=\"dataframe\">\n",
              "  <thead>\n",
              "    <tr style=\"text-align: right;\">\n",
              "      <th></th>\n",
              "      <th>price</th>\n",
              "      <th>vehicle_type</th>\n",
              "      <th>registration_year</th>\n",
              "      <th>gearbox</th>\n",
              "      <th>power</th>\n",
              "      <th>model</th>\n",
              "      <th>kilometer</th>\n",
              "      <th>fuel_type</th>\n",
              "      <th>brand</th>\n",
              "      <th>repaired</th>\n",
              "    </tr>\n",
              "  </thead>\n",
              "  <tbody>\n",
              "  </tbody>\n",
              "</table>\n",
              "</div>"
            ],
            "text/plain": [
              "Empty DataFrame\n",
              "Columns: [price, vehicle_type, registration_year, gearbox, power, model, kilometer, fuel_type, brand, repaired]\n",
              "Index: []"
            ]
          },
          "execution_count": 11,
          "metadata": {},
          "output_type": "execute_result"
        }
      ],
      "execution_count": 11
    },
    {
      "cell_type": "markdown",
      "source": "Изучим выбросы в данных.",
      "metadata": {}
    },
    {
      "cell_type": "code",
      "source": "columns = ['price', 'power', 'kilometer', 'registration_year']\ndef boxplot_func(data, columns):\n    fig, axes = plt.subplots(nrows=2, ncols=2, figsize=(15, 5))\n    for i, column in enumerate(columns):\n        row_index = i // 2\n        col_index = i % 2\n        data.boxplot(column=column, ax=axes[row_index, col_index])\n    plt.suptitle('График распределения по признакам')\n    for ax in axes:\n        ax[0].set_ylabel('Количество')\n        ax[1].set_ylabel('Количество')\nboxplot_func(df, columns)",
      "metadata": {},
      "outputs": [
        {
          "data": {
            "image/png": "[encoded data removed]",
            "text/plain": [
              "<Figure size 1080x360 with 4 Axes>"
            ]
          },
          "metadata": {
            "needs_background": "light"
          },
          "output_type": "display_data"
        }
      ],
      "execution_count": 12
    },
    {
      "cell_type": "markdown",
      "source": "Очень много выбросов в столбцах registration_year и power, это явно опечатки и не валидные данные. Оставим следующие диапазоны: power - от 10 до 1000, registration_year с 1960 по 2024.",
      "metadata": {}
    },
    {
      "cell_type": "code",
      "source": "df_cut = df.query('10<power<1000 and 1960<registration_year<=2016 ') # т.к. последняя дата выгрузки '2016-04-07 14:36:58'",
      "metadata": {},
      "outputs": [],
      "execution_count": 14
    },
    {
      "cell_type": "code",
      "source": "boxplot_func(df_cut, columns)",
      "metadata": {},
      "outputs": [
        {
          "data": {
            "image/png": "[encoded data removed]",
            "text/plain": [
              "<Figure size 1080x360 with 4 Axes>"
            ]
          },
          "metadata": {
            "needs_background": "light"
          },
          "output_type": "display_data"
        }
      ],
      "execution_count": 15
    },
    {
      "cell_type": "code",
      "source": "df_cut[['registration_year']]['registration_year'].hist(bins = 90)\nplt.title('Количество объявлений в разрере года регистрации')\nplt.xlabel('Год')\nplt.ylabel('Количество');",
      "metadata": {},
      "outputs": [
        {
          "data": {
            "image/png": "[encoded data removed]",
            "text/plain": [
              "<Figure size 432x288 with 1 Axes>"
            ]
          },
          "metadata": {
            "needs_background": "light"
          },
          "output_type": "display_data"
        }
      ],
      "execution_count": 16
    },
    {
      "cell_type": "code",
      "source": "df_cut[['power']]['power'].hist(bins = 80)\nplt.title('Количество объявлений в разрере мощности')\nplt.xlabel('Мощность')\nplt.ylabel('Количество');",
      "metadata": {
        "scrolled": true
      },
      "outputs": [
        {
          "data": {
            "image/png": "[encoded data removed]",
            "text/plain": [
              "<Figure size 432x288 with 1 Axes>"
            ]
          },
          "metadata": {
            "needs_background": "light"
          },
          "output_type": "display_data"
        }
      ],
      "execution_count": 17
    },
    {
      "cell_type": "markdown",
      "source": "Взглянем на пропуски",
      "metadata": {}
    },
    {
      "cell_type": "code",
      "source": "df_cut.isnull().sum()",
      "metadata": {},
      "outputs": [
        {
          "data": {
            "text/plain": [
              "price                    0\n",
              "vehicle_type         11405\n",
              "registration_year        0\n",
              "gearbox               5509\n",
              "power                    0\n",
              "model                11278\n",
              "kilometer                0\n",
              "fuel_type            16155\n",
              "brand                    0\n",
              "repaired             41685\n",
              "dtype: int64"
            ]
          },
          "execution_count": 18,
          "metadata": {},
          "output_type": "execute_result"
        }
      ],
      "execution_count": 18
    },
    {
      "cell_type": "code",
      "source": "df_cut[df_cut['vehicle_type'].isnull()]",
      "metadata": {},
      "outputs": [
        {
          "data": {
            "text/html": [
              "<div>\n",
              "<style scoped>\n",
              "    .dataframe tbody tr th:only-of-type {\n",
              "        vertical-align: middle;\n",
              "    }\n",
              "\n",
              "    .dataframe tbody tr th {\n",
              "        vertical-align: top;\n",
              "    }\n",
              "\n",
              "    .dataframe thead th {\n",
              "        text-align: right;\n",
              "    }\n",
              "</style>\n",
              "<table border=\"1\" class=\"dataframe\">\n",
              "  <thead>\n",
              "    <tr style=\"text-align: right;\">\n",
              "      <th></th>\n",
              "      <th>price</th>\n",
              "      <th>vehicle_type</th>\n",
              "      <th>registration_year</th>\n",
              "      <th>gearbox</th>\n",
              "      <th>power</th>\n",
              "      <th>model</th>\n",
              "      <th>kilometer</th>\n",
              "      <th>fuel_type</th>\n",
              "      <th>brand</th>\n",
              "      <th>repaired</th>\n",
              "    </tr>\n",
              "  </thead>\n",
              "  <tbody>\n",
              "    <tr>\n",
              "      <th>16</th>\n",
              "      <td>300</td>\n",
              "      <td>NaN</td>\n",
              "      <td>2016</td>\n",
              "      <td>NaN</td>\n",
              "      <td>60</td>\n",
              "      <td>polo</td>\n",
              "      <td>150000</td>\n",
              "      <td>petrol</td>\n",
              "      <td>volkswagen</td>\n",
              "      <td>NaN</td>\n",
              "    </tr>\n",
              "    <tr>\n",
              "      <th>31</th>\n",
              "      <td>899</td>\n",
              "      <td>NaN</td>\n",
              "      <td>2016</td>\n",
              "      <td>manual</td>\n",
              "      <td>60</td>\n",
              "      <td>clio</td>\n",
              "      <td>150000</td>\n",
              "      <td>petrol</td>\n",
              "      <td>renault</td>\n",
              "      <td>NaN</td>\n",
              "    </tr>\n",
              "    <tr>\n",
              "      <th>35</th>\n",
              "      <td>350</td>\n",
              "      <td>NaN</td>\n",
              "      <td>2016</td>\n",
              "      <td>manual</td>\n",
              "      <td>75</td>\n",
              "      <td>golf</td>\n",
              "      <td>150000</td>\n",
              "      <td>petrol</td>\n",
              "      <td>volkswagen</td>\n",
              "      <td>no</td>\n",
              "    </tr>\n",
              "    <tr>\n",
              "      <th>52</th>\n",
              "      <td>1400</td>\n",
              "      <td>NaN</td>\n",
              "      <td>2016</td>\n",
              "      <td>manual</td>\n",
              "      <td>55</td>\n",
              "      <td>other</td>\n",
              "      <td>5000</td>\n",
              "      <td>NaN</td>\n",
              "      <td>hyundai</td>\n",
              "      <td>NaN</td>\n",
              "    </tr>\n",
              "    <tr>\n",
              "      <th>71</th>\n",
              "      <td>2300</td>\n",
              "      <td>NaN</td>\n",
              "      <td>1997</td>\n",
              "      <td>manual</td>\n",
              "      <td>150</td>\n",
              "      <td>5er</td>\n",
              "      <td>150000</td>\n",
              "      <td>NaN</td>\n",
              "      <td>bmw</td>\n",
              "      <td>no</td>\n",
              "    </tr>\n",
              "    <tr>\n",
              "      <th>...</th>\n",
              "      <td>...</td>\n",
              "      <td>...</td>\n",
              "      <td>...</td>\n",
              "      <td>...</td>\n",
              "      <td>...</td>\n",
              "      <td>...</td>\n",
              "      <td>...</td>\n",
              "      <td>...</td>\n",
              "      <td>...</td>\n",
              "      <td>...</td>\n",
              "    </tr>\n",
              "    <tr>\n",
              "      <th>354158</th>\n",
              "      <td>0</td>\n",
              "      <td>NaN</td>\n",
              "      <td>2000</td>\n",
              "      <td>manual</td>\n",
              "      <td>55</td>\n",
              "      <td>punto</td>\n",
              "      <td>5000</td>\n",
              "      <td>petrol</td>\n",
              "      <td>fiat</td>\n",
              "      <td>yes</td>\n",
              "    </tr>\n",
              "    <tr>\n",
              "      <th>354175</th>\n",
              "      <td>0</td>\n",
              "      <td>NaN</td>\n",
              "      <td>1995</td>\n",
              "      <td>manual</td>\n",
              "      <td>45</td>\n",
              "      <td>polo</td>\n",
              "      <td>150000</td>\n",
              "      <td>petrol</td>\n",
              "      <td>volkswagen</td>\n",
              "      <td>NaN</td>\n",
              "    </tr>\n",
              "    <tr>\n",
              "      <th>354205</th>\n",
              "      <td>0</td>\n",
              "      <td>NaN</td>\n",
              "      <td>2000</td>\n",
              "      <td>manual</td>\n",
              "      <td>65</td>\n",
              "      <td>corsa</td>\n",
              "      <td>150000</td>\n",
              "      <td>NaN</td>\n",
              "      <td>opel</td>\n",
              "      <td>yes</td>\n",
              "    </tr>\n",
              "    <tr>\n",
              "      <th>354351</th>\n",
              "      <td>1900</td>\n",
              "      <td>NaN</td>\n",
              "      <td>2000</td>\n",
              "      <td>manual</td>\n",
              "      <td>110</td>\n",
              "      <td>NaN</td>\n",
              "      <td>150000</td>\n",
              "      <td>NaN</td>\n",
              "      <td>volkswagen</td>\n",
              "      <td>no</td>\n",
              "    </tr>\n",
              "    <tr>\n",
              "      <th>354361</th>\n",
              "      <td>5250</td>\n",
              "      <td>NaN</td>\n",
              "      <td>2016</td>\n",
              "      <td>auto</td>\n",
              "      <td>150</td>\n",
              "      <td>159</td>\n",
              "      <td>150000</td>\n",
              "      <td>NaN</td>\n",
              "      <td>alfa_romeo</td>\n",
              "      <td>no</td>\n",
              "    </tr>\n",
              "  </tbody>\n",
              "</table>\n",
              "<p>11405 rows × 10 columns</p>\n",
              "</div>"
            ],
            "text/plain": [
              "        price vehicle_type  registration_year gearbox  power  model  \\\n",
              "16        300          NaN               2016     NaN     60   polo   \n",
              "31        899          NaN               2016  manual     60   clio   \n",
              "35        350          NaN               2016  manual     75   golf   \n",
              "52       1400          NaN               2016  manual     55  other   \n",
              "71       2300          NaN               1997  manual    150    5er   \n",
              "...       ...          ...                ...     ...    ...    ...   \n",
              "354158      0          NaN               2000  manual     55  punto   \n",
              "354175      0          NaN               1995  manual     45   polo   \n",
              "354205      0          NaN               2000  manual     65  corsa   \n",
              "354351   1900          NaN               2000  manual    110    NaN   \n",
              "354361   5250          NaN               2016    auto    150    159   \n",
              "\n",
              "        kilometer fuel_type       brand repaired  \n",
              "16         150000    petrol  volkswagen      NaN  \n",
              "31         150000    petrol     renault      NaN  \n",
              "35         150000    petrol  volkswagen       no  \n",
              "52           5000       NaN     hyundai      NaN  \n",
              "71         150000       NaN         bmw       no  \n",
              "...           ...       ...         ...      ...  \n",
              "354158       5000    petrol        fiat      yes  \n",
              "354175     150000    petrol  volkswagen      NaN  \n",
              "354205     150000       NaN        opel      yes  \n",
              "354351     150000       NaN  volkswagen       no  \n",
              "354361     150000       NaN  alfa_romeo       no  \n",
              "\n",
              "[11405 rows x 10 columns]"
            ]
          },
          "execution_count": 19,
          "metadata": {},
          "output_type": "execute_result"
        }
      ],
      "execution_count": 19
    },
    {
      "cell_type": "code",
      "source": "df_cut[df_cut['vehicle_type'].isnull()].groupby('brand').count().sort_values(by='price', ascending=False).head(7)",
      "metadata": {},
      "outputs": [
        {
          "data": {
            "text/html": [
              "<div>\n",
              "<style scoped>\n",
              "    .dataframe tbody tr th:only-of-type {\n",
              "        vertical-align: middle;\n",
              "    }\n",
              "\n",
              "    .dataframe tbody tr th {\n",
              "        vertical-align: top;\n",
              "    }\n",
              "\n",
              "    .dataframe thead th {\n",
              "        text-align: right;\n",
              "    }\n",
              "</style>\n",
              "<table border=\"1\" class=\"dataframe\">\n",
              "  <thead>\n",
              "    <tr style=\"text-align: right;\">\n",
              "      <th></th>\n",
              "      <th>price</th>\n",
              "      <th>vehicle_type</th>\n",
              "      <th>registration_year</th>\n",
              "      <th>gearbox</th>\n",
              "      <th>power</th>\n",
              "      <th>model</th>\n",
              "      <th>kilometer</th>\n",
              "      <th>fuel_type</th>\n",
              "      <th>repaired</th>\n",
              "    </tr>\n",
              "    <tr>\n",
              "      <th>brand</th>\n",
              "      <th></th>\n",
              "      <th></th>\n",
              "      <th></th>\n",
              "      <th></th>\n",
              "      <th></th>\n",
              "      <th></th>\n",
              "      <th></th>\n",
              "      <th></th>\n",
              "      <th></th>\n",
              "    </tr>\n",
              "  </thead>\n",
              "  <tbody>\n",
              "    <tr>\n",
              "      <th>volkswagen</th>\n",
              "      <td>3240</td>\n",
              "      <td>0</td>\n",
              "      <td>3240</td>\n",
              "      <td>2803</td>\n",
              "      <td>3240</td>\n",
              "      <td>2838</td>\n",
              "      <td>3240</td>\n",
              "      <td>1972</td>\n",
              "      <td>1508</td>\n",
              "    </tr>\n",
              "    <tr>\n",
              "      <th>opel</th>\n",
              "      <td>1601</td>\n",
              "      <td>0</td>\n",
              "      <td>1601</td>\n",
              "      <td>1397</td>\n",
              "      <td>1601</td>\n",
              "      <td>1411</td>\n",
              "      <td>1601</td>\n",
              "      <td>879</td>\n",
              "      <td>824</td>\n",
              "    </tr>\n",
              "    <tr>\n",
              "      <th>ford</th>\n",
              "      <td>924</td>\n",
              "      <td>0</td>\n",
              "      <td>924</td>\n",
              "      <td>804</td>\n",
              "      <td>924</td>\n",
              "      <td>807</td>\n",
              "      <td>924</td>\n",
              "      <td>507</td>\n",
              "      <td>494</td>\n",
              "    </tr>\n",
              "    <tr>\n",
              "      <th>bmw</th>\n",
              "      <td>845</td>\n",
              "      <td>0</td>\n",
              "      <td>845</td>\n",
              "      <td>776</td>\n",
              "      <td>845</td>\n",
              "      <td>640</td>\n",
              "      <td>845</td>\n",
              "      <td>408</td>\n",
              "      <td>459</td>\n",
              "    </tr>\n",
              "    <tr>\n",
              "      <th>audi</th>\n",
              "      <td>816</td>\n",
              "      <td>0</td>\n",
              "      <td>816</td>\n",
              "      <td>719</td>\n",
              "      <td>816</td>\n",
              "      <td>669</td>\n",
              "      <td>816</td>\n",
              "      <td>462</td>\n",
              "      <td>421</td>\n",
              "    </tr>\n",
              "    <tr>\n",
              "      <th>mercedes_benz</th>\n",
              "      <td>627</td>\n",
              "      <td>0</td>\n",
              "      <td>627</td>\n",
              "      <td>573</td>\n",
              "      <td>627</td>\n",
              "      <td>528</td>\n",
              "      <td>627</td>\n",
              "      <td>365</td>\n",
              "      <td>337</td>\n",
              "    </tr>\n",
              "    <tr>\n",
              "      <th>renault</th>\n",
              "      <td>604</td>\n",
              "      <td>0</td>\n",
              "      <td>604</td>\n",
              "      <td>533</td>\n",
              "      <td>604</td>\n",
              "      <td>544</td>\n",
              "      <td>604</td>\n",
              "      <td>356</td>\n",
              "      <td>309</td>\n",
              "    </tr>\n",
              "  </tbody>\n",
              "</table>\n",
              "</div>"
            ],
            "text/plain": [
              "               price  vehicle_type  registration_year  gearbox  power  model  \\\n",
              "brand                                                                          \n",
              "volkswagen      3240             0               3240     2803   3240   2838   \n",
              "opel            1601             0               1601     1397   1601   1411   \n",
              "ford             924             0                924      804    924    807   \n",
              "bmw              845             0                845      776    845    640   \n",
              "audi             816             0                816      719    816    669   \n",
              "mercedes_benz    627             0                627      573    627    528   \n",
              "renault          604             0                604      533    604    544   \n",
              "\n",
              "               kilometer  fuel_type  repaired  \n",
              "brand                                          \n",
              "volkswagen          3240       1972      1508  \n",
              "opel                1601        879       824  \n",
              "ford                 924        507       494  \n",
              "bmw                  845        408       459  \n",
              "audi                 816        462       421  \n",
              "mercedes_benz        627        365       337  \n",
              "renault              604        356       309  "
            ]
          },
          "execution_count": 20,
          "metadata": {},
          "output_type": "execute_result"
        }
      ],
      "execution_count": 20
    },
    {
      "cell_type": "code",
      "source": "df_cut[df_cut['brand'] == 'volkswagen'].groupby('model')['vehicle_type'].count().plot(kind='bar', figsize = (10, 7))\nplt.title('Расперделение моделей Volkswagen')\nplt.xlabel('Модель')\nplt.ylabel('Количество');",
      "metadata": {},
      "outputs": [
        {
          "data": {
            "image/png": "[encoded data removed]",
            "text/plain": [
              "<Figure size 720x504 with 1 Axes>"
            ]
          },
          "metadata": {
            "needs_background": "light"
          },
          "output_type": "display_data"
        }
      ],
      "execution_count": 21
    },
    {
      "cell_type": "code",
      "source": "df_cut['vehicle_type'].value_counts(dropna=False)",
      "metadata": {},
      "outputs": [
        {
          "data": {
            "text/plain": [
              "sedan          72346\n",
              "small          59906\n",
              "wagon          52153\n",
              "bus            23687\n",
              "convertible    17041\n",
              "coupe          13633\n",
              "NaN            11405\n",
              "suv             9925\n",
              "other           2457\n",
              "Name: vehicle_type, dtype: int64"
            ]
          },
          "execution_count": 22,
          "metadata": {},
          "output_type": "execute_result"
        }
      ],
      "execution_count": 22
    },
    {
      "cell_type": "code",
      "source": "models = df_cut[~df_cut['model'].isna()]['model'].unique()\nmodels",
      "metadata": {},
      "outputs": [
        {
          "data": {
            "text/plain": [
              "array(['grand', 'golf', 'fabia', '3er', '2_reihe', 'other', 'c_max',\n",
              "       '3_reihe', 'passat', 'navara', 'polo', 'twingo', 'a_klasse',\n",
              "       'scirocco', '5er', 'arosa', 'civic', 'transporter', 'punto',\n",
              "       'e_klasse', 'clio', 'kadett', 'one', 'fortwo', '1er', 'b_klasse',\n",
              "       'a8', 'jetta', 'fiesta', 'c_klasse', 'micra', 'vito', 'sprinter',\n",
              "       'astra', '156', 'escort', 'forester', 'xc_reihe', 'scenic', 'ka',\n",
              "       'a1', 'focus', 'a4', 'tt', 'a6', 'jazz', 'omega', 'slk', '7er',\n",
              "       'combo', 'corsa', '80', '147', 'meriva', 'z_reihe', 'sorento',\n",
              "       'ibiza', 'mustang', 'eos', 'touran', 'getz', 'insignia', 'almera',\n",
              "       'megane', 'a3', 'lupo', 'r19', 'caddy', 'mondeo', 'cordoba',\n",
              "       'colt', 'impreza', 'vectra', 'berlingo', 'tiguan', '6_reihe', 'c4',\n",
              "       'panda', 'up', 'i_reihe', 'ceed', 'kangoo', '5_reihe', 'yeti',\n",
              "       'octavia', 'zafira', 'mii', 'rx_reihe', '6er', 'modus', 'fox',\n",
              "       'matiz', 'beetle', 'rio', 'touareg', 'logan', 'spider', 'cuore',\n",
              "       's_max', 'a2', 'galaxy', 'c3', 'viano', 's_klasse', '1_reihe',\n",
              "       'sharan', 'avensis', 'roomster', 'sl', 'kaefer', 'santa', 'leon',\n",
              "       'cooper', '4_reihe', 'a5', 'sportage', 'laguna', 'ptcruiser',\n",
              "       'clk', 'primera', 'espace', 'exeo', '159', 'transit', 'juke',\n",
              "       'x_reihe', 'v40', 'carisma', 'accord', 'corolla', 'lanos',\n",
              "       'phaeton', 'verso', 'swift', 'rav', 'qashqai', 'picanto',\n",
              "       'boxster', 'superb', 'stilo', 'alhambra', 'mx_reihe', 'roadster',\n",
              "       'ypsilon', 'galant', 'justy', '90', 'sirion', 'signum',\n",
              "       'crossfire', 'agila', 'duster', 'v50', '500', 'c_reihe',\n",
              "       'v_klasse', 'm_klasse', 'yaris', 'c5', 'aygo', 'seicento', 'cc',\n",
              "       'carnival', 'fusion', '911', 'bora', 'forfour', 'm_reihe', 'cl',\n",
              "       'tigra', '300c', '100', 'cr_reihe', 'spark', 'kuga', 'x_type',\n",
              "       'ducato', 's_type', 'x_trail', 'toledo', 'altea', 'voyager',\n",
              "       'calibra', 'v70', 'bravo', 'tucson', 'c1', 'citigo', 'jimny',\n",
              "       'cayenne', 'wrangler', 'lybra', 'lancer', 'captiva', 'discovery',\n",
              "       'freelander', 'sandero', 'q7', 'note', 'antara', '900', 'cherokee',\n",
              "       'clubman', 'defender', 'cx_reihe', 'legacy', 'pajero', 'auris',\n",
              "       'c2', 'niva', 's60', 'nubira', 'vivaro', 'g_klasse', 'lodgy',\n",
              "       'range_rover', '601', '850', 'q3', 'serie_2', 'glk', 'charade',\n",
              "       'croma', 'outlander', 'doblo', 'musa', '9000', 'kalos', 'v60',\n",
              "       '200', '145', 'b_max', 'range_rover_sport', 'aveo', 'move',\n",
              "       'rangerover', 'q5', 'range_rover_evoque', 'materia', 'delta',\n",
              "       'terios', 'gl', 'kalina', 'elefantino', 'i3', 'samara', 'amarok',\n",
              "       'kappa', 'serie_3'], dtype=object)"
            ]
          },
          "execution_count": 23,
          "metadata": {},
          "output_type": "execute_result"
        }
      ],
      "execution_count": 23
    },
    {
      "cell_type": "markdown",
      "source": "Для каждой модели с неуказанным vehicle_type заменяем его на моду для данной модели",
      "metadata": {}
    },
    {
      "cell_type": "code",
      "source": "for model in models:\n    df_cut.loc[(df_cut['vehicle_type'].isna()) & \n             (df_cut['model']==model),'vehicle_type'] = df_cut.loc[(df_cut['model']==model) & \n                                                               (~df_cut['vehicle_type'].isna()),'vehicle_type'].mode()[0]",
      "metadata": {
        "scrolled": true
      },
      "outputs": [
        {
          "name": "stderr",
          "output_type": "stream",
          "text": [
            "/opt/conda/lib/python3.9/site-packages/pandas/core/indexing.py:1720: SettingWithCopyWarning: \n",
            "A value is trying to be set on a copy of a slice from a DataFrame.\n",
            "Try using .loc[row_indexer,col_indexer] = value instead\n",
            "\n",
            "See the caveats in the documentation: https://pandas.pydata.org/pandas-docs/stable/user_guide/indexing.html#returning-a-view-versus-a-copy\n",
            "  self._setitem_single_column(loc, value, pi)\n"
          ]
        }
      ],
      "execution_count": 24
    },
    {
      "cell_type": "code",
      "source": "df_cut.isnull().sum()",
      "metadata": {},
      "outputs": [
        {
          "data": {
            "text/plain": [
              "price                    0\n",
              "vehicle_type          1732\n",
              "registration_year        0\n",
              "gearbox               5509\n",
              "power                    0\n",
              "model                11278\n",
              "kilometer                0\n",
              "fuel_type            16155\n",
              "brand                    0\n",
              "repaired             41685\n",
              "dtype: int64"
            ]
          },
          "execution_count": 25,
          "metadata": {},
          "output_type": "execute_result"
        }
      ],
      "execution_count": 25
    },
    {
      "cell_type": "markdown",
      "source": "У нас осталовь 3017 пустых значений, поскольку имеются пропуски в 'model'. Так же пропуски в столбцах 'gearbox', 'fuel_type' и 'repaired', мы не можем логически их заполнить, поскольку они независимы от других признаков. Такие строки заполним значениями 'unknown'.",
      "metadata": {}
    },
    {
      "cell_type": "code",
      "source": "cols = ['model', 'gearbox', 'vehicle_type', 'fuel_type', 'repaired']\nfor column in cols:\n    df_cut[column].fillna('unknown', inplace = True)\ndf_cut.isnull().sum()",
      "metadata": {
        "scrolled": true
      },
      "outputs": [
        {
          "name": "stderr",
          "output_type": "stream",
          "text": [
            "/opt/conda/lib/python3.9/site-packages/pandas/core/series.py:4463: SettingWithCopyWarning: \n",
            "A value is trying to be set on a copy of a slice from a DataFrame\n",
            "\n",
            "See the caveats in the documentation: https://pandas.pydata.org/pandas-docs/stable/user_guide/indexing.html#returning-a-view-versus-a-copy\n",
            "  return super().fillna(\n"
          ]
        },
        {
          "data": {
            "text/plain": [
              "price                0\n",
              "vehicle_type         0\n",
              "registration_year    0\n",
              "gearbox              0\n",
              "power                0\n",
              "model                0\n",
              "kilometer            0\n",
              "fuel_type            0\n",
              "brand                0\n",
              "repaired             0\n",
              "dtype: int64"
            ]
          },
          "execution_count": 26,
          "metadata": {},
          "output_type": "execute_result"
        }
      ],
      "execution_count": 26
    },
    {
      "cell_type": "markdown",
      "source": "Подготовка",
      "metadata": {}
    },
    {
      "cell_type": "markdown",
      "source": "Найдем количество 10 самых редких моделей.",
      "metadata": {}
    },
    {
      "cell_type": "code",
      "source": "df_pivot = df_cut.pivot_table(index='model', values='price', aggfunc='count').sort_values(by='price', ascending=True)\ndf_pivot.head(10)",
      "metadata": {},
      "outputs": [
        {
          "data": {
            "text/html": [
              "<div>\n",
              "<style scoped>\n",
              "    .dataframe tbody tr th:only-of-type {\n",
              "        vertical-align: middle;\n",
              "    }\n",
              "\n",
              "    .dataframe tbody tr th {\n",
              "        vertical-align: top;\n",
              "    }\n",
              "\n",
              "    .dataframe thead th {\n",
              "        text-align: right;\n",
              "    }\n",
              "</style>\n",
              "<table border=\"1\" class=\"dataframe\">\n",
              "  <thead>\n",
              "    <tr style=\"text-align: right;\">\n",
              "      <th></th>\n",
              "      <th>price</th>\n",
              "    </tr>\n",
              "    <tr>\n",
              "      <th>model</th>\n",
              "      <th></th>\n",
              "    </tr>\n",
              "  </thead>\n",
              "  <tbody>\n",
              "    <tr>\n",
              "      <th>range_rover_evoque</th>\n",
              "      <td>1</td>\n",
              "    </tr>\n",
              "    <tr>\n",
              "      <th>rangerover</th>\n",
              "      <td>2</td>\n",
              "    </tr>\n",
              "    <tr>\n",
              "      <th>serie_3</th>\n",
              "      <td>3</td>\n",
              "    </tr>\n",
              "    <tr>\n",
              "      <th>kalina</th>\n",
              "      <td>4</td>\n",
              "    </tr>\n",
              "    <tr>\n",
              "      <th>serie_2</th>\n",
              "      <td>4</td>\n",
              "    </tr>\n",
              "    <tr>\n",
              "      <th>samara</th>\n",
              "      <td>5</td>\n",
              "    </tr>\n",
              "    <tr>\n",
              "      <th>i3</th>\n",
              "      <td>5</td>\n",
              "    </tr>\n",
              "    <tr>\n",
              "      <th>elefantino</th>\n",
              "      <td>7</td>\n",
              "    </tr>\n",
              "    <tr>\n",
              "      <th>gl</th>\n",
              "      <td>11</td>\n",
              "    </tr>\n",
              "    <tr>\n",
              "      <th>amarok</th>\n",
              "      <td>12</td>\n",
              "    </tr>\n",
              "  </tbody>\n",
              "</table>\n",
              "</div>"
            ],
            "text/plain": [
              "                    price\n",
              "model                    \n",
              "range_rover_evoque      1\n",
              "rangerover              2\n",
              "serie_3                 3\n",
              "kalina                  4\n",
              "serie_2                 4\n",
              "samara                  5\n",
              "i3                      5\n",
              "elefantino              7\n",
              "gl                     11\n",
              "amarok                 12"
            ]
          },
          "execution_count": 27,
          "metadata": {},
          "output_type": "execute_result"
        }
      ],
      "execution_count": 27
    },
    {
      "cell_type": "code",
      "source": "models_to_other = df_pivot[df_pivot['price']<10].index.to_list()\ndf_cut.loc[df_cut['model'].isin(models_to_other),'model'] = 'other'\ndf_cut[df_cut['model'] == 'other']",
      "metadata": {},
      "outputs": [
        {
          "name": "stderr",
          "output_type": "stream",
          "text": [
            "/opt/conda/lib/python3.9/site-packages/pandas/core/indexing.py:1720: SettingWithCopyWarning: \n",
            "A value is trying to be set on a copy of a slice from a DataFrame.\n",
            "Try using .loc[row_indexer,col_indexer] = value instead\n",
            "\n",
            "See the caveats in the documentation: https://pandas.pydata.org/pandas-docs/stable/user_guide/indexing.html#returning-a-view-versus-a-copy\n",
            "  self._setitem_single_column(loc, value, pi)\n"
          ]
        },
        {
          "data": {
            "text/html": [
              "<div>\n",
              "<style scoped>\n",
              "    .dataframe tbody tr th:only-of-type {\n",
              "        vertical-align: middle;\n",
              "    }\n",
              "\n",
              "    .dataframe tbody tr th {\n",
              "        vertical-align: top;\n",
              "    }\n",
              "\n",
              "    .dataframe thead th {\n",
              "        text-align: right;\n",
              "    }\n",
              "</style>\n",
              "<table border=\"1\" class=\"dataframe\">\n",
              "  <thead>\n",
              "    <tr style=\"text-align: right;\">\n",
              "      <th></th>\n",
              "      <th>price</th>\n",
              "      <th>vehicle_type</th>\n",
              "      <th>registration_year</th>\n",
              "      <th>gearbox</th>\n",
              "      <th>power</th>\n",
              "      <th>model</th>\n",
              "      <th>kilometer</th>\n",
              "      <th>fuel_type</th>\n",
              "      <th>brand</th>\n",
              "      <th>repaired</th>\n",
              "    </tr>\n",
              "  </thead>\n",
              "  <tbody>\n",
              "    <tr>\n",
              "      <th>7</th>\n",
              "      <td>0</td>\n",
              "      <td>sedan</td>\n",
              "      <td>1980</td>\n",
              "      <td>manual</td>\n",
              "      <td>50</td>\n",
              "      <td>other</td>\n",
              "      <td>40000</td>\n",
              "      <td>petrol</td>\n",
              "      <td>volkswagen</td>\n",
              "      <td>no</td>\n",
              "    </tr>\n",
              "    <tr>\n",
              "      <th>24</th>\n",
              "      <td>500</td>\n",
              "      <td>sedan</td>\n",
              "      <td>1990</td>\n",
              "      <td>manual</td>\n",
              "      <td>118</td>\n",
              "      <td>other</td>\n",
              "      <td>150000</td>\n",
              "      <td>petrol</td>\n",
              "      <td>mercedes_benz</td>\n",
              "      <td>yes</td>\n",
              "    </tr>\n",
              "    <tr>\n",
              "      <th>38</th>\n",
              "      <td>11900</td>\n",
              "      <td>other</td>\n",
              "      <td>2002</td>\n",
              "      <td>manual</td>\n",
              "      <td>129</td>\n",
              "      <td>other</td>\n",
              "      <td>150000</td>\n",
              "      <td>gasoline</td>\n",
              "      <td>volkswagen</td>\n",
              "      <td>no</td>\n",
              "    </tr>\n",
              "    <tr>\n",
              "      <th>39</th>\n",
              "      <td>1500</td>\n",
              "      <td>bus</td>\n",
              "      <td>1984</td>\n",
              "      <td>manual</td>\n",
              "      <td>70</td>\n",
              "      <td>other</td>\n",
              "      <td>150000</td>\n",
              "      <td>gasoline</td>\n",
              "      <td>mercedes_benz</td>\n",
              "      <td>no</td>\n",
              "    </tr>\n",
              "    <tr>\n",
              "      <th>52</th>\n",
              "      <td>1400</td>\n",
              "      <td>sedan</td>\n",
              "      <td>2016</td>\n",
              "      <td>manual</td>\n",
              "      <td>55</td>\n",
              "      <td>other</td>\n",
              "      <td>5000</td>\n",
              "      <td>unknown</td>\n",
              "      <td>hyundai</td>\n",
              "      <td>unknown</td>\n",
              "    </tr>\n",
              "    <tr>\n",
              "      <th>...</th>\n",
              "      <td>...</td>\n",
              "      <td>...</td>\n",
              "      <td>...</td>\n",
              "      <td>...</td>\n",
              "      <td>...</td>\n",
              "      <td>...</td>\n",
              "      <td>...</td>\n",
              "      <td>...</td>\n",
              "      <td>...</td>\n",
              "      <td>...</td>\n",
              "    </tr>\n",
              "    <tr>\n",
              "      <th>354239</th>\n",
              "      <td>1000</td>\n",
              "      <td>bus</td>\n",
              "      <td>2001</td>\n",
              "      <td>manual</td>\n",
              "      <td>121</td>\n",
              "      <td>other</td>\n",
              "      <td>150000</td>\n",
              "      <td>petrol</td>\n",
              "      <td>daewoo</td>\n",
              "      <td>no</td>\n",
              "    </tr>\n",
              "    <tr>\n",
              "      <th>354240</th>\n",
              "      <td>890</td>\n",
              "      <td>bus</td>\n",
              "      <td>1999</td>\n",
              "      <td>manual</td>\n",
              "      <td>67</td>\n",
              "      <td>other</td>\n",
              "      <td>125000</td>\n",
              "      <td>gasoline</td>\n",
              "      <td>fiat</td>\n",
              "      <td>no</td>\n",
              "    </tr>\n",
              "    <tr>\n",
              "      <th>354286</th>\n",
              "      <td>16500</td>\n",
              "      <td>coupe</td>\n",
              "      <td>1973</td>\n",
              "      <td>manual</td>\n",
              "      <td>200</td>\n",
              "      <td>other</td>\n",
              "      <td>150000</td>\n",
              "      <td>petrol</td>\n",
              "      <td>bmw</td>\n",
              "      <td>yes</td>\n",
              "    </tr>\n",
              "    <tr>\n",
              "      <th>354290</th>\n",
              "      <td>2500</td>\n",
              "      <td>small</td>\n",
              "      <td>2007</td>\n",
              "      <td>manual</td>\n",
              "      <td>60</td>\n",
              "      <td>other</td>\n",
              "      <td>125000</td>\n",
              "      <td>petrol</td>\n",
              "      <td>hyundai</td>\n",
              "      <td>unknown</td>\n",
              "    </tr>\n",
              "    <tr>\n",
              "      <th>354331</th>\n",
              "      <td>2999</td>\n",
              "      <td>coupe</td>\n",
              "      <td>2003</td>\n",
              "      <td>manual</td>\n",
              "      <td>143</td>\n",
              "      <td>other</td>\n",
              "      <td>150000</td>\n",
              "      <td>petrol</td>\n",
              "      <td>mercedes_benz</td>\n",
              "      <td>yes</td>\n",
              "    </tr>\n",
              "  </tbody>\n",
              "</table>\n",
              "<p>19411 rows × 10 columns</p>\n",
              "</div>"
            ],
            "text/plain": [
              "        price vehicle_type  registration_year gearbox  power  model  \\\n",
              "7           0        sedan               1980  manual     50  other   \n",
              "24        500        sedan               1990  manual    118  other   \n",
              "38      11900        other               2002  manual    129  other   \n",
              "39       1500          bus               1984  manual     70  other   \n",
              "52       1400        sedan               2016  manual     55  other   \n",
              "...       ...          ...                ...     ...    ...    ...   \n",
              "354239   1000          bus               2001  manual    121  other   \n",
              "354240    890          bus               1999  manual     67  other   \n",
              "354286  16500        coupe               1973  manual    200  other   \n",
              "354290   2500        small               2007  manual     60  other   \n",
              "354331   2999        coupe               2003  manual    143  other   \n",
              "\n",
              "        kilometer fuel_type          brand repaired  \n",
              "7           40000    petrol     volkswagen       no  \n",
              "24         150000    petrol  mercedes_benz      yes  \n",
              "38         150000  gasoline     volkswagen       no  \n",
              "39         150000  gasoline  mercedes_benz       no  \n",
              "52           5000   unknown        hyundai  unknown  \n",
              "...           ...       ...            ...      ...  \n",
              "354239     150000    petrol         daewoo       no  \n",
              "354240     125000  gasoline           fiat       no  \n",
              "354286     150000    petrol            bmw      yes  \n",
              "354290     125000    petrol        hyundai  unknown  \n",
              "354331     150000    petrol  mercedes_benz      yes  \n",
              "\n",
              "[19411 rows x 10 columns]"
            ]
          },
          "execution_count": 28,
          "metadata": {},
          "output_type": "execute_result"
        }
      ],
      "execution_count": 28
    },
    {
      "cell_type": "code",
      "source": "# избавимся от значений price = 0\ndf_cut = df_cut[df_cut['price']!=0]",
      "metadata": {},
      "outputs": [],
      "execution_count": 29
    },
    {
      "cell_type": "markdown",
      "source": "## Обучение моделей",
      "metadata": {}
    },
    {
      "cell_type": "code",
      "source": "X = df_cut.drop(['price'], axis=1)\ny = df_cut['price']\n\nX_train, X_test, y_train, y_test = train_test_split(X, y, test_size=TEST_SIZE, random_state=RANDOM_STATE, stratify=X['model'])\nX_train.shape, X_test.shape, y_train.shape, y_test.shape",
      "metadata": {},
      "outputs": [
        {
          "data": {
            "text/plain": [
              "((192848, 9), (64283, 9), (192848,), (64283,))"
            ]
          },
          "execution_count": 30,
          "metadata": {},
          "output_type": "execute_result"
        }
      ],
      "execution_count": 30
    },
    {
      "cell_type": "code",
      "source": "# списки с названиями признаков\nohe_columns = ['model',\n               'brand',\n               'vehicle_type',\n               'gearbox',\n               'fuel_type',\n               'repaired']\n\nnum_columns = ['registration_year',\n               'power',\n               'kilometer']",
      "metadata": {},
      "outputs": [],
      "execution_count": 31
    },
    {
      "cell_type": "code",
      "source": "data_preprocessor = ColumnTransformer(\n    [('ohe', ohe_pipe, ohe_columns),\n     #('ord', ord_pipe, ord_columns),\n     ('num', StandardScaler(), num_columns)\n    ], \n    remainder='passthrough'\n)\n\n\n# итоговый пайплайн\npipe_final = Pipeline([\n    ('preprocessor', data_preprocessor),\n    ('models', StandardScaler())\n])",
      "metadata": {},
      "outputs": [],
      "execution_count": 34
    },
    {
      "cell_type": "code",
      "source": "param_grid = [\n    \n    # словарь для модели LinearRegression\n    {'models': [LinearRegression()],\n     'models__fit_intercept': [True, False],\n     'preprocessor__num': [StandardScaler(), MinMaxScaler(), 'passthrough']},\n    \n    # словарь для модели DecisionTreeRegressor\n    {'models': [DecisionTreeRegressor(random_state=RANDOM_STATE)],\n     'models__max_depth': (None, *range(2,8)),\n     'models__max_features': range(2,30),\n     'preprocessor__num': [StandardScaler(), 'passthrough']},\n    \n    #словарь для модели RandomForestRegressor\n    {'models': [RandomForestRegressor(random_state=RANDOM_STATE)],\n     'models__n_estimators': range(2,8),\n     'models__max_depth': range(2,10),\n     'preprocessor__num': [StandardScaler(), 'passthrough']},\n    \n    #словарь для модели LGBMRegressor\n    {'models': [LGBMRegressor(random_state=RANDOM_STATE)],\n     'models__n_estimators': [1000, 1200],\n     'models__learning_rate': [0,10],\n     'models__max_depth': [12, 14],\n     'preprocessor__num': [StandardScaler(), 'passthrough']}\n]",
      "metadata": {},
      "outputs": [],
      "execution_count": 35
    },
    {
      "cell_type": "code",
      "source": "rs = RandomizedSearchCV(\n    pipe_final, \n    param_grid, \n    cv=5, \n    scoring='neg_root_mean_squared_error',\n    random_state=RANDOM_STATE,\n    n_jobs=-1,\n    verbose=False\n)",
      "metadata": {},
      "outputs": [],
      "execution_count": 36
    },
    {
      "cell_type": "markdown",
      "source": "## Анализ моделей",
      "metadata": {}
    },
    {
      "cell_type": "code",
      "source": "%%time\n\nrs.fit(X_train, y_train)\n\nprint('Лучшая модель и её параметры:\\n\\n', rs.best_estimator_)\nprint('Метрика лучшей модели на тренировочной выборке:', rs.best_score_*(-1))",
      "metadata": {},
      "outputs": [
        {
          "name": "stdout",
          "output_type": "stream",
          "text": [
            "Лучшая модель и её параметры:\n",
            "\n",
            " Pipeline(steps=[('preprocessor',\n",
            "                 ColumnTransformer(remainder='passthrough',\n",
            "                                   transformers=[('ohe',\n",
            "                                                  Pipeline(steps=[('ohe',\n",
            "                                                                   OneHotEncoder(drop='first',\n",
            "                                                                                 handle_unknown='infrequent_if_exist',\n",
            "                                                                                 sparse_output=False))]),\n",
            "                                                  ['model', 'brand',\n",
            "                                                   'vehicle_type', 'gearbox',\n",
            "                                                   'fuel_type', 'repaired']),\n",
            "                                                 ('num', StandardScaler(),\n",
            "                                                  ['registration_year', 'power',\n",
            "                                                   'kilometer'])])),\n",
            "                ('models',\n",
            "                 RandomForestRegressor(max_depth=8, n_estimators=7,\n",
            "                                       random_state=42))])\n",
            "Метрика лучшей модели на тренировочной выборке: 2076.609380046212\n",
            "CPU times: user 18min 34s, sys: 42.8 s, total: 19min 17s\n",
            "Wall time: 19min 22s\n"
          ]
        }
      ],
      "execution_count": 38
    },
    {
      "cell_type": "code",
      "source": "model_params = []\n\nfor model in rs.cv_results_['param_models']:\n    print(model)\n    print(model.get_params())\n    model_params.append(model.get_params())\n    print()",
      "metadata": {},
      "outputs": [
        {
          "name": "stdout",
          "output_type": "stream",
          "text": [
            "RandomForestRegressor(random_state=42)\n",
            "{'bootstrap': True, 'ccp_alpha': 0.0, 'criterion': 'squared_error', 'max_depth': None, 'max_features': 1.0, 'max_leaf_nodes': None, 'max_samples': None, 'min_impurity_decrease': 0.0, 'min_samples_leaf': 1, 'min_samples_split': 2, 'min_weight_fraction_leaf': 0.0, 'monotonic_cst': None, 'n_estimators': 100, 'n_jobs': None, 'oob_score': False, 'random_state': 42, 'verbose': 0, 'warm_start': False}\n",
            "\n",
            "RandomForestRegressor(random_state=42)\n",
            "{'bootstrap': True, 'ccp_alpha': 0.0, 'criterion': 'squared_error', 'max_depth': None, 'max_features': 1.0, 'max_leaf_nodes': None, 'max_samples': None, 'min_impurity_decrease': 0.0, 'min_samples_leaf': 1, 'min_samples_split': 2, 'min_weight_fraction_leaf': 0.0, 'monotonic_cst': None, 'n_estimators': 100, 'n_jobs': None, 'oob_score': False, 'random_state': 42, 'verbose': 0, 'warm_start': False}\n",
            "\n",
            "RandomForestRegressor(random_state=42)\n",
            "{'bootstrap': True, 'ccp_alpha': 0.0, 'criterion': 'squared_error', 'max_depth': None, 'max_features': 1.0, 'max_leaf_nodes': None, 'max_samples': None, 'min_impurity_decrease': 0.0, 'min_samples_leaf': 1, 'min_samples_split': 2, 'min_weight_fraction_leaf': 0.0, 'monotonic_cst': None, 'n_estimators': 100, 'n_jobs': None, 'oob_score': False, 'random_state': 42, 'verbose': 0, 'warm_start': False}\n",
            "\n",
            "RandomForestRegressor(random_state=42)\n",
            "{'bootstrap': True, 'ccp_alpha': 0.0, 'criterion': 'squared_error', 'max_depth': None, 'max_features': 1.0, 'max_leaf_nodes': None, 'max_samples': None, 'min_impurity_decrease': 0.0, 'min_samples_leaf': 1, 'min_samples_split': 2, 'min_weight_fraction_leaf': 0.0, 'monotonic_cst': None, 'n_estimators': 100, 'n_jobs': None, 'oob_score': False, 'random_state': 42, 'verbose': 0, 'warm_start': False}\n",
            "\n",
            "DecisionTreeRegressor(random_state=42)\n",
            "{'ccp_alpha': 0.0, 'criterion': 'squared_error', 'max_depth': None, 'max_features': None, 'max_leaf_nodes': None, 'min_impurity_decrease': 0.0, 'min_samples_leaf': 1, 'min_samples_split': 2, 'min_weight_fraction_leaf': 0.0, 'monotonic_cst': None, 'random_state': 42, 'splitter': 'best'}\n",
            "\n",
            "DecisionTreeRegressor(random_state=42)\n",
            "{'ccp_alpha': 0.0, 'criterion': 'squared_error', 'max_depth': None, 'max_features': None, 'max_leaf_nodes': None, 'min_impurity_decrease': 0.0, 'min_samples_leaf': 1, 'min_samples_split': 2, 'min_weight_fraction_leaf': 0.0, 'monotonic_cst': None, 'random_state': 42, 'splitter': 'best'}\n",
            "\n",
            "DecisionTreeRegressor(random_state=42)\n",
            "{'ccp_alpha': 0.0, 'criterion': 'squared_error', 'max_depth': None, 'max_features': None, 'max_leaf_nodes': None, 'min_impurity_decrease': 0.0, 'min_samples_leaf': 1, 'min_samples_split': 2, 'min_weight_fraction_leaf': 0.0, 'monotonic_cst': None, 'random_state': 42, 'splitter': 'best'}\n",
            "\n",
            "DecisionTreeRegressor(random_state=42)\n",
            "{'ccp_alpha': 0.0, 'criterion': 'squared_error', 'max_depth': None, 'max_features': None, 'max_leaf_nodes': None, 'min_impurity_decrease': 0.0, 'min_samples_leaf': 1, 'min_samples_split': 2, 'min_weight_fraction_leaf': 0.0, 'monotonic_cst': None, 'random_state': 42, 'splitter': 'best'}\n",
            "\n",
            "LGBMRegressor(random_state=42)\n",
            "{'boosting_type': 'gbdt', 'class_weight': None, 'colsample_bytree': 1.0, 'importance_type': 'split', 'learning_rate': 0.1, 'max_depth': -1, 'min_child_samples': 20, 'min_child_weight': 0.001, 'min_split_gain': 0.0, 'n_estimators': 100, 'n_jobs': -1, 'num_leaves': 31, 'objective': None, 'random_state': 42, 'reg_alpha': 0.0, 'reg_lambda': 0.0, 'silent': 'warn', 'subsample': 1.0, 'subsample_for_bin': 200000, 'subsample_freq': 0}\n",
            "\n",
            "DecisionTreeRegressor(random_state=42)\n",
            "{'ccp_alpha': 0.0, 'criterion': 'squared_error', 'max_depth': None, 'max_features': None, 'max_leaf_nodes': None, 'min_impurity_decrease': 0.0, 'min_samples_leaf': 1, 'min_samples_split': 2, 'min_weight_fraction_leaf': 0.0, 'monotonic_cst': None, 'random_state': 42, 'splitter': 'best'}\n",
            "\n"
          ]
        }
      ],
      "execution_count": 39
    },
    {
      "cell_type": "code",
      "source": "models_df = pd.DataFrame({'name': [], 'params': [], 'mean_fit_time':[], 'mean_score_time':[], 'mean_test_score':[]})",
      "metadata": {},
      "outputs": [],
      "execution_count": 40
    },
    {
      "cell_type": "code",
      "source": "models_df['name'] = rs.cv_results_['param_models']\nmodels_df['params'] = model_params\nmodels_df['mean_fit_time'] = rs.cv_results_['mean_fit_time']\nmodels_df['mean_score_time'] = rs.cv_results_['mean_score_time']\nmodels_df['mean_test_score'] = rs.cv_results_['mean_test_score']\nmodels_df['rank_test_score'] = rs.cv_results_['rank_test_score']\nmodels_df",
      "metadata": {},
      "outputs": [
        {
          "data": {
            "text/html": [
              "<div>\n",
              "<style scoped>\n",
              "    .dataframe tbody tr th:only-of-type {\n",
              "        vertical-align: middle;\n",
              "    }\n",
              "\n",
              "    .dataframe tbody tr th {\n",
              "        vertical-align: top;\n",
              "    }\n",
              "\n",
              "    .dataframe thead th {\n",
              "        text-align: right;\n",
              "    }\n",
              "</style>\n",
              "<table border=\"1\" class=\"dataframe\">\n",
              "  <thead>\n",
              "    <tr style=\"text-align: right;\">\n",
              "      <th></th>\n",
              "      <th>name</th>\n",
              "      <th>params</th>\n",
              "      <th>mean_fit_time</th>\n",
              "      <th>mean_score_time</th>\n",
              "      <th>mean_test_score</th>\n",
              "      <th>rank_test_score</th>\n",
              "    </tr>\n",
              "  </thead>\n",
              "  <tbody>\n",
              "    <tr>\n",
              "      <th>0</th>\n",
              "      <td>RandomForestRegressor(random_state=42)</td>\n",
              "      <td>{'bootstrap': True, 'ccp_alpha': 0.0, 'criteri...</td>\n",
              "      <td>15.141082</td>\n",
              "      <td>0.309894</td>\n",
              "      <td>-2.076609e+03</td>\n",
              "      <td>1</td>\n",
              "    </tr>\n",
              "    <tr>\n",
              "      <th>1</th>\n",
              "      <td>RandomForestRegressor(random_state=42)</td>\n",
              "      <td>{'bootstrap': True, 'ccp_alpha': 0.0, 'criteri...</td>\n",
              "      <td>6.364844</td>\n",
              "      <td>0.292149</td>\n",
              "      <td>-2.286457e+03</td>\n",
              "      <td>4</td>\n",
              "    </tr>\n",
              "    <tr>\n",
              "      <th>2</th>\n",
              "      <td>RandomForestRegressor(random_state=42)</td>\n",
              "      <td>{'bootstrap': True, 'ccp_alpha': 0.0, 'criteri...</td>\n",
              "      <td>9.048929</td>\n",
              "      <td>0.295349</td>\n",
              "      <td>-2.083077e+03</td>\n",
              "      <td>2</td>\n",
              "    </tr>\n",
              "    <tr>\n",
              "      <th>3</th>\n",
              "      <td>RandomForestRegressor(random_state=42)</td>\n",
              "      <td>{'bootstrap': True, 'ccp_alpha': 0.0, 'criteri...</td>\n",
              "      <td>4.199798</td>\n",
              "      <td>0.274992</td>\n",
              "      <td>-2.439228e+03</td>\n",
              "      <td>5</td>\n",
              "    </tr>\n",
              "    <tr>\n",
              "      <th>4</th>\n",
              "      <td>DecisionTreeRegressor(random_state=42)</td>\n",
              "      <td>{'ccp_alpha': 0.0, 'criterion': 'squared_error...</td>\n",
              "      <td>1.336576</td>\n",
              "      <td>0.268285</td>\n",
              "      <td>-3.517250e+03</td>\n",
              "      <td>7</td>\n",
              "    </tr>\n",
              "    <tr>\n",
              "      <th>5</th>\n",
              "      <td>DecisionTreeRegressor(random_state=42)</td>\n",
              "      <td>{'ccp_alpha': 0.0, 'criterion': 'squared_error...</td>\n",
              "      <td>2.322585</td>\n",
              "      <td>0.292539</td>\n",
              "      <td>-2.200229e+03</td>\n",
              "      <td>3</td>\n",
              "    </tr>\n",
              "    <tr>\n",
              "      <th>6</th>\n",
              "      <td>DecisionTreeRegressor(random_state=42)</td>\n",
              "      <td>{'ccp_alpha': 0.0, 'criterion': 'squared_error...</td>\n",
              "      <td>1.421488</td>\n",
              "      <td>0.283535</td>\n",
              "      <td>-3.507488e+03</td>\n",
              "      <td>6</td>\n",
              "    </tr>\n",
              "    <tr>\n",
              "      <th>7</th>\n",
              "      <td>DecisionTreeRegressor(random_state=42)</td>\n",
              "      <td>{'ccp_alpha': 0.0, 'criterion': 'squared_error...</td>\n",
              "      <td>1.155556</td>\n",
              "      <td>0.267335</td>\n",
              "      <td>-4.591807e+03</td>\n",
              "      <td>9</td>\n",
              "    </tr>\n",
              "    <tr>\n",
              "      <th>8</th>\n",
              "      <td>LGBMRegressor(random_state=42)</td>\n",
              "      <td>{'boosting_type': 'gbdt', 'class_weight': None...</td>\n",
              "      <td>183.788449</td>\n",
              "      <td>0.391961</td>\n",
              "      <td>-8.107822e+38</td>\n",
              "      <td>10</td>\n",
              "    </tr>\n",
              "    <tr>\n",
              "      <th>9</th>\n",
              "      <td>DecisionTreeRegressor(random_state=42)</td>\n",
              "      <td>{'ccp_alpha': 0.0, 'criterion': 'squared_error...</td>\n",
              "      <td>1.121286</td>\n",
              "      <td>0.257909</td>\n",
              "      <td>-3.666854e+03</td>\n",
              "      <td>8</td>\n",
              "    </tr>\n",
              "  </tbody>\n",
              "</table>\n",
              "</div>"
            ],
            "text/plain": [
              "                                     name  \\\n",
              "0  RandomForestRegressor(random_state=42)   \n",
              "1  RandomForestRegressor(random_state=42)   \n",
              "2  RandomForestRegressor(random_state=42)   \n",
              "3  RandomForestRegressor(random_state=42)   \n",
              "4  DecisionTreeRegressor(random_state=42)   \n",
              "5  DecisionTreeRegressor(random_state=42)   \n",
              "6  DecisionTreeRegressor(random_state=42)   \n",
              "7  DecisionTreeRegressor(random_state=42)   \n",
              "8          LGBMRegressor(random_state=42)   \n",
              "9  DecisionTreeRegressor(random_state=42)   \n",
              "\n",
              "                                              params  mean_fit_time  \\\n",
              "0  {'bootstrap': True, 'ccp_alpha': 0.0, 'criteri...      15.141082   \n",
              "1  {'bootstrap': True, 'ccp_alpha': 0.0, 'criteri...       6.364844   \n",
              "2  {'bootstrap': True, 'ccp_alpha': 0.0, 'criteri...       9.048929   \n",
              "3  {'bootstrap': True, 'ccp_alpha': 0.0, 'criteri...       4.199798   \n",
              "4  {'ccp_alpha': 0.0, 'criterion': 'squared_error...       1.336576   \n",
              "5  {'ccp_alpha': 0.0, 'criterion': 'squared_error...       2.322585   \n",
              "6  {'ccp_alpha': 0.0, 'criterion': 'squared_error...       1.421488   \n",
              "7  {'ccp_alpha': 0.0, 'criterion': 'squared_error...       1.155556   \n",
              "8  {'boosting_type': 'gbdt', 'class_weight': None...     183.788449   \n",
              "9  {'ccp_alpha': 0.0, 'criterion': 'squared_error...       1.121286   \n",
              "\n",
              "   mean_score_time  mean_test_score  rank_test_score  \n",
              "0         0.309894    -2.076609e+03                1  \n",
              "1         0.292149    -2.286457e+03                4  \n",
              "2         0.295349    -2.083077e+03                2  \n",
              "3         0.274992    -2.439228e+03                5  \n",
              "4         0.268285    -3.517250e+03                7  \n",
              "5         0.292539    -2.200229e+03                3  \n",
              "6         0.283535    -3.507488e+03                6  \n",
              "7         0.267335    -4.591807e+03                9  \n",
              "8         0.391961    -8.107822e+38               10  \n",
              "9         0.257909    -3.666854e+03                8  "
            ]
          },
          "execution_count": 41,
          "metadata": {},
          "output_type": "execute_result"
        }
      ],
      "execution_count": 41
    },
    {
      "cell_type": "code",
      "source": "%%time\nmodel = rs.best_estimator_\nmodel.fit(X_train, y_train) #замеряем время обучения лучшей модели",
      "metadata": {},
      "outputs": [
        {
          "name": "stdout",
          "output_type": "stream",
          "text": [
            "CPU times: user 17.6 s, sys: 639 ms, total: 18.3 s\n",
            "Wall time: 18.3 s\n"
          ]
        },
        {
          "data": {
            "text/html": [
              "<style>#sk-container-id-1 {\n",
              "  /* Definition of color scheme common for light and dark mode */\n",
              "  --sklearn-color-text: black;\n",
              "  --sklearn-color-line: gray;\n",
              "  /* Definition of color scheme for unfitted estimators */\n",
              "  --sklearn-color-unfitted-level-0: #fff5e6;\n",
              "  --sklearn-color-unfitted-level-1: #f6e4d2;\n",
              "  --sklearn-color-unfitted-level-2: #ffe0b3;\n",
              "  --sklearn-color-unfitted-level-3: chocolate;\n",
              "  /* Definition of color scheme for fitted estimators */\n",
              "  --sklearn-color-fitted-level-0: #f0f8ff;\n",
              "  --sklearn-color-fitted-level-1: #d4ebff;\n",
              "  --sklearn-color-fitted-level-2: #b3dbfd;\n",
              "  --sklearn-color-fitted-level-3: cornflowerblue;\n",
              "\n",
              "  /* Specific color for light theme */\n",
              "  --sklearn-color-text-on-default-background: var(--sg-text-color, var(--theme-code-foreground, var(--jp-content-font-color1, black)));\n",
              "  --sklearn-color-background: var(--sg-background-color, var(--theme-background, var(--jp-layout-color0, white)));\n",
              "  --sklearn-color-border-box: var(--sg-text-color, var(--theme-code-foreground, var(--jp-content-font-color1, black)));\n",
              "  --sklearn-color-icon: #696969;\n",
              "\n",
              "  @media (prefers-color-scheme: dark) {\n",
              "    /* Redefinition of color scheme for dark theme */\n",
              "    --sklearn-color-text-on-default-background: var(--sg-text-color, var(--theme-code-foreground, var(--jp-content-font-color1, white)));\n",
              "    --sklearn-color-background: var(--sg-background-color, var(--theme-background, var(--jp-layout-color0, #111)));\n",
              "    --sklearn-color-border-box: var(--sg-text-color, var(--theme-code-foreground, var(--jp-content-font-color1, white)));\n",
              "    --sklearn-color-icon: #878787;\n",
              "  }\n",
              "}\n",
              "\n",
              "#sk-container-id-1 {\n",
              "  color: var(--sklearn-color-text);\n",
              "}\n",
              "\n",
              "#sk-container-id-1 pre {\n",
              "  padding: 0;\n",
              "}\n",
              "\n",
              "#sk-container-id-1 input.sk-hidden--visually {\n",
              "  border: 0;\n",
              "  clip: rect(1px 1px 1px 1px);\n",
              "  clip: rect(1px, 1px, 1px, 1px);\n",
              "  height: 1px;\n",
              "  margin: -1px;\n",
              "  overflow: hidden;\n",
              "  padding: 0;\n",
              "  position: absolute;\n",
              "  width: 1px;\n",
              "}\n",
              "\n",
              "#sk-container-id-1 div.sk-dashed-wrapped {\n",
              "  border: 1px dashed var(--sklearn-color-line);\n",
              "  margin: 0 0.4em 0.5em 0.4em;\n",
              "  box-sizing: border-box;\n",
              "  padding-bottom: 0.4em;\n",
              "  background-color: var(--sklearn-color-background);\n",
              "}\n",
              "\n",
              "#sk-container-id-1 div.sk-container {\n",
              "  /* jupyter's `normalize.less` sets `[hidden] { display: none; }`\n",
              "     but bootstrap.min.css set `[hidden] { display: none !important; }`\n",
              "     so we also need the `!important` here to be able to override the\n",
              "     default hidden behavior on the sphinx rendered scikit-learn.org.\n",
              "     See: https://github.com/scikit-learn/scikit-learn/issues/21755 */\n",
              "  display: inline-block !important;\n",
              "  position: relative;\n",
              "}\n",
              "\n",
              "#sk-container-id-1 div.sk-text-repr-fallback {\n",
              "  display: none;\n",
              "}\n",
              "\n",
              "div.sk-parallel-item,\n",
              "div.sk-serial,\n",
              "div.sk-item {\n",
              "  /* draw centered vertical line to link estimators */\n",
              "  background-image: linear-gradient(var(--sklearn-color-text-on-default-background), var(--sklearn-color-text-on-default-background));\n",
              "  background-size: 2px 100%;\n",
              "  background-repeat: no-repeat;\n",
              "  background-position: center center;\n",
              "}\n",
              "\n",
              "/* Parallel-specific style estimator block */\n",
              "\n",
              "#sk-container-id-1 div.sk-parallel-item::after {\n",
              "  content: \"\";\n",
              "  width: 100%;\n",
              "  border-bottom: 2px solid var(--sklearn-color-text-on-default-background);\n",
              "  flex-grow: 1;\n",
              "}\n",
              "\n",
              "#sk-container-id-1 div.sk-parallel {\n",
              "  display: flex;\n",
              "  align-items: stretch;\n",
              "  justify-content: center;\n",
              "  background-color: var(--sklearn-color-background);\n",
              "  position: relative;\n",
              "}\n",
              "\n",
              "#sk-container-id-1 div.sk-parallel-item {\n",
              "  display: flex;\n",
              "  flex-direction: column;\n",
              "}\n",
              "\n",
              "#sk-container-id-1 div.sk-parallel-item:first-child::after {\n",
              "  align-self: flex-end;\n",
              "  width: 50%;\n",
              "}\n",
              "\n",
              "#sk-container-id-1 div.sk-parallel-item:last-child::after {\n",
              "  align-self: flex-start;\n",
              "  width: 50%;\n",
              "}\n",
              "\n",
              "#sk-container-id-1 div.sk-parallel-item:only-child::after {\n",
              "  width: 0;\n",
              "}\n",
              "\n",
              "/* Serial-specific style estimator block */\n",
              "\n",
              "#sk-container-id-1 div.sk-serial {\n",
              "  display: flex;\n",
              "  flex-direction: column;\n",
              "  align-items: center;\n",
              "  background-color: var(--sklearn-color-background);\n",
              "  padding-right: 1em;\n",
              "  padding-left: 1em;\n",
              "}\n",
              "\n",
              "\n",
              "/* Toggleable style: style used for estimator/Pipeline/ColumnTransformer box that is\n",
              "clickable and can be expanded/collapsed.\n",
              "- Pipeline and ColumnTransformer use this feature and define the default style\n",
              "- Estimators will overwrite some part of the style using the `sk-estimator` class\n",
              "*/\n",
              "\n",
              "/* Pipeline and ColumnTransformer style (default) */\n",
              "\n",
              "#sk-container-id-1 div.sk-toggleable {\n",
              "  /* Default theme specific background. It is overwritten whether we have a\n",
              "  specific estimator or a Pipeline/ColumnTransformer */\n",
              "  background-color: var(--sklearn-color-background);\n",
              "}\n",
              "\n",
              "/* Toggleable label */\n",
              "#sk-container-id-1 label.sk-toggleable__label {\n",
              "  cursor: pointer;\n",
              "  display: block;\n",
              "  width: 100%;\n",
              "  margin-bottom: 0;\n",
              "  padding: 0.5em;\n",
              "  box-sizing: border-box;\n",
              "  text-align: center;\n",
              "}\n",
              "\n",
              "#sk-container-id-1 label.sk-toggleable__label-arrow:before {\n",
              "  /* Arrow on the left of the label */\n",
              "  content: \"▸\";\n",
              "  float: left;\n",
              "  margin-right: 0.25em;\n",
              "  color: var(--sklearn-color-icon);\n",
              "}\n",
              "\n",
              "#sk-container-id-1 label.sk-toggleable__label-arrow:hover:before {\n",
              "  color: var(--sklearn-color-text);\n",
              "}\n",
              "\n",
              "/* Toggleable content - dropdown */\n",
              "\n",
              "#sk-container-id-1 div.sk-toggleable__content {\n",
              "  max-height: 0;\n",
              "  max-width: 0;\n",
              "  overflow: hidden;\n",
              "  text-align: left;\n",
              "  /* unfitted */\n",
              "  background-color: var(--sklearn-color-unfitted-level-0);\n",
              "}\n",
              "\n",
              "#sk-container-id-1 div.sk-toggleable__content.fitted {\n",
              "  /* fitted */\n",
              "  background-color: var(--sklearn-color-fitted-level-0);\n",
              "}\n",
              "\n",
              "#sk-container-id-1 div.sk-toggleable__content pre {\n",
              "  margin: 0.2em;\n",
              "  border-radius: 0.25em;\n",
              "  color: var(--sklearn-color-text);\n",
              "  /* unfitted */\n",
              "  background-color: var(--sklearn-color-unfitted-level-0);\n",
              "}\n",
              "\n",
              "#sk-container-id-1 div.sk-toggleable__content.fitted pre {\n",
              "  /* unfitted */\n",
              "  background-color: var(--sklearn-color-fitted-level-0);\n",
              "}\n",
              "\n",
              "#sk-container-id-1 input.sk-toggleable__control:checked~div.sk-toggleable__content {\n",
              "  /* Expand drop-down */\n",
              "  max-height: 200px;\n",
              "  max-width: 100%;\n",
              "  overflow: auto;\n",
              "}\n",
              "\n",
              "#sk-container-id-1 input.sk-toggleable__control:checked~label.sk-toggleable__label-arrow:before {\n",
              "  content: \"▾\";\n",
              "}\n",
              "\n",
              "/* Pipeline/ColumnTransformer-specific style */\n",
              "\n",
              "#sk-container-id-1 div.sk-label input.sk-toggleable__control:checked~label.sk-toggleable__label {\n",
              "  color: var(--sklearn-color-text);\n",
              "  background-color: var(--sklearn-color-unfitted-level-2);\n",
              "}\n",
              "\n",
              "#sk-container-id-1 div.sk-label.fitted input.sk-toggleable__control:checked~label.sk-toggleable__label {\n",
              "  background-color: var(--sklearn-color-fitted-level-2);\n",
              "}\n",
              "\n",
              "/* Estimator-specific style */\n",
              "\n",
              "/* Colorize estimator box */\n",
              "#sk-container-id-1 div.sk-estimator input.sk-toggleable__control:checked~label.sk-toggleable__label {\n",
              "  /* unfitted */\n",
              "  background-color: var(--sklearn-color-unfitted-level-2);\n",
              "}\n",
              "\n",
              "#sk-container-id-1 div.sk-estimator.fitted input.sk-toggleable__control:checked~label.sk-toggleable__label {\n",
              "  /* fitted */\n",
              "  background-color: var(--sklearn-color-fitted-level-2);\n",
              "}\n",
              "\n",
              "#sk-container-id-1 div.sk-label label.sk-toggleable__label,\n",
              "#sk-container-id-1 div.sk-label label {\n",
              "  /* The background is the default theme color */\n",
              "  color: var(--sklearn-color-text-on-default-background);\n",
              "}\n",
              "\n",
              "/* On hover, darken the color of the background */\n",
              "#sk-container-id-1 div.sk-label:hover label.sk-toggleable__label {\n",
              "  color: var(--sklearn-color-text);\n",
              "  background-color: var(--sklearn-color-unfitted-level-2);\n",
              "}\n",
              "\n",
              "/* Label box, darken color on hover, fitted */\n",
              "#sk-container-id-1 div.sk-label.fitted:hover label.sk-toggleable__label.fitted {\n",
              "  color: var(--sklearn-color-text);\n",
              "  background-color: var(--sklearn-color-fitted-level-2);\n",
              "}\n",
              "\n",
              "/* Estimator label */\n",
              "\n",
              "#sk-container-id-1 div.sk-label label {\n",
              "  font-family: monospace;\n",
              "  font-weight: bold;\n",
              "  display: inline-block;\n",
              "  line-height: 1.2em;\n",
              "}\n",
              "\n",
              "#sk-container-id-1 div.sk-label-container {\n",
              "  text-align: center;\n",
              "}\n",
              "\n",
              "/* Estimator-specific */\n",
              "#sk-container-id-1 div.sk-estimator {\n",
              "  font-family: monospace;\n",
              "  border: 1px dotted var(--sklearn-color-border-box);\n",
              "  border-radius: 0.25em;\n",
              "  box-sizing: border-box;\n",
              "  margin-bottom: 0.5em;\n",
              "  /* unfitted */\n",
              "  background-color: var(--sklearn-color-unfitted-level-0);\n",
              "}\n",
              "\n",
              "#sk-container-id-1 div.sk-estimator.fitted {\n",
              "  /* fitted */\n",
              "  background-color: var(--sklearn-color-fitted-level-0);\n",
              "}\n",
              "\n",
              "/* on hover */\n",
              "#sk-container-id-1 div.sk-estimator:hover {\n",
              "  /* unfitted */\n",
              "  background-color: var(--sklearn-color-unfitted-level-2);\n",
              "}\n",
              "\n",
              "#sk-container-id-1 div.sk-estimator.fitted:hover {\n",
              "  /* fitted */\n",
              "  background-color: var(--sklearn-color-fitted-level-2);\n",
              "}\n",
              "\n",
              "/* Specification for estimator info (e.g. \"i\" and \"?\") */\n",
              "\n",
              "/* Common style for \"i\" and \"?\" */\n",
              "\n",
              ".sk-estimator-doc-link,\n",
              "a:link.sk-estimator-doc-link,\n",
              "a:visited.sk-estimator-doc-link {\n",
              "  float: right;\n",
              "  font-size: smaller;\n",
              "  line-height: 1em;\n",
              "  font-family: monospace;\n",
              "  background-color: var(--sklearn-color-background);\n",
              "  border-radius: 1em;\n",
              "  height: 1em;\n",
              "  width: 1em;\n",
              "  text-decoration: none !important;\n",
              "  margin-left: 1ex;\n",
              "  /* unfitted */\n",
              "  border: var(--sklearn-color-unfitted-level-1) 1pt solid;\n",
              "  color: var(--sklearn-color-unfitted-level-1);\n",
              "}\n",
              "\n",
              ".sk-estimator-doc-link.fitted,\n",
              "a:link.sk-estimator-doc-link.fitted,\n",
              "a:visited.sk-estimator-doc-link.fitted {\n",
              "  /* fitted */\n",
              "  border: var(--sklearn-color-fitted-level-1) 1pt solid;\n",
              "  color: var(--sklearn-color-fitted-level-1);\n",
              "}\n",
              "\n",
              "/* On hover */\n",
              "div.sk-estimator:hover .sk-estimator-doc-link:hover,\n",
              ".sk-estimator-doc-link:hover,\n",
              "div.sk-label-container:hover .sk-estimator-doc-link:hover,\n",
              ".sk-estimator-doc-link:hover {\n",
              "  /* unfitted */\n",
              "  background-color: var(--sklearn-color-unfitted-level-3);\n",
              "  color: var(--sklearn-color-background);\n",
              "  text-decoration: none;\n",
              "}\n",
              "\n",
              "div.sk-estimator.fitted:hover .sk-estimator-doc-link.fitted:hover,\n",
              ".sk-estimator-doc-link.fitted:hover,\n",
              "div.sk-label-container:hover .sk-estimator-doc-link.fitted:hover,\n",
              ".sk-estimator-doc-link.fitted:hover {\n",
              "  /* fitted */\n",
              "  background-color: var(--sklearn-color-fitted-level-3);\n",
              "  color: var(--sklearn-color-background);\n",
              "  text-decoration: none;\n",
              "}\n",
              "\n",
              "/* Span, style for the box shown on hovering the info icon */\n",
              ".sk-estimator-doc-link span {\n",
              "  display: none;\n",
              "  z-index: 9999;\n",
              "  position: relative;\n",
              "  font-weight: normal;\n",
              "  right: .2ex;\n",
              "  padding: .5ex;\n",
              "  margin: .5ex;\n",
              "  width: min-content;\n",
              "  min-width: 20ex;\n",
              "  max-width: 50ex;\n",
              "  color: var(--sklearn-color-text);\n",
              "  box-shadow: 2pt 2pt 4pt #999;\n",
              "  /* unfitted */\n",
              "  background: var(--sklearn-color-unfitted-level-0);\n",
              "  border: .5pt solid var(--sklearn-color-unfitted-level-3);\n",
              "}\n",
              "\n",
              ".sk-estimator-doc-link.fitted span {\n",
              "  /* fitted */\n",
              "  background: var(--sklearn-color-fitted-level-0);\n",
              "  border: var(--sklearn-color-fitted-level-3);\n",
              "}\n",
              "\n",
              ".sk-estimator-doc-link:hover span {\n",
              "  display: block;\n",
              "}\n",
              "\n",
              "/* \"?\"-specific style due to the `<a>` HTML tag */\n",
              "\n",
              "#sk-container-id-1 a.estimator_doc_link {\n",
              "  float: right;\n",
              "  font-size: 1rem;\n",
              "  line-height: 1em;\n",
              "  font-family: monospace;\n",
              "  background-color: var(--sklearn-color-background);\n",
              "  border-radius: 1rem;\n",
              "  height: 1rem;\n",
              "  width: 1rem;\n",
              "  text-decoration: none;\n",
              "  /* unfitted */\n",
              "  color: var(--sklearn-color-unfitted-level-1);\n",
              "  border: var(--sklearn-color-unfitted-level-1) 1pt solid;\n",
              "}\n",
              "\n",
              "#sk-container-id-1 a.estimator_doc_link.fitted {\n",
              "  /* fitted */\n",
              "  border: var(--sklearn-color-fitted-level-1) 1pt solid;\n",
              "  color: var(--sklearn-color-fitted-level-1);\n",
              "}\n",
              "\n",
              "/* On hover */\n",
              "#sk-container-id-1 a.estimator_doc_link:hover {\n",
              "  /* unfitted */\n",
              "  background-color: var(--sklearn-color-unfitted-level-3);\n",
              "  color: var(--sklearn-color-background);\n",
              "  text-decoration: none;\n",
              "}\n",
              "\n",
              "#sk-container-id-1 a.estimator_doc_link.fitted:hover {\n",
              "  /* fitted */\n",
              "  background-color: var(--sklearn-color-fitted-level-3);\n",
              "}\n",
              "</style><div id=\"sk-container-id-1\" class=\"sk-top-container\"><div class=\"sk-text-repr-fallback\"><pre>Pipeline(steps=[(&#x27;preprocessor&#x27;,\n",
              "                 ColumnTransformer(remainder=&#x27;passthrough&#x27;,\n",
              "                                   transformers=[(&#x27;ohe&#x27;,\n",
              "                                                  Pipeline(steps=[(&#x27;ohe&#x27;,\n",
              "                                                                   OneHotEncoder(drop=&#x27;first&#x27;,\n",
              "                                                                                 handle_unknown=&#x27;infrequent_if_exist&#x27;,\n",
              "                                                                                 sparse_output=False))]),\n",
              "                                                  [&#x27;model&#x27;, &#x27;brand&#x27;,\n",
              "                                                   &#x27;vehicle_type&#x27;, &#x27;gearbox&#x27;,\n",
              "                                                   &#x27;fuel_type&#x27;, &#x27;repaired&#x27;]),\n",
              "                                                 (&#x27;num&#x27;, StandardScaler(),\n",
              "                                                  [&#x27;registration_year&#x27;, &#x27;power&#x27;,\n",
              "                                                   &#x27;kilometer&#x27;])])),\n",
              "                (&#x27;models&#x27;,\n",
              "                 RandomForestRegressor(max_depth=8, n_estimators=7,\n",
              "                                       random_state=42))])</pre><b>In a Jupyter environment, please rerun this cell to show the HTML representation or trust the notebook. <br />On GitHub, the HTML representation is unable to render, please try loading this page with nbviewer.org.</b></div><div class=\"sk-container\" hidden><div class=\"sk-item sk-dashed-wrapped\"><div class=\"sk-label-container\"><div class=\"sk-label fitted sk-toggleable\"><input class=\"sk-toggleable__control sk-hidden--visually\" id=\"sk-estimator-id-1\" type=\"checkbox\" ><label for=\"sk-estimator-id-1\" class=\"sk-toggleable__label fitted sk-toggleable__label-arrow fitted\">&nbsp;&nbsp;Pipeline<a class=\"sk-estimator-doc-link fitted\" rel=\"noreferrer\" target=\"_blank\" href=\"https://scikit-learn.org/1.4/modules/generated/sklearn.pipeline.Pipeline.html\">?<span>Documentation for Pipeline</span></a><span class=\"sk-estimator-doc-link fitted\">i<span>Fitted</span></span></label><div class=\"sk-toggleable__content fitted\"><pre>Pipeline(steps=[(&#x27;preprocessor&#x27;,\n",
              "                 ColumnTransformer(remainder=&#x27;passthrough&#x27;,\n",
              "                                   transformers=[(&#x27;ohe&#x27;,\n",
              "                                                  Pipeline(steps=[(&#x27;ohe&#x27;,\n",
              "                                                                   OneHotEncoder(drop=&#x27;first&#x27;,\n",
              "                                                                                 handle_unknown=&#x27;infrequent_if_exist&#x27;,\n",
              "                                                                                 sparse_output=False))]),\n",
              "                                                  [&#x27;model&#x27;, &#x27;brand&#x27;,\n",
              "                                                   &#x27;vehicle_type&#x27;, &#x27;gearbox&#x27;,\n",
              "                                                   &#x27;fuel_type&#x27;, &#x27;repaired&#x27;]),\n",
              "                                                 (&#x27;num&#x27;, StandardScaler(),\n",
              "                                                  [&#x27;registration_year&#x27;, &#x27;power&#x27;,\n",
              "                                                   &#x27;kilometer&#x27;])])),\n",
              "                (&#x27;models&#x27;,\n",
              "                 RandomForestRegressor(max_depth=8, n_estimators=7,\n",
              "                                       random_state=42))])</pre></div> </div></div><div class=\"sk-serial\"><div class=\"sk-item sk-dashed-wrapped\"><div class=\"sk-label-container\"><div class=\"sk-label fitted sk-toggleable\"><input class=\"sk-toggleable__control sk-hidden--visually\" id=\"sk-estimator-id-2\" type=\"checkbox\" ><label for=\"sk-estimator-id-2\" class=\"sk-toggleable__label fitted sk-toggleable__label-arrow fitted\">&nbsp;preprocessor: ColumnTransformer<a class=\"sk-estimator-doc-link fitted\" rel=\"noreferrer\" target=\"_blank\" href=\"https://scikit-learn.org/1.4/modules/generated/sklearn.compose.ColumnTransformer.html\">?<span>Documentation for preprocessor: ColumnTransformer</span></a></label><div class=\"sk-toggleable__content fitted\"><pre>ColumnTransformer(remainder=&#x27;passthrough&#x27;,\n",
              "                  transformers=[(&#x27;ohe&#x27;,\n",
              "                                 Pipeline(steps=[(&#x27;ohe&#x27;,\n",
              "                                                  OneHotEncoder(drop=&#x27;first&#x27;,\n",
              "                                                                handle_unknown=&#x27;infrequent_if_exist&#x27;,\n",
              "                                                                sparse_output=False))]),\n",
              "                                 [&#x27;model&#x27;, &#x27;brand&#x27;, &#x27;vehicle_type&#x27;, &#x27;gearbox&#x27;,\n",
              "                                  &#x27;fuel_type&#x27;, &#x27;repaired&#x27;]),\n",
              "                                (&#x27;num&#x27;, StandardScaler(),\n",
              "                                 [&#x27;registration_year&#x27;, &#x27;power&#x27;, &#x27;kilometer&#x27;])])</pre></div> </div></div><div class=\"sk-parallel\"><div class=\"sk-parallel-item\"><div class=\"sk-item\"><div class=\"sk-label-container\"><div class=\"sk-label fitted sk-toggleable\"><input class=\"sk-toggleable__control sk-hidden--visually\" id=\"sk-estimator-id-3\" type=\"checkbox\" ><label for=\"sk-estimator-id-3\" class=\"sk-toggleable__label fitted sk-toggleable__label-arrow fitted\">ohe</label><div class=\"sk-toggleable__content fitted\"><pre>[&#x27;model&#x27;, &#x27;brand&#x27;, &#x27;vehicle_type&#x27;, &#x27;gearbox&#x27;, &#x27;fuel_type&#x27;, &#x27;repaired&#x27;]</pre></div> </div></div><div class=\"sk-serial\"><div class=\"sk-item\"><div class=\"sk-serial\"><div class=\"sk-item\"><div class=\"sk-estimator fitted sk-toggleable\"><input class=\"sk-toggleable__control sk-hidden--visually\" id=\"sk-estimator-id-4\" type=\"checkbox\" ><label for=\"sk-estimator-id-4\" class=\"sk-toggleable__label fitted sk-toggleable__label-arrow fitted\">&nbsp;OneHotEncoder<a class=\"sk-estimator-doc-link fitted\" rel=\"noreferrer\" target=\"_blank\" href=\"https://scikit-learn.org/1.4/modules/generated/sklearn.preprocessing.OneHotEncoder.html\">?<span>Documentation for OneHotEncoder</span></a></label><div class=\"sk-toggleable__content fitted\"><pre>OneHotEncoder(drop=&#x27;first&#x27;, handle_unknown=&#x27;infrequent_if_exist&#x27;,\n",
              "              sparse_output=False)</pre></div> </div></div></div></div></div></div></div><div class=\"sk-parallel-item\"><div class=\"sk-item\"><div class=\"sk-label-container\"><div class=\"sk-label fitted sk-toggleable\"><input class=\"sk-toggleable__control sk-hidden--visually\" id=\"sk-estimator-id-5\" type=\"checkbox\" ><label for=\"sk-estimator-id-5\" class=\"sk-toggleable__label fitted sk-toggleable__label-arrow fitted\">num</label><div class=\"sk-toggleable__content fitted\"><pre>[&#x27;registration_year&#x27;, &#x27;power&#x27;, &#x27;kilometer&#x27;]</pre></div> </div></div><div class=\"sk-serial\"><div class=\"sk-item\"><div class=\"sk-estimator fitted sk-toggleable\"><input class=\"sk-toggleable__control sk-hidden--visually\" id=\"sk-estimator-id-6\" type=\"checkbox\" ><label for=\"sk-estimator-id-6\" class=\"sk-toggleable__label fitted sk-toggleable__label-arrow fitted\">&nbsp;StandardScaler<a class=\"sk-estimator-doc-link fitted\" rel=\"noreferrer\" target=\"_blank\" href=\"https://scikit-learn.org/1.4/modules/generated/sklearn.preprocessing.StandardScaler.html\">?<span>Documentation for StandardScaler</span></a></label><div class=\"sk-toggleable__content fitted\"><pre>StandardScaler()</pre></div> </div></div></div></div></div><div class=\"sk-parallel-item\"><div class=\"sk-item\"><div class=\"sk-label-container\"><div class=\"sk-label fitted sk-toggleable\"><input class=\"sk-toggleable__control sk-hidden--visually\" id=\"sk-estimator-id-7\" type=\"checkbox\" ><label for=\"sk-estimator-id-7\" class=\"sk-toggleable__label fitted sk-toggleable__label-arrow fitted\">remainder</label><div class=\"sk-toggleable__content fitted\"><pre>[]</pre></div> </div></div><div class=\"sk-serial\"><div class=\"sk-item\"><div class=\"sk-estimator fitted sk-toggleable\"><input class=\"sk-toggleable__control sk-hidden--visually\" id=\"sk-estimator-id-8\" type=\"checkbox\" ><label for=\"sk-estimator-id-8\" class=\"sk-toggleable__label fitted sk-toggleable__label-arrow fitted\">passthrough</label><div class=\"sk-toggleable__content fitted\"><pre>passthrough</pre></div> </div></div></div></div></div></div></div><div class=\"sk-item\"><div class=\"sk-estimator fitted sk-toggleable\"><input class=\"sk-toggleable__control sk-hidden--visually\" id=\"sk-estimator-id-9\" type=\"checkbox\" ><label for=\"sk-estimator-id-9\" class=\"sk-toggleable__label fitted sk-toggleable__label-arrow fitted\">&nbsp;RandomForestRegressor<a class=\"sk-estimator-doc-link fitted\" rel=\"noreferrer\" target=\"_blank\" href=\"https://scikit-learn.org/1.4/modules/generated/sklearn.ensemble.RandomForestRegressor.html\">?<span>Documentation for RandomForestRegressor</span></a></label><div class=\"sk-toggleable__content fitted\"><pre>RandomForestRegressor(max_depth=8, n_estimators=7, random_state=42)</pre></div> </div></div></div></div></div></div>"
            ],
            "text/plain": [
              "Pipeline(steps=[('preprocessor',\n",
              "                 ColumnTransformer(remainder='passthrough',\n",
              "                                   transformers=[('ohe',\n",
              "                                                  Pipeline(steps=[('ohe',\n",
              "                                                                   OneHotEncoder(drop='first',\n",
              "                                                                                 handle_unknown='infrequent_if_exist',\n",
              "                                                                                 sparse_output=False))]),\n",
              "                                                  ['model', 'brand',\n",
              "                                                   'vehicle_type', 'gearbox',\n",
              "                                                   'fuel_type', 'repaired']),\n",
              "                                                 ('num', StandardScaler(),\n",
              "                                                  ['registration_year', 'power',\n",
              "                                                   'kilometer'])])),\n",
              "                ('models',\n",
              "                 RandomForestRegressor(max_depth=8, n_estimators=7,\n",
              "                                       random_state=42))])"
            ]
          },
          "execution_count": 42,
          "metadata": {},
          "output_type": "execute_result"
        }
      ],
      "execution_count": 42
    },
    {
      "cell_type": "code",
      "source": "%%time\nmodel.predict(X_train) #замеряем время предсказания",
      "metadata": {},
      "outputs": [
        {
          "name": "stdout",
          "output_type": "stream",
          "text": [
            "CPU times: user 777 ms, sys: 651 ms, total: 1.43 s\n",
            "Wall time: 1.43 s\n"
          ]
        },
        {
          "data": {
            "text/plain": [
              "array([6609.70746047, 1637.46621282, 4141.09458694, ..., 3335.3663699 ,\n",
              "       7975.01222149, 7642.69973509])"
            ]
          },
          "execution_count": 43,
          "metadata": {},
          "output_type": "execute_result"
        }
      ],
      "execution_count": 43
    },
    {
      "cell_type": "code",
      "source": "%%time\ny_pred = model.predict(X_test)\nrmse = np.sqrt(mean_squared_error(y_test, y_pred))\nrmse",
      "metadata": {},
      "outputs": [
        {
          "name": "stdout",
          "output_type": "stream",
          "text": [
            "CPU times: user 238 ms, sys: 243 ms, total: 481 ms\n",
            "Wall time: 487 ms\n"
          ]
        },
        {
          "data": {
            "text/plain": [
              "2078.424342008629"
            ]
          },
          "execution_count": 44,
          "metadata": {},
          "output_type": "execute_result"
        }
      ],
      "execution_count": 44
    }
  ]
}